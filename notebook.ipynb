{
 "cells": [
  {
   "cell_type": "markdown",
   "metadata": {},
   "source": [
    "# Практическая работа №12"
   ]
  },
  {
   "cell_type": "markdown",
   "metadata": {},
   "source": [
    "## Задание 1\n",
    "\n",
    "Найти данные для задачи классификации или для задачи регрессии.\n"
   ]
  },
  {
   "cell_type": "markdown",
   "metadata": {},
   "source": [
    "В астрономии, спектральная классификация звёзд - это классификация звёзд по особенностям их спектров.\n",
    "Схема классификации галактик, квазаров и звезд является одной из самых фундаментальных вещей в астрономии.\n",
    "\n",
    "Приведенные ниже данные содержат 100 тысяч записей, полученных SDSS (Sloan Digital Sky Survey, или Слоановский цифровой небесный обзор).\n",
    "Этот проект назван в честь фонда Альфреда Слоана и предназначен для широкомасштабного исследования многоспектральных изображений и спектров красного смещения звёзд и галактик при помощи 2,5-метрового широкоугольного телескопа в обсерватории Апачи-Пойнт в штате Нью-Мексико.\n",
    "Каждая запись состоит из 17 различных признаков и 1 признака с данными о принадлежности записи к определенному классу: звезда, галактика или квазар.\n",
    "\n",
    "Описание каждого параметра:\n",
    "- `obj_ID` = Object Identifier, the unique value that identifies the object in the image catalog used by the CAS\n",
    "- `alpha` = Right Ascension angle (at J2000 epoch)\n",
    "- `delta` = Declination angle (at J2000 epoch)\n",
    "- `u` = Ultraviolet filter in the photometric system\n",
    "- `g` = Green filter in the photometric system\n",
    "- `r` = Red filter in the photometric system\n",
    "- `i` = Near Infrared filter in the photometric system\n",
    "- `z` = Infrared filter in the photometric system\n",
    "- `run_ID` = Run Number used to identify the specific scan\n",
    "- `rereun_ID` = Rerun Number to specify how the image was processed\n",
    "- `cam_col` = Camera column to identify the scanline within the run\n",
    "- `field_ID` = Field number to identify each field\n",
    "- `spec_obj_ID` = Unique ID used for optical spectroscopic objects (this means that 2 different observations with the same `spec_obj_ID` must share the output class)\n",
    "- `class` = object class (galaxy, star or quasar object)\n",
    "- `redshift` = redshift value based on the increase in wavelength\n",
    "- `plate` = plate ID, identifies each plate in SDSS\n",
    "- `MJD` = Modified Julian Date, used to indicate when a given piece of SDSS data was taken\n",
    "- `fiber_ID` = fiber ID that identifies the fiber that pointed the light at the focal plane in each observation"
   ]
  },
  {
   "cell_type": "markdown",
   "metadata": {},
   "source": [
    "Загрузка данных:"
   ]
  },
  {
   "cell_type": "code",
   "execution_count": 1,
   "metadata": {},
   "outputs": [
    {
     "data": {
      "text/html": [
       "<div>\n",
       "<style scoped>\n",
       "    .dataframe tbody tr th:only-of-type {\n",
       "        vertical-align: middle;\n",
       "    }\n",
       "\n",
       "    .dataframe tbody tr th {\n",
       "        vertical-align: top;\n",
       "    }\n",
       "\n",
       "    .dataframe thead th {\n",
       "        text-align: right;\n",
       "    }\n",
       "</style>\n",
       "<table border=\"1\" class=\"dataframe\">\n",
       "  <thead>\n",
       "    <tr style=\"text-align: right;\">\n",
       "      <th></th>\n",
       "      <th>obj_ID</th>\n",
       "      <th>alpha</th>\n",
       "      <th>delta</th>\n",
       "      <th>u</th>\n",
       "      <th>g</th>\n",
       "      <th>r</th>\n",
       "      <th>i</th>\n",
       "      <th>z</th>\n",
       "      <th>run_ID</th>\n",
       "      <th>rerun_ID</th>\n",
       "      <th>cam_col</th>\n",
       "      <th>field_ID</th>\n",
       "      <th>spec_obj_ID</th>\n",
       "      <th>class</th>\n",
       "      <th>redshift</th>\n",
       "      <th>plate</th>\n",
       "      <th>MJD</th>\n",
       "      <th>fiber_ID</th>\n",
       "    </tr>\n",
       "  </thead>\n",
       "  <tbody>\n",
       "    <tr>\n",
       "      <th>0</th>\n",
       "      <td>1.237661e+18</td>\n",
       "      <td>135.689107</td>\n",
       "      <td>32.494632</td>\n",
       "      <td>23.87882</td>\n",
       "      <td>22.27530</td>\n",
       "      <td>20.39501</td>\n",
       "      <td>19.16573</td>\n",
       "      <td>18.79371</td>\n",
       "      <td>3606</td>\n",
       "      <td>301</td>\n",
       "      <td>2</td>\n",
       "      <td>79</td>\n",
       "      <td>6.543777e+18</td>\n",
       "      <td>GALAXY</td>\n",
       "      <td>0.634794</td>\n",
       "      <td>5812</td>\n",
       "      <td>56354</td>\n",
       "      <td>171</td>\n",
       "    </tr>\n",
       "    <tr>\n",
       "      <th>1</th>\n",
       "      <td>1.237665e+18</td>\n",
       "      <td>144.826101</td>\n",
       "      <td>31.274185</td>\n",
       "      <td>24.77759</td>\n",
       "      <td>22.83188</td>\n",
       "      <td>22.58444</td>\n",
       "      <td>21.16812</td>\n",
       "      <td>21.61427</td>\n",
       "      <td>4518</td>\n",
       "      <td>301</td>\n",
       "      <td>5</td>\n",
       "      <td>119</td>\n",
       "      <td>1.176014e+19</td>\n",
       "      <td>GALAXY</td>\n",
       "      <td>0.779136</td>\n",
       "      <td>10445</td>\n",
       "      <td>58158</td>\n",
       "      <td>427</td>\n",
       "    </tr>\n",
       "    <tr>\n",
       "      <th>2</th>\n",
       "      <td>1.237661e+18</td>\n",
       "      <td>142.188790</td>\n",
       "      <td>35.582444</td>\n",
       "      <td>25.26307</td>\n",
       "      <td>22.66389</td>\n",
       "      <td>20.60976</td>\n",
       "      <td>19.34857</td>\n",
       "      <td>18.94827</td>\n",
       "      <td>3606</td>\n",
       "      <td>301</td>\n",
       "      <td>2</td>\n",
       "      <td>120</td>\n",
       "      <td>5.152200e+18</td>\n",
       "      <td>GALAXY</td>\n",
       "      <td>0.644195</td>\n",
       "      <td>4576</td>\n",
       "      <td>55592</td>\n",
       "      <td>299</td>\n",
       "    </tr>\n",
       "    <tr>\n",
       "      <th>3</th>\n",
       "      <td>1.237663e+18</td>\n",
       "      <td>338.741038</td>\n",
       "      <td>-0.402828</td>\n",
       "      <td>22.13682</td>\n",
       "      <td>23.77656</td>\n",
       "      <td>21.61162</td>\n",
       "      <td>20.50454</td>\n",
       "      <td>19.25010</td>\n",
       "      <td>4192</td>\n",
       "      <td>301</td>\n",
       "      <td>3</td>\n",
       "      <td>214</td>\n",
       "      <td>1.030107e+19</td>\n",
       "      <td>GALAXY</td>\n",
       "      <td>0.932346</td>\n",
       "      <td>9149</td>\n",
       "      <td>58039</td>\n",
       "      <td>775</td>\n",
       "    </tr>\n",
       "    <tr>\n",
       "      <th>4</th>\n",
       "      <td>1.237680e+18</td>\n",
       "      <td>345.282593</td>\n",
       "      <td>21.183866</td>\n",
       "      <td>19.43718</td>\n",
       "      <td>17.58028</td>\n",
       "      <td>16.49747</td>\n",
       "      <td>15.97711</td>\n",
       "      <td>15.54461</td>\n",
       "      <td>8102</td>\n",
       "      <td>301</td>\n",
       "      <td>3</td>\n",
       "      <td>137</td>\n",
       "      <td>6.891865e+18</td>\n",
       "      <td>GALAXY</td>\n",
       "      <td>0.116123</td>\n",
       "      <td>6121</td>\n",
       "      <td>56187</td>\n",
       "      <td>842</td>\n",
       "    </tr>\n",
       "    <tr>\n",
       "      <th>...</th>\n",
       "      <td>...</td>\n",
       "      <td>...</td>\n",
       "      <td>...</td>\n",
       "      <td>...</td>\n",
       "      <td>...</td>\n",
       "      <td>...</td>\n",
       "      <td>...</td>\n",
       "      <td>...</td>\n",
       "      <td>...</td>\n",
       "      <td>...</td>\n",
       "      <td>...</td>\n",
       "      <td>...</td>\n",
       "      <td>...</td>\n",
       "      <td>...</td>\n",
       "      <td>...</td>\n",
       "      <td>...</td>\n",
       "      <td>...</td>\n",
       "      <td>...</td>\n",
       "    </tr>\n",
       "    <tr>\n",
       "      <th>99995</th>\n",
       "      <td>1.237679e+18</td>\n",
       "      <td>39.620709</td>\n",
       "      <td>-2.594074</td>\n",
       "      <td>22.16759</td>\n",
       "      <td>22.97586</td>\n",
       "      <td>21.90404</td>\n",
       "      <td>21.30548</td>\n",
       "      <td>20.73569</td>\n",
       "      <td>7778</td>\n",
       "      <td>301</td>\n",
       "      <td>2</td>\n",
       "      <td>581</td>\n",
       "      <td>1.055431e+19</td>\n",
       "      <td>GALAXY</td>\n",
       "      <td>0.000000</td>\n",
       "      <td>9374</td>\n",
       "      <td>57749</td>\n",
       "      <td>438</td>\n",
       "    </tr>\n",
       "    <tr>\n",
       "      <th>99996</th>\n",
       "      <td>1.237679e+18</td>\n",
       "      <td>29.493819</td>\n",
       "      <td>19.798874</td>\n",
       "      <td>22.69118</td>\n",
       "      <td>22.38628</td>\n",
       "      <td>20.45003</td>\n",
       "      <td>19.75759</td>\n",
       "      <td>19.41526</td>\n",
       "      <td>7917</td>\n",
       "      <td>301</td>\n",
       "      <td>1</td>\n",
       "      <td>289</td>\n",
       "      <td>8.586351e+18</td>\n",
       "      <td>GALAXY</td>\n",
       "      <td>0.404895</td>\n",
       "      <td>7626</td>\n",
       "      <td>56934</td>\n",
       "      <td>866</td>\n",
       "    </tr>\n",
       "    <tr>\n",
       "      <th>99997</th>\n",
       "      <td>1.237668e+18</td>\n",
       "      <td>224.587407</td>\n",
       "      <td>15.700707</td>\n",
       "      <td>21.16916</td>\n",
       "      <td>19.26997</td>\n",
       "      <td>18.20428</td>\n",
       "      <td>17.69034</td>\n",
       "      <td>17.35221</td>\n",
       "      <td>5314</td>\n",
       "      <td>301</td>\n",
       "      <td>4</td>\n",
       "      <td>308</td>\n",
       "      <td>3.112008e+18</td>\n",
       "      <td>GALAXY</td>\n",
       "      <td>0.143366</td>\n",
       "      <td>2764</td>\n",
       "      <td>54535</td>\n",
       "      <td>74</td>\n",
       "    </tr>\n",
       "    <tr>\n",
       "      <th>99998</th>\n",
       "      <td>1.237661e+18</td>\n",
       "      <td>212.268621</td>\n",
       "      <td>46.660365</td>\n",
       "      <td>25.35039</td>\n",
       "      <td>21.63757</td>\n",
       "      <td>19.91386</td>\n",
       "      <td>19.07254</td>\n",
       "      <td>18.62482</td>\n",
       "      <td>3650</td>\n",
       "      <td>301</td>\n",
       "      <td>4</td>\n",
       "      <td>131</td>\n",
       "      <td>7.601080e+18</td>\n",
       "      <td>GALAXY</td>\n",
       "      <td>0.455040</td>\n",
       "      <td>6751</td>\n",
       "      <td>56368</td>\n",
       "      <td>470</td>\n",
       "    </tr>\n",
       "    <tr>\n",
       "      <th>99999</th>\n",
       "      <td>1.237661e+18</td>\n",
       "      <td>196.896053</td>\n",
       "      <td>49.464643</td>\n",
       "      <td>22.62171</td>\n",
       "      <td>21.79745</td>\n",
       "      <td>20.60115</td>\n",
       "      <td>20.00959</td>\n",
       "      <td>19.28075</td>\n",
       "      <td>3650</td>\n",
       "      <td>301</td>\n",
       "      <td>4</td>\n",
       "      <td>60</td>\n",
       "      <td>8.343152e+18</td>\n",
       "      <td>GALAXY</td>\n",
       "      <td>0.542944</td>\n",
       "      <td>7410</td>\n",
       "      <td>57104</td>\n",
       "      <td>851</td>\n",
       "    </tr>\n",
       "  </tbody>\n",
       "</table>\n",
       "<p>100000 rows × 18 columns</p>\n",
       "</div>"
      ],
      "text/plain": [
       "             obj_ID       alpha      delta         u         g         r  \\\n",
       "0      1.237661e+18  135.689107  32.494632  23.87882  22.27530  20.39501   \n",
       "1      1.237665e+18  144.826101  31.274185  24.77759  22.83188  22.58444   \n",
       "2      1.237661e+18  142.188790  35.582444  25.26307  22.66389  20.60976   \n",
       "3      1.237663e+18  338.741038  -0.402828  22.13682  23.77656  21.61162   \n",
       "4      1.237680e+18  345.282593  21.183866  19.43718  17.58028  16.49747   \n",
       "...             ...         ...        ...       ...       ...       ...   \n",
       "99995  1.237679e+18   39.620709  -2.594074  22.16759  22.97586  21.90404   \n",
       "99996  1.237679e+18   29.493819  19.798874  22.69118  22.38628  20.45003   \n",
       "99997  1.237668e+18  224.587407  15.700707  21.16916  19.26997  18.20428   \n",
       "99998  1.237661e+18  212.268621  46.660365  25.35039  21.63757  19.91386   \n",
       "99999  1.237661e+18  196.896053  49.464643  22.62171  21.79745  20.60115   \n",
       "\n",
       "              i         z  run_ID  rerun_ID  cam_col  field_ID   spec_obj_ID  \\\n",
       "0      19.16573  18.79371    3606       301        2        79  6.543777e+18   \n",
       "1      21.16812  21.61427    4518       301        5       119  1.176014e+19   \n",
       "2      19.34857  18.94827    3606       301        2       120  5.152200e+18   \n",
       "3      20.50454  19.25010    4192       301        3       214  1.030107e+19   \n",
       "4      15.97711  15.54461    8102       301        3       137  6.891865e+18   \n",
       "...         ...       ...     ...       ...      ...       ...           ...   \n",
       "99995  21.30548  20.73569    7778       301        2       581  1.055431e+19   \n",
       "99996  19.75759  19.41526    7917       301        1       289  8.586351e+18   \n",
       "99997  17.69034  17.35221    5314       301        4       308  3.112008e+18   \n",
       "99998  19.07254  18.62482    3650       301        4       131  7.601080e+18   \n",
       "99999  20.00959  19.28075    3650       301        4        60  8.343152e+18   \n",
       "\n",
       "        class  redshift  plate    MJD  fiber_ID  \n",
       "0      GALAXY  0.634794   5812  56354       171  \n",
       "1      GALAXY  0.779136  10445  58158       427  \n",
       "2      GALAXY  0.644195   4576  55592       299  \n",
       "3      GALAXY  0.932346   9149  58039       775  \n",
       "4      GALAXY  0.116123   6121  56187       842  \n",
       "...       ...       ...    ...    ...       ...  \n",
       "99995  GALAXY  0.000000   9374  57749       438  \n",
       "99996  GALAXY  0.404895   7626  56934       866  \n",
       "99997  GALAXY  0.143366   2764  54535        74  \n",
       "99998  GALAXY  0.455040   6751  56368       470  \n",
       "99999  GALAXY  0.542944   7410  57104       851  \n",
       "\n",
       "[100000 rows x 18 columns]"
      ]
     },
     "execution_count": 1,
     "metadata": {},
     "output_type": "execute_result"
    }
   ],
   "source": [
    "import pandas as pd\n",
    "\n",
    "data = pd.read_csv('star_classification.csv')\n",
    "data"
   ]
  },
  {
   "cell_type": "markdown",
   "metadata": {},
   "source": [
    "Получим краткую сводку о данных:"
   ]
  },
  {
   "cell_type": "code",
   "execution_count": 2,
   "metadata": {},
   "outputs": [
    {
     "name": "stdout",
     "output_type": "stream",
     "text": [
      "<class 'pandas.core.frame.DataFrame'>\n",
      "RangeIndex: 100000 entries, 0 to 99999\n",
      "Data columns (total 18 columns):\n",
      " #   Column       Non-Null Count   Dtype  \n",
      "---  ------       --------------   -----  \n",
      " 0   obj_ID       100000 non-null  float64\n",
      " 1   alpha        100000 non-null  float64\n",
      " 2   delta        100000 non-null  float64\n",
      " 3   u            100000 non-null  float64\n",
      " 4   g            100000 non-null  float64\n",
      " 5   r            100000 non-null  float64\n",
      " 6   i            100000 non-null  float64\n",
      " 7   z            100000 non-null  float64\n",
      " 8   run_ID       100000 non-null  int64  \n",
      " 9   rerun_ID     100000 non-null  int64  \n",
      " 10  cam_col      100000 non-null  int64  \n",
      " 11  field_ID     100000 non-null  int64  \n",
      " 12  spec_obj_ID  100000 non-null  float64\n",
      " 13  class        100000 non-null  object \n",
      " 14  redshift     100000 non-null  float64\n",
      " 15  plate        100000 non-null  int64  \n",
      " 16  MJD          100000 non-null  int64  \n",
      " 17  fiber_ID     100000 non-null  int64  \n",
      "dtypes: float64(10), int64(7), object(1)\n",
      "memory usage: 13.7+ MB\n"
     ]
    }
   ],
   "source": [
    "data.info()"
   ]
  },
  {
   "cell_type": "markdown",
   "metadata": {},
   "source": [
    "Получим описание данных:"
   ]
  },
  {
   "cell_type": "code",
   "execution_count": 3,
   "metadata": {},
   "outputs": [
    {
     "data": {
      "text/html": [
       "<div>\n",
       "<style scoped>\n",
       "    .dataframe tbody tr th:only-of-type {\n",
       "        vertical-align: middle;\n",
       "    }\n",
       "\n",
       "    .dataframe tbody tr th {\n",
       "        vertical-align: top;\n",
       "    }\n",
       "\n",
       "    .dataframe thead th {\n",
       "        text-align: right;\n",
       "    }\n",
       "</style>\n",
       "<table border=\"1\" class=\"dataframe\">\n",
       "  <thead>\n",
       "    <tr style=\"text-align: right;\">\n",
       "      <th></th>\n",
       "      <th>obj_ID</th>\n",
       "      <th>alpha</th>\n",
       "      <th>delta</th>\n",
       "      <th>u</th>\n",
       "      <th>g</th>\n",
       "      <th>r</th>\n",
       "      <th>i</th>\n",
       "      <th>z</th>\n",
       "      <th>run_ID</th>\n",
       "      <th>rerun_ID</th>\n",
       "      <th>cam_col</th>\n",
       "      <th>field_ID</th>\n",
       "      <th>spec_obj_ID</th>\n",
       "      <th>redshift</th>\n",
       "      <th>plate</th>\n",
       "      <th>MJD</th>\n",
       "      <th>fiber_ID</th>\n",
       "    </tr>\n",
       "  </thead>\n",
       "  <tbody>\n",
       "    <tr>\n",
       "      <th>count</th>\n",
       "      <td>1.000000e+05</td>\n",
       "      <td>100000.000000</td>\n",
       "      <td>100000.000000</td>\n",
       "      <td>100000.000000</td>\n",
       "      <td>100000.000000</td>\n",
       "      <td>100000.000000</td>\n",
       "      <td>100000.000000</td>\n",
       "      <td>100000.000000</td>\n",
       "      <td>100000.000000</td>\n",
       "      <td>100000.0</td>\n",
       "      <td>100000.000000</td>\n",
       "      <td>100000.000000</td>\n",
       "      <td>1.000000e+05</td>\n",
       "      <td>100000.000000</td>\n",
       "      <td>100000.000000</td>\n",
       "      <td>100000.000000</td>\n",
       "      <td>100000.000000</td>\n",
       "    </tr>\n",
       "    <tr>\n",
       "      <th>mean</th>\n",
       "      <td>1.237665e+18</td>\n",
       "      <td>177.629117</td>\n",
       "      <td>24.135305</td>\n",
       "      <td>21.980468</td>\n",
       "      <td>20.531387</td>\n",
       "      <td>19.645762</td>\n",
       "      <td>19.084854</td>\n",
       "      <td>18.668810</td>\n",
       "      <td>4481.366060</td>\n",
       "      <td>301.0</td>\n",
       "      <td>3.511610</td>\n",
       "      <td>186.130520</td>\n",
       "      <td>5.783882e+18</td>\n",
       "      <td>0.576661</td>\n",
       "      <td>5137.009660</td>\n",
       "      <td>55588.647500</td>\n",
       "      <td>449.312740</td>\n",
       "    </tr>\n",
       "    <tr>\n",
       "      <th>std</th>\n",
       "      <td>8.438560e+12</td>\n",
       "      <td>96.502241</td>\n",
       "      <td>19.644665</td>\n",
       "      <td>31.769291</td>\n",
       "      <td>31.750292</td>\n",
       "      <td>1.854760</td>\n",
       "      <td>1.757895</td>\n",
       "      <td>31.728152</td>\n",
       "      <td>1964.764593</td>\n",
       "      <td>0.0</td>\n",
       "      <td>1.586912</td>\n",
       "      <td>149.011073</td>\n",
       "      <td>3.324016e+18</td>\n",
       "      <td>0.730707</td>\n",
       "      <td>2952.303351</td>\n",
       "      <td>1808.484233</td>\n",
       "      <td>272.498404</td>\n",
       "    </tr>\n",
       "    <tr>\n",
       "      <th>min</th>\n",
       "      <td>1.237646e+18</td>\n",
       "      <td>0.005528</td>\n",
       "      <td>-18.785328</td>\n",
       "      <td>-9999.000000</td>\n",
       "      <td>-9999.000000</td>\n",
       "      <td>9.822070</td>\n",
       "      <td>9.469903</td>\n",
       "      <td>-9999.000000</td>\n",
       "      <td>109.000000</td>\n",
       "      <td>301.0</td>\n",
       "      <td>1.000000</td>\n",
       "      <td>11.000000</td>\n",
       "      <td>2.995191e+17</td>\n",
       "      <td>-0.009971</td>\n",
       "      <td>266.000000</td>\n",
       "      <td>51608.000000</td>\n",
       "      <td>1.000000</td>\n",
       "    </tr>\n",
       "    <tr>\n",
       "      <th>25%</th>\n",
       "      <td>1.237659e+18</td>\n",
       "      <td>127.518222</td>\n",
       "      <td>5.146771</td>\n",
       "      <td>20.352353</td>\n",
       "      <td>18.965230</td>\n",
       "      <td>18.135828</td>\n",
       "      <td>17.732285</td>\n",
       "      <td>17.460677</td>\n",
       "      <td>3187.000000</td>\n",
       "      <td>301.0</td>\n",
       "      <td>2.000000</td>\n",
       "      <td>82.000000</td>\n",
       "      <td>2.844138e+18</td>\n",
       "      <td>0.054517</td>\n",
       "      <td>2526.000000</td>\n",
       "      <td>54234.000000</td>\n",
       "      <td>221.000000</td>\n",
       "    </tr>\n",
       "    <tr>\n",
       "      <th>50%</th>\n",
       "      <td>1.237663e+18</td>\n",
       "      <td>180.900700</td>\n",
       "      <td>23.645922</td>\n",
       "      <td>22.179135</td>\n",
       "      <td>21.099835</td>\n",
       "      <td>20.125290</td>\n",
       "      <td>19.405145</td>\n",
       "      <td>19.004595</td>\n",
       "      <td>4188.000000</td>\n",
       "      <td>301.0</td>\n",
       "      <td>4.000000</td>\n",
       "      <td>146.000000</td>\n",
       "      <td>5.614883e+18</td>\n",
       "      <td>0.424173</td>\n",
       "      <td>4987.000000</td>\n",
       "      <td>55868.500000</td>\n",
       "      <td>433.000000</td>\n",
       "    </tr>\n",
       "    <tr>\n",
       "      <th>75%</th>\n",
       "      <td>1.237668e+18</td>\n",
       "      <td>233.895005</td>\n",
       "      <td>39.901550</td>\n",
       "      <td>23.687440</td>\n",
       "      <td>22.123767</td>\n",
       "      <td>21.044785</td>\n",
       "      <td>20.396495</td>\n",
       "      <td>19.921120</td>\n",
       "      <td>5326.000000</td>\n",
       "      <td>301.0</td>\n",
       "      <td>5.000000</td>\n",
       "      <td>241.000000</td>\n",
       "      <td>8.332144e+18</td>\n",
       "      <td>0.704154</td>\n",
       "      <td>7400.250000</td>\n",
       "      <td>56777.000000</td>\n",
       "      <td>645.000000</td>\n",
       "    </tr>\n",
       "    <tr>\n",
       "      <th>max</th>\n",
       "      <td>1.237681e+18</td>\n",
       "      <td>359.999810</td>\n",
       "      <td>83.000519</td>\n",
       "      <td>32.781390</td>\n",
       "      <td>31.602240</td>\n",
       "      <td>29.571860</td>\n",
       "      <td>32.141470</td>\n",
       "      <td>29.383740</td>\n",
       "      <td>8162.000000</td>\n",
       "      <td>301.0</td>\n",
       "      <td>6.000000</td>\n",
       "      <td>989.000000</td>\n",
       "      <td>1.412694e+19</td>\n",
       "      <td>7.011245</td>\n",
       "      <td>12547.000000</td>\n",
       "      <td>58932.000000</td>\n",
       "      <td>1000.000000</td>\n",
       "    </tr>\n",
       "  </tbody>\n",
       "</table>\n",
       "</div>"
      ],
      "text/plain": [
       "             obj_ID          alpha          delta              u  \\\n",
       "count  1.000000e+05  100000.000000  100000.000000  100000.000000   \n",
       "mean   1.237665e+18     177.629117      24.135305      21.980468   \n",
       "std    8.438560e+12      96.502241      19.644665      31.769291   \n",
       "min    1.237646e+18       0.005528     -18.785328   -9999.000000   \n",
       "25%    1.237659e+18     127.518222       5.146771      20.352353   \n",
       "50%    1.237663e+18     180.900700      23.645922      22.179135   \n",
       "75%    1.237668e+18     233.895005      39.901550      23.687440   \n",
       "max    1.237681e+18     359.999810      83.000519      32.781390   \n",
       "\n",
       "                   g              r              i              z  \\\n",
       "count  100000.000000  100000.000000  100000.000000  100000.000000   \n",
       "mean       20.531387      19.645762      19.084854      18.668810   \n",
       "std        31.750292       1.854760       1.757895      31.728152   \n",
       "min     -9999.000000       9.822070       9.469903   -9999.000000   \n",
       "25%        18.965230      18.135828      17.732285      17.460677   \n",
       "50%        21.099835      20.125290      19.405145      19.004595   \n",
       "75%        22.123767      21.044785      20.396495      19.921120   \n",
       "max        31.602240      29.571860      32.141470      29.383740   \n",
       "\n",
       "              run_ID  rerun_ID        cam_col       field_ID   spec_obj_ID  \\\n",
       "count  100000.000000  100000.0  100000.000000  100000.000000  1.000000e+05   \n",
       "mean     4481.366060     301.0       3.511610     186.130520  5.783882e+18   \n",
       "std      1964.764593       0.0       1.586912     149.011073  3.324016e+18   \n",
       "min       109.000000     301.0       1.000000      11.000000  2.995191e+17   \n",
       "25%      3187.000000     301.0       2.000000      82.000000  2.844138e+18   \n",
       "50%      4188.000000     301.0       4.000000     146.000000  5.614883e+18   \n",
       "75%      5326.000000     301.0       5.000000     241.000000  8.332144e+18   \n",
       "max      8162.000000     301.0       6.000000     989.000000  1.412694e+19   \n",
       "\n",
       "            redshift          plate            MJD       fiber_ID  \n",
       "count  100000.000000  100000.000000  100000.000000  100000.000000  \n",
       "mean        0.576661    5137.009660   55588.647500     449.312740  \n",
       "std         0.730707    2952.303351    1808.484233     272.498404  \n",
       "min        -0.009971     266.000000   51608.000000       1.000000  \n",
       "25%         0.054517    2526.000000   54234.000000     221.000000  \n",
       "50%         0.424173    4987.000000   55868.500000     433.000000  \n",
       "75%         0.704154    7400.250000   56777.000000     645.000000  \n",
       "max         7.011245   12547.000000   58932.000000    1000.000000  "
      ]
     },
     "execution_count": 3,
     "metadata": {},
     "output_type": "execute_result"
    }
   ],
   "source": [
    "data.describe()"
   ]
  },
  {
   "cell_type": "markdown",
   "metadata": {},
   "source": [
    "Видно, что некоторые признаки, такие как `u`, `g` и `z`, содержат очень большие отрицательные числа (`-9999.0`), которые сильно отличаются от средних.\n",
    "Минимальное значение признака `alpha` меньше среднего на порядки.\n",
    "Также максимальное значение признака `redshift` примерно в 10 раз больше среднего значения по всему датасету.\n",
    "\n",
    "Это может говорить о том, что данные содержат некоторые выбросы."
   ]
  },
  {
   "cell_type": "markdown",
   "metadata": {},
   "source": [
    "Для начала обработаем признаки с минимальными значениями, равными `-9999.0`: заменим эти значения на медианные в соответствующем признаке:"
   ]
  },
  {
   "cell_type": "code",
   "execution_count": 4,
   "metadata": {},
   "outputs": [],
   "source": [
    "data.loc[data['u'] == -9999, 'u'] = data.u.median()\n",
    "data.loc[data['g'] == -9999, 'g'] = data.g.median()\n",
    "data.loc[data['z'] == -9999, 'z'] = data.z.median()"
   ]
  },
  {
   "cell_type": "markdown",
   "metadata": {},
   "source": [
    "Далее построим коробку с усами по признаку `alpha`:"
   ]
  },
  {
   "cell_type": "code",
   "execution_count": 6,
   "metadata": {},
   "outputs": [
    {
     "data": {
      "application/javascript": [
       "/* Put everything inside the global mpl namespace */\n",
       "/* global mpl */\n",
       "window.mpl = {};\n",
       "\n",
       "mpl.get_websocket_type = function () {\n",
       "    if (typeof WebSocket !== 'undefined') {\n",
       "        return WebSocket;\n",
       "    } else if (typeof MozWebSocket !== 'undefined') {\n",
       "        return MozWebSocket;\n",
       "    } else {\n",
       "        alert(\n",
       "            'Your browser does not have WebSocket support. ' +\n",
       "                'Please try Chrome, Safari or Firefox ≥ 6. ' +\n",
       "                'Firefox 4 and 5 are also supported but you ' +\n",
       "                'have to enable WebSockets in about:config.'\n",
       "        );\n",
       "    }\n",
       "};\n",
       "\n",
       "mpl.figure = function (figure_id, websocket, ondownload, parent_element) {\n",
       "    this.id = figure_id;\n",
       "\n",
       "    this.ws = websocket;\n",
       "\n",
       "    this.supports_binary = this.ws.binaryType !== undefined;\n",
       "\n",
       "    if (!this.supports_binary) {\n",
       "        var warnings = document.getElementById('mpl-warnings');\n",
       "        if (warnings) {\n",
       "            warnings.style.display = 'block';\n",
       "            warnings.textContent =\n",
       "                'This browser does not support binary websocket messages. ' +\n",
       "                'Performance may be slow.';\n",
       "        }\n",
       "    }\n",
       "\n",
       "    this.imageObj = new Image();\n",
       "\n",
       "    this.context = undefined;\n",
       "    this.message = undefined;\n",
       "    this.canvas = undefined;\n",
       "    this.rubberband_canvas = undefined;\n",
       "    this.rubberband_context = undefined;\n",
       "    this.format_dropdown = undefined;\n",
       "\n",
       "    this.image_mode = 'full';\n",
       "\n",
       "    this.root = document.createElement('div');\n",
       "    this.root.setAttribute('style', 'display: inline-block');\n",
       "    this._root_extra_style(this.root);\n",
       "\n",
       "    parent_element.appendChild(this.root);\n",
       "\n",
       "    this._init_header(this);\n",
       "    this._init_canvas(this);\n",
       "    this._init_toolbar(this);\n",
       "\n",
       "    var fig = this;\n",
       "\n",
       "    this.waiting = false;\n",
       "\n",
       "    this.ws.onopen = function () {\n",
       "        fig.send_message('supports_binary', { value: fig.supports_binary });\n",
       "        fig.send_message('send_image_mode', {});\n",
       "        if (fig.ratio !== 1) {\n",
       "            fig.send_message('set_device_pixel_ratio', {\n",
       "                device_pixel_ratio: fig.ratio,\n",
       "            });\n",
       "        }\n",
       "        fig.send_message('refresh', {});\n",
       "    };\n",
       "\n",
       "    this.imageObj.onload = function () {\n",
       "        if (fig.image_mode === 'full') {\n",
       "            // Full images could contain transparency (where diff images\n",
       "            // almost always do), so we need to clear the canvas so that\n",
       "            // there is no ghosting.\n",
       "            fig.context.clearRect(0, 0, fig.canvas.width, fig.canvas.height);\n",
       "        }\n",
       "        fig.context.drawImage(fig.imageObj, 0, 0);\n",
       "    };\n",
       "\n",
       "    this.imageObj.onunload = function () {\n",
       "        fig.ws.close();\n",
       "    };\n",
       "\n",
       "    this.ws.onmessage = this._make_on_message_function(this);\n",
       "\n",
       "    this.ondownload = ondownload;\n",
       "};\n",
       "\n",
       "mpl.figure.prototype._init_header = function () {\n",
       "    var titlebar = document.createElement('div');\n",
       "    titlebar.classList =\n",
       "        'ui-dialog-titlebar ui-widget-header ui-corner-all ui-helper-clearfix';\n",
       "    var titletext = document.createElement('div');\n",
       "    titletext.classList = 'ui-dialog-title';\n",
       "    titletext.setAttribute(\n",
       "        'style',\n",
       "        'width: 100%; text-align: center; padding: 3px;'\n",
       "    );\n",
       "    titlebar.appendChild(titletext);\n",
       "    this.root.appendChild(titlebar);\n",
       "    this.header = titletext;\n",
       "};\n",
       "\n",
       "mpl.figure.prototype._canvas_extra_style = function (_canvas_div) {};\n",
       "\n",
       "mpl.figure.prototype._root_extra_style = function (_canvas_div) {};\n",
       "\n",
       "mpl.figure.prototype._init_canvas = function () {\n",
       "    var fig = this;\n",
       "\n",
       "    var canvas_div = (this.canvas_div = document.createElement('div'));\n",
       "    canvas_div.setAttribute(\n",
       "        'style',\n",
       "        'border: 1px solid #ddd;' +\n",
       "            'box-sizing: content-box;' +\n",
       "            'clear: both;' +\n",
       "            'min-height: 1px;' +\n",
       "            'min-width: 1px;' +\n",
       "            'outline: 0;' +\n",
       "            'overflow: hidden;' +\n",
       "            'position: relative;' +\n",
       "            'resize: both;'\n",
       "    );\n",
       "\n",
       "    function on_keyboard_event_closure(name) {\n",
       "        return function (event) {\n",
       "            return fig.key_event(event, name);\n",
       "        };\n",
       "    }\n",
       "\n",
       "    canvas_div.addEventListener(\n",
       "        'keydown',\n",
       "        on_keyboard_event_closure('key_press')\n",
       "    );\n",
       "    canvas_div.addEventListener(\n",
       "        'keyup',\n",
       "        on_keyboard_event_closure('key_release')\n",
       "    );\n",
       "\n",
       "    this._canvas_extra_style(canvas_div);\n",
       "    this.root.appendChild(canvas_div);\n",
       "\n",
       "    var canvas = (this.canvas = document.createElement('canvas'));\n",
       "    canvas.classList.add('mpl-canvas');\n",
       "    canvas.setAttribute('style', 'box-sizing: content-box;');\n",
       "\n",
       "    this.context = canvas.getContext('2d');\n",
       "\n",
       "    var backingStore =\n",
       "        this.context.backingStorePixelRatio ||\n",
       "        this.context.webkitBackingStorePixelRatio ||\n",
       "        this.context.mozBackingStorePixelRatio ||\n",
       "        this.context.msBackingStorePixelRatio ||\n",
       "        this.context.oBackingStorePixelRatio ||\n",
       "        this.context.backingStorePixelRatio ||\n",
       "        1;\n",
       "\n",
       "    this.ratio = (window.devicePixelRatio || 1) / backingStore;\n",
       "\n",
       "    var rubberband_canvas = (this.rubberband_canvas = document.createElement(\n",
       "        'canvas'\n",
       "    ));\n",
       "    rubberband_canvas.setAttribute(\n",
       "        'style',\n",
       "        'box-sizing: content-box; position: absolute; left: 0; top: 0; z-index: 1;'\n",
       "    );\n",
       "\n",
       "    // Apply a ponyfill if ResizeObserver is not implemented by browser.\n",
       "    if (this.ResizeObserver === undefined) {\n",
       "        if (window.ResizeObserver !== undefined) {\n",
       "            this.ResizeObserver = window.ResizeObserver;\n",
       "        } else {\n",
       "            var obs = _JSXTOOLS_RESIZE_OBSERVER({});\n",
       "            this.ResizeObserver = obs.ResizeObserver;\n",
       "        }\n",
       "    }\n",
       "\n",
       "    this.resizeObserverInstance = new this.ResizeObserver(function (entries) {\n",
       "        var nentries = entries.length;\n",
       "        for (var i = 0; i < nentries; i++) {\n",
       "            var entry = entries[i];\n",
       "            var width, height;\n",
       "            if (entry.contentBoxSize) {\n",
       "                if (entry.contentBoxSize instanceof Array) {\n",
       "                    // Chrome 84 implements new version of spec.\n",
       "                    width = entry.contentBoxSize[0].inlineSize;\n",
       "                    height = entry.contentBoxSize[0].blockSize;\n",
       "                } else {\n",
       "                    // Firefox implements old version of spec.\n",
       "                    width = entry.contentBoxSize.inlineSize;\n",
       "                    height = entry.contentBoxSize.blockSize;\n",
       "                }\n",
       "            } else {\n",
       "                // Chrome <84 implements even older version of spec.\n",
       "                width = entry.contentRect.width;\n",
       "                height = entry.contentRect.height;\n",
       "            }\n",
       "\n",
       "            // Keep the size of the canvas and rubber band canvas in sync with\n",
       "            // the canvas container.\n",
       "            if (entry.devicePixelContentBoxSize) {\n",
       "                // Chrome 84 implements new version of spec.\n",
       "                canvas.setAttribute(\n",
       "                    'width',\n",
       "                    entry.devicePixelContentBoxSize[0].inlineSize\n",
       "                );\n",
       "                canvas.setAttribute(\n",
       "                    'height',\n",
       "                    entry.devicePixelContentBoxSize[0].blockSize\n",
       "                );\n",
       "            } else {\n",
       "                canvas.setAttribute('width', width * fig.ratio);\n",
       "                canvas.setAttribute('height', height * fig.ratio);\n",
       "            }\n",
       "            canvas.setAttribute(\n",
       "                'style',\n",
       "                'width: ' + width + 'px; height: ' + height + 'px;'\n",
       "            );\n",
       "\n",
       "            rubberband_canvas.setAttribute('width', width);\n",
       "            rubberband_canvas.setAttribute('height', height);\n",
       "\n",
       "            // And update the size in Python. We ignore the initial 0/0 size\n",
       "            // that occurs as the element is placed into the DOM, which should\n",
       "            // otherwise not happen due to the minimum size styling.\n",
       "            if (fig.ws.readyState == 1 && width != 0 && height != 0) {\n",
       "                fig.request_resize(width, height);\n",
       "            }\n",
       "        }\n",
       "    });\n",
       "    this.resizeObserverInstance.observe(canvas_div);\n",
       "\n",
       "    function on_mouse_event_closure(name) {\n",
       "        return function (event) {\n",
       "            return fig.mouse_event(event, name);\n",
       "        };\n",
       "    }\n",
       "\n",
       "    rubberband_canvas.addEventListener(\n",
       "        'mousedown',\n",
       "        on_mouse_event_closure('button_press')\n",
       "    );\n",
       "    rubberband_canvas.addEventListener(\n",
       "        'mouseup',\n",
       "        on_mouse_event_closure('button_release')\n",
       "    );\n",
       "    rubberband_canvas.addEventListener(\n",
       "        'dblclick',\n",
       "        on_mouse_event_closure('dblclick')\n",
       "    );\n",
       "    // Throttle sequential mouse events to 1 every 20ms.\n",
       "    rubberband_canvas.addEventListener(\n",
       "        'mousemove',\n",
       "        on_mouse_event_closure('motion_notify')\n",
       "    );\n",
       "\n",
       "    rubberband_canvas.addEventListener(\n",
       "        'mouseenter',\n",
       "        on_mouse_event_closure('figure_enter')\n",
       "    );\n",
       "    rubberband_canvas.addEventListener(\n",
       "        'mouseleave',\n",
       "        on_mouse_event_closure('figure_leave')\n",
       "    );\n",
       "\n",
       "    canvas_div.addEventListener('wheel', function (event) {\n",
       "        if (event.deltaY < 0) {\n",
       "            event.step = 1;\n",
       "        } else {\n",
       "            event.step = -1;\n",
       "        }\n",
       "        on_mouse_event_closure('scroll')(event);\n",
       "    });\n",
       "\n",
       "    canvas_div.appendChild(canvas);\n",
       "    canvas_div.appendChild(rubberband_canvas);\n",
       "\n",
       "    this.rubberband_context = rubberband_canvas.getContext('2d');\n",
       "    this.rubberband_context.strokeStyle = '#000000';\n",
       "\n",
       "    this._resize_canvas = function (width, height, forward) {\n",
       "        if (forward) {\n",
       "            canvas_div.style.width = width + 'px';\n",
       "            canvas_div.style.height = height + 'px';\n",
       "        }\n",
       "    };\n",
       "\n",
       "    // Disable right mouse context menu.\n",
       "    this.rubberband_canvas.addEventListener('contextmenu', function (_e) {\n",
       "        event.preventDefault();\n",
       "        return false;\n",
       "    });\n",
       "\n",
       "    function set_focus() {\n",
       "        canvas.focus();\n",
       "        canvas_div.focus();\n",
       "    }\n",
       "\n",
       "    window.setTimeout(set_focus, 100);\n",
       "};\n",
       "\n",
       "mpl.figure.prototype._init_toolbar = function () {\n",
       "    var fig = this;\n",
       "\n",
       "    var toolbar = document.createElement('div');\n",
       "    toolbar.classList = 'mpl-toolbar';\n",
       "    this.root.appendChild(toolbar);\n",
       "\n",
       "    function on_click_closure(name) {\n",
       "        return function (_event) {\n",
       "            return fig.toolbar_button_onclick(name);\n",
       "        };\n",
       "    }\n",
       "\n",
       "    function on_mouseover_closure(tooltip) {\n",
       "        return function (event) {\n",
       "            if (!event.currentTarget.disabled) {\n",
       "                return fig.toolbar_button_onmouseover(tooltip);\n",
       "            }\n",
       "        };\n",
       "    }\n",
       "\n",
       "    fig.buttons = {};\n",
       "    var buttonGroup = document.createElement('div');\n",
       "    buttonGroup.classList = 'mpl-button-group';\n",
       "    for (var toolbar_ind in mpl.toolbar_items) {\n",
       "        var name = mpl.toolbar_items[toolbar_ind][0];\n",
       "        var tooltip = mpl.toolbar_items[toolbar_ind][1];\n",
       "        var image = mpl.toolbar_items[toolbar_ind][2];\n",
       "        var method_name = mpl.toolbar_items[toolbar_ind][3];\n",
       "\n",
       "        if (!name) {\n",
       "            /* Instead of a spacer, we start a new button group. */\n",
       "            if (buttonGroup.hasChildNodes()) {\n",
       "                toolbar.appendChild(buttonGroup);\n",
       "            }\n",
       "            buttonGroup = document.createElement('div');\n",
       "            buttonGroup.classList = 'mpl-button-group';\n",
       "            continue;\n",
       "        }\n",
       "\n",
       "        var button = (fig.buttons[name] = document.createElement('button'));\n",
       "        button.classList = 'mpl-widget';\n",
       "        button.setAttribute('role', 'button');\n",
       "        button.setAttribute('aria-disabled', 'false');\n",
       "        button.addEventListener('click', on_click_closure(method_name));\n",
       "        button.addEventListener('mouseover', on_mouseover_closure(tooltip));\n",
       "\n",
       "        var icon_img = document.createElement('img');\n",
       "        icon_img.src = '_images/' + image + '.png';\n",
       "        icon_img.srcset = '_images/' + image + '_large.png 2x';\n",
       "        icon_img.alt = tooltip;\n",
       "        button.appendChild(icon_img);\n",
       "\n",
       "        buttonGroup.appendChild(button);\n",
       "    }\n",
       "\n",
       "    if (buttonGroup.hasChildNodes()) {\n",
       "        toolbar.appendChild(buttonGroup);\n",
       "    }\n",
       "\n",
       "    var fmt_picker = document.createElement('select');\n",
       "    fmt_picker.classList = 'mpl-widget';\n",
       "    toolbar.appendChild(fmt_picker);\n",
       "    this.format_dropdown = fmt_picker;\n",
       "\n",
       "    for (var ind in mpl.extensions) {\n",
       "        var fmt = mpl.extensions[ind];\n",
       "        var option = document.createElement('option');\n",
       "        option.selected = fmt === mpl.default_extension;\n",
       "        option.innerHTML = fmt;\n",
       "        fmt_picker.appendChild(option);\n",
       "    }\n",
       "\n",
       "    var status_bar = document.createElement('span');\n",
       "    status_bar.classList = 'mpl-message';\n",
       "    toolbar.appendChild(status_bar);\n",
       "    this.message = status_bar;\n",
       "};\n",
       "\n",
       "mpl.figure.prototype.request_resize = function (x_pixels, y_pixels) {\n",
       "    // Request matplotlib to resize the figure. Matplotlib will then trigger a resize in the client,\n",
       "    // which will in turn request a refresh of the image.\n",
       "    this.send_message('resize', { width: x_pixels, height: y_pixels });\n",
       "};\n",
       "\n",
       "mpl.figure.prototype.send_message = function (type, properties) {\n",
       "    properties['type'] = type;\n",
       "    properties['figure_id'] = this.id;\n",
       "    this.ws.send(JSON.stringify(properties));\n",
       "};\n",
       "\n",
       "mpl.figure.prototype.send_draw_message = function () {\n",
       "    if (!this.waiting) {\n",
       "        this.waiting = true;\n",
       "        this.ws.send(JSON.stringify({ type: 'draw', figure_id: this.id }));\n",
       "    }\n",
       "};\n",
       "\n",
       "mpl.figure.prototype.handle_save = function (fig, _msg) {\n",
       "    var format_dropdown = fig.format_dropdown;\n",
       "    var format = format_dropdown.options[format_dropdown.selectedIndex].value;\n",
       "    fig.ondownload(fig, format);\n",
       "};\n",
       "\n",
       "mpl.figure.prototype.handle_resize = function (fig, msg) {\n",
       "    var size = msg['size'];\n",
       "    if (size[0] !== fig.canvas.width || size[1] !== fig.canvas.height) {\n",
       "        fig._resize_canvas(size[0], size[1], msg['forward']);\n",
       "        fig.send_message('refresh', {});\n",
       "    }\n",
       "};\n",
       "\n",
       "mpl.figure.prototype.handle_rubberband = function (fig, msg) {\n",
       "    var x0 = msg['x0'] / fig.ratio;\n",
       "    var y0 = (fig.canvas.height - msg['y0']) / fig.ratio;\n",
       "    var x1 = msg['x1'] / fig.ratio;\n",
       "    var y1 = (fig.canvas.height - msg['y1']) / fig.ratio;\n",
       "    x0 = Math.floor(x0) + 0.5;\n",
       "    y0 = Math.floor(y0) + 0.5;\n",
       "    x1 = Math.floor(x1) + 0.5;\n",
       "    y1 = Math.floor(y1) + 0.5;\n",
       "    var min_x = Math.min(x0, x1);\n",
       "    var min_y = Math.min(y0, y1);\n",
       "    var width = Math.abs(x1 - x0);\n",
       "    var height = Math.abs(y1 - y0);\n",
       "\n",
       "    fig.rubberband_context.clearRect(\n",
       "        0,\n",
       "        0,\n",
       "        fig.canvas.width / fig.ratio,\n",
       "        fig.canvas.height / fig.ratio\n",
       "    );\n",
       "\n",
       "    fig.rubberband_context.strokeRect(min_x, min_y, width, height);\n",
       "};\n",
       "\n",
       "mpl.figure.prototype.handle_figure_label = function (fig, msg) {\n",
       "    // Updates the figure title.\n",
       "    fig.header.textContent = msg['label'];\n",
       "};\n",
       "\n",
       "mpl.figure.prototype.handle_cursor = function (fig, msg) {\n",
       "    fig.rubberband_canvas.style.cursor = msg['cursor'];\n",
       "};\n",
       "\n",
       "mpl.figure.prototype.handle_message = function (fig, msg) {\n",
       "    fig.message.textContent = msg['message'];\n",
       "};\n",
       "\n",
       "mpl.figure.prototype.handle_draw = function (fig, _msg) {\n",
       "    // Request the server to send over a new figure.\n",
       "    fig.send_draw_message();\n",
       "};\n",
       "\n",
       "mpl.figure.prototype.handle_image_mode = function (fig, msg) {\n",
       "    fig.image_mode = msg['mode'];\n",
       "};\n",
       "\n",
       "mpl.figure.prototype.handle_history_buttons = function (fig, msg) {\n",
       "    for (var key in msg) {\n",
       "        if (!(key in fig.buttons)) {\n",
       "            continue;\n",
       "        }\n",
       "        fig.buttons[key].disabled = !msg[key];\n",
       "        fig.buttons[key].setAttribute('aria-disabled', !msg[key]);\n",
       "    }\n",
       "};\n",
       "\n",
       "mpl.figure.prototype.handle_navigate_mode = function (fig, msg) {\n",
       "    if (msg['mode'] === 'PAN') {\n",
       "        fig.buttons['Pan'].classList.add('active');\n",
       "        fig.buttons['Zoom'].classList.remove('active');\n",
       "    } else if (msg['mode'] === 'ZOOM') {\n",
       "        fig.buttons['Pan'].classList.remove('active');\n",
       "        fig.buttons['Zoom'].classList.add('active');\n",
       "    } else {\n",
       "        fig.buttons['Pan'].classList.remove('active');\n",
       "        fig.buttons['Zoom'].classList.remove('active');\n",
       "    }\n",
       "};\n",
       "\n",
       "mpl.figure.prototype.updated_canvas_event = function () {\n",
       "    // Called whenever the canvas gets updated.\n",
       "    this.send_message('ack', {});\n",
       "};\n",
       "\n",
       "// A function to construct a web socket function for onmessage handling.\n",
       "// Called in the figure constructor.\n",
       "mpl.figure.prototype._make_on_message_function = function (fig) {\n",
       "    return function socket_on_message(evt) {\n",
       "        if (evt.data instanceof Blob) {\n",
       "            var img = evt.data;\n",
       "            if (img.type !== 'image/png') {\n",
       "                /* FIXME: We get \"Resource interpreted as Image but\n",
       "                 * transferred with MIME type text/plain:\" errors on\n",
       "                 * Chrome.  But how to set the MIME type?  It doesn't seem\n",
       "                 * to be part of the websocket stream */\n",
       "                img.type = 'image/png';\n",
       "            }\n",
       "\n",
       "            /* Free the memory for the previous frames */\n",
       "            if (fig.imageObj.src) {\n",
       "                (window.URL || window.webkitURL).revokeObjectURL(\n",
       "                    fig.imageObj.src\n",
       "                );\n",
       "            }\n",
       "\n",
       "            fig.imageObj.src = (window.URL || window.webkitURL).createObjectURL(\n",
       "                img\n",
       "            );\n",
       "            fig.updated_canvas_event();\n",
       "            fig.waiting = false;\n",
       "            return;\n",
       "        } else if (\n",
       "            typeof evt.data === 'string' &&\n",
       "            evt.data.slice(0, 21) === 'data:image/png;base64'\n",
       "        ) {\n",
       "            fig.imageObj.src = evt.data;\n",
       "            fig.updated_canvas_event();\n",
       "            fig.waiting = false;\n",
       "            return;\n",
       "        }\n",
       "\n",
       "        var msg = JSON.parse(evt.data);\n",
       "        var msg_type = msg['type'];\n",
       "\n",
       "        // Call the  \"handle_{type}\" callback, which takes\n",
       "        // the figure and JSON message as its only arguments.\n",
       "        try {\n",
       "            var callback = fig['handle_' + msg_type];\n",
       "        } catch (e) {\n",
       "            console.log(\n",
       "                \"No handler for the '\" + msg_type + \"' message type: \",\n",
       "                msg\n",
       "            );\n",
       "            return;\n",
       "        }\n",
       "\n",
       "        if (callback) {\n",
       "            try {\n",
       "                // console.log(\"Handling '\" + msg_type + \"' message: \", msg);\n",
       "                callback(fig, msg);\n",
       "            } catch (e) {\n",
       "                console.log(\n",
       "                    \"Exception inside the 'handler_\" + msg_type + \"' callback:\",\n",
       "                    e,\n",
       "                    e.stack,\n",
       "                    msg\n",
       "                );\n",
       "            }\n",
       "        }\n",
       "    };\n",
       "};\n",
       "\n",
       "// from https://stackoverflow.com/questions/1114465/getting-mouse-location-in-canvas\n",
       "mpl.findpos = function (e) {\n",
       "    //this section is from http://www.quirksmode.org/js/events_properties.html\n",
       "    var targ;\n",
       "    if (!e) {\n",
       "        e = window.event;\n",
       "    }\n",
       "    if (e.target) {\n",
       "        targ = e.target;\n",
       "    } else if (e.srcElement) {\n",
       "        targ = e.srcElement;\n",
       "    }\n",
       "    if (targ.nodeType === 3) {\n",
       "        // defeat Safari bug\n",
       "        targ = targ.parentNode;\n",
       "    }\n",
       "\n",
       "    // pageX,Y are the mouse positions relative to the document\n",
       "    var boundingRect = targ.getBoundingClientRect();\n",
       "    var x = e.pageX - (boundingRect.left + document.body.scrollLeft);\n",
       "    var y = e.pageY - (boundingRect.top + document.body.scrollTop);\n",
       "\n",
       "    return { x: x, y: y };\n",
       "};\n",
       "\n",
       "/*\n",
       " * return a copy of an object with only non-object keys\n",
       " * we need this to avoid circular references\n",
       " * https://stackoverflow.com/a/24161582/3208463\n",
       " */\n",
       "function simpleKeys(original) {\n",
       "    return Object.keys(original).reduce(function (obj, key) {\n",
       "        if (typeof original[key] !== 'object') {\n",
       "            obj[key] = original[key];\n",
       "        }\n",
       "        return obj;\n",
       "    }, {});\n",
       "}\n",
       "\n",
       "mpl.figure.prototype.mouse_event = function (event, name) {\n",
       "    var canvas_pos = mpl.findpos(event);\n",
       "\n",
       "    if (name === 'button_press') {\n",
       "        this.canvas.focus();\n",
       "        this.canvas_div.focus();\n",
       "    }\n",
       "\n",
       "    var x = canvas_pos.x * this.ratio;\n",
       "    var y = canvas_pos.y * this.ratio;\n",
       "\n",
       "    this.send_message(name, {\n",
       "        x: x,\n",
       "        y: y,\n",
       "        button: event.button,\n",
       "        step: event.step,\n",
       "        guiEvent: simpleKeys(event),\n",
       "    });\n",
       "\n",
       "    /* This prevents the web browser from automatically changing to\n",
       "     * the text insertion cursor when the button is pressed.  We want\n",
       "     * to control all of the cursor setting manually through the\n",
       "     * 'cursor' event from matplotlib */\n",
       "    event.preventDefault();\n",
       "    return false;\n",
       "};\n",
       "\n",
       "mpl.figure.prototype._key_event_extra = function (_event, _name) {\n",
       "    // Handle any extra behaviour associated with a key event\n",
       "};\n",
       "\n",
       "mpl.figure.prototype.key_event = function (event, name) {\n",
       "    // Prevent repeat events\n",
       "    if (name === 'key_press') {\n",
       "        if (event.key === this._key) {\n",
       "            return;\n",
       "        } else {\n",
       "            this._key = event.key;\n",
       "        }\n",
       "    }\n",
       "    if (name === 'key_release') {\n",
       "        this._key = null;\n",
       "    }\n",
       "\n",
       "    var value = '';\n",
       "    if (event.ctrlKey && event.key !== 'Control') {\n",
       "        value += 'ctrl+';\n",
       "    }\n",
       "    else if (event.altKey && event.key !== 'Alt') {\n",
       "        value += 'alt+';\n",
       "    }\n",
       "    else if (event.shiftKey && event.key !== 'Shift') {\n",
       "        value += 'shift+';\n",
       "    }\n",
       "\n",
       "    value += 'k' + event.key;\n",
       "\n",
       "    this._key_event_extra(event, name);\n",
       "\n",
       "    this.send_message(name, { key: value, guiEvent: simpleKeys(event) });\n",
       "    return false;\n",
       "};\n",
       "\n",
       "mpl.figure.prototype.toolbar_button_onclick = function (name) {\n",
       "    if (name === 'download') {\n",
       "        this.handle_save(this, null);\n",
       "    } else {\n",
       "        this.send_message('toolbar_button', { name: name });\n",
       "    }\n",
       "};\n",
       "\n",
       "mpl.figure.prototype.toolbar_button_onmouseover = function (tooltip) {\n",
       "    this.message.textContent = tooltip;\n",
       "};\n",
       "\n",
       "///////////////// REMAINING CONTENT GENERATED BY embed_js.py /////////////////\n",
       "// prettier-ignore\n",
       "var _JSXTOOLS_RESIZE_OBSERVER=function(A){var t,i=new WeakMap,n=new WeakMap,a=new WeakMap,r=new WeakMap,o=new Set;function s(e){if(!(this instanceof s))throw new TypeError(\"Constructor requires 'new' operator\");i.set(this,e)}function h(){throw new TypeError(\"Function is not a constructor\")}function c(e,t,i,n){e=0 in arguments?Number(arguments[0]):0,t=1 in arguments?Number(arguments[1]):0,i=2 in arguments?Number(arguments[2]):0,n=3 in arguments?Number(arguments[3]):0,this.right=(this.x=this.left=e)+(this.width=i),this.bottom=(this.y=this.top=t)+(this.height=n),Object.freeze(this)}function d(){t=requestAnimationFrame(d);var s=new WeakMap,p=new Set;o.forEach((function(t){r.get(t).forEach((function(i){var r=t instanceof window.SVGElement,o=a.get(t),d=r?0:parseFloat(o.paddingTop),f=r?0:parseFloat(o.paddingRight),l=r?0:parseFloat(o.paddingBottom),u=r?0:parseFloat(o.paddingLeft),g=r?0:parseFloat(o.borderTopWidth),m=r?0:parseFloat(o.borderRightWidth),w=r?0:parseFloat(o.borderBottomWidth),b=u+f,F=d+l,v=(r?0:parseFloat(o.borderLeftWidth))+m,W=g+w,y=r?0:t.offsetHeight-W-t.clientHeight,E=r?0:t.offsetWidth-v-t.clientWidth,R=b+v,z=F+W,M=r?t.width:parseFloat(o.width)-R-E,O=r?t.height:parseFloat(o.height)-z-y;if(n.has(t)){var k=n.get(t);if(k[0]===M&&k[1]===O)return}n.set(t,[M,O]);var S=Object.create(h.prototype);S.target=t,S.contentRect=new c(u,d,M,O),s.has(i)||(s.set(i,[]),p.add(i)),s.get(i).push(S)}))})),p.forEach((function(e){i.get(e).call(e,s.get(e),e)}))}return s.prototype.observe=function(i){if(i instanceof window.Element){r.has(i)||(r.set(i,new Set),o.add(i),a.set(i,window.getComputedStyle(i)));var n=r.get(i);n.has(this)||n.add(this),cancelAnimationFrame(t),t=requestAnimationFrame(d)}},s.prototype.unobserve=function(i){if(i instanceof window.Element&&r.has(i)){var n=r.get(i);n.has(this)&&(n.delete(this),n.size||(r.delete(i),o.delete(i))),n.size||r.delete(i),o.size||cancelAnimationFrame(t)}},A.DOMRectReadOnly=c,A.ResizeObserver=s,A.ResizeObserverEntry=h,A}; // eslint-disable-line\n",
       "mpl.toolbar_items = [[\"Home\", \"Reset original view\", \"fa fa-home\", \"home\"], [\"Back\", \"Back to previous view\", \"fa fa-arrow-left\", \"back\"], [\"Forward\", \"Forward to next view\", \"fa fa-arrow-right\", \"forward\"], [\"\", \"\", \"\", \"\"], [\"Pan\", \"Left button pans, Right button zooms\\nx/y fixes axis, CTRL fixes aspect\", \"fa fa-arrows\", \"pan\"], [\"Zoom\", \"Zoom to rectangle\\nx/y fixes axis\", \"fa fa-square-o\", \"zoom\"], [\"\", \"\", \"\", \"\"], [\"Download\", \"Download plot\", \"fa fa-floppy-o\", \"download\"]];\n",
       "\n",
       "mpl.extensions = [\"eps\", \"jpeg\", \"pgf\", \"pdf\", \"png\", \"ps\", \"raw\", \"svg\", \"tif\", \"webp\"];\n",
       "\n",
       "mpl.default_extension = \"png\";/* global mpl */\n",
       "\n",
       "var comm_websocket_adapter = function (comm) {\n",
       "    // Create a \"websocket\"-like object which calls the given IPython comm\n",
       "    // object with the appropriate methods. Currently this is a non binary\n",
       "    // socket, so there is still some room for performance tuning.\n",
       "    var ws = {};\n",
       "\n",
       "    ws.binaryType = comm.kernel.ws.binaryType;\n",
       "    ws.readyState = comm.kernel.ws.readyState;\n",
       "    function updateReadyState(_event) {\n",
       "        if (comm.kernel.ws) {\n",
       "            ws.readyState = comm.kernel.ws.readyState;\n",
       "        } else {\n",
       "            ws.readyState = 3; // Closed state.\n",
       "        }\n",
       "    }\n",
       "    comm.kernel.ws.addEventListener('open', updateReadyState);\n",
       "    comm.kernel.ws.addEventListener('close', updateReadyState);\n",
       "    comm.kernel.ws.addEventListener('error', updateReadyState);\n",
       "\n",
       "    ws.close = function () {\n",
       "        comm.close();\n",
       "    };\n",
       "    ws.send = function (m) {\n",
       "        //console.log('sending', m);\n",
       "        comm.send(m);\n",
       "    };\n",
       "    // Register the callback with on_msg.\n",
       "    comm.on_msg(function (msg) {\n",
       "        //console.log('receiving', msg['content']['data'], msg);\n",
       "        var data = msg['content']['data'];\n",
       "        if (data['blob'] !== undefined) {\n",
       "            data = {\n",
       "                data: new Blob(msg['buffers'], { type: data['blob'] }),\n",
       "            };\n",
       "        }\n",
       "        // Pass the mpl event to the overridden (by mpl) onmessage function.\n",
       "        ws.onmessage(data);\n",
       "    });\n",
       "    return ws;\n",
       "};\n",
       "\n",
       "mpl.mpl_figure_comm = function (comm, msg) {\n",
       "    // This is the function which gets called when the mpl process\n",
       "    // starts-up an IPython Comm through the \"matplotlib\" channel.\n",
       "\n",
       "    var id = msg.content.data.id;\n",
       "    // Get hold of the div created by the display call when the Comm\n",
       "    // socket was opened in Python.\n",
       "    var element = document.getElementById(id);\n",
       "    var ws_proxy = comm_websocket_adapter(comm);\n",
       "\n",
       "    function ondownload(figure, _format) {\n",
       "        window.open(figure.canvas.toDataURL());\n",
       "    }\n",
       "\n",
       "    var fig = new mpl.figure(id, ws_proxy, ondownload, element);\n",
       "\n",
       "    // Call onopen now - mpl needs it, as it is assuming we've passed it a real\n",
       "    // web socket which is closed, not our websocket->open comm proxy.\n",
       "    ws_proxy.onopen();\n",
       "\n",
       "    fig.parent_element = element;\n",
       "    fig.cell_info = mpl.find_output_cell(\"<div id='\" + id + \"'></div>\");\n",
       "    if (!fig.cell_info) {\n",
       "        console.error('Failed to find cell for figure', id, fig);\n",
       "        return;\n",
       "    }\n",
       "    fig.cell_info[0].output_area.element.on(\n",
       "        'cleared',\n",
       "        { fig: fig },\n",
       "        fig._remove_fig_handler\n",
       "    );\n",
       "};\n",
       "\n",
       "mpl.figure.prototype.handle_close = function (fig, msg) {\n",
       "    var width = fig.canvas.width / fig.ratio;\n",
       "    fig.cell_info[0].output_area.element.off(\n",
       "        'cleared',\n",
       "        fig._remove_fig_handler\n",
       "    );\n",
       "    fig.resizeObserverInstance.unobserve(fig.canvas_div);\n",
       "\n",
       "    // Update the output cell to use the data from the current canvas.\n",
       "    fig.push_to_output();\n",
       "    var dataURL = fig.canvas.toDataURL();\n",
       "    // Re-enable the keyboard manager in IPython - without this line, in FF,\n",
       "    // the notebook keyboard shortcuts fail.\n",
       "    IPython.keyboard_manager.enable();\n",
       "    fig.parent_element.innerHTML =\n",
       "        '<img src=\"' + dataURL + '\" width=\"' + width + '\">';\n",
       "    fig.close_ws(fig, msg);\n",
       "};\n",
       "\n",
       "mpl.figure.prototype.close_ws = function (fig, msg) {\n",
       "    fig.send_message('closing', msg);\n",
       "    // fig.ws.close()\n",
       "};\n",
       "\n",
       "mpl.figure.prototype.push_to_output = function (_remove_interactive) {\n",
       "    // Turn the data on the canvas into data in the output cell.\n",
       "    var width = this.canvas.width / this.ratio;\n",
       "    var dataURL = this.canvas.toDataURL();\n",
       "    this.cell_info[1]['text/html'] =\n",
       "        '<img src=\"' + dataURL + '\" width=\"' + width + '\">';\n",
       "};\n",
       "\n",
       "mpl.figure.prototype.updated_canvas_event = function () {\n",
       "    // Tell IPython that the notebook contents must change.\n",
       "    IPython.notebook.set_dirty(true);\n",
       "    this.send_message('ack', {});\n",
       "    var fig = this;\n",
       "    // Wait a second, then push the new image to the DOM so\n",
       "    // that it is saved nicely (might be nice to debounce this).\n",
       "    setTimeout(function () {\n",
       "        fig.push_to_output();\n",
       "    }, 1000);\n",
       "};\n",
       "\n",
       "mpl.figure.prototype._init_toolbar = function () {\n",
       "    var fig = this;\n",
       "\n",
       "    var toolbar = document.createElement('div');\n",
       "    toolbar.classList = 'btn-toolbar';\n",
       "    this.root.appendChild(toolbar);\n",
       "\n",
       "    function on_click_closure(name) {\n",
       "        return function (_event) {\n",
       "            return fig.toolbar_button_onclick(name);\n",
       "        };\n",
       "    }\n",
       "\n",
       "    function on_mouseover_closure(tooltip) {\n",
       "        return function (event) {\n",
       "            if (!event.currentTarget.disabled) {\n",
       "                return fig.toolbar_button_onmouseover(tooltip);\n",
       "            }\n",
       "        };\n",
       "    }\n",
       "\n",
       "    fig.buttons = {};\n",
       "    var buttonGroup = document.createElement('div');\n",
       "    buttonGroup.classList = 'btn-group';\n",
       "    var button;\n",
       "    for (var toolbar_ind in mpl.toolbar_items) {\n",
       "        var name = mpl.toolbar_items[toolbar_ind][0];\n",
       "        var tooltip = mpl.toolbar_items[toolbar_ind][1];\n",
       "        var image = mpl.toolbar_items[toolbar_ind][2];\n",
       "        var method_name = mpl.toolbar_items[toolbar_ind][3];\n",
       "\n",
       "        if (!name) {\n",
       "            /* Instead of a spacer, we start a new button group. */\n",
       "            if (buttonGroup.hasChildNodes()) {\n",
       "                toolbar.appendChild(buttonGroup);\n",
       "            }\n",
       "            buttonGroup = document.createElement('div');\n",
       "            buttonGroup.classList = 'btn-group';\n",
       "            continue;\n",
       "        }\n",
       "\n",
       "        button = fig.buttons[name] = document.createElement('button');\n",
       "        button.classList = 'btn btn-default';\n",
       "        button.href = '#';\n",
       "        button.title = name;\n",
       "        button.innerHTML = '<i class=\"fa ' + image + ' fa-lg\"></i>';\n",
       "        button.addEventListener('click', on_click_closure(method_name));\n",
       "        button.addEventListener('mouseover', on_mouseover_closure(tooltip));\n",
       "        buttonGroup.appendChild(button);\n",
       "    }\n",
       "\n",
       "    if (buttonGroup.hasChildNodes()) {\n",
       "        toolbar.appendChild(buttonGroup);\n",
       "    }\n",
       "\n",
       "    // Add the status bar.\n",
       "    var status_bar = document.createElement('span');\n",
       "    status_bar.classList = 'mpl-message pull-right';\n",
       "    toolbar.appendChild(status_bar);\n",
       "    this.message = status_bar;\n",
       "\n",
       "    // Add the close button to the window.\n",
       "    var buttongrp = document.createElement('div');\n",
       "    buttongrp.classList = 'btn-group inline pull-right';\n",
       "    button = document.createElement('button');\n",
       "    button.classList = 'btn btn-mini btn-primary';\n",
       "    button.href = '#';\n",
       "    button.title = 'Stop Interaction';\n",
       "    button.innerHTML = '<i class=\"fa fa-power-off icon-remove icon-large\"></i>';\n",
       "    button.addEventListener('click', function (_evt) {\n",
       "        fig.handle_close(fig, {});\n",
       "    });\n",
       "    button.addEventListener(\n",
       "        'mouseover',\n",
       "        on_mouseover_closure('Stop Interaction')\n",
       "    );\n",
       "    buttongrp.appendChild(button);\n",
       "    var titlebar = this.root.querySelector('.ui-dialog-titlebar');\n",
       "    titlebar.insertBefore(buttongrp, titlebar.firstChild);\n",
       "};\n",
       "\n",
       "mpl.figure.prototype._remove_fig_handler = function (event) {\n",
       "    var fig = event.data.fig;\n",
       "    if (event.target !== this) {\n",
       "        // Ignore bubbled events from children.\n",
       "        return;\n",
       "    }\n",
       "    fig.close_ws(fig, {});\n",
       "};\n",
       "\n",
       "mpl.figure.prototype._root_extra_style = function (el) {\n",
       "    el.style.boxSizing = 'content-box'; // override notebook setting of border-box.\n",
       "};\n",
       "\n",
       "mpl.figure.prototype._canvas_extra_style = function (el) {\n",
       "    // this is important to make the div 'focusable\n",
       "    el.setAttribute('tabindex', 0);\n",
       "    // reach out to IPython and tell the keyboard manager to turn it's self\n",
       "    // off when our div gets focus\n",
       "\n",
       "    // location in version 3\n",
       "    if (IPython.notebook.keyboard_manager) {\n",
       "        IPython.notebook.keyboard_manager.register_events(el);\n",
       "    } else {\n",
       "        // location in version 2\n",
       "        IPython.keyboard_manager.register_events(el);\n",
       "    }\n",
       "};\n",
       "\n",
       "mpl.figure.prototype._key_event_extra = function (event, _name) {\n",
       "    // Check for shift+enter\n",
       "    if (event.shiftKey && event.which === 13) {\n",
       "        this.canvas_div.blur();\n",
       "        // select the cell after this one\n",
       "        var index = IPython.notebook.find_cell_index(this.cell_info[0]);\n",
       "        IPython.notebook.select(index + 1);\n",
       "    }\n",
       "};\n",
       "\n",
       "mpl.figure.prototype.handle_save = function (fig, _msg) {\n",
       "    fig.ondownload(fig, null);\n",
       "};\n",
       "\n",
       "mpl.find_output_cell = function (html_output) {\n",
       "    // Return the cell and output element which can be found *uniquely* in the notebook.\n",
       "    // Note - this is a bit hacky, but it is done because the \"notebook_saving.Notebook\"\n",
       "    // IPython event is triggered only after the cells have been serialised, which for\n",
       "    // our purposes (turning an active figure into a static one), is too late.\n",
       "    var cells = IPython.notebook.get_cells();\n",
       "    var ncells = cells.length;\n",
       "    for (var i = 0; i < ncells; i++) {\n",
       "        var cell = cells[i];\n",
       "        if (cell.cell_type === 'code') {\n",
       "            for (var j = 0; j < cell.output_area.outputs.length; j++) {\n",
       "                var data = cell.output_area.outputs[j];\n",
       "                if (data.data) {\n",
       "                    // IPython >= 3 moved mimebundle to data attribute of output\n",
       "                    data = data.data;\n",
       "                }\n",
       "                if (data['text/html'] === html_output) {\n",
       "                    return [cell, data, j];\n",
       "                }\n",
       "            }\n",
       "        }\n",
       "    }\n",
       "};\n",
       "\n",
       "// Register the function which deals with the matplotlib target/channel.\n",
       "// The kernel may be null if the page has been refreshed.\n",
       "if (IPython.notebook.kernel !== null) {\n",
       "    IPython.notebook.kernel.comm_manager.register_target(\n",
       "        'matplotlib',\n",
       "        mpl.mpl_figure_comm\n",
       "    );\n",
       "}\n"
      ],
      "text/plain": [
       "<IPython.core.display.Javascript object>"
      ]
     },
     "metadata": {},
     "output_type": "display_data"
    },
    {
     "data": {
      "text/html": [
       "<div id='ad5fe33e-d10b-4036-922d-080bc3d219ce'></div>"
      ],
      "text/plain": [
       "<IPython.core.display.HTML object>"
      ]
     },
     "metadata": {},
     "output_type": "display_data"
    }
   ],
   "source": [
    "import matplotlib.pyplot as plt\n",
    "\n",
    "%matplotlib notebook\n",
    "\n",
    "plt.boxplot(data.alpha)\n",
    "plt.show()"
   ]
  },
  {
   "cell_type": "markdown",
   "metadata": {},
   "source": [
    "Видно, что выбросов по данному признаку нет."
   ]
  },
  {
   "cell_type": "markdown",
   "metadata": {},
   "source": [
    "Было выяснено, что науке известно множество объектов с космологическим красным смещением больше единицы. Так, галактика с наибольшим известным красным смещением на апрель 2022 года - HD1 (самая старая из известных науке галактик), у которой этот показатель составляет 13,27.\n",
    "\n",
    "Это говорит о том, что значение параметра `redshift` (красное смещение), большее 1, с большой долей вероятности является не выбросом, а реальным значением."
   ]
  },
  {
   "cell_type": "markdown",
   "metadata": {},
   "source": [
    "Теперь снова получим описание данных:"
   ]
  },
  {
   "cell_type": "code",
   "execution_count": 7,
   "metadata": {},
   "outputs": [
    {
     "data": {
      "text/html": [
       "<div>\n",
       "<style scoped>\n",
       "    .dataframe tbody tr th:only-of-type {\n",
       "        vertical-align: middle;\n",
       "    }\n",
       "\n",
       "    .dataframe tbody tr th {\n",
       "        vertical-align: top;\n",
       "    }\n",
       "\n",
       "    .dataframe thead th {\n",
       "        text-align: right;\n",
       "    }\n",
       "</style>\n",
       "<table border=\"1\" class=\"dataframe\">\n",
       "  <thead>\n",
       "    <tr style=\"text-align: right;\">\n",
       "      <th></th>\n",
       "      <th>obj_ID</th>\n",
       "      <th>alpha</th>\n",
       "      <th>delta</th>\n",
       "      <th>u</th>\n",
       "      <th>g</th>\n",
       "      <th>r</th>\n",
       "      <th>i</th>\n",
       "      <th>z</th>\n",
       "      <th>run_ID</th>\n",
       "      <th>rerun_ID</th>\n",
       "      <th>cam_col</th>\n",
       "      <th>field_ID</th>\n",
       "      <th>spec_obj_ID</th>\n",
       "      <th>redshift</th>\n",
       "      <th>plate</th>\n",
       "      <th>MJD</th>\n",
       "      <th>fiber_ID</th>\n",
       "    </tr>\n",
       "  </thead>\n",
       "  <tbody>\n",
       "    <tr>\n",
       "      <th>count</th>\n",
       "      <td>1.000000e+05</td>\n",
       "      <td>100000.000000</td>\n",
       "      <td>100000.000000</td>\n",
       "      <td>100000.000000</td>\n",
       "      <td>100000.000000</td>\n",
       "      <td>100000.000000</td>\n",
       "      <td>100000.000000</td>\n",
       "      <td>100000.000000</td>\n",
       "      <td>100000.000000</td>\n",
       "      <td>100000.0</td>\n",
       "      <td>100000.000000</td>\n",
       "      <td>100000.000000</td>\n",
       "      <td>1.000000e+05</td>\n",
       "      <td>100000.000000</td>\n",
       "      <td>100000.000000</td>\n",
       "      <td>100000.000000</td>\n",
       "      <td>100000.000000</td>\n",
       "    </tr>\n",
       "    <tr>\n",
       "      <th>mean</th>\n",
       "      <td>1.237665e+18</td>\n",
       "      <td>177.629117</td>\n",
       "      <td>24.135305</td>\n",
       "      <td>22.080680</td>\n",
       "      <td>20.631588</td>\n",
       "      <td>19.645762</td>\n",
       "      <td>19.084854</td>\n",
       "      <td>18.768990</td>\n",
       "      <td>4481.366060</td>\n",
       "      <td>301.0</td>\n",
       "      <td>3.511610</td>\n",
       "      <td>186.130520</td>\n",
       "      <td>5.783882e+18</td>\n",
       "      <td>0.576661</td>\n",
       "      <td>5137.009660</td>\n",
       "      <td>55588.647500</td>\n",
       "      <td>449.312740</td>\n",
       "    </tr>\n",
       "    <tr>\n",
       "      <th>std</th>\n",
       "      <td>8.438560e+12</td>\n",
       "      <td>96.502241</td>\n",
       "      <td>19.644665</td>\n",
       "      <td>2.251057</td>\n",
       "      <td>2.037374</td>\n",
       "      <td>1.854760</td>\n",
       "      <td>1.757895</td>\n",
       "      <td>1.765973</td>\n",
       "      <td>1964.764593</td>\n",
       "      <td>0.0</td>\n",
       "      <td>1.586912</td>\n",
       "      <td>149.011073</td>\n",
       "      <td>3.324016e+18</td>\n",
       "      <td>0.730707</td>\n",
       "      <td>2952.303351</td>\n",
       "      <td>1808.484233</td>\n",
       "      <td>272.498404</td>\n",
       "    </tr>\n",
       "    <tr>\n",
       "      <th>min</th>\n",
       "      <td>1.237646e+18</td>\n",
       "      <td>0.005528</td>\n",
       "      <td>-18.785328</td>\n",
       "      <td>10.996230</td>\n",
       "      <td>10.498200</td>\n",
       "      <td>9.822070</td>\n",
       "      <td>9.469903</td>\n",
       "      <td>9.612333</td>\n",
       "      <td>109.000000</td>\n",
       "      <td>301.0</td>\n",
       "      <td>1.000000</td>\n",
       "      <td>11.000000</td>\n",
       "      <td>2.995191e+17</td>\n",
       "      <td>-0.009971</td>\n",
       "      <td>266.000000</td>\n",
       "      <td>51608.000000</td>\n",
       "      <td>1.000000</td>\n",
       "    </tr>\n",
       "    <tr>\n",
       "      <th>25%</th>\n",
       "      <td>1.237659e+18</td>\n",
       "      <td>127.518222</td>\n",
       "      <td>5.146771</td>\n",
       "      <td>20.352430</td>\n",
       "      <td>18.965245</td>\n",
       "      <td>18.135828</td>\n",
       "      <td>17.732285</td>\n",
       "      <td>17.460900</td>\n",
       "      <td>3187.000000</td>\n",
       "      <td>301.0</td>\n",
       "      <td>2.000000</td>\n",
       "      <td>82.000000</td>\n",
       "      <td>2.844138e+18</td>\n",
       "      <td>0.054517</td>\n",
       "      <td>2526.000000</td>\n",
       "      <td>54234.000000</td>\n",
       "      <td>221.000000</td>\n",
       "    </tr>\n",
       "    <tr>\n",
       "      <th>50%</th>\n",
       "      <td>1.237663e+18</td>\n",
       "      <td>180.900700</td>\n",
       "      <td>23.645922</td>\n",
       "      <td>22.179138</td>\n",
       "      <td>21.099882</td>\n",
       "      <td>20.125290</td>\n",
       "      <td>19.405145</td>\n",
       "      <td>19.004598</td>\n",
       "      <td>4188.000000</td>\n",
       "      <td>301.0</td>\n",
       "      <td>4.000000</td>\n",
       "      <td>146.000000</td>\n",
       "      <td>5.614883e+18</td>\n",
       "      <td>0.424173</td>\n",
       "      <td>4987.000000</td>\n",
       "      <td>55868.500000</td>\n",
       "      <td>433.000000</td>\n",
       "    </tr>\n",
       "    <tr>\n",
       "      <th>75%</th>\n",
       "      <td>1.237668e+18</td>\n",
       "      <td>233.895005</td>\n",
       "      <td>39.901550</td>\n",
       "      <td>23.687440</td>\n",
       "      <td>22.123767</td>\n",
       "      <td>21.044785</td>\n",
       "      <td>20.396495</td>\n",
       "      <td>19.921120</td>\n",
       "      <td>5326.000000</td>\n",
       "      <td>301.0</td>\n",
       "      <td>5.000000</td>\n",
       "      <td>241.000000</td>\n",
       "      <td>8.332144e+18</td>\n",
       "      <td>0.704154</td>\n",
       "      <td>7400.250000</td>\n",
       "      <td>56777.000000</td>\n",
       "      <td>645.000000</td>\n",
       "    </tr>\n",
       "    <tr>\n",
       "      <th>max</th>\n",
       "      <td>1.237681e+18</td>\n",
       "      <td>359.999810</td>\n",
       "      <td>83.000519</td>\n",
       "      <td>32.781390</td>\n",
       "      <td>31.602240</td>\n",
       "      <td>29.571860</td>\n",
       "      <td>32.141470</td>\n",
       "      <td>29.383740</td>\n",
       "      <td>8162.000000</td>\n",
       "      <td>301.0</td>\n",
       "      <td>6.000000</td>\n",
       "      <td>989.000000</td>\n",
       "      <td>1.412694e+19</td>\n",
       "      <td>7.011245</td>\n",
       "      <td>12547.000000</td>\n",
       "      <td>58932.000000</td>\n",
       "      <td>1000.000000</td>\n",
       "    </tr>\n",
       "  </tbody>\n",
       "</table>\n",
       "</div>"
      ],
      "text/plain": [
       "             obj_ID          alpha          delta              u  \\\n",
       "count  1.000000e+05  100000.000000  100000.000000  100000.000000   \n",
       "mean   1.237665e+18     177.629117      24.135305      22.080680   \n",
       "std    8.438560e+12      96.502241      19.644665       2.251057   \n",
       "min    1.237646e+18       0.005528     -18.785328      10.996230   \n",
       "25%    1.237659e+18     127.518222       5.146771      20.352430   \n",
       "50%    1.237663e+18     180.900700      23.645922      22.179138   \n",
       "75%    1.237668e+18     233.895005      39.901550      23.687440   \n",
       "max    1.237681e+18     359.999810      83.000519      32.781390   \n",
       "\n",
       "                   g              r              i              z  \\\n",
       "count  100000.000000  100000.000000  100000.000000  100000.000000   \n",
       "mean       20.631588      19.645762      19.084854      18.768990   \n",
       "std         2.037374       1.854760       1.757895       1.765973   \n",
       "min        10.498200       9.822070       9.469903       9.612333   \n",
       "25%        18.965245      18.135828      17.732285      17.460900   \n",
       "50%        21.099882      20.125290      19.405145      19.004598   \n",
       "75%        22.123767      21.044785      20.396495      19.921120   \n",
       "max        31.602240      29.571860      32.141470      29.383740   \n",
       "\n",
       "              run_ID  rerun_ID        cam_col       field_ID   spec_obj_ID  \\\n",
       "count  100000.000000  100000.0  100000.000000  100000.000000  1.000000e+05   \n",
       "mean     4481.366060     301.0       3.511610     186.130520  5.783882e+18   \n",
       "std      1964.764593       0.0       1.586912     149.011073  3.324016e+18   \n",
       "min       109.000000     301.0       1.000000      11.000000  2.995191e+17   \n",
       "25%      3187.000000     301.0       2.000000      82.000000  2.844138e+18   \n",
       "50%      4188.000000     301.0       4.000000     146.000000  5.614883e+18   \n",
       "75%      5326.000000     301.0       5.000000     241.000000  8.332144e+18   \n",
       "max      8162.000000     301.0       6.000000     989.000000  1.412694e+19   \n",
       "\n",
       "            redshift          plate            MJD       fiber_ID  \n",
       "count  100000.000000  100000.000000  100000.000000  100000.000000  \n",
       "mean        0.576661    5137.009660   55588.647500     449.312740  \n",
       "std         0.730707    2952.303351    1808.484233     272.498404  \n",
       "min        -0.009971     266.000000   51608.000000       1.000000  \n",
       "25%         0.054517    2526.000000   54234.000000     221.000000  \n",
       "50%         0.424173    4987.000000   55868.500000     433.000000  \n",
       "75%         0.704154    7400.250000   56777.000000     645.000000  \n",
       "max         7.011245   12547.000000   58932.000000    1000.000000  "
      ]
     },
     "execution_count": 7,
     "metadata": {},
     "output_type": "execute_result"
    }
   ],
   "source": [
    "data.describe()"
   ]
  },
  {
   "cell_type": "markdown",
   "metadata": {},
   "source": [
    "Выведем уникальные значения классов. Их должно быть три:"
   ]
  },
  {
   "cell_type": "code",
   "execution_count": 8,
   "metadata": {},
   "outputs": [
    {
     "data": {
      "text/plain": [
       "array(['GALAXY', 'QSO', 'STAR'], dtype=object)"
      ]
     },
     "execution_count": 8,
     "metadata": {},
     "output_type": "execute_result"
    }
   ],
   "source": [
    "data['class'].unique()"
   ]
  },
  {
   "cell_type": "markdown",
   "metadata": {},
   "source": [
    "Удалим те данные, которые напрямую не относятся к спектральным характеристикам звезд, такие как идентификаторы и дата снимка:"
   ]
  },
  {
   "cell_type": "code",
   "execution_count": 9,
   "metadata": {},
   "outputs": [
    {
     "data": {
      "text/html": [
       "<div>\n",
       "<style scoped>\n",
       "    .dataframe tbody tr th:only-of-type {\n",
       "        vertical-align: middle;\n",
       "    }\n",
       "\n",
       "    .dataframe tbody tr th {\n",
       "        vertical-align: top;\n",
       "    }\n",
       "\n",
       "    .dataframe thead th {\n",
       "        text-align: right;\n",
       "    }\n",
       "</style>\n",
       "<table border=\"1\" class=\"dataframe\">\n",
       "  <thead>\n",
       "    <tr style=\"text-align: right;\">\n",
       "      <th></th>\n",
       "      <th>alpha</th>\n",
       "      <th>delta</th>\n",
       "      <th>u</th>\n",
       "      <th>g</th>\n",
       "      <th>r</th>\n",
       "      <th>i</th>\n",
       "      <th>z</th>\n",
       "      <th>class</th>\n",
       "      <th>redshift</th>\n",
       "    </tr>\n",
       "  </thead>\n",
       "  <tbody>\n",
       "    <tr>\n",
       "      <th>0</th>\n",
       "      <td>135.689107</td>\n",
       "      <td>32.494632</td>\n",
       "      <td>23.87882</td>\n",
       "      <td>22.27530</td>\n",
       "      <td>20.39501</td>\n",
       "      <td>19.16573</td>\n",
       "      <td>18.79371</td>\n",
       "      <td>GALAXY</td>\n",
       "      <td>0.634794</td>\n",
       "    </tr>\n",
       "    <tr>\n",
       "      <th>1</th>\n",
       "      <td>144.826101</td>\n",
       "      <td>31.274185</td>\n",
       "      <td>24.77759</td>\n",
       "      <td>22.83188</td>\n",
       "      <td>22.58444</td>\n",
       "      <td>21.16812</td>\n",
       "      <td>21.61427</td>\n",
       "      <td>GALAXY</td>\n",
       "      <td>0.779136</td>\n",
       "    </tr>\n",
       "    <tr>\n",
       "      <th>2</th>\n",
       "      <td>142.188790</td>\n",
       "      <td>35.582444</td>\n",
       "      <td>25.26307</td>\n",
       "      <td>22.66389</td>\n",
       "      <td>20.60976</td>\n",
       "      <td>19.34857</td>\n",
       "      <td>18.94827</td>\n",
       "      <td>GALAXY</td>\n",
       "      <td>0.644195</td>\n",
       "    </tr>\n",
       "    <tr>\n",
       "      <th>3</th>\n",
       "      <td>338.741038</td>\n",
       "      <td>-0.402828</td>\n",
       "      <td>22.13682</td>\n",
       "      <td>23.77656</td>\n",
       "      <td>21.61162</td>\n",
       "      <td>20.50454</td>\n",
       "      <td>19.25010</td>\n",
       "      <td>GALAXY</td>\n",
       "      <td>0.932346</td>\n",
       "    </tr>\n",
       "    <tr>\n",
       "      <th>4</th>\n",
       "      <td>345.282593</td>\n",
       "      <td>21.183866</td>\n",
       "      <td>19.43718</td>\n",
       "      <td>17.58028</td>\n",
       "      <td>16.49747</td>\n",
       "      <td>15.97711</td>\n",
       "      <td>15.54461</td>\n",
       "      <td>GALAXY</td>\n",
       "      <td>0.116123</td>\n",
       "    </tr>\n",
       "    <tr>\n",
       "      <th>...</th>\n",
       "      <td>...</td>\n",
       "      <td>...</td>\n",
       "      <td>...</td>\n",
       "      <td>...</td>\n",
       "      <td>...</td>\n",
       "      <td>...</td>\n",
       "      <td>...</td>\n",
       "      <td>...</td>\n",
       "      <td>...</td>\n",
       "    </tr>\n",
       "    <tr>\n",
       "      <th>99995</th>\n",
       "      <td>39.620709</td>\n",
       "      <td>-2.594074</td>\n",
       "      <td>22.16759</td>\n",
       "      <td>22.97586</td>\n",
       "      <td>21.90404</td>\n",
       "      <td>21.30548</td>\n",
       "      <td>20.73569</td>\n",
       "      <td>GALAXY</td>\n",
       "      <td>0.000000</td>\n",
       "    </tr>\n",
       "    <tr>\n",
       "      <th>99996</th>\n",
       "      <td>29.493819</td>\n",
       "      <td>19.798874</td>\n",
       "      <td>22.69118</td>\n",
       "      <td>22.38628</td>\n",
       "      <td>20.45003</td>\n",
       "      <td>19.75759</td>\n",
       "      <td>19.41526</td>\n",
       "      <td>GALAXY</td>\n",
       "      <td>0.404895</td>\n",
       "    </tr>\n",
       "    <tr>\n",
       "      <th>99997</th>\n",
       "      <td>224.587407</td>\n",
       "      <td>15.700707</td>\n",
       "      <td>21.16916</td>\n",
       "      <td>19.26997</td>\n",
       "      <td>18.20428</td>\n",
       "      <td>17.69034</td>\n",
       "      <td>17.35221</td>\n",
       "      <td>GALAXY</td>\n",
       "      <td>0.143366</td>\n",
       "    </tr>\n",
       "    <tr>\n",
       "      <th>99998</th>\n",
       "      <td>212.268621</td>\n",
       "      <td>46.660365</td>\n",
       "      <td>25.35039</td>\n",
       "      <td>21.63757</td>\n",
       "      <td>19.91386</td>\n",
       "      <td>19.07254</td>\n",
       "      <td>18.62482</td>\n",
       "      <td>GALAXY</td>\n",
       "      <td>0.455040</td>\n",
       "    </tr>\n",
       "    <tr>\n",
       "      <th>99999</th>\n",
       "      <td>196.896053</td>\n",
       "      <td>49.464643</td>\n",
       "      <td>22.62171</td>\n",
       "      <td>21.79745</td>\n",
       "      <td>20.60115</td>\n",
       "      <td>20.00959</td>\n",
       "      <td>19.28075</td>\n",
       "      <td>GALAXY</td>\n",
       "      <td>0.542944</td>\n",
       "    </tr>\n",
       "  </tbody>\n",
       "</table>\n",
       "<p>100000 rows × 9 columns</p>\n",
       "</div>"
      ],
      "text/plain": [
       "            alpha      delta         u         g         r         i  \\\n",
       "0      135.689107  32.494632  23.87882  22.27530  20.39501  19.16573   \n",
       "1      144.826101  31.274185  24.77759  22.83188  22.58444  21.16812   \n",
       "2      142.188790  35.582444  25.26307  22.66389  20.60976  19.34857   \n",
       "3      338.741038  -0.402828  22.13682  23.77656  21.61162  20.50454   \n",
       "4      345.282593  21.183866  19.43718  17.58028  16.49747  15.97711   \n",
       "...           ...        ...       ...       ...       ...       ...   \n",
       "99995   39.620709  -2.594074  22.16759  22.97586  21.90404  21.30548   \n",
       "99996   29.493819  19.798874  22.69118  22.38628  20.45003  19.75759   \n",
       "99997  224.587407  15.700707  21.16916  19.26997  18.20428  17.69034   \n",
       "99998  212.268621  46.660365  25.35039  21.63757  19.91386  19.07254   \n",
       "99999  196.896053  49.464643  22.62171  21.79745  20.60115  20.00959   \n",
       "\n",
       "              z   class  redshift  \n",
       "0      18.79371  GALAXY  0.634794  \n",
       "1      21.61427  GALAXY  0.779136  \n",
       "2      18.94827  GALAXY  0.644195  \n",
       "3      19.25010  GALAXY  0.932346  \n",
       "4      15.54461  GALAXY  0.116123  \n",
       "...         ...     ...       ...  \n",
       "99995  20.73569  GALAXY  0.000000  \n",
       "99996  19.41526  GALAXY  0.404895  \n",
       "99997  17.35221  GALAXY  0.143366  \n",
       "99998  18.62482  GALAXY  0.455040  \n",
       "99999  19.28075  GALAXY  0.542944  \n",
       "\n",
       "[100000 rows x 9 columns]"
      ]
     },
     "execution_count": 9,
     "metadata": {},
     "output_type": "execute_result"
    }
   ],
   "source": [
    "data.drop(\n",
    "    columns=['obj_ID', 'run_ID', 'rerun_ID', 'cam_col', 'field_ID', 'spec_obj_ID', 'plate', 'MJD', 'fiber_ID'],\n",
    "    inplace=True,\n",
    ")\n",
    "data"
   ]
  },
  {
   "cell_type": "markdown",
   "metadata": {},
   "source": [
    "Удалим предположительно появившиеся дубликаты:"
   ]
  },
  {
   "cell_type": "code",
   "execution_count": 10,
   "metadata": {},
   "outputs": [
    {
     "data": {
      "text/html": [
       "<div>\n",
       "<style scoped>\n",
       "    .dataframe tbody tr th:only-of-type {\n",
       "        vertical-align: middle;\n",
       "    }\n",
       "\n",
       "    .dataframe tbody tr th {\n",
       "        vertical-align: top;\n",
       "    }\n",
       "\n",
       "    .dataframe thead th {\n",
       "        text-align: right;\n",
       "    }\n",
       "</style>\n",
       "<table border=\"1\" class=\"dataframe\">\n",
       "  <thead>\n",
       "    <tr style=\"text-align: right;\">\n",
       "      <th></th>\n",
       "      <th>alpha</th>\n",
       "      <th>delta</th>\n",
       "      <th>u</th>\n",
       "      <th>g</th>\n",
       "      <th>r</th>\n",
       "      <th>i</th>\n",
       "      <th>z</th>\n",
       "      <th>class</th>\n",
       "      <th>redshift</th>\n",
       "    </tr>\n",
       "  </thead>\n",
       "  <tbody>\n",
       "    <tr>\n",
       "      <th>0</th>\n",
       "      <td>135.689107</td>\n",
       "      <td>32.494632</td>\n",
       "      <td>23.87882</td>\n",
       "      <td>22.27530</td>\n",
       "      <td>20.39501</td>\n",
       "      <td>19.16573</td>\n",
       "      <td>18.79371</td>\n",
       "      <td>GALAXY</td>\n",
       "      <td>0.634794</td>\n",
       "    </tr>\n",
       "    <tr>\n",
       "      <th>1</th>\n",
       "      <td>144.826101</td>\n",
       "      <td>31.274185</td>\n",
       "      <td>24.77759</td>\n",
       "      <td>22.83188</td>\n",
       "      <td>22.58444</td>\n",
       "      <td>21.16812</td>\n",
       "      <td>21.61427</td>\n",
       "      <td>GALAXY</td>\n",
       "      <td>0.779136</td>\n",
       "    </tr>\n",
       "    <tr>\n",
       "      <th>2</th>\n",
       "      <td>142.188790</td>\n",
       "      <td>35.582444</td>\n",
       "      <td>25.26307</td>\n",
       "      <td>22.66389</td>\n",
       "      <td>20.60976</td>\n",
       "      <td>19.34857</td>\n",
       "      <td>18.94827</td>\n",
       "      <td>GALAXY</td>\n",
       "      <td>0.644195</td>\n",
       "    </tr>\n",
       "    <tr>\n",
       "      <th>3</th>\n",
       "      <td>338.741038</td>\n",
       "      <td>-0.402828</td>\n",
       "      <td>22.13682</td>\n",
       "      <td>23.77656</td>\n",
       "      <td>21.61162</td>\n",
       "      <td>20.50454</td>\n",
       "      <td>19.25010</td>\n",
       "      <td>GALAXY</td>\n",
       "      <td>0.932346</td>\n",
       "    </tr>\n",
       "    <tr>\n",
       "      <th>4</th>\n",
       "      <td>345.282593</td>\n",
       "      <td>21.183866</td>\n",
       "      <td>19.43718</td>\n",
       "      <td>17.58028</td>\n",
       "      <td>16.49747</td>\n",
       "      <td>15.97711</td>\n",
       "      <td>15.54461</td>\n",
       "      <td>GALAXY</td>\n",
       "      <td>0.116123</td>\n",
       "    </tr>\n",
       "    <tr>\n",
       "      <th>...</th>\n",
       "      <td>...</td>\n",
       "      <td>...</td>\n",
       "      <td>...</td>\n",
       "      <td>...</td>\n",
       "      <td>...</td>\n",
       "      <td>...</td>\n",
       "      <td>...</td>\n",
       "      <td>...</td>\n",
       "      <td>...</td>\n",
       "    </tr>\n",
       "    <tr>\n",
       "      <th>99995</th>\n",
       "      <td>39.620709</td>\n",
       "      <td>-2.594074</td>\n",
       "      <td>22.16759</td>\n",
       "      <td>22.97586</td>\n",
       "      <td>21.90404</td>\n",
       "      <td>21.30548</td>\n",
       "      <td>20.73569</td>\n",
       "      <td>GALAXY</td>\n",
       "      <td>0.000000</td>\n",
       "    </tr>\n",
       "    <tr>\n",
       "      <th>99996</th>\n",
       "      <td>29.493819</td>\n",
       "      <td>19.798874</td>\n",
       "      <td>22.69118</td>\n",
       "      <td>22.38628</td>\n",
       "      <td>20.45003</td>\n",
       "      <td>19.75759</td>\n",
       "      <td>19.41526</td>\n",
       "      <td>GALAXY</td>\n",
       "      <td>0.404895</td>\n",
       "    </tr>\n",
       "    <tr>\n",
       "      <th>99997</th>\n",
       "      <td>224.587407</td>\n",
       "      <td>15.700707</td>\n",
       "      <td>21.16916</td>\n",
       "      <td>19.26997</td>\n",
       "      <td>18.20428</td>\n",
       "      <td>17.69034</td>\n",
       "      <td>17.35221</td>\n",
       "      <td>GALAXY</td>\n",
       "      <td>0.143366</td>\n",
       "    </tr>\n",
       "    <tr>\n",
       "      <th>99998</th>\n",
       "      <td>212.268621</td>\n",
       "      <td>46.660365</td>\n",
       "      <td>25.35039</td>\n",
       "      <td>21.63757</td>\n",
       "      <td>19.91386</td>\n",
       "      <td>19.07254</td>\n",
       "      <td>18.62482</td>\n",
       "      <td>GALAXY</td>\n",
       "      <td>0.455040</td>\n",
       "    </tr>\n",
       "    <tr>\n",
       "      <th>99999</th>\n",
       "      <td>196.896053</td>\n",
       "      <td>49.464643</td>\n",
       "      <td>22.62171</td>\n",
       "      <td>21.79745</td>\n",
       "      <td>20.60115</td>\n",
       "      <td>20.00959</td>\n",
       "      <td>19.28075</td>\n",
       "      <td>GALAXY</td>\n",
       "      <td>0.542944</td>\n",
       "    </tr>\n",
       "  </tbody>\n",
       "</table>\n",
       "<p>100000 rows × 9 columns</p>\n",
       "</div>"
      ],
      "text/plain": [
       "            alpha      delta         u         g         r         i  \\\n",
       "0      135.689107  32.494632  23.87882  22.27530  20.39501  19.16573   \n",
       "1      144.826101  31.274185  24.77759  22.83188  22.58444  21.16812   \n",
       "2      142.188790  35.582444  25.26307  22.66389  20.60976  19.34857   \n",
       "3      338.741038  -0.402828  22.13682  23.77656  21.61162  20.50454   \n",
       "4      345.282593  21.183866  19.43718  17.58028  16.49747  15.97711   \n",
       "...           ...        ...       ...       ...       ...       ...   \n",
       "99995   39.620709  -2.594074  22.16759  22.97586  21.90404  21.30548   \n",
       "99996   29.493819  19.798874  22.69118  22.38628  20.45003  19.75759   \n",
       "99997  224.587407  15.700707  21.16916  19.26997  18.20428  17.69034   \n",
       "99998  212.268621  46.660365  25.35039  21.63757  19.91386  19.07254   \n",
       "99999  196.896053  49.464643  22.62171  21.79745  20.60115  20.00959   \n",
       "\n",
       "              z   class  redshift  \n",
       "0      18.79371  GALAXY  0.634794  \n",
       "1      21.61427  GALAXY  0.779136  \n",
       "2      18.94827  GALAXY  0.644195  \n",
       "3      19.25010  GALAXY  0.932346  \n",
       "4      15.54461  GALAXY  0.116123  \n",
       "...         ...     ...       ...  \n",
       "99995  20.73569  GALAXY  0.000000  \n",
       "99996  19.41526  GALAXY  0.404895  \n",
       "99997  17.35221  GALAXY  0.143366  \n",
       "99998  18.62482  GALAXY  0.455040  \n",
       "99999  19.28075  GALAXY  0.542944  \n",
       "\n",
       "[100000 rows x 9 columns]"
      ]
     },
     "execution_count": 10,
     "metadata": {},
     "output_type": "execute_result"
    }
   ],
   "source": [
    "data.drop_duplicates(keep='first', inplace=True)\n",
    "data"
   ]
  },
  {
   "cell_type": "markdown",
   "metadata": {},
   "source": [
    "## Подготовка к проведению расчетов"
   ]
  },
  {
   "cell_type": "code",
   "execution_count": 11,
   "metadata": {},
   "outputs": [],
   "source": [
    "params = {\n",
    "    'feature': 'Метод',\n",
    "    'time': 'Время',\n",
    "    'score': 'Счет',\n",
    "}\n",
    "algos = {\n",
    "    'DecisionTree': ['predict', 'train', 'test'],\n",
    "    'Bagging': ['predict', 'train', 'test'],\n",
    "    'Random Forest': ['predict', 'train', 'test'],\n",
    "    'CatBoosting CPU': ['predict', 'train', 'test'],\n",
    "    'CatBoosting GPU': ['predict', 'train', 'test'],\n",
    "    'Gradient Boosting': ['predict', 'train', 'test'],\n",
    "    'Hist Gradient Boosting': ['predict', 'train', 'test'],\n",
    "    'XGBoosting CPU': ['predict', 'train', 'test'],\n",
    "    'XGBoosting GPU': ['predict', 'train', 'test'],\n",
    "}\n",
    "random_state = 42"
   ]
  },
  {
   "cell_type": "code",
   "execution_count": 12,
   "metadata": {},
   "outputs": [
    {
     "data": {
      "text/html": [
       "<div>\n",
       "<style scoped>\n",
       "    .dataframe tbody tr th:only-of-type {\n",
       "        vertical-align: middle;\n",
       "    }\n",
       "\n",
       "    .dataframe tbody tr th {\n",
       "        vertical-align: top;\n",
       "    }\n",
       "\n",
       "    .dataframe thead th {\n",
       "        text-align: right;\n",
       "    }\n",
       "</style>\n",
       "<table border=\"1\" class=\"dataframe\">\n",
       "  <thead>\n",
       "    <tr style=\"text-align: right;\">\n",
       "      <th></th>\n",
       "      <th>Метод</th>\n",
       "      <th>Время</th>\n",
       "      <th>Счет</th>\n",
       "    </tr>\n",
       "    <tr>\n",
       "      <th>Тип анс. обучения</th>\n",
       "      <th></th>\n",
       "      <th></th>\n",
       "      <th></th>\n",
       "    </tr>\n",
       "  </thead>\n",
       "  <tbody>\n",
       "    <tr>\n",
       "      <th>DecisionTree</th>\n",
       "      <td>predict</td>\n",
       "      <td>—</td>\n",
       "      <td>—</td>\n",
       "    </tr>\n",
       "    <tr>\n",
       "      <th>DecisionTree</th>\n",
       "      <td>train</td>\n",
       "      <td>—</td>\n",
       "      <td>—</td>\n",
       "    </tr>\n",
       "    <tr>\n",
       "      <th>DecisionTree</th>\n",
       "      <td>test</td>\n",
       "      <td>—</td>\n",
       "      <td>—</td>\n",
       "    </tr>\n",
       "    <tr>\n",
       "      <th>Bagging</th>\n",
       "      <td>predict</td>\n",
       "      <td>—</td>\n",
       "      <td>—</td>\n",
       "    </tr>\n",
       "    <tr>\n",
       "      <th>Bagging</th>\n",
       "      <td>train</td>\n",
       "      <td>—</td>\n",
       "      <td>—</td>\n",
       "    </tr>\n",
       "    <tr>\n",
       "      <th>Bagging</th>\n",
       "      <td>test</td>\n",
       "      <td>—</td>\n",
       "      <td>—</td>\n",
       "    </tr>\n",
       "    <tr>\n",
       "      <th>Random Forest</th>\n",
       "      <td>predict</td>\n",
       "      <td>—</td>\n",
       "      <td>—</td>\n",
       "    </tr>\n",
       "    <tr>\n",
       "      <th>Random Forest</th>\n",
       "      <td>train</td>\n",
       "      <td>—</td>\n",
       "      <td>—</td>\n",
       "    </tr>\n",
       "    <tr>\n",
       "      <th>Random Forest</th>\n",
       "      <td>test</td>\n",
       "      <td>—</td>\n",
       "      <td>—</td>\n",
       "    </tr>\n",
       "    <tr>\n",
       "      <th>CatBoosting CPU</th>\n",
       "      <td>predict</td>\n",
       "      <td>—</td>\n",
       "      <td>—</td>\n",
       "    </tr>\n",
       "    <tr>\n",
       "      <th>CatBoosting CPU</th>\n",
       "      <td>train</td>\n",
       "      <td>—</td>\n",
       "      <td>—</td>\n",
       "    </tr>\n",
       "    <tr>\n",
       "      <th>CatBoosting CPU</th>\n",
       "      <td>test</td>\n",
       "      <td>—</td>\n",
       "      <td>—</td>\n",
       "    </tr>\n",
       "    <tr>\n",
       "      <th>CatBoosting GPU</th>\n",
       "      <td>predict</td>\n",
       "      <td>—</td>\n",
       "      <td>—</td>\n",
       "    </tr>\n",
       "    <tr>\n",
       "      <th>CatBoosting GPU</th>\n",
       "      <td>train</td>\n",
       "      <td>—</td>\n",
       "      <td>—</td>\n",
       "    </tr>\n",
       "    <tr>\n",
       "      <th>CatBoosting GPU</th>\n",
       "      <td>test</td>\n",
       "      <td>—</td>\n",
       "      <td>—</td>\n",
       "    </tr>\n",
       "    <tr>\n",
       "      <th>Gradient Boosting</th>\n",
       "      <td>predict</td>\n",
       "      <td>—</td>\n",
       "      <td>—</td>\n",
       "    </tr>\n",
       "    <tr>\n",
       "      <th>Gradient Boosting</th>\n",
       "      <td>train</td>\n",
       "      <td>—</td>\n",
       "      <td>—</td>\n",
       "    </tr>\n",
       "    <tr>\n",
       "      <th>Gradient Boosting</th>\n",
       "      <td>test</td>\n",
       "      <td>—</td>\n",
       "      <td>—</td>\n",
       "    </tr>\n",
       "    <tr>\n",
       "      <th>Hist Gradient Boosting</th>\n",
       "      <td>predict</td>\n",
       "      <td>—</td>\n",
       "      <td>—</td>\n",
       "    </tr>\n",
       "    <tr>\n",
       "      <th>Hist Gradient Boosting</th>\n",
       "      <td>train</td>\n",
       "      <td>—</td>\n",
       "      <td>—</td>\n",
       "    </tr>\n",
       "    <tr>\n",
       "      <th>Hist Gradient Boosting</th>\n",
       "      <td>test</td>\n",
       "      <td>—</td>\n",
       "      <td>—</td>\n",
       "    </tr>\n",
       "    <tr>\n",
       "      <th>XGBoosting CPU</th>\n",
       "      <td>predict</td>\n",
       "      <td>—</td>\n",
       "      <td>—</td>\n",
       "    </tr>\n",
       "    <tr>\n",
       "      <th>XGBoosting CPU</th>\n",
       "      <td>train</td>\n",
       "      <td>—</td>\n",
       "      <td>—</td>\n",
       "    </tr>\n",
       "    <tr>\n",
       "      <th>XGBoosting CPU</th>\n",
       "      <td>test</td>\n",
       "      <td>—</td>\n",
       "      <td>—</td>\n",
       "    </tr>\n",
       "    <tr>\n",
       "      <th>XGBoosting GPU</th>\n",
       "      <td>predict</td>\n",
       "      <td>—</td>\n",
       "      <td>—</td>\n",
       "    </tr>\n",
       "    <tr>\n",
       "      <th>XGBoosting GPU</th>\n",
       "      <td>train</td>\n",
       "      <td>—</td>\n",
       "      <td>—</td>\n",
       "    </tr>\n",
       "    <tr>\n",
       "      <th>XGBoosting GPU</th>\n",
       "      <td>test</td>\n",
       "      <td>—</td>\n",
       "      <td>—</td>\n",
       "    </tr>\n",
       "  </tbody>\n",
       "</table>\n",
       "</div>"
      ],
      "text/plain": [
       "                          Метод Время Счет\n",
       "Тип анс. обучения                         \n",
       "DecisionTree            predict     —    —\n",
       "DecisionTree              train     —    —\n",
       "DecisionTree               test     —    —\n",
       "Bagging                 predict     —    —\n",
       "Bagging                   train     —    —\n",
       "Bagging                    test     —    —\n",
       "Random Forest           predict     —    —\n",
       "Random Forest             train     —    —\n",
       "Random Forest              test     —    —\n",
       "CatBoosting CPU         predict     —    —\n",
       "CatBoosting CPU           train     —    —\n",
       "CatBoosting CPU            test     —    —\n",
       "CatBoosting GPU         predict     —    —\n",
       "CatBoosting GPU           train     —    —\n",
       "CatBoosting GPU            test     —    —\n",
       "Gradient Boosting       predict     —    —\n",
       "Gradient Boosting         train     —    —\n",
       "Gradient Boosting          test     —    —\n",
       "Hist Gradient Boosting  predict     —    —\n",
       "Hist Gradient Boosting    train     —    —\n",
       "Hist Gradient Boosting     test     —    —\n",
       "XGBoosting CPU          predict     —    —\n",
       "XGBoosting CPU            train     —    —\n",
       "XGBoosting CPU             test     —    —\n",
       "XGBoosting GPU          predict     —    —\n",
       "XGBoosting GPU            train     —    —\n",
       "XGBoosting GPU             test     —    —"
      ]
     },
     "execution_count": 12,
     "metadata": {},
     "output_type": "execute_result"
    }
   ],
   "source": [
    "numbers = [len(lst) for alg, lst in algos.items()]\n",
    "mult_algos = [\n",
    "    x for x, number in zip(algos, numbers)\n",
    "    for _ in range(number)\n",
    "]\n",
    "content = [\"—\"] * len(mult_algos)\n",
    "\n",
    "results = pd.DataFrame(data={\n",
    "    params['feature']: content,\n",
    "    params['time']: content,\n",
    "    params['score']: content,\n",
    "}, index=pd.Index(\n",
    "    data=mult_algos, name=\"Тип анс. обучения\"\n",
    "))\n",
    "\n",
    "for alg, lst in algos.items():\n",
    "    results.at[alg, params['feature']] = lst\n",
    "    # for i in range(len(lst)):\n",
    "    #     results.at[alg, 'Характеристика'][i] = lst[i]\n",
    "\n",
    "results"
   ]
  },
  {
   "cell_type": "code",
   "execution_count": 13,
   "metadata": {},
   "outputs": [],
   "source": [
    "from timeit import timeit\n",
    "\n",
    "def time_for(alg, feature):\n",
    "    def decorator(func):\n",
    "        def wrapper(*args, **kwargs):\n",
    "            boolean = \\\n",
    "                (results[params['feature']] == feature) \\\n",
    "                & (results.index == alg)\n",
    "\n",
    "            # result = func(*args, **kwargs)\n",
    "            results.loc[boolean, params['time']] = \\\n",
    "                timeit(lambda: func(*args, **kwargs), number=1)\n",
    "\n",
    "            return func(*args, **kwargs)\n",
    "        return wrapper\n",
    "    return decorator\n"
   ]
  },
  {
   "cell_type": "code",
   "execution_count": 14,
   "metadata": {},
   "outputs": [],
   "source": [
    "def score_for(alg, feature):\n",
    "    def decorator(func):\n",
    "        def wrapper(*args, **kwargs):\n",
    "            boolean = \\\n",
    "                (results[params['feature']] == feature) \\\n",
    "                & (results.index == alg)\n",
    "\n",
    "            # result = func(*args, **kwargs)\n",
    "            results.loc[boolean, params['score']] = func(*args, **kwargs)\n",
    "\n",
    "            return func(*args, **kwargs)\n",
    "        return wrapper\n",
    "    return decorator\n"
   ]
  },
  {
   "cell_type": "code",
   "execution_count": 15,
   "metadata": {},
   "outputs": [],
   "source": [
    "from sklearn.metrics import confusion_matrix, f1_score\n",
    "from sklearn.model_selection import GridSearchCV\n",
    "import plotly.express as px\n",
    "\n",
    "def draw_conf_matrix(test, predict):\n",
    "    figure = px.imshow(confusion_matrix(test, predict), text_auto=True)\n",
    "    figure.update_layout(xaxis_title='Target', yaxis_title='Prediction')\n",
    "    figure.show()\n"
   ]
  },
  {
   "cell_type": "markdown",
   "metadata": {},
   "source": [
    "## Разделение выборки на обучающую и тестовую"
   ]
  },
  {
   "cell_type": "code",
   "execution_count": 16,
   "metadata": {},
   "outputs": [
    {
     "data": {
      "text/html": [
       "<div>\n",
       "<style scoped>\n",
       "    .dataframe tbody tr th:only-of-type {\n",
       "        vertical-align: middle;\n",
       "    }\n",
       "\n",
       "    .dataframe tbody tr th {\n",
       "        vertical-align: top;\n",
       "    }\n",
       "\n",
       "    .dataframe thead th {\n",
       "        text-align: right;\n",
       "    }\n",
       "</style>\n",
       "<table border=\"1\" class=\"dataframe\">\n",
       "  <thead>\n",
       "    <tr style=\"text-align: right;\">\n",
       "      <th></th>\n",
       "      <th>alpha</th>\n",
       "      <th>delta</th>\n",
       "      <th>u</th>\n",
       "      <th>g</th>\n",
       "      <th>r</th>\n",
       "      <th>i</th>\n",
       "      <th>z</th>\n",
       "      <th>redshift</th>\n",
       "    </tr>\n",
       "  </thead>\n",
       "  <tbody>\n",
       "    <tr>\n",
       "      <th>0</th>\n",
       "      <td>0.376905</td>\n",
       "      <td>0.503802</td>\n",
       "      <td>0.591347</td>\n",
       "      <td>0.558050</td>\n",
       "      <td>0.535344</td>\n",
       "      <td>0.427665</td>\n",
       "      <td>0.464377</td>\n",
       "      <td>0.091831</td>\n",
       "    </tr>\n",
       "    <tr>\n",
       "      <th>1</th>\n",
       "      <td>0.402286</td>\n",
       "      <td>0.491812</td>\n",
       "      <td>0.632603</td>\n",
       "      <td>0.584423</td>\n",
       "      <td>0.646203</td>\n",
       "      <td>0.515986</td>\n",
       "      <td>0.607035</td>\n",
       "      <td>0.112389</td>\n",
       "    </tr>\n",
       "    <tr>\n",
       "      <th>2</th>\n",
       "      <td>0.394960</td>\n",
       "      <td>0.534139</td>\n",
       "      <td>0.654888</td>\n",
       "      <td>0.576463</td>\n",
       "      <td>0.546218</td>\n",
       "      <td>0.435729</td>\n",
       "      <td>0.472194</td>\n",
       "      <td>0.093170</td>\n",
       "    </tr>\n",
       "    <tr>\n",
       "      <th>3</th>\n",
       "      <td>0.940947</td>\n",
       "      <td>0.180600</td>\n",
       "      <td>0.511384</td>\n",
       "      <td>0.629186</td>\n",
       "      <td>0.596946</td>\n",
       "      <td>0.486717</td>\n",
       "      <td>0.487460</td>\n",
       "      <td>0.134210</td>\n",
       "    </tr>\n",
       "    <tr>\n",
       "      <th>4</th>\n",
       "      <td>0.959118</td>\n",
       "      <td>0.392679</td>\n",
       "      <td>0.387463</td>\n",
       "      <td>0.335579</td>\n",
       "      <td>0.337999</td>\n",
       "      <td>0.287021</td>\n",
       "      <td>0.300043</td>\n",
       "      <td>0.017959</td>\n",
       "    </tr>\n",
       "    <tr>\n",
       "      <th>...</th>\n",
       "      <td>...</td>\n",
       "      <td>...</td>\n",
       "      <td>...</td>\n",
       "      <td>...</td>\n",
       "      <td>...</td>\n",
       "      <td>...</td>\n",
       "      <td>...</td>\n",
       "      <td>...</td>\n",
       "    </tr>\n",
       "    <tr>\n",
       "      <th>99995</th>\n",
       "      <td>0.110044</td>\n",
       "      <td>0.159072</td>\n",
       "      <td>0.512797</td>\n",
       "      <td>0.591245</td>\n",
       "      <td>0.611752</td>\n",
       "      <td>0.522045</td>\n",
       "      <td>0.562598</td>\n",
       "      <td>0.001420</td>\n",
       "    </tr>\n",
       "    <tr>\n",
       "      <th>99996</th>\n",
       "      <td>0.081913</td>\n",
       "      <td>0.379072</td>\n",
       "      <td>0.536831</td>\n",
       "      <td>0.563308</td>\n",
       "      <td>0.538130</td>\n",
       "      <td>0.453770</td>\n",
       "      <td>0.495813</td>\n",
       "      <td>0.059087</td>\n",
       "    </tr>\n",
       "    <tr>\n",
       "      <th>99997</th>\n",
       "      <td>0.623848</td>\n",
       "      <td>0.338810</td>\n",
       "      <td>0.466966</td>\n",
       "      <td>0.415644</td>\n",
       "      <td>0.424420</td>\n",
       "      <td>0.362588</td>\n",
       "      <td>0.391468</td>\n",
       "      <td>0.021839</td>\n",
       "    </tr>\n",
       "    <tr>\n",
       "      <th>99998</th>\n",
       "      <td>0.589629</td>\n",
       "      <td>0.642974</td>\n",
       "      <td>0.658896</td>\n",
       "      <td>0.527831</td>\n",
       "      <td>0.510982</td>\n",
       "      <td>0.423554</td>\n",
       "      <td>0.455834</td>\n",
       "      <td>0.066229</td>\n",
       "    </tr>\n",
       "    <tr>\n",
       "      <th>99999</th>\n",
       "      <td>0.546927</td>\n",
       "      <td>0.670525</td>\n",
       "      <td>0.533642</td>\n",
       "      <td>0.535407</td>\n",
       "      <td>0.545782</td>\n",
       "      <td>0.464886</td>\n",
       "      <td>0.489010</td>\n",
       "      <td>0.078749</td>\n",
       "    </tr>\n",
       "  </tbody>\n",
       "</table>\n",
       "<p>100000 rows × 8 columns</p>\n",
       "</div>"
      ],
      "text/plain": [
       "          alpha     delta         u         g         r         i         z  \\\n",
       "0      0.376905  0.503802  0.591347  0.558050  0.535344  0.427665  0.464377   \n",
       "1      0.402286  0.491812  0.632603  0.584423  0.646203  0.515986  0.607035   \n",
       "2      0.394960  0.534139  0.654888  0.576463  0.546218  0.435729  0.472194   \n",
       "3      0.940947  0.180600  0.511384  0.629186  0.596946  0.486717  0.487460   \n",
       "4      0.959118  0.392679  0.387463  0.335579  0.337999  0.287021  0.300043   \n",
       "...         ...       ...       ...       ...       ...       ...       ...   \n",
       "99995  0.110044  0.159072  0.512797  0.591245  0.611752  0.522045  0.562598   \n",
       "99996  0.081913  0.379072  0.536831  0.563308  0.538130  0.453770  0.495813   \n",
       "99997  0.623848  0.338810  0.466966  0.415644  0.424420  0.362588  0.391468   \n",
       "99998  0.589629  0.642974  0.658896  0.527831  0.510982  0.423554  0.455834   \n",
       "99999  0.546927  0.670525  0.533642  0.535407  0.545782  0.464886  0.489010   \n",
       "\n",
       "       redshift  \n",
       "0      0.091831  \n",
       "1      0.112389  \n",
       "2      0.093170  \n",
       "3      0.134210  \n",
       "4      0.017959  \n",
       "...         ...  \n",
       "99995  0.001420  \n",
       "99996  0.059087  \n",
       "99997  0.021839  \n",
       "99998  0.066229  \n",
       "99999  0.078749  \n",
       "\n",
       "[100000 rows x 8 columns]"
      ]
     },
     "execution_count": 16,
     "metadata": {},
     "output_type": "execute_result"
    }
   ],
   "source": [
    "from sklearn import preprocessing as preprc\n",
    "\n",
    "predictors = data.drop(['class'], axis=1)\n",
    "\n",
    "predictors = pd.DataFrame(\n",
    "    preprc.MinMaxScaler().fit_transform(predictors),\n",
    "    columns=predictors.columns,\n",
    ")\n",
    "predictors"
   ]
  },
  {
   "cell_type": "code",
   "execution_count": 17,
   "metadata": {},
   "outputs": [
    {
     "name": "stdout",
     "output_type": "stream",
     "text": [
      "Размер для признаков обучающей выборки: (1000, 8)\n",
      "Размер для признаков тестовой выборки: (99000, 8)\n",
      "Размер для целевого показателя обучающей выборки: (1000,)\n",
      "Размер для показателя тестовой выборки: (99000,)\n"
     ]
    }
   ],
   "source": [
    "from sklearn.model_selection import train_test_split\n",
    "\n",
    "X_train, X_test, y_train, y_test = train_test_split(\n",
    "    predictors, pd.factorize(data['class'])[0], train_size=0.01,\n",
    "    shuffle=True, random_state=random_state,\n",
    ")\n",
    "\n",
    "print(\n",
    "    f'Размер для признаков обучающей выборки: {X_train.shape}',\n",
    "    f'Размер для признаков тестовой выборки: {X_test.shape}',\n",
    "    f'Размер для целевого показателя обучающей выборки: {y_train.shape}',\n",
    "    f'Размер для показателя тестовой выборки: {y_test.shape}',\n",
    "sep='\\n')"
   ]
  },
  {
   "cell_type": "markdown",
   "metadata": {},
   "source": [
    "## Задание 2\n",
    "\n",
    "Реализовать баггинг, стандартным примером которого является случайный лес.\n"
   ]
  },
  {
   "cell_type": "markdown",
   "metadata": {},
   "source": [
    "### Decision Tree"
   ]
  },
  {
   "cell_type": "code",
   "execution_count": 18,
   "metadata": {},
   "outputs": [],
   "source": [
    "from sklearn.tree import DecisionTreeClassifier\n",
    "\n",
    "decision_params = {\n",
    "    'max_depth': [12, 15, 18],\n",
    "    'max_features': [.5, .75, 1],\n",
    "    'min_samples_leaf': [3, 5, 10],\n",
    "    'min_samples_split': [6, 9, 12],\n",
    "}\n",
    "\n",
    "@time_for('DecisionTree', 'predict')\n",
    "def fit_decision():\n",
    "    return GridSearchCV(\n",
    "        estimator=DecisionTreeClassifier(random_state=random_state),\n",
    "        param_grid=decision_params, scoring='f1_macro', cv=4,\n",
    "    ).fit(X_train, y_train)\n",
    "\n",
    "decision_tree = fit_decision()"
   ]
  },
  {
   "cell_type": "code",
   "execution_count": 19,
   "metadata": {},
   "outputs": [
    {
     "data": {
      "text/html": [
       "<style>#sk-container-id-1 {color: black;background-color: white;}#sk-container-id-1 pre{padding: 0;}#sk-container-id-1 div.sk-toggleable {background-color: white;}#sk-container-id-1 label.sk-toggleable__label {cursor: pointer;display: block;width: 100%;margin-bottom: 0;padding: 0.3em;box-sizing: border-box;text-align: center;}#sk-container-id-1 label.sk-toggleable__label-arrow:before {content: \"▸\";float: left;margin-right: 0.25em;color: #696969;}#sk-container-id-1 label.sk-toggleable__label-arrow:hover:before {color: black;}#sk-container-id-1 div.sk-estimator:hover label.sk-toggleable__label-arrow:before {color: black;}#sk-container-id-1 div.sk-toggleable__content {max-height: 0;max-width: 0;overflow: hidden;text-align: left;background-color: #f0f8ff;}#sk-container-id-1 div.sk-toggleable__content pre {margin: 0.2em;color: black;border-radius: 0.25em;background-color: #f0f8ff;}#sk-container-id-1 input.sk-toggleable__control:checked~div.sk-toggleable__content {max-height: 200px;max-width: 100%;overflow: auto;}#sk-container-id-1 input.sk-toggleable__control:checked~label.sk-toggleable__label-arrow:before {content: \"▾\";}#sk-container-id-1 div.sk-estimator input.sk-toggleable__control:checked~label.sk-toggleable__label {background-color: #d4ebff;}#sk-container-id-1 div.sk-label input.sk-toggleable__control:checked~label.sk-toggleable__label {background-color: #d4ebff;}#sk-container-id-1 input.sk-hidden--visually {border: 0;clip: rect(1px 1px 1px 1px);clip: rect(1px, 1px, 1px, 1px);height: 1px;margin: -1px;overflow: hidden;padding: 0;position: absolute;width: 1px;}#sk-container-id-1 div.sk-estimator {font-family: monospace;background-color: #f0f8ff;border: 1px dotted black;border-radius: 0.25em;box-sizing: border-box;margin-bottom: 0.5em;}#sk-container-id-1 div.sk-estimator:hover {background-color: #d4ebff;}#sk-container-id-1 div.sk-parallel-item::after {content: \"\";width: 100%;border-bottom: 1px solid gray;flex-grow: 1;}#sk-container-id-1 div.sk-label:hover label.sk-toggleable__label {background-color: #d4ebff;}#sk-container-id-1 div.sk-serial::before {content: \"\";position: absolute;border-left: 1px solid gray;box-sizing: border-box;top: 0;bottom: 0;left: 50%;z-index: 0;}#sk-container-id-1 div.sk-serial {display: flex;flex-direction: column;align-items: center;background-color: white;padding-right: 0.2em;padding-left: 0.2em;position: relative;}#sk-container-id-1 div.sk-item {position: relative;z-index: 1;}#sk-container-id-1 div.sk-parallel {display: flex;align-items: stretch;justify-content: center;background-color: white;position: relative;}#sk-container-id-1 div.sk-item::before, #sk-container-id-1 div.sk-parallel-item::before {content: \"\";position: absolute;border-left: 1px solid gray;box-sizing: border-box;top: 0;bottom: 0;left: 50%;z-index: -1;}#sk-container-id-1 div.sk-parallel-item {display: flex;flex-direction: column;z-index: 1;position: relative;background-color: white;}#sk-container-id-1 div.sk-parallel-item:first-child::after {align-self: flex-end;width: 50%;}#sk-container-id-1 div.sk-parallel-item:last-child::after {align-self: flex-start;width: 50%;}#sk-container-id-1 div.sk-parallel-item:only-child::after {width: 0;}#sk-container-id-1 div.sk-dashed-wrapped {border: 1px dashed gray;margin: 0 0.4em 0.5em 0.4em;box-sizing: border-box;padding-bottom: 0.4em;background-color: white;}#sk-container-id-1 div.sk-label label {font-family: monospace;font-weight: bold;display: inline-block;line-height: 1.2em;}#sk-container-id-1 div.sk-label-container {text-align: center;}#sk-container-id-1 div.sk-container {/* jupyter's `normalize.less` sets `[hidden] { display: none; }` but bootstrap.min.css set `[hidden] { display: none !important; }` so we also need the `!important` here to be able to override the default hidden behavior on the sphinx rendered scikit-learn.org. See: https://github.com/scikit-learn/scikit-learn/issues/21755 */display: inline-block !important;position: relative;}#sk-container-id-1 div.sk-text-repr-fallback {display: none;}</style><div id=\"sk-container-id-1\" class=\"sk-top-container\"><div class=\"sk-text-repr-fallback\"><pre>DecisionTreeClassifier(max_depth=12, max_features=0.5, min_samples_leaf=3,\n",
       "                       min_samples_split=9, random_state=42)</pre><b>In a Jupyter environment, please rerun this cell to show the HTML representation or trust the notebook. <br />On GitHub, the HTML representation is unable to render, please try loading this page with nbviewer.org.</b></div><div class=\"sk-container\" hidden><div class=\"sk-item\"><div class=\"sk-estimator sk-toggleable\"><input class=\"sk-toggleable__control sk-hidden--visually\" id=\"sk-estimator-id-1\" type=\"checkbox\" checked><label for=\"sk-estimator-id-1\" class=\"sk-toggleable__label sk-toggleable__label-arrow\">DecisionTreeClassifier</label><div class=\"sk-toggleable__content\"><pre>DecisionTreeClassifier(max_depth=12, max_features=0.5, min_samples_leaf=3,\n",
       "                       min_samples_split=9, random_state=42)</pre></div></div></div></div></div>"
      ],
      "text/plain": [
       "DecisionTreeClassifier(max_depth=12, max_features=0.5, min_samples_leaf=3,\n",
       "                       min_samples_split=9, random_state=42)"
      ]
     },
     "execution_count": 19,
     "metadata": {},
     "output_type": "execute_result"
    }
   ],
   "source": [
    "decision_model = decision_tree.best_estimator_\n",
    "decision_model"
   ]
  },
  {
   "cell_type": "code",
   "execution_count": 20,
   "metadata": {},
   "outputs": [],
   "source": [
    "decision_y_train = decision_model.predict(X_train)"
   ]
  },
  {
   "cell_type": "code",
   "execution_count": 72,
   "metadata": {},
   "outputs": [
    {
     "name": "stdout",
     "output_type": "stream",
     "text": [
      "F1-мера для тренировочных данных с помощью DecisionTreeClassifier: 0.9676284485078227\n"
     ]
    },
    {
     "data": {
      "application/vnd.plotly.v1+json": {
       "config": {
        "plotlyServerURL": "https://plot.ly"
       },
       "data": [
        {
         "coloraxis": "coloraxis",
         "hovertemplate": "x: %{x}<br>y: %{y}<br>color: %{z}<extra></extra>",
         "name": "0",
         "texttemplate": "%{z}",
         "type": "heatmap",
         "xaxis": "x",
         "yaxis": "y",
         "z": [
          [
           572,
           6,
           4
          ],
          [
           17,
           173,
           0
          ],
          [
           1,
           0,
           227
          ]
         ]
        }
       ],
       "layout": {
        "coloraxis": {
         "colorscale": [
          [
           0,
           "#0d0887"
          ],
          [
           0.1111111111111111,
           "#46039f"
          ],
          [
           0.2222222222222222,
           "#7201a8"
          ],
          [
           0.3333333333333333,
           "#9c179e"
          ],
          [
           0.4444444444444444,
           "#bd3786"
          ],
          [
           0.5555555555555556,
           "#d8576b"
          ],
          [
           0.6666666666666666,
           "#ed7953"
          ],
          [
           0.7777777777777778,
           "#fb9f3a"
          ],
          [
           0.8888888888888888,
           "#fdca26"
          ],
          [
           1,
           "#f0f921"
          ]
         ]
        },
        "margin": {
         "t": 60
        },
        "template": {
         "data": {
          "bar": [
           {
            "error_x": {
             "color": "#f2f5fa"
            },
            "error_y": {
             "color": "#f2f5fa"
            },
            "marker": {
             "line": {
              "color": "rgb(17,17,17)",
              "width": 0.5
             },
             "pattern": {
              "fillmode": "overlay",
              "size": 10,
              "solidity": 0.2
             }
            },
            "type": "bar"
           }
          ],
          "barpolar": [
           {
            "marker": {
             "line": {
              "color": "rgb(17,17,17)",
              "width": 0.5
             },
             "pattern": {
              "fillmode": "overlay",
              "size": 10,
              "solidity": 0.2
             }
            },
            "type": "barpolar"
           }
          ],
          "carpet": [
           {
            "aaxis": {
             "endlinecolor": "#A2B1C6",
             "gridcolor": "#506784",
             "linecolor": "#506784",
             "minorgridcolor": "#506784",
             "startlinecolor": "#A2B1C6"
            },
            "baxis": {
             "endlinecolor": "#A2B1C6",
             "gridcolor": "#506784",
             "linecolor": "#506784",
             "minorgridcolor": "#506784",
             "startlinecolor": "#A2B1C6"
            },
            "type": "carpet"
           }
          ],
          "choropleth": [
           {
            "colorbar": {
             "outlinewidth": 0,
             "ticks": ""
            },
            "type": "choropleth"
           }
          ],
          "contour": [
           {
            "colorbar": {
             "outlinewidth": 0,
             "ticks": ""
            },
            "colorscale": [
             [
              0,
              "#0d0887"
             ],
             [
              0.1111111111111111,
              "#46039f"
             ],
             [
              0.2222222222222222,
              "#7201a8"
             ],
             [
              0.3333333333333333,
              "#9c179e"
             ],
             [
              0.4444444444444444,
              "#bd3786"
             ],
             [
              0.5555555555555556,
              "#d8576b"
             ],
             [
              0.6666666666666666,
              "#ed7953"
             ],
             [
              0.7777777777777778,
              "#fb9f3a"
             ],
             [
              0.8888888888888888,
              "#fdca26"
             ],
             [
              1,
              "#f0f921"
             ]
            ],
            "type": "contour"
           }
          ],
          "contourcarpet": [
           {
            "colorbar": {
             "outlinewidth": 0,
             "ticks": ""
            },
            "type": "contourcarpet"
           }
          ],
          "heatmap": [
           {
            "colorbar": {
             "outlinewidth": 0,
             "ticks": ""
            },
            "colorscale": [
             [
              0,
              "#0d0887"
             ],
             [
              0.1111111111111111,
              "#46039f"
             ],
             [
              0.2222222222222222,
              "#7201a8"
             ],
             [
              0.3333333333333333,
              "#9c179e"
             ],
             [
              0.4444444444444444,
              "#bd3786"
             ],
             [
              0.5555555555555556,
              "#d8576b"
             ],
             [
              0.6666666666666666,
              "#ed7953"
             ],
             [
              0.7777777777777778,
              "#fb9f3a"
             ],
             [
              0.8888888888888888,
              "#fdca26"
             ],
             [
              1,
              "#f0f921"
             ]
            ],
            "type": "heatmap"
           }
          ],
          "heatmapgl": [
           {
            "colorbar": {
             "outlinewidth": 0,
             "ticks": ""
            },
            "colorscale": [
             [
              0,
              "#0d0887"
             ],
             [
              0.1111111111111111,
              "#46039f"
             ],
             [
              0.2222222222222222,
              "#7201a8"
             ],
             [
              0.3333333333333333,
              "#9c179e"
             ],
             [
              0.4444444444444444,
              "#bd3786"
             ],
             [
              0.5555555555555556,
              "#d8576b"
             ],
             [
              0.6666666666666666,
              "#ed7953"
             ],
             [
              0.7777777777777778,
              "#fb9f3a"
             ],
             [
              0.8888888888888888,
              "#fdca26"
             ],
             [
              1,
              "#f0f921"
             ]
            ],
            "type": "heatmapgl"
           }
          ],
          "histogram": [
           {
            "marker": {
             "pattern": {
              "fillmode": "overlay",
              "size": 10,
              "solidity": 0.2
             }
            },
            "type": "histogram"
           }
          ],
          "histogram2d": [
           {
            "colorbar": {
             "outlinewidth": 0,
             "ticks": ""
            },
            "colorscale": [
             [
              0,
              "#0d0887"
             ],
             [
              0.1111111111111111,
              "#46039f"
             ],
             [
              0.2222222222222222,
              "#7201a8"
             ],
             [
              0.3333333333333333,
              "#9c179e"
             ],
             [
              0.4444444444444444,
              "#bd3786"
             ],
             [
              0.5555555555555556,
              "#d8576b"
             ],
             [
              0.6666666666666666,
              "#ed7953"
             ],
             [
              0.7777777777777778,
              "#fb9f3a"
             ],
             [
              0.8888888888888888,
              "#fdca26"
             ],
             [
              1,
              "#f0f921"
             ]
            ],
            "type": "histogram2d"
           }
          ],
          "histogram2dcontour": [
           {
            "colorbar": {
             "outlinewidth": 0,
             "ticks": ""
            },
            "colorscale": [
             [
              0,
              "#0d0887"
             ],
             [
              0.1111111111111111,
              "#46039f"
             ],
             [
              0.2222222222222222,
              "#7201a8"
             ],
             [
              0.3333333333333333,
              "#9c179e"
             ],
             [
              0.4444444444444444,
              "#bd3786"
             ],
             [
              0.5555555555555556,
              "#d8576b"
             ],
             [
              0.6666666666666666,
              "#ed7953"
             ],
             [
              0.7777777777777778,
              "#fb9f3a"
             ],
             [
              0.8888888888888888,
              "#fdca26"
             ],
             [
              1,
              "#f0f921"
             ]
            ],
            "type": "histogram2dcontour"
           }
          ],
          "mesh3d": [
           {
            "colorbar": {
             "outlinewidth": 0,
             "ticks": ""
            },
            "type": "mesh3d"
           }
          ],
          "parcoords": [
           {
            "line": {
             "colorbar": {
              "outlinewidth": 0,
              "ticks": ""
             }
            },
            "type": "parcoords"
           }
          ],
          "pie": [
           {
            "automargin": true,
            "type": "pie"
           }
          ],
          "scatter": [
           {
            "marker": {
             "line": {
              "color": "#283442"
             }
            },
            "type": "scatter"
           }
          ],
          "scatter3d": [
           {
            "line": {
             "colorbar": {
              "outlinewidth": 0,
              "ticks": ""
             }
            },
            "marker": {
             "colorbar": {
              "outlinewidth": 0,
              "ticks": ""
             }
            },
            "type": "scatter3d"
           }
          ],
          "scattercarpet": [
           {
            "marker": {
             "colorbar": {
              "outlinewidth": 0,
              "ticks": ""
             }
            },
            "type": "scattercarpet"
           }
          ],
          "scattergeo": [
           {
            "marker": {
             "colorbar": {
              "outlinewidth": 0,
              "ticks": ""
             }
            },
            "type": "scattergeo"
           }
          ],
          "scattergl": [
           {
            "marker": {
             "line": {
              "color": "#283442"
             }
            },
            "type": "scattergl"
           }
          ],
          "scattermapbox": [
           {
            "marker": {
             "colorbar": {
              "outlinewidth": 0,
              "ticks": ""
             }
            },
            "type": "scattermapbox"
           }
          ],
          "scatterpolar": [
           {
            "marker": {
             "colorbar": {
              "outlinewidth": 0,
              "ticks": ""
             }
            },
            "type": "scatterpolar"
           }
          ],
          "scatterpolargl": [
           {
            "marker": {
             "colorbar": {
              "outlinewidth": 0,
              "ticks": ""
             }
            },
            "type": "scatterpolargl"
           }
          ],
          "scatterternary": [
           {
            "marker": {
             "colorbar": {
              "outlinewidth": 0,
              "ticks": ""
             }
            },
            "type": "scatterternary"
           }
          ],
          "surface": [
           {
            "colorbar": {
             "outlinewidth": 0,
             "ticks": ""
            },
            "colorscale": [
             [
              0,
              "#0d0887"
             ],
             [
              0.1111111111111111,
              "#46039f"
             ],
             [
              0.2222222222222222,
              "#7201a8"
             ],
             [
              0.3333333333333333,
              "#9c179e"
             ],
             [
              0.4444444444444444,
              "#bd3786"
             ],
             [
              0.5555555555555556,
              "#d8576b"
             ],
             [
              0.6666666666666666,
              "#ed7953"
             ],
             [
              0.7777777777777778,
              "#fb9f3a"
             ],
             [
              0.8888888888888888,
              "#fdca26"
             ],
             [
              1,
              "#f0f921"
             ]
            ],
            "type": "surface"
           }
          ],
          "table": [
           {
            "cells": {
             "fill": {
              "color": "#506784"
             },
             "line": {
              "color": "rgb(17,17,17)"
             }
            },
            "header": {
             "fill": {
              "color": "#2a3f5f"
             },
             "line": {
              "color": "rgb(17,17,17)"
             }
            },
            "type": "table"
           }
          ]
         },
         "layout": {
          "annotationdefaults": {
           "arrowcolor": "#f2f5fa",
           "arrowhead": 0,
           "arrowwidth": 1
          },
          "autotypenumbers": "strict",
          "coloraxis": {
           "colorbar": {
            "outlinewidth": 0,
            "ticks": ""
           }
          },
          "colorscale": {
           "diverging": [
            [
             0,
             "#8e0152"
            ],
            [
             0.1,
             "#c51b7d"
            ],
            [
             0.2,
             "#de77ae"
            ],
            [
             0.3,
             "#f1b6da"
            ],
            [
             0.4,
             "#fde0ef"
            ],
            [
             0.5,
             "#f7f7f7"
            ],
            [
             0.6,
             "#e6f5d0"
            ],
            [
             0.7,
             "#b8e186"
            ],
            [
             0.8,
             "#7fbc41"
            ],
            [
             0.9,
             "#4d9221"
            ],
            [
             1,
             "#276419"
            ]
           ],
           "sequential": [
            [
             0,
             "#0d0887"
            ],
            [
             0.1111111111111111,
             "#46039f"
            ],
            [
             0.2222222222222222,
             "#7201a8"
            ],
            [
             0.3333333333333333,
             "#9c179e"
            ],
            [
             0.4444444444444444,
             "#bd3786"
            ],
            [
             0.5555555555555556,
             "#d8576b"
            ],
            [
             0.6666666666666666,
             "#ed7953"
            ],
            [
             0.7777777777777778,
             "#fb9f3a"
            ],
            [
             0.8888888888888888,
             "#fdca26"
            ],
            [
             1,
             "#f0f921"
            ]
           ],
           "sequentialminus": [
            [
             0,
             "#0d0887"
            ],
            [
             0.1111111111111111,
             "#46039f"
            ],
            [
             0.2222222222222222,
             "#7201a8"
            ],
            [
             0.3333333333333333,
             "#9c179e"
            ],
            [
             0.4444444444444444,
             "#bd3786"
            ],
            [
             0.5555555555555556,
             "#d8576b"
            ],
            [
             0.6666666666666666,
             "#ed7953"
            ],
            [
             0.7777777777777778,
             "#fb9f3a"
            ],
            [
             0.8888888888888888,
             "#fdca26"
            ],
            [
             1,
             "#f0f921"
            ]
           ]
          },
          "colorway": [
           "#636efa",
           "#EF553B",
           "#00cc96",
           "#ab63fa",
           "#FFA15A",
           "#19d3f3",
           "#FF6692",
           "#B6E880",
           "#FF97FF",
           "#FECB52"
          ],
          "font": {
           "color": "#f2f5fa"
          },
          "geo": {
           "bgcolor": "rgb(17,17,17)",
           "lakecolor": "rgb(17,17,17)",
           "landcolor": "rgb(17,17,17)",
           "showlakes": true,
           "showland": true,
           "subunitcolor": "#506784"
          },
          "hoverlabel": {
           "align": "left"
          },
          "hovermode": "closest",
          "mapbox": {
           "style": "dark"
          },
          "paper_bgcolor": "rgb(17,17,17)",
          "plot_bgcolor": "rgb(17,17,17)",
          "polar": {
           "angularaxis": {
            "gridcolor": "#506784",
            "linecolor": "#506784",
            "ticks": ""
           },
           "bgcolor": "rgb(17,17,17)",
           "radialaxis": {
            "gridcolor": "#506784",
            "linecolor": "#506784",
            "ticks": ""
           }
          },
          "scene": {
           "xaxis": {
            "backgroundcolor": "rgb(17,17,17)",
            "gridcolor": "#506784",
            "gridwidth": 2,
            "linecolor": "#506784",
            "showbackground": true,
            "ticks": "",
            "zerolinecolor": "#C8D4E3"
           },
           "yaxis": {
            "backgroundcolor": "rgb(17,17,17)",
            "gridcolor": "#506784",
            "gridwidth": 2,
            "linecolor": "#506784",
            "showbackground": true,
            "ticks": "",
            "zerolinecolor": "#C8D4E3"
           },
           "zaxis": {
            "backgroundcolor": "rgb(17,17,17)",
            "gridcolor": "#506784",
            "gridwidth": 2,
            "linecolor": "#506784",
            "showbackground": true,
            "ticks": "",
            "zerolinecolor": "#C8D4E3"
           }
          },
          "shapedefaults": {
           "line": {
            "color": "#f2f5fa"
           }
          },
          "sliderdefaults": {
           "bgcolor": "#C8D4E3",
           "bordercolor": "rgb(17,17,17)",
           "borderwidth": 1,
           "tickwidth": 0
          },
          "ternary": {
           "aaxis": {
            "gridcolor": "#506784",
            "linecolor": "#506784",
            "ticks": ""
           },
           "baxis": {
            "gridcolor": "#506784",
            "linecolor": "#506784",
            "ticks": ""
           },
           "bgcolor": "rgb(17,17,17)",
           "caxis": {
            "gridcolor": "#506784",
            "linecolor": "#506784",
            "ticks": ""
           }
          },
          "title": {
           "x": 0.05
          },
          "updatemenudefaults": {
           "bgcolor": "#506784",
           "borderwidth": 0
          },
          "xaxis": {
           "automargin": true,
           "gridcolor": "#283442",
           "linecolor": "#506784",
           "ticks": "",
           "title": {
            "standoff": 15
           },
           "zerolinecolor": "#283442",
           "zerolinewidth": 2
          },
          "yaxis": {
           "automargin": true,
           "gridcolor": "#283442",
           "linecolor": "#506784",
           "ticks": "",
           "title": {
            "standoff": 15
           },
           "zerolinecolor": "#283442",
           "zerolinewidth": 2
          }
         }
        },
        "xaxis": {
         "anchor": "y",
         "constrain": "domain",
         "domain": [
          0,
          1
         ],
         "scaleanchor": "y",
         "title": {
          "text": "Target"
         }
        },
        "yaxis": {
         "anchor": "x",
         "autorange": "reversed",
         "constrain": "domain",
         "domain": [
          0,
          1
         ],
         "title": {
          "text": "Prediction"
         }
        }
       }
      },
      "text/html": [
       "<div>                            <div id=\"43e978b3-701a-4a79-b1d3-538fd59fbfbe\" class=\"plotly-graph-div\" style=\"height:525px; width:100%;\"></div>            <script type=\"text/javascript\">                require([\"plotly\"], function(Plotly) {                    window.PLOTLYENV=window.PLOTLYENV || {};                                    if (document.getElementById(\"43e978b3-701a-4a79-b1d3-538fd59fbfbe\")) {                    Plotly.newPlot(                        \"43e978b3-701a-4a79-b1d3-538fd59fbfbe\",                        [{\"coloraxis\":\"coloraxis\",\"name\":\"0\",\"texttemplate\":\"%{z}\",\"z\":[[572,6,4],[17,173,0],[1,0,227]],\"type\":\"heatmap\",\"xaxis\":\"x\",\"yaxis\":\"y\",\"hovertemplate\":\"x: %{x}<br>y: %{y}<br>color: %{z}<extra></extra>\"}],                        {\"template\":{\"data\":{\"histogram2dcontour\":[{\"type\":\"histogram2dcontour\",\"colorbar\":{\"outlinewidth\":0,\"ticks\":\"\"},\"colorscale\":[[0.0,\"#0d0887\"],[0.1111111111111111,\"#46039f\"],[0.2222222222222222,\"#7201a8\"],[0.3333333333333333,\"#9c179e\"],[0.4444444444444444,\"#bd3786\"],[0.5555555555555556,\"#d8576b\"],[0.6666666666666666,\"#ed7953\"],[0.7777777777777778,\"#fb9f3a\"],[0.8888888888888888,\"#fdca26\"],[1.0,\"#f0f921\"]]}],\"choropleth\":[{\"type\":\"choropleth\",\"colorbar\":{\"outlinewidth\":0,\"ticks\":\"\"}}],\"histogram2d\":[{\"type\":\"histogram2d\",\"colorbar\":{\"outlinewidth\":0,\"ticks\":\"\"},\"colorscale\":[[0.0,\"#0d0887\"],[0.1111111111111111,\"#46039f\"],[0.2222222222222222,\"#7201a8\"],[0.3333333333333333,\"#9c179e\"],[0.4444444444444444,\"#bd3786\"],[0.5555555555555556,\"#d8576b\"],[0.6666666666666666,\"#ed7953\"],[0.7777777777777778,\"#fb9f3a\"],[0.8888888888888888,\"#fdca26\"],[1.0,\"#f0f921\"]]}],\"heatmap\":[{\"type\":\"heatmap\",\"colorbar\":{\"outlinewidth\":0,\"ticks\":\"\"},\"colorscale\":[[0.0,\"#0d0887\"],[0.1111111111111111,\"#46039f\"],[0.2222222222222222,\"#7201a8\"],[0.3333333333333333,\"#9c179e\"],[0.4444444444444444,\"#bd3786\"],[0.5555555555555556,\"#d8576b\"],[0.6666666666666666,\"#ed7953\"],[0.7777777777777778,\"#fb9f3a\"],[0.8888888888888888,\"#fdca26\"],[1.0,\"#f0f921\"]]}],\"heatmapgl\":[{\"type\":\"heatmapgl\",\"colorbar\":{\"outlinewidth\":0,\"ticks\":\"\"},\"colorscale\":[[0.0,\"#0d0887\"],[0.1111111111111111,\"#46039f\"],[0.2222222222222222,\"#7201a8\"],[0.3333333333333333,\"#9c179e\"],[0.4444444444444444,\"#bd3786\"],[0.5555555555555556,\"#d8576b\"],[0.6666666666666666,\"#ed7953\"],[0.7777777777777778,\"#fb9f3a\"],[0.8888888888888888,\"#fdca26\"],[1.0,\"#f0f921\"]]}],\"contourcarpet\":[{\"type\":\"contourcarpet\",\"colorbar\":{\"outlinewidth\":0,\"ticks\":\"\"}}],\"contour\":[{\"type\":\"contour\",\"colorbar\":{\"outlinewidth\":0,\"ticks\":\"\"},\"colorscale\":[[0.0,\"#0d0887\"],[0.1111111111111111,\"#46039f\"],[0.2222222222222222,\"#7201a8\"],[0.3333333333333333,\"#9c179e\"],[0.4444444444444444,\"#bd3786\"],[0.5555555555555556,\"#d8576b\"],[0.6666666666666666,\"#ed7953\"],[0.7777777777777778,\"#fb9f3a\"],[0.8888888888888888,\"#fdca26\"],[1.0,\"#f0f921\"]]}],\"surface\":[{\"type\":\"surface\",\"colorbar\":{\"outlinewidth\":0,\"ticks\":\"\"},\"colorscale\":[[0.0,\"#0d0887\"],[0.1111111111111111,\"#46039f\"],[0.2222222222222222,\"#7201a8\"],[0.3333333333333333,\"#9c179e\"],[0.4444444444444444,\"#bd3786\"],[0.5555555555555556,\"#d8576b\"],[0.6666666666666666,\"#ed7953\"],[0.7777777777777778,\"#fb9f3a\"],[0.8888888888888888,\"#fdca26\"],[1.0,\"#f0f921\"]]}],\"mesh3d\":[{\"type\":\"mesh3d\",\"colorbar\":{\"outlinewidth\":0,\"ticks\":\"\"}}],\"scatter\":[{\"marker\":{\"line\":{\"color\":\"#283442\"}},\"type\":\"scatter\"}],\"parcoords\":[{\"type\":\"parcoords\",\"line\":{\"colorbar\":{\"outlinewidth\":0,\"ticks\":\"\"}}}],\"scatterpolargl\":[{\"type\":\"scatterpolargl\",\"marker\":{\"colorbar\":{\"outlinewidth\":0,\"ticks\":\"\"}}}],\"bar\":[{\"error_x\":{\"color\":\"#f2f5fa\"},\"error_y\":{\"color\":\"#f2f5fa\"},\"marker\":{\"line\":{\"color\":\"rgb(17,17,17)\",\"width\":0.5},\"pattern\":{\"fillmode\":\"overlay\",\"size\":10,\"solidity\":0.2}},\"type\":\"bar\"}],\"scattergeo\":[{\"type\":\"scattergeo\",\"marker\":{\"colorbar\":{\"outlinewidth\":0,\"ticks\":\"\"}}}],\"scatterpolar\":[{\"type\":\"scatterpolar\",\"marker\":{\"colorbar\":{\"outlinewidth\":0,\"ticks\":\"\"}}}],\"histogram\":[{\"marker\":{\"pattern\":{\"fillmode\":\"overlay\",\"size\":10,\"solidity\":0.2}},\"type\":\"histogram\"}],\"scattergl\":[{\"marker\":{\"line\":{\"color\":\"#283442\"}},\"type\":\"scattergl\"}],\"scatter3d\":[{\"type\":\"scatter3d\",\"line\":{\"colorbar\":{\"outlinewidth\":0,\"ticks\":\"\"}},\"marker\":{\"colorbar\":{\"outlinewidth\":0,\"ticks\":\"\"}}}],\"scattermapbox\":[{\"type\":\"scattermapbox\",\"marker\":{\"colorbar\":{\"outlinewidth\":0,\"ticks\":\"\"}}}],\"scatterternary\":[{\"type\":\"scatterternary\",\"marker\":{\"colorbar\":{\"outlinewidth\":0,\"ticks\":\"\"}}}],\"scattercarpet\":[{\"type\":\"scattercarpet\",\"marker\":{\"colorbar\":{\"outlinewidth\":0,\"ticks\":\"\"}}}],\"carpet\":[{\"aaxis\":{\"endlinecolor\":\"#A2B1C6\",\"gridcolor\":\"#506784\",\"linecolor\":\"#506784\",\"minorgridcolor\":\"#506784\",\"startlinecolor\":\"#A2B1C6\"},\"baxis\":{\"endlinecolor\":\"#A2B1C6\",\"gridcolor\":\"#506784\",\"linecolor\":\"#506784\",\"minorgridcolor\":\"#506784\",\"startlinecolor\":\"#A2B1C6\"},\"type\":\"carpet\"}],\"table\":[{\"cells\":{\"fill\":{\"color\":\"#506784\"},\"line\":{\"color\":\"rgb(17,17,17)\"}},\"header\":{\"fill\":{\"color\":\"#2a3f5f\"},\"line\":{\"color\":\"rgb(17,17,17)\"}},\"type\":\"table\"}],\"barpolar\":[{\"marker\":{\"line\":{\"color\":\"rgb(17,17,17)\",\"width\":0.5},\"pattern\":{\"fillmode\":\"overlay\",\"size\":10,\"solidity\":0.2}},\"type\":\"barpolar\"}],\"pie\":[{\"automargin\":true,\"type\":\"pie\"}]},\"layout\":{\"autotypenumbers\":\"strict\",\"colorway\":[\"#636efa\",\"#EF553B\",\"#00cc96\",\"#ab63fa\",\"#FFA15A\",\"#19d3f3\",\"#FF6692\",\"#B6E880\",\"#FF97FF\",\"#FECB52\"],\"font\":{\"color\":\"#f2f5fa\"},\"hovermode\":\"closest\",\"hoverlabel\":{\"align\":\"left\"},\"paper_bgcolor\":\"rgb(17,17,17)\",\"plot_bgcolor\":\"rgb(17,17,17)\",\"polar\":{\"bgcolor\":\"rgb(17,17,17)\",\"angularaxis\":{\"gridcolor\":\"#506784\",\"linecolor\":\"#506784\",\"ticks\":\"\"},\"radialaxis\":{\"gridcolor\":\"#506784\",\"linecolor\":\"#506784\",\"ticks\":\"\"}},\"ternary\":{\"bgcolor\":\"rgb(17,17,17)\",\"aaxis\":{\"gridcolor\":\"#506784\",\"linecolor\":\"#506784\",\"ticks\":\"\"},\"baxis\":{\"gridcolor\":\"#506784\",\"linecolor\":\"#506784\",\"ticks\":\"\"},\"caxis\":{\"gridcolor\":\"#506784\",\"linecolor\":\"#506784\",\"ticks\":\"\"}},\"coloraxis\":{\"colorbar\":{\"outlinewidth\":0,\"ticks\":\"\"}},\"colorscale\":{\"sequential\":[[0.0,\"#0d0887\"],[0.1111111111111111,\"#46039f\"],[0.2222222222222222,\"#7201a8\"],[0.3333333333333333,\"#9c179e\"],[0.4444444444444444,\"#bd3786\"],[0.5555555555555556,\"#d8576b\"],[0.6666666666666666,\"#ed7953\"],[0.7777777777777778,\"#fb9f3a\"],[0.8888888888888888,\"#fdca26\"],[1.0,\"#f0f921\"]],\"sequentialminus\":[[0.0,\"#0d0887\"],[0.1111111111111111,\"#46039f\"],[0.2222222222222222,\"#7201a8\"],[0.3333333333333333,\"#9c179e\"],[0.4444444444444444,\"#bd3786\"],[0.5555555555555556,\"#d8576b\"],[0.6666666666666666,\"#ed7953\"],[0.7777777777777778,\"#fb9f3a\"],[0.8888888888888888,\"#fdca26\"],[1.0,\"#f0f921\"]],\"diverging\":[[0,\"#8e0152\"],[0.1,\"#c51b7d\"],[0.2,\"#de77ae\"],[0.3,\"#f1b6da\"],[0.4,\"#fde0ef\"],[0.5,\"#f7f7f7\"],[0.6,\"#e6f5d0\"],[0.7,\"#b8e186\"],[0.8,\"#7fbc41\"],[0.9,\"#4d9221\"],[1,\"#276419\"]]},\"xaxis\":{\"gridcolor\":\"#283442\",\"linecolor\":\"#506784\",\"ticks\":\"\",\"title\":{\"standoff\":15},\"zerolinecolor\":\"#283442\",\"automargin\":true,\"zerolinewidth\":2},\"yaxis\":{\"gridcolor\":\"#283442\",\"linecolor\":\"#506784\",\"ticks\":\"\",\"title\":{\"standoff\":15},\"zerolinecolor\":\"#283442\",\"automargin\":true,\"zerolinewidth\":2},\"scene\":{\"xaxis\":{\"backgroundcolor\":\"rgb(17,17,17)\",\"gridcolor\":\"#506784\",\"linecolor\":\"#506784\",\"showbackground\":true,\"ticks\":\"\",\"zerolinecolor\":\"#C8D4E3\",\"gridwidth\":2},\"yaxis\":{\"backgroundcolor\":\"rgb(17,17,17)\",\"gridcolor\":\"#506784\",\"linecolor\":\"#506784\",\"showbackground\":true,\"ticks\":\"\",\"zerolinecolor\":\"#C8D4E3\",\"gridwidth\":2},\"zaxis\":{\"backgroundcolor\":\"rgb(17,17,17)\",\"gridcolor\":\"#506784\",\"linecolor\":\"#506784\",\"showbackground\":true,\"ticks\":\"\",\"zerolinecolor\":\"#C8D4E3\",\"gridwidth\":2}},\"shapedefaults\":{\"line\":{\"color\":\"#f2f5fa\"}},\"annotationdefaults\":{\"arrowcolor\":\"#f2f5fa\",\"arrowhead\":0,\"arrowwidth\":1},\"geo\":{\"bgcolor\":\"rgb(17,17,17)\",\"landcolor\":\"rgb(17,17,17)\",\"subunitcolor\":\"#506784\",\"showland\":true,\"showlakes\":true,\"lakecolor\":\"rgb(17,17,17)\"},\"title\":{\"x\":0.05},\"updatemenudefaults\":{\"bgcolor\":\"#506784\",\"borderwidth\":0},\"sliderdefaults\":{\"bgcolor\":\"#C8D4E3\",\"borderwidth\":1,\"bordercolor\":\"rgb(17,17,17)\",\"tickwidth\":0},\"mapbox\":{\"style\":\"dark\"}}},\"xaxis\":{\"anchor\":\"y\",\"domain\":[0.0,1.0],\"scaleanchor\":\"y\",\"constrain\":\"domain\",\"title\":{\"text\":\"Target\"}},\"yaxis\":{\"anchor\":\"x\",\"domain\":[0.0,1.0],\"autorange\":\"reversed\",\"constrain\":\"domain\",\"title\":{\"text\":\"Prediction\"}},\"coloraxis\":{\"colorscale\":[[0.0,\"#0d0887\"],[0.1111111111111111,\"#46039f\"],[0.2222222222222222,\"#7201a8\"],[0.3333333333333333,\"#9c179e\"],[0.4444444444444444,\"#bd3786\"],[0.5555555555555556,\"#d8576b\"],[0.6666666666666666,\"#ed7953\"],[0.7777777777777778,\"#fb9f3a\"],[0.8888888888888888,\"#fdca26\"],[1.0,\"#f0f921\"]]},\"margin\":{\"t\":60}},                        {\"responsive\": true}                    ).then(function(){\n",
       "                            \n",
       "var gd = document.getElementById('43e978b3-701a-4a79-b1d3-538fd59fbfbe');\n",
       "var x = new MutationObserver(function (mutations, observer) {{\n",
       "        var display = window.getComputedStyle(gd).display;\n",
       "        if (!display || display === 'none') {{\n",
       "            console.log([gd, 'removed!']);\n",
       "            Plotly.purge(gd);\n",
       "            observer.disconnect();\n",
       "        }}\n",
       "}});\n",
       "\n",
       "// Listen for the removal of the full notebook cells\n",
       "var notebookContainer = gd.closest('#notebook-container');\n",
       "if (notebookContainer) {{\n",
       "    x.observe(notebookContainer, {childList: true});\n",
       "}}\n",
       "\n",
       "// Listen for the clearing of the current output cell\n",
       "var outputEl = gd.closest('.output');\n",
       "if (outputEl) {{\n",
       "    x.observe(outputEl, {childList: true});\n",
       "}}\n",
       "\n",
       "                        })                };                });            </script>        </div>"
      ]
     },
     "metadata": {},
     "output_type": "display_data"
    }
   ],
   "source": [
    "@score_for('DecisionTree', 'train')\n",
    "@time_for('DecisionTree', 'train')\n",
    "def train_decision():\n",
    "    return f1_score(decision_y_train, y_train, average='macro')\n",
    "\n",
    "print(\n",
    "    \"F1-мера для тренировочных данных с помощью \"\n",
    "    \"DecisionTreeClassifier:\", train_decision(),\n",
    ")\n",
    "draw_conf_matrix(y_train, decision_y_train)"
   ]
  },
  {
   "cell_type": "code",
   "execution_count": 22,
   "metadata": {},
   "outputs": [],
   "source": [
    "decision_y_test = decision_model.predict(X_test)"
   ]
  },
  {
   "cell_type": "code",
   "execution_count": 73,
   "metadata": {},
   "outputs": [
    {
     "name": "stdout",
     "output_type": "stream",
     "text": [
      "F1-мера для тестовых данных с помощью DecisionTreeClassifier: 0.9332125078871915\n"
     ]
    },
    {
     "data": {
      "application/vnd.plotly.v1+json": {
       "config": {
        "plotlyServerURL": "https://plot.ly"
       },
       "data": [
        {
         "coloraxis": "coloraxis",
         "hovertemplate": "x: %{x}<br>y: %{y}<br>color: %{z}<extra></extra>",
         "name": "0",
         "texttemplate": "%{z}",
         "type": "heatmap",
         "xaxis": "x",
         "yaxis": "y",
         "z": [
          [
           56696,
           1640,
           527
          ],
          [
           2990,
           15778,
           3
          ],
          [
           523,
           0,
           20843
          ]
         ]
        }
       ],
       "layout": {
        "coloraxis": {
         "colorscale": [
          [
           0,
           "#0d0887"
          ],
          [
           0.1111111111111111,
           "#46039f"
          ],
          [
           0.2222222222222222,
           "#7201a8"
          ],
          [
           0.3333333333333333,
           "#9c179e"
          ],
          [
           0.4444444444444444,
           "#bd3786"
          ],
          [
           0.5555555555555556,
           "#d8576b"
          ],
          [
           0.6666666666666666,
           "#ed7953"
          ],
          [
           0.7777777777777778,
           "#fb9f3a"
          ],
          [
           0.8888888888888888,
           "#fdca26"
          ],
          [
           1,
           "#f0f921"
          ]
         ]
        },
        "margin": {
         "t": 60
        },
        "template": {
         "data": {
          "bar": [
           {
            "error_x": {
             "color": "#f2f5fa"
            },
            "error_y": {
             "color": "#f2f5fa"
            },
            "marker": {
             "line": {
              "color": "rgb(17,17,17)",
              "width": 0.5
             },
             "pattern": {
              "fillmode": "overlay",
              "size": 10,
              "solidity": 0.2
             }
            },
            "type": "bar"
           }
          ],
          "barpolar": [
           {
            "marker": {
             "line": {
              "color": "rgb(17,17,17)",
              "width": 0.5
             },
             "pattern": {
              "fillmode": "overlay",
              "size": 10,
              "solidity": 0.2
             }
            },
            "type": "barpolar"
           }
          ],
          "carpet": [
           {
            "aaxis": {
             "endlinecolor": "#A2B1C6",
             "gridcolor": "#506784",
             "linecolor": "#506784",
             "minorgridcolor": "#506784",
             "startlinecolor": "#A2B1C6"
            },
            "baxis": {
             "endlinecolor": "#A2B1C6",
             "gridcolor": "#506784",
             "linecolor": "#506784",
             "minorgridcolor": "#506784",
             "startlinecolor": "#A2B1C6"
            },
            "type": "carpet"
           }
          ],
          "choropleth": [
           {
            "colorbar": {
             "outlinewidth": 0,
             "ticks": ""
            },
            "type": "choropleth"
           }
          ],
          "contour": [
           {
            "colorbar": {
             "outlinewidth": 0,
             "ticks": ""
            },
            "colorscale": [
             [
              0,
              "#0d0887"
             ],
             [
              0.1111111111111111,
              "#46039f"
             ],
             [
              0.2222222222222222,
              "#7201a8"
             ],
             [
              0.3333333333333333,
              "#9c179e"
             ],
             [
              0.4444444444444444,
              "#bd3786"
             ],
             [
              0.5555555555555556,
              "#d8576b"
             ],
             [
              0.6666666666666666,
              "#ed7953"
             ],
             [
              0.7777777777777778,
              "#fb9f3a"
             ],
             [
              0.8888888888888888,
              "#fdca26"
             ],
             [
              1,
              "#f0f921"
             ]
            ],
            "type": "contour"
           }
          ],
          "contourcarpet": [
           {
            "colorbar": {
             "outlinewidth": 0,
             "ticks": ""
            },
            "type": "contourcarpet"
           }
          ],
          "heatmap": [
           {
            "colorbar": {
             "outlinewidth": 0,
             "ticks": ""
            },
            "colorscale": [
             [
              0,
              "#0d0887"
             ],
             [
              0.1111111111111111,
              "#46039f"
             ],
             [
              0.2222222222222222,
              "#7201a8"
             ],
             [
              0.3333333333333333,
              "#9c179e"
             ],
             [
              0.4444444444444444,
              "#bd3786"
             ],
             [
              0.5555555555555556,
              "#d8576b"
             ],
             [
              0.6666666666666666,
              "#ed7953"
             ],
             [
              0.7777777777777778,
              "#fb9f3a"
             ],
             [
              0.8888888888888888,
              "#fdca26"
             ],
             [
              1,
              "#f0f921"
             ]
            ],
            "type": "heatmap"
           }
          ],
          "heatmapgl": [
           {
            "colorbar": {
             "outlinewidth": 0,
             "ticks": ""
            },
            "colorscale": [
             [
              0,
              "#0d0887"
             ],
             [
              0.1111111111111111,
              "#46039f"
             ],
             [
              0.2222222222222222,
              "#7201a8"
             ],
             [
              0.3333333333333333,
              "#9c179e"
             ],
             [
              0.4444444444444444,
              "#bd3786"
             ],
             [
              0.5555555555555556,
              "#d8576b"
             ],
             [
              0.6666666666666666,
              "#ed7953"
             ],
             [
              0.7777777777777778,
              "#fb9f3a"
             ],
             [
              0.8888888888888888,
              "#fdca26"
             ],
             [
              1,
              "#f0f921"
             ]
            ],
            "type": "heatmapgl"
           }
          ],
          "histogram": [
           {
            "marker": {
             "pattern": {
              "fillmode": "overlay",
              "size": 10,
              "solidity": 0.2
             }
            },
            "type": "histogram"
           }
          ],
          "histogram2d": [
           {
            "colorbar": {
             "outlinewidth": 0,
             "ticks": ""
            },
            "colorscale": [
             [
              0,
              "#0d0887"
             ],
             [
              0.1111111111111111,
              "#46039f"
             ],
             [
              0.2222222222222222,
              "#7201a8"
             ],
             [
              0.3333333333333333,
              "#9c179e"
             ],
             [
              0.4444444444444444,
              "#bd3786"
             ],
             [
              0.5555555555555556,
              "#d8576b"
             ],
             [
              0.6666666666666666,
              "#ed7953"
             ],
             [
              0.7777777777777778,
              "#fb9f3a"
             ],
             [
              0.8888888888888888,
              "#fdca26"
             ],
             [
              1,
              "#f0f921"
             ]
            ],
            "type": "histogram2d"
           }
          ],
          "histogram2dcontour": [
           {
            "colorbar": {
             "outlinewidth": 0,
             "ticks": ""
            },
            "colorscale": [
             [
              0,
              "#0d0887"
             ],
             [
              0.1111111111111111,
              "#46039f"
             ],
             [
              0.2222222222222222,
              "#7201a8"
             ],
             [
              0.3333333333333333,
              "#9c179e"
             ],
             [
              0.4444444444444444,
              "#bd3786"
             ],
             [
              0.5555555555555556,
              "#d8576b"
             ],
             [
              0.6666666666666666,
              "#ed7953"
             ],
             [
              0.7777777777777778,
              "#fb9f3a"
             ],
             [
              0.8888888888888888,
              "#fdca26"
             ],
             [
              1,
              "#f0f921"
             ]
            ],
            "type": "histogram2dcontour"
           }
          ],
          "mesh3d": [
           {
            "colorbar": {
             "outlinewidth": 0,
             "ticks": ""
            },
            "type": "mesh3d"
           }
          ],
          "parcoords": [
           {
            "line": {
             "colorbar": {
              "outlinewidth": 0,
              "ticks": ""
             }
            },
            "type": "parcoords"
           }
          ],
          "pie": [
           {
            "automargin": true,
            "type": "pie"
           }
          ],
          "scatter": [
           {
            "marker": {
             "line": {
              "color": "#283442"
             }
            },
            "type": "scatter"
           }
          ],
          "scatter3d": [
           {
            "line": {
             "colorbar": {
              "outlinewidth": 0,
              "ticks": ""
             }
            },
            "marker": {
             "colorbar": {
              "outlinewidth": 0,
              "ticks": ""
             }
            },
            "type": "scatter3d"
           }
          ],
          "scattercarpet": [
           {
            "marker": {
             "colorbar": {
              "outlinewidth": 0,
              "ticks": ""
             }
            },
            "type": "scattercarpet"
           }
          ],
          "scattergeo": [
           {
            "marker": {
             "colorbar": {
              "outlinewidth": 0,
              "ticks": ""
             }
            },
            "type": "scattergeo"
           }
          ],
          "scattergl": [
           {
            "marker": {
             "line": {
              "color": "#283442"
             }
            },
            "type": "scattergl"
           }
          ],
          "scattermapbox": [
           {
            "marker": {
             "colorbar": {
              "outlinewidth": 0,
              "ticks": ""
             }
            },
            "type": "scattermapbox"
           }
          ],
          "scatterpolar": [
           {
            "marker": {
             "colorbar": {
              "outlinewidth": 0,
              "ticks": ""
             }
            },
            "type": "scatterpolar"
           }
          ],
          "scatterpolargl": [
           {
            "marker": {
             "colorbar": {
              "outlinewidth": 0,
              "ticks": ""
             }
            },
            "type": "scatterpolargl"
           }
          ],
          "scatterternary": [
           {
            "marker": {
             "colorbar": {
              "outlinewidth": 0,
              "ticks": ""
             }
            },
            "type": "scatterternary"
           }
          ],
          "surface": [
           {
            "colorbar": {
             "outlinewidth": 0,
             "ticks": ""
            },
            "colorscale": [
             [
              0,
              "#0d0887"
             ],
             [
              0.1111111111111111,
              "#46039f"
             ],
             [
              0.2222222222222222,
              "#7201a8"
             ],
             [
              0.3333333333333333,
              "#9c179e"
             ],
             [
              0.4444444444444444,
              "#bd3786"
             ],
             [
              0.5555555555555556,
              "#d8576b"
             ],
             [
              0.6666666666666666,
              "#ed7953"
             ],
             [
              0.7777777777777778,
              "#fb9f3a"
             ],
             [
              0.8888888888888888,
              "#fdca26"
             ],
             [
              1,
              "#f0f921"
             ]
            ],
            "type": "surface"
           }
          ],
          "table": [
           {
            "cells": {
             "fill": {
              "color": "#506784"
             },
             "line": {
              "color": "rgb(17,17,17)"
             }
            },
            "header": {
             "fill": {
              "color": "#2a3f5f"
             },
             "line": {
              "color": "rgb(17,17,17)"
             }
            },
            "type": "table"
           }
          ]
         },
         "layout": {
          "annotationdefaults": {
           "arrowcolor": "#f2f5fa",
           "arrowhead": 0,
           "arrowwidth": 1
          },
          "autotypenumbers": "strict",
          "coloraxis": {
           "colorbar": {
            "outlinewidth": 0,
            "ticks": ""
           }
          },
          "colorscale": {
           "diverging": [
            [
             0,
             "#8e0152"
            ],
            [
             0.1,
             "#c51b7d"
            ],
            [
             0.2,
             "#de77ae"
            ],
            [
             0.3,
             "#f1b6da"
            ],
            [
             0.4,
             "#fde0ef"
            ],
            [
             0.5,
             "#f7f7f7"
            ],
            [
             0.6,
             "#e6f5d0"
            ],
            [
             0.7,
             "#b8e186"
            ],
            [
             0.8,
             "#7fbc41"
            ],
            [
             0.9,
             "#4d9221"
            ],
            [
             1,
             "#276419"
            ]
           ],
           "sequential": [
            [
             0,
             "#0d0887"
            ],
            [
             0.1111111111111111,
             "#46039f"
            ],
            [
             0.2222222222222222,
             "#7201a8"
            ],
            [
             0.3333333333333333,
             "#9c179e"
            ],
            [
             0.4444444444444444,
             "#bd3786"
            ],
            [
             0.5555555555555556,
             "#d8576b"
            ],
            [
             0.6666666666666666,
             "#ed7953"
            ],
            [
             0.7777777777777778,
             "#fb9f3a"
            ],
            [
             0.8888888888888888,
             "#fdca26"
            ],
            [
             1,
             "#f0f921"
            ]
           ],
           "sequentialminus": [
            [
             0,
             "#0d0887"
            ],
            [
             0.1111111111111111,
             "#46039f"
            ],
            [
             0.2222222222222222,
             "#7201a8"
            ],
            [
             0.3333333333333333,
             "#9c179e"
            ],
            [
             0.4444444444444444,
             "#bd3786"
            ],
            [
             0.5555555555555556,
             "#d8576b"
            ],
            [
             0.6666666666666666,
             "#ed7953"
            ],
            [
             0.7777777777777778,
             "#fb9f3a"
            ],
            [
             0.8888888888888888,
             "#fdca26"
            ],
            [
             1,
             "#f0f921"
            ]
           ]
          },
          "colorway": [
           "#636efa",
           "#EF553B",
           "#00cc96",
           "#ab63fa",
           "#FFA15A",
           "#19d3f3",
           "#FF6692",
           "#B6E880",
           "#FF97FF",
           "#FECB52"
          ],
          "font": {
           "color": "#f2f5fa"
          },
          "geo": {
           "bgcolor": "rgb(17,17,17)",
           "lakecolor": "rgb(17,17,17)",
           "landcolor": "rgb(17,17,17)",
           "showlakes": true,
           "showland": true,
           "subunitcolor": "#506784"
          },
          "hoverlabel": {
           "align": "left"
          },
          "hovermode": "closest",
          "mapbox": {
           "style": "dark"
          },
          "paper_bgcolor": "rgb(17,17,17)",
          "plot_bgcolor": "rgb(17,17,17)",
          "polar": {
           "angularaxis": {
            "gridcolor": "#506784",
            "linecolor": "#506784",
            "ticks": ""
           },
           "bgcolor": "rgb(17,17,17)",
           "radialaxis": {
            "gridcolor": "#506784",
            "linecolor": "#506784",
            "ticks": ""
           }
          },
          "scene": {
           "xaxis": {
            "backgroundcolor": "rgb(17,17,17)",
            "gridcolor": "#506784",
            "gridwidth": 2,
            "linecolor": "#506784",
            "showbackground": true,
            "ticks": "",
            "zerolinecolor": "#C8D4E3"
           },
           "yaxis": {
            "backgroundcolor": "rgb(17,17,17)",
            "gridcolor": "#506784",
            "gridwidth": 2,
            "linecolor": "#506784",
            "showbackground": true,
            "ticks": "",
            "zerolinecolor": "#C8D4E3"
           },
           "zaxis": {
            "backgroundcolor": "rgb(17,17,17)",
            "gridcolor": "#506784",
            "gridwidth": 2,
            "linecolor": "#506784",
            "showbackground": true,
            "ticks": "",
            "zerolinecolor": "#C8D4E3"
           }
          },
          "shapedefaults": {
           "line": {
            "color": "#f2f5fa"
           }
          },
          "sliderdefaults": {
           "bgcolor": "#C8D4E3",
           "bordercolor": "rgb(17,17,17)",
           "borderwidth": 1,
           "tickwidth": 0
          },
          "ternary": {
           "aaxis": {
            "gridcolor": "#506784",
            "linecolor": "#506784",
            "ticks": ""
           },
           "baxis": {
            "gridcolor": "#506784",
            "linecolor": "#506784",
            "ticks": ""
           },
           "bgcolor": "rgb(17,17,17)",
           "caxis": {
            "gridcolor": "#506784",
            "linecolor": "#506784",
            "ticks": ""
           }
          },
          "title": {
           "x": 0.05
          },
          "updatemenudefaults": {
           "bgcolor": "#506784",
           "borderwidth": 0
          },
          "xaxis": {
           "automargin": true,
           "gridcolor": "#283442",
           "linecolor": "#506784",
           "ticks": "",
           "title": {
            "standoff": 15
           },
           "zerolinecolor": "#283442",
           "zerolinewidth": 2
          },
          "yaxis": {
           "automargin": true,
           "gridcolor": "#283442",
           "linecolor": "#506784",
           "ticks": "",
           "title": {
            "standoff": 15
           },
           "zerolinecolor": "#283442",
           "zerolinewidth": 2
          }
         }
        },
        "xaxis": {
         "anchor": "y",
         "constrain": "domain",
         "domain": [
          0,
          1
         ],
         "scaleanchor": "y",
         "title": {
          "text": "Target"
         }
        },
        "yaxis": {
         "anchor": "x",
         "autorange": "reversed",
         "constrain": "domain",
         "domain": [
          0,
          1
         ],
         "title": {
          "text": "Prediction"
         }
        }
       }
      },
      "text/html": [
       "<div>                            <div id=\"4baac265-699b-4595-8c53-afbe84f0151e\" class=\"plotly-graph-div\" style=\"height:525px; width:100%;\"></div>            <script type=\"text/javascript\">                require([\"plotly\"], function(Plotly) {                    window.PLOTLYENV=window.PLOTLYENV || {};                                    if (document.getElementById(\"4baac265-699b-4595-8c53-afbe84f0151e\")) {                    Plotly.newPlot(                        \"4baac265-699b-4595-8c53-afbe84f0151e\",                        [{\"coloraxis\":\"coloraxis\",\"name\":\"0\",\"texttemplate\":\"%{z}\",\"z\":[[56696,1640,527],[2990,15778,3],[523,0,20843]],\"type\":\"heatmap\",\"xaxis\":\"x\",\"yaxis\":\"y\",\"hovertemplate\":\"x: %{x}<br>y: %{y}<br>color: %{z}<extra></extra>\"}],                        {\"template\":{\"data\":{\"histogram2dcontour\":[{\"type\":\"histogram2dcontour\",\"colorbar\":{\"outlinewidth\":0,\"ticks\":\"\"},\"colorscale\":[[0.0,\"#0d0887\"],[0.1111111111111111,\"#46039f\"],[0.2222222222222222,\"#7201a8\"],[0.3333333333333333,\"#9c179e\"],[0.4444444444444444,\"#bd3786\"],[0.5555555555555556,\"#d8576b\"],[0.6666666666666666,\"#ed7953\"],[0.7777777777777778,\"#fb9f3a\"],[0.8888888888888888,\"#fdca26\"],[1.0,\"#f0f921\"]]}],\"choropleth\":[{\"type\":\"choropleth\",\"colorbar\":{\"outlinewidth\":0,\"ticks\":\"\"}}],\"histogram2d\":[{\"type\":\"histogram2d\",\"colorbar\":{\"outlinewidth\":0,\"ticks\":\"\"},\"colorscale\":[[0.0,\"#0d0887\"],[0.1111111111111111,\"#46039f\"],[0.2222222222222222,\"#7201a8\"],[0.3333333333333333,\"#9c179e\"],[0.4444444444444444,\"#bd3786\"],[0.5555555555555556,\"#d8576b\"],[0.6666666666666666,\"#ed7953\"],[0.7777777777777778,\"#fb9f3a\"],[0.8888888888888888,\"#fdca26\"],[1.0,\"#f0f921\"]]}],\"heatmap\":[{\"type\":\"heatmap\",\"colorbar\":{\"outlinewidth\":0,\"ticks\":\"\"},\"colorscale\":[[0.0,\"#0d0887\"],[0.1111111111111111,\"#46039f\"],[0.2222222222222222,\"#7201a8\"],[0.3333333333333333,\"#9c179e\"],[0.4444444444444444,\"#bd3786\"],[0.5555555555555556,\"#d8576b\"],[0.6666666666666666,\"#ed7953\"],[0.7777777777777778,\"#fb9f3a\"],[0.8888888888888888,\"#fdca26\"],[1.0,\"#f0f921\"]]}],\"heatmapgl\":[{\"type\":\"heatmapgl\",\"colorbar\":{\"outlinewidth\":0,\"ticks\":\"\"},\"colorscale\":[[0.0,\"#0d0887\"],[0.1111111111111111,\"#46039f\"],[0.2222222222222222,\"#7201a8\"],[0.3333333333333333,\"#9c179e\"],[0.4444444444444444,\"#bd3786\"],[0.5555555555555556,\"#d8576b\"],[0.6666666666666666,\"#ed7953\"],[0.7777777777777778,\"#fb9f3a\"],[0.8888888888888888,\"#fdca26\"],[1.0,\"#f0f921\"]]}],\"contourcarpet\":[{\"type\":\"contourcarpet\",\"colorbar\":{\"outlinewidth\":0,\"ticks\":\"\"}}],\"contour\":[{\"type\":\"contour\",\"colorbar\":{\"outlinewidth\":0,\"ticks\":\"\"},\"colorscale\":[[0.0,\"#0d0887\"],[0.1111111111111111,\"#46039f\"],[0.2222222222222222,\"#7201a8\"],[0.3333333333333333,\"#9c179e\"],[0.4444444444444444,\"#bd3786\"],[0.5555555555555556,\"#d8576b\"],[0.6666666666666666,\"#ed7953\"],[0.7777777777777778,\"#fb9f3a\"],[0.8888888888888888,\"#fdca26\"],[1.0,\"#f0f921\"]]}],\"surface\":[{\"type\":\"surface\",\"colorbar\":{\"outlinewidth\":0,\"ticks\":\"\"},\"colorscale\":[[0.0,\"#0d0887\"],[0.1111111111111111,\"#46039f\"],[0.2222222222222222,\"#7201a8\"],[0.3333333333333333,\"#9c179e\"],[0.4444444444444444,\"#bd3786\"],[0.5555555555555556,\"#d8576b\"],[0.6666666666666666,\"#ed7953\"],[0.7777777777777778,\"#fb9f3a\"],[0.8888888888888888,\"#fdca26\"],[1.0,\"#f0f921\"]]}],\"mesh3d\":[{\"type\":\"mesh3d\",\"colorbar\":{\"outlinewidth\":0,\"ticks\":\"\"}}],\"scatter\":[{\"marker\":{\"line\":{\"color\":\"#283442\"}},\"type\":\"scatter\"}],\"parcoords\":[{\"type\":\"parcoords\",\"line\":{\"colorbar\":{\"outlinewidth\":0,\"ticks\":\"\"}}}],\"scatterpolargl\":[{\"type\":\"scatterpolargl\",\"marker\":{\"colorbar\":{\"outlinewidth\":0,\"ticks\":\"\"}}}],\"bar\":[{\"error_x\":{\"color\":\"#f2f5fa\"},\"error_y\":{\"color\":\"#f2f5fa\"},\"marker\":{\"line\":{\"color\":\"rgb(17,17,17)\",\"width\":0.5},\"pattern\":{\"fillmode\":\"overlay\",\"size\":10,\"solidity\":0.2}},\"type\":\"bar\"}],\"scattergeo\":[{\"type\":\"scattergeo\",\"marker\":{\"colorbar\":{\"outlinewidth\":0,\"ticks\":\"\"}}}],\"scatterpolar\":[{\"type\":\"scatterpolar\",\"marker\":{\"colorbar\":{\"outlinewidth\":0,\"ticks\":\"\"}}}],\"histogram\":[{\"marker\":{\"pattern\":{\"fillmode\":\"overlay\",\"size\":10,\"solidity\":0.2}},\"type\":\"histogram\"}],\"scattergl\":[{\"marker\":{\"line\":{\"color\":\"#283442\"}},\"type\":\"scattergl\"}],\"scatter3d\":[{\"type\":\"scatter3d\",\"line\":{\"colorbar\":{\"outlinewidth\":0,\"ticks\":\"\"}},\"marker\":{\"colorbar\":{\"outlinewidth\":0,\"ticks\":\"\"}}}],\"scattermapbox\":[{\"type\":\"scattermapbox\",\"marker\":{\"colorbar\":{\"outlinewidth\":0,\"ticks\":\"\"}}}],\"scatterternary\":[{\"type\":\"scatterternary\",\"marker\":{\"colorbar\":{\"outlinewidth\":0,\"ticks\":\"\"}}}],\"scattercarpet\":[{\"type\":\"scattercarpet\",\"marker\":{\"colorbar\":{\"outlinewidth\":0,\"ticks\":\"\"}}}],\"carpet\":[{\"aaxis\":{\"endlinecolor\":\"#A2B1C6\",\"gridcolor\":\"#506784\",\"linecolor\":\"#506784\",\"minorgridcolor\":\"#506784\",\"startlinecolor\":\"#A2B1C6\"},\"baxis\":{\"endlinecolor\":\"#A2B1C6\",\"gridcolor\":\"#506784\",\"linecolor\":\"#506784\",\"minorgridcolor\":\"#506784\",\"startlinecolor\":\"#A2B1C6\"},\"type\":\"carpet\"}],\"table\":[{\"cells\":{\"fill\":{\"color\":\"#506784\"},\"line\":{\"color\":\"rgb(17,17,17)\"}},\"header\":{\"fill\":{\"color\":\"#2a3f5f\"},\"line\":{\"color\":\"rgb(17,17,17)\"}},\"type\":\"table\"}],\"barpolar\":[{\"marker\":{\"line\":{\"color\":\"rgb(17,17,17)\",\"width\":0.5},\"pattern\":{\"fillmode\":\"overlay\",\"size\":10,\"solidity\":0.2}},\"type\":\"barpolar\"}],\"pie\":[{\"automargin\":true,\"type\":\"pie\"}]},\"layout\":{\"autotypenumbers\":\"strict\",\"colorway\":[\"#636efa\",\"#EF553B\",\"#00cc96\",\"#ab63fa\",\"#FFA15A\",\"#19d3f3\",\"#FF6692\",\"#B6E880\",\"#FF97FF\",\"#FECB52\"],\"font\":{\"color\":\"#f2f5fa\"},\"hovermode\":\"closest\",\"hoverlabel\":{\"align\":\"left\"},\"paper_bgcolor\":\"rgb(17,17,17)\",\"plot_bgcolor\":\"rgb(17,17,17)\",\"polar\":{\"bgcolor\":\"rgb(17,17,17)\",\"angularaxis\":{\"gridcolor\":\"#506784\",\"linecolor\":\"#506784\",\"ticks\":\"\"},\"radialaxis\":{\"gridcolor\":\"#506784\",\"linecolor\":\"#506784\",\"ticks\":\"\"}},\"ternary\":{\"bgcolor\":\"rgb(17,17,17)\",\"aaxis\":{\"gridcolor\":\"#506784\",\"linecolor\":\"#506784\",\"ticks\":\"\"},\"baxis\":{\"gridcolor\":\"#506784\",\"linecolor\":\"#506784\",\"ticks\":\"\"},\"caxis\":{\"gridcolor\":\"#506784\",\"linecolor\":\"#506784\",\"ticks\":\"\"}},\"coloraxis\":{\"colorbar\":{\"outlinewidth\":0,\"ticks\":\"\"}},\"colorscale\":{\"sequential\":[[0.0,\"#0d0887\"],[0.1111111111111111,\"#46039f\"],[0.2222222222222222,\"#7201a8\"],[0.3333333333333333,\"#9c179e\"],[0.4444444444444444,\"#bd3786\"],[0.5555555555555556,\"#d8576b\"],[0.6666666666666666,\"#ed7953\"],[0.7777777777777778,\"#fb9f3a\"],[0.8888888888888888,\"#fdca26\"],[1.0,\"#f0f921\"]],\"sequentialminus\":[[0.0,\"#0d0887\"],[0.1111111111111111,\"#46039f\"],[0.2222222222222222,\"#7201a8\"],[0.3333333333333333,\"#9c179e\"],[0.4444444444444444,\"#bd3786\"],[0.5555555555555556,\"#d8576b\"],[0.6666666666666666,\"#ed7953\"],[0.7777777777777778,\"#fb9f3a\"],[0.8888888888888888,\"#fdca26\"],[1.0,\"#f0f921\"]],\"diverging\":[[0,\"#8e0152\"],[0.1,\"#c51b7d\"],[0.2,\"#de77ae\"],[0.3,\"#f1b6da\"],[0.4,\"#fde0ef\"],[0.5,\"#f7f7f7\"],[0.6,\"#e6f5d0\"],[0.7,\"#b8e186\"],[0.8,\"#7fbc41\"],[0.9,\"#4d9221\"],[1,\"#276419\"]]},\"xaxis\":{\"gridcolor\":\"#283442\",\"linecolor\":\"#506784\",\"ticks\":\"\",\"title\":{\"standoff\":15},\"zerolinecolor\":\"#283442\",\"automargin\":true,\"zerolinewidth\":2},\"yaxis\":{\"gridcolor\":\"#283442\",\"linecolor\":\"#506784\",\"ticks\":\"\",\"title\":{\"standoff\":15},\"zerolinecolor\":\"#283442\",\"automargin\":true,\"zerolinewidth\":2},\"scene\":{\"xaxis\":{\"backgroundcolor\":\"rgb(17,17,17)\",\"gridcolor\":\"#506784\",\"linecolor\":\"#506784\",\"showbackground\":true,\"ticks\":\"\",\"zerolinecolor\":\"#C8D4E3\",\"gridwidth\":2},\"yaxis\":{\"backgroundcolor\":\"rgb(17,17,17)\",\"gridcolor\":\"#506784\",\"linecolor\":\"#506784\",\"showbackground\":true,\"ticks\":\"\",\"zerolinecolor\":\"#C8D4E3\",\"gridwidth\":2},\"zaxis\":{\"backgroundcolor\":\"rgb(17,17,17)\",\"gridcolor\":\"#506784\",\"linecolor\":\"#506784\",\"showbackground\":true,\"ticks\":\"\",\"zerolinecolor\":\"#C8D4E3\",\"gridwidth\":2}},\"shapedefaults\":{\"line\":{\"color\":\"#f2f5fa\"}},\"annotationdefaults\":{\"arrowcolor\":\"#f2f5fa\",\"arrowhead\":0,\"arrowwidth\":1},\"geo\":{\"bgcolor\":\"rgb(17,17,17)\",\"landcolor\":\"rgb(17,17,17)\",\"subunitcolor\":\"#506784\",\"showland\":true,\"showlakes\":true,\"lakecolor\":\"rgb(17,17,17)\"},\"title\":{\"x\":0.05},\"updatemenudefaults\":{\"bgcolor\":\"#506784\",\"borderwidth\":0},\"sliderdefaults\":{\"bgcolor\":\"#C8D4E3\",\"borderwidth\":1,\"bordercolor\":\"rgb(17,17,17)\",\"tickwidth\":0},\"mapbox\":{\"style\":\"dark\"}}},\"xaxis\":{\"anchor\":\"y\",\"domain\":[0.0,1.0],\"scaleanchor\":\"y\",\"constrain\":\"domain\",\"title\":{\"text\":\"Target\"}},\"yaxis\":{\"anchor\":\"x\",\"domain\":[0.0,1.0],\"autorange\":\"reversed\",\"constrain\":\"domain\",\"title\":{\"text\":\"Prediction\"}},\"coloraxis\":{\"colorscale\":[[0.0,\"#0d0887\"],[0.1111111111111111,\"#46039f\"],[0.2222222222222222,\"#7201a8\"],[0.3333333333333333,\"#9c179e\"],[0.4444444444444444,\"#bd3786\"],[0.5555555555555556,\"#d8576b\"],[0.6666666666666666,\"#ed7953\"],[0.7777777777777778,\"#fb9f3a\"],[0.8888888888888888,\"#fdca26\"],[1.0,\"#f0f921\"]]},\"margin\":{\"t\":60}},                        {\"responsive\": true}                    ).then(function(){\n",
       "                            \n",
       "var gd = document.getElementById('4baac265-699b-4595-8c53-afbe84f0151e');\n",
       "var x = new MutationObserver(function (mutations, observer) {{\n",
       "        var display = window.getComputedStyle(gd).display;\n",
       "        if (!display || display === 'none') {{\n",
       "            console.log([gd, 'removed!']);\n",
       "            Plotly.purge(gd);\n",
       "            observer.disconnect();\n",
       "        }}\n",
       "}});\n",
       "\n",
       "// Listen for the removal of the full notebook cells\n",
       "var notebookContainer = gd.closest('#notebook-container');\n",
       "if (notebookContainer) {{\n",
       "    x.observe(notebookContainer, {childList: true});\n",
       "}}\n",
       "\n",
       "// Listen for the clearing of the current output cell\n",
       "var outputEl = gd.closest('.output');\n",
       "if (outputEl) {{\n",
       "    x.observe(outputEl, {childList: true});\n",
       "}}\n",
       "\n",
       "                        })                };                });            </script>        </div>"
      ]
     },
     "metadata": {},
     "output_type": "display_data"
    }
   ],
   "source": [
    "@score_for('DecisionTree', 'test')\n",
    "@time_for('DecisionTree', 'test')\n",
    "def test_decision():\n",
    "    return f1_score(decision_y_test, y_test, average='macro')\n",
    "\n",
    "print(\n",
    "    \"F1-мера для тестовых данных с помощью \"\n",
    "    \"DecisionTreeClassifier:\", test_decision(),\n",
    ")\n",
    "draw_conf_matrix(y_test, decision_y_test)"
   ]
  },
  {
   "cell_type": "markdown",
   "metadata": {},
   "source": [
    "### Bagging"
   ]
  },
  {
   "cell_type": "code",
   "execution_count": 24,
   "metadata": {},
   "outputs": [],
   "source": [
    "from sklearn.ensemble import BaggingClassifier\n",
    "\n",
    "bagging_params = {\n",
    "    'max_samples': [.5, .75, 1],\n",
    "    'max_features': [.5, .75, 1],\n",
    "    'n_estimators': [10, 50, 100],\n",
    "}\n",
    "\n",
    "@time_for('Bagging', 'predict')\n",
    "def fit_bagging():\n",
    "    return GridSearchCV(\n",
    "        estimator=BaggingClassifier(random_state=random_state),\n",
    "        param_grid=bagging_params, scoring='f1_macro', cv=4,\n",
    "    ).fit(X_train, y_train)\n",
    "\n",
    "bagging = fit_bagging()"
   ]
  },
  {
   "cell_type": "code",
   "execution_count": 25,
   "metadata": {},
   "outputs": [
    {
     "data": {
      "text/html": [
       "<style>#sk-container-id-2 {color: black;background-color: white;}#sk-container-id-2 pre{padding: 0;}#sk-container-id-2 div.sk-toggleable {background-color: white;}#sk-container-id-2 label.sk-toggleable__label {cursor: pointer;display: block;width: 100%;margin-bottom: 0;padding: 0.3em;box-sizing: border-box;text-align: center;}#sk-container-id-2 label.sk-toggleable__label-arrow:before {content: \"▸\";float: left;margin-right: 0.25em;color: #696969;}#sk-container-id-2 label.sk-toggleable__label-arrow:hover:before {color: black;}#sk-container-id-2 div.sk-estimator:hover label.sk-toggleable__label-arrow:before {color: black;}#sk-container-id-2 div.sk-toggleable__content {max-height: 0;max-width: 0;overflow: hidden;text-align: left;background-color: #f0f8ff;}#sk-container-id-2 div.sk-toggleable__content pre {margin: 0.2em;color: black;border-radius: 0.25em;background-color: #f0f8ff;}#sk-container-id-2 input.sk-toggleable__control:checked~div.sk-toggleable__content {max-height: 200px;max-width: 100%;overflow: auto;}#sk-container-id-2 input.sk-toggleable__control:checked~label.sk-toggleable__label-arrow:before {content: \"▾\";}#sk-container-id-2 div.sk-estimator input.sk-toggleable__control:checked~label.sk-toggleable__label {background-color: #d4ebff;}#sk-container-id-2 div.sk-label input.sk-toggleable__control:checked~label.sk-toggleable__label {background-color: #d4ebff;}#sk-container-id-2 input.sk-hidden--visually {border: 0;clip: rect(1px 1px 1px 1px);clip: rect(1px, 1px, 1px, 1px);height: 1px;margin: -1px;overflow: hidden;padding: 0;position: absolute;width: 1px;}#sk-container-id-2 div.sk-estimator {font-family: monospace;background-color: #f0f8ff;border: 1px dotted black;border-radius: 0.25em;box-sizing: border-box;margin-bottom: 0.5em;}#sk-container-id-2 div.sk-estimator:hover {background-color: #d4ebff;}#sk-container-id-2 div.sk-parallel-item::after {content: \"\";width: 100%;border-bottom: 1px solid gray;flex-grow: 1;}#sk-container-id-2 div.sk-label:hover label.sk-toggleable__label {background-color: #d4ebff;}#sk-container-id-2 div.sk-serial::before {content: \"\";position: absolute;border-left: 1px solid gray;box-sizing: border-box;top: 0;bottom: 0;left: 50%;z-index: 0;}#sk-container-id-2 div.sk-serial {display: flex;flex-direction: column;align-items: center;background-color: white;padding-right: 0.2em;padding-left: 0.2em;position: relative;}#sk-container-id-2 div.sk-item {position: relative;z-index: 1;}#sk-container-id-2 div.sk-parallel {display: flex;align-items: stretch;justify-content: center;background-color: white;position: relative;}#sk-container-id-2 div.sk-item::before, #sk-container-id-2 div.sk-parallel-item::before {content: \"\";position: absolute;border-left: 1px solid gray;box-sizing: border-box;top: 0;bottom: 0;left: 50%;z-index: -1;}#sk-container-id-2 div.sk-parallel-item {display: flex;flex-direction: column;z-index: 1;position: relative;background-color: white;}#sk-container-id-2 div.sk-parallel-item:first-child::after {align-self: flex-end;width: 50%;}#sk-container-id-2 div.sk-parallel-item:last-child::after {align-self: flex-start;width: 50%;}#sk-container-id-2 div.sk-parallel-item:only-child::after {width: 0;}#sk-container-id-2 div.sk-dashed-wrapped {border: 1px dashed gray;margin: 0 0.4em 0.5em 0.4em;box-sizing: border-box;padding-bottom: 0.4em;background-color: white;}#sk-container-id-2 div.sk-label label {font-family: monospace;font-weight: bold;display: inline-block;line-height: 1.2em;}#sk-container-id-2 div.sk-label-container {text-align: center;}#sk-container-id-2 div.sk-container {/* jupyter's `normalize.less` sets `[hidden] { display: none; }` but bootstrap.min.css set `[hidden] { display: none !important; }` so we also need the `!important` here to be able to override the default hidden behavior on the sphinx rendered scikit-learn.org. See: https://github.com/scikit-learn/scikit-learn/issues/21755 */display: inline-block !important;position: relative;}#sk-container-id-2 div.sk-text-repr-fallback {display: none;}</style><div id=\"sk-container-id-2\" class=\"sk-top-container\"><div class=\"sk-text-repr-fallback\"><pre>BaggingClassifier(max_features=0.75, max_samples=0.75, n_estimators=100,\n",
       "                  random_state=42)</pre><b>In a Jupyter environment, please rerun this cell to show the HTML representation or trust the notebook. <br />On GitHub, the HTML representation is unable to render, please try loading this page with nbviewer.org.</b></div><div class=\"sk-container\" hidden><div class=\"sk-item\"><div class=\"sk-estimator sk-toggleable\"><input class=\"sk-toggleable__control sk-hidden--visually\" id=\"sk-estimator-id-2\" type=\"checkbox\" checked><label for=\"sk-estimator-id-2\" class=\"sk-toggleable__label sk-toggleable__label-arrow\">BaggingClassifier</label><div class=\"sk-toggleable__content\"><pre>BaggingClassifier(max_features=0.75, max_samples=0.75, n_estimators=100,\n",
       "                  random_state=42)</pre></div></div></div></div></div>"
      ],
      "text/plain": [
       "BaggingClassifier(max_features=0.75, max_samples=0.75, n_estimators=100,\n",
       "                  random_state=42)"
      ]
     },
     "execution_count": 25,
     "metadata": {},
     "output_type": "execute_result"
    }
   ],
   "source": [
    "bagging_model = bagging.best_estimator_\n",
    "bagging_model"
   ]
  },
  {
   "cell_type": "code",
   "execution_count": 27,
   "metadata": {},
   "outputs": [],
   "source": [
    "bagging_y_train = bagging_model.predict(X_train)"
   ]
  },
  {
   "cell_type": "code",
   "execution_count": 74,
   "metadata": {},
   "outputs": [
    {
     "name": "stdout",
     "output_type": "stream",
     "text": [
      "F1-мера для тренировочных данных с помощью BaggingClassifier: 0.9976728763489481\n"
     ]
    },
    {
     "data": {
      "application/vnd.plotly.v1+json": {
       "config": {
        "plotlyServerURL": "https://plot.ly"
       },
       "data": [
        {
         "coloraxis": "coloraxis",
         "hovertemplate": "x: %{x}<br>y: %{y}<br>color: %{z}<extra></extra>",
         "name": "0",
         "texttemplate": "%{z}",
         "type": "heatmap",
         "xaxis": "x",
         "yaxis": "y",
         "z": [
          [
           581,
           1,
           0
          ],
          [
           1,
           189,
           0
          ],
          [
           0,
           0,
           228
          ]
         ]
        }
       ],
       "layout": {
        "coloraxis": {
         "colorscale": [
          [
           0,
           "#0d0887"
          ],
          [
           0.1111111111111111,
           "#46039f"
          ],
          [
           0.2222222222222222,
           "#7201a8"
          ],
          [
           0.3333333333333333,
           "#9c179e"
          ],
          [
           0.4444444444444444,
           "#bd3786"
          ],
          [
           0.5555555555555556,
           "#d8576b"
          ],
          [
           0.6666666666666666,
           "#ed7953"
          ],
          [
           0.7777777777777778,
           "#fb9f3a"
          ],
          [
           0.8888888888888888,
           "#fdca26"
          ],
          [
           1,
           "#f0f921"
          ]
         ]
        },
        "margin": {
         "t": 60
        },
        "template": {
         "data": {
          "bar": [
           {
            "error_x": {
             "color": "#f2f5fa"
            },
            "error_y": {
             "color": "#f2f5fa"
            },
            "marker": {
             "line": {
              "color": "rgb(17,17,17)",
              "width": 0.5
             },
             "pattern": {
              "fillmode": "overlay",
              "size": 10,
              "solidity": 0.2
             }
            },
            "type": "bar"
           }
          ],
          "barpolar": [
           {
            "marker": {
             "line": {
              "color": "rgb(17,17,17)",
              "width": 0.5
             },
             "pattern": {
              "fillmode": "overlay",
              "size": 10,
              "solidity": 0.2
             }
            },
            "type": "barpolar"
           }
          ],
          "carpet": [
           {
            "aaxis": {
             "endlinecolor": "#A2B1C6",
             "gridcolor": "#506784",
             "linecolor": "#506784",
             "minorgridcolor": "#506784",
             "startlinecolor": "#A2B1C6"
            },
            "baxis": {
             "endlinecolor": "#A2B1C6",
             "gridcolor": "#506784",
             "linecolor": "#506784",
             "minorgridcolor": "#506784",
             "startlinecolor": "#A2B1C6"
            },
            "type": "carpet"
           }
          ],
          "choropleth": [
           {
            "colorbar": {
             "outlinewidth": 0,
             "ticks": ""
            },
            "type": "choropleth"
           }
          ],
          "contour": [
           {
            "colorbar": {
             "outlinewidth": 0,
             "ticks": ""
            },
            "colorscale": [
             [
              0,
              "#0d0887"
             ],
             [
              0.1111111111111111,
              "#46039f"
             ],
             [
              0.2222222222222222,
              "#7201a8"
             ],
             [
              0.3333333333333333,
              "#9c179e"
             ],
             [
              0.4444444444444444,
              "#bd3786"
             ],
             [
              0.5555555555555556,
              "#d8576b"
             ],
             [
              0.6666666666666666,
              "#ed7953"
             ],
             [
              0.7777777777777778,
              "#fb9f3a"
             ],
             [
              0.8888888888888888,
              "#fdca26"
             ],
             [
              1,
              "#f0f921"
             ]
            ],
            "type": "contour"
           }
          ],
          "contourcarpet": [
           {
            "colorbar": {
             "outlinewidth": 0,
             "ticks": ""
            },
            "type": "contourcarpet"
           }
          ],
          "heatmap": [
           {
            "colorbar": {
             "outlinewidth": 0,
             "ticks": ""
            },
            "colorscale": [
             [
              0,
              "#0d0887"
             ],
             [
              0.1111111111111111,
              "#46039f"
             ],
             [
              0.2222222222222222,
              "#7201a8"
             ],
             [
              0.3333333333333333,
              "#9c179e"
             ],
             [
              0.4444444444444444,
              "#bd3786"
             ],
             [
              0.5555555555555556,
              "#d8576b"
             ],
             [
              0.6666666666666666,
              "#ed7953"
             ],
             [
              0.7777777777777778,
              "#fb9f3a"
             ],
             [
              0.8888888888888888,
              "#fdca26"
             ],
             [
              1,
              "#f0f921"
             ]
            ],
            "type": "heatmap"
           }
          ],
          "heatmapgl": [
           {
            "colorbar": {
             "outlinewidth": 0,
             "ticks": ""
            },
            "colorscale": [
             [
              0,
              "#0d0887"
             ],
             [
              0.1111111111111111,
              "#46039f"
             ],
             [
              0.2222222222222222,
              "#7201a8"
             ],
             [
              0.3333333333333333,
              "#9c179e"
             ],
             [
              0.4444444444444444,
              "#bd3786"
             ],
             [
              0.5555555555555556,
              "#d8576b"
             ],
             [
              0.6666666666666666,
              "#ed7953"
             ],
             [
              0.7777777777777778,
              "#fb9f3a"
             ],
             [
              0.8888888888888888,
              "#fdca26"
             ],
             [
              1,
              "#f0f921"
             ]
            ],
            "type": "heatmapgl"
           }
          ],
          "histogram": [
           {
            "marker": {
             "pattern": {
              "fillmode": "overlay",
              "size": 10,
              "solidity": 0.2
             }
            },
            "type": "histogram"
           }
          ],
          "histogram2d": [
           {
            "colorbar": {
             "outlinewidth": 0,
             "ticks": ""
            },
            "colorscale": [
             [
              0,
              "#0d0887"
             ],
             [
              0.1111111111111111,
              "#46039f"
             ],
             [
              0.2222222222222222,
              "#7201a8"
             ],
             [
              0.3333333333333333,
              "#9c179e"
             ],
             [
              0.4444444444444444,
              "#bd3786"
             ],
             [
              0.5555555555555556,
              "#d8576b"
             ],
             [
              0.6666666666666666,
              "#ed7953"
             ],
             [
              0.7777777777777778,
              "#fb9f3a"
             ],
             [
              0.8888888888888888,
              "#fdca26"
             ],
             [
              1,
              "#f0f921"
             ]
            ],
            "type": "histogram2d"
           }
          ],
          "histogram2dcontour": [
           {
            "colorbar": {
             "outlinewidth": 0,
             "ticks": ""
            },
            "colorscale": [
             [
              0,
              "#0d0887"
             ],
             [
              0.1111111111111111,
              "#46039f"
             ],
             [
              0.2222222222222222,
              "#7201a8"
             ],
             [
              0.3333333333333333,
              "#9c179e"
             ],
             [
              0.4444444444444444,
              "#bd3786"
             ],
             [
              0.5555555555555556,
              "#d8576b"
             ],
             [
              0.6666666666666666,
              "#ed7953"
             ],
             [
              0.7777777777777778,
              "#fb9f3a"
             ],
             [
              0.8888888888888888,
              "#fdca26"
             ],
             [
              1,
              "#f0f921"
             ]
            ],
            "type": "histogram2dcontour"
           }
          ],
          "mesh3d": [
           {
            "colorbar": {
             "outlinewidth": 0,
             "ticks": ""
            },
            "type": "mesh3d"
           }
          ],
          "parcoords": [
           {
            "line": {
             "colorbar": {
              "outlinewidth": 0,
              "ticks": ""
             }
            },
            "type": "parcoords"
           }
          ],
          "pie": [
           {
            "automargin": true,
            "type": "pie"
           }
          ],
          "scatter": [
           {
            "marker": {
             "line": {
              "color": "#283442"
             }
            },
            "type": "scatter"
           }
          ],
          "scatter3d": [
           {
            "line": {
             "colorbar": {
              "outlinewidth": 0,
              "ticks": ""
             }
            },
            "marker": {
             "colorbar": {
              "outlinewidth": 0,
              "ticks": ""
             }
            },
            "type": "scatter3d"
           }
          ],
          "scattercarpet": [
           {
            "marker": {
             "colorbar": {
              "outlinewidth": 0,
              "ticks": ""
             }
            },
            "type": "scattercarpet"
           }
          ],
          "scattergeo": [
           {
            "marker": {
             "colorbar": {
              "outlinewidth": 0,
              "ticks": ""
             }
            },
            "type": "scattergeo"
           }
          ],
          "scattergl": [
           {
            "marker": {
             "line": {
              "color": "#283442"
             }
            },
            "type": "scattergl"
           }
          ],
          "scattermapbox": [
           {
            "marker": {
             "colorbar": {
              "outlinewidth": 0,
              "ticks": ""
             }
            },
            "type": "scattermapbox"
           }
          ],
          "scatterpolar": [
           {
            "marker": {
             "colorbar": {
              "outlinewidth": 0,
              "ticks": ""
             }
            },
            "type": "scatterpolar"
           }
          ],
          "scatterpolargl": [
           {
            "marker": {
             "colorbar": {
              "outlinewidth": 0,
              "ticks": ""
             }
            },
            "type": "scatterpolargl"
           }
          ],
          "scatterternary": [
           {
            "marker": {
             "colorbar": {
              "outlinewidth": 0,
              "ticks": ""
             }
            },
            "type": "scatterternary"
           }
          ],
          "surface": [
           {
            "colorbar": {
             "outlinewidth": 0,
             "ticks": ""
            },
            "colorscale": [
             [
              0,
              "#0d0887"
             ],
             [
              0.1111111111111111,
              "#46039f"
             ],
             [
              0.2222222222222222,
              "#7201a8"
             ],
             [
              0.3333333333333333,
              "#9c179e"
             ],
             [
              0.4444444444444444,
              "#bd3786"
             ],
             [
              0.5555555555555556,
              "#d8576b"
             ],
             [
              0.6666666666666666,
              "#ed7953"
             ],
             [
              0.7777777777777778,
              "#fb9f3a"
             ],
             [
              0.8888888888888888,
              "#fdca26"
             ],
             [
              1,
              "#f0f921"
             ]
            ],
            "type": "surface"
           }
          ],
          "table": [
           {
            "cells": {
             "fill": {
              "color": "#506784"
             },
             "line": {
              "color": "rgb(17,17,17)"
             }
            },
            "header": {
             "fill": {
              "color": "#2a3f5f"
             },
             "line": {
              "color": "rgb(17,17,17)"
             }
            },
            "type": "table"
           }
          ]
         },
         "layout": {
          "annotationdefaults": {
           "arrowcolor": "#f2f5fa",
           "arrowhead": 0,
           "arrowwidth": 1
          },
          "autotypenumbers": "strict",
          "coloraxis": {
           "colorbar": {
            "outlinewidth": 0,
            "ticks": ""
           }
          },
          "colorscale": {
           "diverging": [
            [
             0,
             "#8e0152"
            ],
            [
             0.1,
             "#c51b7d"
            ],
            [
             0.2,
             "#de77ae"
            ],
            [
             0.3,
             "#f1b6da"
            ],
            [
             0.4,
             "#fde0ef"
            ],
            [
             0.5,
             "#f7f7f7"
            ],
            [
             0.6,
             "#e6f5d0"
            ],
            [
             0.7,
             "#b8e186"
            ],
            [
             0.8,
             "#7fbc41"
            ],
            [
             0.9,
             "#4d9221"
            ],
            [
             1,
             "#276419"
            ]
           ],
           "sequential": [
            [
             0,
             "#0d0887"
            ],
            [
             0.1111111111111111,
             "#46039f"
            ],
            [
             0.2222222222222222,
             "#7201a8"
            ],
            [
             0.3333333333333333,
             "#9c179e"
            ],
            [
             0.4444444444444444,
             "#bd3786"
            ],
            [
             0.5555555555555556,
             "#d8576b"
            ],
            [
             0.6666666666666666,
             "#ed7953"
            ],
            [
             0.7777777777777778,
             "#fb9f3a"
            ],
            [
             0.8888888888888888,
             "#fdca26"
            ],
            [
             1,
             "#f0f921"
            ]
           ],
           "sequentialminus": [
            [
             0,
             "#0d0887"
            ],
            [
             0.1111111111111111,
             "#46039f"
            ],
            [
             0.2222222222222222,
             "#7201a8"
            ],
            [
             0.3333333333333333,
             "#9c179e"
            ],
            [
             0.4444444444444444,
             "#bd3786"
            ],
            [
             0.5555555555555556,
             "#d8576b"
            ],
            [
             0.6666666666666666,
             "#ed7953"
            ],
            [
             0.7777777777777778,
             "#fb9f3a"
            ],
            [
             0.8888888888888888,
             "#fdca26"
            ],
            [
             1,
             "#f0f921"
            ]
           ]
          },
          "colorway": [
           "#636efa",
           "#EF553B",
           "#00cc96",
           "#ab63fa",
           "#FFA15A",
           "#19d3f3",
           "#FF6692",
           "#B6E880",
           "#FF97FF",
           "#FECB52"
          ],
          "font": {
           "color": "#f2f5fa"
          },
          "geo": {
           "bgcolor": "rgb(17,17,17)",
           "lakecolor": "rgb(17,17,17)",
           "landcolor": "rgb(17,17,17)",
           "showlakes": true,
           "showland": true,
           "subunitcolor": "#506784"
          },
          "hoverlabel": {
           "align": "left"
          },
          "hovermode": "closest",
          "mapbox": {
           "style": "dark"
          },
          "paper_bgcolor": "rgb(17,17,17)",
          "plot_bgcolor": "rgb(17,17,17)",
          "polar": {
           "angularaxis": {
            "gridcolor": "#506784",
            "linecolor": "#506784",
            "ticks": ""
           },
           "bgcolor": "rgb(17,17,17)",
           "radialaxis": {
            "gridcolor": "#506784",
            "linecolor": "#506784",
            "ticks": ""
           }
          },
          "scene": {
           "xaxis": {
            "backgroundcolor": "rgb(17,17,17)",
            "gridcolor": "#506784",
            "gridwidth": 2,
            "linecolor": "#506784",
            "showbackground": true,
            "ticks": "",
            "zerolinecolor": "#C8D4E3"
           },
           "yaxis": {
            "backgroundcolor": "rgb(17,17,17)",
            "gridcolor": "#506784",
            "gridwidth": 2,
            "linecolor": "#506784",
            "showbackground": true,
            "ticks": "",
            "zerolinecolor": "#C8D4E3"
           },
           "zaxis": {
            "backgroundcolor": "rgb(17,17,17)",
            "gridcolor": "#506784",
            "gridwidth": 2,
            "linecolor": "#506784",
            "showbackground": true,
            "ticks": "",
            "zerolinecolor": "#C8D4E3"
           }
          },
          "shapedefaults": {
           "line": {
            "color": "#f2f5fa"
           }
          },
          "sliderdefaults": {
           "bgcolor": "#C8D4E3",
           "bordercolor": "rgb(17,17,17)",
           "borderwidth": 1,
           "tickwidth": 0
          },
          "ternary": {
           "aaxis": {
            "gridcolor": "#506784",
            "linecolor": "#506784",
            "ticks": ""
           },
           "baxis": {
            "gridcolor": "#506784",
            "linecolor": "#506784",
            "ticks": ""
           },
           "bgcolor": "rgb(17,17,17)",
           "caxis": {
            "gridcolor": "#506784",
            "linecolor": "#506784",
            "ticks": ""
           }
          },
          "title": {
           "x": 0.05
          },
          "updatemenudefaults": {
           "bgcolor": "#506784",
           "borderwidth": 0
          },
          "xaxis": {
           "automargin": true,
           "gridcolor": "#283442",
           "linecolor": "#506784",
           "ticks": "",
           "title": {
            "standoff": 15
           },
           "zerolinecolor": "#283442",
           "zerolinewidth": 2
          },
          "yaxis": {
           "automargin": true,
           "gridcolor": "#283442",
           "linecolor": "#506784",
           "ticks": "",
           "title": {
            "standoff": 15
           },
           "zerolinecolor": "#283442",
           "zerolinewidth": 2
          }
         }
        },
        "xaxis": {
         "anchor": "y",
         "constrain": "domain",
         "domain": [
          0,
          1
         ],
         "scaleanchor": "y",
         "title": {
          "text": "Target"
         }
        },
        "yaxis": {
         "anchor": "x",
         "autorange": "reversed",
         "constrain": "domain",
         "domain": [
          0,
          1
         ],
         "title": {
          "text": "Prediction"
         }
        }
       }
      },
      "text/html": [
       "<div>                            <div id=\"44309f6a-89b7-4a36-98ac-020e7d801c69\" class=\"plotly-graph-div\" style=\"height:525px; width:100%;\"></div>            <script type=\"text/javascript\">                require([\"plotly\"], function(Plotly) {                    window.PLOTLYENV=window.PLOTLYENV || {};                                    if (document.getElementById(\"44309f6a-89b7-4a36-98ac-020e7d801c69\")) {                    Plotly.newPlot(                        \"44309f6a-89b7-4a36-98ac-020e7d801c69\",                        [{\"coloraxis\":\"coloraxis\",\"name\":\"0\",\"texttemplate\":\"%{z}\",\"z\":[[581,1,0],[1,189,0],[0,0,228]],\"type\":\"heatmap\",\"xaxis\":\"x\",\"yaxis\":\"y\",\"hovertemplate\":\"x: %{x}<br>y: %{y}<br>color: %{z}<extra></extra>\"}],                        {\"template\":{\"data\":{\"histogram2dcontour\":[{\"type\":\"histogram2dcontour\",\"colorbar\":{\"outlinewidth\":0,\"ticks\":\"\"},\"colorscale\":[[0.0,\"#0d0887\"],[0.1111111111111111,\"#46039f\"],[0.2222222222222222,\"#7201a8\"],[0.3333333333333333,\"#9c179e\"],[0.4444444444444444,\"#bd3786\"],[0.5555555555555556,\"#d8576b\"],[0.6666666666666666,\"#ed7953\"],[0.7777777777777778,\"#fb9f3a\"],[0.8888888888888888,\"#fdca26\"],[1.0,\"#f0f921\"]]}],\"choropleth\":[{\"type\":\"choropleth\",\"colorbar\":{\"outlinewidth\":0,\"ticks\":\"\"}}],\"histogram2d\":[{\"type\":\"histogram2d\",\"colorbar\":{\"outlinewidth\":0,\"ticks\":\"\"},\"colorscale\":[[0.0,\"#0d0887\"],[0.1111111111111111,\"#46039f\"],[0.2222222222222222,\"#7201a8\"],[0.3333333333333333,\"#9c179e\"],[0.4444444444444444,\"#bd3786\"],[0.5555555555555556,\"#d8576b\"],[0.6666666666666666,\"#ed7953\"],[0.7777777777777778,\"#fb9f3a\"],[0.8888888888888888,\"#fdca26\"],[1.0,\"#f0f921\"]]}],\"heatmap\":[{\"type\":\"heatmap\",\"colorbar\":{\"outlinewidth\":0,\"ticks\":\"\"},\"colorscale\":[[0.0,\"#0d0887\"],[0.1111111111111111,\"#46039f\"],[0.2222222222222222,\"#7201a8\"],[0.3333333333333333,\"#9c179e\"],[0.4444444444444444,\"#bd3786\"],[0.5555555555555556,\"#d8576b\"],[0.6666666666666666,\"#ed7953\"],[0.7777777777777778,\"#fb9f3a\"],[0.8888888888888888,\"#fdca26\"],[1.0,\"#f0f921\"]]}],\"heatmapgl\":[{\"type\":\"heatmapgl\",\"colorbar\":{\"outlinewidth\":0,\"ticks\":\"\"},\"colorscale\":[[0.0,\"#0d0887\"],[0.1111111111111111,\"#46039f\"],[0.2222222222222222,\"#7201a8\"],[0.3333333333333333,\"#9c179e\"],[0.4444444444444444,\"#bd3786\"],[0.5555555555555556,\"#d8576b\"],[0.6666666666666666,\"#ed7953\"],[0.7777777777777778,\"#fb9f3a\"],[0.8888888888888888,\"#fdca26\"],[1.0,\"#f0f921\"]]}],\"contourcarpet\":[{\"type\":\"contourcarpet\",\"colorbar\":{\"outlinewidth\":0,\"ticks\":\"\"}}],\"contour\":[{\"type\":\"contour\",\"colorbar\":{\"outlinewidth\":0,\"ticks\":\"\"},\"colorscale\":[[0.0,\"#0d0887\"],[0.1111111111111111,\"#46039f\"],[0.2222222222222222,\"#7201a8\"],[0.3333333333333333,\"#9c179e\"],[0.4444444444444444,\"#bd3786\"],[0.5555555555555556,\"#d8576b\"],[0.6666666666666666,\"#ed7953\"],[0.7777777777777778,\"#fb9f3a\"],[0.8888888888888888,\"#fdca26\"],[1.0,\"#f0f921\"]]}],\"surface\":[{\"type\":\"surface\",\"colorbar\":{\"outlinewidth\":0,\"ticks\":\"\"},\"colorscale\":[[0.0,\"#0d0887\"],[0.1111111111111111,\"#46039f\"],[0.2222222222222222,\"#7201a8\"],[0.3333333333333333,\"#9c179e\"],[0.4444444444444444,\"#bd3786\"],[0.5555555555555556,\"#d8576b\"],[0.6666666666666666,\"#ed7953\"],[0.7777777777777778,\"#fb9f3a\"],[0.8888888888888888,\"#fdca26\"],[1.0,\"#f0f921\"]]}],\"mesh3d\":[{\"type\":\"mesh3d\",\"colorbar\":{\"outlinewidth\":0,\"ticks\":\"\"}}],\"scatter\":[{\"marker\":{\"line\":{\"color\":\"#283442\"}},\"type\":\"scatter\"}],\"parcoords\":[{\"type\":\"parcoords\",\"line\":{\"colorbar\":{\"outlinewidth\":0,\"ticks\":\"\"}}}],\"scatterpolargl\":[{\"type\":\"scatterpolargl\",\"marker\":{\"colorbar\":{\"outlinewidth\":0,\"ticks\":\"\"}}}],\"bar\":[{\"error_x\":{\"color\":\"#f2f5fa\"},\"error_y\":{\"color\":\"#f2f5fa\"},\"marker\":{\"line\":{\"color\":\"rgb(17,17,17)\",\"width\":0.5},\"pattern\":{\"fillmode\":\"overlay\",\"size\":10,\"solidity\":0.2}},\"type\":\"bar\"}],\"scattergeo\":[{\"type\":\"scattergeo\",\"marker\":{\"colorbar\":{\"outlinewidth\":0,\"ticks\":\"\"}}}],\"scatterpolar\":[{\"type\":\"scatterpolar\",\"marker\":{\"colorbar\":{\"outlinewidth\":0,\"ticks\":\"\"}}}],\"histogram\":[{\"marker\":{\"pattern\":{\"fillmode\":\"overlay\",\"size\":10,\"solidity\":0.2}},\"type\":\"histogram\"}],\"scattergl\":[{\"marker\":{\"line\":{\"color\":\"#283442\"}},\"type\":\"scattergl\"}],\"scatter3d\":[{\"type\":\"scatter3d\",\"line\":{\"colorbar\":{\"outlinewidth\":0,\"ticks\":\"\"}},\"marker\":{\"colorbar\":{\"outlinewidth\":0,\"ticks\":\"\"}}}],\"scattermapbox\":[{\"type\":\"scattermapbox\",\"marker\":{\"colorbar\":{\"outlinewidth\":0,\"ticks\":\"\"}}}],\"scatterternary\":[{\"type\":\"scatterternary\",\"marker\":{\"colorbar\":{\"outlinewidth\":0,\"ticks\":\"\"}}}],\"scattercarpet\":[{\"type\":\"scattercarpet\",\"marker\":{\"colorbar\":{\"outlinewidth\":0,\"ticks\":\"\"}}}],\"carpet\":[{\"aaxis\":{\"endlinecolor\":\"#A2B1C6\",\"gridcolor\":\"#506784\",\"linecolor\":\"#506784\",\"minorgridcolor\":\"#506784\",\"startlinecolor\":\"#A2B1C6\"},\"baxis\":{\"endlinecolor\":\"#A2B1C6\",\"gridcolor\":\"#506784\",\"linecolor\":\"#506784\",\"minorgridcolor\":\"#506784\",\"startlinecolor\":\"#A2B1C6\"},\"type\":\"carpet\"}],\"table\":[{\"cells\":{\"fill\":{\"color\":\"#506784\"},\"line\":{\"color\":\"rgb(17,17,17)\"}},\"header\":{\"fill\":{\"color\":\"#2a3f5f\"},\"line\":{\"color\":\"rgb(17,17,17)\"}},\"type\":\"table\"}],\"barpolar\":[{\"marker\":{\"line\":{\"color\":\"rgb(17,17,17)\",\"width\":0.5},\"pattern\":{\"fillmode\":\"overlay\",\"size\":10,\"solidity\":0.2}},\"type\":\"barpolar\"}],\"pie\":[{\"automargin\":true,\"type\":\"pie\"}]},\"layout\":{\"autotypenumbers\":\"strict\",\"colorway\":[\"#636efa\",\"#EF553B\",\"#00cc96\",\"#ab63fa\",\"#FFA15A\",\"#19d3f3\",\"#FF6692\",\"#B6E880\",\"#FF97FF\",\"#FECB52\"],\"font\":{\"color\":\"#f2f5fa\"},\"hovermode\":\"closest\",\"hoverlabel\":{\"align\":\"left\"},\"paper_bgcolor\":\"rgb(17,17,17)\",\"plot_bgcolor\":\"rgb(17,17,17)\",\"polar\":{\"bgcolor\":\"rgb(17,17,17)\",\"angularaxis\":{\"gridcolor\":\"#506784\",\"linecolor\":\"#506784\",\"ticks\":\"\"},\"radialaxis\":{\"gridcolor\":\"#506784\",\"linecolor\":\"#506784\",\"ticks\":\"\"}},\"ternary\":{\"bgcolor\":\"rgb(17,17,17)\",\"aaxis\":{\"gridcolor\":\"#506784\",\"linecolor\":\"#506784\",\"ticks\":\"\"},\"baxis\":{\"gridcolor\":\"#506784\",\"linecolor\":\"#506784\",\"ticks\":\"\"},\"caxis\":{\"gridcolor\":\"#506784\",\"linecolor\":\"#506784\",\"ticks\":\"\"}},\"coloraxis\":{\"colorbar\":{\"outlinewidth\":0,\"ticks\":\"\"}},\"colorscale\":{\"sequential\":[[0.0,\"#0d0887\"],[0.1111111111111111,\"#46039f\"],[0.2222222222222222,\"#7201a8\"],[0.3333333333333333,\"#9c179e\"],[0.4444444444444444,\"#bd3786\"],[0.5555555555555556,\"#d8576b\"],[0.6666666666666666,\"#ed7953\"],[0.7777777777777778,\"#fb9f3a\"],[0.8888888888888888,\"#fdca26\"],[1.0,\"#f0f921\"]],\"sequentialminus\":[[0.0,\"#0d0887\"],[0.1111111111111111,\"#46039f\"],[0.2222222222222222,\"#7201a8\"],[0.3333333333333333,\"#9c179e\"],[0.4444444444444444,\"#bd3786\"],[0.5555555555555556,\"#d8576b\"],[0.6666666666666666,\"#ed7953\"],[0.7777777777777778,\"#fb9f3a\"],[0.8888888888888888,\"#fdca26\"],[1.0,\"#f0f921\"]],\"diverging\":[[0,\"#8e0152\"],[0.1,\"#c51b7d\"],[0.2,\"#de77ae\"],[0.3,\"#f1b6da\"],[0.4,\"#fde0ef\"],[0.5,\"#f7f7f7\"],[0.6,\"#e6f5d0\"],[0.7,\"#b8e186\"],[0.8,\"#7fbc41\"],[0.9,\"#4d9221\"],[1,\"#276419\"]]},\"xaxis\":{\"gridcolor\":\"#283442\",\"linecolor\":\"#506784\",\"ticks\":\"\",\"title\":{\"standoff\":15},\"zerolinecolor\":\"#283442\",\"automargin\":true,\"zerolinewidth\":2},\"yaxis\":{\"gridcolor\":\"#283442\",\"linecolor\":\"#506784\",\"ticks\":\"\",\"title\":{\"standoff\":15},\"zerolinecolor\":\"#283442\",\"automargin\":true,\"zerolinewidth\":2},\"scene\":{\"xaxis\":{\"backgroundcolor\":\"rgb(17,17,17)\",\"gridcolor\":\"#506784\",\"linecolor\":\"#506784\",\"showbackground\":true,\"ticks\":\"\",\"zerolinecolor\":\"#C8D4E3\",\"gridwidth\":2},\"yaxis\":{\"backgroundcolor\":\"rgb(17,17,17)\",\"gridcolor\":\"#506784\",\"linecolor\":\"#506784\",\"showbackground\":true,\"ticks\":\"\",\"zerolinecolor\":\"#C8D4E3\",\"gridwidth\":2},\"zaxis\":{\"backgroundcolor\":\"rgb(17,17,17)\",\"gridcolor\":\"#506784\",\"linecolor\":\"#506784\",\"showbackground\":true,\"ticks\":\"\",\"zerolinecolor\":\"#C8D4E3\",\"gridwidth\":2}},\"shapedefaults\":{\"line\":{\"color\":\"#f2f5fa\"}},\"annotationdefaults\":{\"arrowcolor\":\"#f2f5fa\",\"arrowhead\":0,\"arrowwidth\":1},\"geo\":{\"bgcolor\":\"rgb(17,17,17)\",\"landcolor\":\"rgb(17,17,17)\",\"subunitcolor\":\"#506784\",\"showland\":true,\"showlakes\":true,\"lakecolor\":\"rgb(17,17,17)\"},\"title\":{\"x\":0.05},\"updatemenudefaults\":{\"bgcolor\":\"#506784\",\"borderwidth\":0},\"sliderdefaults\":{\"bgcolor\":\"#C8D4E3\",\"borderwidth\":1,\"bordercolor\":\"rgb(17,17,17)\",\"tickwidth\":0},\"mapbox\":{\"style\":\"dark\"}}},\"xaxis\":{\"anchor\":\"y\",\"domain\":[0.0,1.0],\"scaleanchor\":\"y\",\"constrain\":\"domain\",\"title\":{\"text\":\"Target\"}},\"yaxis\":{\"anchor\":\"x\",\"domain\":[0.0,1.0],\"autorange\":\"reversed\",\"constrain\":\"domain\",\"title\":{\"text\":\"Prediction\"}},\"coloraxis\":{\"colorscale\":[[0.0,\"#0d0887\"],[0.1111111111111111,\"#46039f\"],[0.2222222222222222,\"#7201a8\"],[0.3333333333333333,\"#9c179e\"],[0.4444444444444444,\"#bd3786\"],[0.5555555555555556,\"#d8576b\"],[0.6666666666666666,\"#ed7953\"],[0.7777777777777778,\"#fb9f3a\"],[0.8888888888888888,\"#fdca26\"],[1.0,\"#f0f921\"]]},\"margin\":{\"t\":60}},                        {\"responsive\": true}                    ).then(function(){\n",
       "                            \n",
       "var gd = document.getElementById('44309f6a-89b7-4a36-98ac-020e7d801c69');\n",
       "var x = new MutationObserver(function (mutations, observer) {{\n",
       "        var display = window.getComputedStyle(gd).display;\n",
       "        if (!display || display === 'none') {{\n",
       "            console.log([gd, 'removed!']);\n",
       "            Plotly.purge(gd);\n",
       "            observer.disconnect();\n",
       "        }}\n",
       "}});\n",
       "\n",
       "// Listen for the removal of the full notebook cells\n",
       "var notebookContainer = gd.closest('#notebook-container');\n",
       "if (notebookContainer) {{\n",
       "    x.observe(notebookContainer, {childList: true});\n",
       "}}\n",
       "\n",
       "// Listen for the clearing of the current output cell\n",
       "var outputEl = gd.closest('.output');\n",
       "if (outputEl) {{\n",
       "    x.observe(outputEl, {childList: true});\n",
       "}}\n",
       "\n",
       "                        })                };                });            </script>        </div>"
      ]
     },
     "metadata": {},
     "output_type": "display_data"
    }
   ],
   "source": [
    "@score_for('Bagging', 'train')\n",
    "@time_for('Bagging', 'train')\n",
    "def train_bagging():\n",
    "    return f1_score(bagging_y_train, y_train, average='macro')\n",
    "\n",
    "print(\n",
    "    \"F1-мера для тренировочных данных с помощью \"\n",
    "    \"BaggingClassifier:\", train_bagging(),\n",
    ")\n",
    "draw_conf_matrix(y_train, bagging_y_train)"
   ]
  },
  {
   "cell_type": "code",
   "execution_count": 29,
   "metadata": {},
   "outputs": [],
   "source": [
    "bagging_y_test = bagging_model.predict(X_test)"
   ]
  },
  {
   "cell_type": "code",
   "execution_count": 75,
   "metadata": {},
   "outputs": [
    {
     "name": "stdout",
     "output_type": "stream",
     "text": [
      "F1-мера для тестовых данных с помощью BaggingClassifier: 0.9616708744091462\n"
     ]
    },
    {
     "data": {
      "application/vnd.plotly.v1+json": {
       "config": {
        "plotlyServerURL": "https://plot.ly"
       },
       "data": [
        {
         "coloraxis": "coloraxis",
         "hovertemplate": "x: %{x}<br>y: %{y}<br>color: %{z}<extra></extra>",
         "name": "0",
         "texttemplate": "%{z}",
         "type": "heatmap",
         "xaxis": "x",
         "yaxis": "y",
         "z": [
          [
           57423,
           897,
           543
          ],
          [
           1827,
           16941,
           3
          ],
          [
           7,
           0,
           21359
          ]
         ]
        }
       ],
       "layout": {
        "coloraxis": {
         "colorscale": [
          [
           0,
           "#0d0887"
          ],
          [
           0.1111111111111111,
           "#46039f"
          ],
          [
           0.2222222222222222,
           "#7201a8"
          ],
          [
           0.3333333333333333,
           "#9c179e"
          ],
          [
           0.4444444444444444,
           "#bd3786"
          ],
          [
           0.5555555555555556,
           "#d8576b"
          ],
          [
           0.6666666666666666,
           "#ed7953"
          ],
          [
           0.7777777777777778,
           "#fb9f3a"
          ],
          [
           0.8888888888888888,
           "#fdca26"
          ],
          [
           1,
           "#f0f921"
          ]
         ]
        },
        "margin": {
         "t": 60
        },
        "template": {
         "data": {
          "bar": [
           {
            "error_x": {
             "color": "#f2f5fa"
            },
            "error_y": {
             "color": "#f2f5fa"
            },
            "marker": {
             "line": {
              "color": "rgb(17,17,17)",
              "width": 0.5
             },
             "pattern": {
              "fillmode": "overlay",
              "size": 10,
              "solidity": 0.2
             }
            },
            "type": "bar"
           }
          ],
          "barpolar": [
           {
            "marker": {
             "line": {
              "color": "rgb(17,17,17)",
              "width": 0.5
             },
             "pattern": {
              "fillmode": "overlay",
              "size": 10,
              "solidity": 0.2
             }
            },
            "type": "barpolar"
           }
          ],
          "carpet": [
           {
            "aaxis": {
             "endlinecolor": "#A2B1C6",
             "gridcolor": "#506784",
             "linecolor": "#506784",
             "minorgridcolor": "#506784",
             "startlinecolor": "#A2B1C6"
            },
            "baxis": {
             "endlinecolor": "#A2B1C6",
             "gridcolor": "#506784",
             "linecolor": "#506784",
             "minorgridcolor": "#506784",
             "startlinecolor": "#A2B1C6"
            },
            "type": "carpet"
           }
          ],
          "choropleth": [
           {
            "colorbar": {
             "outlinewidth": 0,
             "ticks": ""
            },
            "type": "choropleth"
           }
          ],
          "contour": [
           {
            "colorbar": {
             "outlinewidth": 0,
             "ticks": ""
            },
            "colorscale": [
             [
              0,
              "#0d0887"
             ],
             [
              0.1111111111111111,
              "#46039f"
             ],
             [
              0.2222222222222222,
              "#7201a8"
             ],
             [
              0.3333333333333333,
              "#9c179e"
             ],
             [
              0.4444444444444444,
              "#bd3786"
             ],
             [
              0.5555555555555556,
              "#d8576b"
             ],
             [
              0.6666666666666666,
              "#ed7953"
             ],
             [
              0.7777777777777778,
              "#fb9f3a"
             ],
             [
              0.8888888888888888,
              "#fdca26"
             ],
             [
              1,
              "#f0f921"
             ]
            ],
            "type": "contour"
           }
          ],
          "contourcarpet": [
           {
            "colorbar": {
             "outlinewidth": 0,
             "ticks": ""
            },
            "type": "contourcarpet"
           }
          ],
          "heatmap": [
           {
            "colorbar": {
             "outlinewidth": 0,
             "ticks": ""
            },
            "colorscale": [
             [
              0,
              "#0d0887"
             ],
             [
              0.1111111111111111,
              "#46039f"
             ],
             [
              0.2222222222222222,
              "#7201a8"
             ],
             [
              0.3333333333333333,
              "#9c179e"
             ],
             [
              0.4444444444444444,
              "#bd3786"
             ],
             [
              0.5555555555555556,
              "#d8576b"
             ],
             [
              0.6666666666666666,
              "#ed7953"
             ],
             [
              0.7777777777777778,
              "#fb9f3a"
             ],
             [
              0.8888888888888888,
              "#fdca26"
             ],
             [
              1,
              "#f0f921"
             ]
            ],
            "type": "heatmap"
           }
          ],
          "heatmapgl": [
           {
            "colorbar": {
             "outlinewidth": 0,
             "ticks": ""
            },
            "colorscale": [
             [
              0,
              "#0d0887"
             ],
             [
              0.1111111111111111,
              "#46039f"
             ],
             [
              0.2222222222222222,
              "#7201a8"
             ],
             [
              0.3333333333333333,
              "#9c179e"
             ],
             [
              0.4444444444444444,
              "#bd3786"
             ],
             [
              0.5555555555555556,
              "#d8576b"
             ],
             [
              0.6666666666666666,
              "#ed7953"
             ],
             [
              0.7777777777777778,
              "#fb9f3a"
             ],
             [
              0.8888888888888888,
              "#fdca26"
             ],
             [
              1,
              "#f0f921"
             ]
            ],
            "type": "heatmapgl"
           }
          ],
          "histogram": [
           {
            "marker": {
             "pattern": {
              "fillmode": "overlay",
              "size": 10,
              "solidity": 0.2
             }
            },
            "type": "histogram"
           }
          ],
          "histogram2d": [
           {
            "colorbar": {
             "outlinewidth": 0,
             "ticks": ""
            },
            "colorscale": [
             [
              0,
              "#0d0887"
             ],
             [
              0.1111111111111111,
              "#46039f"
             ],
             [
              0.2222222222222222,
              "#7201a8"
             ],
             [
              0.3333333333333333,
              "#9c179e"
             ],
             [
              0.4444444444444444,
              "#bd3786"
             ],
             [
              0.5555555555555556,
              "#d8576b"
             ],
             [
              0.6666666666666666,
              "#ed7953"
             ],
             [
              0.7777777777777778,
              "#fb9f3a"
             ],
             [
              0.8888888888888888,
              "#fdca26"
             ],
             [
              1,
              "#f0f921"
             ]
            ],
            "type": "histogram2d"
           }
          ],
          "histogram2dcontour": [
           {
            "colorbar": {
             "outlinewidth": 0,
             "ticks": ""
            },
            "colorscale": [
             [
              0,
              "#0d0887"
             ],
             [
              0.1111111111111111,
              "#46039f"
             ],
             [
              0.2222222222222222,
              "#7201a8"
             ],
             [
              0.3333333333333333,
              "#9c179e"
             ],
             [
              0.4444444444444444,
              "#bd3786"
             ],
             [
              0.5555555555555556,
              "#d8576b"
             ],
             [
              0.6666666666666666,
              "#ed7953"
             ],
             [
              0.7777777777777778,
              "#fb9f3a"
             ],
             [
              0.8888888888888888,
              "#fdca26"
             ],
             [
              1,
              "#f0f921"
             ]
            ],
            "type": "histogram2dcontour"
           }
          ],
          "mesh3d": [
           {
            "colorbar": {
             "outlinewidth": 0,
             "ticks": ""
            },
            "type": "mesh3d"
           }
          ],
          "parcoords": [
           {
            "line": {
             "colorbar": {
              "outlinewidth": 0,
              "ticks": ""
             }
            },
            "type": "parcoords"
           }
          ],
          "pie": [
           {
            "automargin": true,
            "type": "pie"
           }
          ],
          "scatter": [
           {
            "marker": {
             "line": {
              "color": "#283442"
             }
            },
            "type": "scatter"
           }
          ],
          "scatter3d": [
           {
            "line": {
             "colorbar": {
              "outlinewidth": 0,
              "ticks": ""
             }
            },
            "marker": {
             "colorbar": {
              "outlinewidth": 0,
              "ticks": ""
             }
            },
            "type": "scatter3d"
           }
          ],
          "scattercarpet": [
           {
            "marker": {
             "colorbar": {
              "outlinewidth": 0,
              "ticks": ""
             }
            },
            "type": "scattercarpet"
           }
          ],
          "scattergeo": [
           {
            "marker": {
             "colorbar": {
              "outlinewidth": 0,
              "ticks": ""
             }
            },
            "type": "scattergeo"
           }
          ],
          "scattergl": [
           {
            "marker": {
             "line": {
              "color": "#283442"
             }
            },
            "type": "scattergl"
           }
          ],
          "scattermapbox": [
           {
            "marker": {
             "colorbar": {
              "outlinewidth": 0,
              "ticks": ""
             }
            },
            "type": "scattermapbox"
           }
          ],
          "scatterpolar": [
           {
            "marker": {
             "colorbar": {
              "outlinewidth": 0,
              "ticks": ""
             }
            },
            "type": "scatterpolar"
           }
          ],
          "scatterpolargl": [
           {
            "marker": {
             "colorbar": {
              "outlinewidth": 0,
              "ticks": ""
             }
            },
            "type": "scatterpolargl"
           }
          ],
          "scatterternary": [
           {
            "marker": {
             "colorbar": {
              "outlinewidth": 0,
              "ticks": ""
             }
            },
            "type": "scatterternary"
           }
          ],
          "surface": [
           {
            "colorbar": {
             "outlinewidth": 0,
             "ticks": ""
            },
            "colorscale": [
             [
              0,
              "#0d0887"
             ],
             [
              0.1111111111111111,
              "#46039f"
             ],
             [
              0.2222222222222222,
              "#7201a8"
             ],
             [
              0.3333333333333333,
              "#9c179e"
             ],
             [
              0.4444444444444444,
              "#bd3786"
             ],
             [
              0.5555555555555556,
              "#d8576b"
             ],
             [
              0.6666666666666666,
              "#ed7953"
             ],
             [
              0.7777777777777778,
              "#fb9f3a"
             ],
             [
              0.8888888888888888,
              "#fdca26"
             ],
             [
              1,
              "#f0f921"
             ]
            ],
            "type": "surface"
           }
          ],
          "table": [
           {
            "cells": {
             "fill": {
              "color": "#506784"
             },
             "line": {
              "color": "rgb(17,17,17)"
             }
            },
            "header": {
             "fill": {
              "color": "#2a3f5f"
             },
             "line": {
              "color": "rgb(17,17,17)"
             }
            },
            "type": "table"
           }
          ]
         },
         "layout": {
          "annotationdefaults": {
           "arrowcolor": "#f2f5fa",
           "arrowhead": 0,
           "arrowwidth": 1
          },
          "autotypenumbers": "strict",
          "coloraxis": {
           "colorbar": {
            "outlinewidth": 0,
            "ticks": ""
           }
          },
          "colorscale": {
           "diverging": [
            [
             0,
             "#8e0152"
            ],
            [
             0.1,
             "#c51b7d"
            ],
            [
             0.2,
             "#de77ae"
            ],
            [
             0.3,
             "#f1b6da"
            ],
            [
             0.4,
             "#fde0ef"
            ],
            [
             0.5,
             "#f7f7f7"
            ],
            [
             0.6,
             "#e6f5d0"
            ],
            [
             0.7,
             "#b8e186"
            ],
            [
             0.8,
             "#7fbc41"
            ],
            [
             0.9,
             "#4d9221"
            ],
            [
             1,
             "#276419"
            ]
           ],
           "sequential": [
            [
             0,
             "#0d0887"
            ],
            [
             0.1111111111111111,
             "#46039f"
            ],
            [
             0.2222222222222222,
             "#7201a8"
            ],
            [
             0.3333333333333333,
             "#9c179e"
            ],
            [
             0.4444444444444444,
             "#bd3786"
            ],
            [
             0.5555555555555556,
             "#d8576b"
            ],
            [
             0.6666666666666666,
             "#ed7953"
            ],
            [
             0.7777777777777778,
             "#fb9f3a"
            ],
            [
             0.8888888888888888,
             "#fdca26"
            ],
            [
             1,
             "#f0f921"
            ]
           ],
           "sequentialminus": [
            [
             0,
             "#0d0887"
            ],
            [
             0.1111111111111111,
             "#46039f"
            ],
            [
             0.2222222222222222,
             "#7201a8"
            ],
            [
             0.3333333333333333,
             "#9c179e"
            ],
            [
             0.4444444444444444,
             "#bd3786"
            ],
            [
             0.5555555555555556,
             "#d8576b"
            ],
            [
             0.6666666666666666,
             "#ed7953"
            ],
            [
             0.7777777777777778,
             "#fb9f3a"
            ],
            [
             0.8888888888888888,
             "#fdca26"
            ],
            [
             1,
             "#f0f921"
            ]
           ]
          },
          "colorway": [
           "#636efa",
           "#EF553B",
           "#00cc96",
           "#ab63fa",
           "#FFA15A",
           "#19d3f3",
           "#FF6692",
           "#B6E880",
           "#FF97FF",
           "#FECB52"
          ],
          "font": {
           "color": "#f2f5fa"
          },
          "geo": {
           "bgcolor": "rgb(17,17,17)",
           "lakecolor": "rgb(17,17,17)",
           "landcolor": "rgb(17,17,17)",
           "showlakes": true,
           "showland": true,
           "subunitcolor": "#506784"
          },
          "hoverlabel": {
           "align": "left"
          },
          "hovermode": "closest",
          "mapbox": {
           "style": "dark"
          },
          "paper_bgcolor": "rgb(17,17,17)",
          "plot_bgcolor": "rgb(17,17,17)",
          "polar": {
           "angularaxis": {
            "gridcolor": "#506784",
            "linecolor": "#506784",
            "ticks": ""
           },
           "bgcolor": "rgb(17,17,17)",
           "radialaxis": {
            "gridcolor": "#506784",
            "linecolor": "#506784",
            "ticks": ""
           }
          },
          "scene": {
           "xaxis": {
            "backgroundcolor": "rgb(17,17,17)",
            "gridcolor": "#506784",
            "gridwidth": 2,
            "linecolor": "#506784",
            "showbackground": true,
            "ticks": "",
            "zerolinecolor": "#C8D4E3"
           },
           "yaxis": {
            "backgroundcolor": "rgb(17,17,17)",
            "gridcolor": "#506784",
            "gridwidth": 2,
            "linecolor": "#506784",
            "showbackground": true,
            "ticks": "",
            "zerolinecolor": "#C8D4E3"
           },
           "zaxis": {
            "backgroundcolor": "rgb(17,17,17)",
            "gridcolor": "#506784",
            "gridwidth": 2,
            "linecolor": "#506784",
            "showbackground": true,
            "ticks": "",
            "zerolinecolor": "#C8D4E3"
           }
          },
          "shapedefaults": {
           "line": {
            "color": "#f2f5fa"
           }
          },
          "sliderdefaults": {
           "bgcolor": "#C8D4E3",
           "bordercolor": "rgb(17,17,17)",
           "borderwidth": 1,
           "tickwidth": 0
          },
          "ternary": {
           "aaxis": {
            "gridcolor": "#506784",
            "linecolor": "#506784",
            "ticks": ""
           },
           "baxis": {
            "gridcolor": "#506784",
            "linecolor": "#506784",
            "ticks": ""
           },
           "bgcolor": "rgb(17,17,17)",
           "caxis": {
            "gridcolor": "#506784",
            "linecolor": "#506784",
            "ticks": ""
           }
          },
          "title": {
           "x": 0.05
          },
          "updatemenudefaults": {
           "bgcolor": "#506784",
           "borderwidth": 0
          },
          "xaxis": {
           "automargin": true,
           "gridcolor": "#283442",
           "linecolor": "#506784",
           "ticks": "",
           "title": {
            "standoff": 15
           },
           "zerolinecolor": "#283442",
           "zerolinewidth": 2
          },
          "yaxis": {
           "automargin": true,
           "gridcolor": "#283442",
           "linecolor": "#506784",
           "ticks": "",
           "title": {
            "standoff": 15
           },
           "zerolinecolor": "#283442",
           "zerolinewidth": 2
          }
         }
        },
        "xaxis": {
         "anchor": "y",
         "constrain": "domain",
         "domain": [
          0,
          1
         ],
         "scaleanchor": "y",
         "title": {
          "text": "Target"
         }
        },
        "yaxis": {
         "anchor": "x",
         "autorange": "reversed",
         "constrain": "domain",
         "domain": [
          0,
          1
         ],
         "title": {
          "text": "Prediction"
         }
        }
       }
      },
      "text/html": [
       "<div>                            <div id=\"0e3eb614-1533-431f-ad88-5ee03fe0a5a0\" class=\"plotly-graph-div\" style=\"height:525px; width:100%;\"></div>            <script type=\"text/javascript\">                require([\"plotly\"], function(Plotly) {                    window.PLOTLYENV=window.PLOTLYENV || {};                                    if (document.getElementById(\"0e3eb614-1533-431f-ad88-5ee03fe0a5a0\")) {                    Plotly.newPlot(                        \"0e3eb614-1533-431f-ad88-5ee03fe0a5a0\",                        [{\"coloraxis\":\"coloraxis\",\"name\":\"0\",\"texttemplate\":\"%{z}\",\"z\":[[57423,897,543],[1827,16941,3],[7,0,21359]],\"type\":\"heatmap\",\"xaxis\":\"x\",\"yaxis\":\"y\",\"hovertemplate\":\"x: %{x}<br>y: %{y}<br>color: %{z}<extra></extra>\"}],                        {\"template\":{\"data\":{\"histogram2dcontour\":[{\"type\":\"histogram2dcontour\",\"colorbar\":{\"outlinewidth\":0,\"ticks\":\"\"},\"colorscale\":[[0.0,\"#0d0887\"],[0.1111111111111111,\"#46039f\"],[0.2222222222222222,\"#7201a8\"],[0.3333333333333333,\"#9c179e\"],[0.4444444444444444,\"#bd3786\"],[0.5555555555555556,\"#d8576b\"],[0.6666666666666666,\"#ed7953\"],[0.7777777777777778,\"#fb9f3a\"],[0.8888888888888888,\"#fdca26\"],[1.0,\"#f0f921\"]]}],\"choropleth\":[{\"type\":\"choropleth\",\"colorbar\":{\"outlinewidth\":0,\"ticks\":\"\"}}],\"histogram2d\":[{\"type\":\"histogram2d\",\"colorbar\":{\"outlinewidth\":0,\"ticks\":\"\"},\"colorscale\":[[0.0,\"#0d0887\"],[0.1111111111111111,\"#46039f\"],[0.2222222222222222,\"#7201a8\"],[0.3333333333333333,\"#9c179e\"],[0.4444444444444444,\"#bd3786\"],[0.5555555555555556,\"#d8576b\"],[0.6666666666666666,\"#ed7953\"],[0.7777777777777778,\"#fb9f3a\"],[0.8888888888888888,\"#fdca26\"],[1.0,\"#f0f921\"]]}],\"heatmap\":[{\"type\":\"heatmap\",\"colorbar\":{\"outlinewidth\":0,\"ticks\":\"\"},\"colorscale\":[[0.0,\"#0d0887\"],[0.1111111111111111,\"#46039f\"],[0.2222222222222222,\"#7201a8\"],[0.3333333333333333,\"#9c179e\"],[0.4444444444444444,\"#bd3786\"],[0.5555555555555556,\"#d8576b\"],[0.6666666666666666,\"#ed7953\"],[0.7777777777777778,\"#fb9f3a\"],[0.8888888888888888,\"#fdca26\"],[1.0,\"#f0f921\"]]}],\"heatmapgl\":[{\"type\":\"heatmapgl\",\"colorbar\":{\"outlinewidth\":0,\"ticks\":\"\"},\"colorscale\":[[0.0,\"#0d0887\"],[0.1111111111111111,\"#46039f\"],[0.2222222222222222,\"#7201a8\"],[0.3333333333333333,\"#9c179e\"],[0.4444444444444444,\"#bd3786\"],[0.5555555555555556,\"#d8576b\"],[0.6666666666666666,\"#ed7953\"],[0.7777777777777778,\"#fb9f3a\"],[0.8888888888888888,\"#fdca26\"],[1.0,\"#f0f921\"]]}],\"contourcarpet\":[{\"type\":\"contourcarpet\",\"colorbar\":{\"outlinewidth\":0,\"ticks\":\"\"}}],\"contour\":[{\"type\":\"contour\",\"colorbar\":{\"outlinewidth\":0,\"ticks\":\"\"},\"colorscale\":[[0.0,\"#0d0887\"],[0.1111111111111111,\"#46039f\"],[0.2222222222222222,\"#7201a8\"],[0.3333333333333333,\"#9c179e\"],[0.4444444444444444,\"#bd3786\"],[0.5555555555555556,\"#d8576b\"],[0.6666666666666666,\"#ed7953\"],[0.7777777777777778,\"#fb9f3a\"],[0.8888888888888888,\"#fdca26\"],[1.0,\"#f0f921\"]]}],\"surface\":[{\"type\":\"surface\",\"colorbar\":{\"outlinewidth\":0,\"ticks\":\"\"},\"colorscale\":[[0.0,\"#0d0887\"],[0.1111111111111111,\"#46039f\"],[0.2222222222222222,\"#7201a8\"],[0.3333333333333333,\"#9c179e\"],[0.4444444444444444,\"#bd3786\"],[0.5555555555555556,\"#d8576b\"],[0.6666666666666666,\"#ed7953\"],[0.7777777777777778,\"#fb9f3a\"],[0.8888888888888888,\"#fdca26\"],[1.0,\"#f0f921\"]]}],\"mesh3d\":[{\"type\":\"mesh3d\",\"colorbar\":{\"outlinewidth\":0,\"ticks\":\"\"}}],\"scatter\":[{\"marker\":{\"line\":{\"color\":\"#283442\"}},\"type\":\"scatter\"}],\"parcoords\":[{\"type\":\"parcoords\",\"line\":{\"colorbar\":{\"outlinewidth\":0,\"ticks\":\"\"}}}],\"scatterpolargl\":[{\"type\":\"scatterpolargl\",\"marker\":{\"colorbar\":{\"outlinewidth\":0,\"ticks\":\"\"}}}],\"bar\":[{\"error_x\":{\"color\":\"#f2f5fa\"},\"error_y\":{\"color\":\"#f2f5fa\"},\"marker\":{\"line\":{\"color\":\"rgb(17,17,17)\",\"width\":0.5},\"pattern\":{\"fillmode\":\"overlay\",\"size\":10,\"solidity\":0.2}},\"type\":\"bar\"}],\"scattergeo\":[{\"type\":\"scattergeo\",\"marker\":{\"colorbar\":{\"outlinewidth\":0,\"ticks\":\"\"}}}],\"scatterpolar\":[{\"type\":\"scatterpolar\",\"marker\":{\"colorbar\":{\"outlinewidth\":0,\"ticks\":\"\"}}}],\"histogram\":[{\"marker\":{\"pattern\":{\"fillmode\":\"overlay\",\"size\":10,\"solidity\":0.2}},\"type\":\"histogram\"}],\"scattergl\":[{\"marker\":{\"line\":{\"color\":\"#283442\"}},\"type\":\"scattergl\"}],\"scatter3d\":[{\"type\":\"scatter3d\",\"line\":{\"colorbar\":{\"outlinewidth\":0,\"ticks\":\"\"}},\"marker\":{\"colorbar\":{\"outlinewidth\":0,\"ticks\":\"\"}}}],\"scattermapbox\":[{\"type\":\"scattermapbox\",\"marker\":{\"colorbar\":{\"outlinewidth\":0,\"ticks\":\"\"}}}],\"scatterternary\":[{\"type\":\"scatterternary\",\"marker\":{\"colorbar\":{\"outlinewidth\":0,\"ticks\":\"\"}}}],\"scattercarpet\":[{\"type\":\"scattercarpet\",\"marker\":{\"colorbar\":{\"outlinewidth\":0,\"ticks\":\"\"}}}],\"carpet\":[{\"aaxis\":{\"endlinecolor\":\"#A2B1C6\",\"gridcolor\":\"#506784\",\"linecolor\":\"#506784\",\"minorgridcolor\":\"#506784\",\"startlinecolor\":\"#A2B1C6\"},\"baxis\":{\"endlinecolor\":\"#A2B1C6\",\"gridcolor\":\"#506784\",\"linecolor\":\"#506784\",\"minorgridcolor\":\"#506784\",\"startlinecolor\":\"#A2B1C6\"},\"type\":\"carpet\"}],\"table\":[{\"cells\":{\"fill\":{\"color\":\"#506784\"},\"line\":{\"color\":\"rgb(17,17,17)\"}},\"header\":{\"fill\":{\"color\":\"#2a3f5f\"},\"line\":{\"color\":\"rgb(17,17,17)\"}},\"type\":\"table\"}],\"barpolar\":[{\"marker\":{\"line\":{\"color\":\"rgb(17,17,17)\",\"width\":0.5},\"pattern\":{\"fillmode\":\"overlay\",\"size\":10,\"solidity\":0.2}},\"type\":\"barpolar\"}],\"pie\":[{\"automargin\":true,\"type\":\"pie\"}]},\"layout\":{\"autotypenumbers\":\"strict\",\"colorway\":[\"#636efa\",\"#EF553B\",\"#00cc96\",\"#ab63fa\",\"#FFA15A\",\"#19d3f3\",\"#FF6692\",\"#B6E880\",\"#FF97FF\",\"#FECB52\"],\"font\":{\"color\":\"#f2f5fa\"},\"hovermode\":\"closest\",\"hoverlabel\":{\"align\":\"left\"},\"paper_bgcolor\":\"rgb(17,17,17)\",\"plot_bgcolor\":\"rgb(17,17,17)\",\"polar\":{\"bgcolor\":\"rgb(17,17,17)\",\"angularaxis\":{\"gridcolor\":\"#506784\",\"linecolor\":\"#506784\",\"ticks\":\"\"},\"radialaxis\":{\"gridcolor\":\"#506784\",\"linecolor\":\"#506784\",\"ticks\":\"\"}},\"ternary\":{\"bgcolor\":\"rgb(17,17,17)\",\"aaxis\":{\"gridcolor\":\"#506784\",\"linecolor\":\"#506784\",\"ticks\":\"\"},\"baxis\":{\"gridcolor\":\"#506784\",\"linecolor\":\"#506784\",\"ticks\":\"\"},\"caxis\":{\"gridcolor\":\"#506784\",\"linecolor\":\"#506784\",\"ticks\":\"\"}},\"coloraxis\":{\"colorbar\":{\"outlinewidth\":0,\"ticks\":\"\"}},\"colorscale\":{\"sequential\":[[0.0,\"#0d0887\"],[0.1111111111111111,\"#46039f\"],[0.2222222222222222,\"#7201a8\"],[0.3333333333333333,\"#9c179e\"],[0.4444444444444444,\"#bd3786\"],[0.5555555555555556,\"#d8576b\"],[0.6666666666666666,\"#ed7953\"],[0.7777777777777778,\"#fb9f3a\"],[0.8888888888888888,\"#fdca26\"],[1.0,\"#f0f921\"]],\"sequentialminus\":[[0.0,\"#0d0887\"],[0.1111111111111111,\"#46039f\"],[0.2222222222222222,\"#7201a8\"],[0.3333333333333333,\"#9c179e\"],[0.4444444444444444,\"#bd3786\"],[0.5555555555555556,\"#d8576b\"],[0.6666666666666666,\"#ed7953\"],[0.7777777777777778,\"#fb9f3a\"],[0.8888888888888888,\"#fdca26\"],[1.0,\"#f0f921\"]],\"diverging\":[[0,\"#8e0152\"],[0.1,\"#c51b7d\"],[0.2,\"#de77ae\"],[0.3,\"#f1b6da\"],[0.4,\"#fde0ef\"],[0.5,\"#f7f7f7\"],[0.6,\"#e6f5d0\"],[0.7,\"#b8e186\"],[0.8,\"#7fbc41\"],[0.9,\"#4d9221\"],[1,\"#276419\"]]},\"xaxis\":{\"gridcolor\":\"#283442\",\"linecolor\":\"#506784\",\"ticks\":\"\",\"title\":{\"standoff\":15},\"zerolinecolor\":\"#283442\",\"automargin\":true,\"zerolinewidth\":2},\"yaxis\":{\"gridcolor\":\"#283442\",\"linecolor\":\"#506784\",\"ticks\":\"\",\"title\":{\"standoff\":15},\"zerolinecolor\":\"#283442\",\"automargin\":true,\"zerolinewidth\":2},\"scene\":{\"xaxis\":{\"backgroundcolor\":\"rgb(17,17,17)\",\"gridcolor\":\"#506784\",\"linecolor\":\"#506784\",\"showbackground\":true,\"ticks\":\"\",\"zerolinecolor\":\"#C8D4E3\",\"gridwidth\":2},\"yaxis\":{\"backgroundcolor\":\"rgb(17,17,17)\",\"gridcolor\":\"#506784\",\"linecolor\":\"#506784\",\"showbackground\":true,\"ticks\":\"\",\"zerolinecolor\":\"#C8D4E3\",\"gridwidth\":2},\"zaxis\":{\"backgroundcolor\":\"rgb(17,17,17)\",\"gridcolor\":\"#506784\",\"linecolor\":\"#506784\",\"showbackground\":true,\"ticks\":\"\",\"zerolinecolor\":\"#C8D4E3\",\"gridwidth\":2}},\"shapedefaults\":{\"line\":{\"color\":\"#f2f5fa\"}},\"annotationdefaults\":{\"arrowcolor\":\"#f2f5fa\",\"arrowhead\":0,\"arrowwidth\":1},\"geo\":{\"bgcolor\":\"rgb(17,17,17)\",\"landcolor\":\"rgb(17,17,17)\",\"subunitcolor\":\"#506784\",\"showland\":true,\"showlakes\":true,\"lakecolor\":\"rgb(17,17,17)\"},\"title\":{\"x\":0.05},\"updatemenudefaults\":{\"bgcolor\":\"#506784\",\"borderwidth\":0},\"sliderdefaults\":{\"bgcolor\":\"#C8D4E3\",\"borderwidth\":1,\"bordercolor\":\"rgb(17,17,17)\",\"tickwidth\":0},\"mapbox\":{\"style\":\"dark\"}}},\"xaxis\":{\"anchor\":\"y\",\"domain\":[0.0,1.0],\"scaleanchor\":\"y\",\"constrain\":\"domain\",\"title\":{\"text\":\"Target\"}},\"yaxis\":{\"anchor\":\"x\",\"domain\":[0.0,1.0],\"autorange\":\"reversed\",\"constrain\":\"domain\",\"title\":{\"text\":\"Prediction\"}},\"coloraxis\":{\"colorscale\":[[0.0,\"#0d0887\"],[0.1111111111111111,\"#46039f\"],[0.2222222222222222,\"#7201a8\"],[0.3333333333333333,\"#9c179e\"],[0.4444444444444444,\"#bd3786\"],[0.5555555555555556,\"#d8576b\"],[0.6666666666666666,\"#ed7953\"],[0.7777777777777778,\"#fb9f3a\"],[0.8888888888888888,\"#fdca26\"],[1.0,\"#f0f921\"]]},\"margin\":{\"t\":60}},                        {\"responsive\": true}                    ).then(function(){\n",
       "                            \n",
       "var gd = document.getElementById('0e3eb614-1533-431f-ad88-5ee03fe0a5a0');\n",
       "var x = new MutationObserver(function (mutations, observer) {{\n",
       "        var display = window.getComputedStyle(gd).display;\n",
       "        if (!display || display === 'none') {{\n",
       "            console.log([gd, 'removed!']);\n",
       "            Plotly.purge(gd);\n",
       "            observer.disconnect();\n",
       "        }}\n",
       "}});\n",
       "\n",
       "// Listen for the removal of the full notebook cells\n",
       "var notebookContainer = gd.closest('#notebook-container');\n",
       "if (notebookContainer) {{\n",
       "    x.observe(notebookContainer, {childList: true});\n",
       "}}\n",
       "\n",
       "// Listen for the clearing of the current output cell\n",
       "var outputEl = gd.closest('.output');\n",
       "if (outputEl) {{\n",
       "    x.observe(outputEl, {childList: true});\n",
       "}}\n",
       "\n",
       "                        })                };                });            </script>        </div>"
      ]
     },
     "metadata": {},
     "output_type": "display_data"
    }
   ],
   "source": [
    "@score_for('Bagging', 'test')\n",
    "@time_for('Bagging', 'test')\n",
    "def test_bagging():\n",
    "    return f1_score(bagging_y_test, y_test, average='macro')\n",
    "\n",
    "print(\n",
    "    \"F1-мера для тестовых данных с помощью \"\n",
    "    \"BaggingClassifier:\", test_bagging(),\n",
    ")\n",
    "draw_conf_matrix(y_test, bagging_y_test)"
   ]
  },
  {
   "cell_type": "markdown",
   "metadata": {},
   "source": [
    "### Random Forest"
   ]
  },
  {
   "cell_type": "code",
   "execution_count": 31,
   "metadata": {},
   "outputs": [],
   "source": [
    "from sklearn.ensemble import RandomForestClassifier\n",
    "\n",
    "forest_params = {\n",
    "    'n_estimators': [10, 100, 500],\n",
    "    'max_depth': [None, 12, 15],\n",
    "    'min_samples_leaf': [1, 3, 5],\n",
    "    'min_samples_split': [2, 6, 9],\n",
    "}\n",
    "\n",
    "@time_for('Random Forest', 'predict')\n",
    "def fit_forest():\n",
    "    return GridSearchCV(\n",
    "        estimator=RandomForestClassifier(random_state=random_state),\n",
    "        param_grid=forest_params, scoring='f1_macro', cv=4,\n",
    "    ).fit(X_train, y_train)\n",
    "\n",
    "random_forest = fit_forest()"
   ]
  },
  {
   "cell_type": "code",
   "execution_count": 32,
   "metadata": {},
   "outputs": [
    {
     "data": {
      "text/html": [
       "<style>#sk-container-id-3 {color: black;background-color: white;}#sk-container-id-3 pre{padding: 0;}#sk-container-id-3 div.sk-toggleable {background-color: white;}#sk-container-id-3 label.sk-toggleable__label {cursor: pointer;display: block;width: 100%;margin-bottom: 0;padding: 0.3em;box-sizing: border-box;text-align: center;}#sk-container-id-3 label.sk-toggleable__label-arrow:before {content: \"▸\";float: left;margin-right: 0.25em;color: #696969;}#sk-container-id-3 label.sk-toggleable__label-arrow:hover:before {color: black;}#sk-container-id-3 div.sk-estimator:hover label.sk-toggleable__label-arrow:before {color: black;}#sk-container-id-3 div.sk-toggleable__content {max-height: 0;max-width: 0;overflow: hidden;text-align: left;background-color: #f0f8ff;}#sk-container-id-3 div.sk-toggleable__content pre {margin: 0.2em;color: black;border-radius: 0.25em;background-color: #f0f8ff;}#sk-container-id-3 input.sk-toggleable__control:checked~div.sk-toggleable__content {max-height: 200px;max-width: 100%;overflow: auto;}#sk-container-id-3 input.sk-toggleable__control:checked~label.sk-toggleable__label-arrow:before {content: \"▾\";}#sk-container-id-3 div.sk-estimator input.sk-toggleable__control:checked~label.sk-toggleable__label {background-color: #d4ebff;}#sk-container-id-3 div.sk-label input.sk-toggleable__control:checked~label.sk-toggleable__label {background-color: #d4ebff;}#sk-container-id-3 input.sk-hidden--visually {border: 0;clip: rect(1px 1px 1px 1px);clip: rect(1px, 1px, 1px, 1px);height: 1px;margin: -1px;overflow: hidden;padding: 0;position: absolute;width: 1px;}#sk-container-id-3 div.sk-estimator {font-family: monospace;background-color: #f0f8ff;border: 1px dotted black;border-radius: 0.25em;box-sizing: border-box;margin-bottom: 0.5em;}#sk-container-id-3 div.sk-estimator:hover {background-color: #d4ebff;}#sk-container-id-3 div.sk-parallel-item::after {content: \"\";width: 100%;border-bottom: 1px solid gray;flex-grow: 1;}#sk-container-id-3 div.sk-label:hover label.sk-toggleable__label {background-color: #d4ebff;}#sk-container-id-3 div.sk-serial::before {content: \"\";position: absolute;border-left: 1px solid gray;box-sizing: border-box;top: 0;bottom: 0;left: 50%;z-index: 0;}#sk-container-id-3 div.sk-serial {display: flex;flex-direction: column;align-items: center;background-color: white;padding-right: 0.2em;padding-left: 0.2em;position: relative;}#sk-container-id-3 div.sk-item {position: relative;z-index: 1;}#sk-container-id-3 div.sk-parallel {display: flex;align-items: stretch;justify-content: center;background-color: white;position: relative;}#sk-container-id-3 div.sk-item::before, #sk-container-id-3 div.sk-parallel-item::before {content: \"\";position: absolute;border-left: 1px solid gray;box-sizing: border-box;top: 0;bottom: 0;left: 50%;z-index: -1;}#sk-container-id-3 div.sk-parallel-item {display: flex;flex-direction: column;z-index: 1;position: relative;background-color: white;}#sk-container-id-3 div.sk-parallel-item:first-child::after {align-self: flex-end;width: 50%;}#sk-container-id-3 div.sk-parallel-item:last-child::after {align-self: flex-start;width: 50%;}#sk-container-id-3 div.sk-parallel-item:only-child::after {width: 0;}#sk-container-id-3 div.sk-dashed-wrapped {border: 1px dashed gray;margin: 0 0.4em 0.5em 0.4em;box-sizing: border-box;padding-bottom: 0.4em;background-color: white;}#sk-container-id-3 div.sk-label label {font-family: monospace;font-weight: bold;display: inline-block;line-height: 1.2em;}#sk-container-id-3 div.sk-label-container {text-align: center;}#sk-container-id-3 div.sk-container {/* jupyter's `normalize.less` sets `[hidden] { display: none; }` but bootstrap.min.css set `[hidden] { display: none !important; }` so we also need the `!important` here to be able to override the default hidden behavior on the sphinx rendered scikit-learn.org. See: https://github.com/scikit-learn/scikit-learn/issues/21755 */display: inline-block !important;position: relative;}#sk-container-id-3 div.sk-text-repr-fallback {display: none;}</style><div id=\"sk-container-id-3\" class=\"sk-top-container\"><div class=\"sk-text-repr-fallback\"><pre>RandomForestClassifier(n_estimators=500, random_state=42)</pre><b>In a Jupyter environment, please rerun this cell to show the HTML representation or trust the notebook. <br />On GitHub, the HTML representation is unable to render, please try loading this page with nbviewer.org.</b></div><div class=\"sk-container\" hidden><div class=\"sk-item\"><div class=\"sk-estimator sk-toggleable\"><input class=\"sk-toggleable__control sk-hidden--visually\" id=\"sk-estimator-id-3\" type=\"checkbox\" checked><label for=\"sk-estimator-id-3\" class=\"sk-toggleable__label sk-toggleable__label-arrow\">RandomForestClassifier</label><div class=\"sk-toggleable__content\"><pre>RandomForestClassifier(n_estimators=500, random_state=42)</pre></div></div></div></div></div>"
      ],
      "text/plain": [
       "RandomForestClassifier(n_estimators=500, random_state=42)"
      ]
     },
     "execution_count": 32,
     "metadata": {},
     "output_type": "execute_result"
    }
   ],
   "source": [
    "forest_model = random_forest.best_estimator_\n",
    "forest_model"
   ]
  },
  {
   "cell_type": "code",
   "execution_count": 33,
   "metadata": {},
   "outputs": [],
   "source": [
    "forest_y_train = forest_model.predict(X_train)"
   ]
  },
  {
   "cell_type": "code",
   "execution_count": 76,
   "metadata": {},
   "outputs": [
    {
     "name": "stdout",
     "output_type": "stream",
     "text": [
      "F1-мера для тренировочных данных с помощью RandomForestClassifier: 1.0\n"
     ]
    },
    {
     "data": {
      "application/vnd.plotly.v1+json": {
       "config": {
        "plotlyServerURL": "https://plot.ly"
       },
       "data": [
        {
         "coloraxis": "coloraxis",
         "hovertemplate": "x: %{x}<br>y: %{y}<br>color: %{z}<extra></extra>",
         "name": "0",
         "texttemplate": "%{z}",
         "type": "heatmap",
         "xaxis": "x",
         "yaxis": "y",
         "z": [
          [
           582,
           0,
           0
          ],
          [
           0,
           190,
           0
          ],
          [
           0,
           0,
           228
          ]
         ]
        }
       ],
       "layout": {
        "coloraxis": {
         "colorscale": [
          [
           0,
           "#0d0887"
          ],
          [
           0.1111111111111111,
           "#46039f"
          ],
          [
           0.2222222222222222,
           "#7201a8"
          ],
          [
           0.3333333333333333,
           "#9c179e"
          ],
          [
           0.4444444444444444,
           "#bd3786"
          ],
          [
           0.5555555555555556,
           "#d8576b"
          ],
          [
           0.6666666666666666,
           "#ed7953"
          ],
          [
           0.7777777777777778,
           "#fb9f3a"
          ],
          [
           0.8888888888888888,
           "#fdca26"
          ],
          [
           1,
           "#f0f921"
          ]
         ]
        },
        "margin": {
         "t": 60
        },
        "template": {
         "data": {
          "bar": [
           {
            "error_x": {
             "color": "#f2f5fa"
            },
            "error_y": {
             "color": "#f2f5fa"
            },
            "marker": {
             "line": {
              "color": "rgb(17,17,17)",
              "width": 0.5
             },
             "pattern": {
              "fillmode": "overlay",
              "size": 10,
              "solidity": 0.2
             }
            },
            "type": "bar"
           }
          ],
          "barpolar": [
           {
            "marker": {
             "line": {
              "color": "rgb(17,17,17)",
              "width": 0.5
             },
             "pattern": {
              "fillmode": "overlay",
              "size": 10,
              "solidity": 0.2
             }
            },
            "type": "barpolar"
           }
          ],
          "carpet": [
           {
            "aaxis": {
             "endlinecolor": "#A2B1C6",
             "gridcolor": "#506784",
             "linecolor": "#506784",
             "minorgridcolor": "#506784",
             "startlinecolor": "#A2B1C6"
            },
            "baxis": {
             "endlinecolor": "#A2B1C6",
             "gridcolor": "#506784",
             "linecolor": "#506784",
             "minorgridcolor": "#506784",
             "startlinecolor": "#A2B1C6"
            },
            "type": "carpet"
           }
          ],
          "choropleth": [
           {
            "colorbar": {
             "outlinewidth": 0,
             "ticks": ""
            },
            "type": "choropleth"
           }
          ],
          "contour": [
           {
            "colorbar": {
             "outlinewidth": 0,
             "ticks": ""
            },
            "colorscale": [
             [
              0,
              "#0d0887"
             ],
             [
              0.1111111111111111,
              "#46039f"
             ],
             [
              0.2222222222222222,
              "#7201a8"
             ],
             [
              0.3333333333333333,
              "#9c179e"
             ],
             [
              0.4444444444444444,
              "#bd3786"
             ],
             [
              0.5555555555555556,
              "#d8576b"
             ],
             [
              0.6666666666666666,
              "#ed7953"
             ],
             [
              0.7777777777777778,
              "#fb9f3a"
             ],
             [
              0.8888888888888888,
              "#fdca26"
             ],
             [
              1,
              "#f0f921"
             ]
            ],
            "type": "contour"
           }
          ],
          "contourcarpet": [
           {
            "colorbar": {
             "outlinewidth": 0,
             "ticks": ""
            },
            "type": "contourcarpet"
           }
          ],
          "heatmap": [
           {
            "colorbar": {
             "outlinewidth": 0,
             "ticks": ""
            },
            "colorscale": [
             [
              0,
              "#0d0887"
             ],
             [
              0.1111111111111111,
              "#46039f"
             ],
             [
              0.2222222222222222,
              "#7201a8"
             ],
             [
              0.3333333333333333,
              "#9c179e"
             ],
             [
              0.4444444444444444,
              "#bd3786"
             ],
             [
              0.5555555555555556,
              "#d8576b"
             ],
             [
              0.6666666666666666,
              "#ed7953"
             ],
             [
              0.7777777777777778,
              "#fb9f3a"
             ],
             [
              0.8888888888888888,
              "#fdca26"
             ],
             [
              1,
              "#f0f921"
             ]
            ],
            "type": "heatmap"
           }
          ],
          "heatmapgl": [
           {
            "colorbar": {
             "outlinewidth": 0,
             "ticks": ""
            },
            "colorscale": [
             [
              0,
              "#0d0887"
             ],
             [
              0.1111111111111111,
              "#46039f"
             ],
             [
              0.2222222222222222,
              "#7201a8"
             ],
             [
              0.3333333333333333,
              "#9c179e"
             ],
             [
              0.4444444444444444,
              "#bd3786"
             ],
             [
              0.5555555555555556,
              "#d8576b"
             ],
             [
              0.6666666666666666,
              "#ed7953"
             ],
             [
              0.7777777777777778,
              "#fb9f3a"
             ],
             [
              0.8888888888888888,
              "#fdca26"
             ],
             [
              1,
              "#f0f921"
             ]
            ],
            "type": "heatmapgl"
           }
          ],
          "histogram": [
           {
            "marker": {
             "pattern": {
              "fillmode": "overlay",
              "size": 10,
              "solidity": 0.2
             }
            },
            "type": "histogram"
           }
          ],
          "histogram2d": [
           {
            "colorbar": {
             "outlinewidth": 0,
             "ticks": ""
            },
            "colorscale": [
             [
              0,
              "#0d0887"
             ],
             [
              0.1111111111111111,
              "#46039f"
             ],
             [
              0.2222222222222222,
              "#7201a8"
             ],
             [
              0.3333333333333333,
              "#9c179e"
             ],
             [
              0.4444444444444444,
              "#bd3786"
             ],
             [
              0.5555555555555556,
              "#d8576b"
             ],
             [
              0.6666666666666666,
              "#ed7953"
             ],
             [
              0.7777777777777778,
              "#fb9f3a"
             ],
             [
              0.8888888888888888,
              "#fdca26"
             ],
             [
              1,
              "#f0f921"
             ]
            ],
            "type": "histogram2d"
           }
          ],
          "histogram2dcontour": [
           {
            "colorbar": {
             "outlinewidth": 0,
             "ticks": ""
            },
            "colorscale": [
             [
              0,
              "#0d0887"
             ],
             [
              0.1111111111111111,
              "#46039f"
             ],
             [
              0.2222222222222222,
              "#7201a8"
             ],
             [
              0.3333333333333333,
              "#9c179e"
             ],
             [
              0.4444444444444444,
              "#bd3786"
             ],
             [
              0.5555555555555556,
              "#d8576b"
             ],
             [
              0.6666666666666666,
              "#ed7953"
             ],
             [
              0.7777777777777778,
              "#fb9f3a"
             ],
             [
              0.8888888888888888,
              "#fdca26"
             ],
             [
              1,
              "#f0f921"
             ]
            ],
            "type": "histogram2dcontour"
           }
          ],
          "mesh3d": [
           {
            "colorbar": {
             "outlinewidth": 0,
             "ticks": ""
            },
            "type": "mesh3d"
           }
          ],
          "parcoords": [
           {
            "line": {
             "colorbar": {
              "outlinewidth": 0,
              "ticks": ""
             }
            },
            "type": "parcoords"
           }
          ],
          "pie": [
           {
            "automargin": true,
            "type": "pie"
           }
          ],
          "scatter": [
           {
            "marker": {
             "line": {
              "color": "#283442"
             }
            },
            "type": "scatter"
           }
          ],
          "scatter3d": [
           {
            "line": {
             "colorbar": {
              "outlinewidth": 0,
              "ticks": ""
             }
            },
            "marker": {
             "colorbar": {
              "outlinewidth": 0,
              "ticks": ""
             }
            },
            "type": "scatter3d"
           }
          ],
          "scattercarpet": [
           {
            "marker": {
             "colorbar": {
              "outlinewidth": 0,
              "ticks": ""
             }
            },
            "type": "scattercarpet"
           }
          ],
          "scattergeo": [
           {
            "marker": {
             "colorbar": {
              "outlinewidth": 0,
              "ticks": ""
             }
            },
            "type": "scattergeo"
           }
          ],
          "scattergl": [
           {
            "marker": {
             "line": {
              "color": "#283442"
             }
            },
            "type": "scattergl"
           }
          ],
          "scattermapbox": [
           {
            "marker": {
             "colorbar": {
              "outlinewidth": 0,
              "ticks": ""
             }
            },
            "type": "scattermapbox"
           }
          ],
          "scatterpolar": [
           {
            "marker": {
             "colorbar": {
              "outlinewidth": 0,
              "ticks": ""
             }
            },
            "type": "scatterpolar"
           }
          ],
          "scatterpolargl": [
           {
            "marker": {
             "colorbar": {
              "outlinewidth": 0,
              "ticks": ""
             }
            },
            "type": "scatterpolargl"
           }
          ],
          "scatterternary": [
           {
            "marker": {
             "colorbar": {
              "outlinewidth": 0,
              "ticks": ""
             }
            },
            "type": "scatterternary"
           }
          ],
          "surface": [
           {
            "colorbar": {
             "outlinewidth": 0,
             "ticks": ""
            },
            "colorscale": [
             [
              0,
              "#0d0887"
             ],
             [
              0.1111111111111111,
              "#46039f"
             ],
             [
              0.2222222222222222,
              "#7201a8"
             ],
             [
              0.3333333333333333,
              "#9c179e"
             ],
             [
              0.4444444444444444,
              "#bd3786"
             ],
             [
              0.5555555555555556,
              "#d8576b"
             ],
             [
              0.6666666666666666,
              "#ed7953"
             ],
             [
              0.7777777777777778,
              "#fb9f3a"
             ],
             [
              0.8888888888888888,
              "#fdca26"
             ],
             [
              1,
              "#f0f921"
             ]
            ],
            "type": "surface"
           }
          ],
          "table": [
           {
            "cells": {
             "fill": {
              "color": "#506784"
             },
             "line": {
              "color": "rgb(17,17,17)"
             }
            },
            "header": {
             "fill": {
              "color": "#2a3f5f"
             },
             "line": {
              "color": "rgb(17,17,17)"
             }
            },
            "type": "table"
           }
          ]
         },
         "layout": {
          "annotationdefaults": {
           "arrowcolor": "#f2f5fa",
           "arrowhead": 0,
           "arrowwidth": 1
          },
          "autotypenumbers": "strict",
          "coloraxis": {
           "colorbar": {
            "outlinewidth": 0,
            "ticks": ""
           }
          },
          "colorscale": {
           "diverging": [
            [
             0,
             "#8e0152"
            ],
            [
             0.1,
             "#c51b7d"
            ],
            [
             0.2,
             "#de77ae"
            ],
            [
             0.3,
             "#f1b6da"
            ],
            [
             0.4,
             "#fde0ef"
            ],
            [
             0.5,
             "#f7f7f7"
            ],
            [
             0.6,
             "#e6f5d0"
            ],
            [
             0.7,
             "#b8e186"
            ],
            [
             0.8,
             "#7fbc41"
            ],
            [
             0.9,
             "#4d9221"
            ],
            [
             1,
             "#276419"
            ]
           ],
           "sequential": [
            [
             0,
             "#0d0887"
            ],
            [
             0.1111111111111111,
             "#46039f"
            ],
            [
             0.2222222222222222,
             "#7201a8"
            ],
            [
             0.3333333333333333,
             "#9c179e"
            ],
            [
             0.4444444444444444,
             "#bd3786"
            ],
            [
             0.5555555555555556,
             "#d8576b"
            ],
            [
             0.6666666666666666,
             "#ed7953"
            ],
            [
             0.7777777777777778,
             "#fb9f3a"
            ],
            [
             0.8888888888888888,
             "#fdca26"
            ],
            [
             1,
             "#f0f921"
            ]
           ],
           "sequentialminus": [
            [
             0,
             "#0d0887"
            ],
            [
             0.1111111111111111,
             "#46039f"
            ],
            [
             0.2222222222222222,
             "#7201a8"
            ],
            [
             0.3333333333333333,
             "#9c179e"
            ],
            [
             0.4444444444444444,
             "#bd3786"
            ],
            [
             0.5555555555555556,
             "#d8576b"
            ],
            [
             0.6666666666666666,
             "#ed7953"
            ],
            [
             0.7777777777777778,
             "#fb9f3a"
            ],
            [
             0.8888888888888888,
             "#fdca26"
            ],
            [
             1,
             "#f0f921"
            ]
           ]
          },
          "colorway": [
           "#636efa",
           "#EF553B",
           "#00cc96",
           "#ab63fa",
           "#FFA15A",
           "#19d3f3",
           "#FF6692",
           "#B6E880",
           "#FF97FF",
           "#FECB52"
          ],
          "font": {
           "color": "#f2f5fa"
          },
          "geo": {
           "bgcolor": "rgb(17,17,17)",
           "lakecolor": "rgb(17,17,17)",
           "landcolor": "rgb(17,17,17)",
           "showlakes": true,
           "showland": true,
           "subunitcolor": "#506784"
          },
          "hoverlabel": {
           "align": "left"
          },
          "hovermode": "closest",
          "mapbox": {
           "style": "dark"
          },
          "paper_bgcolor": "rgb(17,17,17)",
          "plot_bgcolor": "rgb(17,17,17)",
          "polar": {
           "angularaxis": {
            "gridcolor": "#506784",
            "linecolor": "#506784",
            "ticks": ""
           },
           "bgcolor": "rgb(17,17,17)",
           "radialaxis": {
            "gridcolor": "#506784",
            "linecolor": "#506784",
            "ticks": ""
           }
          },
          "scene": {
           "xaxis": {
            "backgroundcolor": "rgb(17,17,17)",
            "gridcolor": "#506784",
            "gridwidth": 2,
            "linecolor": "#506784",
            "showbackground": true,
            "ticks": "",
            "zerolinecolor": "#C8D4E3"
           },
           "yaxis": {
            "backgroundcolor": "rgb(17,17,17)",
            "gridcolor": "#506784",
            "gridwidth": 2,
            "linecolor": "#506784",
            "showbackground": true,
            "ticks": "",
            "zerolinecolor": "#C8D4E3"
           },
           "zaxis": {
            "backgroundcolor": "rgb(17,17,17)",
            "gridcolor": "#506784",
            "gridwidth": 2,
            "linecolor": "#506784",
            "showbackground": true,
            "ticks": "",
            "zerolinecolor": "#C8D4E3"
           }
          },
          "shapedefaults": {
           "line": {
            "color": "#f2f5fa"
           }
          },
          "sliderdefaults": {
           "bgcolor": "#C8D4E3",
           "bordercolor": "rgb(17,17,17)",
           "borderwidth": 1,
           "tickwidth": 0
          },
          "ternary": {
           "aaxis": {
            "gridcolor": "#506784",
            "linecolor": "#506784",
            "ticks": ""
           },
           "baxis": {
            "gridcolor": "#506784",
            "linecolor": "#506784",
            "ticks": ""
           },
           "bgcolor": "rgb(17,17,17)",
           "caxis": {
            "gridcolor": "#506784",
            "linecolor": "#506784",
            "ticks": ""
           }
          },
          "title": {
           "x": 0.05
          },
          "updatemenudefaults": {
           "bgcolor": "#506784",
           "borderwidth": 0
          },
          "xaxis": {
           "automargin": true,
           "gridcolor": "#283442",
           "linecolor": "#506784",
           "ticks": "",
           "title": {
            "standoff": 15
           },
           "zerolinecolor": "#283442",
           "zerolinewidth": 2
          },
          "yaxis": {
           "automargin": true,
           "gridcolor": "#283442",
           "linecolor": "#506784",
           "ticks": "",
           "title": {
            "standoff": 15
           },
           "zerolinecolor": "#283442",
           "zerolinewidth": 2
          }
         }
        },
        "xaxis": {
         "anchor": "y",
         "constrain": "domain",
         "domain": [
          0,
          1
         ],
         "scaleanchor": "y",
         "title": {
          "text": "Target"
         }
        },
        "yaxis": {
         "anchor": "x",
         "autorange": "reversed",
         "constrain": "domain",
         "domain": [
          0,
          1
         ],
         "title": {
          "text": "Prediction"
         }
        }
       }
      },
      "text/html": [
       "<div>                            <div id=\"2f7a97a5-2722-4bdb-ba75-7fa90da67dcb\" class=\"plotly-graph-div\" style=\"height:525px; width:100%;\"></div>            <script type=\"text/javascript\">                require([\"plotly\"], function(Plotly) {                    window.PLOTLYENV=window.PLOTLYENV || {};                                    if (document.getElementById(\"2f7a97a5-2722-4bdb-ba75-7fa90da67dcb\")) {                    Plotly.newPlot(                        \"2f7a97a5-2722-4bdb-ba75-7fa90da67dcb\",                        [{\"coloraxis\":\"coloraxis\",\"name\":\"0\",\"texttemplate\":\"%{z}\",\"z\":[[582,0,0],[0,190,0],[0,0,228]],\"type\":\"heatmap\",\"xaxis\":\"x\",\"yaxis\":\"y\",\"hovertemplate\":\"x: %{x}<br>y: %{y}<br>color: %{z}<extra></extra>\"}],                        {\"template\":{\"data\":{\"histogram2dcontour\":[{\"type\":\"histogram2dcontour\",\"colorbar\":{\"outlinewidth\":0,\"ticks\":\"\"},\"colorscale\":[[0.0,\"#0d0887\"],[0.1111111111111111,\"#46039f\"],[0.2222222222222222,\"#7201a8\"],[0.3333333333333333,\"#9c179e\"],[0.4444444444444444,\"#bd3786\"],[0.5555555555555556,\"#d8576b\"],[0.6666666666666666,\"#ed7953\"],[0.7777777777777778,\"#fb9f3a\"],[0.8888888888888888,\"#fdca26\"],[1.0,\"#f0f921\"]]}],\"choropleth\":[{\"type\":\"choropleth\",\"colorbar\":{\"outlinewidth\":0,\"ticks\":\"\"}}],\"histogram2d\":[{\"type\":\"histogram2d\",\"colorbar\":{\"outlinewidth\":0,\"ticks\":\"\"},\"colorscale\":[[0.0,\"#0d0887\"],[0.1111111111111111,\"#46039f\"],[0.2222222222222222,\"#7201a8\"],[0.3333333333333333,\"#9c179e\"],[0.4444444444444444,\"#bd3786\"],[0.5555555555555556,\"#d8576b\"],[0.6666666666666666,\"#ed7953\"],[0.7777777777777778,\"#fb9f3a\"],[0.8888888888888888,\"#fdca26\"],[1.0,\"#f0f921\"]]}],\"heatmap\":[{\"type\":\"heatmap\",\"colorbar\":{\"outlinewidth\":0,\"ticks\":\"\"},\"colorscale\":[[0.0,\"#0d0887\"],[0.1111111111111111,\"#46039f\"],[0.2222222222222222,\"#7201a8\"],[0.3333333333333333,\"#9c179e\"],[0.4444444444444444,\"#bd3786\"],[0.5555555555555556,\"#d8576b\"],[0.6666666666666666,\"#ed7953\"],[0.7777777777777778,\"#fb9f3a\"],[0.8888888888888888,\"#fdca26\"],[1.0,\"#f0f921\"]]}],\"heatmapgl\":[{\"type\":\"heatmapgl\",\"colorbar\":{\"outlinewidth\":0,\"ticks\":\"\"},\"colorscale\":[[0.0,\"#0d0887\"],[0.1111111111111111,\"#46039f\"],[0.2222222222222222,\"#7201a8\"],[0.3333333333333333,\"#9c179e\"],[0.4444444444444444,\"#bd3786\"],[0.5555555555555556,\"#d8576b\"],[0.6666666666666666,\"#ed7953\"],[0.7777777777777778,\"#fb9f3a\"],[0.8888888888888888,\"#fdca26\"],[1.0,\"#f0f921\"]]}],\"contourcarpet\":[{\"type\":\"contourcarpet\",\"colorbar\":{\"outlinewidth\":0,\"ticks\":\"\"}}],\"contour\":[{\"type\":\"contour\",\"colorbar\":{\"outlinewidth\":0,\"ticks\":\"\"},\"colorscale\":[[0.0,\"#0d0887\"],[0.1111111111111111,\"#46039f\"],[0.2222222222222222,\"#7201a8\"],[0.3333333333333333,\"#9c179e\"],[0.4444444444444444,\"#bd3786\"],[0.5555555555555556,\"#d8576b\"],[0.6666666666666666,\"#ed7953\"],[0.7777777777777778,\"#fb9f3a\"],[0.8888888888888888,\"#fdca26\"],[1.0,\"#f0f921\"]]}],\"surface\":[{\"type\":\"surface\",\"colorbar\":{\"outlinewidth\":0,\"ticks\":\"\"},\"colorscale\":[[0.0,\"#0d0887\"],[0.1111111111111111,\"#46039f\"],[0.2222222222222222,\"#7201a8\"],[0.3333333333333333,\"#9c179e\"],[0.4444444444444444,\"#bd3786\"],[0.5555555555555556,\"#d8576b\"],[0.6666666666666666,\"#ed7953\"],[0.7777777777777778,\"#fb9f3a\"],[0.8888888888888888,\"#fdca26\"],[1.0,\"#f0f921\"]]}],\"mesh3d\":[{\"type\":\"mesh3d\",\"colorbar\":{\"outlinewidth\":0,\"ticks\":\"\"}}],\"scatter\":[{\"marker\":{\"line\":{\"color\":\"#283442\"}},\"type\":\"scatter\"}],\"parcoords\":[{\"type\":\"parcoords\",\"line\":{\"colorbar\":{\"outlinewidth\":0,\"ticks\":\"\"}}}],\"scatterpolargl\":[{\"type\":\"scatterpolargl\",\"marker\":{\"colorbar\":{\"outlinewidth\":0,\"ticks\":\"\"}}}],\"bar\":[{\"error_x\":{\"color\":\"#f2f5fa\"},\"error_y\":{\"color\":\"#f2f5fa\"},\"marker\":{\"line\":{\"color\":\"rgb(17,17,17)\",\"width\":0.5},\"pattern\":{\"fillmode\":\"overlay\",\"size\":10,\"solidity\":0.2}},\"type\":\"bar\"}],\"scattergeo\":[{\"type\":\"scattergeo\",\"marker\":{\"colorbar\":{\"outlinewidth\":0,\"ticks\":\"\"}}}],\"scatterpolar\":[{\"type\":\"scatterpolar\",\"marker\":{\"colorbar\":{\"outlinewidth\":0,\"ticks\":\"\"}}}],\"histogram\":[{\"marker\":{\"pattern\":{\"fillmode\":\"overlay\",\"size\":10,\"solidity\":0.2}},\"type\":\"histogram\"}],\"scattergl\":[{\"marker\":{\"line\":{\"color\":\"#283442\"}},\"type\":\"scattergl\"}],\"scatter3d\":[{\"type\":\"scatter3d\",\"line\":{\"colorbar\":{\"outlinewidth\":0,\"ticks\":\"\"}},\"marker\":{\"colorbar\":{\"outlinewidth\":0,\"ticks\":\"\"}}}],\"scattermapbox\":[{\"type\":\"scattermapbox\",\"marker\":{\"colorbar\":{\"outlinewidth\":0,\"ticks\":\"\"}}}],\"scatterternary\":[{\"type\":\"scatterternary\",\"marker\":{\"colorbar\":{\"outlinewidth\":0,\"ticks\":\"\"}}}],\"scattercarpet\":[{\"type\":\"scattercarpet\",\"marker\":{\"colorbar\":{\"outlinewidth\":0,\"ticks\":\"\"}}}],\"carpet\":[{\"aaxis\":{\"endlinecolor\":\"#A2B1C6\",\"gridcolor\":\"#506784\",\"linecolor\":\"#506784\",\"minorgridcolor\":\"#506784\",\"startlinecolor\":\"#A2B1C6\"},\"baxis\":{\"endlinecolor\":\"#A2B1C6\",\"gridcolor\":\"#506784\",\"linecolor\":\"#506784\",\"minorgridcolor\":\"#506784\",\"startlinecolor\":\"#A2B1C6\"},\"type\":\"carpet\"}],\"table\":[{\"cells\":{\"fill\":{\"color\":\"#506784\"},\"line\":{\"color\":\"rgb(17,17,17)\"}},\"header\":{\"fill\":{\"color\":\"#2a3f5f\"},\"line\":{\"color\":\"rgb(17,17,17)\"}},\"type\":\"table\"}],\"barpolar\":[{\"marker\":{\"line\":{\"color\":\"rgb(17,17,17)\",\"width\":0.5},\"pattern\":{\"fillmode\":\"overlay\",\"size\":10,\"solidity\":0.2}},\"type\":\"barpolar\"}],\"pie\":[{\"automargin\":true,\"type\":\"pie\"}]},\"layout\":{\"autotypenumbers\":\"strict\",\"colorway\":[\"#636efa\",\"#EF553B\",\"#00cc96\",\"#ab63fa\",\"#FFA15A\",\"#19d3f3\",\"#FF6692\",\"#B6E880\",\"#FF97FF\",\"#FECB52\"],\"font\":{\"color\":\"#f2f5fa\"},\"hovermode\":\"closest\",\"hoverlabel\":{\"align\":\"left\"},\"paper_bgcolor\":\"rgb(17,17,17)\",\"plot_bgcolor\":\"rgb(17,17,17)\",\"polar\":{\"bgcolor\":\"rgb(17,17,17)\",\"angularaxis\":{\"gridcolor\":\"#506784\",\"linecolor\":\"#506784\",\"ticks\":\"\"},\"radialaxis\":{\"gridcolor\":\"#506784\",\"linecolor\":\"#506784\",\"ticks\":\"\"}},\"ternary\":{\"bgcolor\":\"rgb(17,17,17)\",\"aaxis\":{\"gridcolor\":\"#506784\",\"linecolor\":\"#506784\",\"ticks\":\"\"},\"baxis\":{\"gridcolor\":\"#506784\",\"linecolor\":\"#506784\",\"ticks\":\"\"},\"caxis\":{\"gridcolor\":\"#506784\",\"linecolor\":\"#506784\",\"ticks\":\"\"}},\"coloraxis\":{\"colorbar\":{\"outlinewidth\":0,\"ticks\":\"\"}},\"colorscale\":{\"sequential\":[[0.0,\"#0d0887\"],[0.1111111111111111,\"#46039f\"],[0.2222222222222222,\"#7201a8\"],[0.3333333333333333,\"#9c179e\"],[0.4444444444444444,\"#bd3786\"],[0.5555555555555556,\"#d8576b\"],[0.6666666666666666,\"#ed7953\"],[0.7777777777777778,\"#fb9f3a\"],[0.8888888888888888,\"#fdca26\"],[1.0,\"#f0f921\"]],\"sequentialminus\":[[0.0,\"#0d0887\"],[0.1111111111111111,\"#46039f\"],[0.2222222222222222,\"#7201a8\"],[0.3333333333333333,\"#9c179e\"],[0.4444444444444444,\"#bd3786\"],[0.5555555555555556,\"#d8576b\"],[0.6666666666666666,\"#ed7953\"],[0.7777777777777778,\"#fb9f3a\"],[0.8888888888888888,\"#fdca26\"],[1.0,\"#f0f921\"]],\"diverging\":[[0,\"#8e0152\"],[0.1,\"#c51b7d\"],[0.2,\"#de77ae\"],[0.3,\"#f1b6da\"],[0.4,\"#fde0ef\"],[0.5,\"#f7f7f7\"],[0.6,\"#e6f5d0\"],[0.7,\"#b8e186\"],[0.8,\"#7fbc41\"],[0.9,\"#4d9221\"],[1,\"#276419\"]]},\"xaxis\":{\"gridcolor\":\"#283442\",\"linecolor\":\"#506784\",\"ticks\":\"\",\"title\":{\"standoff\":15},\"zerolinecolor\":\"#283442\",\"automargin\":true,\"zerolinewidth\":2},\"yaxis\":{\"gridcolor\":\"#283442\",\"linecolor\":\"#506784\",\"ticks\":\"\",\"title\":{\"standoff\":15},\"zerolinecolor\":\"#283442\",\"automargin\":true,\"zerolinewidth\":2},\"scene\":{\"xaxis\":{\"backgroundcolor\":\"rgb(17,17,17)\",\"gridcolor\":\"#506784\",\"linecolor\":\"#506784\",\"showbackground\":true,\"ticks\":\"\",\"zerolinecolor\":\"#C8D4E3\",\"gridwidth\":2},\"yaxis\":{\"backgroundcolor\":\"rgb(17,17,17)\",\"gridcolor\":\"#506784\",\"linecolor\":\"#506784\",\"showbackground\":true,\"ticks\":\"\",\"zerolinecolor\":\"#C8D4E3\",\"gridwidth\":2},\"zaxis\":{\"backgroundcolor\":\"rgb(17,17,17)\",\"gridcolor\":\"#506784\",\"linecolor\":\"#506784\",\"showbackground\":true,\"ticks\":\"\",\"zerolinecolor\":\"#C8D4E3\",\"gridwidth\":2}},\"shapedefaults\":{\"line\":{\"color\":\"#f2f5fa\"}},\"annotationdefaults\":{\"arrowcolor\":\"#f2f5fa\",\"arrowhead\":0,\"arrowwidth\":1},\"geo\":{\"bgcolor\":\"rgb(17,17,17)\",\"landcolor\":\"rgb(17,17,17)\",\"subunitcolor\":\"#506784\",\"showland\":true,\"showlakes\":true,\"lakecolor\":\"rgb(17,17,17)\"},\"title\":{\"x\":0.05},\"updatemenudefaults\":{\"bgcolor\":\"#506784\",\"borderwidth\":0},\"sliderdefaults\":{\"bgcolor\":\"#C8D4E3\",\"borderwidth\":1,\"bordercolor\":\"rgb(17,17,17)\",\"tickwidth\":0},\"mapbox\":{\"style\":\"dark\"}}},\"xaxis\":{\"anchor\":\"y\",\"domain\":[0.0,1.0],\"scaleanchor\":\"y\",\"constrain\":\"domain\",\"title\":{\"text\":\"Target\"}},\"yaxis\":{\"anchor\":\"x\",\"domain\":[0.0,1.0],\"autorange\":\"reversed\",\"constrain\":\"domain\",\"title\":{\"text\":\"Prediction\"}},\"coloraxis\":{\"colorscale\":[[0.0,\"#0d0887\"],[0.1111111111111111,\"#46039f\"],[0.2222222222222222,\"#7201a8\"],[0.3333333333333333,\"#9c179e\"],[0.4444444444444444,\"#bd3786\"],[0.5555555555555556,\"#d8576b\"],[0.6666666666666666,\"#ed7953\"],[0.7777777777777778,\"#fb9f3a\"],[0.8888888888888888,\"#fdca26\"],[1.0,\"#f0f921\"]]},\"margin\":{\"t\":60}},                        {\"responsive\": true}                    ).then(function(){\n",
       "                            \n",
       "var gd = document.getElementById('2f7a97a5-2722-4bdb-ba75-7fa90da67dcb');\n",
       "var x = new MutationObserver(function (mutations, observer) {{\n",
       "        var display = window.getComputedStyle(gd).display;\n",
       "        if (!display || display === 'none') {{\n",
       "            console.log([gd, 'removed!']);\n",
       "            Plotly.purge(gd);\n",
       "            observer.disconnect();\n",
       "        }}\n",
       "}});\n",
       "\n",
       "// Listen for the removal of the full notebook cells\n",
       "var notebookContainer = gd.closest('#notebook-container');\n",
       "if (notebookContainer) {{\n",
       "    x.observe(notebookContainer, {childList: true});\n",
       "}}\n",
       "\n",
       "// Listen for the clearing of the current output cell\n",
       "var outputEl = gd.closest('.output');\n",
       "if (outputEl) {{\n",
       "    x.observe(outputEl, {childList: true});\n",
       "}}\n",
       "\n",
       "                        })                };                });            </script>        </div>"
      ]
     },
     "metadata": {},
     "output_type": "display_data"
    }
   ],
   "source": [
    "@score_for('Random Forest', 'train')\n",
    "@time_for('Random Forest', 'train')\n",
    "def train_forest():\n",
    "    return f1_score(forest_y_train, y_train, average='macro')\n",
    "\n",
    "print(\n",
    "    \"F1-мера для тренировочных данных с помощью \"\n",
    "    \"RandomForestClassifier:\", train_forest(),\n",
    ")\n",
    "draw_conf_matrix(y_train, forest_y_train)"
   ]
  },
  {
   "cell_type": "code",
   "execution_count": 35,
   "metadata": {},
   "outputs": [],
   "source": [
    "forest_y_test = forest_model.predict(X_test)"
   ]
  },
  {
   "cell_type": "code",
   "execution_count": 77,
   "metadata": {
    "scrolled": false
   },
   "outputs": [
    {
     "name": "stdout",
     "output_type": "stream",
     "text": [
      "F1-мера для тестовых данных с помощью RandomForestClassifier: 0.9575933526756595\n"
     ]
    },
    {
     "data": {
      "application/vnd.plotly.v1+json": {
       "config": {
        "plotlyServerURL": "https://plot.ly"
       },
       "data": [
        {
         "coloraxis": "coloraxis",
         "hovertemplate": "x: %{x}<br>y: %{y}<br>color: %{z}<extra></extra>",
         "name": "0",
         "texttemplate": "%{z}",
         "type": "heatmap",
         "xaxis": "x",
         "yaxis": "y",
         "z": [
          [
           57129,
           1039,
           695
          ],
          [
           1888,
           16871,
           12
          ],
          [
           3,
           0,
           21363
          ]
         ]
        }
       ],
       "layout": {
        "coloraxis": {
         "colorscale": [
          [
           0,
           "#0d0887"
          ],
          [
           0.1111111111111111,
           "#46039f"
          ],
          [
           0.2222222222222222,
           "#7201a8"
          ],
          [
           0.3333333333333333,
           "#9c179e"
          ],
          [
           0.4444444444444444,
           "#bd3786"
          ],
          [
           0.5555555555555556,
           "#d8576b"
          ],
          [
           0.6666666666666666,
           "#ed7953"
          ],
          [
           0.7777777777777778,
           "#fb9f3a"
          ],
          [
           0.8888888888888888,
           "#fdca26"
          ],
          [
           1,
           "#f0f921"
          ]
         ]
        },
        "margin": {
         "t": 60
        },
        "template": {
         "data": {
          "bar": [
           {
            "error_x": {
             "color": "#f2f5fa"
            },
            "error_y": {
             "color": "#f2f5fa"
            },
            "marker": {
             "line": {
              "color": "rgb(17,17,17)",
              "width": 0.5
             },
             "pattern": {
              "fillmode": "overlay",
              "size": 10,
              "solidity": 0.2
             }
            },
            "type": "bar"
           }
          ],
          "barpolar": [
           {
            "marker": {
             "line": {
              "color": "rgb(17,17,17)",
              "width": 0.5
             },
             "pattern": {
              "fillmode": "overlay",
              "size": 10,
              "solidity": 0.2
             }
            },
            "type": "barpolar"
           }
          ],
          "carpet": [
           {
            "aaxis": {
             "endlinecolor": "#A2B1C6",
             "gridcolor": "#506784",
             "linecolor": "#506784",
             "minorgridcolor": "#506784",
             "startlinecolor": "#A2B1C6"
            },
            "baxis": {
             "endlinecolor": "#A2B1C6",
             "gridcolor": "#506784",
             "linecolor": "#506784",
             "minorgridcolor": "#506784",
             "startlinecolor": "#A2B1C6"
            },
            "type": "carpet"
           }
          ],
          "choropleth": [
           {
            "colorbar": {
             "outlinewidth": 0,
             "ticks": ""
            },
            "type": "choropleth"
           }
          ],
          "contour": [
           {
            "colorbar": {
             "outlinewidth": 0,
             "ticks": ""
            },
            "colorscale": [
             [
              0,
              "#0d0887"
             ],
             [
              0.1111111111111111,
              "#46039f"
             ],
             [
              0.2222222222222222,
              "#7201a8"
             ],
             [
              0.3333333333333333,
              "#9c179e"
             ],
             [
              0.4444444444444444,
              "#bd3786"
             ],
             [
              0.5555555555555556,
              "#d8576b"
             ],
             [
              0.6666666666666666,
              "#ed7953"
             ],
             [
              0.7777777777777778,
              "#fb9f3a"
             ],
             [
              0.8888888888888888,
              "#fdca26"
             ],
             [
              1,
              "#f0f921"
             ]
            ],
            "type": "contour"
           }
          ],
          "contourcarpet": [
           {
            "colorbar": {
             "outlinewidth": 0,
             "ticks": ""
            },
            "type": "contourcarpet"
           }
          ],
          "heatmap": [
           {
            "colorbar": {
             "outlinewidth": 0,
             "ticks": ""
            },
            "colorscale": [
             [
              0,
              "#0d0887"
             ],
             [
              0.1111111111111111,
              "#46039f"
             ],
             [
              0.2222222222222222,
              "#7201a8"
             ],
             [
              0.3333333333333333,
              "#9c179e"
             ],
             [
              0.4444444444444444,
              "#bd3786"
             ],
             [
              0.5555555555555556,
              "#d8576b"
             ],
             [
              0.6666666666666666,
              "#ed7953"
             ],
             [
              0.7777777777777778,
              "#fb9f3a"
             ],
             [
              0.8888888888888888,
              "#fdca26"
             ],
             [
              1,
              "#f0f921"
             ]
            ],
            "type": "heatmap"
           }
          ],
          "heatmapgl": [
           {
            "colorbar": {
             "outlinewidth": 0,
             "ticks": ""
            },
            "colorscale": [
             [
              0,
              "#0d0887"
             ],
             [
              0.1111111111111111,
              "#46039f"
             ],
             [
              0.2222222222222222,
              "#7201a8"
             ],
             [
              0.3333333333333333,
              "#9c179e"
             ],
             [
              0.4444444444444444,
              "#bd3786"
             ],
             [
              0.5555555555555556,
              "#d8576b"
             ],
             [
              0.6666666666666666,
              "#ed7953"
             ],
             [
              0.7777777777777778,
              "#fb9f3a"
             ],
             [
              0.8888888888888888,
              "#fdca26"
             ],
             [
              1,
              "#f0f921"
             ]
            ],
            "type": "heatmapgl"
           }
          ],
          "histogram": [
           {
            "marker": {
             "pattern": {
              "fillmode": "overlay",
              "size": 10,
              "solidity": 0.2
             }
            },
            "type": "histogram"
           }
          ],
          "histogram2d": [
           {
            "colorbar": {
             "outlinewidth": 0,
             "ticks": ""
            },
            "colorscale": [
             [
              0,
              "#0d0887"
             ],
             [
              0.1111111111111111,
              "#46039f"
             ],
             [
              0.2222222222222222,
              "#7201a8"
             ],
             [
              0.3333333333333333,
              "#9c179e"
             ],
             [
              0.4444444444444444,
              "#bd3786"
             ],
             [
              0.5555555555555556,
              "#d8576b"
             ],
             [
              0.6666666666666666,
              "#ed7953"
             ],
             [
              0.7777777777777778,
              "#fb9f3a"
             ],
             [
              0.8888888888888888,
              "#fdca26"
             ],
             [
              1,
              "#f0f921"
             ]
            ],
            "type": "histogram2d"
           }
          ],
          "histogram2dcontour": [
           {
            "colorbar": {
             "outlinewidth": 0,
             "ticks": ""
            },
            "colorscale": [
             [
              0,
              "#0d0887"
             ],
             [
              0.1111111111111111,
              "#46039f"
             ],
             [
              0.2222222222222222,
              "#7201a8"
             ],
             [
              0.3333333333333333,
              "#9c179e"
             ],
             [
              0.4444444444444444,
              "#bd3786"
             ],
             [
              0.5555555555555556,
              "#d8576b"
             ],
             [
              0.6666666666666666,
              "#ed7953"
             ],
             [
              0.7777777777777778,
              "#fb9f3a"
             ],
             [
              0.8888888888888888,
              "#fdca26"
             ],
             [
              1,
              "#f0f921"
             ]
            ],
            "type": "histogram2dcontour"
           }
          ],
          "mesh3d": [
           {
            "colorbar": {
             "outlinewidth": 0,
             "ticks": ""
            },
            "type": "mesh3d"
           }
          ],
          "parcoords": [
           {
            "line": {
             "colorbar": {
              "outlinewidth": 0,
              "ticks": ""
             }
            },
            "type": "parcoords"
           }
          ],
          "pie": [
           {
            "automargin": true,
            "type": "pie"
           }
          ],
          "scatter": [
           {
            "marker": {
             "line": {
              "color": "#283442"
             }
            },
            "type": "scatter"
           }
          ],
          "scatter3d": [
           {
            "line": {
             "colorbar": {
              "outlinewidth": 0,
              "ticks": ""
             }
            },
            "marker": {
             "colorbar": {
              "outlinewidth": 0,
              "ticks": ""
             }
            },
            "type": "scatter3d"
           }
          ],
          "scattercarpet": [
           {
            "marker": {
             "colorbar": {
              "outlinewidth": 0,
              "ticks": ""
             }
            },
            "type": "scattercarpet"
           }
          ],
          "scattergeo": [
           {
            "marker": {
             "colorbar": {
              "outlinewidth": 0,
              "ticks": ""
             }
            },
            "type": "scattergeo"
           }
          ],
          "scattergl": [
           {
            "marker": {
             "line": {
              "color": "#283442"
             }
            },
            "type": "scattergl"
           }
          ],
          "scattermapbox": [
           {
            "marker": {
             "colorbar": {
              "outlinewidth": 0,
              "ticks": ""
             }
            },
            "type": "scattermapbox"
           }
          ],
          "scatterpolar": [
           {
            "marker": {
             "colorbar": {
              "outlinewidth": 0,
              "ticks": ""
             }
            },
            "type": "scatterpolar"
           }
          ],
          "scatterpolargl": [
           {
            "marker": {
             "colorbar": {
              "outlinewidth": 0,
              "ticks": ""
             }
            },
            "type": "scatterpolargl"
           }
          ],
          "scatterternary": [
           {
            "marker": {
             "colorbar": {
              "outlinewidth": 0,
              "ticks": ""
             }
            },
            "type": "scatterternary"
           }
          ],
          "surface": [
           {
            "colorbar": {
             "outlinewidth": 0,
             "ticks": ""
            },
            "colorscale": [
             [
              0,
              "#0d0887"
             ],
             [
              0.1111111111111111,
              "#46039f"
             ],
             [
              0.2222222222222222,
              "#7201a8"
             ],
             [
              0.3333333333333333,
              "#9c179e"
             ],
             [
              0.4444444444444444,
              "#bd3786"
             ],
             [
              0.5555555555555556,
              "#d8576b"
             ],
             [
              0.6666666666666666,
              "#ed7953"
             ],
             [
              0.7777777777777778,
              "#fb9f3a"
             ],
             [
              0.8888888888888888,
              "#fdca26"
             ],
             [
              1,
              "#f0f921"
             ]
            ],
            "type": "surface"
           }
          ],
          "table": [
           {
            "cells": {
             "fill": {
              "color": "#506784"
             },
             "line": {
              "color": "rgb(17,17,17)"
             }
            },
            "header": {
             "fill": {
              "color": "#2a3f5f"
             },
             "line": {
              "color": "rgb(17,17,17)"
             }
            },
            "type": "table"
           }
          ]
         },
         "layout": {
          "annotationdefaults": {
           "arrowcolor": "#f2f5fa",
           "arrowhead": 0,
           "arrowwidth": 1
          },
          "autotypenumbers": "strict",
          "coloraxis": {
           "colorbar": {
            "outlinewidth": 0,
            "ticks": ""
           }
          },
          "colorscale": {
           "diverging": [
            [
             0,
             "#8e0152"
            ],
            [
             0.1,
             "#c51b7d"
            ],
            [
             0.2,
             "#de77ae"
            ],
            [
             0.3,
             "#f1b6da"
            ],
            [
             0.4,
             "#fde0ef"
            ],
            [
             0.5,
             "#f7f7f7"
            ],
            [
             0.6,
             "#e6f5d0"
            ],
            [
             0.7,
             "#b8e186"
            ],
            [
             0.8,
             "#7fbc41"
            ],
            [
             0.9,
             "#4d9221"
            ],
            [
             1,
             "#276419"
            ]
           ],
           "sequential": [
            [
             0,
             "#0d0887"
            ],
            [
             0.1111111111111111,
             "#46039f"
            ],
            [
             0.2222222222222222,
             "#7201a8"
            ],
            [
             0.3333333333333333,
             "#9c179e"
            ],
            [
             0.4444444444444444,
             "#bd3786"
            ],
            [
             0.5555555555555556,
             "#d8576b"
            ],
            [
             0.6666666666666666,
             "#ed7953"
            ],
            [
             0.7777777777777778,
             "#fb9f3a"
            ],
            [
             0.8888888888888888,
             "#fdca26"
            ],
            [
             1,
             "#f0f921"
            ]
           ],
           "sequentialminus": [
            [
             0,
             "#0d0887"
            ],
            [
             0.1111111111111111,
             "#46039f"
            ],
            [
             0.2222222222222222,
             "#7201a8"
            ],
            [
             0.3333333333333333,
             "#9c179e"
            ],
            [
             0.4444444444444444,
             "#bd3786"
            ],
            [
             0.5555555555555556,
             "#d8576b"
            ],
            [
             0.6666666666666666,
             "#ed7953"
            ],
            [
             0.7777777777777778,
             "#fb9f3a"
            ],
            [
             0.8888888888888888,
             "#fdca26"
            ],
            [
             1,
             "#f0f921"
            ]
           ]
          },
          "colorway": [
           "#636efa",
           "#EF553B",
           "#00cc96",
           "#ab63fa",
           "#FFA15A",
           "#19d3f3",
           "#FF6692",
           "#B6E880",
           "#FF97FF",
           "#FECB52"
          ],
          "font": {
           "color": "#f2f5fa"
          },
          "geo": {
           "bgcolor": "rgb(17,17,17)",
           "lakecolor": "rgb(17,17,17)",
           "landcolor": "rgb(17,17,17)",
           "showlakes": true,
           "showland": true,
           "subunitcolor": "#506784"
          },
          "hoverlabel": {
           "align": "left"
          },
          "hovermode": "closest",
          "mapbox": {
           "style": "dark"
          },
          "paper_bgcolor": "rgb(17,17,17)",
          "plot_bgcolor": "rgb(17,17,17)",
          "polar": {
           "angularaxis": {
            "gridcolor": "#506784",
            "linecolor": "#506784",
            "ticks": ""
           },
           "bgcolor": "rgb(17,17,17)",
           "radialaxis": {
            "gridcolor": "#506784",
            "linecolor": "#506784",
            "ticks": ""
           }
          },
          "scene": {
           "xaxis": {
            "backgroundcolor": "rgb(17,17,17)",
            "gridcolor": "#506784",
            "gridwidth": 2,
            "linecolor": "#506784",
            "showbackground": true,
            "ticks": "",
            "zerolinecolor": "#C8D4E3"
           },
           "yaxis": {
            "backgroundcolor": "rgb(17,17,17)",
            "gridcolor": "#506784",
            "gridwidth": 2,
            "linecolor": "#506784",
            "showbackground": true,
            "ticks": "",
            "zerolinecolor": "#C8D4E3"
           },
           "zaxis": {
            "backgroundcolor": "rgb(17,17,17)",
            "gridcolor": "#506784",
            "gridwidth": 2,
            "linecolor": "#506784",
            "showbackground": true,
            "ticks": "",
            "zerolinecolor": "#C8D4E3"
           }
          },
          "shapedefaults": {
           "line": {
            "color": "#f2f5fa"
           }
          },
          "sliderdefaults": {
           "bgcolor": "#C8D4E3",
           "bordercolor": "rgb(17,17,17)",
           "borderwidth": 1,
           "tickwidth": 0
          },
          "ternary": {
           "aaxis": {
            "gridcolor": "#506784",
            "linecolor": "#506784",
            "ticks": ""
           },
           "baxis": {
            "gridcolor": "#506784",
            "linecolor": "#506784",
            "ticks": ""
           },
           "bgcolor": "rgb(17,17,17)",
           "caxis": {
            "gridcolor": "#506784",
            "linecolor": "#506784",
            "ticks": ""
           }
          },
          "title": {
           "x": 0.05
          },
          "updatemenudefaults": {
           "bgcolor": "#506784",
           "borderwidth": 0
          },
          "xaxis": {
           "automargin": true,
           "gridcolor": "#283442",
           "linecolor": "#506784",
           "ticks": "",
           "title": {
            "standoff": 15
           },
           "zerolinecolor": "#283442",
           "zerolinewidth": 2
          },
          "yaxis": {
           "automargin": true,
           "gridcolor": "#283442",
           "linecolor": "#506784",
           "ticks": "",
           "title": {
            "standoff": 15
           },
           "zerolinecolor": "#283442",
           "zerolinewidth": 2
          }
         }
        },
        "xaxis": {
         "anchor": "y",
         "constrain": "domain",
         "domain": [
          0,
          1
         ],
         "scaleanchor": "y",
         "title": {
          "text": "Target"
         }
        },
        "yaxis": {
         "anchor": "x",
         "autorange": "reversed",
         "constrain": "domain",
         "domain": [
          0,
          1
         ],
         "title": {
          "text": "Prediction"
         }
        }
       }
      },
      "text/html": [
       "<div>                            <div id=\"9b4f5dcb-1f7c-40a7-b8e6-15a5bd8563ff\" class=\"plotly-graph-div\" style=\"height:525px; width:100%;\"></div>            <script type=\"text/javascript\">                require([\"plotly\"], function(Plotly) {                    window.PLOTLYENV=window.PLOTLYENV || {};                                    if (document.getElementById(\"9b4f5dcb-1f7c-40a7-b8e6-15a5bd8563ff\")) {                    Plotly.newPlot(                        \"9b4f5dcb-1f7c-40a7-b8e6-15a5bd8563ff\",                        [{\"coloraxis\":\"coloraxis\",\"name\":\"0\",\"texttemplate\":\"%{z}\",\"z\":[[57129,1039,695],[1888,16871,12],[3,0,21363]],\"type\":\"heatmap\",\"xaxis\":\"x\",\"yaxis\":\"y\",\"hovertemplate\":\"x: %{x}<br>y: %{y}<br>color: %{z}<extra></extra>\"}],                        {\"template\":{\"data\":{\"histogram2dcontour\":[{\"type\":\"histogram2dcontour\",\"colorbar\":{\"outlinewidth\":0,\"ticks\":\"\"},\"colorscale\":[[0.0,\"#0d0887\"],[0.1111111111111111,\"#46039f\"],[0.2222222222222222,\"#7201a8\"],[0.3333333333333333,\"#9c179e\"],[0.4444444444444444,\"#bd3786\"],[0.5555555555555556,\"#d8576b\"],[0.6666666666666666,\"#ed7953\"],[0.7777777777777778,\"#fb9f3a\"],[0.8888888888888888,\"#fdca26\"],[1.0,\"#f0f921\"]]}],\"choropleth\":[{\"type\":\"choropleth\",\"colorbar\":{\"outlinewidth\":0,\"ticks\":\"\"}}],\"histogram2d\":[{\"type\":\"histogram2d\",\"colorbar\":{\"outlinewidth\":0,\"ticks\":\"\"},\"colorscale\":[[0.0,\"#0d0887\"],[0.1111111111111111,\"#46039f\"],[0.2222222222222222,\"#7201a8\"],[0.3333333333333333,\"#9c179e\"],[0.4444444444444444,\"#bd3786\"],[0.5555555555555556,\"#d8576b\"],[0.6666666666666666,\"#ed7953\"],[0.7777777777777778,\"#fb9f3a\"],[0.8888888888888888,\"#fdca26\"],[1.0,\"#f0f921\"]]}],\"heatmap\":[{\"type\":\"heatmap\",\"colorbar\":{\"outlinewidth\":0,\"ticks\":\"\"},\"colorscale\":[[0.0,\"#0d0887\"],[0.1111111111111111,\"#46039f\"],[0.2222222222222222,\"#7201a8\"],[0.3333333333333333,\"#9c179e\"],[0.4444444444444444,\"#bd3786\"],[0.5555555555555556,\"#d8576b\"],[0.6666666666666666,\"#ed7953\"],[0.7777777777777778,\"#fb9f3a\"],[0.8888888888888888,\"#fdca26\"],[1.0,\"#f0f921\"]]}],\"heatmapgl\":[{\"type\":\"heatmapgl\",\"colorbar\":{\"outlinewidth\":0,\"ticks\":\"\"},\"colorscale\":[[0.0,\"#0d0887\"],[0.1111111111111111,\"#46039f\"],[0.2222222222222222,\"#7201a8\"],[0.3333333333333333,\"#9c179e\"],[0.4444444444444444,\"#bd3786\"],[0.5555555555555556,\"#d8576b\"],[0.6666666666666666,\"#ed7953\"],[0.7777777777777778,\"#fb9f3a\"],[0.8888888888888888,\"#fdca26\"],[1.0,\"#f0f921\"]]}],\"contourcarpet\":[{\"type\":\"contourcarpet\",\"colorbar\":{\"outlinewidth\":0,\"ticks\":\"\"}}],\"contour\":[{\"type\":\"contour\",\"colorbar\":{\"outlinewidth\":0,\"ticks\":\"\"},\"colorscale\":[[0.0,\"#0d0887\"],[0.1111111111111111,\"#46039f\"],[0.2222222222222222,\"#7201a8\"],[0.3333333333333333,\"#9c179e\"],[0.4444444444444444,\"#bd3786\"],[0.5555555555555556,\"#d8576b\"],[0.6666666666666666,\"#ed7953\"],[0.7777777777777778,\"#fb9f3a\"],[0.8888888888888888,\"#fdca26\"],[1.0,\"#f0f921\"]]}],\"surface\":[{\"type\":\"surface\",\"colorbar\":{\"outlinewidth\":0,\"ticks\":\"\"},\"colorscale\":[[0.0,\"#0d0887\"],[0.1111111111111111,\"#46039f\"],[0.2222222222222222,\"#7201a8\"],[0.3333333333333333,\"#9c179e\"],[0.4444444444444444,\"#bd3786\"],[0.5555555555555556,\"#d8576b\"],[0.6666666666666666,\"#ed7953\"],[0.7777777777777778,\"#fb9f3a\"],[0.8888888888888888,\"#fdca26\"],[1.0,\"#f0f921\"]]}],\"mesh3d\":[{\"type\":\"mesh3d\",\"colorbar\":{\"outlinewidth\":0,\"ticks\":\"\"}}],\"scatter\":[{\"marker\":{\"line\":{\"color\":\"#283442\"}},\"type\":\"scatter\"}],\"parcoords\":[{\"type\":\"parcoords\",\"line\":{\"colorbar\":{\"outlinewidth\":0,\"ticks\":\"\"}}}],\"scatterpolargl\":[{\"type\":\"scatterpolargl\",\"marker\":{\"colorbar\":{\"outlinewidth\":0,\"ticks\":\"\"}}}],\"bar\":[{\"error_x\":{\"color\":\"#f2f5fa\"},\"error_y\":{\"color\":\"#f2f5fa\"},\"marker\":{\"line\":{\"color\":\"rgb(17,17,17)\",\"width\":0.5},\"pattern\":{\"fillmode\":\"overlay\",\"size\":10,\"solidity\":0.2}},\"type\":\"bar\"}],\"scattergeo\":[{\"type\":\"scattergeo\",\"marker\":{\"colorbar\":{\"outlinewidth\":0,\"ticks\":\"\"}}}],\"scatterpolar\":[{\"type\":\"scatterpolar\",\"marker\":{\"colorbar\":{\"outlinewidth\":0,\"ticks\":\"\"}}}],\"histogram\":[{\"marker\":{\"pattern\":{\"fillmode\":\"overlay\",\"size\":10,\"solidity\":0.2}},\"type\":\"histogram\"}],\"scattergl\":[{\"marker\":{\"line\":{\"color\":\"#283442\"}},\"type\":\"scattergl\"}],\"scatter3d\":[{\"type\":\"scatter3d\",\"line\":{\"colorbar\":{\"outlinewidth\":0,\"ticks\":\"\"}},\"marker\":{\"colorbar\":{\"outlinewidth\":0,\"ticks\":\"\"}}}],\"scattermapbox\":[{\"type\":\"scattermapbox\",\"marker\":{\"colorbar\":{\"outlinewidth\":0,\"ticks\":\"\"}}}],\"scatterternary\":[{\"type\":\"scatterternary\",\"marker\":{\"colorbar\":{\"outlinewidth\":0,\"ticks\":\"\"}}}],\"scattercarpet\":[{\"type\":\"scattercarpet\",\"marker\":{\"colorbar\":{\"outlinewidth\":0,\"ticks\":\"\"}}}],\"carpet\":[{\"aaxis\":{\"endlinecolor\":\"#A2B1C6\",\"gridcolor\":\"#506784\",\"linecolor\":\"#506784\",\"minorgridcolor\":\"#506784\",\"startlinecolor\":\"#A2B1C6\"},\"baxis\":{\"endlinecolor\":\"#A2B1C6\",\"gridcolor\":\"#506784\",\"linecolor\":\"#506784\",\"minorgridcolor\":\"#506784\",\"startlinecolor\":\"#A2B1C6\"},\"type\":\"carpet\"}],\"table\":[{\"cells\":{\"fill\":{\"color\":\"#506784\"},\"line\":{\"color\":\"rgb(17,17,17)\"}},\"header\":{\"fill\":{\"color\":\"#2a3f5f\"},\"line\":{\"color\":\"rgb(17,17,17)\"}},\"type\":\"table\"}],\"barpolar\":[{\"marker\":{\"line\":{\"color\":\"rgb(17,17,17)\",\"width\":0.5},\"pattern\":{\"fillmode\":\"overlay\",\"size\":10,\"solidity\":0.2}},\"type\":\"barpolar\"}],\"pie\":[{\"automargin\":true,\"type\":\"pie\"}]},\"layout\":{\"autotypenumbers\":\"strict\",\"colorway\":[\"#636efa\",\"#EF553B\",\"#00cc96\",\"#ab63fa\",\"#FFA15A\",\"#19d3f3\",\"#FF6692\",\"#B6E880\",\"#FF97FF\",\"#FECB52\"],\"font\":{\"color\":\"#f2f5fa\"},\"hovermode\":\"closest\",\"hoverlabel\":{\"align\":\"left\"},\"paper_bgcolor\":\"rgb(17,17,17)\",\"plot_bgcolor\":\"rgb(17,17,17)\",\"polar\":{\"bgcolor\":\"rgb(17,17,17)\",\"angularaxis\":{\"gridcolor\":\"#506784\",\"linecolor\":\"#506784\",\"ticks\":\"\"},\"radialaxis\":{\"gridcolor\":\"#506784\",\"linecolor\":\"#506784\",\"ticks\":\"\"}},\"ternary\":{\"bgcolor\":\"rgb(17,17,17)\",\"aaxis\":{\"gridcolor\":\"#506784\",\"linecolor\":\"#506784\",\"ticks\":\"\"},\"baxis\":{\"gridcolor\":\"#506784\",\"linecolor\":\"#506784\",\"ticks\":\"\"},\"caxis\":{\"gridcolor\":\"#506784\",\"linecolor\":\"#506784\",\"ticks\":\"\"}},\"coloraxis\":{\"colorbar\":{\"outlinewidth\":0,\"ticks\":\"\"}},\"colorscale\":{\"sequential\":[[0.0,\"#0d0887\"],[0.1111111111111111,\"#46039f\"],[0.2222222222222222,\"#7201a8\"],[0.3333333333333333,\"#9c179e\"],[0.4444444444444444,\"#bd3786\"],[0.5555555555555556,\"#d8576b\"],[0.6666666666666666,\"#ed7953\"],[0.7777777777777778,\"#fb9f3a\"],[0.8888888888888888,\"#fdca26\"],[1.0,\"#f0f921\"]],\"sequentialminus\":[[0.0,\"#0d0887\"],[0.1111111111111111,\"#46039f\"],[0.2222222222222222,\"#7201a8\"],[0.3333333333333333,\"#9c179e\"],[0.4444444444444444,\"#bd3786\"],[0.5555555555555556,\"#d8576b\"],[0.6666666666666666,\"#ed7953\"],[0.7777777777777778,\"#fb9f3a\"],[0.8888888888888888,\"#fdca26\"],[1.0,\"#f0f921\"]],\"diverging\":[[0,\"#8e0152\"],[0.1,\"#c51b7d\"],[0.2,\"#de77ae\"],[0.3,\"#f1b6da\"],[0.4,\"#fde0ef\"],[0.5,\"#f7f7f7\"],[0.6,\"#e6f5d0\"],[0.7,\"#b8e186\"],[0.8,\"#7fbc41\"],[0.9,\"#4d9221\"],[1,\"#276419\"]]},\"xaxis\":{\"gridcolor\":\"#283442\",\"linecolor\":\"#506784\",\"ticks\":\"\",\"title\":{\"standoff\":15},\"zerolinecolor\":\"#283442\",\"automargin\":true,\"zerolinewidth\":2},\"yaxis\":{\"gridcolor\":\"#283442\",\"linecolor\":\"#506784\",\"ticks\":\"\",\"title\":{\"standoff\":15},\"zerolinecolor\":\"#283442\",\"automargin\":true,\"zerolinewidth\":2},\"scene\":{\"xaxis\":{\"backgroundcolor\":\"rgb(17,17,17)\",\"gridcolor\":\"#506784\",\"linecolor\":\"#506784\",\"showbackground\":true,\"ticks\":\"\",\"zerolinecolor\":\"#C8D4E3\",\"gridwidth\":2},\"yaxis\":{\"backgroundcolor\":\"rgb(17,17,17)\",\"gridcolor\":\"#506784\",\"linecolor\":\"#506784\",\"showbackground\":true,\"ticks\":\"\",\"zerolinecolor\":\"#C8D4E3\",\"gridwidth\":2},\"zaxis\":{\"backgroundcolor\":\"rgb(17,17,17)\",\"gridcolor\":\"#506784\",\"linecolor\":\"#506784\",\"showbackground\":true,\"ticks\":\"\",\"zerolinecolor\":\"#C8D4E3\",\"gridwidth\":2}},\"shapedefaults\":{\"line\":{\"color\":\"#f2f5fa\"}},\"annotationdefaults\":{\"arrowcolor\":\"#f2f5fa\",\"arrowhead\":0,\"arrowwidth\":1},\"geo\":{\"bgcolor\":\"rgb(17,17,17)\",\"landcolor\":\"rgb(17,17,17)\",\"subunitcolor\":\"#506784\",\"showland\":true,\"showlakes\":true,\"lakecolor\":\"rgb(17,17,17)\"},\"title\":{\"x\":0.05},\"updatemenudefaults\":{\"bgcolor\":\"#506784\",\"borderwidth\":0},\"sliderdefaults\":{\"bgcolor\":\"#C8D4E3\",\"borderwidth\":1,\"bordercolor\":\"rgb(17,17,17)\",\"tickwidth\":0},\"mapbox\":{\"style\":\"dark\"}}},\"xaxis\":{\"anchor\":\"y\",\"domain\":[0.0,1.0],\"scaleanchor\":\"y\",\"constrain\":\"domain\",\"title\":{\"text\":\"Target\"}},\"yaxis\":{\"anchor\":\"x\",\"domain\":[0.0,1.0],\"autorange\":\"reversed\",\"constrain\":\"domain\",\"title\":{\"text\":\"Prediction\"}},\"coloraxis\":{\"colorscale\":[[0.0,\"#0d0887\"],[0.1111111111111111,\"#46039f\"],[0.2222222222222222,\"#7201a8\"],[0.3333333333333333,\"#9c179e\"],[0.4444444444444444,\"#bd3786\"],[0.5555555555555556,\"#d8576b\"],[0.6666666666666666,\"#ed7953\"],[0.7777777777777778,\"#fb9f3a\"],[0.8888888888888888,\"#fdca26\"],[1.0,\"#f0f921\"]]},\"margin\":{\"t\":60}},                        {\"responsive\": true}                    ).then(function(){\n",
       "                            \n",
       "var gd = document.getElementById('9b4f5dcb-1f7c-40a7-b8e6-15a5bd8563ff');\n",
       "var x = new MutationObserver(function (mutations, observer) {{\n",
       "        var display = window.getComputedStyle(gd).display;\n",
       "        if (!display || display === 'none') {{\n",
       "            console.log([gd, 'removed!']);\n",
       "            Plotly.purge(gd);\n",
       "            observer.disconnect();\n",
       "        }}\n",
       "}});\n",
       "\n",
       "// Listen for the removal of the full notebook cells\n",
       "var notebookContainer = gd.closest('#notebook-container');\n",
       "if (notebookContainer) {{\n",
       "    x.observe(notebookContainer, {childList: true});\n",
       "}}\n",
       "\n",
       "// Listen for the clearing of the current output cell\n",
       "var outputEl = gd.closest('.output');\n",
       "if (outputEl) {{\n",
       "    x.observe(outputEl, {childList: true});\n",
       "}}\n",
       "\n",
       "                        })                };                });            </script>        </div>"
      ]
     },
     "metadata": {},
     "output_type": "display_data"
    }
   ],
   "source": [
    "@score_for('Random Forest', 'test')\n",
    "@time_for('Random Forest', 'test')\n",
    "def test_forest():\n",
    "    return f1_score(forest_y_test, y_test, average='macro')\n",
    "\n",
    "print(\n",
    "    \"F1-мера для тестовых данных с помощью \"\n",
    "    \"RandomForestClassifier:\", test_forest(),\n",
    ")\n",
    "draw_conf_matrix(y_test, forest_y_test)"
   ]
  },
  {
   "cell_type": "markdown",
   "metadata": {},
   "source": [
    "## Задание 3\n",
    "\n",
    "Реализовать бустинг на тех же данных, что использовались для баггинга.\n"
   ]
  },
  {
   "cell_type": "markdown",
   "metadata": {},
   "source": [
    "### Cat Boosting\n",
    "\n",
    "С использованием CPU\n"
   ]
  },
  {
   "cell_type": "code",
   "execution_count": 37,
   "metadata": {
    "scrolled": true
   },
   "outputs": [
    {
     "name": "stdout",
     "output_type": "stream",
     "text": [
      "Learning rate set to 0.079127\n",
      "0:\tlearn: 0.9971944\ttotal: 152ms\tremaining: 2m 31s\n",
      "1:\tlearn: 0.8988531\ttotal: 158ms\tremaining: 1m 18s\n",
      "2:\tlearn: 0.8163142\ttotal: 164ms\tremaining: 54.5s\n",
      "3:\tlearn: 0.7496475\ttotal: 171ms\tremaining: 42.5s\n",
      "4:\tlearn: 0.6889320\ttotal: 176ms\tremaining: 35.1s\n",
      "5:\tlearn: 0.6377499\ttotal: 183ms\tremaining: 30.4s\n",
      "6:\tlearn: 0.5944032\ttotal: 190ms\tremaining: 26.9s\n",
      "7:\tlearn: 0.5544519\ttotal: 196ms\tremaining: 24.3s\n",
      "8:\tlearn: 0.5185654\ttotal: 204ms\tremaining: 22.5s\n",
      "9:\tlearn: 0.4876519\ttotal: 211ms\tremaining: 20.9s\n",
      "10:\tlearn: 0.4608737\ttotal: 217ms\tremaining: 19.5s\n",
      "11:\tlearn: 0.4367177\ttotal: 223ms\tremaining: 18.4s\n",
      "12:\tlearn: 0.4144205\ttotal: 230ms\tremaining: 17.4s\n",
      "13:\tlearn: 0.3929261\ttotal: 237ms\tremaining: 16.7s\n",
      "14:\tlearn: 0.3737588\ttotal: 243ms\tremaining: 15.9s\n",
      "15:\tlearn: 0.3571414\ttotal: 249ms\tremaining: 15.3s\n",
      "16:\tlearn: 0.3417432\ttotal: 256ms\tremaining: 14.8s\n",
      "17:\tlearn: 0.3283899\ttotal: 267ms\tremaining: 14.6s\n",
      "18:\tlearn: 0.3143855\ttotal: 274ms\tremaining: 14.1s\n",
      "19:\tlearn: 0.3030794\ttotal: 286ms\tremaining: 14s\n",
      "20:\tlearn: 0.2915502\ttotal: 295ms\tremaining: 13.8s\n",
      "21:\tlearn: 0.2808553\ttotal: 302ms\tremaining: 13.4s\n",
      "22:\tlearn: 0.2699907\ttotal: 310ms\tremaining: 13.2s\n",
      "23:\tlearn: 0.2615850\ttotal: 317ms\tremaining: 12.9s\n",
      "24:\tlearn: 0.2536691\ttotal: 327ms\tremaining: 12.8s\n",
      "25:\tlearn: 0.2454495\ttotal: 334ms\tremaining: 12.5s\n",
      "26:\tlearn: 0.2370473\ttotal: 343ms\tremaining: 12.4s\n",
      "27:\tlearn: 0.2298826\ttotal: 349ms\tremaining: 12.1s\n",
      "28:\tlearn: 0.2242554\ttotal: 356ms\tremaining: 11.9s\n",
      "29:\tlearn: 0.2186857\ttotal: 362ms\tremaining: 11.7s\n",
      "30:\tlearn: 0.2133319\ttotal: 370ms\tremaining: 11.6s\n",
      "31:\tlearn: 0.2089322\ttotal: 376ms\tremaining: 11.4s\n",
      "32:\tlearn: 0.2035111\ttotal: 384ms\tremaining: 11.3s\n",
      "33:\tlearn: 0.1988948\ttotal: 391ms\tremaining: 11.1s\n",
      "34:\tlearn: 0.1935855\ttotal: 403ms\tremaining: 11.1s\n",
      "35:\tlearn: 0.1902626\ttotal: 411ms\tremaining: 11s\n",
      "36:\tlearn: 0.1865446\ttotal: 418ms\tremaining: 10.9s\n",
      "37:\tlearn: 0.1835464\ttotal: 423ms\tremaining: 10.7s\n",
      "38:\tlearn: 0.1808382\ttotal: 431ms\tremaining: 10.6s\n",
      "39:\tlearn: 0.1775018\ttotal: 437ms\tremaining: 10.5s\n",
      "40:\tlearn: 0.1741565\ttotal: 444ms\tremaining: 10.4s\n",
      "41:\tlearn: 0.1720520\ttotal: 450ms\tremaining: 10.3s\n",
      "42:\tlearn: 0.1686268\ttotal: 456ms\tremaining: 10.2s\n",
      "43:\tlearn: 0.1660173\ttotal: 463ms\tremaining: 10.1s\n",
      "44:\tlearn: 0.1630407\ttotal: 469ms\tremaining: 9.96s\n",
      "45:\tlearn: 0.1610910\ttotal: 475ms\tremaining: 9.86s\n",
      "46:\tlearn: 0.1597184\ttotal: 481ms\tremaining: 9.76s\n",
      "47:\tlearn: 0.1586715\ttotal: 487ms\tremaining: 9.67s\n",
      "48:\tlearn: 0.1562106\ttotal: 493ms\tremaining: 9.58s\n",
      "49:\tlearn: 0.1551451\ttotal: 507ms\tremaining: 9.62s\n",
      "50:\tlearn: 0.1527690\ttotal: 518ms\tremaining: 9.64s\n",
      "51:\tlearn: 0.1512543\ttotal: 524ms\tremaining: 9.56s\n",
      "52:\tlearn: 0.1496745\ttotal: 531ms\tremaining: 9.49s\n",
      "53:\tlearn: 0.1482186\ttotal: 542ms\tremaining: 9.49s\n",
      "54:\tlearn: 0.1466811\ttotal: 565ms\tremaining: 9.71s\n",
      "55:\tlearn: 0.1451249\ttotal: 584ms\tremaining: 9.85s\n",
      "56:\tlearn: 0.1436451\ttotal: 612ms\tremaining: 10.1s\n",
      "57:\tlearn: 0.1421958\ttotal: 625ms\tremaining: 10.2s\n",
      "58:\tlearn: 0.1417864\ttotal: 633ms\tremaining: 10.1s\n",
      "59:\tlearn: 0.1408982\ttotal: 640ms\tremaining: 10s\n",
      "60:\tlearn: 0.1394858\ttotal: 653ms\tremaining: 10.1s\n",
      "61:\tlearn: 0.1388132\ttotal: 663ms\tremaining: 10s\n",
      "62:\tlearn: 0.1374481\ttotal: 678ms\tremaining: 10.1s\n",
      "63:\tlearn: 0.1359143\ttotal: 694ms\tremaining: 10.1s\n",
      "64:\tlearn: 0.1351217\ttotal: 710ms\tremaining: 10.2s\n",
      "65:\tlearn: 0.1337775\ttotal: 723ms\tremaining: 10.2s\n",
      "66:\tlearn: 0.1332177\ttotal: 732ms\tremaining: 10.2s\n",
      "67:\tlearn: 0.1325909\ttotal: 741ms\tremaining: 10.2s\n",
      "68:\tlearn: 0.1311510\ttotal: 748ms\tremaining: 10.1s\n",
      "69:\tlearn: 0.1302124\ttotal: 759ms\tremaining: 10.1s\n",
      "70:\tlearn: 0.1296666\ttotal: 771ms\tremaining: 10.1s\n",
      "71:\tlearn: 0.1283336\ttotal: 781ms\tremaining: 10.1s\n",
      "72:\tlearn: 0.1269474\ttotal: 788ms\tremaining: 10s\n",
      "73:\tlearn: 0.1265710\ttotal: 798ms\tremaining: 9.98s\n",
      "74:\tlearn: 0.1253077\ttotal: 806ms\tremaining: 9.94s\n",
      "75:\tlearn: 0.1249991\ttotal: 818ms\tremaining: 9.95s\n",
      "76:\tlearn: 0.1238122\ttotal: 825ms\tremaining: 9.89s\n",
      "77:\tlearn: 0.1228220\ttotal: 836ms\tremaining: 9.88s\n",
      "78:\tlearn: 0.1216828\ttotal: 844ms\tremaining: 9.84s\n",
      "79:\tlearn: 0.1206879\ttotal: 854ms\tremaining: 9.82s\n",
      "80:\tlearn: 0.1193896\ttotal: 866ms\tremaining: 9.82s\n",
      "81:\tlearn: 0.1184830\ttotal: 875ms\tremaining: 9.8s\n",
      "82:\tlearn: 0.1180135\ttotal: 884ms\tremaining: 9.77s\n",
      "83:\tlearn: 0.1174270\ttotal: 895ms\tremaining: 9.76s\n",
      "84:\tlearn: 0.1170813\ttotal: 903ms\tremaining: 9.72s\n",
      "85:\tlearn: 0.1165643\ttotal: 912ms\tremaining: 9.69s\n",
      "86:\tlearn: 0.1162590\ttotal: 920ms\tremaining: 9.65s\n",
      "87:\tlearn: 0.1147176\ttotal: 927ms\tremaining: 9.61s\n",
      "88:\tlearn: 0.1140098\ttotal: 935ms\tremaining: 9.57s\n",
      "89:\tlearn: 0.1136645\ttotal: 942ms\tremaining: 9.53s\n",
      "90:\tlearn: 0.1128749\ttotal: 953ms\tremaining: 9.52s\n",
      "91:\tlearn: 0.1124662\ttotal: 960ms\tremaining: 9.47s\n",
      "92:\tlearn: 0.1116289\ttotal: 970ms\tremaining: 9.46s\n",
      "93:\tlearn: 0.1107640\ttotal: 980ms\tremaining: 9.45s\n",
      "94:\tlearn: 0.1102507\ttotal: 987ms\tremaining: 9.4s\n",
      "95:\tlearn: 0.1095041\ttotal: 1000ms\tremaining: 9.41s\n",
      "96:\tlearn: 0.1092423\ttotal: 1.01s\tremaining: 9.4s\n",
      "97:\tlearn: 0.1089729\ttotal: 1.02s\tremaining: 9.4s\n",
      "98:\tlearn: 0.1085155\ttotal: 1.03s\tremaining: 9.41s\n",
      "99:\tlearn: 0.1077011\ttotal: 1.04s\tremaining: 9.39s\n",
      "100:\tlearn: 0.1068497\ttotal: 1.05s\tremaining: 9.37s\n",
      "101:\tlearn: 0.1060056\ttotal: 1.06s\tremaining: 9.34s\n",
      "102:\tlearn: 0.1052661\ttotal: 1.07s\tremaining: 9.31s\n",
      "103:\tlearn: 0.1048065\ttotal: 1.08s\tremaining: 9.29s\n",
      "104:\tlearn: 0.1043659\ttotal: 1.09s\tremaining: 9.26s\n",
      "105:\tlearn: 0.1035432\ttotal: 1.09s\tremaining: 9.22s\n",
      "106:\tlearn: 0.1028329\ttotal: 1.1s\tremaining: 9.18s\n",
      "107:\tlearn: 0.1023646\ttotal: 1.11s\tremaining: 9.17s\n",
      "108:\tlearn: 0.1016012\ttotal: 1.12s\tremaining: 9.16s\n",
      "109:\tlearn: 0.1002136\ttotal: 1.14s\tremaining: 9.24s\n",
      "110:\tlearn: 0.0997787\ttotal: 1.15s\tremaining: 9.24s\n",
      "111:\tlearn: 0.0991505\ttotal: 1.16s\tremaining: 9.23s\n",
      "112:\tlearn: 0.0983251\ttotal: 1.17s\tremaining: 9.21s\n",
      "113:\tlearn: 0.0977764\ttotal: 1.19s\tremaining: 9.24s\n",
      "114:\tlearn: 0.0974207\ttotal: 1.21s\tremaining: 9.29s\n",
      "115:\tlearn: 0.0969097\ttotal: 1.22s\tremaining: 9.29s\n",
      "116:\tlearn: 0.0964565\ttotal: 1.23s\tremaining: 9.31s\n",
      "117:\tlearn: 0.0954137\ttotal: 1.25s\tremaining: 9.33s\n",
      "118:\tlearn: 0.0946040\ttotal: 1.26s\tremaining: 9.32s\n",
      "119:\tlearn: 0.0942226\ttotal: 1.28s\tremaining: 9.37s\n",
      "120:\tlearn: 0.0935703\ttotal: 1.29s\tremaining: 9.37s\n",
      "121:\tlearn: 0.0928455\ttotal: 1.3s\tremaining: 9.33s\n",
      "122:\tlearn: 0.0920239\ttotal: 1.3s\tremaining: 9.3s\n",
      "123:\tlearn: 0.0912656\ttotal: 1.31s\tremaining: 9.27s\n",
      "124:\tlearn: 0.0907603\ttotal: 1.32s\tremaining: 9.25s\n",
      "125:\tlearn: 0.0905119\ttotal: 1.33s\tremaining: 9.21s\n",
      "126:\tlearn: 0.0898437\ttotal: 1.34s\tremaining: 9.19s\n",
      "127:\tlearn: 0.0892821\ttotal: 1.34s\tremaining: 9.16s\n",
      "128:\tlearn: 0.0890620\ttotal: 1.35s\tremaining: 9.14s\n",
      "129:\tlearn: 0.0886066\ttotal: 1.37s\tremaining: 9.15s\n",
      "130:\tlearn: 0.0882153\ttotal: 1.37s\tremaining: 9.12s\n",
      "131:\tlearn: 0.0876597\ttotal: 1.39s\tremaining: 9.12s\n",
      "132:\tlearn: 0.0874262\ttotal: 1.4s\tremaining: 9.14s\n",
      "133:\tlearn: 0.0871677\ttotal: 1.41s\tremaining: 9.12s\n",
      "134:\tlearn: 0.0866319\ttotal: 1.42s\tremaining: 9.08s\n",
      "135:\tlearn: 0.0860171\ttotal: 1.43s\tremaining: 9.07s\n",
      "136:\tlearn: 0.0857455\ttotal: 1.44s\tremaining: 9.04s\n",
      "137:\tlearn: 0.0852633\ttotal: 1.44s\tremaining: 9s\n",
      "138:\tlearn: 0.0848108\ttotal: 1.45s\tremaining: 8.97s\n",
      "139:\tlearn: 0.0842867\ttotal: 1.46s\tremaining: 8.94s\n",
      "140:\tlearn: 0.0837120\ttotal: 1.46s\tremaining: 8.9s\n",
      "141:\tlearn: 0.0835327\ttotal: 1.47s\tremaining: 8.87s\n",
      "142:\tlearn: 0.0832210\ttotal: 1.48s\tremaining: 8.84s\n",
      "143:\tlearn: 0.0830785\ttotal: 1.48s\tremaining: 8.81s\n",
      "144:\tlearn: 0.0827270\ttotal: 1.49s\tremaining: 8.77s\n",
      "145:\tlearn: 0.0822778\ttotal: 1.49s\tremaining: 8.73s\n",
      "146:\tlearn: 0.0817146\ttotal: 1.5s\tremaining: 8.72s\n",
      "147:\tlearn: 0.0812482\ttotal: 1.54s\tremaining: 8.86s\n",
      "148:\tlearn: 0.0810152\ttotal: 1.56s\tremaining: 8.93s\n",
      "149:\tlearn: 0.0804251\ttotal: 1.57s\tremaining: 8.9s\n",
      "150:\tlearn: 0.0800066\ttotal: 1.58s\tremaining: 8.88s\n",
      "151:\tlearn: 0.0796960\ttotal: 1.58s\tremaining: 8.85s\n",
      "152:\tlearn: 0.0790327\ttotal: 1.6s\tremaining: 8.87s\n",
      "153:\tlearn: 0.0787596\ttotal: 1.61s\tremaining: 8.84s\n",
      "154:\tlearn: 0.0785891\ttotal: 1.61s\tremaining: 8.81s\n",
      "155:\tlearn: 0.0782268\ttotal: 1.62s\tremaining: 8.78s\n",
      "156:\tlearn: 0.0779575\ttotal: 1.63s\tremaining: 8.74s\n",
      "157:\tlearn: 0.0775140\ttotal: 1.64s\tremaining: 8.71s\n",
      "158:\tlearn: 0.0770703\ttotal: 1.64s\tremaining: 8.68s\n",
      "159:\tlearn: 0.0767165\ttotal: 1.65s\tremaining: 8.65s\n",
      "160:\tlearn: 0.0763314\ttotal: 1.65s\tremaining: 8.62s\n",
      "161:\tlearn: 0.0760380\ttotal: 1.66s\tremaining: 8.58s\n",
      "162:\tlearn: 0.0758255\ttotal: 1.67s\tremaining: 8.56s\n",
      "163:\tlearn: 0.0752429\ttotal: 1.67s\tremaining: 8.53s\n",
      "164:\tlearn: 0.0747709\ttotal: 1.68s\tremaining: 8.51s\n",
      "165:\tlearn: 0.0745302\ttotal: 1.69s\tremaining: 8.49s\n",
      "166:\tlearn: 0.0739546\ttotal: 1.7s\tremaining: 8.46s\n",
      "167:\tlearn: 0.0737207\ttotal: 1.7s\tremaining: 8.43s\n",
      "168:\tlearn: 0.0734225\ttotal: 1.71s\tremaining: 8.41s\n",
      "169:\tlearn: 0.0731286\ttotal: 1.72s\tremaining: 8.37s\n",
      "170:\tlearn: 0.0727779\ttotal: 1.72s\tremaining: 8.34s\n",
      "171:\tlearn: 0.0724220\ttotal: 1.73s\tremaining: 8.31s\n",
      "172:\tlearn: 0.0723055\ttotal: 1.73s\tremaining: 8.28s\n",
      "173:\tlearn: 0.0717234\ttotal: 1.74s\tremaining: 8.25s\n",
      "174:\tlearn: 0.0715087\ttotal: 1.74s\tremaining: 8.23s\n",
      "175:\tlearn: 0.0713154\ttotal: 1.75s\tremaining: 8.2s\n",
      "176:\tlearn: 0.0710128\ttotal: 1.76s\tremaining: 8.17s\n",
      "177:\tlearn: 0.0708273\ttotal: 1.76s\tremaining: 8.14s\n",
      "178:\tlearn: 0.0705299\ttotal: 1.77s\tremaining: 8.12s\n",
      "179:\tlearn: 0.0703129\ttotal: 1.78s\tremaining: 8.09s\n",
      "180:\tlearn: 0.0700867\ttotal: 1.78s\tremaining: 8.06s\n",
      "181:\tlearn: 0.0698576\ttotal: 1.79s\tremaining: 8.04s\n",
      "182:\tlearn: 0.0696755\ttotal: 1.79s\tremaining: 8.01s\n",
      "183:\tlearn: 0.0694179\ttotal: 1.8s\tremaining: 7.99s\n",
      "184:\tlearn: 0.0692055\ttotal: 1.81s\tremaining: 7.96s\n",
      "185:\tlearn: 0.0688322\ttotal: 1.81s\tremaining: 7.94s\n",
      "186:\tlearn: 0.0686982\ttotal: 1.82s\tremaining: 7.92s\n",
      "187:\tlearn: 0.0683115\ttotal: 1.83s\tremaining: 7.9s\n",
      "188:\tlearn: 0.0679802\ttotal: 1.83s\tremaining: 7.88s\n",
      "189:\tlearn: 0.0677558\ttotal: 1.84s\tremaining: 7.85s\n",
      "190:\tlearn: 0.0674326\ttotal: 1.85s\tremaining: 7.83s\n",
      "191:\tlearn: 0.0672236\ttotal: 1.85s\tremaining: 7.8s\n",
      "192:\tlearn: 0.0668076\ttotal: 1.86s\tremaining: 7.78s\n",
      "193:\tlearn: 0.0665168\ttotal: 1.87s\tremaining: 7.75s\n",
      "194:\tlearn: 0.0662185\ttotal: 1.87s\tremaining: 7.73s\n",
      "195:\tlearn: 0.0661051\ttotal: 1.88s\tremaining: 7.71s\n",
      "196:\tlearn: 0.0659725\ttotal: 1.89s\tremaining: 7.69s\n",
      "197:\tlearn: 0.0658133\ttotal: 1.89s\tremaining: 7.66s\n",
      "198:\tlearn: 0.0655697\ttotal: 1.9s\tremaining: 7.64s\n",
      "199:\tlearn: 0.0652909\ttotal: 1.9s\tremaining: 7.61s\n",
      "200:\tlearn: 0.0651548\ttotal: 1.91s\tremaining: 7.59s\n",
      "201:\tlearn: 0.0647607\ttotal: 1.92s\tremaining: 7.57s\n",
      "202:\tlearn: 0.0643222\ttotal: 1.93s\tremaining: 7.56s\n",
      "203:\tlearn: 0.0640387\ttotal: 1.93s\tremaining: 7.54s\n",
      "204:\tlearn: 0.0638524\ttotal: 1.94s\tremaining: 7.53s\n",
      "205:\tlearn: 0.0636465\ttotal: 1.95s\tremaining: 7.5s\n",
      "206:\tlearn: 0.0634449\ttotal: 1.95s\tremaining: 7.48s\n",
      "207:\tlearn: 0.0633114\ttotal: 1.96s\tremaining: 7.46s\n",
      "208:\tlearn: 0.0629010\ttotal: 1.97s\tremaining: 7.44s\n",
      "209:\tlearn: 0.0625405\ttotal: 1.97s\tremaining: 7.42s\n",
      "210:\tlearn: 0.0624439\ttotal: 1.98s\tremaining: 7.4s\n",
      "211:\tlearn: 0.0621600\ttotal: 1.98s\tremaining: 7.38s\n",
      "212:\tlearn: 0.0619315\ttotal: 1.99s\tremaining: 7.36s\n",
      "213:\tlearn: 0.0616208\ttotal: 2s\tremaining: 7.34s\n",
      "214:\tlearn: 0.0614499\ttotal: 2s\tremaining: 7.32s\n",
      "215:\tlearn: 0.0613695\ttotal: 2.01s\tremaining: 7.3s\n",
      "216:\tlearn: 0.0610195\ttotal: 2.02s\tremaining: 7.28s\n",
      "217:\tlearn: 0.0606348\ttotal: 2.02s\tremaining: 7.26s\n",
      "218:\tlearn: 0.0605362\ttotal: 2.03s\tremaining: 7.24s\n",
      "219:\tlearn: 0.0601755\ttotal: 2.04s\tremaining: 7.22s\n",
      "220:\tlearn: 0.0598802\ttotal: 2.04s\tremaining: 7.21s\n",
      "221:\tlearn: 0.0595440\ttotal: 2.05s\tremaining: 7.19s\n",
      "222:\tlearn: 0.0591571\ttotal: 2.06s\tremaining: 7.17s\n",
      "223:\tlearn: 0.0589160\ttotal: 2.06s\tremaining: 7.16s\n",
      "224:\tlearn: 0.0587402\ttotal: 2.08s\tremaining: 7.15s\n",
      "225:\tlearn: 0.0585422\ttotal: 2.08s\tremaining: 7.14s\n",
      "226:\tlearn: 0.0583311\ttotal: 2.09s\tremaining: 7.12s\n",
      "227:\tlearn: 0.0581648\ttotal: 2.1s\tremaining: 7.1s\n",
      "228:\tlearn: 0.0579146\ttotal: 2.1s\tremaining: 7.08s\n",
      "229:\tlearn: 0.0576946\ttotal: 2.11s\tremaining: 7.06s\n",
      "230:\tlearn: 0.0575729\ttotal: 2.11s\tremaining: 7.04s\n",
      "231:\tlearn: 0.0574163\ttotal: 2.12s\tremaining: 7.02s\n",
      "232:\tlearn: 0.0571260\ttotal: 2.13s\tremaining: 7s\n",
      "233:\tlearn: 0.0568462\ttotal: 2.13s\tremaining: 6.98s\n",
      "234:\tlearn: 0.0563349\ttotal: 2.14s\tremaining: 6.96s\n",
      "235:\tlearn: 0.0559453\ttotal: 2.14s\tremaining: 6.94s\n",
      "236:\tlearn: 0.0558003\ttotal: 2.15s\tremaining: 6.92s\n",
      "237:\tlearn: 0.0554160\ttotal: 2.16s\tremaining: 6.9s\n",
      "238:\tlearn: 0.0553316\ttotal: 2.16s\tremaining: 6.88s\n",
      "239:\tlearn: 0.0551383\ttotal: 2.17s\tremaining: 6.87s\n",
      "240:\tlearn: 0.0549253\ttotal: 2.17s\tremaining: 6.85s\n",
      "241:\tlearn: 0.0547509\ttotal: 2.18s\tremaining: 6.84s\n",
      "242:\tlearn: 0.0544955\ttotal: 2.19s\tremaining: 6.83s\n",
      "243:\tlearn: 0.0543317\ttotal: 2.2s\tremaining: 6.81s\n",
      "244:\tlearn: 0.0541607\ttotal: 2.21s\tremaining: 6.8s\n",
      "245:\tlearn: 0.0540176\ttotal: 2.21s\tremaining: 6.79s\n",
      "246:\tlearn: 0.0539303\ttotal: 2.22s\tremaining: 6.77s\n",
      "247:\tlearn: 0.0537134\ttotal: 2.23s\tremaining: 6.75s\n",
      "248:\tlearn: 0.0536074\ttotal: 2.23s\tremaining: 6.74s\n",
      "249:\tlearn: 0.0534377\ttotal: 2.24s\tremaining: 6.72s\n",
      "250:\tlearn: 0.0532710\ttotal: 2.25s\tremaining: 6.7s\n",
      "251:\tlearn: 0.0531488\ttotal: 2.25s\tremaining: 6.69s\n",
      "252:\tlearn: 0.0529803\ttotal: 2.27s\tremaining: 6.7s\n",
      "253:\tlearn: 0.0525912\ttotal: 2.28s\tremaining: 6.69s\n",
      "254:\tlearn: 0.0523519\ttotal: 2.29s\tremaining: 6.68s\n",
      "255:\tlearn: 0.0521881\ttotal: 2.29s\tremaining: 6.67s\n",
      "256:\tlearn: 0.0520359\ttotal: 2.3s\tremaining: 6.66s\n",
      "257:\tlearn: 0.0519219\ttotal: 2.31s\tremaining: 6.64s\n",
      "258:\tlearn: 0.0518129\ttotal: 2.32s\tremaining: 6.63s\n",
      "259:\tlearn: 0.0516381\ttotal: 2.33s\tremaining: 6.63s\n",
      "260:\tlearn: 0.0515239\ttotal: 2.33s\tremaining: 6.61s\n",
      "261:\tlearn: 0.0513655\ttotal: 2.34s\tremaining: 6.59s\n",
      "262:\tlearn: 0.0511648\ttotal: 2.35s\tremaining: 6.58s\n",
      "263:\tlearn: 0.0510249\ttotal: 2.35s\tremaining: 6.57s\n",
      "264:\tlearn: 0.0508909\ttotal: 2.36s\tremaining: 6.55s\n",
      "265:\tlearn: 0.0505738\ttotal: 2.37s\tremaining: 6.54s\n",
      "266:\tlearn: 0.0502712\ttotal: 2.38s\tremaining: 6.52s\n",
      "267:\tlearn: 0.0500744\ttotal: 2.38s\tremaining: 6.51s\n",
      "268:\tlearn: 0.0498269\ttotal: 2.39s\tremaining: 6.5s\n",
      "269:\tlearn: 0.0496819\ttotal: 2.4s\tremaining: 6.49s\n",
      "270:\tlearn: 0.0495029\ttotal: 2.41s\tremaining: 6.47s\n",
      "271:\tlearn: 0.0493751\ttotal: 2.41s\tremaining: 6.46s\n",
      "272:\tlearn: 0.0492759\ttotal: 2.42s\tremaining: 6.45s\n",
      "273:\tlearn: 0.0491159\ttotal: 2.43s\tremaining: 6.43s\n",
      "274:\tlearn: 0.0490052\ttotal: 2.44s\tremaining: 6.42s\n",
      "275:\tlearn: 0.0487401\ttotal: 2.44s\tremaining: 6.41s\n",
      "276:\tlearn: 0.0484551\ttotal: 2.45s\tremaining: 6.4s\n",
      "277:\tlearn: 0.0481828\ttotal: 2.46s\tremaining: 6.38s\n",
      "278:\tlearn: 0.0480677\ttotal: 2.46s\tremaining: 6.37s\n",
      "279:\tlearn: 0.0479978\ttotal: 2.48s\tremaining: 6.37s\n",
      "280:\tlearn: 0.0479485\ttotal: 2.49s\tremaining: 6.37s\n",
      "281:\tlearn: 0.0478209\ttotal: 2.5s\tremaining: 6.37s\n",
      "282:\tlearn: 0.0474817\ttotal: 2.52s\tremaining: 6.37s\n",
      "283:\tlearn: 0.0472947\ttotal: 2.52s\tremaining: 6.36s\n",
      "284:\tlearn: 0.0472175\ttotal: 2.53s\tremaining: 6.35s\n",
      "285:\tlearn: 0.0470920\ttotal: 2.55s\tremaining: 6.37s\n",
      "286:\tlearn: 0.0469364\ttotal: 2.56s\tremaining: 6.36s\n",
      "287:\tlearn: 0.0468360\ttotal: 2.56s\tremaining: 6.34s\n",
      "288:\tlearn: 0.0467874\ttotal: 2.57s\tremaining: 6.33s\n",
      "289:\tlearn: 0.0466209\ttotal: 2.58s\tremaining: 6.32s\n",
      "290:\tlearn: 0.0465335\ttotal: 2.59s\tremaining: 6.31s\n",
      "291:\tlearn: 0.0463840\ttotal: 2.6s\tremaining: 6.3s\n",
      "292:\tlearn: 0.0462817\ttotal: 2.61s\tremaining: 6.29s\n",
      "293:\tlearn: 0.0460473\ttotal: 2.62s\tremaining: 6.29s\n",
      "294:\tlearn: 0.0459060\ttotal: 2.63s\tremaining: 6.28s\n",
      "295:\tlearn: 0.0457127\ttotal: 2.64s\tremaining: 6.27s\n",
      "296:\tlearn: 0.0455666\ttotal: 2.65s\tremaining: 6.27s\n",
      "297:\tlearn: 0.0454205\ttotal: 2.66s\tremaining: 6.26s\n",
      "298:\tlearn: 0.0452928\ttotal: 2.67s\tremaining: 6.26s\n",
      "299:\tlearn: 0.0452532\ttotal: 2.68s\tremaining: 6.26s\n",
      "300:\tlearn: 0.0450857\ttotal: 2.69s\tremaining: 6.25s\n",
      "301:\tlearn: 0.0450150\ttotal: 2.71s\tremaining: 6.25s\n",
      "302:\tlearn: 0.0448991\ttotal: 2.71s\tremaining: 6.24s\n",
      "303:\tlearn: 0.0447195\ttotal: 2.72s\tremaining: 6.23s\n",
      "304:\tlearn: 0.0446028\ttotal: 2.73s\tremaining: 6.21s\n",
      "305:\tlearn: 0.0445277\ttotal: 2.73s\tremaining: 6.2s\n",
      "306:\tlearn: 0.0444262\ttotal: 2.74s\tremaining: 6.19s\n",
      "307:\tlearn: 0.0442211\ttotal: 2.75s\tremaining: 6.17s\n",
      "308:\tlearn: 0.0441334\ttotal: 2.75s\tremaining: 6.16s\n",
      "309:\tlearn: 0.0439808\ttotal: 2.76s\tremaining: 6.15s\n",
      "310:\tlearn: 0.0438877\ttotal: 2.77s\tremaining: 6.13s\n",
      "311:\tlearn: 0.0436907\ttotal: 2.78s\tremaining: 6.13s\n",
      "312:\tlearn: 0.0435185\ttotal: 2.8s\tremaining: 6.14s\n",
      "313:\tlearn: 0.0434063\ttotal: 2.81s\tremaining: 6.13s\n",
      "314:\tlearn: 0.0432752\ttotal: 2.81s\tremaining: 6.12s\n",
      "315:\tlearn: 0.0431633\ttotal: 2.83s\tremaining: 6.12s\n",
      "316:\tlearn: 0.0430676\ttotal: 2.84s\tremaining: 6.12s\n",
      "317:\tlearn: 0.0429220\ttotal: 2.85s\tremaining: 6.11s\n",
      "318:\tlearn: 0.0428253\ttotal: 2.86s\tremaining: 6.1s\n",
      "319:\tlearn: 0.0426230\ttotal: 2.87s\tremaining: 6.1s\n",
      "320:\tlearn: 0.0425161\ttotal: 2.89s\tremaining: 6.12s\n",
      "321:\tlearn: 0.0423189\ttotal: 2.91s\tremaining: 6.12s\n",
      "322:\tlearn: 0.0421964\ttotal: 2.92s\tremaining: 6.11s\n",
      "323:\tlearn: 0.0419915\ttotal: 2.92s\tremaining: 6.1s\n",
      "324:\tlearn: 0.0417967\ttotal: 2.93s\tremaining: 6.08s\n",
      "325:\tlearn: 0.0416823\ttotal: 2.94s\tremaining: 6.07s\n",
      "326:\tlearn: 0.0415893\ttotal: 2.94s\tremaining: 6.06s\n",
      "327:\tlearn: 0.0414479\ttotal: 2.95s\tremaining: 6.04s\n",
      "328:\tlearn: 0.0413454\ttotal: 2.96s\tremaining: 6.03s\n",
      "329:\tlearn: 0.0413050\ttotal: 2.96s\tremaining: 6.02s\n",
      "330:\tlearn: 0.0412542\ttotal: 2.97s\tremaining: 6s\n",
      "331:\tlearn: 0.0410963\ttotal: 2.98s\tremaining: 6s\n",
      "332:\tlearn: 0.0409534\ttotal: 2.98s\tremaining: 5.98s\n",
      "333:\tlearn: 0.0408841\ttotal: 3s\tremaining: 5.97s\n",
      "334:\tlearn: 0.0407262\ttotal: 3s\tremaining: 5.96s\n",
      "335:\tlearn: 0.0405826\ttotal: 3.01s\tremaining: 5.95s\n",
      "336:\tlearn: 0.0403730\ttotal: 3.02s\tremaining: 5.94s\n",
      "337:\tlearn: 0.0402609\ttotal: 3.03s\tremaining: 5.93s\n",
      "338:\tlearn: 0.0402186\ttotal: 3.03s\tremaining: 5.91s\n",
      "339:\tlearn: 0.0401155\ttotal: 3.04s\tremaining: 5.91s\n",
      "340:\tlearn: 0.0399612\ttotal: 3.05s\tremaining: 5.9s\n",
      "341:\tlearn: 0.0398397\ttotal: 3.06s\tremaining: 5.89s\n",
      "342:\tlearn: 0.0397852\ttotal: 3.07s\tremaining: 5.89s\n",
      "343:\tlearn: 0.0397139\ttotal: 3.09s\tremaining: 5.89s\n",
      "344:\tlearn: 0.0396146\ttotal: 3.1s\tremaining: 5.89s\n",
      "345:\tlearn: 0.0394549\ttotal: 3.12s\tremaining: 5.89s\n",
      "346:\tlearn: 0.0393993\ttotal: 3.12s\tremaining: 5.88s\n",
      "347:\tlearn: 0.0392832\ttotal: 3.14s\tremaining: 5.88s\n",
      "348:\tlearn: 0.0392479\ttotal: 3.15s\tremaining: 5.87s\n",
      "349:\tlearn: 0.0391446\ttotal: 3.16s\tremaining: 5.86s\n",
      "350:\tlearn: 0.0390305\ttotal: 3.17s\tremaining: 5.86s\n",
      "351:\tlearn: 0.0389754\ttotal: 3.18s\tremaining: 5.85s\n",
      "352:\tlearn: 0.0388296\ttotal: 3.19s\tremaining: 5.84s\n",
      "353:\tlearn: 0.0387268\ttotal: 3.2s\tremaining: 5.83s\n",
      "354:\tlearn: 0.0386706\ttotal: 3.2s\tremaining: 5.82s\n",
      "355:\tlearn: 0.0384579\ttotal: 3.21s\tremaining: 5.81s\n",
      "356:\tlearn: 0.0383954\ttotal: 3.21s\tremaining: 5.79s\n",
      "357:\tlearn: 0.0382775\ttotal: 3.22s\tremaining: 5.78s\n",
      "358:\tlearn: 0.0382093\ttotal: 3.23s\tremaining: 5.76s\n",
      "359:\tlearn: 0.0381268\ttotal: 3.23s\tremaining: 5.75s\n",
      "360:\tlearn: 0.0379264\ttotal: 3.24s\tremaining: 5.74s\n",
      "361:\tlearn: 0.0378858\ttotal: 3.25s\tremaining: 5.72s\n",
      "362:\tlearn: 0.0376828\ttotal: 3.25s\tremaining: 5.71s\n",
      "363:\tlearn: 0.0375865\ttotal: 3.26s\tremaining: 5.7s\n",
      "364:\tlearn: 0.0374888\ttotal: 3.27s\tremaining: 5.69s\n",
      "365:\tlearn: 0.0373724\ttotal: 3.27s\tremaining: 5.67s\n",
      "366:\tlearn: 0.0372493\ttotal: 3.28s\tremaining: 5.66s\n",
      "367:\tlearn: 0.0371525\ttotal: 3.29s\tremaining: 5.65s\n",
      "368:\tlearn: 0.0370389\ttotal: 3.29s\tremaining: 5.64s\n",
      "369:\tlearn: 0.0369501\ttotal: 3.3s\tremaining: 5.62s\n",
      "370:\tlearn: 0.0368896\ttotal: 3.31s\tremaining: 5.61s\n",
      "371:\tlearn: 0.0367653\ttotal: 3.32s\tremaining: 5.6s\n",
      "372:\tlearn: 0.0367089\ttotal: 3.32s\tremaining: 5.58s\n",
      "373:\tlearn: 0.0366641\ttotal: 3.33s\tremaining: 5.57s\n",
      "374:\tlearn: 0.0363856\ttotal: 3.33s\tremaining: 5.56s\n",
      "375:\tlearn: 0.0362818\ttotal: 3.34s\tremaining: 5.54s\n",
      "376:\tlearn: 0.0361360\ttotal: 3.35s\tremaining: 5.53s\n",
      "377:\tlearn: 0.0359944\ttotal: 3.35s\tremaining: 5.52s\n",
      "378:\tlearn: 0.0358351\ttotal: 3.36s\tremaining: 5.5s\n",
      "379:\tlearn: 0.0357623\ttotal: 3.37s\tremaining: 5.49s\n",
      "380:\tlearn: 0.0356629\ttotal: 3.37s\tremaining: 5.48s\n",
      "381:\tlearn: 0.0355697\ttotal: 3.38s\tremaining: 5.46s\n",
      "382:\tlearn: 0.0354906\ttotal: 3.38s\tremaining: 5.45s\n",
      "383:\tlearn: 0.0353570\ttotal: 3.39s\tremaining: 5.44s\n",
      "384:\tlearn: 0.0352067\ttotal: 3.4s\tremaining: 5.43s\n",
      "385:\tlearn: 0.0351405\ttotal: 3.4s\tremaining: 5.42s\n",
      "386:\tlearn: 0.0350429\ttotal: 3.41s\tremaining: 5.41s\n",
      "387:\tlearn: 0.0349123\ttotal: 3.42s\tremaining: 5.39s\n",
      "388:\tlearn: 0.0348161\ttotal: 3.42s\tremaining: 5.38s\n",
      "389:\tlearn: 0.0347405\ttotal: 3.43s\tremaining: 5.37s\n",
      "390:\tlearn: 0.0346322\ttotal: 3.45s\tremaining: 5.38s\n",
      "391:\tlearn: 0.0345316\ttotal: 3.46s\tremaining: 5.37s\n",
      "392:\tlearn: 0.0344386\ttotal: 3.47s\tremaining: 5.36s\n",
      "393:\tlearn: 0.0342913\ttotal: 3.48s\tremaining: 5.35s\n",
      "394:\tlearn: 0.0341722\ttotal: 3.48s\tremaining: 5.33s\n",
      "395:\tlearn: 0.0341229\ttotal: 3.49s\tremaining: 5.32s\n",
      "396:\tlearn: 0.0340593\ttotal: 3.5s\tremaining: 5.31s\n",
      "397:\tlearn: 0.0339285\ttotal: 3.5s\tremaining: 5.3s\n",
      "398:\tlearn: 0.0337938\ttotal: 3.51s\tremaining: 5.28s\n",
      "399:\tlearn: 0.0336672\ttotal: 3.51s\tremaining: 5.27s\n",
      "400:\tlearn: 0.0336086\ttotal: 3.52s\tremaining: 5.26s\n",
      "401:\tlearn: 0.0335794\ttotal: 3.53s\tremaining: 5.25s\n",
      "402:\tlearn: 0.0334842\ttotal: 3.53s\tremaining: 5.23s\n",
      "403:\tlearn: 0.0334051\ttotal: 3.54s\tremaining: 5.22s\n",
      "404:\tlearn: 0.0332884\ttotal: 3.54s\tremaining: 5.21s\n",
      "405:\tlearn: 0.0332003\ttotal: 3.55s\tremaining: 5.2s\n",
      "406:\tlearn: 0.0330593\ttotal: 3.56s\tremaining: 5.19s\n",
      "407:\tlearn: 0.0329588\ttotal: 3.56s\tremaining: 5.17s\n",
      "408:\tlearn: 0.0328882\ttotal: 3.57s\tremaining: 5.16s\n",
      "409:\tlearn: 0.0327712\ttotal: 3.58s\tremaining: 5.15s\n",
      "410:\tlearn: 0.0326251\ttotal: 3.58s\tremaining: 5.13s\n",
      "411:\tlearn: 0.0325399\ttotal: 3.59s\tremaining: 5.12s\n",
      "412:\tlearn: 0.0324846\ttotal: 3.59s\tremaining: 5.11s\n",
      "413:\tlearn: 0.0324227\ttotal: 3.6s\tremaining: 5.1s\n",
      "414:\tlearn: 0.0323419\ttotal: 3.61s\tremaining: 5.08s\n",
      "415:\tlearn: 0.0322737\ttotal: 3.61s\tremaining: 5.07s\n",
      "416:\tlearn: 0.0322447\ttotal: 3.62s\tremaining: 5.06s\n",
      "417:\tlearn: 0.0321632\ttotal: 3.62s\tremaining: 5.05s\n",
      "418:\tlearn: 0.0320047\ttotal: 3.64s\tremaining: 5.04s\n",
      "419:\tlearn: 0.0318833\ttotal: 3.64s\tremaining: 5.03s\n",
      "420:\tlearn: 0.0318419\ttotal: 3.65s\tremaining: 5.02s\n",
      "421:\tlearn: 0.0317733\ttotal: 3.65s\tremaining: 5.01s\n",
      "422:\tlearn: 0.0316052\ttotal: 3.66s\tremaining: 5s\n",
      "423:\tlearn: 0.0314985\ttotal: 3.67s\tremaining: 4.98s\n",
      "424:\tlearn: 0.0314107\ttotal: 3.68s\tremaining: 4.97s\n",
      "425:\tlearn: 0.0312943\ttotal: 3.68s\tremaining: 4.96s\n",
      "426:\tlearn: 0.0311810\ttotal: 3.69s\tremaining: 4.95s\n",
      "427:\tlearn: 0.0311160\ttotal: 3.7s\tremaining: 4.94s\n",
      "428:\tlearn: 0.0310894\ttotal: 3.7s\tremaining: 4.93s\n",
      "429:\tlearn: 0.0310510\ttotal: 3.71s\tremaining: 4.92s\n",
      "430:\tlearn: 0.0309914\ttotal: 3.71s\tremaining: 4.9s\n",
      "431:\tlearn: 0.0309379\ttotal: 3.72s\tremaining: 4.89s\n",
      "432:\tlearn: 0.0307966\ttotal: 3.73s\tremaining: 4.88s\n",
      "433:\tlearn: 0.0307389\ttotal: 3.73s\tremaining: 4.87s\n",
      "434:\tlearn: 0.0306352\ttotal: 3.74s\tremaining: 4.86s\n",
      "435:\tlearn: 0.0305429\ttotal: 3.75s\tremaining: 4.85s\n",
      "436:\tlearn: 0.0304397\ttotal: 3.75s\tremaining: 4.83s\n",
      "437:\tlearn: 0.0304076\ttotal: 3.76s\tremaining: 4.82s\n",
      "438:\tlearn: 0.0302872\ttotal: 3.76s\tremaining: 4.81s\n",
      "439:\tlearn: 0.0302133\ttotal: 3.77s\tremaining: 4.8s\n",
      "440:\tlearn: 0.0300885\ttotal: 3.78s\tremaining: 4.79s\n",
      "441:\tlearn: 0.0300187\ttotal: 3.79s\tremaining: 4.78s\n",
      "442:\tlearn: 0.0299513\ttotal: 3.79s\tremaining: 4.77s\n",
      "443:\tlearn: 0.0299032\ttotal: 3.8s\tremaining: 4.76s\n",
      "444:\tlearn: 0.0298291\ttotal: 3.81s\tremaining: 4.75s\n",
      "445:\tlearn: 0.0297472\ttotal: 3.81s\tremaining: 4.74s\n",
      "446:\tlearn: 0.0296442\ttotal: 3.82s\tremaining: 4.72s\n",
      "447:\tlearn: 0.0295740\ttotal: 3.82s\tremaining: 4.71s\n",
      "448:\tlearn: 0.0295196\ttotal: 3.83s\tremaining: 4.7s\n",
      "449:\tlearn: 0.0294404\ttotal: 3.84s\tremaining: 4.69s\n",
      "450:\tlearn: 0.0294140\ttotal: 3.84s\tremaining: 4.68s\n",
      "451:\tlearn: 0.0293821\ttotal: 3.85s\tremaining: 4.67s\n",
      "452:\tlearn: 0.0293111\ttotal: 3.85s\tremaining: 4.65s\n",
      "453:\tlearn: 0.0292664\ttotal: 3.86s\tremaining: 4.64s\n",
      "454:\tlearn: 0.0291962\ttotal: 3.87s\tremaining: 4.63s\n",
      "455:\tlearn: 0.0291146\ttotal: 3.87s\tremaining: 4.62s\n",
      "456:\tlearn: 0.0290492\ttotal: 3.88s\tremaining: 4.61s\n",
      "457:\tlearn: 0.0289818\ttotal: 3.88s\tremaining: 4.59s\n",
      "458:\tlearn: 0.0288836\ttotal: 3.89s\tremaining: 4.58s\n",
      "459:\tlearn: 0.0287808\ttotal: 3.89s\tremaining: 4.57s\n",
      "460:\tlearn: 0.0287427\ttotal: 3.9s\tremaining: 4.56s\n",
      "461:\tlearn: 0.0286972\ttotal: 3.9s\tremaining: 4.55s\n",
      "462:\tlearn: 0.0286255\ttotal: 3.91s\tremaining: 4.54s\n",
      "463:\tlearn: 0.0285767\ttotal: 3.92s\tremaining: 4.52s\n",
      "464:\tlearn: 0.0284614\ttotal: 3.92s\tremaining: 4.51s\n",
      "465:\tlearn: 0.0283501\ttotal: 3.93s\tremaining: 4.5s\n",
      "466:\tlearn: 0.0283002\ttotal: 3.93s\tremaining: 4.49s\n",
      "467:\tlearn: 0.0282661\ttotal: 3.94s\tremaining: 4.48s\n",
      "468:\tlearn: 0.0282040\ttotal: 3.95s\tremaining: 4.47s\n",
      "469:\tlearn: 0.0281190\ttotal: 3.95s\tremaining: 4.46s\n",
      "470:\tlearn: 0.0280404\ttotal: 3.96s\tremaining: 4.45s\n",
      "471:\tlearn: 0.0279550\ttotal: 3.96s\tremaining: 4.43s\n",
      "472:\tlearn: 0.0278893\ttotal: 3.97s\tremaining: 4.42s\n",
      "473:\tlearn: 0.0278046\ttotal: 3.98s\tremaining: 4.41s\n",
      "474:\tlearn: 0.0277599\ttotal: 3.98s\tremaining: 4.4s\n",
      "475:\tlearn: 0.0276675\ttotal: 3.99s\tremaining: 4.39s\n",
      "476:\tlearn: 0.0276003\ttotal: 3.99s\tremaining: 4.38s\n",
      "477:\tlearn: 0.0275343\ttotal: 4s\tremaining: 4.37s\n",
      "478:\tlearn: 0.0274609\ttotal: 4s\tremaining: 4.36s\n",
      "479:\tlearn: 0.0273251\ttotal: 4.01s\tremaining: 4.35s\n",
      "480:\tlearn: 0.0272229\ttotal: 4.02s\tremaining: 4.34s\n",
      "481:\tlearn: 0.0271823\ttotal: 4.03s\tremaining: 4.33s\n",
      "482:\tlearn: 0.0271155\ttotal: 4.03s\tremaining: 4.32s\n",
      "483:\tlearn: 0.0270264\ttotal: 4.04s\tremaining: 4.31s\n",
      "484:\tlearn: 0.0269733\ttotal: 4.04s\tremaining: 4.3s\n",
      "485:\tlearn: 0.0268975\ttotal: 4.05s\tremaining: 4.29s\n",
      "486:\tlearn: 0.0268364\ttotal: 4.06s\tremaining: 4.28s\n",
      "487:\tlearn: 0.0268018\ttotal: 4.07s\tremaining: 4.26s\n",
      "488:\tlearn: 0.0267161\ttotal: 4.07s\tremaining: 4.26s\n",
      "489:\tlearn: 0.0266759\ttotal: 4.08s\tremaining: 4.25s\n",
      "490:\tlearn: 0.0266191\ttotal: 4.09s\tremaining: 4.24s\n",
      "491:\tlearn: 0.0265758\ttotal: 4.09s\tremaining: 4.23s\n",
      "492:\tlearn: 0.0265241\ttotal: 4.1s\tremaining: 4.22s\n",
      "493:\tlearn: 0.0264961\ttotal: 4.11s\tremaining: 4.21s\n",
      "494:\tlearn: 0.0264562\ttotal: 4.12s\tremaining: 4.2s\n",
      "495:\tlearn: 0.0264095\ttotal: 4.12s\tremaining: 4.19s\n",
      "496:\tlearn: 0.0263570\ttotal: 4.13s\tremaining: 4.18s\n",
      "497:\tlearn: 0.0263132\ttotal: 4.13s\tremaining: 4.17s\n",
      "498:\tlearn: 0.0262786\ttotal: 4.14s\tremaining: 4.16s\n",
      "499:\tlearn: 0.0262329\ttotal: 4.15s\tremaining: 4.15s\n",
      "500:\tlearn: 0.0261503\ttotal: 4.16s\tremaining: 4.14s\n",
      "501:\tlearn: 0.0260671\ttotal: 4.16s\tremaining: 4.13s\n",
      "502:\tlearn: 0.0259992\ttotal: 4.17s\tremaining: 4.12s\n",
      "503:\tlearn: 0.0259506\ttotal: 4.18s\tremaining: 4.11s\n",
      "504:\tlearn: 0.0259257\ttotal: 4.18s\tremaining: 4.1s\n",
      "505:\tlearn: 0.0257277\ttotal: 4.19s\tremaining: 4.09s\n",
      "506:\tlearn: 0.0256468\ttotal: 4.2s\tremaining: 4.08s\n",
      "507:\tlearn: 0.0255855\ttotal: 4.21s\tremaining: 4.07s\n",
      "508:\tlearn: 0.0255352\ttotal: 4.21s\tremaining: 4.06s\n",
      "509:\tlearn: 0.0254281\ttotal: 4.22s\tremaining: 4.05s\n",
      "510:\tlearn: 0.0253964\ttotal: 4.23s\tremaining: 4.05s\n",
      "511:\tlearn: 0.0253376\ttotal: 4.24s\tremaining: 4.04s\n",
      "512:\tlearn: 0.0252754\ttotal: 4.25s\tremaining: 4.03s\n",
      "513:\tlearn: 0.0251899\ttotal: 4.25s\tremaining: 4.02s\n",
      "514:\tlearn: 0.0251147\ttotal: 4.26s\tremaining: 4.01s\n",
      "515:\tlearn: 0.0250600\ttotal: 4.27s\tremaining: 4.01s\n",
      "516:\tlearn: 0.0249998\ttotal: 4.29s\tremaining: 4s\n",
      "517:\tlearn: 0.0249520\ttotal: 4.3s\tremaining: 4s\n",
      "518:\tlearn: 0.0249204\ttotal: 4.31s\tremaining: 4s\n",
      "519:\tlearn: 0.0248713\ttotal: 4.32s\tremaining: 3.99s\n",
      "520:\tlearn: 0.0248037\ttotal: 4.33s\tremaining: 3.98s\n",
      "521:\tlearn: 0.0247460\ttotal: 4.34s\tremaining: 3.98s\n",
      "522:\tlearn: 0.0246954\ttotal: 4.35s\tremaining: 3.97s\n",
      "523:\tlearn: 0.0246749\ttotal: 4.36s\tremaining: 3.96s\n",
      "524:\tlearn: 0.0246310\ttotal: 4.37s\tremaining: 3.96s\n",
      "525:\tlearn: 0.0245926\ttotal: 4.38s\tremaining: 3.95s\n",
      "526:\tlearn: 0.0245272\ttotal: 4.39s\tremaining: 3.94s\n",
      "527:\tlearn: 0.0244473\ttotal: 4.4s\tremaining: 3.93s\n",
      "528:\tlearn: 0.0244058\ttotal: 4.41s\tremaining: 3.93s\n",
      "529:\tlearn: 0.0243472\ttotal: 4.42s\tremaining: 3.92s\n",
      "530:\tlearn: 0.0241813\ttotal: 4.45s\tremaining: 3.93s\n",
      "531:\tlearn: 0.0241660\ttotal: 4.47s\tremaining: 3.93s\n",
      "532:\tlearn: 0.0241227\ttotal: 4.48s\tremaining: 3.93s\n",
      "533:\tlearn: 0.0240626\ttotal: 4.49s\tremaining: 3.92s\n",
      "534:\tlearn: 0.0240050\ttotal: 4.5s\tremaining: 3.91s\n",
      "535:\tlearn: 0.0239561\ttotal: 4.5s\tremaining: 3.9s\n",
      "536:\tlearn: 0.0239165\ttotal: 4.51s\tremaining: 3.89s\n",
      "537:\tlearn: 0.0238730\ttotal: 4.52s\tremaining: 3.88s\n",
      "538:\tlearn: 0.0238328\ttotal: 4.53s\tremaining: 3.87s\n",
      "539:\tlearn: 0.0237853\ttotal: 4.54s\tremaining: 3.87s\n",
      "540:\tlearn: 0.0237665\ttotal: 4.54s\tremaining: 3.86s\n",
      "541:\tlearn: 0.0237165\ttotal: 4.56s\tremaining: 3.85s\n",
      "542:\tlearn: 0.0236615\ttotal: 4.57s\tremaining: 3.84s\n",
      "543:\tlearn: 0.0236013\ttotal: 4.58s\tremaining: 3.84s\n",
      "544:\tlearn: 0.0235173\ttotal: 4.59s\tremaining: 3.83s\n",
      "545:\tlearn: 0.0234858\ttotal: 4.59s\tremaining: 3.82s\n",
      "546:\tlearn: 0.0234610\ttotal: 4.6s\tremaining: 3.81s\n",
      "547:\tlearn: 0.0234221\ttotal: 4.61s\tremaining: 3.8s\n",
      "548:\tlearn: 0.0233950\ttotal: 4.62s\tremaining: 3.79s\n",
      "549:\tlearn: 0.0233635\ttotal: 4.63s\tremaining: 3.79s\n",
      "550:\tlearn: 0.0233156\ttotal: 4.64s\tremaining: 3.78s\n",
      "551:\tlearn: 0.0232544\ttotal: 4.65s\tremaining: 3.77s\n",
      "552:\tlearn: 0.0232407\ttotal: 4.65s\tremaining: 3.76s\n",
      "553:\tlearn: 0.0231974\ttotal: 4.66s\tremaining: 3.75s\n",
      "554:\tlearn: 0.0231381\ttotal: 4.67s\tremaining: 3.75s\n",
      "555:\tlearn: 0.0230594\ttotal: 4.68s\tremaining: 3.74s\n",
      "556:\tlearn: 0.0230426\ttotal: 4.69s\tremaining: 3.73s\n",
      "557:\tlearn: 0.0229379\ttotal: 4.7s\tremaining: 3.72s\n",
      "558:\tlearn: 0.0228843\ttotal: 4.7s\tremaining: 3.71s\n",
      "559:\tlearn: 0.0228395\ttotal: 4.71s\tremaining: 3.7s\n",
      "560:\tlearn: 0.0228082\ttotal: 4.72s\tremaining: 3.69s\n",
      "561:\tlearn: 0.0227729\ttotal: 4.72s\tremaining: 3.68s\n",
      "562:\tlearn: 0.0227201\ttotal: 4.74s\tremaining: 3.68s\n",
      "563:\tlearn: 0.0226804\ttotal: 4.75s\tremaining: 3.67s\n",
      "564:\tlearn: 0.0226283\ttotal: 4.76s\tremaining: 3.66s\n",
      "565:\tlearn: 0.0226009\ttotal: 4.77s\tremaining: 3.66s\n",
      "566:\tlearn: 0.0225715\ttotal: 4.79s\tremaining: 3.66s\n",
      "567:\tlearn: 0.0225359\ttotal: 4.8s\tremaining: 3.65s\n",
      "568:\tlearn: 0.0225113\ttotal: 4.81s\tremaining: 3.64s\n",
      "569:\tlearn: 0.0224613\ttotal: 4.82s\tremaining: 3.64s\n",
      "570:\tlearn: 0.0224180\ttotal: 4.83s\tremaining: 3.63s\n",
      "571:\tlearn: 0.0224018\ttotal: 4.85s\tremaining: 3.63s\n",
      "572:\tlearn: 0.0223478\ttotal: 4.86s\tremaining: 3.62s\n",
      "573:\tlearn: 0.0222911\ttotal: 4.88s\tremaining: 3.62s\n",
      "574:\tlearn: 0.0222478\ttotal: 4.88s\tremaining: 3.61s\n",
      "575:\tlearn: 0.0221925\ttotal: 4.89s\tremaining: 3.6s\n",
      "576:\tlearn: 0.0221037\ttotal: 4.91s\tremaining: 3.6s\n",
      "577:\tlearn: 0.0220271\ttotal: 4.92s\tremaining: 3.59s\n",
      "578:\tlearn: 0.0219856\ttotal: 4.93s\tremaining: 3.58s\n",
      "579:\tlearn: 0.0219231\ttotal: 4.94s\tremaining: 3.58s\n",
      "580:\tlearn: 0.0218925\ttotal: 4.95s\tremaining: 3.57s\n",
      "581:\tlearn: 0.0218736\ttotal: 4.96s\tremaining: 3.56s\n",
      "582:\tlearn: 0.0218478\ttotal: 4.97s\tremaining: 3.56s\n",
      "583:\tlearn: 0.0218051\ttotal: 4.98s\tremaining: 3.55s\n",
      "584:\tlearn: 0.0217283\ttotal: 4.99s\tremaining: 3.54s\n",
      "585:\tlearn: 0.0216844\ttotal: 5s\tremaining: 3.53s\n",
      "586:\tlearn: 0.0216049\ttotal: 5.01s\tremaining: 3.53s\n",
      "587:\tlearn: 0.0215745\ttotal: 5.02s\tremaining: 3.52s\n",
      "588:\tlearn: 0.0215570\ttotal: 5.03s\tremaining: 3.51s\n",
      "589:\tlearn: 0.0215115\ttotal: 5.03s\tremaining: 3.5s\n",
      "590:\tlearn: 0.0214576\ttotal: 5.04s\tremaining: 3.49s\n",
      "591:\tlearn: 0.0213896\ttotal: 5.05s\tremaining: 3.48s\n",
      "592:\tlearn: 0.0213605\ttotal: 5.05s\tremaining: 3.47s\n",
      "593:\tlearn: 0.0213248\ttotal: 5.06s\tremaining: 3.46s\n",
      "594:\tlearn: 0.0212610\ttotal: 5.07s\tremaining: 3.45s\n",
      "595:\tlearn: 0.0212395\ttotal: 5.08s\tremaining: 3.44s\n",
      "596:\tlearn: 0.0212159\ttotal: 5.08s\tremaining: 3.43s\n",
      "597:\tlearn: 0.0211778\ttotal: 5.09s\tremaining: 3.42s\n",
      "598:\tlearn: 0.0211236\ttotal: 5.09s\tremaining: 3.41s\n",
      "599:\tlearn: 0.0210494\ttotal: 5.1s\tremaining: 3.4s\n",
      "600:\tlearn: 0.0209817\ttotal: 5.11s\tremaining: 3.39s\n",
      "601:\tlearn: 0.0209544\ttotal: 5.12s\tremaining: 3.38s\n",
      "602:\tlearn: 0.0209248\ttotal: 5.13s\tremaining: 3.37s\n",
      "603:\tlearn: 0.0208616\ttotal: 5.13s\tremaining: 3.37s\n",
      "604:\tlearn: 0.0208209\ttotal: 5.14s\tremaining: 3.36s\n",
      "605:\tlearn: 0.0207862\ttotal: 5.16s\tremaining: 3.35s\n",
      "606:\tlearn: 0.0207302\ttotal: 5.17s\tremaining: 3.35s\n",
      "607:\tlearn: 0.0206606\ttotal: 5.18s\tremaining: 3.34s\n",
      "608:\tlearn: 0.0206383\ttotal: 5.18s\tremaining: 3.33s\n",
      "609:\tlearn: 0.0205922\ttotal: 5.2s\tremaining: 3.32s\n",
      "610:\tlearn: 0.0205711\ttotal: 5.21s\tremaining: 3.31s\n",
      "611:\tlearn: 0.0205333\ttotal: 5.21s\tremaining: 3.31s\n",
      "612:\tlearn: 0.0205002\ttotal: 5.22s\tremaining: 3.3s\n",
      "613:\tlearn: 0.0204432\ttotal: 5.23s\tremaining: 3.29s\n",
      "614:\tlearn: 0.0204188\ttotal: 5.24s\tremaining: 3.28s\n",
      "615:\tlearn: 0.0204070\ttotal: 5.25s\tremaining: 3.27s\n",
      "616:\tlearn: 0.0203850\ttotal: 5.25s\tremaining: 3.26s\n",
      "617:\tlearn: 0.0203449\ttotal: 5.26s\tremaining: 3.25s\n",
      "618:\tlearn: 0.0203300\ttotal: 5.27s\tremaining: 3.24s\n",
      "619:\tlearn: 0.0203151\ttotal: 5.27s\tremaining: 3.23s\n",
      "620:\tlearn: 0.0202874\ttotal: 5.28s\tremaining: 3.22s\n",
      "621:\tlearn: 0.0202391\ttotal: 5.29s\tremaining: 3.21s\n",
      "622:\tlearn: 0.0202226\ttotal: 5.29s\tremaining: 3.2s\n",
      "623:\tlearn: 0.0201941\ttotal: 5.3s\tremaining: 3.19s\n",
      "624:\tlearn: 0.0201731\ttotal: 5.3s\tremaining: 3.18s\n",
      "625:\tlearn: 0.0201235\ttotal: 5.31s\tremaining: 3.17s\n",
      "626:\tlearn: 0.0201110\ttotal: 5.32s\tremaining: 3.16s\n",
      "627:\tlearn: 0.0200759\ttotal: 5.32s\tremaining: 3.15s\n",
      "628:\tlearn: 0.0200381\ttotal: 5.33s\tremaining: 3.14s\n",
      "629:\tlearn: 0.0199881\ttotal: 5.33s\tremaining: 3.13s\n",
      "630:\tlearn: 0.0199330\ttotal: 5.34s\tremaining: 3.12s\n",
      "631:\tlearn: 0.0199031\ttotal: 5.35s\tremaining: 3.11s\n",
      "632:\tlearn: 0.0198527\ttotal: 5.36s\tremaining: 3.1s\n",
      "633:\tlearn: 0.0198334\ttotal: 5.36s\tremaining: 3.1s\n",
      "634:\tlearn: 0.0198030\ttotal: 5.37s\tremaining: 3.09s\n",
      "635:\tlearn: 0.0197737\ttotal: 5.38s\tremaining: 3.08s\n",
      "636:\tlearn: 0.0197036\ttotal: 5.39s\tremaining: 3.07s\n",
      "637:\tlearn: 0.0196767\ttotal: 5.4s\tremaining: 3.06s\n",
      "638:\tlearn: 0.0196338\ttotal: 5.4s\tremaining: 3.05s\n",
      "639:\tlearn: 0.0196031\ttotal: 5.41s\tremaining: 3.04s\n",
      "640:\tlearn: 0.0195922\ttotal: 5.42s\tremaining: 3.03s\n",
      "641:\tlearn: 0.0195072\ttotal: 5.42s\tremaining: 3.02s\n",
      "642:\tlearn: 0.0194788\ttotal: 5.43s\tremaining: 3.01s\n",
      "643:\tlearn: 0.0194654\ttotal: 5.43s\tremaining: 3s\n",
      "644:\tlearn: 0.0194147\ttotal: 5.44s\tremaining: 3s\n",
      "645:\tlearn: 0.0193968\ttotal: 5.45s\tremaining: 2.98s\n",
      "646:\tlearn: 0.0193459\ttotal: 5.45s\tremaining: 2.98s\n",
      "647:\tlearn: 0.0193080\ttotal: 5.46s\tremaining: 2.97s\n",
      "648:\tlearn: 0.0192552\ttotal: 5.47s\tremaining: 2.96s\n",
      "649:\tlearn: 0.0192424\ttotal: 5.47s\tremaining: 2.95s\n",
      "650:\tlearn: 0.0192136\ttotal: 5.48s\tremaining: 2.94s\n",
      "651:\tlearn: 0.0191722\ttotal: 5.49s\tremaining: 2.93s\n",
      "652:\tlearn: 0.0191397\ttotal: 5.49s\tremaining: 2.92s\n",
      "653:\tlearn: 0.0190897\ttotal: 5.5s\tremaining: 2.91s\n",
      "654:\tlearn: 0.0190664\ttotal: 5.5s\tremaining: 2.9s\n",
      "655:\tlearn: 0.0190202\ttotal: 5.51s\tremaining: 2.89s\n",
      "656:\tlearn: 0.0189978\ttotal: 5.52s\tremaining: 2.88s\n",
      "657:\tlearn: 0.0189796\ttotal: 5.52s\tremaining: 2.87s\n",
      "658:\tlearn: 0.0189282\ttotal: 5.53s\tremaining: 2.86s\n",
      "659:\tlearn: 0.0189025\ttotal: 5.54s\tremaining: 2.85s\n",
      "660:\tlearn: 0.0188882\ttotal: 5.54s\tremaining: 2.84s\n",
      "661:\tlearn: 0.0188614\ttotal: 5.55s\tremaining: 2.83s\n",
      "662:\tlearn: 0.0188346\ttotal: 5.56s\tremaining: 2.83s\n",
      "663:\tlearn: 0.0188094\ttotal: 5.56s\tremaining: 2.81s\n",
      "664:\tlearn: 0.0187802\ttotal: 5.57s\tremaining: 2.81s\n",
      "665:\tlearn: 0.0187356\ttotal: 5.58s\tremaining: 2.8s\n",
      "666:\tlearn: 0.0187141\ttotal: 5.58s\tremaining: 2.79s\n",
      "667:\tlearn: 0.0186744\ttotal: 5.59s\tremaining: 2.78s\n",
      "668:\tlearn: 0.0186329\ttotal: 5.59s\tremaining: 2.77s\n",
      "669:\tlearn: 0.0186221\ttotal: 5.6s\tremaining: 2.76s\n",
      "670:\tlearn: 0.0185861\ttotal: 5.61s\tremaining: 2.75s\n",
      "671:\tlearn: 0.0185571\ttotal: 5.61s\tremaining: 2.74s\n",
      "672:\tlearn: 0.0185187\ttotal: 5.62s\tremaining: 2.73s\n",
      "673:\tlearn: 0.0184646\ttotal: 5.63s\tremaining: 2.72s\n",
      "674:\tlearn: 0.0183935\ttotal: 5.63s\tremaining: 2.71s\n",
      "675:\tlearn: 0.0183728\ttotal: 5.64s\tremaining: 2.7s\n",
      "676:\tlearn: 0.0183292\ttotal: 5.64s\tremaining: 2.69s\n",
      "677:\tlearn: 0.0182990\ttotal: 5.65s\tremaining: 2.68s\n",
      "678:\tlearn: 0.0182853\ttotal: 5.66s\tremaining: 2.67s\n",
      "679:\tlearn: 0.0182575\ttotal: 5.67s\tremaining: 2.67s\n",
      "680:\tlearn: 0.0182395\ttotal: 5.68s\tremaining: 2.66s\n",
      "681:\tlearn: 0.0182151\ttotal: 5.68s\tremaining: 2.65s\n",
      "682:\tlearn: 0.0181930\ttotal: 5.69s\tremaining: 2.64s\n",
      "683:\tlearn: 0.0181699\ttotal: 5.7s\tremaining: 2.63s\n",
      "684:\tlearn: 0.0181307\ttotal: 5.7s\tremaining: 2.62s\n",
      "685:\tlearn: 0.0180821\ttotal: 5.71s\tremaining: 2.61s\n",
      "686:\tlearn: 0.0180452\ttotal: 5.71s\tremaining: 2.6s\n",
      "687:\tlearn: 0.0180313\ttotal: 5.72s\tremaining: 2.59s\n",
      "688:\tlearn: 0.0179874\ttotal: 5.73s\tremaining: 2.58s\n",
      "689:\tlearn: 0.0179525\ttotal: 5.73s\tremaining: 2.58s\n",
      "690:\tlearn: 0.0179191\ttotal: 5.74s\tremaining: 2.57s\n",
      "691:\tlearn: 0.0178795\ttotal: 5.75s\tremaining: 2.56s\n",
      "692:\tlearn: 0.0178576\ttotal: 5.75s\tremaining: 2.55s\n",
      "693:\tlearn: 0.0178320\ttotal: 5.76s\tremaining: 2.54s\n",
      "694:\tlearn: 0.0178192\ttotal: 5.77s\tremaining: 2.53s\n",
      "695:\tlearn: 0.0177902\ttotal: 5.77s\tremaining: 2.52s\n",
      "696:\tlearn: 0.0177643\ttotal: 5.78s\tremaining: 2.51s\n",
      "697:\tlearn: 0.0177449\ttotal: 5.79s\tremaining: 2.5s\n",
      "698:\tlearn: 0.0177206\ttotal: 5.79s\tremaining: 2.49s\n",
      "699:\tlearn: 0.0176881\ttotal: 5.8s\tremaining: 2.48s\n",
      "700:\tlearn: 0.0176695\ttotal: 5.8s\tremaining: 2.48s\n",
      "701:\tlearn: 0.0176458\ttotal: 5.81s\tremaining: 2.47s\n",
      "702:\tlearn: 0.0176214\ttotal: 5.82s\tremaining: 2.46s\n",
      "703:\tlearn: 0.0175809\ttotal: 5.82s\tremaining: 2.45s\n",
      "704:\tlearn: 0.0175680\ttotal: 5.83s\tremaining: 2.44s\n",
      "705:\tlearn: 0.0175501\ttotal: 5.84s\tremaining: 2.43s\n",
      "706:\tlearn: 0.0175332\ttotal: 5.84s\tremaining: 2.42s\n",
      "707:\tlearn: 0.0175080\ttotal: 5.85s\tremaining: 2.41s\n",
      "708:\tlearn: 0.0174760\ttotal: 5.85s\tremaining: 2.4s\n",
      "709:\tlearn: 0.0174566\ttotal: 5.86s\tremaining: 2.39s\n",
      "710:\tlearn: 0.0174394\ttotal: 5.87s\tremaining: 2.38s\n",
      "711:\tlearn: 0.0174072\ttotal: 5.87s\tremaining: 2.38s\n",
      "712:\tlearn: 0.0173674\ttotal: 5.88s\tremaining: 2.37s\n",
      "713:\tlearn: 0.0173350\ttotal: 5.88s\tremaining: 2.36s\n",
      "714:\tlearn: 0.0173020\ttotal: 5.89s\tremaining: 2.35s\n",
      "715:\tlearn: 0.0172596\ttotal: 5.89s\tremaining: 2.34s\n",
      "716:\tlearn: 0.0172227\ttotal: 5.9s\tremaining: 2.33s\n",
      "717:\tlearn: 0.0172122\ttotal: 5.91s\tremaining: 2.32s\n",
      "718:\tlearn: 0.0171949\ttotal: 5.91s\tremaining: 2.31s\n",
      "719:\tlearn: 0.0171744\ttotal: 5.92s\tremaining: 2.3s\n",
      "720:\tlearn: 0.0171543\ttotal: 5.92s\tremaining: 2.29s\n",
      "721:\tlearn: 0.0171389\ttotal: 5.93s\tremaining: 2.28s\n",
      "722:\tlearn: 0.0171289\ttotal: 5.94s\tremaining: 2.27s\n",
      "723:\tlearn: 0.0171122\ttotal: 5.94s\tremaining: 2.27s\n",
      "724:\tlearn: 0.0170941\ttotal: 5.95s\tremaining: 2.25s\n",
      "725:\tlearn: 0.0170740\ttotal: 5.95s\tremaining: 2.25s\n",
      "726:\tlearn: 0.0170444\ttotal: 5.96s\tremaining: 2.24s\n",
      "727:\tlearn: 0.0170144\ttotal: 5.96s\tremaining: 2.23s\n",
      "728:\tlearn: 0.0169888\ttotal: 5.97s\tremaining: 2.22s\n",
      "729:\tlearn: 0.0169651\ttotal: 5.98s\tremaining: 2.21s\n",
      "730:\tlearn: 0.0169090\ttotal: 5.98s\tremaining: 2.2s\n",
      "731:\tlearn: 0.0168739\ttotal: 5.99s\tremaining: 2.19s\n",
      "732:\tlearn: 0.0168424\ttotal: 6s\tremaining: 2.18s\n",
      "733:\tlearn: 0.0168205\ttotal: 6s\tremaining: 2.17s\n",
      "734:\tlearn: 0.0167656\ttotal: 6.01s\tremaining: 2.17s\n",
      "735:\tlearn: 0.0167341\ttotal: 6.01s\tremaining: 2.16s\n",
      "736:\tlearn: 0.0166968\ttotal: 6.02s\tremaining: 2.15s\n",
      "737:\tlearn: 0.0166666\ttotal: 6.03s\tremaining: 2.14s\n",
      "738:\tlearn: 0.0166244\ttotal: 6.04s\tremaining: 2.13s\n",
      "739:\tlearn: 0.0165976\ttotal: 6.04s\tremaining: 2.12s\n",
      "740:\tlearn: 0.0165849\ttotal: 6.05s\tremaining: 2.11s\n",
      "741:\tlearn: 0.0165642\ttotal: 6.05s\tremaining: 2.1s\n",
      "742:\tlearn: 0.0165184\ttotal: 6.06s\tremaining: 2.1s\n",
      "743:\tlearn: 0.0164792\ttotal: 6.07s\tremaining: 2.09s\n",
      "744:\tlearn: 0.0164399\ttotal: 6.07s\tremaining: 2.08s\n",
      "745:\tlearn: 0.0164039\ttotal: 6.08s\tremaining: 2.07s\n",
      "746:\tlearn: 0.0163573\ttotal: 6.09s\tremaining: 2.06s\n",
      "747:\tlearn: 0.0163322\ttotal: 6.09s\tremaining: 2.05s\n",
      "748:\tlearn: 0.0162996\ttotal: 6.1s\tremaining: 2.04s\n",
      "749:\tlearn: 0.0162696\ttotal: 6.11s\tremaining: 2.04s\n",
      "750:\tlearn: 0.0162577\ttotal: 6.12s\tremaining: 2.03s\n",
      "751:\tlearn: 0.0162394\ttotal: 6.13s\tremaining: 2.02s\n",
      "752:\tlearn: 0.0162285\ttotal: 6.13s\tremaining: 2.01s\n",
      "753:\tlearn: 0.0162138\ttotal: 6.14s\tremaining: 2s\n",
      "754:\tlearn: 0.0162001\ttotal: 6.14s\tremaining: 1.99s\n",
      "755:\tlearn: 0.0161706\ttotal: 6.15s\tremaining: 1.99s\n",
      "756:\tlearn: 0.0161470\ttotal: 6.16s\tremaining: 1.98s\n",
      "757:\tlearn: 0.0161215\ttotal: 6.16s\tremaining: 1.97s\n",
      "758:\tlearn: 0.0160966\ttotal: 6.17s\tremaining: 1.96s\n",
      "759:\tlearn: 0.0160823\ttotal: 6.17s\tremaining: 1.95s\n",
      "760:\tlearn: 0.0160551\ttotal: 6.18s\tremaining: 1.94s\n",
      "761:\tlearn: 0.0160398\ttotal: 6.19s\tremaining: 1.93s\n",
      "762:\tlearn: 0.0160161\ttotal: 6.19s\tremaining: 1.92s\n",
      "763:\tlearn: 0.0159657\ttotal: 6.2s\tremaining: 1.92s\n",
      "764:\tlearn: 0.0159343\ttotal: 6.21s\tremaining: 1.91s\n",
      "765:\tlearn: 0.0159109\ttotal: 6.21s\tremaining: 1.9s\n",
      "766:\tlearn: 0.0158726\ttotal: 6.22s\tremaining: 1.89s\n",
      "767:\tlearn: 0.0158414\ttotal: 6.22s\tremaining: 1.88s\n",
      "768:\tlearn: 0.0158171\ttotal: 6.23s\tremaining: 1.87s\n",
      "769:\tlearn: 0.0158032\ttotal: 6.24s\tremaining: 1.86s\n",
      "770:\tlearn: 0.0157896\ttotal: 6.24s\tremaining: 1.85s\n",
      "771:\tlearn: 0.0157626\ttotal: 6.25s\tremaining: 1.84s\n",
      "772:\tlearn: 0.0157404\ttotal: 6.25s\tremaining: 1.84s\n",
      "773:\tlearn: 0.0157107\ttotal: 6.26s\tremaining: 1.83s\n",
      "774:\tlearn: 0.0156795\ttotal: 6.27s\tremaining: 1.82s\n",
      "775:\tlearn: 0.0156505\ttotal: 6.27s\tremaining: 1.81s\n",
      "776:\tlearn: 0.0156219\ttotal: 6.28s\tremaining: 1.8s\n",
      "777:\tlearn: 0.0155823\ttotal: 6.29s\tremaining: 1.79s\n",
      "778:\tlearn: 0.0155548\ttotal: 6.29s\tremaining: 1.78s\n",
      "779:\tlearn: 0.0155308\ttotal: 6.3s\tremaining: 1.78s\n",
      "780:\tlearn: 0.0155074\ttotal: 6.3s\tremaining: 1.77s\n",
      "781:\tlearn: 0.0154821\ttotal: 6.31s\tremaining: 1.76s\n",
      "782:\tlearn: 0.0154625\ttotal: 6.32s\tremaining: 1.75s\n",
      "783:\tlearn: 0.0154445\ttotal: 6.32s\tremaining: 1.74s\n",
      "784:\tlearn: 0.0154316\ttotal: 6.33s\tremaining: 1.73s\n",
      "785:\tlearn: 0.0154090\ttotal: 6.33s\tremaining: 1.72s\n",
      "786:\tlearn: 0.0153941\ttotal: 6.34s\tremaining: 1.72s\n",
      "787:\tlearn: 0.0153786\ttotal: 6.35s\tremaining: 1.71s\n",
      "788:\tlearn: 0.0153626\ttotal: 6.36s\tremaining: 1.7s\n",
      "789:\tlearn: 0.0153427\ttotal: 6.37s\tremaining: 1.69s\n",
      "790:\tlearn: 0.0153287\ttotal: 6.38s\tremaining: 1.68s\n",
      "791:\tlearn: 0.0153070\ttotal: 6.38s\tremaining: 1.68s\n",
      "792:\tlearn: 0.0152895\ttotal: 6.39s\tremaining: 1.67s\n",
      "793:\tlearn: 0.0152620\ttotal: 6.4s\tremaining: 1.66s\n",
      "794:\tlearn: 0.0152171\ttotal: 6.41s\tremaining: 1.65s\n",
      "795:\tlearn: 0.0151839\ttotal: 6.41s\tremaining: 1.64s\n",
      "796:\tlearn: 0.0151603\ttotal: 6.42s\tremaining: 1.63s\n",
      "797:\tlearn: 0.0151209\ttotal: 6.42s\tremaining: 1.63s\n",
      "798:\tlearn: 0.0151025\ttotal: 6.43s\tremaining: 1.62s\n",
      "799:\tlearn: 0.0150735\ttotal: 6.44s\tremaining: 1.61s\n",
      "800:\tlearn: 0.0150647\ttotal: 6.44s\tremaining: 1.6s\n",
      "801:\tlearn: 0.0150498\ttotal: 6.45s\tremaining: 1.59s\n",
      "802:\tlearn: 0.0150305\ttotal: 6.46s\tremaining: 1.58s\n",
      "803:\tlearn: 0.0150048\ttotal: 6.46s\tremaining: 1.57s\n",
      "804:\tlearn: 0.0149848\ttotal: 6.47s\tremaining: 1.57s\n",
      "805:\tlearn: 0.0149478\ttotal: 6.47s\tremaining: 1.56s\n",
      "806:\tlearn: 0.0149141\ttotal: 6.48s\tremaining: 1.55s\n",
      "807:\tlearn: 0.0148568\ttotal: 6.49s\tremaining: 1.54s\n",
      "808:\tlearn: 0.0148230\ttotal: 6.49s\tremaining: 1.53s\n",
      "809:\tlearn: 0.0147966\ttotal: 6.5s\tremaining: 1.52s\n",
      "810:\tlearn: 0.0147534\ttotal: 6.51s\tremaining: 1.52s\n",
      "811:\tlearn: 0.0147400\ttotal: 6.51s\tremaining: 1.51s\n",
      "812:\tlearn: 0.0147003\ttotal: 6.52s\tremaining: 1.5s\n",
      "813:\tlearn: 0.0146848\ttotal: 6.53s\tremaining: 1.49s\n",
      "814:\tlearn: 0.0146589\ttotal: 6.53s\tremaining: 1.48s\n",
      "815:\tlearn: 0.0146341\ttotal: 6.54s\tremaining: 1.47s\n",
      "816:\tlearn: 0.0146065\ttotal: 6.55s\tremaining: 1.47s\n",
      "817:\tlearn: 0.0145758\ttotal: 6.56s\tremaining: 1.46s\n",
      "818:\tlearn: 0.0145526\ttotal: 6.57s\tremaining: 1.45s\n",
      "819:\tlearn: 0.0145281\ttotal: 6.58s\tremaining: 1.45s\n",
      "820:\tlearn: 0.0145064\ttotal: 6.6s\tremaining: 1.44s\n",
      "821:\tlearn: 0.0144840\ttotal: 6.61s\tremaining: 1.43s\n",
      "822:\tlearn: 0.0144615\ttotal: 6.62s\tremaining: 1.42s\n",
      "823:\tlearn: 0.0144444\ttotal: 6.63s\tremaining: 1.42s\n",
      "824:\tlearn: 0.0144286\ttotal: 6.65s\tremaining: 1.41s\n",
      "825:\tlearn: 0.0144135\ttotal: 6.66s\tremaining: 1.4s\n",
      "826:\tlearn: 0.0143866\ttotal: 6.67s\tremaining: 1.39s\n",
      "827:\tlearn: 0.0143733\ttotal: 6.67s\tremaining: 1.39s\n",
      "828:\tlearn: 0.0143560\ttotal: 6.68s\tremaining: 1.38s\n",
      "829:\tlearn: 0.0143215\ttotal: 6.69s\tremaining: 1.37s\n",
      "830:\tlearn: 0.0142838\ttotal: 6.7s\tremaining: 1.36s\n",
      "831:\tlearn: 0.0142719\ttotal: 6.71s\tremaining: 1.35s\n",
      "832:\tlearn: 0.0142387\ttotal: 6.72s\tremaining: 1.35s\n",
      "833:\tlearn: 0.0142292\ttotal: 6.72s\tremaining: 1.34s\n",
      "834:\tlearn: 0.0142063\ttotal: 6.73s\tremaining: 1.33s\n",
      "835:\tlearn: 0.0141909\ttotal: 6.74s\tremaining: 1.32s\n",
      "836:\tlearn: 0.0141804\ttotal: 6.75s\tremaining: 1.31s\n",
      "837:\tlearn: 0.0141612\ttotal: 6.75s\tremaining: 1.3s\n",
      "838:\tlearn: 0.0141515\ttotal: 6.76s\tremaining: 1.3s\n",
      "839:\tlearn: 0.0141245\ttotal: 6.77s\tremaining: 1.29s\n",
      "840:\tlearn: 0.0141019\ttotal: 6.78s\tremaining: 1.28s\n",
      "841:\tlearn: 0.0140879\ttotal: 6.79s\tremaining: 1.27s\n",
      "842:\tlearn: 0.0140493\ttotal: 6.8s\tremaining: 1.27s\n",
      "843:\tlearn: 0.0140332\ttotal: 6.8s\tremaining: 1.26s\n",
      "844:\tlearn: 0.0140167\ttotal: 6.81s\tremaining: 1.25s\n",
      "845:\tlearn: 0.0139990\ttotal: 6.82s\tremaining: 1.24s\n",
      "846:\tlearn: 0.0139895\ttotal: 6.83s\tremaining: 1.23s\n",
      "847:\tlearn: 0.0139739\ttotal: 6.84s\tremaining: 1.23s\n",
      "848:\tlearn: 0.0139609\ttotal: 6.85s\tremaining: 1.22s\n",
      "849:\tlearn: 0.0139475\ttotal: 6.86s\tremaining: 1.21s\n",
      "850:\tlearn: 0.0139330\ttotal: 6.86s\tremaining: 1.2s\n",
      "851:\tlearn: 0.0139208\ttotal: 6.88s\tremaining: 1.19s\n",
      "852:\tlearn: 0.0139052\ttotal: 6.88s\tremaining: 1.19s\n",
      "853:\tlearn: 0.0138941\ttotal: 6.89s\tremaining: 1.18s\n",
      "854:\tlearn: 0.0138722\ttotal: 6.89s\tremaining: 1.17s\n",
      "855:\tlearn: 0.0138402\ttotal: 6.9s\tremaining: 1.16s\n",
      "856:\tlearn: 0.0138266\ttotal: 6.91s\tremaining: 1.15s\n",
      "857:\tlearn: 0.0138095\ttotal: 6.92s\tremaining: 1.14s\n",
      "858:\tlearn: 0.0137949\ttotal: 6.92s\tremaining: 1.14s\n",
      "859:\tlearn: 0.0137846\ttotal: 6.93s\tremaining: 1.13s\n",
      "860:\tlearn: 0.0137653\ttotal: 6.94s\tremaining: 1.12s\n",
      "861:\tlearn: 0.0137532\ttotal: 6.95s\tremaining: 1.11s\n",
      "862:\tlearn: 0.0137358\ttotal: 6.96s\tremaining: 1.1s\n",
      "863:\tlearn: 0.0137234\ttotal: 6.96s\tremaining: 1.1s\n",
      "864:\tlearn: 0.0137101\ttotal: 6.97s\tremaining: 1.09s\n",
      "865:\tlearn: 0.0136834\ttotal: 6.98s\tremaining: 1.08s\n",
      "866:\tlearn: 0.0136374\ttotal: 6.98s\tremaining: 1.07s\n",
      "867:\tlearn: 0.0136238\ttotal: 6.99s\tremaining: 1.06s\n",
      "868:\tlearn: 0.0136101\ttotal: 7s\tremaining: 1.05s\n",
      "869:\tlearn: 0.0135956\ttotal: 7.01s\tremaining: 1.05s\n",
      "870:\tlearn: 0.0135628\ttotal: 7.02s\tremaining: 1.04s\n",
      "871:\tlearn: 0.0135303\ttotal: 7.04s\tremaining: 1.03s\n",
      "872:\tlearn: 0.0135099\ttotal: 7.05s\tremaining: 1.02s\n",
      "873:\tlearn: 0.0134870\ttotal: 7.05s\tremaining: 1.02s\n",
      "874:\tlearn: 0.0134800\ttotal: 7.06s\tremaining: 1.01s\n",
      "875:\tlearn: 0.0134585\ttotal: 7.07s\tremaining: 1s\n",
      "876:\tlearn: 0.0134378\ttotal: 7.08s\tremaining: 992ms\n",
      "877:\tlearn: 0.0134074\ttotal: 7.08s\tremaining: 984ms\n",
      "878:\tlearn: 0.0133702\ttotal: 7.09s\tremaining: 976ms\n",
      "879:\tlearn: 0.0133453\ttotal: 7.1s\tremaining: 968ms\n",
      "880:\tlearn: 0.0133352\ttotal: 7.11s\tremaining: 960ms\n",
      "881:\tlearn: 0.0133104\ttotal: 7.11s\tremaining: 952ms\n",
      "882:\tlearn: 0.0132995\ttotal: 7.12s\tremaining: 943ms\n",
      "883:\tlearn: 0.0132849\ttotal: 7.13s\tremaining: 935ms\n",
      "884:\tlearn: 0.0132646\ttotal: 7.13s\tremaining: 927ms\n",
      "885:\tlearn: 0.0132441\ttotal: 7.14s\tremaining: 919ms\n",
      "886:\tlearn: 0.0132270\ttotal: 7.15s\tremaining: 911ms\n",
      "887:\tlearn: 0.0132216\ttotal: 7.16s\tremaining: 903ms\n",
      "888:\tlearn: 0.0132021\ttotal: 7.17s\tremaining: 895ms\n",
      "889:\tlearn: 0.0131857\ttotal: 7.17s\tremaining: 887ms\n",
      "890:\tlearn: 0.0131665\ttotal: 7.19s\tremaining: 880ms\n",
      "891:\tlearn: 0.0131513\ttotal: 7.21s\tremaining: 873ms\n",
      "892:\tlearn: 0.0131336\ttotal: 7.22s\tremaining: 865ms\n",
      "893:\tlearn: 0.0131011\ttotal: 7.23s\tremaining: 857ms\n",
      "894:\tlearn: 0.0130846\ttotal: 7.24s\tremaining: 850ms\n",
      "895:\tlearn: 0.0130761\ttotal: 7.25s\tremaining: 842ms\n",
      "896:\tlearn: 0.0130696\ttotal: 7.26s\tremaining: 834ms\n",
      "897:\tlearn: 0.0130523\ttotal: 7.27s\tremaining: 826ms\n",
      "898:\tlearn: 0.0130388\ttotal: 7.28s\tremaining: 818ms\n",
      "899:\tlearn: 0.0130218\ttotal: 7.29s\tremaining: 809ms\n",
      "900:\tlearn: 0.0129961\ttotal: 7.29s\tremaining: 801ms\n",
      "901:\tlearn: 0.0129748\ttotal: 7.3s\tremaining: 793ms\n",
      "902:\tlearn: 0.0129443\ttotal: 7.31s\tremaining: 786ms\n",
      "903:\tlearn: 0.0129293\ttotal: 7.33s\tremaining: 778ms\n",
      "904:\tlearn: 0.0129110\ttotal: 7.34s\tremaining: 770ms\n",
      "905:\tlearn: 0.0128917\ttotal: 7.34s\tremaining: 762ms\n",
      "906:\tlearn: 0.0128634\ttotal: 7.37s\tremaining: 756ms\n",
      "907:\tlearn: 0.0128521\ttotal: 7.38s\tremaining: 748ms\n",
      "908:\tlearn: 0.0128231\ttotal: 7.39s\tremaining: 740ms\n",
      "909:\tlearn: 0.0128186\ttotal: 7.4s\tremaining: 732ms\n",
      "910:\tlearn: 0.0128056\ttotal: 7.41s\tremaining: 724ms\n",
      "911:\tlearn: 0.0127945\ttotal: 7.41s\tremaining: 715ms\n",
      "912:\tlearn: 0.0127772\ttotal: 7.42s\tremaining: 707ms\n",
      "913:\tlearn: 0.0127701\ttotal: 7.43s\tremaining: 699ms\n",
      "914:\tlearn: 0.0127534\ttotal: 7.44s\tremaining: 691ms\n",
      "915:\tlearn: 0.0127387\ttotal: 7.45s\tremaining: 683ms\n",
      "916:\tlearn: 0.0127114\ttotal: 7.46s\tremaining: 675ms\n",
      "917:\tlearn: 0.0126999\ttotal: 7.46s\tremaining: 667ms\n",
      "918:\tlearn: 0.0126744\ttotal: 7.47s\tremaining: 659ms\n",
      "919:\tlearn: 0.0126439\ttotal: 7.48s\tremaining: 651ms\n",
      "920:\tlearn: 0.0126356\ttotal: 7.49s\tremaining: 643ms\n",
      "921:\tlearn: 0.0126255\ttotal: 7.51s\tremaining: 635ms\n",
      "922:\tlearn: 0.0126092\ttotal: 7.51s\tremaining: 627ms\n",
      "923:\tlearn: 0.0125766\ttotal: 7.52s\tremaining: 619ms\n",
      "924:\tlearn: 0.0125261\ttotal: 7.53s\tremaining: 610ms\n",
      "925:\tlearn: 0.0125114\ttotal: 7.54s\tremaining: 602ms\n",
      "926:\tlearn: 0.0124807\ttotal: 7.54s\tremaining: 594ms\n",
      "927:\tlearn: 0.0124710\ttotal: 7.55s\tremaining: 586ms\n",
      "928:\tlearn: 0.0124512\ttotal: 7.55s\tremaining: 577ms\n",
      "929:\tlearn: 0.0124332\ttotal: 7.56s\tremaining: 569ms\n",
      "930:\tlearn: 0.0124165\ttotal: 7.57s\tremaining: 561ms\n",
      "931:\tlearn: 0.0124118\ttotal: 7.57s\tremaining: 553ms\n",
      "932:\tlearn: 0.0124051\ttotal: 7.58s\tremaining: 544ms\n",
      "933:\tlearn: 0.0123841\ttotal: 7.59s\tremaining: 536ms\n",
      "934:\tlearn: 0.0123558\ttotal: 7.59s\tremaining: 528ms\n",
      "935:\tlearn: 0.0123122\ttotal: 7.6s\tremaining: 520ms\n",
      "936:\tlearn: 0.0123006\ttotal: 7.6s\tremaining: 511ms\n",
      "937:\tlearn: 0.0122851\ttotal: 7.61s\tremaining: 503ms\n",
      "938:\tlearn: 0.0122750\ttotal: 7.62s\tremaining: 495ms\n",
      "939:\tlearn: 0.0122564\ttotal: 7.63s\tremaining: 487ms\n",
      "940:\tlearn: 0.0122340\ttotal: 7.63s\tremaining: 478ms\n",
      "941:\tlearn: 0.0122137\ttotal: 7.64s\tremaining: 470ms\n",
      "942:\tlearn: 0.0122005\ttotal: 7.65s\tremaining: 462ms\n",
      "943:\tlearn: 0.0121908\ttotal: 7.65s\tremaining: 454ms\n",
      "944:\tlearn: 0.0121733\ttotal: 7.66s\tremaining: 446ms\n",
      "945:\tlearn: 0.0121602\ttotal: 7.67s\tremaining: 438ms\n",
      "946:\tlearn: 0.0121395\ttotal: 7.67s\tremaining: 429ms\n",
      "947:\tlearn: 0.0121338\ttotal: 7.68s\tremaining: 421ms\n",
      "948:\tlearn: 0.0121198\ttotal: 7.68s\tremaining: 413ms\n",
      "949:\tlearn: 0.0121096\ttotal: 7.69s\tremaining: 405ms\n",
      "950:\tlearn: 0.0120855\ttotal: 7.7s\tremaining: 397ms\n",
      "951:\tlearn: 0.0120700\ttotal: 7.7s\tremaining: 388ms\n",
      "952:\tlearn: 0.0120518\ttotal: 7.71s\tremaining: 380ms\n",
      "953:\tlearn: 0.0120407\ttotal: 7.71s\tremaining: 372ms\n",
      "954:\tlearn: 0.0120232\ttotal: 7.72s\tremaining: 364ms\n",
      "955:\tlearn: 0.0120065\ttotal: 7.73s\tremaining: 356ms\n",
      "956:\tlearn: 0.0119823\ttotal: 7.73s\tremaining: 347ms\n",
      "957:\tlearn: 0.0119662\ttotal: 7.74s\tremaining: 339ms\n",
      "958:\tlearn: 0.0119515\ttotal: 7.75s\tremaining: 331ms\n",
      "959:\tlearn: 0.0119391\ttotal: 7.75s\tremaining: 323ms\n",
      "960:\tlearn: 0.0119233\ttotal: 7.76s\tremaining: 315ms\n",
      "961:\tlearn: 0.0119067\ttotal: 7.77s\tremaining: 307ms\n",
      "962:\tlearn: 0.0118822\ttotal: 7.78s\tremaining: 299ms\n",
      "963:\tlearn: 0.0118513\ttotal: 7.78s\tremaining: 291ms\n",
      "964:\tlearn: 0.0118331\ttotal: 7.79s\tremaining: 283ms\n",
      "965:\tlearn: 0.0118197\ttotal: 7.79s\tremaining: 274ms\n",
      "966:\tlearn: 0.0118055\ttotal: 7.8s\tremaining: 266ms\n",
      "967:\tlearn: 0.0117882\ttotal: 7.81s\tremaining: 258ms\n",
      "968:\tlearn: 0.0117785\ttotal: 7.82s\tremaining: 250ms\n",
      "969:\tlearn: 0.0117663\ttotal: 7.82s\tremaining: 242ms\n",
      "970:\tlearn: 0.0117561\ttotal: 7.83s\tremaining: 234ms\n",
      "971:\tlearn: 0.0117505\ttotal: 7.83s\tremaining: 226ms\n",
      "972:\tlearn: 0.0117416\ttotal: 7.84s\tremaining: 218ms\n",
      "973:\tlearn: 0.0117161\ttotal: 7.84s\tremaining: 209ms\n",
      "974:\tlearn: 0.0116920\ttotal: 7.85s\tremaining: 201ms\n",
      "975:\tlearn: 0.0116778\ttotal: 7.86s\tremaining: 193ms\n",
      "976:\tlearn: 0.0116578\ttotal: 7.86s\tremaining: 185ms\n",
      "977:\tlearn: 0.0116443\ttotal: 7.87s\tremaining: 177ms\n",
      "978:\tlearn: 0.0116402\ttotal: 7.88s\tremaining: 169ms\n",
      "979:\tlearn: 0.0116295\ttotal: 7.88s\tremaining: 161ms\n",
      "980:\tlearn: 0.0116183\ttotal: 7.89s\tremaining: 153ms\n",
      "981:\tlearn: 0.0116119\ttotal: 7.89s\tremaining: 145ms\n",
      "982:\tlearn: 0.0115940\ttotal: 7.9s\tremaining: 137ms\n",
      "983:\tlearn: 0.0115748\ttotal: 7.91s\tremaining: 129ms\n",
      "984:\tlearn: 0.0115680\ttotal: 7.91s\tremaining: 121ms\n",
      "985:\tlearn: 0.0115587\ttotal: 7.92s\tremaining: 112ms\n",
      "986:\tlearn: 0.0115440\ttotal: 7.92s\tremaining: 104ms\n",
      "987:\tlearn: 0.0115250\ttotal: 7.93s\tremaining: 96.3ms\n",
      "988:\tlearn: 0.0115120\ttotal: 7.94s\tremaining: 88.3ms\n",
      "989:\tlearn: 0.0114996\ttotal: 7.95s\tremaining: 80.3ms\n",
      "990:\tlearn: 0.0114874\ttotal: 7.95s\tremaining: 72.2ms\n",
      "991:\tlearn: 0.0114791\ttotal: 7.96s\tremaining: 64.2ms\n",
      "992:\tlearn: 0.0114610\ttotal: 7.96s\tremaining: 56.1ms\n",
      "993:\tlearn: 0.0114377\ttotal: 7.97s\tremaining: 48.1ms\n",
      "994:\tlearn: 0.0114291\ttotal: 7.97s\tremaining: 40.1ms\n",
      "995:\tlearn: 0.0114153\ttotal: 7.98s\tremaining: 32.1ms\n",
      "996:\tlearn: 0.0114108\ttotal: 7.99s\tremaining: 24ms\n",
      "997:\tlearn: 0.0113929\ttotal: 7.99s\tremaining: 16ms\n",
      "998:\tlearn: 0.0113837\ttotal: 8s\tremaining: 8.01ms\n",
      "999:\tlearn: 0.0113667\ttotal: 8.01s\tremaining: 0us\n",
      "Learning rate set to 0.079127\n",
      "0:\tlearn: 0.9971944\ttotal: 7.38ms\tremaining: 7.37s\n",
      "1:\tlearn: 0.8988531\ttotal: 13.4ms\tremaining: 6.67s\n",
      "2:\tlearn: 0.8163142\ttotal: 22.2ms\tremaining: 7.39s\n",
      "3:\tlearn: 0.7496475\ttotal: 28.4ms\tremaining: 7.06s\n",
      "4:\tlearn: 0.6889320\ttotal: 35.3ms\tremaining: 7.03s\n",
      "5:\tlearn: 0.6377499\ttotal: 41.3ms\tremaining: 6.84s\n",
      "6:\tlearn: 0.5944032\ttotal: 48.2ms\tremaining: 6.83s\n",
      "7:\tlearn: 0.5544519\ttotal: 54.4ms\tremaining: 6.75s\n",
      "8:\tlearn: 0.5185654\ttotal: 61ms\tremaining: 6.71s\n",
      "9:\tlearn: 0.4876519\ttotal: 67.9ms\tremaining: 6.72s\n",
      "10:\tlearn: 0.4608737\ttotal: 74.1ms\tremaining: 6.66s\n",
      "11:\tlearn: 0.4367177\ttotal: 80.4ms\tremaining: 6.62s\n",
      "12:\tlearn: 0.4144205\ttotal: 86.2ms\tremaining: 6.54s\n",
      "13:\tlearn: 0.3929261\ttotal: 92.2ms\tremaining: 6.49s\n",
      "14:\tlearn: 0.3737588\ttotal: 97.9ms\tremaining: 6.43s\n",
      "15:\tlearn: 0.3571414\ttotal: 104ms\tremaining: 6.39s\n",
      "16:\tlearn: 0.3417432\ttotal: 111ms\tremaining: 6.39s\n",
      "17:\tlearn: 0.3283899\ttotal: 117ms\tremaining: 6.4s\n",
      "18:\tlearn: 0.3143855\ttotal: 124ms\tremaining: 6.39s\n",
      "19:\tlearn: 0.3030794\ttotal: 130ms\tremaining: 6.36s\n",
      "20:\tlearn: 0.2915502\ttotal: 136ms\tremaining: 6.32s\n",
      "21:\tlearn: 0.2808553\ttotal: 142ms\tremaining: 6.33s\n",
      "22:\tlearn: 0.2699907\ttotal: 149ms\tremaining: 6.33s\n",
      "23:\tlearn: 0.2615850\ttotal: 155ms\tremaining: 6.32s\n",
      "24:\tlearn: 0.2536691\ttotal: 161ms\tremaining: 6.29s\n",
      "25:\tlearn: 0.2454495\ttotal: 169ms\tremaining: 6.34s\n",
      "26:\tlearn: 0.2370473\ttotal: 176ms\tremaining: 6.34s\n",
      "27:\tlearn: 0.2298826\ttotal: 184ms\tremaining: 6.37s\n",
      "28:\tlearn: 0.2242554\ttotal: 190ms\tremaining: 6.37s\n",
      "29:\tlearn: 0.2186857\ttotal: 197ms\tremaining: 6.36s\n",
      "30:\tlearn: 0.2133319\ttotal: 207ms\tremaining: 6.47s\n",
      "31:\tlearn: 0.2089322\ttotal: 216ms\tremaining: 6.55s\n",
      "32:\tlearn: 0.2035111\ttotal: 224ms\tremaining: 6.55s\n",
      "33:\tlearn: 0.1988948\ttotal: 232ms\tremaining: 6.59s\n",
      "34:\tlearn: 0.1935855\ttotal: 238ms\tremaining: 6.56s\n",
      "35:\tlearn: 0.1902626\ttotal: 244ms\tremaining: 6.53s\n",
      "36:\tlearn: 0.1865446\ttotal: 250ms\tremaining: 6.5s\n",
      "37:\tlearn: 0.1835464\ttotal: 256ms\tremaining: 6.47s\n",
      "38:\tlearn: 0.1808382\ttotal: 262ms\tremaining: 6.46s\n",
      "39:\tlearn: 0.1775018\ttotal: 270ms\tremaining: 6.47s\n",
      "40:\tlearn: 0.1741565\ttotal: 276ms\tremaining: 6.45s\n",
      "41:\tlearn: 0.1720520\ttotal: 282ms\tremaining: 6.42s\n",
      "42:\tlearn: 0.1686268\ttotal: 289ms\tremaining: 6.42s\n",
      "43:\tlearn: 0.1660173\ttotal: 295ms\tremaining: 6.4s\n",
      "44:\tlearn: 0.1630407\ttotal: 302ms\tremaining: 6.41s\n",
      "45:\tlearn: 0.1610910\ttotal: 309ms\tremaining: 6.41s\n",
      "46:\tlearn: 0.1597184\ttotal: 316ms\tremaining: 6.42s\n",
      "47:\tlearn: 0.1586715\ttotal: 323ms\tremaining: 6.41s\n",
      "48:\tlearn: 0.1562106\ttotal: 329ms\tremaining: 6.39s\n",
      "49:\tlearn: 0.1551451\ttotal: 335ms\tremaining: 6.37s\n",
      "50:\tlearn: 0.1527690\ttotal: 341ms\tremaining: 6.34s\n",
      "51:\tlearn: 0.1512543\ttotal: 348ms\tremaining: 6.34s\n",
      "52:\tlearn: 0.1496745\ttotal: 354ms\tremaining: 6.33s\n",
      "53:\tlearn: 0.1482186\ttotal: 361ms\tremaining: 6.32s\n",
      "54:\tlearn: 0.1466811\ttotal: 367ms\tremaining: 6.31s\n",
      "55:\tlearn: 0.1451249\ttotal: 374ms\tremaining: 6.3s\n",
      "56:\tlearn: 0.1436451\ttotal: 382ms\tremaining: 6.32s\n",
      "57:\tlearn: 0.1421958\ttotal: 388ms\tremaining: 6.3s\n",
      "58:\tlearn: 0.1417864\ttotal: 394ms\tremaining: 6.29s\n",
      "59:\tlearn: 0.1408982\ttotal: 400ms\tremaining: 6.26s\n",
      "60:\tlearn: 0.1394858\ttotal: 408ms\tremaining: 6.28s\n",
      "61:\tlearn: 0.1388132\ttotal: 415ms\tremaining: 6.28s\n",
      "62:\tlearn: 0.1374481\ttotal: 426ms\tremaining: 6.33s\n",
      "63:\tlearn: 0.1359143\ttotal: 434ms\tremaining: 6.34s\n",
      "64:\tlearn: 0.1351217\ttotal: 440ms\tremaining: 6.33s\n",
      "65:\tlearn: 0.1337775\ttotal: 446ms\tremaining: 6.31s\n",
      "66:\tlearn: 0.1332177\ttotal: 453ms\tremaining: 6.3s\n",
      "67:\tlearn: 0.1325909\ttotal: 459ms\tremaining: 6.29s\n",
      "68:\tlearn: 0.1311510\ttotal: 466ms\tremaining: 6.28s\n",
      "69:\tlearn: 0.1302124\ttotal: 472ms\tremaining: 6.27s\n",
      "70:\tlearn: 0.1296666\ttotal: 478ms\tremaining: 6.26s\n",
      "71:\tlearn: 0.1283336\ttotal: 485ms\tremaining: 6.25s\n",
      "72:\tlearn: 0.1269474\ttotal: 492ms\tremaining: 6.25s\n",
      "73:\tlearn: 0.1265710\ttotal: 498ms\tremaining: 6.23s\n",
      "74:\tlearn: 0.1253077\ttotal: 504ms\tremaining: 6.22s\n",
      "75:\tlearn: 0.1249991\ttotal: 511ms\tremaining: 6.22s\n",
      "76:\tlearn: 0.1238122\ttotal: 518ms\tremaining: 6.21s\n",
      "77:\tlearn: 0.1228220\ttotal: 525ms\tremaining: 6.2s\n",
      "78:\tlearn: 0.1216828\ttotal: 531ms\tremaining: 6.19s\n",
      "79:\tlearn: 0.1206879\ttotal: 538ms\tremaining: 6.18s\n",
      "80:\tlearn: 0.1193896\ttotal: 544ms\tremaining: 6.17s\n",
      "81:\tlearn: 0.1184830\ttotal: 550ms\tremaining: 6.16s\n",
      "82:\tlearn: 0.1180135\ttotal: 557ms\tremaining: 6.16s\n",
      "83:\tlearn: 0.1174270\ttotal: 563ms\tremaining: 6.14s\n",
      "84:\tlearn: 0.1170813\ttotal: 569ms\tremaining: 6.12s\n",
      "85:\tlearn: 0.1165643\ttotal: 575ms\tremaining: 6.11s\n",
      "86:\tlearn: 0.1162590\ttotal: 580ms\tremaining: 6.09s\n",
      "87:\tlearn: 0.1147176\ttotal: 588ms\tremaining: 6.09s\n",
      "88:\tlearn: 0.1140098\ttotal: 594ms\tremaining: 6.08s\n",
      "89:\tlearn: 0.1136645\ttotal: 604ms\tremaining: 6.11s\n",
      "90:\tlearn: 0.1128749\ttotal: 611ms\tremaining: 6.11s\n",
      "91:\tlearn: 0.1124662\ttotal: 618ms\tremaining: 6.1s\n",
      "92:\tlearn: 0.1116289\ttotal: 623ms\tremaining: 6.08s\n",
      "93:\tlearn: 0.1107640\ttotal: 633ms\tremaining: 6.1s\n",
      "94:\tlearn: 0.1102507\ttotal: 639ms\tremaining: 6.09s\n",
      "95:\tlearn: 0.1095041\ttotal: 645ms\tremaining: 6.07s\n",
      "96:\tlearn: 0.1092423\ttotal: 651ms\tremaining: 6.06s\n",
      "97:\tlearn: 0.1089729\ttotal: 657ms\tremaining: 6.04s\n",
      "98:\tlearn: 0.1085155\ttotal: 665ms\tremaining: 6.05s\n",
      "99:\tlearn: 0.1077011\ttotal: 671ms\tremaining: 6.04s\n",
      "100:\tlearn: 0.1068497\ttotal: 678ms\tremaining: 6.03s\n",
      "101:\tlearn: 0.1060056\ttotal: 684ms\tremaining: 6.02s\n",
      "102:\tlearn: 0.1052661\ttotal: 693ms\tremaining: 6.03s\n",
      "103:\tlearn: 0.1048065\ttotal: 699ms\tremaining: 6.03s\n",
      "104:\tlearn: 0.1043659\ttotal: 708ms\tremaining: 6.03s\n",
      "105:\tlearn: 0.1035432\ttotal: 714ms\tremaining: 6.03s\n",
      "106:\tlearn: 0.1028329\ttotal: 721ms\tremaining: 6.02s\n",
      "107:\tlearn: 0.1023646\ttotal: 729ms\tremaining: 6.02s\n",
      "108:\tlearn: 0.1016012\ttotal: 738ms\tremaining: 6.03s\n",
      "109:\tlearn: 0.1002136\ttotal: 744ms\tremaining: 6.02s\n",
      "110:\tlearn: 0.0997787\ttotal: 750ms\tremaining: 6s\n",
      "111:\tlearn: 0.0991505\ttotal: 756ms\tremaining: 5.99s\n",
      "112:\tlearn: 0.0983251\ttotal: 762ms\tremaining: 5.98s\n",
      "113:\tlearn: 0.0977764\ttotal: 769ms\tremaining: 5.98s\n",
      "114:\tlearn: 0.0974207\ttotal: 775ms\tremaining: 5.97s\n",
      "115:\tlearn: 0.0969097\ttotal: 786ms\tremaining: 5.99s\n",
      "116:\tlearn: 0.0964565\ttotal: 792ms\tremaining: 5.98s\n",
      "117:\tlearn: 0.0954137\ttotal: 798ms\tremaining: 5.96s\n",
      "118:\tlearn: 0.0946040\ttotal: 804ms\tremaining: 5.95s\n",
      "119:\tlearn: 0.0942226\ttotal: 810ms\tremaining: 5.94s\n",
      "120:\tlearn: 0.0935703\ttotal: 816ms\tremaining: 5.93s\n",
      "121:\tlearn: 0.0928455\ttotal: 821ms\tremaining: 5.91s\n",
      "122:\tlearn: 0.0920239\ttotal: 827ms\tremaining: 5.9s\n",
      "123:\tlearn: 0.0912656\ttotal: 833ms\tremaining: 5.89s\n",
      "124:\tlearn: 0.0907603\ttotal: 840ms\tremaining: 5.88s\n",
      "125:\tlearn: 0.0905119\ttotal: 846ms\tremaining: 5.87s\n",
      "126:\tlearn: 0.0898437\ttotal: 852ms\tremaining: 5.85s\n",
      "127:\tlearn: 0.0892821\ttotal: 858ms\tremaining: 5.84s\n",
      "128:\tlearn: 0.0890620\ttotal: 863ms\tremaining: 5.83s\n",
      "129:\tlearn: 0.0886066\ttotal: 869ms\tremaining: 5.82s\n",
      "130:\tlearn: 0.0882153\ttotal: 875ms\tremaining: 5.8s\n",
      "131:\tlearn: 0.0876597\ttotal: 881ms\tremaining: 5.79s\n",
      "132:\tlearn: 0.0874262\ttotal: 887ms\tremaining: 5.78s\n",
      "133:\tlearn: 0.0871677\ttotal: 894ms\tremaining: 5.78s\n",
      "134:\tlearn: 0.0866319\ttotal: 900ms\tremaining: 5.77s\n",
      "135:\tlearn: 0.0860171\ttotal: 910ms\tremaining: 5.78s\n",
      "136:\tlearn: 0.0857455\ttotal: 916ms\tremaining: 5.77s\n",
      "137:\tlearn: 0.0852633\ttotal: 922ms\tremaining: 5.76s\n",
      "138:\tlearn: 0.0848108\ttotal: 929ms\tremaining: 5.75s\n",
      "139:\tlearn: 0.0842867\ttotal: 937ms\tremaining: 5.76s\n",
      "140:\tlearn: 0.0837120\ttotal: 944ms\tremaining: 5.75s\n",
      "141:\tlearn: 0.0835327\ttotal: 952ms\tremaining: 5.75s\n",
      "142:\tlearn: 0.0832210\ttotal: 959ms\tremaining: 5.75s\n",
      "143:\tlearn: 0.0830785\ttotal: 970ms\tremaining: 5.76s\n",
      "144:\tlearn: 0.0827270\ttotal: 979ms\tremaining: 5.77s\n",
      "145:\tlearn: 0.0822778\ttotal: 986ms\tremaining: 5.77s\n",
      "146:\tlearn: 0.0817146\ttotal: 996ms\tremaining: 5.78s\n",
      "147:\tlearn: 0.0812482\ttotal: 1s\tremaining: 5.78s\n",
      "148:\tlearn: 0.0810152\ttotal: 1.01s\tremaining: 5.79s\n",
      "149:\tlearn: 0.0804251\ttotal: 1.02s\tremaining: 5.8s\n",
      "150:\tlearn: 0.0800066\ttotal: 1.03s\tremaining: 5.81s\n",
      "151:\tlearn: 0.0796960\ttotal: 1.04s\tremaining: 5.81s\n",
      "152:\tlearn: 0.0790327\ttotal: 1.05s\tremaining: 5.8s\n",
      "153:\tlearn: 0.0787596\ttotal: 1.06s\tremaining: 5.81s\n",
      "154:\tlearn: 0.0785891\ttotal: 1.06s\tremaining: 5.8s\n",
      "155:\tlearn: 0.0782268\ttotal: 1.07s\tremaining: 5.79s\n",
      "156:\tlearn: 0.0779575\ttotal: 1.08s\tremaining: 5.78s\n",
      "157:\tlearn: 0.0775140\ttotal: 1.08s\tremaining: 5.78s\n",
      "158:\tlearn: 0.0770703\ttotal: 1.09s\tremaining: 5.77s\n",
      "159:\tlearn: 0.0767165\ttotal: 1.1s\tremaining: 5.77s\n",
      "160:\tlearn: 0.0763314\ttotal: 1.11s\tremaining: 5.77s\n",
      "161:\tlearn: 0.0760380\ttotal: 1.11s\tremaining: 5.76s\n",
      "162:\tlearn: 0.0758255\ttotal: 1.12s\tremaining: 5.75s\n",
      "163:\tlearn: 0.0752429\ttotal: 1.13s\tremaining: 5.74s\n",
      "164:\tlearn: 0.0747709\ttotal: 1.14s\tremaining: 5.75s\n",
      "165:\tlearn: 0.0745302\ttotal: 1.15s\tremaining: 5.77s\n",
      "166:\tlearn: 0.0739546\ttotal: 1.16s\tremaining: 5.77s\n",
      "167:\tlearn: 0.0737207\ttotal: 1.16s\tremaining: 5.77s\n",
      "168:\tlearn: 0.0734225\ttotal: 1.17s\tremaining: 5.77s\n",
      "169:\tlearn: 0.0731286\ttotal: 1.19s\tremaining: 5.8s\n",
      "170:\tlearn: 0.0727779\ttotal: 1.2s\tremaining: 5.82s\n",
      "171:\tlearn: 0.0724220\ttotal: 1.21s\tremaining: 5.81s\n",
      "172:\tlearn: 0.0723055\ttotal: 1.21s\tremaining: 5.79s\n",
      "173:\tlearn: 0.0717234\ttotal: 1.22s\tremaining: 5.8s\n",
      "174:\tlearn: 0.0715087\ttotal: 1.23s\tremaining: 5.79s\n",
      "175:\tlearn: 0.0713154\ttotal: 1.24s\tremaining: 5.79s\n",
      "176:\tlearn: 0.0710128\ttotal: 1.24s\tremaining: 5.78s\n",
      "177:\tlearn: 0.0708273\ttotal: 1.25s\tremaining: 5.78s\n",
      "178:\tlearn: 0.0705299\ttotal: 1.26s\tremaining: 5.77s\n",
      "179:\tlearn: 0.0703129\ttotal: 1.27s\tremaining: 5.77s\n",
      "180:\tlearn: 0.0700867\ttotal: 1.27s\tremaining: 5.76s\n",
      "181:\tlearn: 0.0698576\ttotal: 1.28s\tremaining: 5.76s\n",
      "182:\tlearn: 0.0696755\ttotal: 1.29s\tremaining: 5.75s\n",
      "183:\tlearn: 0.0694179\ttotal: 1.3s\tremaining: 5.76s\n",
      "184:\tlearn: 0.0692055\ttotal: 1.31s\tremaining: 5.76s\n",
      "185:\tlearn: 0.0688322\ttotal: 1.32s\tremaining: 5.76s\n",
      "186:\tlearn: 0.0686982\ttotal: 1.32s\tremaining: 5.75s\n",
      "187:\tlearn: 0.0683115\ttotal: 1.33s\tremaining: 5.74s\n",
      "188:\tlearn: 0.0679802\ttotal: 1.33s\tremaining: 5.73s\n",
      "189:\tlearn: 0.0677558\ttotal: 1.34s\tremaining: 5.73s\n",
      "190:\tlearn: 0.0674326\ttotal: 1.35s\tremaining: 5.72s\n",
      "191:\tlearn: 0.0672236\ttotal: 1.36s\tremaining: 5.71s\n",
      "192:\tlearn: 0.0668076\ttotal: 1.36s\tremaining: 5.71s\n",
      "193:\tlearn: 0.0665168\ttotal: 1.37s\tremaining: 5.71s\n",
      "194:\tlearn: 0.0662185\ttotal: 1.38s\tremaining: 5.7s\n",
      "195:\tlearn: 0.0661051\ttotal: 1.39s\tremaining: 5.69s\n",
      "196:\tlearn: 0.0659725\ttotal: 1.4s\tremaining: 5.69s\n",
      "197:\tlearn: 0.0658133\ttotal: 1.41s\tremaining: 5.71s\n",
      "198:\tlearn: 0.0655697\ttotal: 1.42s\tremaining: 5.71s\n",
      "199:\tlearn: 0.0652909\ttotal: 1.43s\tremaining: 5.71s\n",
      "200:\tlearn: 0.0651548\ttotal: 1.43s\tremaining: 5.7s\n",
      "201:\tlearn: 0.0647607\ttotal: 1.44s\tremaining: 5.69s\n",
      "202:\tlearn: 0.0643222\ttotal: 1.45s\tremaining: 5.68s\n",
      "203:\tlearn: 0.0640387\ttotal: 1.46s\tremaining: 5.68s\n",
      "204:\tlearn: 0.0638524\ttotal: 1.47s\tremaining: 5.69s\n",
      "205:\tlearn: 0.0636465\ttotal: 1.48s\tremaining: 5.69s\n",
      "206:\tlearn: 0.0634449\ttotal: 1.49s\tremaining: 5.71s\n",
      "207:\tlearn: 0.0633114\ttotal: 1.5s\tremaining: 5.73s\n",
      "208:\tlearn: 0.0629010\ttotal: 1.51s\tremaining: 5.73s\n",
      "209:\tlearn: 0.0625405\ttotal: 1.52s\tremaining: 5.73s\n",
      "210:\tlearn: 0.0624439\ttotal: 1.53s\tremaining: 5.74s\n",
      "211:\tlearn: 0.0621600\ttotal: 1.54s\tremaining: 5.75s\n",
      "212:\tlearn: 0.0619315\ttotal: 1.55s\tremaining: 5.75s\n",
      "213:\tlearn: 0.0616208\ttotal: 1.56s\tremaining: 5.75s\n",
      "214:\tlearn: 0.0614499\ttotal: 1.58s\tremaining: 5.76s\n",
      "215:\tlearn: 0.0613695\ttotal: 1.58s\tremaining: 5.75s\n",
      "216:\tlearn: 0.0610195\ttotal: 1.6s\tremaining: 5.76s\n",
      "217:\tlearn: 0.0606348\ttotal: 1.61s\tremaining: 5.78s\n",
      "218:\tlearn: 0.0605362\ttotal: 1.62s\tremaining: 5.78s\n",
      "219:\tlearn: 0.0601755\ttotal: 1.63s\tremaining: 5.78s\n",
      "220:\tlearn: 0.0598802\ttotal: 1.64s\tremaining: 5.77s\n",
      "221:\tlearn: 0.0595440\ttotal: 1.64s\tremaining: 5.76s\n",
      "222:\tlearn: 0.0591571\ttotal: 1.65s\tremaining: 5.75s\n",
      "223:\tlearn: 0.0589160\ttotal: 1.66s\tremaining: 5.74s\n",
      "224:\tlearn: 0.0587402\ttotal: 1.66s\tremaining: 5.73s\n",
      "225:\tlearn: 0.0585422\ttotal: 1.67s\tremaining: 5.72s\n",
      "226:\tlearn: 0.0583311\ttotal: 1.68s\tremaining: 5.71s\n",
      "227:\tlearn: 0.0581648\ttotal: 1.68s\tremaining: 5.7s\n",
      "228:\tlearn: 0.0579146\ttotal: 1.69s\tremaining: 5.69s\n",
      "229:\tlearn: 0.0576946\ttotal: 1.7s\tremaining: 5.69s\n",
      "230:\tlearn: 0.0575729\ttotal: 1.71s\tremaining: 5.68s\n",
      "231:\tlearn: 0.0574163\ttotal: 1.72s\tremaining: 5.68s\n",
      "232:\tlearn: 0.0571260\ttotal: 1.72s\tremaining: 5.67s\n",
      "233:\tlearn: 0.0568462\ttotal: 1.73s\tremaining: 5.66s\n",
      "234:\tlearn: 0.0563349\ttotal: 1.74s\tremaining: 5.65s\n",
      "235:\tlearn: 0.0559453\ttotal: 1.75s\tremaining: 5.66s\n",
      "236:\tlearn: 0.0558003\ttotal: 1.75s\tremaining: 5.65s\n",
      "237:\tlearn: 0.0554160\ttotal: 1.76s\tremaining: 5.64s\n",
      "238:\tlearn: 0.0553316\ttotal: 1.77s\tremaining: 5.63s\n",
      "239:\tlearn: 0.0551383\ttotal: 1.77s\tremaining: 5.62s\n",
      "240:\tlearn: 0.0549253\ttotal: 1.78s\tremaining: 5.61s\n",
      "241:\tlearn: 0.0547509\ttotal: 1.79s\tremaining: 5.61s\n",
      "242:\tlearn: 0.0544955\ttotal: 1.8s\tremaining: 5.6s\n",
      "243:\tlearn: 0.0543317\ttotal: 1.8s\tremaining: 5.59s\n",
      "244:\tlearn: 0.0541607\ttotal: 1.81s\tremaining: 5.58s\n",
      "245:\tlearn: 0.0540176\ttotal: 1.82s\tremaining: 5.57s\n",
      "246:\tlearn: 0.0539303\ttotal: 1.82s\tremaining: 5.57s\n",
      "247:\tlearn: 0.0537134\ttotal: 1.83s\tremaining: 5.55s\n",
      "248:\tlearn: 0.0536074\ttotal: 1.84s\tremaining: 5.54s\n",
      "249:\tlearn: 0.0534377\ttotal: 1.84s\tremaining: 5.53s\n",
      "250:\tlearn: 0.0532710\ttotal: 1.85s\tremaining: 5.52s\n",
      "251:\tlearn: 0.0531488\ttotal: 1.86s\tremaining: 5.51s\n",
      "252:\tlearn: 0.0529803\ttotal: 1.86s\tremaining: 5.5s\n",
      "253:\tlearn: 0.0525912\ttotal: 1.87s\tremaining: 5.49s\n",
      "254:\tlearn: 0.0523519\ttotal: 1.87s\tremaining: 5.48s\n",
      "255:\tlearn: 0.0521881\ttotal: 1.88s\tremaining: 5.47s\n",
      "256:\tlearn: 0.0520359\ttotal: 1.89s\tremaining: 5.46s\n",
      "257:\tlearn: 0.0519219\ttotal: 1.9s\tremaining: 5.45s\n",
      "258:\tlearn: 0.0518129\ttotal: 1.9s\tremaining: 5.44s\n",
      "259:\tlearn: 0.0516381\ttotal: 1.91s\tremaining: 5.43s\n",
      "260:\tlearn: 0.0515239\ttotal: 1.91s\tremaining: 5.42s\n",
      "261:\tlearn: 0.0513655\ttotal: 1.92s\tremaining: 5.41s\n",
      "262:\tlearn: 0.0511648\ttotal: 1.93s\tremaining: 5.4s\n",
      "263:\tlearn: 0.0510249\ttotal: 1.93s\tremaining: 5.38s\n",
      "264:\tlearn: 0.0508909\ttotal: 1.94s\tremaining: 5.37s\n",
      "265:\tlearn: 0.0505738\ttotal: 1.94s\tremaining: 5.36s\n",
      "266:\tlearn: 0.0502712\ttotal: 1.95s\tremaining: 5.35s\n",
      "267:\tlearn: 0.0500744\ttotal: 1.96s\tremaining: 5.34s\n",
      "268:\tlearn: 0.0498269\ttotal: 1.96s\tremaining: 5.33s\n",
      "269:\tlearn: 0.0496819\ttotal: 1.97s\tremaining: 5.32s\n",
      "270:\tlearn: 0.0495029\ttotal: 1.98s\tremaining: 5.31s\n",
      "271:\tlearn: 0.0493751\ttotal: 1.98s\tremaining: 5.3s\n",
      "272:\tlearn: 0.0492759\ttotal: 1.99s\tremaining: 5.3s\n",
      "273:\tlearn: 0.0491159\ttotal: 2s\tremaining: 5.29s\n",
      "274:\tlearn: 0.0490052\ttotal: 2s\tremaining: 5.28s\n",
      "275:\tlearn: 0.0487401\ttotal: 2.01s\tremaining: 5.27s\n",
      "276:\tlearn: 0.0484551\ttotal: 2.02s\tremaining: 5.27s\n",
      "277:\tlearn: 0.0481828\ttotal: 2.03s\tremaining: 5.26s\n",
      "278:\tlearn: 0.0480677\ttotal: 2.03s\tremaining: 5.25s\n",
      "279:\tlearn: 0.0479978\ttotal: 2.04s\tremaining: 5.24s\n",
      "280:\tlearn: 0.0479485\ttotal: 2.04s\tremaining: 5.23s\n",
      "281:\tlearn: 0.0478209\ttotal: 2.05s\tremaining: 5.22s\n",
      "282:\tlearn: 0.0474817\ttotal: 2.06s\tremaining: 5.21s\n",
      "283:\tlearn: 0.0472947\ttotal: 2.06s\tremaining: 5.2s\n",
      "284:\tlearn: 0.0472175\ttotal: 2.07s\tremaining: 5.19s\n",
      "285:\tlearn: 0.0470920\ttotal: 2.07s\tremaining: 5.18s\n",
      "286:\tlearn: 0.0469364\ttotal: 2.08s\tremaining: 5.17s\n",
      "287:\tlearn: 0.0468360\ttotal: 2.09s\tremaining: 5.16s\n",
      "288:\tlearn: 0.0467874\ttotal: 2.09s\tremaining: 5.15s\n",
      "289:\tlearn: 0.0466209\ttotal: 2.1s\tremaining: 5.14s\n",
      "290:\tlearn: 0.0465335\ttotal: 2.11s\tremaining: 5.13s\n",
      "291:\tlearn: 0.0463840\ttotal: 2.11s\tremaining: 5.12s\n",
      "292:\tlearn: 0.0462817\ttotal: 2.12s\tremaining: 5.11s\n",
      "293:\tlearn: 0.0460473\ttotal: 2.12s\tremaining: 5.1s\n",
      "294:\tlearn: 0.0459060\ttotal: 2.13s\tremaining: 5.09s\n",
      "295:\tlearn: 0.0457127\ttotal: 2.13s\tremaining: 5.08s\n",
      "296:\tlearn: 0.0455666\ttotal: 2.15s\tremaining: 5.08s\n",
      "297:\tlearn: 0.0454205\ttotal: 2.16s\tremaining: 5.08s\n",
      "298:\tlearn: 0.0452928\ttotal: 2.16s\tremaining: 5.07s\n",
      "299:\tlearn: 0.0452532\ttotal: 2.17s\tremaining: 5.06s\n",
      "300:\tlearn: 0.0450857\ttotal: 2.18s\tremaining: 5.05s\n",
      "301:\tlearn: 0.0450150\ttotal: 2.18s\tremaining: 5.05s\n",
      "302:\tlearn: 0.0448991\ttotal: 2.19s\tremaining: 5.04s\n",
      "303:\tlearn: 0.0447195\ttotal: 2.2s\tremaining: 5.03s\n",
      "304:\tlearn: 0.0446028\ttotal: 2.21s\tremaining: 5.03s\n",
      "305:\tlearn: 0.0445277\ttotal: 2.21s\tremaining: 5.02s\n",
      "306:\tlearn: 0.0444262\ttotal: 2.22s\tremaining: 5.01s\n",
      "307:\tlearn: 0.0442211\ttotal: 2.22s\tremaining: 5s\n",
      "308:\tlearn: 0.0441334\ttotal: 2.23s\tremaining: 4.99s\n",
      "309:\tlearn: 0.0439808\ttotal: 2.24s\tremaining: 4.98s\n",
      "310:\tlearn: 0.0438877\ttotal: 2.25s\tremaining: 4.97s\n",
      "311:\tlearn: 0.0436907\ttotal: 2.25s\tremaining: 4.96s\n",
      "312:\tlearn: 0.0435185\ttotal: 2.26s\tremaining: 4.96s\n",
      "313:\tlearn: 0.0434063\ttotal: 2.26s\tremaining: 4.95s\n",
      "314:\tlearn: 0.0432752\ttotal: 2.27s\tremaining: 4.94s\n",
      "315:\tlearn: 0.0431633\ttotal: 2.28s\tremaining: 4.93s\n",
      "316:\tlearn: 0.0430676\ttotal: 2.29s\tremaining: 4.92s\n",
      "317:\tlearn: 0.0429220\ttotal: 2.29s\tremaining: 4.92s\n",
      "318:\tlearn: 0.0428253\ttotal: 2.3s\tremaining: 4.91s\n",
      "319:\tlearn: 0.0426230\ttotal: 2.31s\tremaining: 4.9s\n",
      "320:\tlearn: 0.0425161\ttotal: 2.31s\tremaining: 4.89s\n",
      "321:\tlearn: 0.0423189\ttotal: 2.32s\tremaining: 4.88s\n",
      "322:\tlearn: 0.0421964\ttotal: 2.32s\tremaining: 4.87s\n",
      "323:\tlearn: 0.0419915\ttotal: 2.33s\tremaining: 4.86s\n",
      "324:\tlearn: 0.0417967\ttotal: 2.33s\tremaining: 4.85s\n",
      "325:\tlearn: 0.0416823\ttotal: 2.34s\tremaining: 4.84s\n",
      "326:\tlearn: 0.0415893\ttotal: 2.35s\tremaining: 4.83s\n",
      "327:\tlearn: 0.0414479\ttotal: 2.35s\tremaining: 4.82s\n",
      "328:\tlearn: 0.0413454\ttotal: 2.36s\tremaining: 4.81s\n",
      "329:\tlearn: 0.0413050\ttotal: 2.37s\tremaining: 4.8s\n",
      "330:\tlearn: 0.0412542\ttotal: 2.37s\tremaining: 4.8s\n",
      "331:\tlearn: 0.0410963\ttotal: 2.38s\tremaining: 4.79s\n",
      "332:\tlearn: 0.0409534\ttotal: 2.39s\tremaining: 4.78s\n",
      "333:\tlearn: 0.0408841\ttotal: 2.4s\tremaining: 4.78s\n",
      "334:\tlearn: 0.0407262\ttotal: 2.4s\tremaining: 4.77s\n",
      "335:\tlearn: 0.0405826\ttotal: 2.41s\tremaining: 4.76s\n",
      "336:\tlearn: 0.0403730\ttotal: 2.42s\tremaining: 4.76s\n",
      "337:\tlearn: 0.0402609\ttotal: 2.43s\tremaining: 4.75s\n",
      "338:\tlearn: 0.0402186\ttotal: 2.43s\tremaining: 4.75s\n",
      "339:\tlearn: 0.0401155\ttotal: 2.44s\tremaining: 4.75s\n",
      "340:\tlearn: 0.0399612\ttotal: 2.45s\tremaining: 4.74s\n",
      "341:\tlearn: 0.0398397\ttotal: 2.46s\tremaining: 4.73s\n",
      "342:\tlearn: 0.0397852\ttotal: 2.47s\tremaining: 4.73s\n",
      "343:\tlearn: 0.0397139\ttotal: 2.48s\tremaining: 4.72s\n",
      "344:\tlearn: 0.0396146\ttotal: 2.48s\tremaining: 4.72s\n",
      "345:\tlearn: 0.0394549\ttotal: 2.49s\tremaining: 4.71s\n",
      "346:\tlearn: 0.0393993\ttotal: 2.5s\tremaining: 4.7s\n",
      "347:\tlearn: 0.0392832\ttotal: 2.51s\tremaining: 4.7s\n",
      "348:\tlearn: 0.0392479\ttotal: 2.51s\tremaining: 4.69s\n",
      "349:\tlearn: 0.0391446\ttotal: 2.52s\tremaining: 4.68s\n",
      "350:\tlearn: 0.0390305\ttotal: 2.53s\tremaining: 4.67s\n",
      "351:\tlearn: 0.0389754\ttotal: 2.53s\tremaining: 4.66s\n",
      "352:\tlearn: 0.0388296\ttotal: 2.54s\tremaining: 4.65s\n",
      "353:\tlearn: 0.0387268\ttotal: 2.55s\tremaining: 4.65s\n",
      "354:\tlearn: 0.0386706\ttotal: 2.55s\tremaining: 4.64s\n",
      "355:\tlearn: 0.0384579\ttotal: 2.56s\tremaining: 4.63s\n",
      "356:\tlearn: 0.0383954\ttotal: 2.56s\tremaining: 4.62s\n",
      "357:\tlearn: 0.0382775\ttotal: 2.57s\tremaining: 4.61s\n",
      "358:\tlearn: 0.0382093\ttotal: 2.58s\tremaining: 4.6s\n",
      "359:\tlearn: 0.0381268\ttotal: 2.58s\tremaining: 4.59s\n",
      "360:\tlearn: 0.0379264\ttotal: 2.59s\tremaining: 4.58s\n",
      "361:\tlearn: 0.0378858\ttotal: 2.6s\tremaining: 4.58s\n",
      "362:\tlearn: 0.0376828\ttotal: 2.6s\tremaining: 4.57s\n",
      "363:\tlearn: 0.0375865\ttotal: 2.61s\tremaining: 4.56s\n",
      "364:\tlearn: 0.0374888\ttotal: 2.62s\tremaining: 4.55s\n",
      "365:\tlearn: 0.0373724\ttotal: 2.62s\tremaining: 4.54s\n",
      "366:\tlearn: 0.0372493\ttotal: 2.63s\tremaining: 4.53s\n",
      "367:\tlearn: 0.0371525\ttotal: 2.63s\tremaining: 4.52s\n",
      "368:\tlearn: 0.0370389\ttotal: 2.64s\tremaining: 4.51s\n",
      "369:\tlearn: 0.0369501\ttotal: 2.64s\tremaining: 4.5s\n",
      "370:\tlearn: 0.0368896\ttotal: 2.65s\tremaining: 4.5s\n",
      "371:\tlearn: 0.0367653\ttotal: 2.66s\tremaining: 4.49s\n",
      "372:\tlearn: 0.0367089\ttotal: 2.67s\tremaining: 4.48s\n",
      "373:\tlearn: 0.0366641\ttotal: 2.67s\tremaining: 4.47s\n",
      "374:\tlearn: 0.0363856\ttotal: 2.68s\tremaining: 4.46s\n",
      "375:\tlearn: 0.0362818\ttotal: 2.68s\tremaining: 4.46s\n",
      "376:\tlearn: 0.0361360\ttotal: 2.69s\tremaining: 4.45s\n",
      "377:\tlearn: 0.0359944\ttotal: 2.7s\tremaining: 4.44s\n",
      "378:\tlearn: 0.0358351\ttotal: 2.7s\tremaining: 4.43s\n",
      "379:\tlearn: 0.0357623\ttotal: 2.71s\tremaining: 4.42s\n",
      "380:\tlearn: 0.0356629\ttotal: 2.71s\tremaining: 4.41s\n",
      "381:\tlearn: 0.0355697\ttotal: 2.72s\tremaining: 4.4s\n",
      "382:\tlearn: 0.0354906\ttotal: 2.73s\tremaining: 4.39s\n",
      "383:\tlearn: 0.0353570\ttotal: 2.73s\tremaining: 4.38s\n",
      "384:\tlearn: 0.0352067\ttotal: 2.74s\tremaining: 4.38s\n",
      "385:\tlearn: 0.0351405\ttotal: 2.75s\tremaining: 4.37s\n",
      "386:\tlearn: 0.0350429\ttotal: 2.75s\tremaining: 4.36s\n",
      "387:\tlearn: 0.0349123\ttotal: 2.76s\tremaining: 4.35s\n",
      "388:\tlearn: 0.0348161\ttotal: 2.76s\tremaining: 4.34s\n",
      "389:\tlearn: 0.0347405\ttotal: 2.77s\tremaining: 4.33s\n",
      "390:\tlearn: 0.0346322\ttotal: 2.78s\tremaining: 4.33s\n",
      "391:\tlearn: 0.0345316\ttotal: 2.78s\tremaining: 4.32s\n",
      "392:\tlearn: 0.0344386\ttotal: 2.79s\tremaining: 4.31s\n",
      "393:\tlearn: 0.0342913\ttotal: 2.79s\tremaining: 4.3s\n",
      "394:\tlearn: 0.0341722\ttotal: 2.8s\tremaining: 4.29s\n",
      "395:\tlearn: 0.0341229\ttotal: 2.81s\tremaining: 4.28s\n",
      "396:\tlearn: 0.0340593\ttotal: 2.81s\tremaining: 4.28s\n",
      "397:\tlearn: 0.0339285\ttotal: 2.82s\tremaining: 4.26s\n",
      "398:\tlearn: 0.0337938\ttotal: 2.83s\tremaining: 4.26s\n",
      "399:\tlearn: 0.0336672\ttotal: 2.83s\tremaining: 4.25s\n",
      "400:\tlearn: 0.0336086\ttotal: 2.84s\tremaining: 4.24s\n",
      "401:\tlearn: 0.0335794\ttotal: 2.85s\tremaining: 4.23s\n",
      "402:\tlearn: 0.0334842\ttotal: 2.85s\tremaining: 4.22s\n",
      "403:\tlearn: 0.0334051\ttotal: 2.86s\tremaining: 4.22s\n",
      "404:\tlearn: 0.0332884\ttotal: 2.86s\tremaining: 4.21s\n",
      "405:\tlearn: 0.0332003\ttotal: 2.87s\tremaining: 4.2s\n",
      "406:\tlearn: 0.0330593\ttotal: 2.88s\tremaining: 4.19s\n",
      "407:\tlearn: 0.0329588\ttotal: 2.88s\tremaining: 4.18s\n",
      "408:\tlearn: 0.0328882\ttotal: 2.89s\tremaining: 4.18s\n",
      "409:\tlearn: 0.0327712\ttotal: 2.9s\tremaining: 4.17s\n",
      "410:\tlearn: 0.0326251\ttotal: 2.9s\tremaining: 4.16s\n",
      "411:\tlearn: 0.0325399\ttotal: 2.91s\tremaining: 4.15s\n",
      "412:\tlearn: 0.0324846\ttotal: 2.92s\tremaining: 4.14s\n",
      "413:\tlearn: 0.0324227\ttotal: 2.92s\tremaining: 4.14s\n",
      "414:\tlearn: 0.0323419\ttotal: 2.93s\tremaining: 4.13s\n",
      "415:\tlearn: 0.0322737\ttotal: 2.94s\tremaining: 4.12s\n",
      "416:\tlearn: 0.0322447\ttotal: 2.94s\tremaining: 4.11s\n",
      "417:\tlearn: 0.0321632\ttotal: 2.95s\tremaining: 4.1s\n",
      "418:\tlearn: 0.0320047\ttotal: 2.95s\tremaining: 4.1s\n",
      "419:\tlearn: 0.0318833\ttotal: 2.96s\tremaining: 4.09s\n",
      "420:\tlearn: 0.0318419\ttotal: 2.97s\tremaining: 4.08s\n",
      "421:\tlearn: 0.0317733\ttotal: 2.97s\tremaining: 4.07s\n",
      "422:\tlearn: 0.0316052\ttotal: 2.98s\tremaining: 4.06s\n",
      "423:\tlearn: 0.0314985\ttotal: 2.98s\tremaining: 4.05s\n",
      "424:\tlearn: 0.0314107\ttotal: 3s\tremaining: 4.05s\n",
      "425:\tlearn: 0.0312943\ttotal: 3s\tremaining: 4.04s\n",
      "426:\tlearn: 0.0311810\ttotal: 3.01s\tremaining: 4.04s\n",
      "427:\tlearn: 0.0311160\ttotal: 3.01s\tremaining: 4.03s\n",
      "428:\tlearn: 0.0310894\ttotal: 3.02s\tremaining: 4.02s\n",
      "429:\tlearn: 0.0310510\ttotal: 3.02s\tremaining: 4.01s\n",
      "430:\tlearn: 0.0309914\ttotal: 3.03s\tremaining: 4s\n",
      "431:\tlearn: 0.0309379\ttotal: 3.04s\tremaining: 3.99s\n",
      "432:\tlearn: 0.0307966\ttotal: 3.04s\tremaining: 3.99s\n",
      "433:\tlearn: 0.0307389\ttotal: 3.05s\tremaining: 3.98s\n",
      "434:\tlearn: 0.0306352\ttotal: 3.06s\tremaining: 3.97s\n",
      "435:\tlearn: 0.0305429\ttotal: 3.06s\tremaining: 3.96s\n",
      "436:\tlearn: 0.0304397\ttotal: 3.07s\tremaining: 3.96s\n",
      "437:\tlearn: 0.0304076\ttotal: 3.08s\tremaining: 3.95s\n",
      "438:\tlearn: 0.0302872\ttotal: 3.08s\tremaining: 3.94s\n",
      "439:\tlearn: 0.0302133\ttotal: 3.09s\tremaining: 3.93s\n",
      "440:\tlearn: 0.0300885\ttotal: 3.1s\tremaining: 3.92s\n",
      "441:\tlearn: 0.0300187\ttotal: 3.1s\tremaining: 3.92s\n",
      "442:\tlearn: 0.0299513\ttotal: 3.12s\tremaining: 3.93s\n",
      "443:\tlearn: 0.0299032\ttotal: 3.14s\tremaining: 3.93s\n",
      "444:\tlearn: 0.0298291\ttotal: 3.15s\tremaining: 3.92s\n",
      "445:\tlearn: 0.0297472\ttotal: 3.15s\tremaining: 3.92s\n",
      "446:\tlearn: 0.0296442\ttotal: 3.16s\tremaining: 3.91s\n",
      "447:\tlearn: 0.0295740\ttotal: 3.17s\tremaining: 3.9s\n",
      "448:\tlearn: 0.0295196\ttotal: 3.17s\tremaining: 3.89s\n",
      "449:\tlearn: 0.0294404\ttotal: 3.18s\tremaining: 3.89s\n",
      "450:\tlearn: 0.0294140\ttotal: 3.19s\tremaining: 3.88s\n",
      "451:\tlearn: 0.0293821\ttotal: 3.19s\tremaining: 3.87s\n",
      "452:\tlearn: 0.0293111\ttotal: 3.2s\tremaining: 3.87s\n",
      "453:\tlearn: 0.0292664\ttotal: 3.21s\tremaining: 3.86s\n",
      "454:\tlearn: 0.0291962\ttotal: 3.21s\tremaining: 3.85s\n",
      "455:\tlearn: 0.0291146\ttotal: 3.22s\tremaining: 3.85s\n",
      "456:\tlearn: 0.0290492\ttotal: 3.23s\tremaining: 3.84s\n",
      "457:\tlearn: 0.0289818\ttotal: 3.24s\tremaining: 3.83s\n",
      "458:\tlearn: 0.0288836\ttotal: 3.24s\tremaining: 3.82s\n",
      "459:\tlearn: 0.0287808\ttotal: 3.25s\tremaining: 3.81s\n",
      "460:\tlearn: 0.0287427\ttotal: 3.25s\tremaining: 3.81s\n",
      "461:\tlearn: 0.0286972\ttotal: 3.26s\tremaining: 3.8s\n",
      "462:\tlearn: 0.0286255\ttotal: 3.27s\tremaining: 3.79s\n",
      "463:\tlearn: 0.0285767\ttotal: 3.27s\tremaining: 3.78s\n",
      "464:\tlearn: 0.0284614\ttotal: 3.28s\tremaining: 3.78s\n",
      "465:\tlearn: 0.0283501\ttotal: 3.29s\tremaining: 3.77s\n",
      "466:\tlearn: 0.0283002\ttotal: 3.29s\tremaining: 3.76s\n",
      "467:\tlearn: 0.0282661\ttotal: 3.3s\tremaining: 3.75s\n",
      "468:\tlearn: 0.0282040\ttotal: 3.31s\tremaining: 3.75s\n",
      "469:\tlearn: 0.0281190\ttotal: 3.32s\tremaining: 3.74s\n",
      "470:\tlearn: 0.0280404\ttotal: 3.33s\tremaining: 3.73s\n",
      "471:\tlearn: 0.0279550\ttotal: 3.33s\tremaining: 3.73s\n",
      "472:\tlearn: 0.0278893\ttotal: 3.34s\tremaining: 3.72s\n",
      "473:\tlearn: 0.0278046\ttotal: 3.35s\tremaining: 3.71s\n",
      "474:\tlearn: 0.0277599\ttotal: 3.35s\tremaining: 3.71s\n",
      "475:\tlearn: 0.0276675\ttotal: 3.36s\tremaining: 3.7s\n",
      "476:\tlearn: 0.0276003\ttotal: 3.37s\tremaining: 3.69s\n",
      "477:\tlearn: 0.0275343\ttotal: 3.37s\tremaining: 3.69s\n",
      "478:\tlearn: 0.0274609\ttotal: 3.38s\tremaining: 3.68s\n",
      "479:\tlearn: 0.0273251\ttotal: 3.39s\tremaining: 3.67s\n",
      "480:\tlearn: 0.0272229\ttotal: 3.4s\tremaining: 3.66s\n",
      "481:\tlearn: 0.0271823\ttotal: 3.4s\tremaining: 3.66s\n",
      "482:\tlearn: 0.0271155\ttotal: 3.41s\tremaining: 3.65s\n",
      "483:\tlearn: 0.0270264\ttotal: 3.42s\tremaining: 3.64s\n",
      "484:\tlearn: 0.0269733\ttotal: 3.42s\tremaining: 3.63s\n",
      "485:\tlearn: 0.0268975\ttotal: 3.43s\tremaining: 3.63s\n",
      "486:\tlearn: 0.0268364\ttotal: 3.44s\tremaining: 3.62s\n",
      "487:\tlearn: 0.0268018\ttotal: 3.44s\tremaining: 3.61s\n",
      "488:\tlearn: 0.0267161\ttotal: 3.45s\tremaining: 3.61s\n",
      "489:\tlearn: 0.0266759\ttotal: 3.46s\tremaining: 3.6s\n",
      "490:\tlearn: 0.0266191\ttotal: 3.47s\tremaining: 3.6s\n",
      "491:\tlearn: 0.0265758\ttotal: 3.48s\tremaining: 3.6s\n",
      "492:\tlearn: 0.0265241\ttotal: 3.5s\tremaining: 3.59s\n",
      "493:\tlearn: 0.0264961\ttotal: 3.5s\tremaining: 3.59s\n",
      "494:\tlearn: 0.0264562\ttotal: 3.51s\tremaining: 3.58s\n",
      "495:\tlearn: 0.0264095\ttotal: 3.52s\tremaining: 3.58s\n",
      "496:\tlearn: 0.0263570\ttotal: 3.52s\tremaining: 3.57s\n",
      "497:\tlearn: 0.0263132\ttotal: 3.54s\tremaining: 3.56s\n",
      "498:\tlearn: 0.0262786\ttotal: 3.54s\tremaining: 3.56s\n",
      "499:\tlearn: 0.0262329\ttotal: 3.55s\tremaining: 3.55s\n",
      "500:\tlearn: 0.0261503\ttotal: 3.56s\tremaining: 3.54s\n",
      "501:\tlearn: 0.0260671\ttotal: 3.56s\tremaining: 3.54s\n",
      "502:\tlearn: 0.0259992\ttotal: 3.57s\tremaining: 3.53s\n",
      "503:\tlearn: 0.0259506\ttotal: 3.58s\tremaining: 3.52s\n",
      "504:\tlearn: 0.0259257\ttotal: 3.58s\tremaining: 3.51s\n",
      "505:\tlearn: 0.0257277\ttotal: 3.59s\tremaining: 3.51s\n",
      "506:\tlearn: 0.0256468\ttotal: 3.6s\tremaining: 3.5s\n",
      "507:\tlearn: 0.0255855\ttotal: 3.61s\tremaining: 3.49s\n",
      "508:\tlearn: 0.0255352\ttotal: 3.61s\tremaining: 3.48s\n",
      "509:\tlearn: 0.0254281\ttotal: 3.62s\tremaining: 3.48s\n",
      "510:\tlearn: 0.0253964\ttotal: 3.63s\tremaining: 3.48s\n",
      "511:\tlearn: 0.0253376\ttotal: 3.64s\tremaining: 3.47s\n",
      "512:\tlearn: 0.0252754\ttotal: 3.64s\tremaining: 3.46s\n",
      "513:\tlearn: 0.0251899\ttotal: 3.66s\tremaining: 3.46s\n",
      "514:\tlearn: 0.0251147\ttotal: 3.68s\tremaining: 3.46s\n",
      "515:\tlearn: 0.0250600\ttotal: 3.69s\tremaining: 3.46s\n",
      "516:\tlearn: 0.0249998\ttotal: 3.7s\tremaining: 3.46s\n",
      "517:\tlearn: 0.0249520\ttotal: 3.71s\tremaining: 3.45s\n",
      "518:\tlearn: 0.0249204\ttotal: 3.72s\tremaining: 3.45s\n",
      "519:\tlearn: 0.0248713\ttotal: 3.73s\tremaining: 3.44s\n",
      "520:\tlearn: 0.0248037\ttotal: 3.74s\tremaining: 3.43s\n",
      "521:\tlearn: 0.0247460\ttotal: 3.74s\tremaining: 3.43s\n",
      "522:\tlearn: 0.0246954\ttotal: 3.75s\tremaining: 3.42s\n",
      "523:\tlearn: 0.0246749\ttotal: 3.76s\tremaining: 3.41s\n",
      "524:\tlearn: 0.0246310\ttotal: 3.77s\tremaining: 3.41s\n",
      "525:\tlearn: 0.0245926\ttotal: 3.77s\tremaining: 3.4s\n",
      "526:\tlearn: 0.0245272\ttotal: 3.78s\tremaining: 3.39s\n",
      "527:\tlearn: 0.0244473\ttotal: 3.79s\tremaining: 3.39s\n",
      "528:\tlearn: 0.0244058\ttotal: 3.8s\tremaining: 3.38s\n",
      "529:\tlearn: 0.0243472\ttotal: 3.81s\tremaining: 3.38s\n",
      "530:\tlearn: 0.0241813\ttotal: 3.81s\tremaining: 3.37s\n",
      "531:\tlearn: 0.0241660\ttotal: 3.82s\tremaining: 3.36s\n",
      "532:\tlearn: 0.0241227\ttotal: 3.83s\tremaining: 3.36s\n",
      "533:\tlearn: 0.0240626\ttotal: 3.85s\tremaining: 3.36s\n",
      "534:\tlearn: 0.0240050\ttotal: 3.85s\tremaining: 3.35s\n",
      "535:\tlearn: 0.0239561\ttotal: 3.86s\tremaining: 3.34s\n",
      "536:\tlearn: 0.0239165\ttotal: 3.87s\tremaining: 3.34s\n",
      "537:\tlearn: 0.0238730\ttotal: 3.88s\tremaining: 3.33s\n",
      "538:\tlearn: 0.0238328\ttotal: 3.89s\tremaining: 3.33s\n",
      "539:\tlearn: 0.0237853\ttotal: 3.9s\tremaining: 3.32s\n",
      "540:\tlearn: 0.0237665\ttotal: 3.91s\tremaining: 3.31s\n",
      "541:\tlearn: 0.0237165\ttotal: 3.92s\tremaining: 3.31s\n",
      "542:\tlearn: 0.0236615\ttotal: 3.93s\tremaining: 3.31s\n",
      "543:\tlearn: 0.0236013\ttotal: 3.94s\tremaining: 3.3s\n",
      "544:\tlearn: 0.0235173\ttotal: 3.94s\tremaining: 3.29s\n",
      "545:\tlearn: 0.0234858\ttotal: 3.96s\tremaining: 3.29s\n",
      "546:\tlearn: 0.0234610\ttotal: 3.96s\tremaining: 3.28s\n",
      "547:\tlearn: 0.0234221\ttotal: 3.97s\tremaining: 3.28s\n",
      "548:\tlearn: 0.0233950\ttotal: 3.98s\tremaining: 3.27s\n",
      "549:\tlearn: 0.0233635\ttotal: 3.98s\tremaining: 3.26s\n",
      "550:\tlearn: 0.0233156\ttotal: 3.99s\tremaining: 3.25s\n",
      "551:\tlearn: 0.0232544\ttotal: 4s\tremaining: 3.24s\n",
      "552:\tlearn: 0.0232407\ttotal: 4s\tremaining: 3.24s\n",
      "553:\tlearn: 0.0231974\ttotal: 4.01s\tremaining: 3.23s\n",
      "554:\tlearn: 0.0231381\ttotal: 4.02s\tremaining: 3.22s\n",
      "555:\tlearn: 0.0230594\ttotal: 4.02s\tremaining: 3.21s\n",
      "556:\tlearn: 0.0230426\ttotal: 4.03s\tremaining: 3.21s\n",
      "557:\tlearn: 0.0229379\ttotal: 4.04s\tremaining: 3.2s\n",
      "558:\tlearn: 0.0228843\ttotal: 4.04s\tremaining: 3.19s\n",
      "559:\tlearn: 0.0228395\ttotal: 4.05s\tremaining: 3.18s\n",
      "560:\tlearn: 0.0228082\ttotal: 4.05s\tremaining: 3.17s\n",
      "561:\tlearn: 0.0227729\ttotal: 4.06s\tremaining: 3.17s\n",
      "562:\tlearn: 0.0227201\ttotal: 4.07s\tremaining: 3.16s\n",
      "563:\tlearn: 0.0226804\ttotal: 4.08s\tremaining: 3.15s\n",
      "564:\tlearn: 0.0226283\ttotal: 4.09s\tremaining: 3.15s\n",
      "565:\tlearn: 0.0226009\ttotal: 4.09s\tremaining: 3.14s\n",
      "566:\tlearn: 0.0225715\ttotal: 4.1s\tremaining: 3.13s\n",
      "567:\tlearn: 0.0225359\ttotal: 4.11s\tremaining: 3.13s\n",
      "568:\tlearn: 0.0225113\ttotal: 4.12s\tremaining: 3.12s\n",
      "569:\tlearn: 0.0224613\ttotal: 4.13s\tremaining: 3.12s\n",
      "570:\tlearn: 0.0224180\ttotal: 4.14s\tremaining: 3.11s\n",
      "571:\tlearn: 0.0224018\ttotal: 4.15s\tremaining: 3.11s\n",
      "572:\tlearn: 0.0223478\ttotal: 4.16s\tremaining: 3.1s\n",
      "573:\tlearn: 0.0222911\ttotal: 4.16s\tremaining: 3.09s\n",
      "574:\tlearn: 0.0222478\ttotal: 4.17s\tremaining: 3.08s\n",
      "575:\tlearn: 0.0221925\ttotal: 4.18s\tremaining: 3.08s\n",
      "576:\tlearn: 0.0221037\ttotal: 4.18s\tremaining: 3.07s\n",
      "577:\tlearn: 0.0220271\ttotal: 4.19s\tremaining: 3.06s\n",
      "578:\tlearn: 0.0219856\ttotal: 4.2s\tremaining: 3.06s\n",
      "579:\tlearn: 0.0219231\ttotal: 4.21s\tremaining: 3.05s\n",
      "580:\tlearn: 0.0218925\ttotal: 4.22s\tremaining: 3.04s\n",
      "581:\tlearn: 0.0218736\ttotal: 4.22s\tremaining: 3.03s\n",
      "582:\tlearn: 0.0218478\ttotal: 4.23s\tremaining: 3.02s\n",
      "583:\tlearn: 0.0218051\ttotal: 4.24s\tremaining: 3.02s\n",
      "584:\tlearn: 0.0217283\ttotal: 4.24s\tremaining: 3.01s\n",
      "585:\tlearn: 0.0216844\ttotal: 4.25s\tremaining: 3s\n",
      "586:\tlearn: 0.0216049\ttotal: 4.26s\tremaining: 3s\n",
      "587:\tlearn: 0.0215745\ttotal: 4.26s\tremaining: 2.99s\n",
      "588:\tlearn: 0.0215570\ttotal: 4.27s\tremaining: 2.98s\n",
      "589:\tlearn: 0.0215115\ttotal: 4.28s\tremaining: 2.97s\n",
      "590:\tlearn: 0.0214576\ttotal: 4.29s\tremaining: 2.96s\n",
      "591:\tlearn: 0.0213896\ttotal: 4.29s\tremaining: 2.96s\n",
      "592:\tlearn: 0.0213605\ttotal: 4.3s\tremaining: 2.95s\n",
      "593:\tlearn: 0.0213248\ttotal: 4.31s\tremaining: 2.94s\n",
      "594:\tlearn: 0.0212610\ttotal: 4.31s\tremaining: 2.94s\n",
      "595:\tlearn: 0.0212395\ttotal: 4.32s\tremaining: 2.93s\n",
      "596:\tlearn: 0.0212159\ttotal: 4.32s\tremaining: 2.92s\n",
      "597:\tlearn: 0.0211778\ttotal: 4.33s\tremaining: 2.91s\n",
      "598:\tlearn: 0.0211236\ttotal: 4.34s\tremaining: 2.9s\n",
      "599:\tlearn: 0.0210494\ttotal: 4.35s\tremaining: 2.9s\n",
      "600:\tlearn: 0.0209817\ttotal: 4.35s\tremaining: 2.89s\n",
      "601:\tlearn: 0.0209544\ttotal: 4.36s\tremaining: 2.88s\n",
      "602:\tlearn: 0.0209248\ttotal: 4.37s\tremaining: 2.87s\n",
      "603:\tlearn: 0.0208616\ttotal: 4.37s\tremaining: 2.87s\n",
      "604:\tlearn: 0.0208209\ttotal: 4.38s\tremaining: 2.86s\n",
      "605:\tlearn: 0.0207862\ttotal: 4.38s\tremaining: 2.85s\n",
      "606:\tlearn: 0.0207302\ttotal: 4.39s\tremaining: 2.84s\n",
      "607:\tlearn: 0.0206606\ttotal: 4.4s\tremaining: 2.83s\n",
      "608:\tlearn: 0.0206383\ttotal: 4.4s\tremaining: 2.83s\n",
      "609:\tlearn: 0.0205922\ttotal: 4.41s\tremaining: 2.82s\n",
      "610:\tlearn: 0.0205711\ttotal: 4.41s\tremaining: 2.81s\n",
      "611:\tlearn: 0.0205333\ttotal: 4.42s\tremaining: 2.8s\n",
      "612:\tlearn: 0.0205002\ttotal: 4.43s\tremaining: 2.79s\n",
      "613:\tlearn: 0.0204432\ttotal: 4.43s\tremaining: 2.79s\n",
      "614:\tlearn: 0.0204188\ttotal: 4.44s\tremaining: 2.78s\n",
      "615:\tlearn: 0.0204070\ttotal: 4.44s\tremaining: 2.77s\n",
      "616:\tlearn: 0.0203850\ttotal: 4.45s\tremaining: 2.76s\n",
      "617:\tlearn: 0.0203449\ttotal: 4.46s\tremaining: 2.75s\n",
      "618:\tlearn: 0.0203300\ttotal: 4.46s\tremaining: 2.75s\n",
      "619:\tlearn: 0.0203151\ttotal: 4.47s\tremaining: 2.74s\n",
      "620:\tlearn: 0.0202874\ttotal: 4.47s\tremaining: 2.73s\n",
      "621:\tlearn: 0.0202391\ttotal: 4.48s\tremaining: 2.72s\n",
      "622:\tlearn: 0.0202226\ttotal: 4.49s\tremaining: 2.71s\n",
      "623:\tlearn: 0.0201941\ttotal: 4.49s\tremaining: 2.71s\n",
      "624:\tlearn: 0.0201731\ttotal: 4.5s\tremaining: 2.7s\n",
      "625:\tlearn: 0.0201235\ttotal: 4.51s\tremaining: 2.69s\n",
      "626:\tlearn: 0.0201110\ttotal: 4.51s\tremaining: 2.69s\n",
      "627:\tlearn: 0.0200759\ttotal: 4.52s\tremaining: 2.68s\n",
      "628:\tlearn: 0.0200381\ttotal: 4.53s\tremaining: 2.67s\n",
      "629:\tlearn: 0.0199881\ttotal: 4.53s\tremaining: 2.66s\n",
      "630:\tlearn: 0.0199330\ttotal: 4.54s\tremaining: 2.65s\n",
      "631:\tlearn: 0.0199031\ttotal: 4.55s\tremaining: 2.65s\n",
      "632:\tlearn: 0.0198527\ttotal: 4.55s\tremaining: 2.64s\n",
      "633:\tlearn: 0.0198334\ttotal: 4.56s\tremaining: 2.63s\n",
      "634:\tlearn: 0.0198030\ttotal: 4.57s\tremaining: 2.63s\n",
      "635:\tlearn: 0.0197737\ttotal: 4.57s\tremaining: 2.62s\n",
      "636:\tlearn: 0.0197036\ttotal: 4.58s\tremaining: 2.61s\n",
      "637:\tlearn: 0.0196767\ttotal: 4.59s\tremaining: 2.6s\n",
      "638:\tlearn: 0.0196338\ttotal: 4.59s\tremaining: 2.6s\n",
      "639:\tlearn: 0.0196031\ttotal: 4.6s\tremaining: 2.59s\n",
      "640:\tlearn: 0.0195922\ttotal: 4.61s\tremaining: 2.58s\n",
      "641:\tlearn: 0.0195072\ttotal: 4.61s\tremaining: 2.57s\n",
      "642:\tlearn: 0.0194788\ttotal: 4.62s\tremaining: 2.56s\n",
      "643:\tlearn: 0.0194654\ttotal: 4.63s\tremaining: 2.56s\n",
      "644:\tlearn: 0.0194147\ttotal: 4.63s\tremaining: 2.55s\n",
      "645:\tlearn: 0.0193968\ttotal: 4.64s\tremaining: 2.54s\n",
      "646:\tlearn: 0.0193459\ttotal: 4.64s\tremaining: 2.53s\n",
      "647:\tlearn: 0.0193080\ttotal: 4.65s\tremaining: 2.53s\n",
      "648:\tlearn: 0.0192552\ttotal: 4.66s\tremaining: 2.52s\n",
      "649:\tlearn: 0.0192424\ttotal: 4.66s\tremaining: 2.51s\n",
      "650:\tlearn: 0.0192136\ttotal: 4.67s\tremaining: 2.5s\n",
      "651:\tlearn: 0.0191722\ttotal: 4.67s\tremaining: 2.5s\n",
      "652:\tlearn: 0.0191397\ttotal: 4.68s\tremaining: 2.49s\n",
      "653:\tlearn: 0.0190897\ttotal: 4.69s\tremaining: 2.48s\n",
      "654:\tlearn: 0.0190664\ttotal: 4.69s\tremaining: 2.47s\n",
      "655:\tlearn: 0.0190202\ttotal: 4.7s\tremaining: 2.46s\n",
      "656:\tlearn: 0.0189978\ttotal: 4.71s\tremaining: 2.46s\n",
      "657:\tlearn: 0.0189796\ttotal: 4.71s\tremaining: 2.45s\n",
      "658:\tlearn: 0.0189282\ttotal: 4.72s\tremaining: 2.44s\n",
      "659:\tlearn: 0.0189025\ttotal: 4.72s\tremaining: 2.43s\n",
      "660:\tlearn: 0.0188882\ttotal: 4.73s\tremaining: 2.42s\n",
      "661:\tlearn: 0.0188614\ttotal: 4.73s\tremaining: 2.42s\n",
      "662:\tlearn: 0.0188346\ttotal: 4.74s\tremaining: 2.41s\n",
      "663:\tlearn: 0.0188094\ttotal: 4.75s\tremaining: 2.4s\n",
      "664:\tlearn: 0.0187802\ttotal: 4.75s\tremaining: 2.39s\n",
      "665:\tlearn: 0.0187356\ttotal: 4.76s\tremaining: 2.38s\n",
      "666:\tlearn: 0.0187141\ttotal: 4.76s\tremaining: 2.38s\n",
      "667:\tlearn: 0.0186744\ttotal: 4.77s\tremaining: 2.37s\n",
      "668:\tlearn: 0.0186329\ttotal: 4.78s\tremaining: 2.36s\n",
      "669:\tlearn: 0.0186221\ttotal: 4.78s\tremaining: 2.35s\n",
      "670:\tlearn: 0.0185861\ttotal: 4.79s\tremaining: 2.35s\n",
      "671:\tlearn: 0.0185571\ttotal: 4.79s\tremaining: 2.34s\n",
      "672:\tlearn: 0.0185187\ttotal: 4.8s\tremaining: 2.33s\n",
      "673:\tlearn: 0.0184646\ttotal: 4.8s\tremaining: 2.32s\n",
      "674:\tlearn: 0.0183935\ttotal: 4.81s\tremaining: 2.32s\n",
      "675:\tlearn: 0.0183728\ttotal: 4.82s\tremaining: 2.31s\n",
      "676:\tlearn: 0.0183292\ttotal: 4.82s\tremaining: 2.3s\n",
      "677:\tlearn: 0.0182990\ttotal: 4.83s\tremaining: 2.29s\n",
      "678:\tlearn: 0.0182853\ttotal: 4.84s\tremaining: 2.29s\n",
      "679:\tlearn: 0.0182575\ttotal: 4.84s\tremaining: 2.28s\n",
      "680:\tlearn: 0.0182395\ttotal: 4.85s\tremaining: 2.27s\n",
      "681:\tlearn: 0.0182151\ttotal: 4.85s\tremaining: 2.26s\n",
      "682:\tlearn: 0.0181930\ttotal: 4.86s\tremaining: 2.26s\n",
      "683:\tlearn: 0.0181699\ttotal: 4.87s\tremaining: 2.25s\n",
      "684:\tlearn: 0.0181307\ttotal: 4.87s\tremaining: 2.24s\n",
      "685:\tlearn: 0.0180821\ttotal: 4.88s\tremaining: 2.23s\n",
      "686:\tlearn: 0.0180452\ttotal: 4.89s\tremaining: 2.23s\n",
      "687:\tlearn: 0.0180313\ttotal: 4.89s\tremaining: 2.22s\n",
      "688:\tlearn: 0.0179874\ttotal: 4.9s\tremaining: 2.21s\n",
      "689:\tlearn: 0.0179525\ttotal: 4.91s\tremaining: 2.21s\n",
      "690:\tlearn: 0.0179191\ttotal: 4.92s\tremaining: 2.2s\n",
      "691:\tlearn: 0.0178795\ttotal: 4.92s\tremaining: 2.19s\n",
      "692:\tlearn: 0.0178576\ttotal: 4.93s\tremaining: 2.18s\n",
      "693:\tlearn: 0.0178320\ttotal: 4.93s\tremaining: 2.18s\n",
      "694:\tlearn: 0.0178192\ttotal: 4.94s\tremaining: 2.17s\n",
      "695:\tlearn: 0.0177902\ttotal: 4.95s\tremaining: 2.16s\n",
      "696:\tlearn: 0.0177643\ttotal: 4.96s\tremaining: 2.15s\n",
      "697:\tlearn: 0.0177449\ttotal: 4.96s\tremaining: 2.15s\n",
      "698:\tlearn: 0.0177206\ttotal: 4.97s\tremaining: 2.14s\n",
      "699:\tlearn: 0.0176881\ttotal: 4.97s\tremaining: 2.13s\n",
      "700:\tlearn: 0.0176695\ttotal: 4.98s\tremaining: 2.12s\n",
      "701:\tlearn: 0.0176458\ttotal: 4.99s\tremaining: 2.12s\n",
      "702:\tlearn: 0.0176214\ttotal: 4.99s\tremaining: 2.11s\n",
      "703:\tlearn: 0.0175809\ttotal: 5s\tremaining: 2.1s\n",
      "704:\tlearn: 0.0175680\ttotal: 5.01s\tremaining: 2.1s\n",
      "705:\tlearn: 0.0175501\ttotal: 5.01s\tremaining: 2.09s\n",
      "706:\tlearn: 0.0175332\ttotal: 5.03s\tremaining: 2.08s\n",
      "707:\tlearn: 0.0175080\ttotal: 5.03s\tremaining: 2.08s\n",
      "708:\tlearn: 0.0174760\ttotal: 5.05s\tremaining: 2.07s\n",
      "709:\tlearn: 0.0174566\ttotal: 5.06s\tremaining: 2.07s\n",
      "710:\tlearn: 0.0174394\ttotal: 5.07s\tremaining: 2.06s\n",
      "711:\tlearn: 0.0174072\ttotal: 5.07s\tremaining: 2.05s\n",
      "712:\tlearn: 0.0173674\ttotal: 5.08s\tremaining: 2.04s\n",
      "713:\tlearn: 0.0173350\ttotal: 5.09s\tremaining: 2.04s\n",
      "714:\tlearn: 0.0173020\ttotal: 5.1s\tremaining: 2.03s\n",
      "715:\tlearn: 0.0172596\ttotal: 5.1s\tremaining: 2.02s\n",
      "716:\tlearn: 0.0172227\ttotal: 5.11s\tremaining: 2.02s\n",
      "717:\tlearn: 0.0172122\ttotal: 5.12s\tremaining: 2.01s\n",
      "718:\tlearn: 0.0171949\ttotal: 5.13s\tremaining: 2s\n",
      "719:\tlearn: 0.0171744\ttotal: 5.13s\tremaining: 2s\n",
      "720:\tlearn: 0.0171543\ttotal: 5.14s\tremaining: 1.99s\n",
      "721:\tlearn: 0.0171389\ttotal: 5.15s\tremaining: 1.98s\n",
      "722:\tlearn: 0.0171289\ttotal: 5.16s\tremaining: 1.98s\n",
      "723:\tlearn: 0.0171122\ttotal: 5.17s\tremaining: 1.97s\n",
      "724:\tlearn: 0.0170941\ttotal: 5.17s\tremaining: 1.96s\n",
      "725:\tlearn: 0.0170740\ttotal: 5.18s\tremaining: 1.96s\n",
      "726:\tlearn: 0.0170444\ttotal: 5.19s\tremaining: 1.95s\n",
      "727:\tlearn: 0.0170144\ttotal: 5.2s\tremaining: 1.94s\n",
      "728:\tlearn: 0.0169888\ttotal: 5.2s\tremaining: 1.93s\n",
      "729:\tlearn: 0.0169651\ttotal: 5.21s\tremaining: 1.93s\n",
      "730:\tlearn: 0.0169090\ttotal: 5.22s\tremaining: 1.92s\n",
      "731:\tlearn: 0.0168739\ttotal: 5.22s\tremaining: 1.91s\n",
      "732:\tlearn: 0.0168424\ttotal: 5.23s\tremaining: 1.91s\n",
      "733:\tlearn: 0.0168205\ttotal: 5.24s\tremaining: 1.9s\n",
      "734:\tlearn: 0.0167656\ttotal: 5.24s\tremaining: 1.89s\n",
      "735:\tlearn: 0.0167341\ttotal: 5.25s\tremaining: 1.88s\n",
      "736:\tlearn: 0.0166968\ttotal: 5.26s\tremaining: 1.88s\n",
      "737:\tlearn: 0.0166666\ttotal: 5.26s\tremaining: 1.87s\n",
      "738:\tlearn: 0.0166244\ttotal: 5.27s\tremaining: 1.86s\n",
      "739:\tlearn: 0.0165976\ttotal: 5.28s\tremaining: 1.85s\n",
      "740:\tlearn: 0.0165849\ttotal: 5.29s\tremaining: 1.85s\n",
      "741:\tlearn: 0.0165642\ttotal: 5.29s\tremaining: 1.84s\n",
      "742:\tlearn: 0.0165184\ttotal: 5.3s\tremaining: 1.83s\n",
      "743:\tlearn: 0.0164792\ttotal: 5.31s\tremaining: 1.83s\n",
      "744:\tlearn: 0.0164399\ttotal: 5.32s\tremaining: 1.82s\n",
      "745:\tlearn: 0.0164039\ttotal: 5.32s\tremaining: 1.81s\n",
      "746:\tlearn: 0.0163573\ttotal: 5.33s\tremaining: 1.81s\n",
      "747:\tlearn: 0.0163322\ttotal: 5.34s\tremaining: 1.8s\n",
      "748:\tlearn: 0.0162996\ttotal: 5.35s\tremaining: 1.79s\n",
      "749:\tlearn: 0.0162696\ttotal: 5.36s\tremaining: 1.79s\n",
      "750:\tlearn: 0.0162577\ttotal: 5.37s\tremaining: 1.78s\n",
      "751:\tlearn: 0.0162394\ttotal: 5.38s\tremaining: 1.77s\n",
      "752:\tlearn: 0.0162285\ttotal: 5.38s\tremaining: 1.76s\n",
      "753:\tlearn: 0.0162138\ttotal: 5.39s\tremaining: 1.76s\n",
      "754:\tlearn: 0.0162001\ttotal: 5.4s\tremaining: 1.75s\n",
      "755:\tlearn: 0.0161706\ttotal: 5.41s\tremaining: 1.74s\n",
      "756:\tlearn: 0.0161470\ttotal: 5.41s\tremaining: 1.74s\n",
      "757:\tlearn: 0.0161215\ttotal: 5.42s\tremaining: 1.73s\n",
      "758:\tlearn: 0.0160966\ttotal: 5.43s\tremaining: 1.72s\n",
      "759:\tlearn: 0.0160823\ttotal: 5.44s\tremaining: 1.72s\n",
      "760:\tlearn: 0.0160551\ttotal: 5.44s\tremaining: 1.71s\n",
      "761:\tlearn: 0.0160398\ttotal: 5.45s\tremaining: 1.7s\n",
      "762:\tlearn: 0.0160161\ttotal: 5.46s\tremaining: 1.7s\n",
      "763:\tlearn: 0.0159657\ttotal: 5.47s\tremaining: 1.69s\n",
      "764:\tlearn: 0.0159343\ttotal: 5.47s\tremaining: 1.68s\n",
      "765:\tlearn: 0.0159109\ttotal: 5.48s\tremaining: 1.67s\n",
      "766:\tlearn: 0.0158726\ttotal: 5.49s\tremaining: 1.67s\n",
      "767:\tlearn: 0.0158414\ttotal: 5.49s\tremaining: 1.66s\n",
      "768:\tlearn: 0.0158171\ttotal: 5.5s\tremaining: 1.65s\n",
      "769:\tlearn: 0.0158032\ttotal: 5.51s\tremaining: 1.64s\n",
      "770:\tlearn: 0.0157896\ttotal: 5.51s\tremaining: 1.64s\n",
      "771:\tlearn: 0.0157626\ttotal: 5.52s\tremaining: 1.63s\n",
      "772:\tlearn: 0.0157404\ttotal: 5.53s\tremaining: 1.62s\n",
      "773:\tlearn: 0.0157107\ttotal: 5.53s\tremaining: 1.61s\n",
      "774:\tlearn: 0.0156795\ttotal: 5.54s\tremaining: 1.61s\n",
      "775:\tlearn: 0.0156505\ttotal: 5.54s\tremaining: 1.6s\n",
      "776:\tlearn: 0.0156219\ttotal: 5.55s\tremaining: 1.59s\n",
      "777:\tlearn: 0.0155823\ttotal: 5.56s\tremaining: 1.59s\n",
      "778:\tlearn: 0.0155548\ttotal: 5.57s\tremaining: 1.58s\n",
      "779:\tlearn: 0.0155308\ttotal: 5.57s\tremaining: 1.57s\n",
      "780:\tlearn: 0.0155074\ttotal: 5.59s\tremaining: 1.57s\n",
      "781:\tlearn: 0.0154821\ttotal: 5.62s\tremaining: 1.56s\n",
      "782:\tlearn: 0.0154625\ttotal: 5.63s\tremaining: 1.56s\n",
      "783:\tlearn: 0.0154445\ttotal: 5.64s\tremaining: 1.55s\n",
      "784:\tlearn: 0.0154316\ttotal: 5.65s\tremaining: 1.55s\n",
      "785:\tlearn: 0.0154090\ttotal: 5.65s\tremaining: 1.54s\n",
      "786:\tlearn: 0.0153941\ttotal: 5.66s\tremaining: 1.53s\n",
      "787:\tlearn: 0.0153786\ttotal: 5.67s\tremaining: 1.52s\n",
      "788:\tlearn: 0.0153626\ttotal: 5.67s\tremaining: 1.52s\n",
      "789:\tlearn: 0.0153427\ttotal: 5.68s\tremaining: 1.51s\n",
      "790:\tlearn: 0.0153287\ttotal: 5.69s\tremaining: 1.5s\n",
      "791:\tlearn: 0.0153070\ttotal: 5.69s\tremaining: 1.5s\n",
      "792:\tlearn: 0.0152895\ttotal: 5.7s\tremaining: 1.49s\n",
      "793:\tlearn: 0.0152620\ttotal: 5.71s\tremaining: 1.48s\n",
      "794:\tlearn: 0.0152171\ttotal: 5.72s\tremaining: 1.47s\n",
      "795:\tlearn: 0.0151839\ttotal: 5.73s\tremaining: 1.47s\n",
      "796:\tlearn: 0.0151603\ttotal: 5.73s\tremaining: 1.46s\n",
      "797:\tlearn: 0.0151209\ttotal: 5.74s\tremaining: 1.45s\n",
      "798:\tlearn: 0.0151025\ttotal: 5.75s\tremaining: 1.45s\n",
      "799:\tlearn: 0.0150735\ttotal: 5.76s\tremaining: 1.44s\n",
      "800:\tlearn: 0.0150647\ttotal: 5.76s\tremaining: 1.43s\n",
      "801:\tlearn: 0.0150498\ttotal: 5.77s\tremaining: 1.43s\n",
      "802:\tlearn: 0.0150305\ttotal: 5.78s\tremaining: 1.42s\n",
      "803:\tlearn: 0.0150048\ttotal: 5.79s\tremaining: 1.41s\n",
      "804:\tlearn: 0.0149848\ttotal: 5.8s\tremaining: 1.4s\n",
      "805:\tlearn: 0.0149478\ttotal: 5.8s\tremaining: 1.4s\n",
      "806:\tlearn: 0.0149141\ttotal: 5.81s\tremaining: 1.39s\n",
      "807:\tlearn: 0.0148568\ttotal: 5.82s\tremaining: 1.38s\n",
      "808:\tlearn: 0.0148230\ttotal: 5.83s\tremaining: 1.38s\n",
      "809:\tlearn: 0.0147966\ttotal: 5.84s\tremaining: 1.37s\n",
      "810:\tlearn: 0.0147534\ttotal: 5.85s\tremaining: 1.36s\n",
      "811:\tlearn: 0.0147400\ttotal: 5.86s\tremaining: 1.36s\n",
      "812:\tlearn: 0.0147003\ttotal: 5.87s\tremaining: 1.35s\n",
      "813:\tlearn: 0.0146848\ttotal: 5.87s\tremaining: 1.34s\n",
      "814:\tlearn: 0.0146589\ttotal: 5.88s\tremaining: 1.33s\n",
      "815:\tlearn: 0.0146341\ttotal: 5.89s\tremaining: 1.33s\n",
      "816:\tlearn: 0.0146065\ttotal: 5.89s\tremaining: 1.32s\n",
      "817:\tlearn: 0.0145758\ttotal: 5.9s\tremaining: 1.31s\n",
      "818:\tlearn: 0.0145526\ttotal: 5.91s\tremaining: 1.31s\n",
      "819:\tlearn: 0.0145281\ttotal: 5.92s\tremaining: 1.3s\n",
      "820:\tlearn: 0.0145064\ttotal: 5.93s\tremaining: 1.29s\n",
      "821:\tlearn: 0.0144840\ttotal: 5.93s\tremaining: 1.28s\n",
      "822:\tlearn: 0.0144615\ttotal: 5.94s\tremaining: 1.28s\n",
      "823:\tlearn: 0.0144444\ttotal: 5.95s\tremaining: 1.27s\n",
      "824:\tlearn: 0.0144286\ttotal: 5.95s\tremaining: 1.26s\n",
      "825:\tlearn: 0.0144135\ttotal: 5.96s\tremaining: 1.25s\n",
      "826:\tlearn: 0.0143866\ttotal: 5.97s\tremaining: 1.25s\n",
      "827:\tlearn: 0.0143733\ttotal: 5.97s\tremaining: 1.24s\n",
      "828:\tlearn: 0.0143560\ttotal: 5.98s\tremaining: 1.23s\n",
      "829:\tlearn: 0.0143215\ttotal: 5.98s\tremaining: 1.23s\n",
      "830:\tlearn: 0.0142838\ttotal: 5.99s\tremaining: 1.22s\n",
      "831:\tlearn: 0.0142719\ttotal: 6s\tremaining: 1.21s\n",
      "832:\tlearn: 0.0142387\ttotal: 6s\tremaining: 1.2s\n",
      "833:\tlearn: 0.0142292\ttotal: 6.01s\tremaining: 1.2s\n",
      "834:\tlearn: 0.0142063\ttotal: 6.02s\tremaining: 1.19s\n",
      "835:\tlearn: 0.0141909\ttotal: 6.03s\tremaining: 1.18s\n",
      "836:\tlearn: 0.0141804\ttotal: 6.04s\tremaining: 1.18s\n",
      "837:\tlearn: 0.0141612\ttotal: 6.04s\tremaining: 1.17s\n",
      "838:\tlearn: 0.0141515\ttotal: 6.05s\tremaining: 1.16s\n",
      "839:\tlearn: 0.0141245\ttotal: 6.05s\tremaining: 1.15s\n",
      "840:\tlearn: 0.0141019\ttotal: 6.06s\tremaining: 1.15s\n",
      "841:\tlearn: 0.0140879\ttotal: 6.07s\tremaining: 1.14s\n",
      "842:\tlearn: 0.0140493\ttotal: 6.07s\tremaining: 1.13s\n",
      "843:\tlearn: 0.0140332\ttotal: 6.08s\tremaining: 1.12s\n",
      "844:\tlearn: 0.0140167\ttotal: 6.08s\tremaining: 1.12s\n",
      "845:\tlearn: 0.0139990\ttotal: 6.09s\tremaining: 1.11s\n",
      "846:\tlearn: 0.0139895\ttotal: 6.1s\tremaining: 1.1s\n",
      "847:\tlearn: 0.0139739\ttotal: 6.1s\tremaining: 1.09s\n",
      "848:\tlearn: 0.0139609\ttotal: 6.11s\tremaining: 1.09s\n",
      "849:\tlearn: 0.0139475\ttotal: 6.12s\tremaining: 1.08s\n",
      "850:\tlearn: 0.0139330\ttotal: 6.12s\tremaining: 1.07s\n",
      "851:\tlearn: 0.0139208\ttotal: 6.13s\tremaining: 1.06s\n",
      "852:\tlearn: 0.0139052\ttotal: 6.14s\tremaining: 1.06s\n",
      "853:\tlearn: 0.0138941\ttotal: 6.15s\tremaining: 1.05s\n",
      "854:\tlearn: 0.0138722\ttotal: 6.16s\tremaining: 1.04s\n",
      "855:\tlearn: 0.0138402\ttotal: 6.16s\tremaining: 1.04s\n",
      "856:\tlearn: 0.0138266\ttotal: 6.17s\tremaining: 1.03s\n",
      "857:\tlearn: 0.0138095\ttotal: 6.17s\tremaining: 1.02s\n",
      "858:\tlearn: 0.0137949\ttotal: 6.18s\tremaining: 1.01s\n",
      "859:\tlearn: 0.0137846\ttotal: 6.18s\tremaining: 1.01s\n",
      "860:\tlearn: 0.0137653\ttotal: 6.19s\tremaining: 1000ms\n",
      "861:\tlearn: 0.0137532\ttotal: 6.2s\tremaining: 992ms\n",
      "862:\tlearn: 0.0137358\ttotal: 6.2s\tremaining: 985ms\n",
      "863:\tlearn: 0.0137234\ttotal: 6.22s\tremaining: 979ms\n",
      "864:\tlearn: 0.0137101\ttotal: 6.23s\tremaining: 972ms\n",
      "865:\tlearn: 0.0136834\ttotal: 6.23s\tremaining: 964ms\n",
      "866:\tlearn: 0.0136374\ttotal: 6.24s\tremaining: 957ms\n",
      "867:\tlearn: 0.0136238\ttotal: 6.24s\tremaining: 950ms\n",
      "868:\tlearn: 0.0136101\ttotal: 6.25s\tremaining: 942ms\n",
      "869:\tlearn: 0.0135956\ttotal: 6.26s\tremaining: 935ms\n",
      "870:\tlearn: 0.0135628\ttotal: 6.26s\tremaining: 928ms\n",
      "871:\tlearn: 0.0135303\ttotal: 6.27s\tremaining: 920ms\n",
      "872:\tlearn: 0.0135099\ttotal: 6.28s\tremaining: 913ms\n",
      "873:\tlearn: 0.0134870\ttotal: 6.28s\tremaining: 906ms\n",
      "874:\tlearn: 0.0134800\ttotal: 6.29s\tremaining: 898ms\n",
      "875:\tlearn: 0.0134585\ttotal: 6.29s\tremaining: 891ms\n",
      "876:\tlearn: 0.0134378\ttotal: 6.3s\tremaining: 883ms\n",
      "877:\tlearn: 0.0134074\ttotal: 6.3s\tremaining: 876ms\n",
      "878:\tlearn: 0.0133702\ttotal: 6.31s\tremaining: 869ms\n",
      "879:\tlearn: 0.0133453\ttotal: 6.32s\tremaining: 861ms\n",
      "880:\tlearn: 0.0133352\ttotal: 6.32s\tremaining: 854ms\n",
      "881:\tlearn: 0.0133104\ttotal: 6.33s\tremaining: 847ms\n",
      "882:\tlearn: 0.0132995\ttotal: 6.33s\tremaining: 839ms\n",
      "883:\tlearn: 0.0132849\ttotal: 6.34s\tremaining: 832ms\n",
      "884:\tlearn: 0.0132646\ttotal: 6.35s\tremaining: 825ms\n",
      "885:\tlearn: 0.0132441\ttotal: 6.35s\tremaining: 817ms\n",
      "886:\tlearn: 0.0132270\ttotal: 6.36s\tremaining: 810ms\n",
      "887:\tlearn: 0.0132216\ttotal: 6.36s\tremaining: 803ms\n",
      "888:\tlearn: 0.0132021\ttotal: 6.37s\tremaining: 796ms\n",
      "889:\tlearn: 0.0131857\ttotal: 6.38s\tremaining: 788ms\n",
      "890:\tlearn: 0.0131665\ttotal: 6.38s\tremaining: 781ms\n",
      "891:\tlearn: 0.0131513\ttotal: 6.39s\tremaining: 774ms\n",
      "892:\tlearn: 0.0131336\ttotal: 6.4s\tremaining: 766ms\n",
      "893:\tlearn: 0.0131011\ttotal: 6.4s\tremaining: 759ms\n",
      "894:\tlearn: 0.0130846\ttotal: 6.41s\tremaining: 752ms\n",
      "895:\tlearn: 0.0130761\ttotal: 6.42s\tremaining: 745ms\n",
      "896:\tlearn: 0.0130696\ttotal: 6.42s\tremaining: 737ms\n",
      "897:\tlearn: 0.0130523\ttotal: 6.43s\tremaining: 730ms\n",
      "898:\tlearn: 0.0130388\ttotal: 6.44s\tremaining: 723ms\n",
      "899:\tlearn: 0.0130218\ttotal: 6.44s\tremaining: 716ms\n",
      "900:\tlearn: 0.0129961\ttotal: 6.45s\tremaining: 709ms\n",
      "901:\tlearn: 0.0129748\ttotal: 6.46s\tremaining: 702ms\n",
      "902:\tlearn: 0.0129443\ttotal: 6.46s\tremaining: 694ms\n",
      "903:\tlearn: 0.0129293\ttotal: 6.47s\tremaining: 687ms\n",
      "904:\tlearn: 0.0129110\ttotal: 6.48s\tremaining: 680ms\n",
      "905:\tlearn: 0.0128917\ttotal: 6.48s\tremaining: 673ms\n",
      "906:\tlearn: 0.0128634\ttotal: 6.49s\tremaining: 666ms\n",
      "907:\tlearn: 0.0128521\ttotal: 6.5s\tremaining: 658ms\n",
      "908:\tlearn: 0.0128231\ttotal: 6.5s\tremaining: 651ms\n",
      "909:\tlearn: 0.0128186\ttotal: 6.51s\tremaining: 644ms\n",
      "910:\tlearn: 0.0128056\ttotal: 6.52s\tremaining: 637ms\n",
      "911:\tlearn: 0.0127945\ttotal: 6.53s\tremaining: 630ms\n",
      "912:\tlearn: 0.0127772\ttotal: 6.53s\tremaining: 623ms\n",
      "913:\tlearn: 0.0127701\ttotal: 6.54s\tremaining: 615ms\n",
      "914:\tlearn: 0.0127534\ttotal: 6.54s\tremaining: 608ms\n",
      "915:\tlearn: 0.0127387\ttotal: 6.55s\tremaining: 601ms\n",
      "916:\tlearn: 0.0127114\ttotal: 6.56s\tremaining: 594ms\n",
      "917:\tlearn: 0.0126999\ttotal: 6.56s\tremaining: 586ms\n",
      "918:\tlearn: 0.0126744\ttotal: 6.57s\tremaining: 579ms\n",
      "919:\tlearn: 0.0126439\ttotal: 6.58s\tremaining: 572ms\n",
      "920:\tlearn: 0.0126356\ttotal: 6.58s\tremaining: 565ms\n",
      "921:\tlearn: 0.0126255\ttotal: 6.59s\tremaining: 557ms\n",
      "922:\tlearn: 0.0126092\ttotal: 6.59s\tremaining: 550ms\n",
      "923:\tlearn: 0.0125766\ttotal: 6.6s\tremaining: 543ms\n",
      "924:\tlearn: 0.0125261\ttotal: 6.61s\tremaining: 536ms\n",
      "925:\tlearn: 0.0125114\ttotal: 6.61s\tremaining: 528ms\n",
      "926:\tlearn: 0.0124807\ttotal: 6.62s\tremaining: 521ms\n",
      "927:\tlearn: 0.0124710\ttotal: 6.62s\tremaining: 514ms\n",
      "928:\tlearn: 0.0124512\ttotal: 6.63s\tremaining: 507ms\n",
      "929:\tlearn: 0.0124332\ttotal: 6.64s\tremaining: 500ms\n",
      "930:\tlearn: 0.0124165\ttotal: 6.64s\tremaining: 492ms\n",
      "931:\tlearn: 0.0124118\ttotal: 6.65s\tremaining: 485ms\n",
      "932:\tlearn: 0.0124051\ttotal: 6.65s\tremaining: 478ms\n",
      "933:\tlearn: 0.0123841\ttotal: 6.66s\tremaining: 471ms\n",
      "934:\tlearn: 0.0123558\ttotal: 6.67s\tremaining: 463ms\n",
      "935:\tlearn: 0.0123122\ttotal: 6.67s\tremaining: 456ms\n",
      "936:\tlearn: 0.0123006\ttotal: 6.68s\tremaining: 449ms\n",
      "937:\tlearn: 0.0122851\ttotal: 6.68s\tremaining: 442ms\n",
      "938:\tlearn: 0.0122750\ttotal: 6.69s\tremaining: 435ms\n",
      "939:\tlearn: 0.0122564\ttotal: 6.7s\tremaining: 427ms\n",
      "940:\tlearn: 0.0122340\ttotal: 6.7s\tremaining: 420ms\n",
      "941:\tlearn: 0.0122137\ttotal: 6.71s\tremaining: 413ms\n",
      "942:\tlearn: 0.0122005\ttotal: 6.71s\tremaining: 406ms\n",
      "943:\tlearn: 0.0121908\ttotal: 6.72s\tremaining: 399ms\n",
      "944:\tlearn: 0.0121733\ttotal: 6.72s\tremaining: 391ms\n",
      "945:\tlearn: 0.0121602\ttotal: 6.73s\tremaining: 384ms\n",
      "946:\tlearn: 0.0121395\ttotal: 6.74s\tremaining: 377ms\n",
      "947:\tlearn: 0.0121338\ttotal: 6.74s\tremaining: 370ms\n",
      "948:\tlearn: 0.0121198\ttotal: 6.75s\tremaining: 363ms\n",
      "949:\tlearn: 0.0121096\ttotal: 6.75s\tremaining: 356ms\n",
      "950:\tlearn: 0.0120855\ttotal: 6.76s\tremaining: 348ms\n",
      "951:\tlearn: 0.0120700\ttotal: 6.77s\tremaining: 341ms\n",
      "952:\tlearn: 0.0120518\ttotal: 6.77s\tremaining: 334ms\n",
      "953:\tlearn: 0.0120407\ttotal: 6.78s\tremaining: 327ms\n",
      "954:\tlearn: 0.0120232\ttotal: 6.79s\tremaining: 320ms\n",
      "955:\tlearn: 0.0120065\ttotal: 6.79s\tremaining: 313ms\n",
      "956:\tlearn: 0.0119823\ttotal: 6.8s\tremaining: 305ms\n",
      "957:\tlearn: 0.0119662\ttotal: 6.8s\tremaining: 298ms\n",
      "958:\tlearn: 0.0119515\ttotal: 6.81s\tremaining: 291ms\n",
      "959:\tlearn: 0.0119391\ttotal: 6.82s\tremaining: 284ms\n",
      "960:\tlearn: 0.0119233\ttotal: 6.83s\tremaining: 277ms\n",
      "961:\tlearn: 0.0119067\ttotal: 6.83s\tremaining: 270ms\n",
      "962:\tlearn: 0.0118822\ttotal: 6.84s\tremaining: 263ms\n",
      "963:\tlearn: 0.0118513\ttotal: 6.84s\tremaining: 256ms\n",
      "964:\tlearn: 0.0118331\ttotal: 6.85s\tremaining: 248ms\n",
      "965:\tlearn: 0.0118197\ttotal: 6.86s\tremaining: 241ms\n",
      "966:\tlearn: 0.0118055\ttotal: 6.86s\tremaining: 234ms\n",
      "967:\tlearn: 0.0117882\ttotal: 6.87s\tremaining: 227ms\n",
      "968:\tlearn: 0.0117785\ttotal: 6.88s\tremaining: 220ms\n",
      "969:\tlearn: 0.0117663\ttotal: 6.88s\tremaining: 213ms\n",
      "970:\tlearn: 0.0117561\ttotal: 6.89s\tremaining: 206ms\n",
      "971:\tlearn: 0.0117505\ttotal: 6.89s\tremaining: 199ms\n",
      "972:\tlearn: 0.0117416\ttotal: 6.9s\tremaining: 192ms\n",
      "973:\tlearn: 0.0117161\ttotal: 6.91s\tremaining: 184ms\n",
      "974:\tlearn: 0.0116920\ttotal: 6.92s\tremaining: 177ms\n",
      "975:\tlearn: 0.0116778\ttotal: 6.92s\tremaining: 170ms\n",
      "976:\tlearn: 0.0116578\ttotal: 6.93s\tremaining: 163ms\n",
      "977:\tlearn: 0.0116443\ttotal: 6.94s\tremaining: 156ms\n",
      "978:\tlearn: 0.0116402\ttotal: 6.94s\tremaining: 149ms\n",
      "979:\tlearn: 0.0116295\ttotal: 6.95s\tremaining: 142ms\n",
      "980:\tlearn: 0.0116183\ttotal: 6.96s\tremaining: 135ms\n",
      "981:\tlearn: 0.0116119\ttotal: 6.97s\tremaining: 128ms\n",
      "982:\tlearn: 0.0115940\ttotal: 6.97s\tremaining: 121ms\n",
      "983:\tlearn: 0.0115748\ttotal: 6.98s\tremaining: 113ms\n",
      "984:\tlearn: 0.0115680\ttotal: 6.99s\tremaining: 106ms\n",
      "985:\tlearn: 0.0115587\ttotal: 6.99s\tremaining: 99.3ms\n",
      "986:\tlearn: 0.0115440\ttotal: 7s\tremaining: 92.2ms\n",
      "987:\tlearn: 0.0115250\ttotal: 7s\tremaining: 85.1ms\n",
      "988:\tlearn: 0.0115120\ttotal: 7.01s\tremaining: 78ms\n",
      "989:\tlearn: 0.0114996\ttotal: 7.01s\tremaining: 70.9ms\n",
      "990:\tlearn: 0.0114874\ttotal: 7.02s\tremaining: 63.8ms\n",
      "991:\tlearn: 0.0114791\ttotal: 7.03s\tremaining: 56.7ms\n",
      "992:\tlearn: 0.0114610\ttotal: 7.03s\tremaining: 49.6ms\n",
      "993:\tlearn: 0.0114377\ttotal: 7.04s\tremaining: 42.5ms\n",
      "994:\tlearn: 0.0114291\ttotal: 7.04s\tremaining: 35.4ms\n",
      "995:\tlearn: 0.0114153\ttotal: 7.05s\tremaining: 28.3ms\n",
      "996:\tlearn: 0.0114108\ttotal: 7.06s\tremaining: 21.2ms\n",
      "997:\tlearn: 0.0113929\ttotal: 7.06s\tremaining: 14.2ms\n",
      "998:\tlearn: 0.0113837\ttotal: 7.07s\tremaining: 7.08ms\n",
      "999:\tlearn: 0.0113667\ttotal: 7.08s\tremaining: 0us\n"
     ]
    }
   ],
   "source": [
    "from catboost import CatBoostClassifier\n",
    "\n",
    "@time_for('CatBoosting CPU', 'predict')\n",
    "def fit_cat_cpu():\n",
    "    return CatBoostClassifier(\n",
    "        random_state=random_state,\n",
    "    ).fit(X_train, y_train)\n",
    "\n",
    "cat_cpu_model = fit_cat_cpu()"
   ]
  },
  {
   "cell_type": "code",
   "execution_count": 38,
   "metadata": {},
   "outputs": [],
   "source": [
    "cat_cpu_y_train = cat_cpu_model.predict(X_train)"
   ]
  },
  {
   "cell_type": "code",
   "execution_count": 78,
   "metadata": {},
   "outputs": [
    {
     "name": "stdout",
     "output_type": "stream",
     "text": [
      "F1-мера для тренировочных данных с помощью CatBoostClassifier на CPU: 1.0\n"
     ]
    },
    {
     "data": {
      "application/vnd.plotly.v1+json": {
       "config": {
        "plotlyServerURL": "https://plot.ly"
       },
       "data": [
        {
         "coloraxis": "coloraxis",
         "hovertemplate": "x: %{x}<br>y: %{y}<br>color: %{z}<extra></extra>",
         "name": "0",
         "texttemplate": "%{z}",
         "type": "heatmap",
         "xaxis": "x",
         "yaxis": "y",
         "z": [
          [
           582,
           0,
           0
          ],
          [
           0,
           190,
           0
          ],
          [
           0,
           0,
           228
          ]
         ]
        }
       ],
       "layout": {
        "coloraxis": {
         "colorscale": [
          [
           0,
           "#0d0887"
          ],
          [
           0.1111111111111111,
           "#46039f"
          ],
          [
           0.2222222222222222,
           "#7201a8"
          ],
          [
           0.3333333333333333,
           "#9c179e"
          ],
          [
           0.4444444444444444,
           "#bd3786"
          ],
          [
           0.5555555555555556,
           "#d8576b"
          ],
          [
           0.6666666666666666,
           "#ed7953"
          ],
          [
           0.7777777777777778,
           "#fb9f3a"
          ],
          [
           0.8888888888888888,
           "#fdca26"
          ],
          [
           1,
           "#f0f921"
          ]
         ]
        },
        "margin": {
         "t": 60
        },
        "template": {
         "data": {
          "bar": [
           {
            "error_x": {
             "color": "#f2f5fa"
            },
            "error_y": {
             "color": "#f2f5fa"
            },
            "marker": {
             "line": {
              "color": "rgb(17,17,17)",
              "width": 0.5
             },
             "pattern": {
              "fillmode": "overlay",
              "size": 10,
              "solidity": 0.2
             }
            },
            "type": "bar"
           }
          ],
          "barpolar": [
           {
            "marker": {
             "line": {
              "color": "rgb(17,17,17)",
              "width": 0.5
             },
             "pattern": {
              "fillmode": "overlay",
              "size": 10,
              "solidity": 0.2
             }
            },
            "type": "barpolar"
           }
          ],
          "carpet": [
           {
            "aaxis": {
             "endlinecolor": "#A2B1C6",
             "gridcolor": "#506784",
             "linecolor": "#506784",
             "minorgridcolor": "#506784",
             "startlinecolor": "#A2B1C6"
            },
            "baxis": {
             "endlinecolor": "#A2B1C6",
             "gridcolor": "#506784",
             "linecolor": "#506784",
             "minorgridcolor": "#506784",
             "startlinecolor": "#A2B1C6"
            },
            "type": "carpet"
           }
          ],
          "choropleth": [
           {
            "colorbar": {
             "outlinewidth": 0,
             "ticks": ""
            },
            "type": "choropleth"
           }
          ],
          "contour": [
           {
            "colorbar": {
             "outlinewidth": 0,
             "ticks": ""
            },
            "colorscale": [
             [
              0,
              "#0d0887"
             ],
             [
              0.1111111111111111,
              "#46039f"
             ],
             [
              0.2222222222222222,
              "#7201a8"
             ],
             [
              0.3333333333333333,
              "#9c179e"
             ],
             [
              0.4444444444444444,
              "#bd3786"
             ],
             [
              0.5555555555555556,
              "#d8576b"
             ],
             [
              0.6666666666666666,
              "#ed7953"
             ],
             [
              0.7777777777777778,
              "#fb9f3a"
             ],
             [
              0.8888888888888888,
              "#fdca26"
             ],
             [
              1,
              "#f0f921"
             ]
            ],
            "type": "contour"
           }
          ],
          "contourcarpet": [
           {
            "colorbar": {
             "outlinewidth": 0,
             "ticks": ""
            },
            "type": "contourcarpet"
           }
          ],
          "heatmap": [
           {
            "colorbar": {
             "outlinewidth": 0,
             "ticks": ""
            },
            "colorscale": [
             [
              0,
              "#0d0887"
             ],
             [
              0.1111111111111111,
              "#46039f"
             ],
             [
              0.2222222222222222,
              "#7201a8"
             ],
             [
              0.3333333333333333,
              "#9c179e"
             ],
             [
              0.4444444444444444,
              "#bd3786"
             ],
             [
              0.5555555555555556,
              "#d8576b"
             ],
             [
              0.6666666666666666,
              "#ed7953"
             ],
             [
              0.7777777777777778,
              "#fb9f3a"
             ],
             [
              0.8888888888888888,
              "#fdca26"
             ],
             [
              1,
              "#f0f921"
             ]
            ],
            "type": "heatmap"
           }
          ],
          "heatmapgl": [
           {
            "colorbar": {
             "outlinewidth": 0,
             "ticks": ""
            },
            "colorscale": [
             [
              0,
              "#0d0887"
             ],
             [
              0.1111111111111111,
              "#46039f"
             ],
             [
              0.2222222222222222,
              "#7201a8"
             ],
             [
              0.3333333333333333,
              "#9c179e"
             ],
             [
              0.4444444444444444,
              "#bd3786"
             ],
             [
              0.5555555555555556,
              "#d8576b"
             ],
             [
              0.6666666666666666,
              "#ed7953"
             ],
             [
              0.7777777777777778,
              "#fb9f3a"
             ],
             [
              0.8888888888888888,
              "#fdca26"
             ],
             [
              1,
              "#f0f921"
             ]
            ],
            "type": "heatmapgl"
           }
          ],
          "histogram": [
           {
            "marker": {
             "pattern": {
              "fillmode": "overlay",
              "size": 10,
              "solidity": 0.2
             }
            },
            "type": "histogram"
           }
          ],
          "histogram2d": [
           {
            "colorbar": {
             "outlinewidth": 0,
             "ticks": ""
            },
            "colorscale": [
             [
              0,
              "#0d0887"
             ],
             [
              0.1111111111111111,
              "#46039f"
             ],
             [
              0.2222222222222222,
              "#7201a8"
             ],
             [
              0.3333333333333333,
              "#9c179e"
             ],
             [
              0.4444444444444444,
              "#bd3786"
             ],
             [
              0.5555555555555556,
              "#d8576b"
             ],
             [
              0.6666666666666666,
              "#ed7953"
             ],
             [
              0.7777777777777778,
              "#fb9f3a"
             ],
             [
              0.8888888888888888,
              "#fdca26"
             ],
             [
              1,
              "#f0f921"
             ]
            ],
            "type": "histogram2d"
           }
          ],
          "histogram2dcontour": [
           {
            "colorbar": {
             "outlinewidth": 0,
             "ticks": ""
            },
            "colorscale": [
             [
              0,
              "#0d0887"
             ],
             [
              0.1111111111111111,
              "#46039f"
             ],
             [
              0.2222222222222222,
              "#7201a8"
             ],
             [
              0.3333333333333333,
              "#9c179e"
             ],
             [
              0.4444444444444444,
              "#bd3786"
             ],
             [
              0.5555555555555556,
              "#d8576b"
             ],
             [
              0.6666666666666666,
              "#ed7953"
             ],
             [
              0.7777777777777778,
              "#fb9f3a"
             ],
             [
              0.8888888888888888,
              "#fdca26"
             ],
             [
              1,
              "#f0f921"
             ]
            ],
            "type": "histogram2dcontour"
           }
          ],
          "mesh3d": [
           {
            "colorbar": {
             "outlinewidth": 0,
             "ticks": ""
            },
            "type": "mesh3d"
           }
          ],
          "parcoords": [
           {
            "line": {
             "colorbar": {
              "outlinewidth": 0,
              "ticks": ""
             }
            },
            "type": "parcoords"
           }
          ],
          "pie": [
           {
            "automargin": true,
            "type": "pie"
           }
          ],
          "scatter": [
           {
            "marker": {
             "line": {
              "color": "#283442"
             }
            },
            "type": "scatter"
           }
          ],
          "scatter3d": [
           {
            "line": {
             "colorbar": {
              "outlinewidth": 0,
              "ticks": ""
             }
            },
            "marker": {
             "colorbar": {
              "outlinewidth": 0,
              "ticks": ""
             }
            },
            "type": "scatter3d"
           }
          ],
          "scattercarpet": [
           {
            "marker": {
             "colorbar": {
              "outlinewidth": 0,
              "ticks": ""
             }
            },
            "type": "scattercarpet"
           }
          ],
          "scattergeo": [
           {
            "marker": {
             "colorbar": {
              "outlinewidth": 0,
              "ticks": ""
             }
            },
            "type": "scattergeo"
           }
          ],
          "scattergl": [
           {
            "marker": {
             "line": {
              "color": "#283442"
             }
            },
            "type": "scattergl"
           }
          ],
          "scattermapbox": [
           {
            "marker": {
             "colorbar": {
              "outlinewidth": 0,
              "ticks": ""
             }
            },
            "type": "scattermapbox"
           }
          ],
          "scatterpolar": [
           {
            "marker": {
             "colorbar": {
              "outlinewidth": 0,
              "ticks": ""
             }
            },
            "type": "scatterpolar"
           }
          ],
          "scatterpolargl": [
           {
            "marker": {
             "colorbar": {
              "outlinewidth": 0,
              "ticks": ""
             }
            },
            "type": "scatterpolargl"
           }
          ],
          "scatterternary": [
           {
            "marker": {
             "colorbar": {
              "outlinewidth": 0,
              "ticks": ""
             }
            },
            "type": "scatterternary"
           }
          ],
          "surface": [
           {
            "colorbar": {
             "outlinewidth": 0,
             "ticks": ""
            },
            "colorscale": [
             [
              0,
              "#0d0887"
             ],
             [
              0.1111111111111111,
              "#46039f"
             ],
             [
              0.2222222222222222,
              "#7201a8"
             ],
             [
              0.3333333333333333,
              "#9c179e"
             ],
             [
              0.4444444444444444,
              "#bd3786"
             ],
             [
              0.5555555555555556,
              "#d8576b"
             ],
             [
              0.6666666666666666,
              "#ed7953"
             ],
             [
              0.7777777777777778,
              "#fb9f3a"
             ],
             [
              0.8888888888888888,
              "#fdca26"
             ],
             [
              1,
              "#f0f921"
             ]
            ],
            "type": "surface"
           }
          ],
          "table": [
           {
            "cells": {
             "fill": {
              "color": "#506784"
             },
             "line": {
              "color": "rgb(17,17,17)"
             }
            },
            "header": {
             "fill": {
              "color": "#2a3f5f"
             },
             "line": {
              "color": "rgb(17,17,17)"
             }
            },
            "type": "table"
           }
          ]
         },
         "layout": {
          "annotationdefaults": {
           "arrowcolor": "#f2f5fa",
           "arrowhead": 0,
           "arrowwidth": 1
          },
          "autotypenumbers": "strict",
          "coloraxis": {
           "colorbar": {
            "outlinewidth": 0,
            "ticks": ""
           }
          },
          "colorscale": {
           "diverging": [
            [
             0,
             "#8e0152"
            ],
            [
             0.1,
             "#c51b7d"
            ],
            [
             0.2,
             "#de77ae"
            ],
            [
             0.3,
             "#f1b6da"
            ],
            [
             0.4,
             "#fde0ef"
            ],
            [
             0.5,
             "#f7f7f7"
            ],
            [
             0.6,
             "#e6f5d0"
            ],
            [
             0.7,
             "#b8e186"
            ],
            [
             0.8,
             "#7fbc41"
            ],
            [
             0.9,
             "#4d9221"
            ],
            [
             1,
             "#276419"
            ]
           ],
           "sequential": [
            [
             0,
             "#0d0887"
            ],
            [
             0.1111111111111111,
             "#46039f"
            ],
            [
             0.2222222222222222,
             "#7201a8"
            ],
            [
             0.3333333333333333,
             "#9c179e"
            ],
            [
             0.4444444444444444,
             "#bd3786"
            ],
            [
             0.5555555555555556,
             "#d8576b"
            ],
            [
             0.6666666666666666,
             "#ed7953"
            ],
            [
             0.7777777777777778,
             "#fb9f3a"
            ],
            [
             0.8888888888888888,
             "#fdca26"
            ],
            [
             1,
             "#f0f921"
            ]
           ],
           "sequentialminus": [
            [
             0,
             "#0d0887"
            ],
            [
             0.1111111111111111,
             "#46039f"
            ],
            [
             0.2222222222222222,
             "#7201a8"
            ],
            [
             0.3333333333333333,
             "#9c179e"
            ],
            [
             0.4444444444444444,
             "#bd3786"
            ],
            [
             0.5555555555555556,
             "#d8576b"
            ],
            [
             0.6666666666666666,
             "#ed7953"
            ],
            [
             0.7777777777777778,
             "#fb9f3a"
            ],
            [
             0.8888888888888888,
             "#fdca26"
            ],
            [
             1,
             "#f0f921"
            ]
           ]
          },
          "colorway": [
           "#636efa",
           "#EF553B",
           "#00cc96",
           "#ab63fa",
           "#FFA15A",
           "#19d3f3",
           "#FF6692",
           "#B6E880",
           "#FF97FF",
           "#FECB52"
          ],
          "font": {
           "color": "#f2f5fa"
          },
          "geo": {
           "bgcolor": "rgb(17,17,17)",
           "lakecolor": "rgb(17,17,17)",
           "landcolor": "rgb(17,17,17)",
           "showlakes": true,
           "showland": true,
           "subunitcolor": "#506784"
          },
          "hoverlabel": {
           "align": "left"
          },
          "hovermode": "closest",
          "mapbox": {
           "style": "dark"
          },
          "paper_bgcolor": "rgb(17,17,17)",
          "plot_bgcolor": "rgb(17,17,17)",
          "polar": {
           "angularaxis": {
            "gridcolor": "#506784",
            "linecolor": "#506784",
            "ticks": ""
           },
           "bgcolor": "rgb(17,17,17)",
           "radialaxis": {
            "gridcolor": "#506784",
            "linecolor": "#506784",
            "ticks": ""
           }
          },
          "scene": {
           "xaxis": {
            "backgroundcolor": "rgb(17,17,17)",
            "gridcolor": "#506784",
            "gridwidth": 2,
            "linecolor": "#506784",
            "showbackground": true,
            "ticks": "",
            "zerolinecolor": "#C8D4E3"
           },
           "yaxis": {
            "backgroundcolor": "rgb(17,17,17)",
            "gridcolor": "#506784",
            "gridwidth": 2,
            "linecolor": "#506784",
            "showbackground": true,
            "ticks": "",
            "zerolinecolor": "#C8D4E3"
           },
           "zaxis": {
            "backgroundcolor": "rgb(17,17,17)",
            "gridcolor": "#506784",
            "gridwidth": 2,
            "linecolor": "#506784",
            "showbackground": true,
            "ticks": "",
            "zerolinecolor": "#C8D4E3"
           }
          },
          "shapedefaults": {
           "line": {
            "color": "#f2f5fa"
           }
          },
          "sliderdefaults": {
           "bgcolor": "#C8D4E3",
           "bordercolor": "rgb(17,17,17)",
           "borderwidth": 1,
           "tickwidth": 0
          },
          "ternary": {
           "aaxis": {
            "gridcolor": "#506784",
            "linecolor": "#506784",
            "ticks": ""
           },
           "baxis": {
            "gridcolor": "#506784",
            "linecolor": "#506784",
            "ticks": ""
           },
           "bgcolor": "rgb(17,17,17)",
           "caxis": {
            "gridcolor": "#506784",
            "linecolor": "#506784",
            "ticks": ""
           }
          },
          "title": {
           "x": 0.05
          },
          "updatemenudefaults": {
           "bgcolor": "#506784",
           "borderwidth": 0
          },
          "xaxis": {
           "automargin": true,
           "gridcolor": "#283442",
           "linecolor": "#506784",
           "ticks": "",
           "title": {
            "standoff": 15
           },
           "zerolinecolor": "#283442",
           "zerolinewidth": 2
          },
          "yaxis": {
           "automargin": true,
           "gridcolor": "#283442",
           "linecolor": "#506784",
           "ticks": "",
           "title": {
            "standoff": 15
           },
           "zerolinecolor": "#283442",
           "zerolinewidth": 2
          }
         }
        },
        "xaxis": {
         "anchor": "y",
         "constrain": "domain",
         "domain": [
          0,
          1
         ],
         "scaleanchor": "y",
         "title": {
          "text": "Target"
         }
        },
        "yaxis": {
         "anchor": "x",
         "autorange": "reversed",
         "constrain": "domain",
         "domain": [
          0,
          1
         ],
         "title": {
          "text": "Prediction"
         }
        }
       }
      },
      "text/html": [
       "<div>                            <div id=\"06320e6c-86d9-4224-bfab-671970f06318\" class=\"plotly-graph-div\" style=\"height:525px; width:100%;\"></div>            <script type=\"text/javascript\">                require([\"plotly\"], function(Plotly) {                    window.PLOTLYENV=window.PLOTLYENV || {};                                    if (document.getElementById(\"06320e6c-86d9-4224-bfab-671970f06318\")) {                    Plotly.newPlot(                        \"06320e6c-86d9-4224-bfab-671970f06318\",                        [{\"coloraxis\":\"coloraxis\",\"name\":\"0\",\"texttemplate\":\"%{z}\",\"z\":[[582,0,0],[0,190,0],[0,0,228]],\"type\":\"heatmap\",\"xaxis\":\"x\",\"yaxis\":\"y\",\"hovertemplate\":\"x: %{x}<br>y: %{y}<br>color: %{z}<extra></extra>\"}],                        {\"template\":{\"data\":{\"histogram2dcontour\":[{\"type\":\"histogram2dcontour\",\"colorbar\":{\"outlinewidth\":0,\"ticks\":\"\"},\"colorscale\":[[0.0,\"#0d0887\"],[0.1111111111111111,\"#46039f\"],[0.2222222222222222,\"#7201a8\"],[0.3333333333333333,\"#9c179e\"],[0.4444444444444444,\"#bd3786\"],[0.5555555555555556,\"#d8576b\"],[0.6666666666666666,\"#ed7953\"],[0.7777777777777778,\"#fb9f3a\"],[0.8888888888888888,\"#fdca26\"],[1.0,\"#f0f921\"]]}],\"choropleth\":[{\"type\":\"choropleth\",\"colorbar\":{\"outlinewidth\":0,\"ticks\":\"\"}}],\"histogram2d\":[{\"type\":\"histogram2d\",\"colorbar\":{\"outlinewidth\":0,\"ticks\":\"\"},\"colorscale\":[[0.0,\"#0d0887\"],[0.1111111111111111,\"#46039f\"],[0.2222222222222222,\"#7201a8\"],[0.3333333333333333,\"#9c179e\"],[0.4444444444444444,\"#bd3786\"],[0.5555555555555556,\"#d8576b\"],[0.6666666666666666,\"#ed7953\"],[0.7777777777777778,\"#fb9f3a\"],[0.8888888888888888,\"#fdca26\"],[1.0,\"#f0f921\"]]}],\"heatmap\":[{\"type\":\"heatmap\",\"colorbar\":{\"outlinewidth\":0,\"ticks\":\"\"},\"colorscale\":[[0.0,\"#0d0887\"],[0.1111111111111111,\"#46039f\"],[0.2222222222222222,\"#7201a8\"],[0.3333333333333333,\"#9c179e\"],[0.4444444444444444,\"#bd3786\"],[0.5555555555555556,\"#d8576b\"],[0.6666666666666666,\"#ed7953\"],[0.7777777777777778,\"#fb9f3a\"],[0.8888888888888888,\"#fdca26\"],[1.0,\"#f0f921\"]]}],\"heatmapgl\":[{\"type\":\"heatmapgl\",\"colorbar\":{\"outlinewidth\":0,\"ticks\":\"\"},\"colorscale\":[[0.0,\"#0d0887\"],[0.1111111111111111,\"#46039f\"],[0.2222222222222222,\"#7201a8\"],[0.3333333333333333,\"#9c179e\"],[0.4444444444444444,\"#bd3786\"],[0.5555555555555556,\"#d8576b\"],[0.6666666666666666,\"#ed7953\"],[0.7777777777777778,\"#fb9f3a\"],[0.8888888888888888,\"#fdca26\"],[1.0,\"#f0f921\"]]}],\"contourcarpet\":[{\"type\":\"contourcarpet\",\"colorbar\":{\"outlinewidth\":0,\"ticks\":\"\"}}],\"contour\":[{\"type\":\"contour\",\"colorbar\":{\"outlinewidth\":0,\"ticks\":\"\"},\"colorscale\":[[0.0,\"#0d0887\"],[0.1111111111111111,\"#46039f\"],[0.2222222222222222,\"#7201a8\"],[0.3333333333333333,\"#9c179e\"],[0.4444444444444444,\"#bd3786\"],[0.5555555555555556,\"#d8576b\"],[0.6666666666666666,\"#ed7953\"],[0.7777777777777778,\"#fb9f3a\"],[0.8888888888888888,\"#fdca26\"],[1.0,\"#f0f921\"]]}],\"surface\":[{\"type\":\"surface\",\"colorbar\":{\"outlinewidth\":0,\"ticks\":\"\"},\"colorscale\":[[0.0,\"#0d0887\"],[0.1111111111111111,\"#46039f\"],[0.2222222222222222,\"#7201a8\"],[0.3333333333333333,\"#9c179e\"],[0.4444444444444444,\"#bd3786\"],[0.5555555555555556,\"#d8576b\"],[0.6666666666666666,\"#ed7953\"],[0.7777777777777778,\"#fb9f3a\"],[0.8888888888888888,\"#fdca26\"],[1.0,\"#f0f921\"]]}],\"mesh3d\":[{\"type\":\"mesh3d\",\"colorbar\":{\"outlinewidth\":0,\"ticks\":\"\"}}],\"scatter\":[{\"marker\":{\"line\":{\"color\":\"#283442\"}},\"type\":\"scatter\"}],\"parcoords\":[{\"type\":\"parcoords\",\"line\":{\"colorbar\":{\"outlinewidth\":0,\"ticks\":\"\"}}}],\"scatterpolargl\":[{\"type\":\"scatterpolargl\",\"marker\":{\"colorbar\":{\"outlinewidth\":0,\"ticks\":\"\"}}}],\"bar\":[{\"error_x\":{\"color\":\"#f2f5fa\"},\"error_y\":{\"color\":\"#f2f5fa\"},\"marker\":{\"line\":{\"color\":\"rgb(17,17,17)\",\"width\":0.5},\"pattern\":{\"fillmode\":\"overlay\",\"size\":10,\"solidity\":0.2}},\"type\":\"bar\"}],\"scattergeo\":[{\"type\":\"scattergeo\",\"marker\":{\"colorbar\":{\"outlinewidth\":0,\"ticks\":\"\"}}}],\"scatterpolar\":[{\"type\":\"scatterpolar\",\"marker\":{\"colorbar\":{\"outlinewidth\":0,\"ticks\":\"\"}}}],\"histogram\":[{\"marker\":{\"pattern\":{\"fillmode\":\"overlay\",\"size\":10,\"solidity\":0.2}},\"type\":\"histogram\"}],\"scattergl\":[{\"marker\":{\"line\":{\"color\":\"#283442\"}},\"type\":\"scattergl\"}],\"scatter3d\":[{\"type\":\"scatter3d\",\"line\":{\"colorbar\":{\"outlinewidth\":0,\"ticks\":\"\"}},\"marker\":{\"colorbar\":{\"outlinewidth\":0,\"ticks\":\"\"}}}],\"scattermapbox\":[{\"type\":\"scattermapbox\",\"marker\":{\"colorbar\":{\"outlinewidth\":0,\"ticks\":\"\"}}}],\"scatterternary\":[{\"type\":\"scatterternary\",\"marker\":{\"colorbar\":{\"outlinewidth\":0,\"ticks\":\"\"}}}],\"scattercarpet\":[{\"type\":\"scattercarpet\",\"marker\":{\"colorbar\":{\"outlinewidth\":0,\"ticks\":\"\"}}}],\"carpet\":[{\"aaxis\":{\"endlinecolor\":\"#A2B1C6\",\"gridcolor\":\"#506784\",\"linecolor\":\"#506784\",\"minorgridcolor\":\"#506784\",\"startlinecolor\":\"#A2B1C6\"},\"baxis\":{\"endlinecolor\":\"#A2B1C6\",\"gridcolor\":\"#506784\",\"linecolor\":\"#506784\",\"minorgridcolor\":\"#506784\",\"startlinecolor\":\"#A2B1C6\"},\"type\":\"carpet\"}],\"table\":[{\"cells\":{\"fill\":{\"color\":\"#506784\"},\"line\":{\"color\":\"rgb(17,17,17)\"}},\"header\":{\"fill\":{\"color\":\"#2a3f5f\"},\"line\":{\"color\":\"rgb(17,17,17)\"}},\"type\":\"table\"}],\"barpolar\":[{\"marker\":{\"line\":{\"color\":\"rgb(17,17,17)\",\"width\":0.5},\"pattern\":{\"fillmode\":\"overlay\",\"size\":10,\"solidity\":0.2}},\"type\":\"barpolar\"}],\"pie\":[{\"automargin\":true,\"type\":\"pie\"}]},\"layout\":{\"autotypenumbers\":\"strict\",\"colorway\":[\"#636efa\",\"#EF553B\",\"#00cc96\",\"#ab63fa\",\"#FFA15A\",\"#19d3f3\",\"#FF6692\",\"#B6E880\",\"#FF97FF\",\"#FECB52\"],\"font\":{\"color\":\"#f2f5fa\"},\"hovermode\":\"closest\",\"hoverlabel\":{\"align\":\"left\"},\"paper_bgcolor\":\"rgb(17,17,17)\",\"plot_bgcolor\":\"rgb(17,17,17)\",\"polar\":{\"bgcolor\":\"rgb(17,17,17)\",\"angularaxis\":{\"gridcolor\":\"#506784\",\"linecolor\":\"#506784\",\"ticks\":\"\"},\"radialaxis\":{\"gridcolor\":\"#506784\",\"linecolor\":\"#506784\",\"ticks\":\"\"}},\"ternary\":{\"bgcolor\":\"rgb(17,17,17)\",\"aaxis\":{\"gridcolor\":\"#506784\",\"linecolor\":\"#506784\",\"ticks\":\"\"},\"baxis\":{\"gridcolor\":\"#506784\",\"linecolor\":\"#506784\",\"ticks\":\"\"},\"caxis\":{\"gridcolor\":\"#506784\",\"linecolor\":\"#506784\",\"ticks\":\"\"}},\"coloraxis\":{\"colorbar\":{\"outlinewidth\":0,\"ticks\":\"\"}},\"colorscale\":{\"sequential\":[[0.0,\"#0d0887\"],[0.1111111111111111,\"#46039f\"],[0.2222222222222222,\"#7201a8\"],[0.3333333333333333,\"#9c179e\"],[0.4444444444444444,\"#bd3786\"],[0.5555555555555556,\"#d8576b\"],[0.6666666666666666,\"#ed7953\"],[0.7777777777777778,\"#fb9f3a\"],[0.8888888888888888,\"#fdca26\"],[1.0,\"#f0f921\"]],\"sequentialminus\":[[0.0,\"#0d0887\"],[0.1111111111111111,\"#46039f\"],[0.2222222222222222,\"#7201a8\"],[0.3333333333333333,\"#9c179e\"],[0.4444444444444444,\"#bd3786\"],[0.5555555555555556,\"#d8576b\"],[0.6666666666666666,\"#ed7953\"],[0.7777777777777778,\"#fb9f3a\"],[0.8888888888888888,\"#fdca26\"],[1.0,\"#f0f921\"]],\"diverging\":[[0,\"#8e0152\"],[0.1,\"#c51b7d\"],[0.2,\"#de77ae\"],[0.3,\"#f1b6da\"],[0.4,\"#fde0ef\"],[0.5,\"#f7f7f7\"],[0.6,\"#e6f5d0\"],[0.7,\"#b8e186\"],[0.8,\"#7fbc41\"],[0.9,\"#4d9221\"],[1,\"#276419\"]]},\"xaxis\":{\"gridcolor\":\"#283442\",\"linecolor\":\"#506784\",\"ticks\":\"\",\"title\":{\"standoff\":15},\"zerolinecolor\":\"#283442\",\"automargin\":true,\"zerolinewidth\":2},\"yaxis\":{\"gridcolor\":\"#283442\",\"linecolor\":\"#506784\",\"ticks\":\"\",\"title\":{\"standoff\":15},\"zerolinecolor\":\"#283442\",\"automargin\":true,\"zerolinewidth\":2},\"scene\":{\"xaxis\":{\"backgroundcolor\":\"rgb(17,17,17)\",\"gridcolor\":\"#506784\",\"linecolor\":\"#506784\",\"showbackground\":true,\"ticks\":\"\",\"zerolinecolor\":\"#C8D4E3\",\"gridwidth\":2},\"yaxis\":{\"backgroundcolor\":\"rgb(17,17,17)\",\"gridcolor\":\"#506784\",\"linecolor\":\"#506784\",\"showbackground\":true,\"ticks\":\"\",\"zerolinecolor\":\"#C8D4E3\",\"gridwidth\":2},\"zaxis\":{\"backgroundcolor\":\"rgb(17,17,17)\",\"gridcolor\":\"#506784\",\"linecolor\":\"#506784\",\"showbackground\":true,\"ticks\":\"\",\"zerolinecolor\":\"#C8D4E3\",\"gridwidth\":2}},\"shapedefaults\":{\"line\":{\"color\":\"#f2f5fa\"}},\"annotationdefaults\":{\"arrowcolor\":\"#f2f5fa\",\"arrowhead\":0,\"arrowwidth\":1},\"geo\":{\"bgcolor\":\"rgb(17,17,17)\",\"landcolor\":\"rgb(17,17,17)\",\"subunitcolor\":\"#506784\",\"showland\":true,\"showlakes\":true,\"lakecolor\":\"rgb(17,17,17)\"},\"title\":{\"x\":0.05},\"updatemenudefaults\":{\"bgcolor\":\"#506784\",\"borderwidth\":0},\"sliderdefaults\":{\"bgcolor\":\"#C8D4E3\",\"borderwidth\":1,\"bordercolor\":\"rgb(17,17,17)\",\"tickwidth\":0},\"mapbox\":{\"style\":\"dark\"}}},\"xaxis\":{\"anchor\":\"y\",\"domain\":[0.0,1.0],\"scaleanchor\":\"y\",\"constrain\":\"domain\",\"title\":{\"text\":\"Target\"}},\"yaxis\":{\"anchor\":\"x\",\"domain\":[0.0,1.0],\"autorange\":\"reversed\",\"constrain\":\"domain\",\"title\":{\"text\":\"Prediction\"}},\"coloraxis\":{\"colorscale\":[[0.0,\"#0d0887\"],[0.1111111111111111,\"#46039f\"],[0.2222222222222222,\"#7201a8\"],[0.3333333333333333,\"#9c179e\"],[0.4444444444444444,\"#bd3786\"],[0.5555555555555556,\"#d8576b\"],[0.6666666666666666,\"#ed7953\"],[0.7777777777777778,\"#fb9f3a\"],[0.8888888888888888,\"#fdca26\"],[1.0,\"#f0f921\"]]},\"margin\":{\"t\":60}},                        {\"responsive\": true}                    ).then(function(){\n",
       "                            \n",
       "var gd = document.getElementById('06320e6c-86d9-4224-bfab-671970f06318');\n",
       "var x = new MutationObserver(function (mutations, observer) {{\n",
       "        var display = window.getComputedStyle(gd).display;\n",
       "        if (!display || display === 'none') {{\n",
       "            console.log([gd, 'removed!']);\n",
       "            Plotly.purge(gd);\n",
       "            observer.disconnect();\n",
       "        }}\n",
       "}});\n",
       "\n",
       "// Listen for the removal of the full notebook cells\n",
       "var notebookContainer = gd.closest('#notebook-container');\n",
       "if (notebookContainer) {{\n",
       "    x.observe(notebookContainer, {childList: true});\n",
       "}}\n",
       "\n",
       "// Listen for the clearing of the current output cell\n",
       "var outputEl = gd.closest('.output');\n",
       "if (outputEl) {{\n",
       "    x.observe(outputEl, {childList: true});\n",
       "}}\n",
       "\n",
       "                        })                };                });            </script>        </div>"
      ]
     },
     "metadata": {},
     "output_type": "display_data"
    }
   ],
   "source": [
    "@score_for('CatBoosting CPU', 'train')\n",
    "@time_for('CatBoosting CPU', 'train')\n",
    "def train_cat_cpu():\n",
    "    return f1_score(cat_cpu_y_train, y_train, average='macro')\n",
    "\n",
    "print(\n",
    "    \"F1-мера для тренировочных данных с помощью \"\n",
    "    \"CatBoostClassifier на CPU:\", train_cat_cpu(),\n",
    ")\n",
    "draw_conf_matrix(y_train, cat_cpu_y_train)"
   ]
  },
  {
   "cell_type": "code",
   "execution_count": 40,
   "metadata": {},
   "outputs": [],
   "source": [
    "cat_cpu_y_test = cat_cpu_model.predict(X_test)"
   ]
  },
  {
   "cell_type": "code",
   "execution_count": 79,
   "metadata": {},
   "outputs": [
    {
     "name": "stdout",
     "output_type": "stream",
     "text": [
      "F1-мера для тестовых данных с помощью CatBoostClassifier на CPU: 0.9610094547682362\n"
     ]
    },
    {
     "data": {
      "application/vnd.plotly.v1+json": {
       "config": {
        "plotlyServerURL": "https://plot.ly"
       },
       "data": [
        {
         "coloraxis": "coloraxis",
         "hovertemplate": "x: %{x}<br>y: %{y}<br>color: %{z}<extra></extra>",
         "name": "0",
         "texttemplate": "%{z}",
         "type": "heatmap",
         "xaxis": "x",
         "yaxis": "y",
         "z": [
          [
           57386,
           923,
           554
          ],
          [
           1844,
           16923,
           4
          ],
          [
           9,
           0,
           21357
          ]
         ]
        }
       ],
       "layout": {
        "coloraxis": {
         "colorscale": [
          [
           0,
           "#0d0887"
          ],
          [
           0.1111111111111111,
           "#46039f"
          ],
          [
           0.2222222222222222,
           "#7201a8"
          ],
          [
           0.3333333333333333,
           "#9c179e"
          ],
          [
           0.4444444444444444,
           "#bd3786"
          ],
          [
           0.5555555555555556,
           "#d8576b"
          ],
          [
           0.6666666666666666,
           "#ed7953"
          ],
          [
           0.7777777777777778,
           "#fb9f3a"
          ],
          [
           0.8888888888888888,
           "#fdca26"
          ],
          [
           1,
           "#f0f921"
          ]
         ]
        },
        "margin": {
         "t": 60
        },
        "template": {
         "data": {
          "bar": [
           {
            "error_x": {
             "color": "#f2f5fa"
            },
            "error_y": {
             "color": "#f2f5fa"
            },
            "marker": {
             "line": {
              "color": "rgb(17,17,17)",
              "width": 0.5
             },
             "pattern": {
              "fillmode": "overlay",
              "size": 10,
              "solidity": 0.2
             }
            },
            "type": "bar"
           }
          ],
          "barpolar": [
           {
            "marker": {
             "line": {
              "color": "rgb(17,17,17)",
              "width": 0.5
             },
             "pattern": {
              "fillmode": "overlay",
              "size": 10,
              "solidity": 0.2
             }
            },
            "type": "barpolar"
           }
          ],
          "carpet": [
           {
            "aaxis": {
             "endlinecolor": "#A2B1C6",
             "gridcolor": "#506784",
             "linecolor": "#506784",
             "minorgridcolor": "#506784",
             "startlinecolor": "#A2B1C6"
            },
            "baxis": {
             "endlinecolor": "#A2B1C6",
             "gridcolor": "#506784",
             "linecolor": "#506784",
             "minorgridcolor": "#506784",
             "startlinecolor": "#A2B1C6"
            },
            "type": "carpet"
           }
          ],
          "choropleth": [
           {
            "colorbar": {
             "outlinewidth": 0,
             "ticks": ""
            },
            "type": "choropleth"
           }
          ],
          "contour": [
           {
            "colorbar": {
             "outlinewidth": 0,
             "ticks": ""
            },
            "colorscale": [
             [
              0,
              "#0d0887"
             ],
             [
              0.1111111111111111,
              "#46039f"
             ],
             [
              0.2222222222222222,
              "#7201a8"
             ],
             [
              0.3333333333333333,
              "#9c179e"
             ],
             [
              0.4444444444444444,
              "#bd3786"
             ],
             [
              0.5555555555555556,
              "#d8576b"
             ],
             [
              0.6666666666666666,
              "#ed7953"
             ],
             [
              0.7777777777777778,
              "#fb9f3a"
             ],
             [
              0.8888888888888888,
              "#fdca26"
             ],
             [
              1,
              "#f0f921"
             ]
            ],
            "type": "contour"
           }
          ],
          "contourcarpet": [
           {
            "colorbar": {
             "outlinewidth": 0,
             "ticks": ""
            },
            "type": "contourcarpet"
           }
          ],
          "heatmap": [
           {
            "colorbar": {
             "outlinewidth": 0,
             "ticks": ""
            },
            "colorscale": [
             [
              0,
              "#0d0887"
             ],
             [
              0.1111111111111111,
              "#46039f"
             ],
             [
              0.2222222222222222,
              "#7201a8"
             ],
             [
              0.3333333333333333,
              "#9c179e"
             ],
             [
              0.4444444444444444,
              "#bd3786"
             ],
             [
              0.5555555555555556,
              "#d8576b"
             ],
             [
              0.6666666666666666,
              "#ed7953"
             ],
             [
              0.7777777777777778,
              "#fb9f3a"
             ],
             [
              0.8888888888888888,
              "#fdca26"
             ],
             [
              1,
              "#f0f921"
             ]
            ],
            "type": "heatmap"
           }
          ],
          "heatmapgl": [
           {
            "colorbar": {
             "outlinewidth": 0,
             "ticks": ""
            },
            "colorscale": [
             [
              0,
              "#0d0887"
             ],
             [
              0.1111111111111111,
              "#46039f"
             ],
             [
              0.2222222222222222,
              "#7201a8"
             ],
             [
              0.3333333333333333,
              "#9c179e"
             ],
             [
              0.4444444444444444,
              "#bd3786"
             ],
             [
              0.5555555555555556,
              "#d8576b"
             ],
             [
              0.6666666666666666,
              "#ed7953"
             ],
             [
              0.7777777777777778,
              "#fb9f3a"
             ],
             [
              0.8888888888888888,
              "#fdca26"
             ],
             [
              1,
              "#f0f921"
             ]
            ],
            "type": "heatmapgl"
           }
          ],
          "histogram": [
           {
            "marker": {
             "pattern": {
              "fillmode": "overlay",
              "size": 10,
              "solidity": 0.2
             }
            },
            "type": "histogram"
           }
          ],
          "histogram2d": [
           {
            "colorbar": {
             "outlinewidth": 0,
             "ticks": ""
            },
            "colorscale": [
             [
              0,
              "#0d0887"
             ],
             [
              0.1111111111111111,
              "#46039f"
             ],
             [
              0.2222222222222222,
              "#7201a8"
             ],
             [
              0.3333333333333333,
              "#9c179e"
             ],
             [
              0.4444444444444444,
              "#bd3786"
             ],
             [
              0.5555555555555556,
              "#d8576b"
             ],
             [
              0.6666666666666666,
              "#ed7953"
             ],
             [
              0.7777777777777778,
              "#fb9f3a"
             ],
             [
              0.8888888888888888,
              "#fdca26"
             ],
             [
              1,
              "#f0f921"
             ]
            ],
            "type": "histogram2d"
           }
          ],
          "histogram2dcontour": [
           {
            "colorbar": {
             "outlinewidth": 0,
             "ticks": ""
            },
            "colorscale": [
             [
              0,
              "#0d0887"
             ],
             [
              0.1111111111111111,
              "#46039f"
             ],
             [
              0.2222222222222222,
              "#7201a8"
             ],
             [
              0.3333333333333333,
              "#9c179e"
             ],
             [
              0.4444444444444444,
              "#bd3786"
             ],
             [
              0.5555555555555556,
              "#d8576b"
             ],
             [
              0.6666666666666666,
              "#ed7953"
             ],
             [
              0.7777777777777778,
              "#fb9f3a"
             ],
             [
              0.8888888888888888,
              "#fdca26"
             ],
             [
              1,
              "#f0f921"
             ]
            ],
            "type": "histogram2dcontour"
           }
          ],
          "mesh3d": [
           {
            "colorbar": {
             "outlinewidth": 0,
             "ticks": ""
            },
            "type": "mesh3d"
           }
          ],
          "parcoords": [
           {
            "line": {
             "colorbar": {
              "outlinewidth": 0,
              "ticks": ""
             }
            },
            "type": "parcoords"
           }
          ],
          "pie": [
           {
            "automargin": true,
            "type": "pie"
           }
          ],
          "scatter": [
           {
            "marker": {
             "line": {
              "color": "#283442"
             }
            },
            "type": "scatter"
           }
          ],
          "scatter3d": [
           {
            "line": {
             "colorbar": {
              "outlinewidth": 0,
              "ticks": ""
             }
            },
            "marker": {
             "colorbar": {
              "outlinewidth": 0,
              "ticks": ""
             }
            },
            "type": "scatter3d"
           }
          ],
          "scattercarpet": [
           {
            "marker": {
             "colorbar": {
              "outlinewidth": 0,
              "ticks": ""
             }
            },
            "type": "scattercarpet"
           }
          ],
          "scattergeo": [
           {
            "marker": {
             "colorbar": {
              "outlinewidth": 0,
              "ticks": ""
             }
            },
            "type": "scattergeo"
           }
          ],
          "scattergl": [
           {
            "marker": {
             "line": {
              "color": "#283442"
             }
            },
            "type": "scattergl"
           }
          ],
          "scattermapbox": [
           {
            "marker": {
             "colorbar": {
              "outlinewidth": 0,
              "ticks": ""
             }
            },
            "type": "scattermapbox"
           }
          ],
          "scatterpolar": [
           {
            "marker": {
             "colorbar": {
              "outlinewidth": 0,
              "ticks": ""
             }
            },
            "type": "scatterpolar"
           }
          ],
          "scatterpolargl": [
           {
            "marker": {
             "colorbar": {
              "outlinewidth": 0,
              "ticks": ""
             }
            },
            "type": "scatterpolargl"
           }
          ],
          "scatterternary": [
           {
            "marker": {
             "colorbar": {
              "outlinewidth": 0,
              "ticks": ""
             }
            },
            "type": "scatterternary"
           }
          ],
          "surface": [
           {
            "colorbar": {
             "outlinewidth": 0,
             "ticks": ""
            },
            "colorscale": [
             [
              0,
              "#0d0887"
             ],
             [
              0.1111111111111111,
              "#46039f"
             ],
             [
              0.2222222222222222,
              "#7201a8"
             ],
             [
              0.3333333333333333,
              "#9c179e"
             ],
             [
              0.4444444444444444,
              "#bd3786"
             ],
             [
              0.5555555555555556,
              "#d8576b"
             ],
             [
              0.6666666666666666,
              "#ed7953"
             ],
             [
              0.7777777777777778,
              "#fb9f3a"
             ],
             [
              0.8888888888888888,
              "#fdca26"
             ],
             [
              1,
              "#f0f921"
             ]
            ],
            "type": "surface"
           }
          ],
          "table": [
           {
            "cells": {
             "fill": {
              "color": "#506784"
             },
             "line": {
              "color": "rgb(17,17,17)"
             }
            },
            "header": {
             "fill": {
              "color": "#2a3f5f"
             },
             "line": {
              "color": "rgb(17,17,17)"
             }
            },
            "type": "table"
           }
          ]
         },
         "layout": {
          "annotationdefaults": {
           "arrowcolor": "#f2f5fa",
           "arrowhead": 0,
           "arrowwidth": 1
          },
          "autotypenumbers": "strict",
          "coloraxis": {
           "colorbar": {
            "outlinewidth": 0,
            "ticks": ""
           }
          },
          "colorscale": {
           "diverging": [
            [
             0,
             "#8e0152"
            ],
            [
             0.1,
             "#c51b7d"
            ],
            [
             0.2,
             "#de77ae"
            ],
            [
             0.3,
             "#f1b6da"
            ],
            [
             0.4,
             "#fde0ef"
            ],
            [
             0.5,
             "#f7f7f7"
            ],
            [
             0.6,
             "#e6f5d0"
            ],
            [
             0.7,
             "#b8e186"
            ],
            [
             0.8,
             "#7fbc41"
            ],
            [
             0.9,
             "#4d9221"
            ],
            [
             1,
             "#276419"
            ]
           ],
           "sequential": [
            [
             0,
             "#0d0887"
            ],
            [
             0.1111111111111111,
             "#46039f"
            ],
            [
             0.2222222222222222,
             "#7201a8"
            ],
            [
             0.3333333333333333,
             "#9c179e"
            ],
            [
             0.4444444444444444,
             "#bd3786"
            ],
            [
             0.5555555555555556,
             "#d8576b"
            ],
            [
             0.6666666666666666,
             "#ed7953"
            ],
            [
             0.7777777777777778,
             "#fb9f3a"
            ],
            [
             0.8888888888888888,
             "#fdca26"
            ],
            [
             1,
             "#f0f921"
            ]
           ],
           "sequentialminus": [
            [
             0,
             "#0d0887"
            ],
            [
             0.1111111111111111,
             "#46039f"
            ],
            [
             0.2222222222222222,
             "#7201a8"
            ],
            [
             0.3333333333333333,
             "#9c179e"
            ],
            [
             0.4444444444444444,
             "#bd3786"
            ],
            [
             0.5555555555555556,
             "#d8576b"
            ],
            [
             0.6666666666666666,
             "#ed7953"
            ],
            [
             0.7777777777777778,
             "#fb9f3a"
            ],
            [
             0.8888888888888888,
             "#fdca26"
            ],
            [
             1,
             "#f0f921"
            ]
           ]
          },
          "colorway": [
           "#636efa",
           "#EF553B",
           "#00cc96",
           "#ab63fa",
           "#FFA15A",
           "#19d3f3",
           "#FF6692",
           "#B6E880",
           "#FF97FF",
           "#FECB52"
          ],
          "font": {
           "color": "#f2f5fa"
          },
          "geo": {
           "bgcolor": "rgb(17,17,17)",
           "lakecolor": "rgb(17,17,17)",
           "landcolor": "rgb(17,17,17)",
           "showlakes": true,
           "showland": true,
           "subunitcolor": "#506784"
          },
          "hoverlabel": {
           "align": "left"
          },
          "hovermode": "closest",
          "mapbox": {
           "style": "dark"
          },
          "paper_bgcolor": "rgb(17,17,17)",
          "plot_bgcolor": "rgb(17,17,17)",
          "polar": {
           "angularaxis": {
            "gridcolor": "#506784",
            "linecolor": "#506784",
            "ticks": ""
           },
           "bgcolor": "rgb(17,17,17)",
           "radialaxis": {
            "gridcolor": "#506784",
            "linecolor": "#506784",
            "ticks": ""
           }
          },
          "scene": {
           "xaxis": {
            "backgroundcolor": "rgb(17,17,17)",
            "gridcolor": "#506784",
            "gridwidth": 2,
            "linecolor": "#506784",
            "showbackground": true,
            "ticks": "",
            "zerolinecolor": "#C8D4E3"
           },
           "yaxis": {
            "backgroundcolor": "rgb(17,17,17)",
            "gridcolor": "#506784",
            "gridwidth": 2,
            "linecolor": "#506784",
            "showbackground": true,
            "ticks": "",
            "zerolinecolor": "#C8D4E3"
           },
           "zaxis": {
            "backgroundcolor": "rgb(17,17,17)",
            "gridcolor": "#506784",
            "gridwidth": 2,
            "linecolor": "#506784",
            "showbackground": true,
            "ticks": "",
            "zerolinecolor": "#C8D4E3"
           }
          },
          "shapedefaults": {
           "line": {
            "color": "#f2f5fa"
           }
          },
          "sliderdefaults": {
           "bgcolor": "#C8D4E3",
           "bordercolor": "rgb(17,17,17)",
           "borderwidth": 1,
           "tickwidth": 0
          },
          "ternary": {
           "aaxis": {
            "gridcolor": "#506784",
            "linecolor": "#506784",
            "ticks": ""
           },
           "baxis": {
            "gridcolor": "#506784",
            "linecolor": "#506784",
            "ticks": ""
           },
           "bgcolor": "rgb(17,17,17)",
           "caxis": {
            "gridcolor": "#506784",
            "linecolor": "#506784",
            "ticks": ""
           }
          },
          "title": {
           "x": 0.05
          },
          "updatemenudefaults": {
           "bgcolor": "#506784",
           "borderwidth": 0
          },
          "xaxis": {
           "automargin": true,
           "gridcolor": "#283442",
           "linecolor": "#506784",
           "ticks": "",
           "title": {
            "standoff": 15
           },
           "zerolinecolor": "#283442",
           "zerolinewidth": 2
          },
          "yaxis": {
           "automargin": true,
           "gridcolor": "#283442",
           "linecolor": "#506784",
           "ticks": "",
           "title": {
            "standoff": 15
           },
           "zerolinecolor": "#283442",
           "zerolinewidth": 2
          }
         }
        },
        "xaxis": {
         "anchor": "y",
         "constrain": "domain",
         "domain": [
          0,
          1
         ],
         "scaleanchor": "y",
         "title": {
          "text": "Target"
         }
        },
        "yaxis": {
         "anchor": "x",
         "autorange": "reversed",
         "constrain": "domain",
         "domain": [
          0,
          1
         ],
         "title": {
          "text": "Prediction"
         }
        }
       }
      },
      "text/html": [
       "<div>                            <div id=\"b8bcfe36-d09a-42ea-b4ea-e72a2c1e32af\" class=\"plotly-graph-div\" style=\"height:525px; width:100%;\"></div>            <script type=\"text/javascript\">                require([\"plotly\"], function(Plotly) {                    window.PLOTLYENV=window.PLOTLYENV || {};                                    if (document.getElementById(\"b8bcfe36-d09a-42ea-b4ea-e72a2c1e32af\")) {                    Plotly.newPlot(                        \"b8bcfe36-d09a-42ea-b4ea-e72a2c1e32af\",                        [{\"coloraxis\":\"coloraxis\",\"name\":\"0\",\"texttemplate\":\"%{z}\",\"z\":[[57386,923,554],[1844,16923,4],[9,0,21357]],\"type\":\"heatmap\",\"xaxis\":\"x\",\"yaxis\":\"y\",\"hovertemplate\":\"x: %{x}<br>y: %{y}<br>color: %{z}<extra></extra>\"}],                        {\"template\":{\"data\":{\"histogram2dcontour\":[{\"type\":\"histogram2dcontour\",\"colorbar\":{\"outlinewidth\":0,\"ticks\":\"\"},\"colorscale\":[[0.0,\"#0d0887\"],[0.1111111111111111,\"#46039f\"],[0.2222222222222222,\"#7201a8\"],[0.3333333333333333,\"#9c179e\"],[0.4444444444444444,\"#bd3786\"],[0.5555555555555556,\"#d8576b\"],[0.6666666666666666,\"#ed7953\"],[0.7777777777777778,\"#fb9f3a\"],[0.8888888888888888,\"#fdca26\"],[1.0,\"#f0f921\"]]}],\"choropleth\":[{\"type\":\"choropleth\",\"colorbar\":{\"outlinewidth\":0,\"ticks\":\"\"}}],\"histogram2d\":[{\"type\":\"histogram2d\",\"colorbar\":{\"outlinewidth\":0,\"ticks\":\"\"},\"colorscale\":[[0.0,\"#0d0887\"],[0.1111111111111111,\"#46039f\"],[0.2222222222222222,\"#7201a8\"],[0.3333333333333333,\"#9c179e\"],[0.4444444444444444,\"#bd3786\"],[0.5555555555555556,\"#d8576b\"],[0.6666666666666666,\"#ed7953\"],[0.7777777777777778,\"#fb9f3a\"],[0.8888888888888888,\"#fdca26\"],[1.0,\"#f0f921\"]]}],\"heatmap\":[{\"type\":\"heatmap\",\"colorbar\":{\"outlinewidth\":0,\"ticks\":\"\"},\"colorscale\":[[0.0,\"#0d0887\"],[0.1111111111111111,\"#46039f\"],[0.2222222222222222,\"#7201a8\"],[0.3333333333333333,\"#9c179e\"],[0.4444444444444444,\"#bd3786\"],[0.5555555555555556,\"#d8576b\"],[0.6666666666666666,\"#ed7953\"],[0.7777777777777778,\"#fb9f3a\"],[0.8888888888888888,\"#fdca26\"],[1.0,\"#f0f921\"]]}],\"heatmapgl\":[{\"type\":\"heatmapgl\",\"colorbar\":{\"outlinewidth\":0,\"ticks\":\"\"},\"colorscale\":[[0.0,\"#0d0887\"],[0.1111111111111111,\"#46039f\"],[0.2222222222222222,\"#7201a8\"],[0.3333333333333333,\"#9c179e\"],[0.4444444444444444,\"#bd3786\"],[0.5555555555555556,\"#d8576b\"],[0.6666666666666666,\"#ed7953\"],[0.7777777777777778,\"#fb9f3a\"],[0.8888888888888888,\"#fdca26\"],[1.0,\"#f0f921\"]]}],\"contourcarpet\":[{\"type\":\"contourcarpet\",\"colorbar\":{\"outlinewidth\":0,\"ticks\":\"\"}}],\"contour\":[{\"type\":\"contour\",\"colorbar\":{\"outlinewidth\":0,\"ticks\":\"\"},\"colorscale\":[[0.0,\"#0d0887\"],[0.1111111111111111,\"#46039f\"],[0.2222222222222222,\"#7201a8\"],[0.3333333333333333,\"#9c179e\"],[0.4444444444444444,\"#bd3786\"],[0.5555555555555556,\"#d8576b\"],[0.6666666666666666,\"#ed7953\"],[0.7777777777777778,\"#fb9f3a\"],[0.8888888888888888,\"#fdca26\"],[1.0,\"#f0f921\"]]}],\"surface\":[{\"type\":\"surface\",\"colorbar\":{\"outlinewidth\":0,\"ticks\":\"\"},\"colorscale\":[[0.0,\"#0d0887\"],[0.1111111111111111,\"#46039f\"],[0.2222222222222222,\"#7201a8\"],[0.3333333333333333,\"#9c179e\"],[0.4444444444444444,\"#bd3786\"],[0.5555555555555556,\"#d8576b\"],[0.6666666666666666,\"#ed7953\"],[0.7777777777777778,\"#fb9f3a\"],[0.8888888888888888,\"#fdca26\"],[1.0,\"#f0f921\"]]}],\"mesh3d\":[{\"type\":\"mesh3d\",\"colorbar\":{\"outlinewidth\":0,\"ticks\":\"\"}}],\"scatter\":[{\"marker\":{\"line\":{\"color\":\"#283442\"}},\"type\":\"scatter\"}],\"parcoords\":[{\"type\":\"parcoords\",\"line\":{\"colorbar\":{\"outlinewidth\":0,\"ticks\":\"\"}}}],\"scatterpolargl\":[{\"type\":\"scatterpolargl\",\"marker\":{\"colorbar\":{\"outlinewidth\":0,\"ticks\":\"\"}}}],\"bar\":[{\"error_x\":{\"color\":\"#f2f5fa\"},\"error_y\":{\"color\":\"#f2f5fa\"},\"marker\":{\"line\":{\"color\":\"rgb(17,17,17)\",\"width\":0.5},\"pattern\":{\"fillmode\":\"overlay\",\"size\":10,\"solidity\":0.2}},\"type\":\"bar\"}],\"scattergeo\":[{\"type\":\"scattergeo\",\"marker\":{\"colorbar\":{\"outlinewidth\":0,\"ticks\":\"\"}}}],\"scatterpolar\":[{\"type\":\"scatterpolar\",\"marker\":{\"colorbar\":{\"outlinewidth\":0,\"ticks\":\"\"}}}],\"histogram\":[{\"marker\":{\"pattern\":{\"fillmode\":\"overlay\",\"size\":10,\"solidity\":0.2}},\"type\":\"histogram\"}],\"scattergl\":[{\"marker\":{\"line\":{\"color\":\"#283442\"}},\"type\":\"scattergl\"}],\"scatter3d\":[{\"type\":\"scatter3d\",\"line\":{\"colorbar\":{\"outlinewidth\":0,\"ticks\":\"\"}},\"marker\":{\"colorbar\":{\"outlinewidth\":0,\"ticks\":\"\"}}}],\"scattermapbox\":[{\"type\":\"scattermapbox\",\"marker\":{\"colorbar\":{\"outlinewidth\":0,\"ticks\":\"\"}}}],\"scatterternary\":[{\"type\":\"scatterternary\",\"marker\":{\"colorbar\":{\"outlinewidth\":0,\"ticks\":\"\"}}}],\"scattercarpet\":[{\"type\":\"scattercarpet\",\"marker\":{\"colorbar\":{\"outlinewidth\":0,\"ticks\":\"\"}}}],\"carpet\":[{\"aaxis\":{\"endlinecolor\":\"#A2B1C6\",\"gridcolor\":\"#506784\",\"linecolor\":\"#506784\",\"minorgridcolor\":\"#506784\",\"startlinecolor\":\"#A2B1C6\"},\"baxis\":{\"endlinecolor\":\"#A2B1C6\",\"gridcolor\":\"#506784\",\"linecolor\":\"#506784\",\"minorgridcolor\":\"#506784\",\"startlinecolor\":\"#A2B1C6\"},\"type\":\"carpet\"}],\"table\":[{\"cells\":{\"fill\":{\"color\":\"#506784\"},\"line\":{\"color\":\"rgb(17,17,17)\"}},\"header\":{\"fill\":{\"color\":\"#2a3f5f\"},\"line\":{\"color\":\"rgb(17,17,17)\"}},\"type\":\"table\"}],\"barpolar\":[{\"marker\":{\"line\":{\"color\":\"rgb(17,17,17)\",\"width\":0.5},\"pattern\":{\"fillmode\":\"overlay\",\"size\":10,\"solidity\":0.2}},\"type\":\"barpolar\"}],\"pie\":[{\"automargin\":true,\"type\":\"pie\"}]},\"layout\":{\"autotypenumbers\":\"strict\",\"colorway\":[\"#636efa\",\"#EF553B\",\"#00cc96\",\"#ab63fa\",\"#FFA15A\",\"#19d3f3\",\"#FF6692\",\"#B6E880\",\"#FF97FF\",\"#FECB52\"],\"font\":{\"color\":\"#f2f5fa\"},\"hovermode\":\"closest\",\"hoverlabel\":{\"align\":\"left\"},\"paper_bgcolor\":\"rgb(17,17,17)\",\"plot_bgcolor\":\"rgb(17,17,17)\",\"polar\":{\"bgcolor\":\"rgb(17,17,17)\",\"angularaxis\":{\"gridcolor\":\"#506784\",\"linecolor\":\"#506784\",\"ticks\":\"\"},\"radialaxis\":{\"gridcolor\":\"#506784\",\"linecolor\":\"#506784\",\"ticks\":\"\"}},\"ternary\":{\"bgcolor\":\"rgb(17,17,17)\",\"aaxis\":{\"gridcolor\":\"#506784\",\"linecolor\":\"#506784\",\"ticks\":\"\"},\"baxis\":{\"gridcolor\":\"#506784\",\"linecolor\":\"#506784\",\"ticks\":\"\"},\"caxis\":{\"gridcolor\":\"#506784\",\"linecolor\":\"#506784\",\"ticks\":\"\"}},\"coloraxis\":{\"colorbar\":{\"outlinewidth\":0,\"ticks\":\"\"}},\"colorscale\":{\"sequential\":[[0.0,\"#0d0887\"],[0.1111111111111111,\"#46039f\"],[0.2222222222222222,\"#7201a8\"],[0.3333333333333333,\"#9c179e\"],[0.4444444444444444,\"#bd3786\"],[0.5555555555555556,\"#d8576b\"],[0.6666666666666666,\"#ed7953\"],[0.7777777777777778,\"#fb9f3a\"],[0.8888888888888888,\"#fdca26\"],[1.0,\"#f0f921\"]],\"sequentialminus\":[[0.0,\"#0d0887\"],[0.1111111111111111,\"#46039f\"],[0.2222222222222222,\"#7201a8\"],[0.3333333333333333,\"#9c179e\"],[0.4444444444444444,\"#bd3786\"],[0.5555555555555556,\"#d8576b\"],[0.6666666666666666,\"#ed7953\"],[0.7777777777777778,\"#fb9f3a\"],[0.8888888888888888,\"#fdca26\"],[1.0,\"#f0f921\"]],\"diverging\":[[0,\"#8e0152\"],[0.1,\"#c51b7d\"],[0.2,\"#de77ae\"],[0.3,\"#f1b6da\"],[0.4,\"#fde0ef\"],[0.5,\"#f7f7f7\"],[0.6,\"#e6f5d0\"],[0.7,\"#b8e186\"],[0.8,\"#7fbc41\"],[0.9,\"#4d9221\"],[1,\"#276419\"]]},\"xaxis\":{\"gridcolor\":\"#283442\",\"linecolor\":\"#506784\",\"ticks\":\"\",\"title\":{\"standoff\":15},\"zerolinecolor\":\"#283442\",\"automargin\":true,\"zerolinewidth\":2},\"yaxis\":{\"gridcolor\":\"#283442\",\"linecolor\":\"#506784\",\"ticks\":\"\",\"title\":{\"standoff\":15},\"zerolinecolor\":\"#283442\",\"automargin\":true,\"zerolinewidth\":2},\"scene\":{\"xaxis\":{\"backgroundcolor\":\"rgb(17,17,17)\",\"gridcolor\":\"#506784\",\"linecolor\":\"#506784\",\"showbackground\":true,\"ticks\":\"\",\"zerolinecolor\":\"#C8D4E3\",\"gridwidth\":2},\"yaxis\":{\"backgroundcolor\":\"rgb(17,17,17)\",\"gridcolor\":\"#506784\",\"linecolor\":\"#506784\",\"showbackground\":true,\"ticks\":\"\",\"zerolinecolor\":\"#C8D4E3\",\"gridwidth\":2},\"zaxis\":{\"backgroundcolor\":\"rgb(17,17,17)\",\"gridcolor\":\"#506784\",\"linecolor\":\"#506784\",\"showbackground\":true,\"ticks\":\"\",\"zerolinecolor\":\"#C8D4E3\",\"gridwidth\":2}},\"shapedefaults\":{\"line\":{\"color\":\"#f2f5fa\"}},\"annotationdefaults\":{\"arrowcolor\":\"#f2f5fa\",\"arrowhead\":0,\"arrowwidth\":1},\"geo\":{\"bgcolor\":\"rgb(17,17,17)\",\"landcolor\":\"rgb(17,17,17)\",\"subunitcolor\":\"#506784\",\"showland\":true,\"showlakes\":true,\"lakecolor\":\"rgb(17,17,17)\"},\"title\":{\"x\":0.05},\"updatemenudefaults\":{\"bgcolor\":\"#506784\",\"borderwidth\":0},\"sliderdefaults\":{\"bgcolor\":\"#C8D4E3\",\"borderwidth\":1,\"bordercolor\":\"rgb(17,17,17)\",\"tickwidth\":0},\"mapbox\":{\"style\":\"dark\"}}},\"xaxis\":{\"anchor\":\"y\",\"domain\":[0.0,1.0],\"scaleanchor\":\"y\",\"constrain\":\"domain\",\"title\":{\"text\":\"Target\"}},\"yaxis\":{\"anchor\":\"x\",\"domain\":[0.0,1.0],\"autorange\":\"reversed\",\"constrain\":\"domain\",\"title\":{\"text\":\"Prediction\"}},\"coloraxis\":{\"colorscale\":[[0.0,\"#0d0887\"],[0.1111111111111111,\"#46039f\"],[0.2222222222222222,\"#7201a8\"],[0.3333333333333333,\"#9c179e\"],[0.4444444444444444,\"#bd3786\"],[0.5555555555555556,\"#d8576b\"],[0.6666666666666666,\"#ed7953\"],[0.7777777777777778,\"#fb9f3a\"],[0.8888888888888888,\"#fdca26\"],[1.0,\"#f0f921\"]]},\"margin\":{\"t\":60}},                        {\"responsive\": true}                    ).then(function(){\n",
       "                            \n",
       "var gd = document.getElementById('b8bcfe36-d09a-42ea-b4ea-e72a2c1e32af');\n",
       "var x = new MutationObserver(function (mutations, observer) {{\n",
       "        var display = window.getComputedStyle(gd).display;\n",
       "        if (!display || display === 'none') {{\n",
       "            console.log([gd, 'removed!']);\n",
       "            Plotly.purge(gd);\n",
       "            observer.disconnect();\n",
       "        }}\n",
       "}});\n",
       "\n",
       "// Listen for the removal of the full notebook cells\n",
       "var notebookContainer = gd.closest('#notebook-container');\n",
       "if (notebookContainer) {{\n",
       "    x.observe(notebookContainer, {childList: true});\n",
       "}}\n",
       "\n",
       "// Listen for the clearing of the current output cell\n",
       "var outputEl = gd.closest('.output');\n",
       "if (outputEl) {{\n",
       "    x.observe(outputEl, {childList: true});\n",
       "}}\n",
       "\n",
       "                        })                };                });            </script>        </div>"
      ]
     },
     "metadata": {},
     "output_type": "display_data"
    }
   ],
   "source": [
    "@score_for('CatBoosting CPU', 'test')\n",
    "@time_for('CatBoosting CPU', 'test')\n",
    "def test_cat_cpu():\n",
    "    return f1_score(cat_cpu_y_test, y_test, average='macro')\n",
    "\n",
    "print(\n",
    "    \"F1-мера для тестовых данных с помощью \"\n",
    "    \"CatBoostClassifier на CPU:\", test_cat_cpu(),\n",
    ")\n",
    "draw_conf_matrix(y_test, cat_cpu_y_test)"
   ]
  },
  {
   "cell_type": "markdown",
   "metadata": {},
   "source": [
    "### Cat Boosting\n",
    "\n",
    "С использованием GPU\n"
   ]
  },
  {
   "cell_type": "code",
   "execution_count": 43,
   "metadata": {},
   "outputs": [
    {
     "name": "stdout",
     "output_type": "stream",
     "text": [
      "Learning rate set to 0.064906\n",
      "0:\tlearn: 1.0015128\ttotal: 25.6ms\tremaining: 25.6s\n",
      "1:\tlearn: 0.9169174\ttotal: 84.7ms\tremaining: 42.3s\n",
      "2:\tlearn: 0.8447158\ttotal: 280ms\tremaining: 1m 33s\n",
      "3:\tlearn: 0.7815021\ttotal: 288ms\tremaining: 1m 11s\n",
      "4:\tlearn: 0.7260631\ttotal: 297ms\tremaining: 59.1s\n",
      "5:\tlearn: 0.6780486\ttotal: 305ms\tremaining: 50.6s\n",
      "6:\tlearn: 0.6347123\ttotal: 313ms\tremaining: 44.4s\n",
      "7:\tlearn: 0.5953649\ttotal: 320ms\tremaining: 39.7s\n",
      "8:\tlearn: 0.5607136\ttotal: 328ms\tremaining: 36.1s\n",
      "9:\tlearn: 0.5279078\ttotal: 337ms\tremaining: 33.4s\n",
      "10:\tlearn: 0.4980567\ttotal: 348ms\tremaining: 31.3s\n",
      "11:\tlearn: 0.4716894\ttotal: 357ms\tremaining: 29.4s\n",
      "12:\tlearn: 0.4467183\ttotal: 365ms\tremaining: 27.7s\n",
      "13:\tlearn: 0.4231300\ttotal: 375ms\tremaining: 26.4s\n",
      "14:\tlearn: 0.4020272\ttotal: 424ms\tremaining: 27.8s\n",
      "15:\tlearn: 0.3832922\ttotal: 440ms\tremaining: 27.1s\n",
      "16:\tlearn: 0.3660352\ttotal: 449ms\tremaining: 25.9s\n",
      "17:\tlearn: 0.3497797\ttotal: 459ms\tremaining: 25s\n",
      "18:\tlearn: 0.3336754\ttotal: 467ms\tremaining: 24.1s\n",
      "19:\tlearn: 0.3191763\ttotal: 476ms\tremaining: 23.3s\n",
      "20:\tlearn: 0.3069667\ttotal: 490ms\tremaining: 22.8s\n",
      "21:\tlearn: 0.2942078\ttotal: 499ms\tremaining: 22.2s\n",
      "22:\tlearn: 0.2830466\ttotal: 506ms\tremaining: 21.5s\n",
      "23:\tlearn: 0.2733586\ttotal: 513ms\tremaining: 20.9s\n",
      "24:\tlearn: 0.2634575\ttotal: 522ms\tremaining: 20.4s\n",
      "25:\tlearn: 0.2543524\ttotal: 529ms\tremaining: 19.8s\n",
      "26:\tlearn: 0.2461407\ttotal: 537ms\tremaining: 19.4s\n",
      "27:\tlearn: 0.2385371\ttotal: 549ms\tremaining: 19s\n",
      "28:\tlearn: 0.2303918\ttotal: 556ms\tremaining: 18.6s\n",
      "29:\tlearn: 0.2231831\ttotal: 565ms\tremaining: 18.3s\n",
      "30:\tlearn: 0.2171550\ttotal: 572ms\tremaining: 17.9s\n",
      "31:\tlearn: 0.2105922\ttotal: 582ms\tremaining: 17.6s\n",
      "32:\tlearn: 0.2051777\ttotal: 591ms\tremaining: 17.3s\n",
      "33:\tlearn: 0.1995861\ttotal: 600ms\tremaining: 17s\n",
      "34:\tlearn: 0.1946393\ttotal: 607ms\tremaining: 16.7s\n",
      "35:\tlearn: 0.1899200\ttotal: 615ms\tremaining: 16.5s\n",
      "36:\tlearn: 0.1849604\ttotal: 621ms\tremaining: 16.2s\n",
      "37:\tlearn: 0.1803236\ttotal: 630ms\tremaining: 15.9s\n",
      "38:\tlearn: 0.1758612\ttotal: 638ms\tremaining: 15.7s\n",
      "39:\tlearn: 0.1720558\ttotal: 647ms\tremaining: 15.5s\n",
      "40:\tlearn: 0.1682304\ttotal: 658ms\tremaining: 15.4s\n",
      "41:\tlearn: 0.1651623\ttotal: 672ms\tremaining: 15.3s\n",
      "42:\tlearn: 0.1619501\ttotal: 681ms\tremaining: 15.2s\n",
      "43:\tlearn: 0.1587957\ttotal: 691ms\tremaining: 15s\n",
      "44:\tlearn: 0.1562957\ttotal: 699ms\tremaining: 14.8s\n",
      "45:\tlearn: 0.1539383\ttotal: 707ms\tremaining: 14.7s\n",
      "46:\tlearn: 0.1511109\ttotal: 719ms\tremaining: 14.6s\n",
      "47:\tlearn: 0.1498066\ttotal: 728ms\tremaining: 14.4s\n",
      "48:\tlearn: 0.1475976\ttotal: 738ms\tremaining: 14.3s\n",
      "49:\tlearn: 0.1455859\ttotal: 756ms\tremaining: 14.4s\n",
      "50:\tlearn: 0.1435346\ttotal: 776ms\tremaining: 14.4s\n",
      "51:\tlearn: 0.1416367\ttotal: 793ms\tremaining: 14.5s\n",
      "52:\tlearn: 0.1399933\ttotal: 805ms\tremaining: 14.4s\n",
      "53:\tlearn: 0.1382729\ttotal: 822ms\tremaining: 14.4s\n",
      "54:\tlearn: 0.1363062\ttotal: 830ms\tremaining: 14.3s\n",
      "55:\tlearn: 0.1344098\ttotal: 839ms\tremaining: 14.1s\n",
      "56:\tlearn: 0.1334618\ttotal: 848ms\tremaining: 14s\n",
      "57:\tlearn: 0.1316578\ttotal: 859ms\tremaining: 13.9s\n",
      "58:\tlearn: 0.1301324\ttotal: 868ms\tremaining: 13.8s\n",
      "59:\tlearn: 0.1286377\ttotal: 876ms\tremaining: 13.7s\n",
      "60:\tlearn: 0.1274623\ttotal: 887ms\tremaining: 13.7s\n",
      "61:\tlearn: 0.1261385\ttotal: 894ms\tremaining: 13.5s\n",
      "62:\tlearn: 0.1246613\ttotal: 908ms\tremaining: 13.5s\n",
      "63:\tlearn: 0.1237142\ttotal: 920ms\tremaining: 13.5s\n",
      "64:\tlearn: 0.1228687\ttotal: 931ms\tremaining: 13.4s\n",
      "65:\tlearn: 0.1214819\ttotal: 942ms\tremaining: 13.3s\n",
      "66:\tlearn: 0.1198255\ttotal: 957ms\tremaining: 13.3s\n",
      "67:\tlearn: 0.1182398\ttotal: 966ms\tremaining: 13.2s\n",
      "68:\tlearn: 0.1175743\ttotal: 975ms\tremaining: 13.2s\n",
      "69:\tlearn: 0.1166591\ttotal: 984ms\tremaining: 13.1s\n",
      "70:\tlearn: 0.1156739\ttotal: 994ms\tremaining: 13s\n",
      "71:\tlearn: 0.1149787\ttotal: 1s\tremaining: 12.9s\n",
      "72:\tlearn: 0.1145503\ttotal: 1.03s\tremaining: 13.1s\n",
      "73:\tlearn: 0.1134455\ttotal: 1.05s\tremaining: 13.1s\n",
      "74:\tlearn: 0.1124609\ttotal: 1.06s\tremaining: 13.1s\n",
      "75:\tlearn: 0.1118431\ttotal: 1.08s\tremaining: 13.1s\n",
      "76:\tlearn: 0.1107606\ttotal: 1.09s\tremaining: 13.1s\n",
      "77:\tlearn: 0.1095025\ttotal: 1.1s\tremaining: 13s\n",
      "78:\tlearn: 0.1085239\ttotal: 1.11s\tremaining: 13s\n",
      "79:\tlearn: 0.1079568\ttotal: 1.12s\tremaining: 12.9s\n",
      "80:\tlearn: 0.1072546\ttotal: 1.14s\tremaining: 12.9s\n",
      "81:\tlearn: 0.1067594\ttotal: 1.16s\tremaining: 13s\n",
      "82:\tlearn: 0.1060382\ttotal: 1.18s\tremaining: 13s\n",
      "83:\tlearn: 0.1052264\ttotal: 1.19s\tremaining: 12.9s\n",
      "84:\tlearn: 0.1046193\ttotal: 1.2s\tremaining: 12.9s\n",
      "85:\tlearn: 0.1036857\ttotal: 1.21s\tremaining: 12.8s\n",
      "86:\tlearn: 0.1030550\ttotal: 1.22s\tremaining: 12.8s\n",
      "87:\tlearn: 0.1026072\ttotal: 1.23s\tremaining: 12.7s\n",
      "88:\tlearn: 0.1020542\ttotal: 1.24s\tremaining: 12.7s\n",
      "89:\tlearn: 0.1012797\ttotal: 1.25s\tremaining: 12.7s\n",
      "90:\tlearn: 0.1008352\ttotal: 1.26s\tremaining: 12.6s\n",
      "91:\tlearn: 0.1002393\ttotal: 1.27s\tremaining: 12.6s\n",
      "92:\tlearn: 0.0993833\ttotal: 1.28s\tremaining: 12.5s\n",
      "93:\tlearn: 0.0987722\ttotal: 1.29s\tremaining: 12.5s\n",
      "94:\tlearn: 0.0983133\ttotal: 1.3s\tremaining: 12.4s\n",
      "95:\tlearn: 0.0975835\ttotal: 1.31s\tremaining: 12.4s\n",
      "96:\tlearn: 0.0969644\ttotal: 1.33s\tremaining: 12.3s\n",
      "97:\tlearn: 0.0962684\ttotal: 1.34s\tremaining: 12.3s\n",
      "98:\tlearn: 0.0959695\ttotal: 1.35s\tremaining: 12.3s\n",
      "99:\tlearn: 0.0956295\ttotal: 1.38s\tremaining: 12.4s\n",
      "100:\tlearn: 0.0952295\ttotal: 1.39s\tremaining: 12.4s\n",
      "101:\tlearn: 0.0945555\ttotal: 1.41s\tremaining: 12.4s\n",
      "102:\tlearn: 0.0940446\ttotal: 1.43s\tremaining: 12.5s\n",
      "103:\tlearn: 0.0935782\ttotal: 1.45s\tremaining: 12.5s\n",
      "104:\tlearn: 0.0929869\ttotal: 1.46s\tremaining: 12.5s\n",
      "105:\tlearn: 0.0923123\ttotal: 1.47s\tremaining: 12.4s\n",
      "106:\tlearn: 0.0919433\ttotal: 1.48s\tremaining: 12.4s\n",
      "107:\tlearn: 0.0914339\ttotal: 1.49s\tremaining: 12.3s\n",
      "108:\tlearn: 0.0910172\ttotal: 1.5s\tremaining: 12.3s\n",
      "109:\tlearn: 0.0906575\ttotal: 1.51s\tremaining: 12.2s\n",
      "110:\tlearn: 0.0899815\ttotal: 1.52s\tremaining: 12.2s\n",
      "111:\tlearn: 0.0894191\ttotal: 1.54s\tremaining: 12.2s\n",
      "112:\tlearn: 0.0889969\ttotal: 1.55s\tremaining: 12.1s\n",
      "113:\tlearn: 0.0884454\ttotal: 1.55s\tremaining: 12.1s\n",
      "114:\tlearn: 0.0878138\ttotal: 1.56s\tremaining: 12s\n",
      "115:\tlearn: 0.0873387\ttotal: 1.57s\tremaining: 12s\n",
      "116:\tlearn: 0.0869034\ttotal: 1.58s\tremaining: 11.9s\n",
      "117:\tlearn: 0.0864972\ttotal: 1.59s\tremaining: 11.9s\n",
      "118:\tlearn: 0.0859759\ttotal: 1.6s\tremaining: 11.8s\n",
      "119:\tlearn: 0.0855861\ttotal: 1.61s\tremaining: 11.8s\n",
      "120:\tlearn: 0.0852888\ttotal: 1.62s\tremaining: 11.7s\n",
      "121:\tlearn: 0.0849671\ttotal: 1.63s\tremaining: 11.7s\n",
      "122:\tlearn: 0.0846425\ttotal: 1.64s\tremaining: 11.7s\n",
      "123:\tlearn: 0.0843151\ttotal: 1.65s\tremaining: 11.7s\n",
      "124:\tlearn: 0.0835987\ttotal: 1.66s\tremaining: 11.6s\n",
      "125:\tlearn: 0.0830621\ttotal: 1.67s\tremaining: 11.6s\n",
      "126:\tlearn: 0.0826348\ttotal: 1.68s\tremaining: 11.5s\n",
      "127:\tlearn: 0.0822781\ttotal: 1.69s\tremaining: 11.5s\n",
      "128:\tlearn: 0.0818385\ttotal: 1.7s\tremaining: 11.5s\n",
      "129:\tlearn: 0.0814457\ttotal: 1.71s\tremaining: 11.4s\n",
      "130:\tlearn: 0.0810433\ttotal: 1.71s\tremaining: 11.4s\n",
      "131:\tlearn: 0.0807269\ttotal: 1.72s\tremaining: 11.3s\n",
      "132:\tlearn: 0.0802268\ttotal: 1.73s\tremaining: 11.3s\n",
      "133:\tlearn: 0.0798407\ttotal: 1.74s\tremaining: 11.2s\n",
      "134:\tlearn: 0.0795880\ttotal: 1.75s\tremaining: 11.2s\n",
      "135:\tlearn: 0.0790761\ttotal: 1.76s\tremaining: 11.2s\n",
      "136:\tlearn: 0.0788840\ttotal: 1.77s\tremaining: 11.1s\n",
      "137:\tlearn: 0.0785593\ttotal: 1.77s\tremaining: 11.1s\n",
      "138:\tlearn: 0.0782838\ttotal: 1.79s\tremaining: 11.1s\n",
      "139:\tlearn: 0.0780411\ttotal: 1.8s\tremaining: 11s\n",
      "140:\tlearn: 0.0779062\ttotal: 1.8s\tremaining: 11s\n",
      "141:\tlearn: 0.0774550\ttotal: 1.81s\tremaining: 10.9s\n",
      "142:\tlearn: 0.0769912\ttotal: 1.82s\tremaining: 10.9s\n",
      "143:\tlearn: 0.0767151\ttotal: 1.82s\tremaining: 10.8s\n",
      "144:\tlearn: 0.0764436\ttotal: 1.83s\tremaining: 10.8s\n",
      "145:\tlearn: 0.0761451\ttotal: 1.84s\tremaining: 10.8s\n",
      "146:\tlearn: 0.0757793\ttotal: 1.85s\tremaining: 10.7s\n",
      "147:\tlearn: 0.0754373\ttotal: 1.86s\tremaining: 10.7s\n",
      "148:\tlearn: 0.0751246\ttotal: 1.87s\tremaining: 10.7s\n",
      "149:\tlearn: 0.0747472\ttotal: 1.88s\tremaining: 10.6s\n",
      "150:\tlearn: 0.0744487\ttotal: 1.89s\tremaining: 10.6s\n",
      "151:\tlearn: 0.0742952\ttotal: 1.9s\tremaining: 10.6s\n",
      "152:\tlearn: 0.0739904\ttotal: 1.9s\tremaining: 10.5s\n",
      "153:\tlearn: 0.0736901\ttotal: 1.92s\tremaining: 10.5s\n",
      "154:\tlearn: 0.0733363\ttotal: 1.93s\tremaining: 10.5s\n",
      "155:\tlearn: 0.0729556\ttotal: 1.93s\tremaining: 10.5s\n",
      "156:\tlearn: 0.0727588\ttotal: 1.94s\tremaining: 10.4s\n",
      "157:\tlearn: 0.0726559\ttotal: 1.95s\tremaining: 10.4s\n",
      "158:\tlearn: 0.0722450\ttotal: 1.96s\tremaining: 10.3s\n",
      "159:\tlearn: 0.0717011\ttotal: 1.98s\tremaining: 10.4s\n",
      "160:\tlearn: 0.0713205\ttotal: 1.98s\tremaining: 10.3s\n",
      "161:\tlearn: 0.0709503\ttotal: 1.99s\tremaining: 10.3s\n",
      "162:\tlearn: 0.0707308\ttotal: 2s\tremaining: 10.3s\n",
      "163:\tlearn: 0.0703207\ttotal: 2.01s\tremaining: 10.3s\n",
      "164:\tlearn: 0.0700072\ttotal: 2.02s\tremaining: 10.2s\n",
      "165:\tlearn: 0.0698143\ttotal: 2.03s\tremaining: 10.2s\n",
      "166:\tlearn: 0.0696149\ttotal: 2.04s\tremaining: 10.2s\n",
      "167:\tlearn: 0.0694438\ttotal: 2.04s\tremaining: 10.1s\n",
      "168:\tlearn: 0.0692117\ttotal: 2.06s\tremaining: 10.1s\n",
      "169:\tlearn: 0.0687334\ttotal: 2.07s\tremaining: 10.1s\n",
      "170:\tlearn: 0.0686043\ttotal: 2.07s\tremaining: 10.1s\n",
      "171:\tlearn: 0.0683621\ttotal: 2.08s\tremaining: 10s\n",
      "172:\tlearn: 0.0681020\ttotal: 2.09s\tremaining: 9.98s\n",
      "173:\tlearn: 0.0678729\ttotal: 2.1s\tremaining: 9.95s\n",
      "174:\tlearn: 0.0676368\ttotal: 2.1s\tremaining: 9.91s\n",
      "175:\tlearn: 0.0674252\ttotal: 2.11s\tremaining: 9.89s\n",
      "176:\tlearn: 0.0671602\ttotal: 2.12s\tremaining: 9.86s\n",
      "177:\tlearn: 0.0666802\ttotal: 2.13s\tremaining: 9.83s\n",
      "178:\tlearn: 0.0665792\ttotal: 2.13s\tremaining: 9.79s\n",
      "179:\tlearn: 0.0662233\ttotal: 2.14s\tremaining: 9.77s\n",
      "180:\tlearn: 0.0660599\ttotal: 2.15s\tremaining: 9.73s\n",
      "181:\tlearn: 0.0657791\ttotal: 2.16s\tremaining: 9.7s\n",
      "182:\tlearn: 0.0655665\ttotal: 2.17s\tremaining: 9.67s\n",
      "183:\tlearn: 0.0652809\ttotal: 2.17s\tremaining: 9.64s\n",
      "184:\tlearn: 0.0650673\ttotal: 2.18s\tremaining: 9.61s\n",
      "185:\tlearn: 0.0649378\ttotal: 2.19s\tremaining: 9.57s\n",
      "186:\tlearn: 0.0647401\ttotal: 2.19s\tremaining: 9.54s\n",
      "187:\tlearn: 0.0646073\ttotal: 2.2s\tremaining: 9.52s\n",
      "188:\tlearn: 0.0644332\ttotal: 2.21s\tremaining: 9.48s\n",
      "189:\tlearn: 0.0642187\ttotal: 2.22s\tremaining: 9.46s\n",
      "190:\tlearn: 0.0640078\ttotal: 2.23s\tremaining: 9.44s\n",
      "191:\tlearn: 0.0638732\ttotal: 2.24s\tremaining: 9.42s\n",
      "192:\tlearn: 0.0637665\ttotal: 2.25s\tremaining: 9.39s\n",
      "193:\tlearn: 0.0634946\ttotal: 2.25s\tremaining: 9.37s\n",
      "194:\tlearn: 0.0632625\ttotal: 2.26s\tremaining: 9.35s\n",
      "195:\tlearn: 0.0629712\ttotal: 2.27s\tremaining: 9.31s\n",
      "196:\tlearn: 0.0627005\ttotal: 2.28s\tremaining: 9.29s\n",
      "197:\tlearn: 0.0625307\ttotal: 2.29s\tremaining: 9.26s\n",
      "198:\tlearn: 0.0624031\ttotal: 2.29s\tremaining: 9.23s\n",
      "199:\tlearn: 0.0622062\ttotal: 2.3s\tremaining: 9.2s\n",
      "200:\tlearn: 0.0620851\ttotal: 2.31s\tremaining: 9.17s\n",
      "201:\tlearn: 0.0618968\ttotal: 2.31s\tremaining: 9.14s\n",
      "202:\tlearn: 0.0616066\ttotal: 2.32s\tremaining: 9.12s\n",
      "203:\tlearn: 0.0612476\ttotal: 2.33s\tremaining: 9.1s\n",
      "204:\tlearn: 0.0609065\ttotal: 2.34s\tremaining: 9.08s\n",
      "205:\tlearn: 0.0607060\ttotal: 2.35s\tremaining: 9.06s\n",
      "206:\tlearn: 0.0603620\ttotal: 2.36s\tremaining: 9.04s\n",
      "207:\tlearn: 0.0600339\ttotal: 2.37s\tremaining: 9.01s\n",
      "208:\tlearn: 0.0597115\ttotal: 2.38s\tremaining: 9.01s\n",
      "209:\tlearn: 0.0595524\ttotal: 2.39s\tremaining: 9s\n",
      "210:\tlearn: 0.0592646\ttotal: 2.4s\tremaining: 8.98s\n",
      "211:\tlearn: 0.0591098\ttotal: 2.41s\tremaining: 8.96s\n",
      "212:\tlearn: 0.0589338\ttotal: 2.42s\tremaining: 8.95s\n",
      "213:\tlearn: 0.0588083\ttotal: 2.43s\tremaining: 8.94s\n",
      "214:\tlearn: 0.0583807\ttotal: 2.44s\tremaining: 8.91s\n",
      "215:\tlearn: 0.0582185\ttotal: 2.45s\tremaining: 8.89s\n",
      "216:\tlearn: 0.0580955\ttotal: 2.46s\tremaining: 8.87s\n",
      "217:\tlearn: 0.0579042\ttotal: 2.47s\tremaining: 8.86s\n",
      "218:\tlearn: 0.0577922\ttotal: 2.48s\tremaining: 8.84s\n",
      "219:\tlearn: 0.0575871\ttotal: 2.49s\tremaining: 8.82s\n",
      "220:\tlearn: 0.0573936\ttotal: 2.5s\tremaining: 8.8s\n",
      "221:\tlearn: 0.0571611\ttotal: 2.5s\tremaining: 8.78s\n",
      "222:\tlearn: 0.0570404\ttotal: 2.51s\tremaining: 8.76s\n",
      "223:\tlearn: 0.0566737\ttotal: 2.52s\tremaining: 8.74s\n",
      "224:\tlearn: 0.0564822\ttotal: 2.53s\tremaining: 8.72s\n",
      "225:\tlearn: 0.0563081\ttotal: 2.54s\tremaining: 8.7s\n",
      "226:\tlearn: 0.0561767\ttotal: 2.55s\tremaining: 8.68s\n",
      "227:\tlearn: 0.0560176\ttotal: 2.56s\tremaining: 8.66s\n",
      "228:\tlearn: 0.0559163\ttotal: 2.56s\tremaining: 8.63s\n",
      "229:\tlearn: 0.0557728\ttotal: 2.57s\tremaining: 8.61s\n",
      "230:\tlearn: 0.0555618\ttotal: 2.58s\tremaining: 8.59s\n",
      "231:\tlearn: 0.0554567\ttotal: 2.59s\tremaining: 8.56s\n",
      "232:\tlearn: 0.0553632\ttotal: 2.59s\tremaining: 8.54s\n",
      "233:\tlearn: 0.0552788\ttotal: 2.6s\tremaining: 8.52s\n",
      "234:\tlearn: 0.0551037\ttotal: 2.61s\tremaining: 8.5s\n",
      "235:\tlearn: 0.0549453\ttotal: 2.62s\tremaining: 8.47s\n",
      "236:\tlearn: 0.0547480\ttotal: 2.62s\tremaining: 8.45s\n",
      "237:\tlearn: 0.0545633\ttotal: 2.63s\tremaining: 8.43s\n",
      "238:\tlearn: 0.0544563\ttotal: 2.64s\tremaining: 8.4s\n",
      "239:\tlearn: 0.0543651\ttotal: 2.64s\tremaining: 8.37s\n",
      "240:\tlearn: 0.0541563\ttotal: 2.65s\tremaining: 8.36s\n",
      "241:\tlearn: 0.0539971\ttotal: 2.66s\tremaining: 8.34s\n",
      "242:\tlearn: 0.0538466\ttotal: 2.67s\tremaining: 8.33s\n",
      "243:\tlearn: 0.0537097\ttotal: 2.68s\tremaining: 8.31s\n",
      "244:\tlearn: 0.0535291\ttotal: 2.69s\tremaining: 8.29s\n",
      "245:\tlearn: 0.0534381\ttotal: 2.7s\tremaining: 8.29s\n",
      "246:\tlearn: 0.0532056\ttotal: 2.71s\tremaining: 8.27s\n",
      "247:\tlearn: 0.0530561\ttotal: 2.72s\tremaining: 8.24s\n",
      "248:\tlearn: 0.0528998\ttotal: 2.73s\tremaining: 8.24s\n",
      "249:\tlearn: 0.0527716\ttotal: 2.74s\tremaining: 8.22s\n",
      "250:\tlearn: 0.0526108\ttotal: 2.75s\tremaining: 8.2s\n",
      "251:\tlearn: 0.0523960\ttotal: 2.76s\tremaining: 8.18s\n",
      "252:\tlearn: 0.0522646\ttotal: 2.76s\tremaining: 8.16s\n",
      "253:\tlearn: 0.0521412\ttotal: 2.77s\tremaining: 8.14s\n",
      "254:\tlearn: 0.0519578\ttotal: 2.78s\tremaining: 8.12s\n",
      "255:\tlearn: 0.0515458\ttotal: 2.79s\tremaining: 8.1s\n",
      "256:\tlearn: 0.0513215\ttotal: 2.79s\tremaining: 8.08s\n",
      "257:\tlearn: 0.0511221\ttotal: 2.8s\tremaining: 8.06s\n",
      "258:\tlearn: 0.0508916\ttotal: 2.81s\tremaining: 8.04s\n",
      "259:\tlearn: 0.0506139\ttotal: 2.82s\tremaining: 8.02s\n",
      "260:\tlearn: 0.0505011\ttotal: 2.83s\tremaining: 8s\n",
      "261:\tlearn: 0.0503183\ttotal: 2.83s\tremaining: 7.98s\n",
      "262:\tlearn: 0.0502277\ttotal: 2.84s\tremaining: 7.96s\n",
      "263:\tlearn: 0.0500186\ttotal: 2.85s\tremaining: 7.94s\n",
      "264:\tlearn: 0.0497886\ttotal: 2.86s\tremaining: 7.93s\n",
      "265:\tlearn: 0.0496278\ttotal: 2.87s\tremaining: 7.91s\n",
      "266:\tlearn: 0.0494926\ttotal: 2.88s\tremaining: 7.9s\n",
      "267:\tlearn: 0.0493832\ttotal: 2.88s\tremaining: 7.88s\n",
      "268:\tlearn: 0.0492985\ttotal: 2.89s\tremaining: 7.86s\n",
      "269:\tlearn: 0.0490804\ttotal: 2.9s\tremaining: 7.84s\n",
      "270:\tlearn: 0.0489032\ttotal: 2.91s\tremaining: 7.83s\n",
      "271:\tlearn: 0.0486724\ttotal: 2.92s\tremaining: 7.81s\n",
      "272:\tlearn: 0.0484827\ttotal: 2.93s\tremaining: 7.81s\n",
      "273:\tlearn: 0.0483565\ttotal: 2.94s\tremaining: 7.8s\n",
      "274:\tlearn: 0.0481004\ttotal: 2.96s\tremaining: 7.81s\n",
      "275:\tlearn: 0.0479927\ttotal: 2.97s\tremaining: 7.8s\n",
      "276:\tlearn: 0.0478053\ttotal: 2.98s\tremaining: 7.78s\n",
      "277:\tlearn: 0.0476451\ttotal: 3s\tremaining: 7.78s\n",
      "278:\tlearn: 0.0474961\ttotal: 3.01s\tremaining: 7.77s\n",
      "279:\tlearn: 0.0472851\ttotal: 3.02s\tremaining: 7.77s\n",
      "280:\tlearn: 0.0470646\ttotal: 3.03s\tremaining: 7.76s\n",
      "281:\tlearn: 0.0469609\ttotal: 3.04s\tremaining: 7.75s\n",
      "282:\tlearn: 0.0468170\ttotal: 3.05s\tremaining: 7.73s\n",
      "283:\tlearn: 0.0467061\ttotal: 3.06s\tremaining: 7.72s\n",
      "284:\tlearn: 0.0466482\ttotal: 3.07s\tremaining: 7.7s\n",
      "285:\tlearn: 0.0465460\ttotal: 3.08s\tremaining: 7.68s\n",
      "286:\tlearn: 0.0464435\ttotal: 3.09s\tremaining: 7.67s\n",
      "287:\tlearn: 0.0462751\ttotal: 3.1s\tremaining: 7.66s\n",
      "288:\tlearn: 0.0461533\ttotal: 3.11s\tremaining: 7.65s\n",
      "289:\tlearn: 0.0459726\ttotal: 3.12s\tremaining: 7.63s\n",
      "290:\tlearn: 0.0458425\ttotal: 3.13s\tremaining: 7.64s\n",
      "291:\tlearn: 0.0456524\ttotal: 3.15s\tremaining: 7.63s\n",
      "292:\tlearn: 0.0454957\ttotal: 3.16s\tremaining: 7.62s\n",
      "293:\tlearn: 0.0453602\ttotal: 3.17s\tremaining: 7.6s\n",
      "294:\tlearn: 0.0452376\ttotal: 3.18s\tremaining: 7.6s\n",
      "295:\tlearn: 0.0451752\ttotal: 3.19s\tremaining: 7.58s\n",
      "296:\tlearn: 0.0450820\ttotal: 3.2s\tremaining: 7.57s\n",
      "297:\tlearn: 0.0449784\ttotal: 3.21s\tremaining: 7.55s\n",
      "298:\tlearn: 0.0448996\ttotal: 3.22s\tremaining: 7.54s\n",
      "299:\tlearn: 0.0446299\ttotal: 3.23s\tremaining: 7.53s\n",
      "300:\tlearn: 0.0444613\ttotal: 3.23s\tremaining: 7.51s\n",
      "301:\tlearn: 0.0441823\ttotal: 3.24s\tremaining: 7.49s\n",
      "302:\tlearn: 0.0441211\ttotal: 3.25s\tremaining: 7.47s\n",
      "303:\tlearn: 0.0438802\ttotal: 3.25s\tremaining: 7.45s\n",
      "304:\tlearn: 0.0437109\ttotal: 3.27s\tremaining: 7.44s\n",
      "305:\tlearn: 0.0435734\ttotal: 3.27s\tremaining: 7.43s\n",
      "306:\tlearn: 0.0435237\ttotal: 3.28s\tremaining: 7.41s\n",
      "307:\tlearn: 0.0433986\ttotal: 3.29s\tremaining: 7.39s\n",
      "308:\tlearn: 0.0433182\ttotal: 3.3s\tremaining: 7.38s\n",
      "309:\tlearn: 0.0432190\ttotal: 3.33s\tremaining: 7.42s\n",
      "310:\tlearn: 0.0430007\ttotal: 3.34s\tremaining: 7.41s\n",
      "311:\tlearn: 0.0428802\ttotal: 3.35s\tremaining: 7.39s\n",
      "312:\tlearn: 0.0427554\ttotal: 3.36s\tremaining: 7.38s\n",
      "313:\tlearn: 0.0426370\ttotal: 3.37s\tremaining: 7.36s\n",
      "314:\tlearn: 0.0425420\ttotal: 3.38s\tremaining: 7.34s\n",
      "315:\tlearn: 0.0423568\ttotal: 3.39s\tremaining: 7.33s\n",
      "316:\tlearn: 0.0422544\ttotal: 3.4s\tremaining: 7.32s\n",
      "317:\tlearn: 0.0421406\ttotal: 3.41s\tremaining: 7.31s\n",
      "318:\tlearn: 0.0420714\ttotal: 3.42s\tremaining: 7.3s\n",
      "319:\tlearn: 0.0419913\ttotal: 3.43s\tremaining: 7.28s\n",
      "320:\tlearn: 0.0419283\ttotal: 3.44s\tremaining: 7.28s\n",
      "321:\tlearn: 0.0417459\ttotal: 3.45s\tremaining: 7.27s\n",
      "322:\tlearn: 0.0416452\ttotal: 3.46s\tremaining: 7.26s\n",
      "323:\tlearn: 0.0415218\ttotal: 3.48s\tremaining: 7.26s\n",
      "324:\tlearn: 0.0413860\ttotal: 3.49s\tremaining: 7.25s\n",
      "325:\tlearn: 0.0412101\ttotal: 3.5s\tremaining: 7.25s\n",
      "326:\tlearn: 0.0411209\ttotal: 3.52s\tremaining: 7.24s\n",
      "327:\tlearn: 0.0409810\ttotal: 3.53s\tremaining: 7.23s\n",
      "328:\tlearn: 0.0408449\ttotal: 3.54s\tremaining: 7.22s\n",
      "329:\tlearn: 0.0407286\ttotal: 3.55s\tremaining: 7.21s\n",
      "330:\tlearn: 0.0406474\ttotal: 3.56s\tremaining: 7.2s\n",
      "331:\tlearn: 0.0405224\ttotal: 3.57s\tremaining: 7.19s\n",
      "332:\tlearn: 0.0403660\ttotal: 3.58s\tremaining: 7.18s\n",
      "333:\tlearn: 0.0402932\ttotal: 3.6s\tremaining: 7.17s\n",
      "334:\tlearn: 0.0402095\ttotal: 3.6s\tremaining: 7.16s\n",
      "335:\tlearn: 0.0400596\ttotal: 3.61s\tremaining: 7.14s\n",
      "336:\tlearn: 0.0399921\ttotal: 3.62s\tremaining: 7.12s\n",
      "337:\tlearn: 0.0397763\ttotal: 3.63s\tremaining: 7.11s\n",
      "338:\tlearn: 0.0396171\ttotal: 3.63s\tremaining: 7.09s\n",
      "339:\tlearn: 0.0395185\ttotal: 3.64s\tremaining: 7.07s\n",
      "340:\tlearn: 0.0394052\ttotal: 3.66s\tremaining: 7.07s\n",
      "341:\tlearn: 0.0393453\ttotal: 3.67s\tremaining: 7.06s\n",
      "342:\tlearn: 0.0392261\ttotal: 3.68s\tremaining: 7.05s\n",
      "343:\tlearn: 0.0390461\ttotal: 3.69s\tremaining: 7.03s\n",
      "344:\tlearn: 0.0389244\ttotal: 3.7s\tremaining: 7.02s\n",
      "345:\tlearn: 0.0388321\ttotal: 3.71s\tremaining: 7.01s\n",
      "346:\tlearn: 0.0387320\ttotal: 3.71s\tremaining: 6.99s\n",
      "347:\tlearn: 0.0386246\ttotal: 3.72s\tremaining: 6.98s\n",
      "348:\tlearn: 0.0384693\ttotal: 3.73s\tremaining: 6.96s\n",
      "349:\tlearn: 0.0384113\ttotal: 3.74s\tremaining: 6.95s\n",
      "350:\tlearn: 0.0382867\ttotal: 3.75s\tremaining: 6.94s\n",
      "351:\tlearn: 0.0382066\ttotal: 3.76s\tremaining: 6.92s\n",
      "352:\tlearn: 0.0380366\ttotal: 3.77s\tremaining: 6.91s\n",
      "353:\tlearn: 0.0379286\ttotal: 3.78s\tremaining: 6.89s\n",
      "354:\tlearn: 0.0378464\ttotal: 3.79s\tremaining: 6.88s\n",
      "355:\tlearn: 0.0376854\ttotal: 3.8s\tremaining: 6.87s\n",
      "356:\tlearn: 0.0376183\ttotal: 3.81s\tremaining: 6.86s\n",
      "357:\tlearn: 0.0374535\ttotal: 3.82s\tremaining: 6.84s\n",
      "358:\tlearn: 0.0373881\ttotal: 3.83s\tremaining: 6.83s\n",
      "359:\tlearn: 0.0372653\ttotal: 3.83s\tremaining: 6.82s\n",
      "360:\tlearn: 0.0371916\ttotal: 3.84s\tremaining: 6.8s\n",
      "361:\tlearn: 0.0371369\ttotal: 3.85s\tremaining: 6.79s\n",
      "362:\tlearn: 0.0369689\ttotal: 3.86s\tremaining: 6.78s\n",
      "363:\tlearn: 0.0368836\ttotal: 3.87s\tremaining: 6.77s\n",
      "364:\tlearn: 0.0368310\ttotal: 3.88s\tremaining: 6.76s\n",
      "365:\tlearn: 0.0366969\ttotal: 3.89s\tremaining: 6.74s\n",
      "366:\tlearn: 0.0365639\ttotal: 3.9s\tremaining: 6.72s\n",
      "367:\tlearn: 0.0364924\ttotal: 3.9s\tremaining: 6.71s\n",
      "368:\tlearn: 0.0363684\ttotal: 3.91s\tremaining: 6.69s\n",
      "369:\tlearn: 0.0362786\ttotal: 3.92s\tremaining: 6.67s\n",
      "370:\tlearn: 0.0362212\ttotal: 3.92s\tremaining: 6.66s\n",
      "371:\tlearn: 0.0360493\ttotal: 3.93s\tremaining: 6.64s\n",
      "372:\tlearn: 0.0359925\ttotal: 3.94s\tremaining: 6.62s\n",
      "373:\tlearn: 0.0358878\ttotal: 3.95s\tremaining: 6.61s\n",
      "374:\tlearn: 0.0357791\ttotal: 3.95s\tremaining: 6.59s\n",
      "375:\tlearn: 0.0356776\ttotal: 3.96s\tremaining: 6.57s\n",
      "376:\tlearn: 0.0355997\ttotal: 3.97s\tremaining: 6.56s\n",
      "377:\tlearn: 0.0354568\ttotal: 3.98s\tremaining: 6.54s\n",
      "378:\tlearn: 0.0353959\ttotal: 3.98s\tremaining: 6.53s\n",
      "379:\tlearn: 0.0353121\ttotal: 3.99s\tremaining: 6.51s\n",
      "380:\tlearn: 0.0352504\ttotal: 4s\tremaining: 6.5s\n",
      "381:\tlearn: 0.0351546\ttotal: 4.01s\tremaining: 6.48s\n",
      "382:\tlearn: 0.0350816\ttotal: 4.01s\tremaining: 6.47s\n",
      "383:\tlearn: 0.0350050\ttotal: 4.02s\tremaining: 6.45s\n",
      "384:\tlearn: 0.0349443\ttotal: 4.03s\tremaining: 6.43s\n",
      "385:\tlearn: 0.0348897\ttotal: 4.04s\tremaining: 6.42s\n",
      "386:\tlearn: 0.0347536\ttotal: 4.04s\tremaining: 6.4s\n",
      "387:\tlearn: 0.0346892\ttotal: 4.05s\tremaining: 6.38s\n",
      "388:\tlearn: 0.0346072\ttotal: 4.06s\tremaining: 6.37s\n",
      "389:\tlearn: 0.0345576\ttotal: 4.06s\tremaining: 6.36s\n",
      "390:\tlearn: 0.0345130\ttotal: 4.08s\tremaining: 6.35s\n",
      "391:\tlearn: 0.0344122\ttotal: 4.09s\tremaining: 6.34s\n",
      "392:\tlearn: 0.0342284\ttotal: 4.1s\tremaining: 6.33s\n",
      "393:\tlearn: 0.0340955\ttotal: 4.11s\tremaining: 6.32s\n",
      "394:\tlearn: 0.0339456\ttotal: 4.12s\tremaining: 6.3s\n",
      "395:\tlearn: 0.0338899\ttotal: 4.12s\tremaining: 6.29s\n",
      "396:\tlearn: 0.0338232\ttotal: 4.13s\tremaining: 6.28s\n",
      "397:\tlearn: 0.0337468\ttotal: 4.14s\tremaining: 6.26s\n",
      "398:\tlearn: 0.0336584\ttotal: 4.15s\tremaining: 6.25s\n",
      "399:\tlearn: 0.0335170\ttotal: 4.17s\tremaining: 6.25s\n",
      "400:\tlearn: 0.0333607\ttotal: 4.17s\tremaining: 6.23s\n",
      "401:\tlearn: 0.0332658\ttotal: 4.18s\tremaining: 6.22s\n",
      "402:\tlearn: 0.0331764\ttotal: 4.2s\tremaining: 6.21s\n",
      "403:\tlearn: 0.0331111\ttotal: 4.21s\tremaining: 6.2s\n",
      "404:\tlearn: 0.0330692\ttotal: 4.21s\tremaining: 6.19s\n",
      "405:\tlearn: 0.0329779\ttotal: 4.22s\tremaining: 6.17s\n",
      "406:\tlearn: 0.0328790\ttotal: 4.23s\tremaining: 6.16s\n",
      "407:\tlearn: 0.0327282\ttotal: 4.23s\tremaining: 6.14s\n",
      "408:\tlearn: 0.0326566\ttotal: 4.24s\tremaining: 6.13s\n",
      "409:\tlearn: 0.0325017\ttotal: 4.25s\tremaining: 6.11s\n",
      "410:\tlearn: 0.0324465\ttotal: 4.26s\tremaining: 6.1s\n",
      "411:\tlearn: 0.0324015\ttotal: 4.27s\tremaining: 6.09s\n",
      "412:\tlearn: 0.0323661\ttotal: 4.27s\tremaining: 6.07s\n",
      "413:\tlearn: 0.0323069\ttotal: 4.28s\tremaining: 6.06s\n",
      "414:\tlearn: 0.0322208\ttotal: 4.29s\tremaining: 6.05s\n",
      "415:\tlearn: 0.0321269\ttotal: 4.3s\tremaining: 6.04s\n",
      "416:\tlearn: 0.0320926\ttotal: 4.31s\tremaining: 6.02s\n",
      "417:\tlearn: 0.0320147\ttotal: 4.32s\tremaining: 6.01s\n",
      "418:\tlearn: 0.0319454\ttotal: 4.32s\tremaining: 5.99s\n",
      "419:\tlearn: 0.0318476\ttotal: 4.33s\tremaining: 5.98s\n",
      "420:\tlearn: 0.0317969\ttotal: 4.34s\tremaining: 5.96s\n",
      "421:\tlearn: 0.0316533\ttotal: 4.34s\tremaining: 5.95s\n",
      "422:\tlearn: 0.0315100\ttotal: 4.35s\tremaining: 5.93s\n",
      "423:\tlearn: 0.0314493\ttotal: 4.36s\tremaining: 5.92s\n",
      "424:\tlearn: 0.0313316\ttotal: 4.36s\tremaining: 5.9s\n",
      "425:\tlearn: 0.0312544\ttotal: 4.37s\tremaining: 5.89s\n",
      "426:\tlearn: 0.0311516\ttotal: 4.38s\tremaining: 5.88s\n",
      "427:\tlearn: 0.0311226\ttotal: 4.39s\tremaining: 5.86s\n",
      "428:\tlearn: 0.0310670\ttotal: 4.39s\tremaining: 5.85s\n",
      "429:\tlearn: 0.0310162\ttotal: 4.4s\tremaining: 5.84s\n",
      "430:\tlearn: 0.0309439\ttotal: 4.41s\tremaining: 5.82s\n",
      "431:\tlearn: 0.0308559\ttotal: 4.42s\tremaining: 5.81s\n",
      "432:\tlearn: 0.0307997\ttotal: 4.43s\tremaining: 5.8s\n",
      "433:\tlearn: 0.0307128\ttotal: 4.43s\tremaining: 5.78s\n",
      "434:\tlearn: 0.0306653\ttotal: 4.44s\tremaining: 5.77s\n",
      "435:\tlearn: 0.0305609\ttotal: 4.45s\tremaining: 5.76s\n",
      "436:\tlearn: 0.0304485\ttotal: 4.46s\tremaining: 5.74s\n",
      "437:\tlearn: 0.0303463\ttotal: 4.46s\tremaining: 5.73s\n",
      "438:\tlearn: 0.0303033\ttotal: 4.47s\tremaining: 5.71s\n",
      "439:\tlearn: 0.0301903\ttotal: 4.48s\tremaining: 5.7s\n",
      "440:\tlearn: 0.0301486\ttotal: 4.49s\tremaining: 5.68s\n",
      "441:\tlearn: 0.0301111\ttotal: 4.49s\tremaining: 5.67s\n",
      "442:\tlearn: 0.0300337\ttotal: 4.5s\tremaining: 5.66s\n",
      "443:\tlearn: 0.0299623\ttotal: 4.51s\tremaining: 5.64s\n",
      "444:\tlearn: 0.0298643\ttotal: 4.51s\tremaining: 5.63s\n",
      "445:\tlearn: 0.0298231\ttotal: 4.52s\tremaining: 5.62s\n",
      "446:\tlearn: 0.0297819\ttotal: 4.53s\tremaining: 5.61s\n",
      "447:\tlearn: 0.0297372\ttotal: 4.54s\tremaining: 5.59s\n",
      "448:\tlearn: 0.0296766\ttotal: 4.54s\tremaining: 5.58s\n",
      "449:\tlearn: 0.0295770\ttotal: 4.56s\tremaining: 5.57s\n",
      "450:\tlearn: 0.0294741\ttotal: 4.57s\tremaining: 5.56s\n",
      "451:\tlearn: 0.0294093\ttotal: 4.57s\tremaining: 5.54s\n",
      "452:\tlearn: 0.0293615\ttotal: 4.58s\tremaining: 5.53s\n",
      "453:\tlearn: 0.0293023\ttotal: 4.59s\tremaining: 5.51s\n",
      "454:\tlearn: 0.0292336\ttotal: 4.6s\tremaining: 5.51s\n",
      "455:\tlearn: 0.0291538\ttotal: 4.61s\tremaining: 5.5s\n",
      "456:\tlearn: 0.0291157\ttotal: 4.61s\tremaining: 5.48s\n",
      "457:\tlearn: 0.0290710\ttotal: 4.62s\tremaining: 5.47s\n",
      "458:\tlearn: 0.0289523\ttotal: 4.63s\tremaining: 5.46s\n",
      "459:\tlearn: 0.0288885\ttotal: 4.64s\tremaining: 5.45s\n",
      "460:\tlearn: 0.0288512\ttotal: 4.65s\tremaining: 5.44s\n",
      "461:\tlearn: 0.0287423\ttotal: 4.66s\tremaining: 5.43s\n",
      "462:\tlearn: 0.0286929\ttotal: 4.67s\tremaining: 5.42s\n",
      "463:\tlearn: 0.0286354\ttotal: 4.68s\tremaining: 5.4s\n",
      "464:\tlearn: 0.0285769\ttotal: 4.68s\tremaining: 5.39s\n",
      "465:\tlearn: 0.0285122\ttotal: 4.69s\tremaining: 5.38s\n",
      "466:\tlearn: 0.0284237\ttotal: 4.7s\tremaining: 5.36s\n",
      "467:\tlearn: 0.0283643\ttotal: 4.71s\tremaining: 5.35s\n",
      "468:\tlearn: 0.0283296\ttotal: 4.71s\tremaining: 5.34s\n",
      "469:\tlearn: 0.0282847\ttotal: 4.72s\tremaining: 5.32s\n",
      "470:\tlearn: 0.0282302\ttotal: 4.73s\tremaining: 5.31s\n",
      "471:\tlearn: 0.0281221\ttotal: 4.74s\tremaining: 5.3s\n",
      "472:\tlearn: 0.0280813\ttotal: 4.75s\tremaining: 5.29s\n",
      "473:\tlearn: 0.0280324\ttotal: 4.76s\tremaining: 5.28s\n",
      "474:\tlearn: 0.0279670\ttotal: 4.77s\tremaining: 5.27s\n",
      "475:\tlearn: 0.0279345\ttotal: 4.78s\tremaining: 5.26s\n",
      "476:\tlearn: 0.0278606\ttotal: 4.79s\tremaining: 5.25s\n",
      "477:\tlearn: 0.0278179\ttotal: 4.8s\tremaining: 5.24s\n",
      "478:\tlearn: 0.0277783\ttotal: 4.81s\tremaining: 5.23s\n",
      "479:\tlearn: 0.0277333\ttotal: 4.82s\tremaining: 5.22s\n",
      "480:\tlearn: 0.0276983\ttotal: 4.83s\tremaining: 5.21s\n",
      "481:\tlearn: 0.0276836\ttotal: 4.84s\tremaining: 5.2s\n",
      "482:\tlearn: 0.0276288\ttotal: 4.85s\tremaining: 5.19s\n",
      "483:\tlearn: 0.0275557\ttotal: 4.86s\tremaining: 5.18s\n",
      "484:\tlearn: 0.0274985\ttotal: 4.87s\tremaining: 5.17s\n",
      "485:\tlearn: 0.0274025\ttotal: 4.88s\tremaining: 5.16s\n",
      "486:\tlearn: 0.0273631\ttotal: 4.9s\tremaining: 5.16s\n",
      "487:\tlearn: 0.0272600\ttotal: 4.91s\tremaining: 5.15s\n",
      "488:\tlearn: 0.0272016\ttotal: 4.92s\tremaining: 5.14s\n",
      "489:\tlearn: 0.0271630\ttotal: 4.92s\tremaining: 5.13s\n",
      "490:\tlearn: 0.0271031\ttotal: 4.93s\tremaining: 5.11s\n",
      "491:\tlearn: 0.0270313\ttotal: 4.95s\tremaining: 5.11s\n",
      "492:\tlearn: 0.0269528\ttotal: 4.96s\tremaining: 5.1s\n",
      "493:\tlearn: 0.0268869\ttotal: 4.98s\tremaining: 5.1s\n",
      "494:\tlearn: 0.0268490\ttotal: 4.98s\tremaining: 5.08s\n",
      "495:\tlearn: 0.0267976\ttotal: 5s\tremaining: 5.08s\n",
      "496:\tlearn: 0.0267272\ttotal: 5.01s\tremaining: 5.07s\n",
      "497:\tlearn: 0.0266880\ttotal: 5.02s\tremaining: 5.06s\n",
      "498:\tlearn: 0.0265892\ttotal: 5.03s\tremaining: 5.05s\n",
      "499:\tlearn: 0.0265036\ttotal: 5.04s\tremaining: 5.04s\n",
      "500:\tlearn: 0.0264697\ttotal: 5.05s\tremaining: 5.03s\n",
      "501:\tlearn: 0.0263976\ttotal: 5.06s\tremaining: 5.02s\n",
      "502:\tlearn: 0.0263279\ttotal: 5.07s\tremaining: 5s\n",
      "503:\tlearn: 0.0262977\ttotal: 5.07s\tremaining: 4.99s\n",
      "504:\tlearn: 0.0262147\ttotal: 5.08s\tremaining: 4.98s\n",
      "505:\tlearn: 0.0261739\ttotal: 5.09s\tremaining: 4.97s\n",
      "506:\tlearn: 0.0261160\ttotal: 5.1s\tremaining: 4.96s\n",
      "507:\tlearn: 0.0260547\ttotal: 5.11s\tremaining: 4.95s\n",
      "508:\tlearn: 0.0259841\ttotal: 5.12s\tremaining: 4.94s\n",
      "509:\tlearn: 0.0259315\ttotal: 5.13s\tremaining: 4.93s\n",
      "510:\tlearn: 0.0258429\ttotal: 5.15s\tremaining: 4.93s\n",
      "511:\tlearn: 0.0257426\ttotal: 5.16s\tremaining: 4.92s\n",
      "512:\tlearn: 0.0256776\ttotal: 5.17s\tremaining: 4.91s\n",
      "513:\tlearn: 0.0256269\ttotal: 5.18s\tremaining: 4.9s\n",
      "514:\tlearn: 0.0255910\ttotal: 5.19s\tremaining: 4.89s\n",
      "515:\tlearn: 0.0255573\ttotal: 5.2s\tremaining: 4.88s\n",
      "516:\tlearn: 0.0254464\ttotal: 5.21s\tremaining: 4.87s\n",
      "517:\tlearn: 0.0254036\ttotal: 5.22s\tremaining: 4.86s\n",
      "518:\tlearn: 0.0253145\ttotal: 5.24s\tremaining: 4.85s\n",
      "519:\tlearn: 0.0252447\ttotal: 5.25s\tremaining: 4.84s\n",
      "520:\tlearn: 0.0252046\ttotal: 5.26s\tremaining: 4.83s\n",
      "521:\tlearn: 0.0251525\ttotal: 5.28s\tremaining: 4.83s\n",
      "522:\tlearn: 0.0250995\ttotal: 5.3s\tremaining: 4.84s\n",
      "523:\tlearn: 0.0250328\ttotal: 5.32s\tremaining: 4.83s\n",
      "524:\tlearn: 0.0249860\ttotal: 5.33s\tremaining: 4.82s\n",
      "525:\tlearn: 0.0249488\ttotal: 5.34s\tremaining: 4.81s\n",
      "526:\tlearn: 0.0248940\ttotal: 5.35s\tremaining: 4.8s\n",
      "527:\tlearn: 0.0248784\ttotal: 5.37s\tremaining: 4.8s\n",
      "528:\tlearn: 0.0248267\ttotal: 5.38s\tremaining: 4.79s\n",
      "529:\tlearn: 0.0247638\ttotal: 5.39s\tremaining: 4.78s\n",
      "530:\tlearn: 0.0247140\ttotal: 5.4s\tremaining: 4.77s\n",
      "531:\tlearn: 0.0246881\ttotal: 5.41s\tremaining: 4.76s\n",
      "532:\tlearn: 0.0246516\ttotal: 5.42s\tremaining: 4.75s\n",
      "533:\tlearn: 0.0245953\ttotal: 5.43s\tremaining: 4.74s\n",
      "534:\tlearn: 0.0245491\ttotal: 5.44s\tremaining: 4.73s\n",
      "535:\tlearn: 0.0244796\ttotal: 5.45s\tremaining: 4.72s\n",
      "536:\tlearn: 0.0244249\ttotal: 5.47s\tremaining: 4.71s\n",
      "537:\tlearn: 0.0243483\ttotal: 5.48s\tremaining: 4.7s\n",
      "538:\tlearn: 0.0243166\ttotal: 5.49s\tremaining: 4.69s\n",
      "539:\tlearn: 0.0242607\ttotal: 5.49s\tremaining: 4.68s\n",
      "540:\tlearn: 0.0242278\ttotal: 5.5s\tremaining: 4.67s\n",
      "541:\tlearn: 0.0241699\ttotal: 5.51s\tremaining: 4.66s\n",
      "542:\tlearn: 0.0241009\ttotal: 5.52s\tremaining: 4.64s\n",
      "543:\tlearn: 0.0240701\ttotal: 5.53s\tremaining: 4.63s\n",
      "544:\tlearn: 0.0240400\ttotal: 5.53s\tremaining: 4.62s\n",
      "545:\tlearn: 0.0239557\ttotal: 5.54s\tremaining: 4.61s\n",
      "546:\tlearn: 0.0239279\ttotal: 5.55s\tremaining: 4.6s\n",
      "547:\tlearn: 0.0238926\ttotal: 5.56s\tremaining: 4.58s\n",
      "548:\tlearn: 0.0238601\ttotal: 5.57s\tremaining: 4.57s\n",
      "549:\tlearn: 0.0237929\ttotal: 5.58s\tremaining: 4.56s\n",
      "550:\tlearn: 0.0237566\ttotal: 5.58s\tremaining: 4.55s\n",
      "551:\tlearn: 0.0237046\ttotal: 5.59s\tremaining: 4.54s\n",
      "552:\tlearn: 0.0236466\ttotal: 5.61s\tremaining: 4.53s\n",
      "553:\tlearn: 0.0236020\ttotal: 5.61s\tremaining: 4.52s\n",
      "554:\tlearn: 0.0235623\ttotal: 5.62s\tremaining: 4.51s\n",
      "555:\tlearn: 0.0234876\ttotal: 5.63s\tremaining: 4.5s\n",
      "556:\tlearn: 0.0234596\ttotal: 5.64s\tremaining: 4.49s\n",
      "557:\tlearn: 0.0234124\ttotal: 5.65s\tremaining: 4.48s\n",
      "558:\tlearn: 0.0233798\ttotal: 5.66s\tremaining: 4.47s\n",
      "559:\tlearn: 0.0233400\ttotal: 5.67s\tremaining: 4.45s\n",
      "560:\tlearn: 0.0233081\ttotal: 5.68s\tremaining: 4.44s\n",
      "561:\tlearn: 0.0232719\ttotal: 5.68s\tremaining: 4.43s\n",
      "562:\tlearn: 0.0232514\ttotal: 5.69s\tremaining: 4.42s\n",
      "563:\tlearn: 0.0231827\ttotal: 5.7s\tremaining: 4.41s\n",
      "564:\tlearn: 0.0231499\ttotal: 5.71s\tremaining: 4.39s\n",
      "565:\tlearn: 0.0231096\ttotal: 5.71s\tremaining: 4.38s\n",
      "566:\tlearn: 0.0230860\ttotal: 5.72s\tremaining: 4.37s\n",
      "567:\tlearn: 0.0230537\ttotal: 5.73s\tremaining: 4.36s\n",
      "568:\tlearn: 0.0230241\ttotal: 5.74s\tremaining: 4.35s\n",
      "569:\tlearn: 0.0229677\ttotal: 5.75s\tremaining: 4.33s\n",
      "570:\tlearn: 0.0229109\ttotal: 5.75s\tremaining: 4.32s\n",
      "571:\tlearn: 0.0228722\ttotal: 5.76s\tremaining: 4.31s\n",
      "572:\tlearn: 0.0228390\ttotal: 5.77s\tremaining: 4.3s\n",
      "573:\tlearn: 0.0227910\ttotal: 5.78s\tremaining: 4.29s\n",
      "574:\tlearn: 0.0227646\ttotal: 5.78s\tremaining: 4.28s\n",
      "575:\tlearn: 0.0227102\ttotal: 5.79s\tremaining: 4.26s\n",
      "576:\tlearn: 0.0226469\ttotal: 5.8s\tremaining: 4.25s\n",
      "577:\tlearn: 0.0226236\ttotal: 5.81s\tremaining: 4.24s\n",
      "578:\tlearn: 0.0225519\ttotal: 5.81s\tremaining: 4.23s\n",
      "579:\tlearn: 0.0224914\ttotal: 5.82s\tremaining: 4.21s\n",
      "580:\tlearn: 0.0224379\ttotal: 5.83s\tremaining: 4.2s\n",
      "581:\tlearn: 0.0224052\ttotal: 5.83s\tremaining: 4.19s\n",
      "582:\tlearn: 0.0223572\ttotal: 5.84s\tremaining: 4.18s\n",
      "583:\tlearn: 0.0223322\ttotal: 5.85s\tremaining: 4.17s\n",
      "584:\tlearn: 0.0222961\ttotal: 5.86s\tremaining: 4.16s\n",
      "585:\tlearn: 0.0222162\ttotal: 5.87s\tremaining: 4.14s\n",
      "586:\tlearn: 0.0221826\ttotal: 5.87s\tremaining: 4.13s\n",
      "587:\tlearn: 0.0221380\ttotal: 5.88s\tremaining: 4.12s\n",
      "588:\tlearn: 0.0220904\ttotal: 5.89s\tremaining: 4.11s\n",
      "589:\tlearn: 0.0220711\ttotal: 5.9s\tremaining: 4.1s\n",
      "590:\tlearn: 0.0220338\ttotal: 5.91s\tremaining: 4.09s\n",
      "591:\tlearn: 0.0219930\ttotal: 5.92s\tremaining: 4.08s\n",
      "592:\tlearn: 0.0219262\ttotal: 5.92s\tremaining: 4.06s\n",
      "593:\tlearn: 0.0219056\ttotal: 5.93s\tremaining: 4.05s\n",
      "594:\tlearn: 0.0218805\ttotal: 5.94s\tremaining: 4.04s\n",
      "595:\tlearn: 0.0218310\ttotal: 5.94s\tremaining: 4.03s\n",
      "596:\tlearn: 0.0217770\ttotal: 5.95s\tremaining: 4.02s\n",
      "597:\tlearn: 0.0216984\ttotal: 5.97s\tremaining: 4.01s\n",
      "598:\tlearn: 0.0216667\ttotal: 5.98s\tremaining: 4s\n",
      "599:\tlearn: 0.0216469\ttotal: 5.99s\tremaining: 3.99s\n",
      "600:\tlearn: 0.0215974\ttotal: 5.99s\tremaining: 3.98s\n",
      "601:\tlearn: 0.0215392\ttotal: 6s\tremaining: 3.97s\n",
      "602:\tlearn: 0.0215132\ttotal: 6.01s\tremaining: 3.96s\n",
      "603:\tlearn: 0.0214522\ttotal: 6.02s\tremaining: 3.94s\n",
      "604:\tlearn: 0.0214157\ttotal: 6.02s\tremaining: 3.93s\n",
      "605:\tlearn: 0.0213959\ttotal: 6.03s\tremaining: 3.92s\n",
      "606:\tlearn: 0.0213682\ttotal: 6.04s\tremaining: 3.91s\n",
      "607:\tlearn: 0.0213418\ttotal: 6.05s\tremaining: 3.9s\n",
      "608:\tlearn: 0.0212878\ttotal: 6.06s\tremaining: 3.89s\n",
      "609:\tlearn: 0.0212716\ttotal: 6.07s\tremaining: 3.88s\n",
      "610:\tlearn: 0.0212012\ttotal: 6.08s\tremaining: 3.87s\n",
      "611:\tlearn: 0.0211711\ttotal: 6.09s\tremaining: 3.86s\n",
      "612:\tlearn: 0.0211182\ttotal: 6.09s\tremaining: 3.85s\n",
      "613:\tlearn: 0.0210753\ttotal: 6.1s\tremaining: 3.84s\n",
      "614:\tlearn: 0.0210421\ttotal: 6.11s\tremaining: 3.83s\n",
      "615:\tlearn: 0.0209869\ttotal: 6.12s\tremaining: 3.81s\n",
      "616:\tlearn: 0.0209481\ttotal: 6.13s\tremaining: 3.8s\n",
      "617:\tlearn: 0.0208894\ttotal: 6.14s\tremaining: 3.79s\n",
      "618:\tlearn: 0.0208687\ttotal: 6.15s\tremaining: 3.79s\n",
      "619:\tlearn: 0.0208460\ttotal: 6.16s\tremaining: 3.77s\n",
      "620:\tlearn: 0.0207870\ttotal: 6.17s\tremaining: 3.76s\n",
      "621:\tlearn: 0.0207624\ttotal: 6.17s\tremaining: 3.75s\n",
      "622:\tlearn: 0.0207104\ttotal: 6.18s\tremaining: 3.74s\n",
      "623:\tlearn: 0.0206793\ttotal: 6.19s\tremaining: 3.73s\n",
      "624:\tlearn: 0.0206625\ttotal: 6.2s\tremaining: 3.72s\n",
      "625:\tlearn: 0.0206320\ttotal: 6.21s\tremaining: 3.71s\n",
      "626:\tlearn: 0.0205989\ttotal: 6.21s\tremaining: 3.7s\n",
      "627:\tlearn: 0.0205380\ttotal: 6.22s\tremaining: 3.69s\n",
      "628:\tlearn: 0.0204863\ttotal: 6.23s\tremaining: 3.67s\n",
      "629:\tlearn: 0.0204591\ttotal: 6.24s\tremaining: 3.66s\n",
      "630:\tlearn: 0.0204407\ttotal: 6.25s\tremaining: 3.65s\n",
      "631:\tlearn: 0.0203688\ttotal: 6.26s\tremaining: 3.64s\n",
      "632:\tlearn: 0.0203382\ttotal: 6.27s\tremaining: 3.63s\n",
      "633:\tlearn: 0.0203082\ttotal: 6.28s\tremaining: 3.62s\n",
      "634:\tlearn: 0.0202568\ttotal: 6.28s\tremaining: 3.61s\n",
      "635:\tlearn: 0.0202277\ttotal: 6.29s\tremaining: 3.6s\n",
      "636:\tlearn: 0.0201632\ttotal: 6.3s\tremaining: 3.59s\n",
      "637:\tlearn: 0.0200924\ttotal: 6.31s\tremaining: 3.58s\n",
      "638:\tlearn: 0.0200480\ttotal: 6.32s\tremaining: 3.57s\n",
      "639:\tlearn: 0.0200162\ttotal: 6.33s\tremaining: 3.56s\n",
      "640:\tlearn: 0.0199909\ttotal: 6.33s\tremaining: 3.55s\n",
      "641:\tlearn: 0.0199518\ttotal: 6.34s\tremaining: 3.54s\n",
      "642:\tlearn: 0.0199139\ttotal: 6.35s\tremaining: 3.53s\n",
      "643:\tlearn: 0.0198929\ttotal: 6.36s\tremaining: 3.52s\n",
      "644:\tlearn: 0.0198693\ttotal: 6.37s\tremaining: 3.5s\n",
      "645:\tlearn: 0.0198428\ttotal: 6.38s\tremaining: 3.5s\n",
      "646:\tlearn: 0.0198036\ttotal: 6.39s\tremaining: 3.48s\n",
      "647:\tlearn: 0.0197947\ttotal: 6.39s\tremaining: 3.47s\n",
      "648:\tlearn: 0.0197306\ttotal: 6.4s\tremaining: 3.46s\n",
      "649:\tlearn: 0.0197072\ttotal: 6.41s\tremaining: 3.45s\n",
      "650:\tlearn: 0.0196597\ttotal: 6.42s\tremaining: 3.44s\n",
      "651:\tlearn: 0.0196298\ttotal: 6.42s\tremaining: 3.43s\n",
      "652:\tlearn: 0.0195800\ttotal: 6.43s\tremaining: 3.42s\n",
      "653:\tlearn: 0.0195358\ttotal: 6.44s\tremaining: 3.41s\n",
      "654:\tlearn: 0.0195184\ttotal: 6.45s\tremaining: 3.4s\n",
      "655:\tlearn: 0.0194773\ttotal: 6.45s\tremaining: 3.38s\n",
      "656:\tlearn: 0.0194437\ttotal: 6.46s\tremaining: 3.37s\n",
      "657:\tlearn: 0.0194227\ttotal: 6.47s\tremaining: 3.37s\n",
      "658:\tlearn: 0.0193996\ttotal: 6.48s\tremaining: 3.35s\n",
      "659:\tlearn: 0.0193458\ttotal: 6.49s\tremaining: 3.34s\n",
      "660:\tlearn: 0.0193029\ttotal: 6.5s\tremaining: 3.33s\n",
      "661:\tlearn: 0.0192714\ttotal: 6.51s\tremaining: 3.32s\n",
      "662:\tlearn: 0.0192245\ttotal: 6.51s\tremaining: 3.31s\n",
      "663:\tlearn: 0.0192045\ttotal: 6.52s\tremaining: 3.3s\n",
      "664:\tlearn: 0.0191654\ttotal: 6.53s\tremaining: 3.29s\n",
      "665:\tlearn: 0.0191116\ttotal: 6.54s\tremaining: 3.28s\n",
      "666:\tlearn: 0.0190632\ttotal: 6.54s\tremaining: 3.27s\n",
      "667:\tlearn: 0.0190241\ttotal: 6.55s\tremaining: 3.25s\n",
      "668:\tlearn: 0.0190033\ttotal: 6.56s\tremaining: 3.24s\n",
      "669:\tlearn: 0.0189592\ttotal: 6.56s\tremaining: 3.23s\n",
      "670:\tlearn: 0.0189177\ttotal: 6.57s\tremaining: 3.22s\n",
      "671:\tlearn: 0.0189050\ttotal: 6.58s\tremaining: 3.21s\n",
      "672:\tlearn: 0.0188830\ttotal: 6.59s\tremaining: 3.2s\n",
      "673:\tlearn: 0.0188575\ttotal: 6.6s\tremaining: 3.19s\n",
      "674:\tlearn: 0.0188189\ttotal: 6.61s\tremaining: 3.18s\n",
      "675:\tlearn: 0.0187849\ttotal: 6.62s\tremaining: 3.17s\n",
      "676:\tlearn: 0.0187409\ttotal: 6.63s\tremaining: 3.16s\n",
      "677:\tlearn: 0.0187160\ttotal: 6.63s\tremaining: 3.15s\n",
      "678:\tlearn: 0.0187004\ttotal: 6.64s\tremaining: 3.14s\n",
      "679:\tlearn: 0.0186669\ttotal: 6.65s\tremaining: 3.13s\n",
      "680:\tlearn: 0.0186453\ttotal: 6.66s\tremaining: 3.12s\n",
      "681:\tlearn: 0.0186216\ttotal: 6.66s\tremaining: 3.11s\n",
      "682:\tlearn: 0.0186042\ttotal: 6.67s\tremaining: 3.1s\n",
      "683:\tlearn: 0.0185734\ttotal: 6.68s\tremaining: 3.09s\n",
      "684:\tlearn: 0.0185508\ttotal: 6.69s\tremaining: 3.08s\n",
      "685:\tlearn: 0.0185218\ttotal: 6.7s\tremaining: 3.07s\n",
      "686:\tlearn: 0.0185023\ttotal: 6.72s\tremaining: 3.06s\n",
      "687:\tlearn: 0.0184548\ttotal: 6.73s\tremaining: 3.05s\n",
      "688:\tlearn: 0.0184197\ttotal: 6.74s\tremaining: 3.04s\n",
      "689:\tlearn: 0.0183951\ttotal: 6.74s\tremaining: 3.03s\n",
      "690:\tlearn: 0.0183568\ttotal: 6.75s\tremaining: 3.02s\n",
      "691:\tlearn: 0.0183422\ttotal: 6.76s\tremaining: 3.01s\n",
      "692:\tlearn: 0.0183059\ttotal: 6.78s\tremaining: 3s\n",
      "693:\tlearn: 0.0182779\ttotal: 6.79s\tremaining: 2.99s\n",
      "694:\tlearn: 0.0182651\ttotal: 6.8s\tremaining: 2.98s\n",
      "695:\tlearn: 0.0182221\ttotal: 6.8s\tremaining: 2.97s\n",
      "696:\tlearn: 0.0181775\ttotal: 6.81s\tremaining: 2.96s\n",
      "697:\tlearn: 0.0181505\ttotal: 6.82s\tremaining: 2.95s\n",
      "698:\tlearn: 0.0181325\ttotal: 6.83s\tremaining: 2.94s\n",
      "699:\tlearn: 0.0181121\ttotal: 6.84s\tremaining: 2.93s\n",
      "700:\tlearn: 0.0180875\ttotal: 6.84s\tremaining: 2.92s\n",
      "701:\tlearn: 0.0180688\ttotal: 6.85s\tremaining: 2.91s\n",
      "702:\tlearn: 0.0180448\ttotal: 6.86s\tremaining: 2.9s\n",
      "703:\tlearn: 0.0180226\ttotal: 6.87s\tremaining: 2.89s\n",
      "704:\tlearn: 0.0180126\ttotal: 6.88s\tremaining: 2.88s\n",
      "705:\tlearn: 0.0179754\ttotal: 6.88s\tremaining: 2.87s\n",
      "706:\tlearn: 0.0179383\ttotal: 6.89s\tremaining: 2.86s\n",
      "707:\tlearn: 0.0179032\ttotal: 6.91s\tremaining: 2.85s\n",
      "708:\tlearn: 0.0178668\ttotal: 6.92s\tremaining: 2.84s\n",
      "709:\tlearn: 0.0178205\ttotal: 6.94s\tremaining: 2.83s\n",
      "710:\tlearn: 0.0178015\ttotal: 6.95s\tremaining: 2.82s\n",
      "711:\tlearn: 0.0177587\ttotal: 6.95s\tremaining: 2.81s\n",
      "712:\tlearn: 0.0177227\ttotal: 6.96s\tremaining: 2.8s\n",
      "713:\tlearn: 0.0177004\ttotal: 6.97s\tremaining: 2.79s\n",
      "714:\tlearn: 0.0176612\ttotal: 6.98s\tremaining: 2.78s\n",
      "715:\tlearn: 0.0176323\ttotal: 6.99s\tremaining: 2.77s\n",
      "716:\tlearn: 0.0176170\ttotal: 7s\tremaining: 2.76s\n",
      "717:\tlearn: 0.0175652\ttotal: 7.01s\tremaining: 2.75s\n",
      "718:\tlearn: 0.0175322\ttotal: 7.02s\tremaining: 2.74s\n",
      "719:\tlearn: 0.0175095\ttotal: 7.03s\tremaining: 2.73s\n",
      "720:\tlearn: 0.0174883\ttotal: 7.04s\tremaining: 2.72s\n",
      "721:\tlearn: 0.0174626\ttotal: 7.04s\tremaining: 2.71s\n",
      "722:\tlearn: 0.0174397\ttotal: 7.05s\tremaining: 2.7s\n",
      "723:\tlearn: 0.0174307\ttotal: 7.06s\tremaining: 2.69s\n",
      "724:\tlearn: 0.0174030\ttotal: 7.07s\tremaining: 2.68s\n",
      "725:\tlearn: 0.0173709\ttotal: 7.08s\tremaining: 2.67s\n",
      "726:\tlearn: 0.0173524\ttotal: 7.1s\tremaining: 2.66s\n",
      "727:\tlearn: 0.0173248\ttotal: 7.11s\tremaining: 2.65s\n",
      "728:\tlearn: 0.0173110\ttotal: 7.11s\tremaining: 2.64s\n",
      "729:\tlearn: 0.0172764\ttotal: 7.12s\tremaining: 2.63s\n",
      "730:\tlearn: 0.0172471\ttotal: 7.13s\tremaining: 2.63s\n",
      "731:\tlearn: 0.0172098\ttotal: 7.14s\tremaining: 2.62s\n",
      "732:\tlearn: 0.0171768\ttotal: 7.16s\tremaining: 2.61s\n",
      "733:\tlearn: 0.0171380\ttotal: 7.17s\tremaining: 2.6s\n",
      "734:\tlearn: 0.0171114\ttotal: 7.18s\tremaining: 2.59s\n",
      "735:\tlearn: 0.0170706\ttotal: 7.19s\tremaining: 2.58s\n",
      "736:\tlearn: 0.0170306\ttotal: 7.21s\tremaining: 2.57s\n",
      "737:\tlearn: 0.0170110\ttotal: 7.24s\tremaining: 2.57s\n",
      "738:\tlearn: 0.0169734\ttotal: 7.25s\tremaining: 2.56s\n",
      "739:\tlearn: 0.0169386\ttotal: 7.26s\tremaining: 2.55s\n",
      "740:\tlearn: 0.0169090\ttotal: 7.27s\tremaining: 2.54s\n",
      "741:\tlearn: 0.0168952\ttotal: 7.28s\tremaining: 2.53s\n",
      "742:\tlearn: 0.0168786\ttotal: 7.29s\tremaining: 2.52s\n",
      "743:\tlearn: 0.0168645\ttotal: 7.31s\tremaining: 2.52s\n",
      "744:\tlearn: 0.0168339\ttotal: 7.33s\tremaining: 2.51s\n",
      "745:\tlearn: 0.0168141\ttotal: 7.34s\tremaining: 2.5s\n",
      "746:\tlearn: 0.0167896\ttotal: 7.35s\tremaining: 2.49s\n",
      "747:\tlearn: 0.0167483\ttotal: 7.36s\tremaining: 2.48s\n",
      "748:\tlearn: 0.0167303\ttotal: 7.38s\tremaining: 2.47s\n",
      "749:\tlearn: 0.0167056\ttotal: 7.38s\tremaining: 2.46s\n",
      "750:\tlearn: 0.0166836\ttotal: 7.4s\tremaining: 2.45s\n",
      "751:\tlearn: 0.0166656\ttotal: 7.41s\tremaining: 2.44s\n",
      "752:\tlearn: 0.0166488\ttotal: 7.42s\tremaining: 2.43s\n",
      "753:\tlearn: 0.0166083\ttotal: 7.43s\tremaining: 2.42s\n",
      "754:\tlearn: 0.0165821\ttotal: 7.44s\tremaining: 2.41s\n",
      "755:\tlearn: 0.0165642\ttotal: 7.45s\tremaining: 2.4s\n",
      "756:\tlearn: 0.0165378\ttotal: 7.46s\tremaining: 2.39s\n",
      "757:\tlearn: 0.0165166\ttotal: 7.46s\tremaining: 2.38s\n",
      "758:\tlearn: 0.0164819\ttotal: 7.47s\tremaining: 2.37s\n",
      "759:\tlearn: 0.0164619\ttotal: 7.48s\tremaining: 2.36s\n",
      "760:\tlearn: 0.0164310\ttotal: 7.5s\tremaining: 2.36s\n",
      "761:\tlearn: 0.0164076\ttotal: 7.51s\tremaining: 2.35s\n",
      "762:\tlearn: 0.0163845\ttotal: 7.52s\tremaining: 2.34s\n",
      "763:\tlearn: 0.0163545\ttotal: 7.54s\tremaining: 2.33s\n",
      "764:\tlearn: 0.0163020\ttotal: 7.55s\tremaining: 2.32s\n",
      "765:\tlearn: 0.0162874\ttotal: 7.56s\tremaining: 2.31s\n",
      "766:\tlearn: 0.0162714\ttotal: 7.57s\tremaining: 2.3s\n",
      "767:\tlearn: 0.0162553\ttotal: 7.58s\tremaining: 2.29s\n",
      "768:\tlearn: 0.0162325\ttotal: 7.59s\tremaining: 2.28s\n",
      "769:\tlearn: 0.0162104\ttotal: 7.6s\tremaining: 2.27s\n",
      "770:\tlearn: 0.0161948\ttotal: 7.61s\tremaining: 2.26s\n",
      "771:\tlearn: 0.0161715\ttotal: 7.62s\tremaining: 2.25s\n",
      "772:\tlearn: 0.0161555\ttotal: 7.62s\tremaining: 2.24s\n",
      "773:\tlearn: 0.0161391\ttotal: 7.64s\tremaining: 2.23s\n",
      "774:\tlearn: 0.0161066\ttotal: 7.64s\tremaining: 2.22s\n",
      "775:\tlearn: 0.0160879\ttotal: 7.65s\tremaining: 2.21s\n",
      "776:\tlearn: 0.0160646\ttotal: 7.67s\tremaining: 2.2s\n",
      "777:\tlearn: 0.0160518\ttotal: 7.68s\tremaining: 2.19s\n",
      "778:\tlearn: 0.0160369\ttotal: 7.69s\tremaining: 2.18s\n",
      "779:\tlearn: 0.0160042\ttotal: 7.7s\tremaining: 2.17s\n",
      "780:\tlearn: 0.0159754\ttotal: 7.71s\tremaining: 2.16s\n",
      "781:\tlearn: 0.0159472\ttotal: 7.73s\tremaining: 2.15s\n",
      "782:\tlearn: 0.0159148\ttotal: 7.74s\tremaining: 2.14s\n",
      "783:\tlearn: 0.0158986\ttotal: 7.75s\tremaining: 2.13s\n",
      "784:\tlearn: 0.0158765\ttotal: 7.75s\tremaining: 2.12s\n",
      "785:\tlearn: 0.0158465\ttotal: 7.76s\tremaining: 2.11s\n",
      "786:\tlearn: 0.0158251\ttotal: 7.77s\tremaining: 2.1s\n",
      "787:\tlearn: 0.0158061\ttotal: 7.78s\tremaining: 2.09s\n",
      "788:\tlearn: 0.0157870\ttotal: 7.79s\tremaining: 2.08s\n",
      "789:\tlearn: 0.0157620\ttotal: 7.79s\tremaining: 2.07s\n",
      "790:\tlearn: 0.0157253\ttotal: 7.81s\tremaining: 2.06s\n",
      "791:\tlearn: 0.0157084\ttotal: 7.82s\tremaining: 2.05s\n",
      "792:\tlearn: 0.0156726\ttotal: 7.83s\tremaining: 2.04s\n",
      "793:\tlearn: 0.0156362\ttotal: 7.83s\tremaining: 2.03s\n",
      "794:\tlearn: 0.0156076\ttotal: 7.84s\tremaining: 2.02s\n",
      "795:\tlearn: 0.0155832\ttotal: 7.85s\tremaining: 2.01s\n",
      "796:\tlearn: 0.0155581\ttotal: 7.86s\tremaining: 2s\n",
      "797:\tlearn: 0.0155333\ttotal: 7.86s\tremaining: 1.99s\n",
      "798:\tlearn: 0.0155092\ttotal: 7.87s\tremaining: 1.98s\n",
      "799:\tlearn: 0.0154886\ttotal: 7.88s\tremaining: 1.97s\n",
      "800:\tlearn: 0.0154769\ttotal: 7.89s\tremaining: 1.96s\n",
      "801:\tlearn: 0.0154559\ttotal: 7.9s\tremaining: 1.95s\n",
      "802:\tlearn: 0.0154405\ttotal: 7.91s\tremaining: 1.94s\n",
      "803:\tlearn: 0.0153893\ttotal: 7.91s\tremaining: 1.93s\n",
      "804:\tlearn: 0.0153753\ttotal: 7.92s\tremaining: 1.92s\n",
      "805:\tlearn: 0.0153398\ttotal: 7.93s\tremaining: 1.91s\n",
      "806:\tlearn: 0.0153212\ttotal: 7.94s\tremaining: 1.9s\n",
      "807:\tlearn: 0.0152968\ttotal: 7.94s\tremaining: 1.89s\n",
      "808:\tlearn: 0.0152851\ttotal: 7.95s\tremaining: 1.88s\n",
      "809:\tlearn: 0.0152555\ttotal: 7.96s\tremaining: 1.87s\n",
      "810:\tlearn: 0.0152283\ttotal: 7.96s\tremaining: 1.86s\n",
      "811:\tlearn: 0.0152106\ttotal: 7.97s\tremaining: 1.84s\n",
      "812:\tlearn: 0.0151939\ttotal: 7.98s\tremaining: 1.83s\n",
      "813:\tlearn: 0.0151757\ttotal: 7.99s\tremaining: 1.82s\n",
      "814:\tlearn: 0.0151657\ttotal: 8s\tremaining: 1.81s\n",
      "815:\tlearn: 0.0151479\ttotal: 8.01s\tremaining: 1.8s\n",
      "816:\tlearn: 0.0151385\ttotal: 8.01s\tremaining: 1.79s\n",
      "817:\tlearn: 0.0151258\ttotal: 8.02s\tremaining: 1.78s\n",
      "818:\tlearn: 0.0150893\ttotal: 8.03s\tremaining: 1.77s\n",
      "819:\tlearn: 0.0150599\ttotal: 8.04s\tremaining: 1.76s\n",
      "820:\tlearn: 0.0150517\ttotal: 8.05s\tremaining: 1.75s\n",
      "821:\tlearn: 0.0150255\ttotal: 8.06s\tremaining: 1.75s\n",
      "822:\tlearn: 0.0150103\ttotal: 8.07s\tremaining: 1.74s\n",
      "823:\tlearn: 0.0149668\ttotal: 8.08s\tremaining: 1.73s\n",
      "824:\tlearn: 0.0149415\ttotal: 8.09s\tremaining: 1.72s\n",
      "825:\tlearn: 0.0149300\ttotal: 8.1s\tremaining: 1.71s\n",
      "826:\tlearn: 0.0149096\ttotal: 8.1s\tremaining: 1.69s\n",
      "827:\tlearn: 0.0148861\ttotal: 8.11s\tremaining: 1.68s\n",
      "828:\tlearn: 0.0148716\ttotal: 8.12s\tremaining: 1.67s\n",
      "829:\tlearn: 0.0148369\ttotal: 8.13s\tremaining: 1.66s\n",
      "830:\tlearn: 0.0148154\ttotal: 8.13s\tremaining: 1.65s\n",
      "831:\tlearn: 0.0147895\ttotal: 8.14s\tremaining: 1.64s\n",
      "832:\tlearn: 0.0147547\ttotal: 8.15s\tremaining: 1.63s\n",
      "833:\tlearn: 0.0147346\ttotal: 8.16s\tremaining: 1.62s\n",
      "834:\tlearn: 0.0147129\ttotal: 8.17s\tremaining: 1.61s\n",
      "835:\tlearn: 0.0146970\ttotal: 8.17s\tremaining: 1.6s\n",
      "836:\tlearn: 0.0146726\ttotal: 8.18s\tremaining: 1.59s\n",
      "837:\tlearn: 0.0146510\ttotal: 8.19s\tremaining: 1.58s\n",
      "838:\tlearn: 0.0146254\ttotal: 8.2s\tremaining: 1.57s\n",
      "839:\tlearn: 0.0146051\ttotal: 8.21s\tremaining: 1.56s\n",
      "840:\tlearn: 0.0145962\ttotal: 8.23s\tremaining: 1.56s\n",
      "841:\tlearn: 0.0145857\ttotal: 8.25s\tremaining: 1.55s\n",
      "842:\tlearn: 0.0145495\ttotal: 8.26s\tremaining: 1.54s\n",
      "843:\tlearn: 0.0145282\ttotal: 8.26s\tremaining: 1.53s\n",
      "844:\tlearn: 0.0145025\ttotal: 8.28s\tremaining: 1.52s\n",
      "845:\tlearn: 0.0144850\ttotal: 8.29s\tremaining: 1.51s\n",
      "846:\tlearn: 0.0144475\ttotal: 8.29s\tremaining: 1.5s\n",
      "847:\tlearn: 0.0144307\ttotal: 8.3s\tremaining: 1.49s\n",
      "848:\tlearn: 0.0143986\ttotal: 8.31s\tremaining: 1.48s\n",
      "849:\tlearn: 0.0143788\ttotal: 8.32s\tremaining: 1.47s\n",
      "850:\tlearn: 0.0143587\ttotal: 8.33s\tremaining: 1.46s\n",
      "851:\tlearn: 0.0143405\ttotal: 8.34s\tremaining: 1.45s\n",
      "852:\tlearn: 0.0143152\ttotal: 8.34s\tremaining: 1.44s\n",
      "853:\tlearn: 0.0142998\ttotal: 8.35s\tremaining: 1.43s\n",
      "854:\tlearn: 0.0142859\ttotal: 8.36s\tremaining: 1.42s\n",
      "855:\tlearn: 0.0142725\ttotal: 8.37s\tremaining: 1.41s\n",
      "856:\tlearn: 0.0142556\ttotal: 8.37s\tremaining: 1.4s\n",
      "857:\tlearn: 0.0142240\ttotal: 8.38s\tremaining: 1.39s\n",
      "858:\tlearn: 0.0141933\ttotal: 8.39s\tremaining: 1.38s\n",
      "859:\tlearn: 0.0141763\ttotal: 8.39s\tremaining: 1.37s\n",
      "860:\tlearn: 0.0141536\ttotal: 8.4s\tremaining: 1.36s\n",
      "861:\tlearn: 0.0141352\ttotal: 8.41s\tremaining: 1.35s\n",
      "862:\tlearn: 0.0141173\ttotal: 8.42s\tremaining: 1.34s\n",
      "863:\tlearn: 0.0140981\ttotal: 8.43s\tremaining: 1.33s\n",
      "864:\tlearn: 0.0140811\ttotal: 8.44s\tremaining: 1.32s\n",
      "865:\tlearn: 0.0140605\ttotal: 8.45s\tremaining: 1.31s\n",
      "866:\tlearn: 0.0140416\ttotal: 8.46s\tremaining: 1.3s\n",
      "867:\tlearn: 0.0140204\ttotal: 8.46s\tremaining: 1.29s\n",
      "868:\tlearn: 0.0139984\ttotal: 8.47s\tremaining: 1.28s\n",
      "869:\tlearn: 0.0139759\ttotal: 8.48s\tremaining: 1.27s\n",
      "870:\tlearn: 0.0139481\ttotal: 8.48s\tremaining: 1.26s\n",
      "871:\tlearn: 0.0139236\ttotal: 8.49s\tremaining: 1.25s\n",
      "872:\tlearn: 0.0139120\ttotal: 8.5s\tremaining: 1.24s\n",
      "873:\tlearn: 0.0138991\ttotal: 8.51s\tremaining: 1.23s\n",
      "874:\tlearn: 0.0138730\ttotal: 8.52s\tremaining: 1.22s\n",
      "875:\tlearn: 0.0138583\ttotal: 8.53s\tremaining: 1.21s\n",
      "876:\tlearn: 0.0138499\ttotal: 8.53s\tremaining: 1.2s\n",
      "877:\tlearn: 0.0138358\ttotal: 8.54s\tremaining: 1.19s\n",
      "878:\tlearn: 0.0138161\ttotal: 8.55s\tremaining: 1.18s\n",
      "879:\tlearn: 0.0137873\ttotal: 8.56s\tremaining: 1.17s\n",
      "880:\tlearn: 0.0137681\ttotal: 8.57s\tremaining: 1.16s\n",
      "881:\tlearn: 0.0137580\ttotal: 8.57s\tremaining: 1.15s\n",
      "882:\tlearn: 0.0137428\ttotal: 8.58s\tremaining: 1.14s\n",
      "883:\tlearn: 0.0137199\ttotal: 8.59s\tremaining: 1.13s\n",
      "884:\tlearn: 0.0136925\ttotal: 8.6s\tremaining: 1.12s\n",
      "885:\tlearn: 0.0136719\ttotal: 8.61s\tremaining: 1.11s\n",
      "886:\tlearn: 0.0136641\ttotal: 8.62s\tremaining: 1.1s\n",
      "887:\tlearn: 0.0136509\ttotal: 8.63s\tremaining: 1.09s\n",
      "888:\tlearn: 0.0136242\ttotal: 8.64s\tremaining: 1.08s\n",
      "889:\tlearn: 0.0136034\ttotal: 8.65s\tremaining: 1.07s\n",
      "890:\tlearn: 0.0135812\ttotal: 8.66s\tremaining: 1.06s\n",
      "891:\tlearn: 0.0135721\ttotal: 8.67s\tremaining: 1.05s\n",
      "892:\tlearn: 0.0135466\ttotal: 8.68s\tremaining: 1.04s\n",
      "893:\tlearn: 0.0135170\ttotal: 8.69s\tremaining: 1.03s\n",
      "894:\tlearn: 0.0134831\ttotal: 8.7s\tremaining: 1.02s\n",
      "895:\tlearn: 0.0134603\ttotal: 8.71s\tremaining: 1.01s\n",
      "896:\tlearn: 0.0134370\ttotal: 8.72s\tremaining: 1s\n",
      "897:\tlearn: 0.0134278\ttotal: 8.73s\tremaining: 991ms\n",
      "898:\tlearn: 0.0134167\ttotal: 8.74s\tremaining: 982ms\n",
      "899:\tlearn: 0.0134117\ttotal: 8.75s\tremaining: 972ms\n",
      "900:\tlearn: 0.0134011\ttotal: 8.76s\tremaining: 962ms\n",
      "901:\tlearn: 0.0133912\ttotal: 8.77s\tremaining: 952ms\n",
      "902:\tlearn: 0.0133617\ttotal: 8.78s\tremaining: 943ms\n",
      "903:\tlearn: 0.0133428\ttotal: 8.79s\tremaining: 933ms\n",
      "904:\tlearn: 0.0133328\ttotal: 8.79s\tremaining: 923ms\n",
      "905:\tlearn: 0.0133190\ttotal: 8.8s\tremaining: 913ms\n",
      "906:\tlearn: 0.0132975\ttotal: 8.81s\tremaining: 903ms\n",
      "907:\tlearn: 0.0132823\ttotal: 8.82s\tremaining: 893ms\n",
      "908:\tlearn: 0.0132743\ttotal: 8.82s\tremaining: 883ms\n",
      "909:\tlearn: 0.0132635\ttotal: 8.83s\tremaining: 874ms\n",
      "910:\tlearn: 0.0132415\ttotal: 8.84s\tremaining: 864ms\n",
      "911:\tlearn: 0.0132259\ttotal: 8.85s\tremaining: 854ms\n",
      "912:\tlearn: 0.0132174\ttotal: 8.87s\tremaining: 845ms\n",
      "913:\tlearn: 0.0132024\ttotal: 8.88s\tremaining: 835ms\n",
      "914:\tlearn: 0.0131922\ttotal: 8.89s\tremaining: 826ms\n",
      "915:\tlearn: 0.0131836\ttotal: 8.89s\tremaining: 816ms\n",
      "916:\tlearn: 0.0131620\ttotal: 8.9s\tremaining: 806ms\n",
      "917:\tlearn: 0.0131295\ttotal: 8.91s\tremaining: 796ms\n",
      "918:\tlearn: 0.0131171\ttotal: 8.92s\tremaining: 786ms\n",
      "919:\tlearn: 0.0130876\ttotal: 8.93s\tremaining: 777ms\n",
      "920:\tlearn: 0.0130735\ttotal: 8.94s\tremaining: 767ms\n",
      "921:\tlearn: 0.0130591\ttotal: 8.95s\tremaining: 757ms\n",
      "922:\tlearn: 0.0130487\ttotal: 8.95s\tremaining: 747ms\n",
      "923:\tlearn: 0.0130306\ttotal: 8.96s\tremaining: 737ms\n",
      "924:\tlearn: 0.0130245\ttotal: 8.97s\tremaining: 727ms\n",
      "925:\tlearn: 0.0130087\ttotal: 8.98s\tremaining: 718ms\n",
      "926:\tlearn: 0.0129850\ttotal: 8.99s\tremaining: 708ms\n",
      "927:\tlearn: 0.0129702\ttotal: 9s\tremaining: 698ms\n",
      "928:\tlearn: 0.0129579\ttotal: 9.01s\tremaining: 688ms\n",
      "929:\tlearn: 0.0129439\ttotal: 9.02s\tremaining: 679ms\n",
      "930:\tlearn: 0.0129132\ttotal: 9.03s\tremaining: 669ms\n",
      "931:\tlearn: 0.0128951\ttotal: 9.04s\tremaining: 659ms\n",
      "932:\tlearn: 0.0128820\ttotal: 9.04s\tremaining: 650ms\n",
      "933:\tlearn: 0.0128751\ttotal: 9.05s\tremaining: 640ms\n",
      "934:\tlearn: 0.0128470\ttotal: 9.07s\tremaining: 630ms\n",
      "935:\tlearn: 0.0128288\ttotal: 9.08s\tremaining: 621ms\n",
      "936:\tlearn: 0.0128020\ttotal: 9.09s\tremaining: 611ms\n",
      "937:\tlearn: 0.0127846\ttotal: 9.1s\tremaining: 602ms\n",
      "938:\tlearn: 0.0127622\ttotal: 9.12s\tremaining: 592ms\n",
      "939:\tlearn: 0.0127484\ttotal: 9.13s\tremaining: 583ms\n",
      "940:\tlearn: 0.0127376\ttotal: 9.14s\tremaining: 573ms\n",
      "941:\tlearn: 0.0127208\ttotal: 9.14s\tremaining: 563ms\n",
      "942:\tlearn: 0.0127029\ttotal: 9.15s\tremaining: 553ms\n",
      "943:\tlearn: 0.0126802\ttotal: 9.16s\tremaining: 544ms\n",
      "944:\tlearn: 0.0126598\ttotal: 9.17s\tremaining: 534ms\n",
      "945:\tlearn: 0.0126346\ttotal: 9.2s\tremaining: 525ms\n",
      "946:\tlearn: 0.0126155\ttotal: 9.24s\tremaining: 517ms\n",
      "947:\tlearn: 0.0126033\ttotal: 9.25s\tremaining: 507ms\n",
      "948:\tlearn: 0.0125950\ttotal: 9.26s\tremaining: 498ms\n",
      "949:\tlearn: 0.0125730\ttotal: 9.27s\tremaining: 488ms\n",
      "950:\tlearn: 0.0125591\ttotal: 9.29s\tremaining: 479ms\n",
      "951:\tlearn: 0.0125415\ttotal: 9.3s\tremaining: 469ms\n",
      "952:\tlearn: 0.0125292\ttotal: 9.31s\tremaining: 459ms\n",
      "953:\tlearn: 0.0125143\ttotal: 9.32s\tremaining: 450ms\n",
      "954:\tlearn: 0.0125011\ttotal: 9.33s\tremaining: 440ms\n",
      "955:\tlearn: 0.0124932\ttotal: 9.34s\tremaining: 430ms\n",
      "956:\tlearn: 0.0124851\ttotal: 9.35s\tremaining: 420ms\n",
      "957:\tlearn: 0.0124582\ttotal: 9.36s\tremaining: 410ms\n",
      "958:\tlearn: 0.0124390\ttotal: 9.37s\tremaining: 401ms\n",
      "959:\tlearn: 0.0124276\ttotal: 9.38s\tremaining: 391ms\n",
      "960:\tlearn: 0.0124028\ttotal: 9.39s\tremaining: 381ms\n",
      "961:\tlearn: 0.0123851\ttotal: 9.4s\tremaining: 371ms\n",
      "962:\tlearn: 0.0123719\ttotal: 9.41s\tremaining: 362ms\n",
      "963:\tlearn: 0.0123579\ttotal: 9.43s\tremaining: 352ms\n",
      "964:\tlearn: 0.0123278\ttotal: 9.44s\tremaining: 342ms\n",
      "965:\tlearn: 0.0123144\ttotal: 9.44s\tremaining: 332ms\n",
      "966:\tlearn: 0.0123028\ttotal: 9.45s\tremaining: 323ms\n",
      "967:\tlearn: 0.0122875\ttotal: 9.46s\tremaining: 313ms\n",
      "968:\tlearn: 0.0122602\ttotal: 9.47s\tremaining: 303ms\n",
      "969:\tlearn: 0.0122495\ttotal: 9.48s\tremaining: 293ms\n",
      "970:\tlearn: 0.0122412\ttotal: 9.48s\tremaining: 283ms\n",
      "971:\tlearn: 0.0122176\ttotal: 9.49s\tremaining: 273ms\n",
      "972:\tlearn: 0.0121990\ttotal: 9.5s\tremaining: 264ms\n",
      "973:\tlearn: 0.0121818\ttotal: 9.51s\tremaining: 254ms\n",
      "974:\tlearn: 0.0121658\ttotal: 9.52s\tremaining: 244ms\n",
      "975:\tlearn: 0.0121532\ttotal: 9.53s\tremaining: 234ms\n",
      "976:\tlearn: 0.0121438\ttotal: 9.54s\tremaining: 225ms\n",
      "977:\tlearn: 0.0121242\ttotal: 9.55s\tremaining: 215ms\n",
      "978:\tlearn: 0.0121108\ttotal: 9.56s\tremaining: 205ms\n",
      "979:\tlearn: 0.0120991\ttotal: 9.56s\tremaining: 195ms\n",
      "980:\tlearn: 0.0120803\ttotal: 9.57s\tremaining: 185ms\n",
      "981:\tlearn: 0.0120696\ttotal: 9.58s\tremaining: 176ms\n",
      "982:\tlearn: 0.0120587\ttotal: 9.59s\tremaining: 166ms\n",
      "983:\tlearn: 0.0120475\ttotal: 9.6s\tremaining: 156ms\n",
      "984:\tlearn: 0.0120382\ttotal: 9.62s\tremaining: 147ms\n",
      "985:\tlearn: 0.0120095\ttotal: 9.63s\tremaining: 137ms\n",
      "986:\tlearn: 0.0120015\ttotal: 9.64s\tremaining: 127ms\n",
      "987:\tlearn: 0.0119941\ttotal: 9.66s\tremaining: 117ms\n",
      "988:\tlearn: 0.0119815\ttotal: 9.66s\tremaining: 108ms\n",
      "989:\tlearn: 0.0119711\ttotal: 9.68s\tremaining: 97.7ms\n",
      "990:\tlearn: 0.0119575\ttotal: 9.68s\tremaining: 87.9ms\n",
      "991:\tlearn: 0.0119444\ttotal: 9.69s\tremaining: 78.2ms\n",
      "992:\tlearn: 0.0119317\ttotal: 9.7s\tremaining: 68.4ms\n",
      "993:\tlearn: 0.0119160\ttotal: 9.71s\tremaining: 58.6ms\n",
      "994:\tlearn: 0.0118953\ttotal: 9.72s\tremaining: 48.8ms\n",
      "995:\tlearn: 0.0118751\ttotal: 9.73s\tremaining: 39.1ms\n",
      "996:\tlearn: 0.0118651\ttotal: 9.73s\tremaining: 29.3ms\n",
      "997:\tlearn: 0.0118601\ttotal: 9.74s\tremaining: 19.5ms\n",
      "998:\tlearn: 0.0118422\ttotal: 9.75s\tremaining: 9.76ms\n",
      "999:\tlearn: 0.0118230\ttotal: 9.76s\tremaining: 0us\n",
      "Learning rate set to 0.064906\n",
      "0:\tlearn: 1.0015128\ttotal: 8.32ms\tremaining: 8.31s\n",
      "1:\tlearn: 0.9169174\ttotal: 16.9ms\tremaining: 8.44s\n",
      "2:\tlearn: 0.8447158\ttotal: 25.4ms\tremaining: 8.43s\n",
      "3:\tlearn: 0.7815021\ttotal: 33.8ms\tremaining: 8.41s\n",
      "4:\tlearn: 0.7260631\ttotal: 43.8ms\tremaining: 8.72s\n",
      "5:\tlearn: 0.6780486\ttotal: 51.1ms\tremaining: 8.47s\n",
      "6:\tlearn: 0.6347123\ttotal: 59ms\tremaining: 8.36s\n",
      "7:\tlearn: 0.5953649\ttotal: 65.2ms\tremaining: 8.09s\n",
      "8:\tlearn: 0.5607136\ttotal: 74.3ms\tremaining: 8.18s\n",
      "9:\tlearn: 0.5279078\ttotal: 81.6ms\tremaining: 8.08s\n",
      "10:\tlearn: 0.4980568\ttotal: 89.8ms\tremaining: 8.07s\n",
      "11:\tlearn: 0.4716894\ttotal: 96.4ms\tremaining: 7.93s\n",
      "12:\tlearn: 0.4467183\ttotal: 104ms\tremaining: 7.9s\n",
      "13:\tlearn: 0.4231300\ttotal: 111ms\tremaining: 7.79s\n",
      "14:\tlearn: 0.4020272\ttotal: 119ms\tremaining: 7.81s\n",
      "15:\tlearn: 0.3832923\ttotal: 127ms\tremaining: 7.81s\n",
      "16:\tlearn: 0.3660352\ttotal: 135ms\tremaining: 7.83s\n",
      "17:\tlearn: 0.3497797\ttotal: 142ms\tremaining: 7.76s\n",
      "18:\tlearn: 0.3336754\ttotal: 150ms\tremaining: 7.75s\n",
      "19:\tlearn: 0.3191763\ttotal: 159ms\tremaining: 7.78s\n",
      "20:\tlearn: 0.3069667\ttotal: 167ms\tremaining: 7.78s\n",
      "21:\tlearn: 0.2942078\ttotal: 173ms\tremaining: 7.71s\n",
      "22:\tlearn: 0.2830466\ttotal: 182ms\tremaining: 7.71s\n",
      "23:\tlearn: 0.2733586\ttotal: 195ms\tremaining: 7.95s\n",
      "24:\tlearn: 0.2634574\ttotal: 205ms\tremaining: 8.01s\n",
      "25:\tlearn: 0.2543524\ttotal: 213ms\tremaining: 7.99s\n",
      "26:\tlearn: 0.2461407\ttotal: 221ms\tremaining: 7.96s\n",
      "27:\tlearn: 0.2385371\ttotal: 230ms\tremaining: 7.99s\n",
      "28:\tlearn: 0.2303918\ttotal: 244ms\tremaining: 8.18s\n",
      "29:\tlearn: 0.2231831\ttotal: 253ms\tremaining: 8.17s\n",
      "30:\tlearn: 0.2171550\ttotal: 260ms\tremaining: 8.14s\n",
      "31:\tlearn: 0.2105922\ttotal: 267ms\tremaining: 8.07s\n",
      "32:\tlearn: 0.2051777\ttotal: 278ms\tremaining: 8.13s\n",
      "33:\tlearn: 0.1995861\ttotal: 285ms\tremaining: 8.09s\n",
      "34:\tlearn: 0.1946393\ttotal: 293ms\tremaining: 8.08s\n",
      "35:\tlearn: 0.1899200\ttotal: 300ms\tremaining: 8.02s\n",
      "36:\tlearn: 0.1849604\ttotal: 310ms\tremaining: 8.06s\n",
      "37:\tlearn: 0.1803236\ttotal: 317ms\tremaining: 8.03s\n",
      "38:\tlearn: 0.1758612\ttotal: 324ms\tremaining: 7.99s\n",
      "39:\tlearn: 0.1720558\ttotal: 332ms\tremaining: 7.96s\n",
      "40:\tlearn: 0.1682304\ttotal: 340ms\tremaining: 7.96s\n",
      "41:\tlearn: 0.1651623\ttotal: 348ms\tremaining: 7.93s\n",
      "42:\tlearn: 0.1619501\ttotal: 354ms\tremaining: 7.88s\n",
      "43:\tlearn: 0.1587957\ttotal: 361ms\tremaining: 7.84s\n",
      "44:\tlearn: 0.1562957\ttotal: 368ms\tremaining: 7.82s\n",
      "45:\tlearn: 0.1539383\ttotal: 376ms\tremaining: 7.8s\n",
      "46:\tlearn: 0.1511109\ttotal: 383ms\tremaining: 7.77s\n",
      "47:\tlearn: 0.1498066\ttotal: 391ms\tremaining: 7.76s\n",
      "48:\tlearn: 0.1475976\ttotal: 400ms\tremaining: 7.77s\n",
      "49:\tlearn: 0.1455859\ttotal: 414ms\tremaining: 7.87s\n",
      "50:\tlearn: 0.1435346\ttotal: 426ms\tremaining: 7.92s\n",
      "51:\tlearn: 0.1416367\ttotal: 433ms\tremaining: 7.9s\n",
      "52:\tlearn: 0.1399933\ttotal: 445ms\tremaining: 7.95s\n",
      "53:\tlearn: 0.1382729\ttotal: 458ms\tremaining: 8.02s\n",
      "54:\tlearn: 0.1363062\ttotal: 466ms\tremaining: 8s\n",
      "55:\tlearn: 0.1344098\ttotal: 476ms\tremaining: 8.02s\n",
      "56:\tlearn: 0.1334618\ttotal: 484ms\tremaining: 8s\n",
      "57:\tlearn: 0.1316578\ttotal: 498ms\tremaining: 8.08s\n",
      "58:\tlearn: 0.1301324\ttotal: 507ms\tremaining: 8.08s\n",
      "59:\tlearn: 0.1286377\ttotal: 514ms\tremaining: 8.05s\n",
      "60:\tlearn: 0.1274623\ttotal: 521ms\tremaining: 8.02s\n",
      "61:\tlearn: 0.1261385\ttotal: 528ms\tremaining: 7.99s\n",
      "62:\tlearn: 0.1246613\ttotal: 539ms\tremaining: 8.02s\n",
      "63:\tlearn: 0.1237141\ttotal: 553ms\tremaining: 8.09s\n",
      "64:\tlearn: 0.1228687\ttotal: 560ms\tremaining: 8.05s\n",
      "65:\tlearn: 0.1214819\ttotal: 568ms\tremaining: 8.04s\n",
      "66:\tlearn: 0.1198255\ttotal: 581ms\tremaining: 8.09s\n",
      "67:\tlearn: 0.1182398\ttotal: 596ms\tremaining: 8.17s\n",
      "68:\tlearn: 0.1175743\ttotal: 604ms\tremaining: 8.15s\n",
      "69:\tlearn: 0.1166591\ttotal: 611ms\tremaining: 8.12s\n",
      "70:\tlearn: 0.1156739\ttotal: 626ms\tremaining: 8.19s\n",
      "71:\tlearn: 0.1149787\ttotal: 634ms\tremaining: 8.18s\n",
      "72:\tlearn: 0.1145503\ttotal: 644ms\tremaining: 8.17s\n",
      "73:\tlearn: 0.1134455\ttotal: 651ms\tremaining: 8.15s\n",
      "74:\tlearn: 0.1124610\ttotal: 662ms\tremaining: 8.16s\n",
      "75:\tlearn: 0.1118431\ttotal: 669ms\tremaining: 8.13s\n",
      "76:\tlearn: 0.1107606\ttotal: 677ms\tremaining: 8.12s\n",
      "77:\tlearn: 0.1095025\ttotal: 689ms\tremaining: 8.15s\n",
      "78:\tlearn: 0.1085239\ttotal: 697ms\tremaining: 8.12s\n",
      "79:\tlearn: 0.1079568\ttotal: 706ms\tremaining: 8.12s\n",
      "80:\tlearn: 0.1072546\ttotal: 713ms\tremaining: 8.09s\n",
      "81:\tlearn: 0.1067594\ttotal: 724ms\tremaining: 8.1s\n",
      "82:\tlearn: 0.1060382\ttotal: 732ms\tremaining: 8.08s\n",
      "83:\tlearn: 0.1052264\ttotal: 739ms\tremaining: 8.06s\n",
      "84:\tlearn: 0.1046193\ttotal: 746ms\tremaining: 8.04s\n",
      "85:\tlearn: 0.1036857\ttotal: 759ms\tremaining: 8.06s\n",
      "86:\tlearn: 0.1030550\ttotal: 766ms\tremaining: 8.04s\n",
      "87:\tlearn: 0.1026072\ttotal: 773ms\tremaining: 8.01s\n",
      "88:\tlearn: 0.1020542\ttotal: 780ms\tremaining: 7.98s\n",
      "89:\tlearn: 0.1012797\ttotal: 787ms\tremaining: 7.95s\n",
      "90:\tlearn: 0.1008352\ttotal: 793ms\tremaining: 7.92s\n",
      "91:\tlearn: 0.1002393\ttotal: 800ms\tremaining: 7.9s\n",
      "92:\tlearn: 0.0993834\ttotal: 807ms\tremaining: 7.87s\n",
      "93:\tlearn: 0.0987722\ttotal: 815ms\tremaining: 7.85s\n",
      "94:\tlearn: 0.0983133\ttotal: 822ms\tremaining: 7.83s\n",
      "95:\tlearn: 0.0975835\ttotal: 830ms\tremaining: 7.81s\n",
      "96:\tlearn: 0.0969644\ttotal: 837ms\tremaining: 7.79s\n",
      "97:\tlearn: 0.0962684\ttotal: 850ms\tremaining: 7.82s\n",
      "98:\tlearn: 0.0959695\ttotal: 858ms\tremaining: 7.81s\n",
      "99:\tlearn: 0.0956295\ttotal: 865ms\tremaining: 7.78s\n",
      "100:\tlearn: 0.0952295\ttotal: 872ms\tremaining: 7.76s\n",
      "101:\tlearn: 0.0945555\ttotal: 882ms\tremaining: 7.76s\n",
      "102:\tlearn: 0.0940446\ttotal: 890ms\tremaining: 7.75s\n",
      "103:\tlearn: 0.0935782\ttotal: 898ms\tremaining: 7.73s\n",
      "104:\tlearn: 0.0929869\ttotal: 906ms\tremaining: 7.72s\n",
      "105:\tlearn: 0.0923123\ttotal: 912ms\tremaining: 7.69s\n",
      "106:\tlearn: 0.0919433\ttotal: 920ms\tremaining: 7.68s\n",
      "107:\tlearn: 0.0914339\ttotal: 926ms\tremaining: 7.65s\n",
      "108:\tlearn: 0.0910171\ttotal: 933ms\tremaining: 7.63s\n",
      "109:\tlearn: 0.0906575\ttotal: 940ms\tremaining: 7.6s\n",
      "110:\tlearn: 0.0899815\ttotal: 948ms\tremaining: 7.59s\n",
      "111:\tlearn: 0.0894191\ttotal: 955ms\tremaining: 7.57s\n",
      "112:\tlearn: 0.0889969\ttotal: 962ms\tremaining: 7.55s\n",
      "113:\tlearn: 0.0884454\ttotal: 969ms\tremaining: 7.53s\n",
      "114:\tlearn: 0.0878138\ttotal: 977ms\tremaining: 7.52s\n",
      "115:\tlearn: 0.0873387\ttotal: 985ms\tremaining: 7.5s\n",
      "116:\tlearn: 0.0869034\ttotal: 991ms\tremaining: 7.48s\n",
      "117:\tlearn: 0.0864972\ttotal: 998ms\tremaining: 7.46s\n",
      "118:\tlearn: 0.0859759\ttotal: 1s\tremaining: 7.43s\n",
      "119:\tlearn: 0.0855861\ttotal: 1.01s\tremaining: 7.42s\n",
      "120:\tlearn: 0.0852888\ttotal: 1.02s\tremaining: 7.39s\n",
      "121:\tlearn: 0.0849671\ttotal: 1.02s\tremaining: 7.38s\n",
      "122:\tlearn: 0.0846425\ttotal: 1.03s\tremaining: 7.35s\n",
      "123:\tlearn: 0.0843151\ttotal: 1.04s\tremaining: 7.33s\n",
      "124:\tlearn: 0.0835987\ttotal: 1.04s\tremaining: 7.3s\n",
      "125:\tlearn: 0.0830621\ttotal: 1.05s\tremaining: 7.28s\n",
      "126:\tlearn: 0.0826348\ttotal: 1.06s\tremaining: 7.26s\n",
      "127:\tlearn: 0.0822781\ttotal: 1.06s\tremaining: 7.24s\n",
      "128:\tlearn: 0.0818385\ttotal: 1.07s\tremaining: 7.23s\n",
      "129:\tlearn: 0.0814457\ttotal: 1.08s\tremaining: 7.22s\n",
      "130:\tlearn: 0.0810433\ttotal: 1.09s\tremaining: 7.21s\n",
      "131:\tlearn: 0.0807269\ttotal: 1.09s\tremaining: 7.19s\n",
      "132:\tlearn: 0.0802268\ttotal: 1.1s\tremaining: 7.2s\n",
      "133:\tlearn: 0.0798407\ttotal: 1.11s\tremaining: 7.19s\n",
      "134:\tlearn: 0.0795880\ttotal: 1.12s\tremaining: 7.18s\n",
      "135:\tlearn: 0.0790761\ttotal: 1.13s\tremaining: 7.17s\n",
      "136:\tlearn: 0.0788840\ttotal: 1.14s\tremaining: 7.16s\n",
      "137:\tlearn: 0.0785593\ttotal: 1.14s\tremaining: 7.15s\n",
      "138:\tlearn: 0.0782838\ttotal: 1.15s\tremaining: 7.13s\n",
      "139:\tlearn: 0.0780411\ttotal: 1.16s\tremaining: 7.11s\n",
      "140:\tlearn: 0.0779062\ttotal: 1.16s\tremaining: 7.09s\n",
      "141:\tlearn: 0.0774550\ttotal: 1.17s\tremaining: 7.08s\n",
      "142:\tlearn: 0.0769912\ttotal: 1.18s\tremaining: 7.08s\n",
      "143:\tlearn: 0.0767151\ttotal: 1.19s\tremaining: 7.08s\n",
      "144:\tlearn: 0.0764436\ttotal: 1.2s\tremaining: 7.09s\n",
      "145:\tlearn: 0.0761451\ttotal: 1.21s\tremaining: 7.08s\n",
      "146:\tlearn: 0.0757793\ttotal: 1.22s\tremaining: 7.06s\n",
      "147:\tlearn: 0.0754373\ttotal: 1.23s\tremaining: 7.06s\n",
      "148:\tlearn: 0.0751246\ttotal: 1.24s\tremaining: 7.06s\n",
      "149:\tlearn: 0.0747472\ttotal: 1.24s\tremaining: 7.04s\n",
      "150:\tlearn: 0.0744487\ttotal: 1.25s\tremaining: 7.03s\n",
      "151:\tlearn: 0.0742952\ttotal: 1.26s\tremaining: 7.01s\n",
      "152:\tlearn: 0.0739904\ttotal: 1.26s\tremaining: 6.99s\n",
      "153:\tlearn: 0.0736901\ttotal: 1.27s\tremaining: 6.98s\n",
      "154:\tlearn: 0.0733363\ttotal: 1.28s\tremaining: 6.96s\n",
      "155:\tlearn: 0.0729556\ttotal: 1.28s\tremaining: 6.94s\n",
      "156:\tlearn: 0.0727588\ttotal: 1.29s\tremaining: 6.92s\n",
      "157:\tlearn: 0.0726559\ttotal: 1.3s\tremaining: 6.91s\n",
      "158:\tlearn: 0.0722450\ttotal: 1.3s\tremaining: 6.9s\n",
      "159:\tlearn: 0.0717011\ttotal: 1.31s\tremaining: 6.9s\n",
      "160:\tlearn: 0.0713205\ttotal: 1.32s\tremaining: 6.89s\n",
      "161:\tlearn: 0.0709503\ttotal: 1.33s\tremaining: 6.89s\n",
      "162:\tlearn: 0.0707308\ttotal: 1.34s\tremaining: 6.89s\n",
      "163:\tlearn: 0.0703207\ttotal: 1.35s\tremaining: 6.91s\n",
      "164:\tlearn: 0.0700072\ttotal: 1.36s\tremaining: 6.9s\n",
      "165:\tlearn: 0.0698143\ttotal: 1.37s\tremaining: 6.89s\n",
      "166:\tlearn: 0.0696149\ttotal: 1.38s\tremaining: 6.89s\n",
      "167:\tlearn: 0.0694438\ttotal: 1.39s\tremaining: 6.87s\n",
      "168:\tlearn: 0.0692117\ttotal: 1.4s\tremaining: 6.87s\n",
      "169:\tlearn: 0.0687334\ttotal: 1.41s\tremaining: 6.86s\n",
      "170:\tlearn: 0.0686043\ttotal: 1.41s\tremaining: 6.86s\n",
      "171:\tlearn: 0.0683621\ttotal: 1.43s\tremaining: 6.87s\n",
      "172:\tlearn: 0.0681020\ttotal: 1.44s\tremaining: 6.86s\n",
      "173:\tlearn: 0.0678729\ttotal: 1.44s\tremaining: 6.86s\n",
      "174:\tlearn: 0.0676368\ttotal: 1.45s\tremaining: 6.85s\n",
      "175:\tlearn: 0.0674252\ttotal: 1.46s\tremaining: 6.84s\n",
      "176:\tlearn: 0.0671602\ttotal: 1.47s\tremaining: 6.83s\n",
      "177:\tlearn: 0.0666802\ttotal: 1.48s\tremaining: 6.82s\n",
      "178:\tlearn: 0.0665792\ttotal: 1.48s\tremaining: 6.81s\n",
      "179:\tlearn: 0.0662233\ttotal: 1.49s\tremaining: 6.8s\n",
      "180:\tlearn: 0.0660599\ttotal: 1.5s\tremaining: 6.79s\n",
      "181:\tlearn: 0.0657791\ttotal: 1.51s\tremaining: 6.79s\n",
      "182:\tlearn: 0.0655665\ttotal: 1.52s\tremaining: 6.78s\n",
      "183:\tlearn: 0.0652809\ttotal: 1.53s\tremaining: 6.78s\n",
      "184:\tlearn: 0.0650673\ttotal: 1.54s\tremaining: 6.77s\n",
      "185:\tlearn: 0.0649378\ttotal: 1.54s\tremaining: 6.75s\n",
      "186:\tlearn: 0.0647401\ttotal: 1.55s\tremaining: 6.75s\n",
      "187:\tlearn: 0.0646073\ttotal: 1.56s\tremaining: 6.75s\n",
      "188:\tlearn: 0.0644332\ttotal: 1.57s\tremaining: 6.74s\n",
      "189:\tlearn: 0.0642187\ttotal: 1.58s\tremaining: 6.73s\n",
      "190:\tlearn: 0.0640079\ttotal: 1.59s\tremaining: 6.73s\n",
      "191:\tlearn: 0.0638732\ttotal: 1.6s\tremaining: 6.74s\n",
      "192:\tlearn: 0.0637665\ttotal: 1.61s\tremaining: 6.73s\n",
      "193:\tlearn: 0.0634946\ttotal: 1.62s\tremaining: 6.72s\n",
      "194:\tlearn: 0.0632625\ttotal: 1.63s\tremaining: 6.72s\n",
      "195:\tlearn: 0.0629712\ttotal: 1.64s\tremaining: 6.72s\n",
      "196:\tlearn: 0.0627005\ttotal: 1.68s\tremaining: 6.86s\n",
      "197:\tlearn: 0.0625307\ttotal: 1.69s\tremaining: 6.86s\n",
      "198:\tlearn: 0.0624031\ttotal: 1.7s\tremaining: 6.86s\n",
      "199:\tlearn: 0.0622062\ttotal: 1.73s\tremaining: 6.9s\n",
      "200:\tlearn: 0.0620851\ttotal: 1.73s\tremaining: 6.89s\n",
      "201:\tlearn: 0.0618968\ttotal: 1.74s\tremaining: 6.88s\n",
      "202:\tlearn: 0.0616066\ttotal: 1.75s\tremaining: 6.87s\n",
      "203:\tlearn: 0.0612476\ttotal: 1.76s\tremaining: 6.86s\n",
      "204:\tlearn: 0.0609065\ttotal: 1.77s\tremaining: 6.85s\n",
      "205:\tlearn: 0.0607060\ttotal: 1.78s\tremaining: 6.85s\n",
      "206:\tlearn: 0.0603620\ttotal: 1.79s\tremaining: 6.84s\n",
      "207:\tlearn: 0.0600339\ttotal: 1.79s\tremaining: 6.83s\n",
      "208:\tlearn: 0.0597115\ttotal: 1.8s\tremaining: 6.82s\n",
      "209:\tlearn: 0.0595524\ttotal: 1.81s\tremaining: 6.82s\n",
      "210:\tlearn: 0.0592646\ttotal: 1.82s\tremaining: 6.8s\n",
      "211:\tlearn: 0.0591098\ttotal: 1.83s\tremaining: 6.8s\n",
      "212:\tlearn: 0.0589338\ttotal: 1.84s\tremaining: 6.79s\n",
      "213:\tlearn: 0.0588083\ttotal: 1.85s\tremaining: 6.79s\n",
      "214:\tlearn: 0.0583807\ttotal: 1.87s\tremaining: 6.82s\n",
      "215:\tlearn: 0.0582185\ttotal: 1.88s\tremaining: 6.82s\n",
      "216:\tlearn: 0.0580955\ttotal: 1.89s\tremaining: 6.83s\n",
      "217:\tlearn: 0.0579042\ttotal: 1.91s\tremaining: 6.84s\n",
      "218:\tlearn: 0.0577922\ttotal: 1.92s\tremaining: 6.85s\n",
      "219:\tlearn: 0.0575871\ttotal: 1.94s\tremaining: 6.86s\n",
      "220:\tlearn: 0.0573936\ttotal: 1.95s\tremaining: 6.86s\n",
      "221:\tlearn: 0.0571611\ttotal: 1.96s\tremaining: 6.86s\n",
      "222:\tlearn: 0.0570404\ttotal: 1.97s\tremaining: 6.87s\n",
      "223:\tlearn: 0.0566737\ttotal: 1.98s\tremaining: 6.87s\n",
      "224:\tlearn: 0.0564822\ttotal: 1.99s\tremaining: 6.87s\n",
      "225:\tlearn: 0.0563081\ttotal: 2s\tremaining: 6.87s\n",
      "226:\tlearn: 0.0561767\ttotal: 2.02s\tremaining: 6.87s\n",
      "227:\tlearn: 0.0560176\ttotal: 2.03s\tremaining: 6.87s\n",
      "228:\tlearn: 0.0559163\ttotal: 2.04s\tremaining: 6.88s\n",
      "229:\tlearn: 0.0557728\ttotal: 2.05s\tremaining: 6.87s\n",
      "230:\tlearn: 0.0555618\ttotal: 2.06s\tremaining: 6.86s\n",
      "231:\tlearn: 0.0554567\ttotal: 2.07s\tremaining: 6.85s\n",
      "232:\tlearn: 0.0553632\ttotal: 2.08s\tremaining: 6.84s\n",
      "233:\tlearn: 0.0552788\ttotal: 2.09s\tremaining: 6.83s\n",
      "234:\tlearn: 0.0551037\ttotal: 2.1s\tremaining: 6.83s\n",
      "235:\tlearn: 0.0549453\ttotal: 2.11s\tremaining: 6.82s\n",
      "236:\tlearn: 0.0547480\ttotal: 2.12s\tremaining: 6.81s\n",
      "237:\tlearn: 0.0545633\ttotal: 2.13s\tremaining: 6.82s\n",
      "238:\tlearn: 0.0544563\ttotal: 2.14s\tremaining: 6.81s\n",
      "239:\tlearn: 0.0543651\ttotal: 2.16s\tremaining: 6.83s\n",
      "240:\tlearn: 0.0541563\ttotal: 2.17s\tremaining: 6.82s\n",
      "241:\tlearn: 0.0539971\ttotal: 2.18s\tremaining: 6.82s\n",
      "242:\tlearn: 0.0538466\ttotal: 2.19s\tremaining: 6.81s\n",
      "243:\tlearn: 0.0537097\ttotal: 2.19s\tremaining: 6.8s\n",
      "244:\tlearn: 0.0535291\ttotal: 2.22s\tremaining: 6.83s\n",
      "245:\tlearn: 0.0534381\ttotal: 2.23s\tremaining: 6.82s\n",
      "246:\tlearn: 0.0532056\ttotal: 2.24s\tremaining: 6.83s\n",
      "247:\tlearn: 0.0530561\ttotal: 2.25s\tremaining: 6.82s\n",
      "248:\tlearn: 0.0528998\ttotal: 2.26s\tremaining: 6.82s\n",
      "249:\tlearn: 0.0527716\ttotal: 2.27s\tremaining: 6.81s\n",
      "250:\tlearn: 0.0526108\ttotal: 2.28s\tremaining: 6.81s\n",
      "251:\tlearn: 0.0523960\ttotal: 2.29s\tremaining: 6.81s\n",
      "252:\tlearn: 0.0522646\ttotal: 2.3s\tremaining: 6.8s\n",
      "253:\tlearn: 0.0521412\ttotal: 2.32s\tremaining: 6.82s\n",
      "254:\tlearn: 0.0519578\ttotal: 2.33s\tremaining: 6.81s\n",
      "255:\tlearn: 0.0515458\ttotal: 2.34s\tremaining: 6.79s\n",
      "256:\tlearn: 0.0513215\ttotal: 2.35s\tremaining: 6.78s\n",
      "257:\tlearn: 0.0511221\ttotal: 2.36s\tremaining: 6.79s\n",
      "258:\tlearn: 0.0508916\ttotal: 2.37s\tremaining: 6.78s\n",
      "259:\tlearn: 0.0506139\ttotal: 2.38s\tremaining: 6.78s\n",
      "260:\tlearn: 0.0505011\ttotal: 2.39s\tremaining: 6.77s\n",
      "261:\tlearn: 0.0503183\ttotal: 2.4s\tremaining: 6.76s\n",
      "262:\tlearn: 0.0502277\ttotal: 2.41s\tremaining: 6.75s\n",
      "263:\tlearn: 0.0500186\ttotal: 2.42s\tremaining: 6.74s\n",
      "264:\tlearn: 0.0497886\ttotal: 2.43s\tremaining: 6.74s\n",
      "265:\tlearn: 0.0496278\ttotal: 2.44s\tremaining: 6.73s\n",
      "266:\tlearn: 0.0494926\ttotal: 2.45s\tremaining: 6.73s\n",
      "267:\tlearn: 0.0493832\ttotal: 2.46s\tremaining: 6.72s\n",
      "268:\tlearn: 0.0492985\ttotal: 2.47s\tremaining: 6.71s\n",
      "269:\tlearn: 0.0490804\ttotal: 2.48s\tremaining: 6.7s\n",
      "270:\tlearn: 0.0489032\ttotal: 2.48s\tremaining: 6.68s\n",
      "271:\tlearn: 0.0486724\ttotal: 2.49s\tremaining: 6.67s\n",
      "272:\tlearn: 0.0484827\ttotal: 2.5s\tremaining: 6.65s\n",
      "273:\tlearn: 0.0483565\ttotal: 2.5s\tremaining: 6.64s\n",
      "274:\tlearn: 0.0481004\ttotal: 2.51s\tremaining: 6.62s\n",
      "275:\tlearn: 0.0479927\ttotal: 2.52s\tremaining: 6.61s\n",
      "276:\tlearn: 0.0478053\ttotal: 2.53s\tremaining: 6.59s\n",
      "277:\tlearn: 0.0476451\ttotal: 2.53s\tremaining: 6.58s\n",
      "278:\tlearn: 0.0474961\ttotal: 2.54s\tremaining: 6.57s\n",
      "279:\tlearn: 0.0472851\ttotal: 2.55s\tremaining: 6.55s\n",
      "280:\tlearn: 0.0470646\ttotal: 2.56s\tremaining: 6.54s\n",
      "281:\tlearn: 0.0469609\ttotal: 2.56s\tremaining: 6.53s\n",
      "282:\tlearn: 0.0468170\ttotal: 2.57s\tremaining: 6.51s\n",
      "283:\tlearn: 0.0467061\ttotal: 2.58s\tremaining: 6.5s\n",
      "284:\tlearn: 0.0466482\ttotal: 2.58s\tremaining: 6.49s\n",
      "285:\tlearn: 0.0465460\ttotal: 2.59s\tremaining: 6.48s\n",
      "286:\tlearn: 0.0464435\ttotal: 2.6s\tremaining: 6.46s\n",
      "287:\tlearn: 0.0462751\ttotal: 2.61s\tremaining: 6.45s\n",
      "288:\tlearn: 0.0461533\ttotal: 2.62s\tremaining: 6.44s\n",
      "289:\tlearn: 0.0459726\ttotal: 2.63s\tremaining: 6.43s\n",
      "290:\tlearn: 0.0458425\ttotal: 2.64s\tremaining: 6.43s\n",
      "291:\tlearn: 0.0456524\ttotal: 2.65s\tremaining: 6.42s\n",
      "292:\tlearn: 0.0454957\ttotal: 2.66s\tremaining: 6.41s\n",
      "293:\tlearn: 0.0453602\ttotal: 2.67s\tremaining: 6.4s\n",
      "294:\tlearn: 0.0452376\ttotal: 2.68s\tremaining: 6.4s\n",
      "295:\tlearn: 0.0451752\ttotal: 2.68s\tremaining: 6.38s\n",
      "296:\tlearn: 0.0450820\ttotal: 2.69s\tremaining: 6.37s\n",
      "297:\tlearn: 0.0449784\ttotal: 2.7s\tremaining: 6.36s\n",
      "298:\tlearn: 0.0448996\ttotal: 2.71s\tremaining: 6.34s\n",
      "299:\tlearn: 0.0446299\ttotal: 2.71s\tremaining: 6.33s\n",
      "300:\tlearn: 0.0444613\ttotal: 2.72s\tremaining: 6.32s\n",
      "301:\tlearn: 0.0441823\ttotal: 2.73s\tremaining: 6.3s\n",
      "302:\tlearn: 0.0441211\ttotal: 2.73s\tremaining: 6.29s\n",
      "303:\tlearn: 0.0438802\ttotal: 2.74s\tremaining: 6.27s\n",
      "304:\tlearn: 0.0437109\ttotal: 2.75s\tremaining: 6.25s\n",
      "305:\tlearn: 0.0435734\ttotal: 2.75s\tremaining: 6.25s\n",
      "306:\tlearn: 0.0435237\ttotal: 2.76s\tremaining: 6.23s\n",
      "307:\tlearn: 0.0433986\ttotal: 2.77s\tremaining: 6.22s\n",
      "308:\tlearn: 0.0433182\ttotal: 2.77s\tremaining: 6.2s\n",
      "309:\tlearn: 0.0432190\ttotal: 2.78s\tremaining: 6.19s\n",
      "310:\tlearn: 0.0430007\ttotal: 2.79s\tremaining: 6.17s\n",
      "311:\tlearn: 0.0428802\ttotal: 2.79s\tremaining: 6.16s\n",
      "312:\tlearn: 0.0427554\ttotal: 2.8s\tremaining: 6.15s\n",
      "313:\tlearn: 0.0426370\ttotal: 2.81s\tremaining: 6.15s\n",
      "314:\tlearn: 0.0425420\ttotal: 2.82s\tremaining: 6.14s\n",
      "315:\tlearn: 0.0423568\ttotal: 2.83s\tremaining: 6.12s\n",
      "316:\tlearn: 0.0422544\ttotal: 2.84s\tremaining: 6.11s\n",
      "317:\tlearn: 0.0421406\ttotal: 2.84s\tremaining: 6.1s\n",
      "318:\tlearn: 0.0420714\ttotal: 2.85s\tremaining: 6.09s\n",
      "319:\tlearn: 0.0419913\ttotal: 2.86s\tremaining: 6.08s\n",
      "320:\tlearn: 0.0419283\ttotal: 2.87s\tremaining: 6.07s\n",
      "321:\tlearn: 0.0417459\ttotal: 2.88s\tremaining: 6.06s\n",
      "322:\tlearn: 0.0416452\ttotal: 2.88s\tremaining: 6.04s\n",
      "323:\tlearn: 0.0415218\ttotal: 2.89s\tremaining: 6.03s\n",
      "324:\tlearn: 0.0413860\ttotal: 2.9s\tremaining: 6.01s\n",
      "325:\tlearn: 0.0412101\ttotal: 2.9s\tremaining: 6s\n",
      "326:\tlearn: 0.0411209\ttotal: 2.91s\tremaining: 5.99s\n",
      "327:\tlearn: 0.0409810\ttotal: 2.92s\tremaining: 5.98s\n",
      "328:\tlearn: 0.0408449\ttotal: 2.93s\tremaining: 5.97s\n",
      "329:\tlearn: 0.0407286\ttotal: 2.94s\tremaining: 5.97s\n",
      "330:\tlearn: 0.0406474\ttotal: 2.95s\tremaining: 5.96s\n",
      "331:\tlearn: 0.0405224\ttotal: 2.96s\tremaining: 5.95s\n",
      "332:\tlearn: 0.0403660\ttotal: 2.96s\tremaining: 5.94s\n",
      "333:\tlearn: 0.0402932\ttotal: 2.97s\tremaining: 5.92s\n",
      "334:\tlearn: 0.0402095\ttotal: 2.98s\tremaining: 5.92s\n",
      "335:\tlearn: 0.0400596\ttotal: 2.99s\tremaining: 5.91s\n",
      "336:\tlearn: 0.0399921\ttotal: 3s\tremaining: 5.9s\n",
      "337:\tlearn: 0.0397763\ttotal: 3.01s\tremaining: 5.89s\n",
      "338:\tlearn: 0.0396171\ttotal: 3.02s\tremaining: 5.89s\n",
      "339:\tlearn: 0.0395185\ttotal: 3.03s\tremaining: 5.88s\n",
      "340:\tlearn: 0.0394052\ttotal: 3.04s\tremaining: 5.88s\n",
      "341:\tlearn: 0.0393453\ttotal: 3.05s\tremaining: 5.87s\n",
      "342:\tlearn: 0.0392261\ttotal: 3.06s\tremaining: 5.86s\n",
      "343:\tlearn: 0.0390461\ttotal: 3.07s\tremaining: 5.85s\n",
      "344:\tlearn: 0.0389244\ttotal: 3.08s\tremaining: 5.85s\n",
      "345:\tlearn: 0.0388321\ttotal: 3.09s\tremaining: 5.84s\n",
      "346:\tlearn: 0.0387320\ttotal: 3.11s\tremaining: 5.85s\n",
      "347:\tlearn: 0.0386246\ttotal: 3.12s\tremaining: 5.84s\n",
      "348:\tlearn: 0.0384693\ttotal: 3.13s\tremaining: 5.84s\n",
      "349:\tlearn: 0.0384113\ttotal: 3.14s\tremaining: 5.83s\n",
      "350:\tlearn: 0.0382867\ttotal: 3.15s\tremaining: 5.82s\n",
      "351:\tlearn: 0.0382066\ttotal: 3.15s\tremaining: 5.8s\n",
      "352:\tlearn: 0.0380366\ttotal: 3.16s\tremaining: 5.8s\n",
      "353:\tlearn: 0.0379286\ttotal: 3.17s\tremaining: 5.78s\n",
      "354:\tlearn: 0.0378464\ttotal: 3.18s\tremaining: 5.78s\n",
      "355:\tlearn: 0.0376854\ttotal: 3.19s\tremaining: 5.77s\n",
      "356:\tlearn: 0.0376183\ttotal: 3.2s\tremaining: 5.77s\n",
      "357:\tlearn: 0.0374535\ttotal: 3.22s\tremaining: 5.77s\n",
      "358:\tlearn: 0.0373881\ttotal: 3.23s\tremaining: 5.77s\n",
      "359:\tlearn: 0.0372653\ttotal: 3.24s\tremaining: 5.76s\n",
      "360:\tlearn: 0.0371916\ttotal: 3.25s\tremaining: 5.75s\n",
      "361:\tlearn: 0.0371369\ttotal: 3.26s\tremaining: 5.74s\n",
      "362:\tlearn: 0.0369689\ttotal: 3.26s\tremaining: 5.73s\n",
      "363:\tlearn: 0.0368836\ttotal: 3.28s\tremaining: 5.73s\n",
      "364:\tlearn: 0.0368310\ttotal: 3.29s\tremaining: 5.72s\n",
      "365:\tlearn: 0.0366969\ttotal: 3.3s\tremaining: 5.71s\n",
      "366:\tlearn: 0.0365639\ttotal: 3.3s\tremaining: 5.7s\n",
      "367:\tlearn: 0.0364924\ttotal: 3.31s\tremaining: 5.69s\n",
      "368:\tlearn: 0.0363684\ttotal: 3.32s\tremaining: 5.68s\n",
      "369:\tlearn: 0.0362786\ttotal: 3.33s\tremaining: 5.67s\n",
      "370:\tlearn: 0.0362212\ttotal: 3.34s\tremaining: 5.66s\n",
      "371:\tlearn: 0.0360493\ttotal: 3.35s\tremaining: 5.66s\n",
      "372:\tlearn: 0.0359925\ttotal: 3.36s\tremaining: 5.66s\n",
      "373:\tlearn: 0.0358878\ttotal: 3.37s\tremaining: 5.64s\n",
      "374:\tlearn: 0.0357791\ttotal: 3.38s\tremaining: 5.64s\n",
      "375:\tlearn: 0.0356776\ttotal: 3.39s\tremaining: 5.63s\n",
      "376:\tlearn: 0.0355997\ttotal: 3.41s\tremaining: 5.63s\n",
      "377:\tlearn: 0.0354568\ttotal: 3.41s\tremaining: 5.62s\n",
      "378:\tlearn: 0.0353959\ttotal: 3.42s\tremaining: 5.61s\n",
      "379:\tlearn: 0.0353121\ttotal: 3.43s\tremaining: 5.6s\n",
      "380:\tlearn: 0.0352504\ttotal: 3.44s\tremaining: 5.58s\n",
      "381:\tlearn: 0.0351546\ttotal: 3.44s\tremaining: 5.57s\n",
      "382:\tlearn: 0.0350816\ttotal: 3.45s\tremaining: 5.56s\n",
      "383:\tlearn: 0.0350050\ttotal: 3.46s\tremaining: 5.55s\n",
      "384:\tlearn: 0.0349443\ttotal: 3.47s\tremaining: 5.55s\n",
      "385:\tlearn: 0.0348897\ttotal: 3.48s\tremaining: 5.54s\n",
      "386:\tlearn: 0.0347536\ttotal: 3.5s\tremaining: 5.54s\n",
      "387:\tlearn: 0.0346892\ttotal: 3.51s\tremaining: 5.53s\n",
      "388:\tlearn: 0.0346072\ttotal: 3.52s\tremaining: 5.53s\n",
      "389:\tlearn: 0.0345576\ttotal: 3.52s\tremaining: 5.51s\n",
      "390:\tlearn: 0.0345130\ttotal: 3.53s\tremaining: 5.5s\n",
      "391:\tlearn: 0.0344122\ttotal: 3.54s\tremaining: 5.49s\n",
      "392:\tlearn: 0.0342283\ttotal: 3.55s\tremaining: 5.48s\n",
      "393:\tlearn: 0.0340955\ttotal: 3.56s\tremaining: 5.47s\n",
      "394:\tlearn: 0.0339456\ttotal: 3.57s\tremaining: 5.46s\n",
      "395:\tlearn: 0.0338899\ttotal: 3.57s\tremaining: 5.45s\n",
      "396:\tlearn: 0.0338232\ttotal: 3.58s\tremaining: 5.44s\n",
      "397:\tlearn: 0.0337468\ttotal: 3.59s\tremaining: 5.44s\n",
      "398:\tlearn: 0.0336584\ttotal: 3.6s\tremaining: 5.43s\n",
      "399:\tlearn: 0.0335170\ttotal: 3.61s\tremaining: 5.42s\n",
      "400:\tlearn: 0.0333607\ttotal: 3.62s\tremaining: 5.41s\n",
      "401:\tlearn: 0.0332658\ttotal: 3.63s\tremaining: 5.4s\n",
      "402:\tlearn: 0.0331764\ttotal: 3.64s\tremaining: 5.39s\n",
      "403:\tlearn: 0.0331111\ttotal: 3.65s\tremaining: 5.38s\n",
      "404:\tlearn: 0.0330692\ttotal: 3.66s\tremaining: 5.38s\n",
      "405:\tlearn: 0.0329779\ttotal: 3.67s\tremaining: 5.37s\n",
      "406:\tlearn: 0.0328790\ttotal: 3.68s\tremaining: 5.37s\n",
      "407:\tlearn: 0.0327282\ttotal: 3.69s\tremaining: 5.36s\n",
      "408:\tlearn: 0.0326566\ttotal: 3.71s\tremaining: 5.35s\n",
      "409:\tlearn: 0.0325017\ttotal: 3.71s\tremaining: 5.34s\n",
      "410:\tlearn: 0.0324465\ttotal: 3.72s\tremaining: 5.34s\n",
      "411:\tlearn: 0.0324015\ttotal: 3.73s\tremaining: 5.33s\n",
      "412:\tlearn: 0.0323661\ttotal: 3.74s\tremaining: 5.32s\n",
      "413:\tlearn: 0.0323069\ttotal: 3.75s\tremaining: 5.31s\n",
      "414:\tlearn: 0.0322208\ttotal: 3.76s\tremaining: 5.3s\n",
      "415:\tlearn: 0.0321269\ttotal: 3.77s\tremaining: 5.3s\n",
      "416:\tlearn: 0.0320926\ttotal: 3.8s\tremaining: 5.32s\n",
      "417:\tlearn: 0.0320147\ttotal: 3.81s\tremaining: 5.31s\n",
      "418:\tlearn: 0.0319454\ttotal: 3.82s\tremaining: 5.3s\n",
      "419:\tlearn: 0.0318476\ttotal: 3.83s\tremaining: 5.29s\n",
      "420:\tlearn: 0.0317969\ttotal: 3.84s\tremaining: 5.28s\n",
      "421:\tlearn: 0.0316533\ttotal: 3.85s\tremaining: 5.27s\n",
      "422:\tlearn: 0.0315100\ttotal: 3.86s\tremaining: 5.26s\n",
      "423:\tlearn: 0.0314493\ttotal: 3.87s\tremaining: 5.25s\n",
      "424:\tlearn: 0.0313316\ttotal: 3.88s\tremaining: 5.25s\n",
      "425:\tlearn: 0.0312544\ttotal: 3.89s\tremaining: 5.24s\n",
      "426:\tlearn: 0.0311516\ttotal: 3.9s\tremaining: 5.23s\n",
      "427:\tlearn: 0.0311226\ttotal: 3.91s\tremaining: 5.22s\n",
      "428:\tlearn: 0.0310670\ttotal: 3.92s\tremaining: 5.21s\n",
      "429:\tlearn: 0.0310162\ttotal: 3.92s\tremaining: 5.2s\n",
      "430:\tlearn: 0.0309439\ttotal: 3.93s\tremaining: 5.19s\n",
      "431:\tlearn: 0.0308559\ttotal: 3.94s\tremaining: 5.18s\n",
      "432:\tlearn: 0.0307997\ttotal: 3.95s\tremaining: 5.17s\n",
      "433:\tlearn: 0.0307128\ttotal: 3.96s\tremaining: 5.16s\n",
      "434:\tlearn: 0.0306653\ttotal: 3.97s\tremaining: 5.15s\n",
      "435:\tlearn: 0.0305609\ttotal: 3.97s\tremaining: 5.14s\n",
      "436:\tlearn: 0.0304485\ttotal: 3.98s\tremaining: 5.13s\n",
      "437:\tlearn: 0.0303463\ttotal: 3.99s\tremaining: 5.12s\n",
      "438:\tlearn: 0.0303033\ttotal: 4s\tremaining: 5.11s\n",
      "439:\tlearn: 0.0301903\ttotal: 4.01s\tremaining: 5.11s\n",
      "440:\tlearn: 0.0301486\ttotal: 4.02s\tremaining: 5.09s\n",
      "441:\tlearn: 0.0301111\ttotal: 4.03s\tremaining: 5.08s\n",
      "442:\tlearn: 0.0300337\ttotal: 4.03s\tremaining: 5.07s\n",
      "443:\tlearn: 0.0299623\ttotal: 4.04s\tremaining: 5.06s\n",
      "444:\tlearn: 0.0298643\ttotal: 4.05s\tremaining: 5.06s\n",
      "445:\tlearn: 0.0298231\ttotal: 4.06s\tremaining: 5.05s\n",
      "446:\tlearn: 0.0297819\ttotal: 4.07s\tremaining: 5.04s\n",
      "447:\tlearn: 0.0297372\ttotal: 4.08s\tremaining: 5.03s\n",
      "448:\tlearn: 0.0296766\ttotal: 4.09s\tremaining: 5.02s\n",
      "449:\tlearn: 0.0295770\ttotal: 4.1s\tremaining: 5.01s\n",
      "450:\tlearn: 0.0294741\ttotal: 4.11s\tremaining: 5.01s\n",
      "451:\tlearn: 0.0294093\ttotal: 4.13s\tremaining: 5s\n",
      "452:\tlearn: 0.0293615\ttotal: 4.14s\tremaining: 5s\n",
      "453:\tlearn: 0.0293023\ttotal: 4.17s\tremaining: 5.02s\n",
      "454:\tlearn: 0.0292336\ttotal: 4.2s\tremaining: 5.03s\n",
      "455:\tlearn: 0.0291538\ttotal: 4.21s\tremaining: 5.02s\n",
      "456:\tlearn: 0.0291157\ttotal: 4.21s\tremaining: 5.01s\n",
      "457:\tlearn: 0.0290710\ttotal: 4.22s\tremaining: 5s\n",
      "458:\tlearn: 0.0289523\ttotal: 4.23s\tremaining: 4.99s\n",
      "459:\tlearn: 0.0288885\ttotal: 4.24s\tremaining: 4.98s\n",
      "460:\tlearn: 0.0288512\ttotal: 4.25s\tremaining: 4.97s\n",
      "461:\tlearn: 0.0287423\ttotal: 4.26s\tremaining: 4.96s\n",
      "462:\tlearn: 0.0286929\ttotal: 4.27s\tremaining: 4.95s\n",
      "463:\tlearn: 0.0286354\ttotal: 4.28s\tremaining: 4.94s\n",
      "464:\tlearn: 0.0285769\ttotal: 4.29s\tremaining: 4.93s\n",
      "465:\tlearn: 0.0285122\ttotal: 4.29s\tremaining: 4.92s\n",
      "466:\tlearn: 0.0284237\ttotal: 4.3s\tremaining: 4.91s\n",
      "467:\tlearn: 0.0283643\ttotal: 4.31s\tremaining: 4.9s\n",
      "468:\tlearn: 0.0283296\ttotal: 4.32s\tremaining: 4.89s\n",
      "469:\tlearn: 0.0282847\ttotal: 4.32s\tremaining: 4.88s\n",
      "470:\tlearn: 0.0282302\ttotal: 4.33s\tremaining: 4.87s\n",
      "471:\tlearn: 0.0281221\ttotal: 4.34s\tremaining: 4.86s\n",
      "472:\tlearn: 0.0280813\ttotal: 4.35s\tremaining: 4.85s\n",
      "473:\tlearn: 0.0280324\ttotal: 4.36s\tremaining: 4.84s\n",
      "474:\tlearn: 0.0279670\ttotal: 4.37s\tremaining: 4.83s\n",
      "475:\tlearn: 0.0279345\ttotal: 4.37s\tremaining: 4.82s\n",
      "476:\tlearn: 0.0278606\ttotal: 4.39s\tremaining: 4.81s\n",
      "477:\tlearn: 0.0278179\ttotal: 4.4s\tremaining: 4.8s\n",
      "478:\tlearn: 0.0277783\ttotal: 4.41s\tremaining: 4.79s\n",
      "479:\tlearn: 0.0277333\ttotal: 4.42s\tremaining: 4.78s\n",
      "480:\tlearn: 0.0276983\ttotal: 4.42s\tremaining: 4.77s\n",
      "481:\tlearn: 0.0276836\ttotal: 4.43s\tremaining: 4.76s\n",
      "482:\tlearn: 0.0276288\ttotal: 4.44s\tremaining: 4.75s\n",
      "483:\tlearn: 0.0275557\ttotal: 4.45s\tremaining: 4.74s\n",
      "484:\tlearn: 0.0274985\ttotal: 4.45s\tremaining: 4.73s\n",
      "485:\tlearn: 0.0274025\ttotal: 4.46s\tremaining: 4.72s\n",
      "486:\tlearn: 0.0273631\ttotal: 4.47s\tremaining: 4.7s\n",
      "487:\tlearn: 0.0272600\ttotal: 4.47s\tremaining: 4.69s\n",
      "488:\tlearn: 0.0272016\ttotal: 4.49s\tremaining: 4.7s\n",
      "489:\tlearn: 0.0271630\ttotal: 4.5s\tremaining: 4.69s\n",
      "490:\tlearn: 0.0271031\ttotal: 4.51s\tremaining: 4.68s\n",
      "491:\tlearn: 0.0270313\ttotal: 4.52s\tremaining: 4.67s\n",
      "492:\tlearn: 0.0269528\ttotal: 4.53s\tremaining: 4.66s\n",
      "493:\tlearn: 0.0268869\ttotal: 4.54s\tremaining: 4.64s\n",
      "494:\tlearn: 0.0268490\ttotal: 4.54s\tremaining: 4.63s\n",
      "495:\tlearn: 0.0267976\ttotal: 4.55s\tremaining: 4.63s\n",
      "496:\tlearn: 0.0267272\ttotal: 4.56s\tremaining: 4.61s\n",
      "497:\tlearn: 0.0266880\ttotal: 4.57s\tremaining: 4.6s\n",
      "498:\tlearn: 0.0265892\ttotal: 4.57s\tremaining: 4.59s\n",
      "499:\tlearn: 0.0265036\ttotal: 4.58s\tremaining: 4.58s\n",
      "500:\tlearn: 0.0264697\ttotal: 4.59s\tremaining: 4.57s\n",
      "501:\tlearn: 0.0263976\ttotal: 4.6s\tremaining: 4.56s\n",
      "502:\tlearn: 0.0263279\ttotal: 4.61s\tremaining: 4.55s\n",
      "503:\tlearn: 0.0262977\ttotal: 4.62s\tremaining: 4.54s\n",
      "504:\tlearn: 0.0262147\ttotal: 4.62s\tremaining: 4.53s\n",
      "505:\tlearn: 0.0261739\ttotal: 4.63s\tremaining: 4.52s\n",
      "506:\tlearn: 0.0261160\ttotal: 4.64s\tremaining: 4.51s\n",
      "507:\tlearn: 0.0260547\ttotal: 4.65s\tremaining: 4.5s\n",
      "508:\tlearn: 0.0259841\ttotal: 4.66s\tremaining: 4.5s\n",
      "509:\tlearn: 0.0259315\ttotal: 4.67s\tremaining: 4.49s\n",
      "510:\tlearn: 0.0258429\ttotal: 4.67s\tremaining: 4.47s\n",
      "511:\tlearn: 0.0257426\ttotal: 4.68s\tremaining: 4.46s\n",
      "512:\tlearn: 0.0256776\ttotal: 4.7s\tremaining: 4.46s\n",
      "513:\tlearn: 0.0256269\ttotal: 4.71s\tremaining: 4.45s\n",
      "514:\tlearn: 0.0255910\ttotal: 4.71s\tremaining: 4.44s\n",
      "515:\tlearn: 0.0255573\ttotal: 4.72s\tremaining: 4.43s\n",
      "516:\tlearn: 0.0254464\ttotal: 4.73s\tremaining: 4.42s\n",
      "517:\tlearn: 0.0254036\ttotal: 4.74s\tremaining: 4.41s\n",
      "518:\tlearn: 0.0253145\ttotal: 4.75s\tremaining: 4.4s\n",
      "519:\tlearn: 0.0252447\ttotal: 4.76s\tremaining: 4.39s\n",
      "520:\tlearn: 0.0252046\ttotal: 4.77s\tremaining: 4.38s\n",
      "521:\tlearn: 0.0251525\ttotal: 4.78s\tremaining: 4.38s\n",
      "522:\tlearn: 0.0250995\ttotal: 4.79s\tremaining: 4.37s\n",
      "523:\tlearn: 0.0250328\ttotal: 4.81s\tremaining: 4.37s\n",
      "524:\tlearn: 0.0249860\ttotal: 4.81s\tremaining: 4.36s\n",
      "525:\tlearn: 0.0249488\ttotal: 4.82s\tremaining: 4.34s\n",
      "526:\tlearn: 0.0248940\ttotal: 4.83s\tremaining: 4.33s\n",
      "527:\tlearn: 0.0248784\ttotal: 4.84s\tremaining: 4.32s\n",
      "528:\tlearn: 0.0248267\ttotal: 4.84s\tremaining: 4.31s\n",
      "529:\tlearn: 0.0247638\ttotal: 4.85s\tremaining: 4.3s\n",
      "530:\tlearn: 0.0247140\ttotal: 4.86s\tremaining: 4.29s\n",
      "531:\tlearn: 0.0246881\ttotal: 4.87s\tremaining: 4.29s\n",
      "532:\tlearn: 0.0246516\ttotal: 4.88s\tremaining: 4.27s\n",
      "533:\tlearn: 0.0245953\ttotal: 4.89s\tremaining: 4.26s\n",
      "534:\tlearn: 0.0245491\ttotal: 4.89s\tremaining: 4.25s\n",
      "535:\tlearn: 0.0244796\ttotal: 4.9s\tremaining: 4.24s\n",
      "536:\tlearn: 0.0244249\ttotal: 4.91s\tremaining: 4.23s\n",
      "537:\tlearn: 0.0243483\ttotal: 4.92s\tremaining: 4.22s\n",
      "538:\tlearn: 0.0243166\ttotal: 4.92s\tremaining: 4.21s\n",
      "539:\tlearn: 0.0242607\ttotal: 4.93s\tremaining: 4.2s\n",
      "540:\tlearn: 0.0242278\ttotal: 4.94s\tremaining: 4.19s\n",
      "541:\tlearn: 0.0241699\ttotal: 4.95s\tremaining: 4.18s\n",
      "542:\tlearn: 0.0241009\ttotal: 4.96s\tremaining: 4.17s\n",
      "543:\tlearn: 0.0240701\ttotal: 4.96s\tremaining: 4.16s\n",
      "544:\tlearn: 0.0240400\ttotal: 4.97s\tremaining: 4.15s\n",
      "545:\tlearn: 0.0239557\ttotal: 4.98s\tremaining: 4.14s\n",
      "546:\tlearn: 0.0239279\ttotal: 4.99s\tremaining: 4.13s\n",
      "547:\tlearn: 0.0238926\ttotal: 4.99s\tremaining: 4.12s\n",
      "548:\tlearn: 0.0238601\ttotal: 5s\tremaining: 4.11s\n",
      "549:\tlearn: 0.0237929\ttotal: 5.01s\tremaining: 4.1s\n",
      "550:\tlearn: 0.0237566\ttotal: 5.01s\tremaining: 4.08s\n",
      "551:\tlearn: 0.0237046\ttotal: 5.02s\tremaining: 4.08s\n",
      "552:\tlearn: 0.0236466\ttotal: 5.03s\tremaining: 4.06s\n",
      "553:\tlearn: 0.0236020\ttotal: 5.03s\tremaining: 4.05s\n",
      "554:\tlearn: 0.0235623\ttotal: 5.04s\tremaining: 4.04s\n",
      "555:\tlearn: 0.0234876\ttotal: 5.05s\tremaining: 4.03s\n",
      "556:\tlearn: 0.0234596\ttotal: 5.07s\tremaining: 4.03s\n",
      "557:\tlearn: 0.0234124\ttotal: 5.07s\tremaining: 4.02s\n",
      "558:\tlearn: 0.0233798\ttotal: 5.08s\tremaining: 4.01s\n",
      "559:\tlearn: 0.0233400\ttotal: 5.1s\tremaining: 4s\n",
      "560:\tlearn: 0.0233081\ttotal: 5.11s\tremaining: 4s\n",
      "561:\tlearn: 0.0232719\ttotal: 5.12s\tremaining: 3.99s\n",
      "562:\tlearn: 0.0232514\ttotal: 5.15s\tremaining: 4s\n",
      "563:\tlearn: 0.0231827\ttotal: 5.17s\tremaining: 3.99s\n",
      "564:\tlearn: 0.0231499\ttotal: 5.17s\tremaining: 3.98s\n",
      "565:\tlearn: 0.0231096\ttotal: 5.19s\tremaining: 3.98s\n",
      "566:\tlearn: 0.0230860\ttotal: 5.2s\tremaining: 3.97s\n",
      "567:\tlearn: 0.0230537\ttotal: 5.21s\tremaining: 3.96s\n",
      "568:\tlearn: 0.0230241\ttotal: 5.21s\tremaining: 3.95s\n",
      "569:\tlearn: 0.0229677\ttotal: 5.22s\tremaining: 3.94s\n",
      "570:\tlearn: 0.0229109\ttotal: 5.23s\tremaining: 3.93s\n",
      "571:\tlearn: 0.0228722\ttotal: 5.24s\tremaining: 3.92s\n",
      "572:\tlearn: 0.0228390\ttotal: 5.25s\tremaining: 3.91s\n",
      "573:\tlearn: 0.0227910\ttotal: 5.25s\tremaining: 3.9s\n",
      "574:\tlearn: 0.0227646\ttotal: 5.26s\tremaining: 3.89s\n",
      "575:\tlearn: 0.0227102\ttotal: 5.27s\tremaining: 3.88s\n",
      "576:\tlearn: 0.0226469\ttotal: 5.28s\tremaining: 3.87s\n",
      "577:\tlearn: 0.0226236\ttotal: 5.29s\tremaining: 3.86s\n",
      "578:\tlearn: 0.0225519\ttotal: 5.29s\tremaining: 3.85s\n",
      "579:\tlearn: 0.0224914\ttotal: 5.31s\tremaining: 3.84s\n",
      "580:\tlearn: 0.0224379\ttotal: 5.32s\tremaining: 3.83s\n",
      "581:\tlearn: 0.0224052\ttotal: 5.32s\tremaining: 3.82s\n",
      "582:\tlearn: 0.0223572\ttotal: 5.33s\tremaining: 3.81s\n",
      "583:\tlearn: 0.0223322\ttotal: 5.34s\tremaining: 3.8s\n",
      "584:\tlearn: 0.0222961\ttotal: 5.35s\tremaining: 3.79s\n",
      "585:\tlearn: 0.0222162\ttotal: 5.36s\tremaining: 3.79s\n",
      "586:\tlearn: 0.0221826\ttotal: 5.37s\tremaining: 3.78s\n",
      "587:\tlearn: 0.0221380\ttotal: 5.38s\tremaining: 3.77s\n",
      "588:\tlearn: 0.0220904\ttotal: 5.39s\tremaining: 3.76s\n",
      "589:\tlearn: 0.0220711\ttotal: 5.41s\tremaining: 3.76s\n",
      "590:\tlearn: 0.0220338\ttotal: 5.42s\tremaining: 3.75s\n",
      "591:\tlearn: 0.0219930\ttotal: 5.42s\tremaining: 3.74s\n",
      "592:\tlearn: 0.0219262\ttotal: 5.43s\tremaining: 3.73s\n",
      "593:\tlearn: 0.0219056\ttotal: 5.44s\tremaining: 3.72s\n",
      "594:\tlearn: 0.0218805\ttotal: 5.45s\tremaining: 3.71s\n",
      "595:\tlearn: 0.0218310\ttotal: 5.46s\tremaining: 3.7s\n",
      "596:\tlearn: 0.0217770\ttotal: 5.47s\tremaining: 3.69s\n",
      "597:\tlearn: 0.0216984\ttotal: 5.48s\tremaining: 3.68s\n",
      "598:\tlearn: 0.0216667\ttotal: 5.49s\tremaining: 3.67s\n",
      "599:\tlearn: 0.0216469\ttotal: 5.5s\tremaining: 3.66s\n",
      "600:\tlearn: 0.0215974\ttotal: 5.5s\tremaining: 3.65s\n",
      "601:\tlearn: 0.0215392\ttotal: 5.51s\tremaining: 3.65s\n",
      "602:\tlearn: 0.0215132\ttotal: 5.52s\tremaining: 3.64s\n",
      "603:\tlearn: 0.0214522\ttotal: 5.53s\tremaining: 3.63s\n",
      "604:\tlearn: 0.0214157\ttotal: 5.54s\tremaining: 3.62s\n",
      "605:\tlearn: 0.0213959\ttotal: 5.55s\tremaining: 3.61s\n",
      "606:\tlearn: 0.0213682\ttotal: 5.56s\tremaining: 3.6s\n",
      "607:\tlearn: 0.0213418\ttotal: 5.57s\tremaining: 3.59s\n",
      "608:\tlearn: 0.0212878\ttotal: 5.58s\tremaining: 3.58s\n",
      "609:\tlearn: 0.0212716\ttotal: 5.59s\tremaining: 3.58s\n",
      "610:\tlearn: 0.0212012\ttotal: 5.61s\tremaining: 3.57s\n",
      "611:\tlearn: 0.0211711\ttotal: 5.62s\tremaining: 3.56s\n",
      "612:\tlearn: 0.0211182\ttotal: 5.64s\tremaining: 3.56s\n",
      "613:\tlearn: 0.0210753\ttotal: 5.66s\tremaining: 3.56s\n",
      "614:\tlearn: 0.0210421\ttotal: 5.67s\tremaining: 3.55s\n",
      "615:\tlearn: 0.0209869\ttotal: 5.68s\tremaining: 3.54s\n",
      "616:\tlearn: 0.0209481\ttotal: 5.69s\tremaining: 3.53s\n",
      "617:\tlearn: 0.0208894\ttotal: 5.7s\tremaining: 3.52s\n",
      "618:\tlearn: 0.0208687\ttotal: 5.71s\tremaining: 3.51s\n",
      "619:\tlearn: 0.0208460\ttotal: 5.72s\tremaining: 3.51s\n",
      "620:\tlearn: 0.0207870\ttotal: 5.73s\tremaining: 3.5s\n",
      "621:\tlearn: 0.0207624\ttotal: 5.75s\tremaining: 3.49s\n",
      "622:\tlearn: 0.0207104\ttotal: 5.75s\tremaining: 3.48s\n",
      "623:\tlearn: 0.0206793\ttotal: 5.76s\tremaining: 3.47s\n",
      "624:\tlearn: 0.0206625\ttotal: 5.77s\tremaining: 3.46s\n",
      "625:\tlearn: 0.0206320\ttotal: 5.78s\tremaining: 3.45s\n",
      "626:\tlearn: 0.0205989\ttotal: 5.79s\tremaining: 3.44s\n",
      "627:\tlearn: 0.0205380\ttotal: 5.8s\tremaining: 3.43s\n",
      "628:\tlearn: 0.0204863\ttotal: 5.81s\tremaining: 3.43s\n",
      "629:\tlearn: 0.0204591\ttotal: 5.82s\tremaining: 3.42s\n",
      "630:\tlearn: 0.0204407\ttotal: 5.83s\tremaining: 3.41s\n",
      "631:\tlearn: 0.0203688\ttotal: 5.84s\tremaining: 3.4s\n",
      "632:\tlearn: 0.0203382\ttotal: 5.85s\tremaining: 3.39s\n",
      "633:\tlearn: 0.0203082\ttotal: 5.85s\tremaining: 3.38s\n",
      "634:\tlearn: 0.0202568\ttotal: 5.86s\tremaining: 3.37s\n",
      "635:\tlearn: 0.0202277\ttotal: 5.87s\tremaining: 3.36s\n",
      "636:\tlearn: 0.0201632\ttotal: 5.88s\tremaining: 3.35s\n",
      "637:\tlearn: 0.0200924\ttotal: 5.89s\tremaining: 3.34s\n",
      "638:\tlearn: 0.0200480\ttotal: 5.9s\tremaining: 3.33s\n",
      "639:\tlearn: 0.0200162\ttotal: 5.91s\tremaining: 3.32s\n",
      "640:\tlearn: 0.0199909\ttotal: 5.92s\tremaining: 3.31s\n",
      "641:\tlearn: 0.0199518\ttotal: 5.92s\tremaining: 3.3s\n",
      "642:\tlearn: 0.0199139\ttotal: 5.93s\tremaining: 3.29s\n",
      "643:\tlearn: 0.0198929\ttotal: 5.94s\tremaining: 3.28s\n",
      "644:\tlearn: 0.0198693\ttotal: 5.95s\tremaining: 3.27s\n",
      "645:\tlearn: 0.0198428\ttotal: 5.96s\tremaining: 3.26s\n",
      "646:\tlearn: 0.0198036\ttotal: 5.96s\tremaining: 3.25s\n",
      "647:\tlearn: 0.0197947\ttotal: 5.97s\tremaining: 3.24s\n",
      "648:\tlearn: 0.0197306\ttotal: 5.98s\tremaining: 3.23s\n",
      "649:\tlearn: 0.0197072\ttotal: 5.99s\tremaining: 3.23s\n",
      "650:\tlearn: 0.0196597\ttotal: 6.01s\tremaining: 3.22s\n",
      "651:\tlearn: 0.0196298\ttotal: 6.02s\tremaining: 3.21s\n",
      "652:\tlearn: 0.0195800\ttotal: 6.03s\tremaining: 3.2s\n",
      "653:\tlearn: 0.0195358\ttotal: 6.03s\tremaining: 3.19s\n",
      "654:\tlearn: 0.0195184\ttotal: 6.04s\tremaining: 3.18s\n",
      "655:\tlearn: 0.0194773\ttotal: 6.05s\tremaining: 3.17s\n",
      "656:\tlearn: 0.0194437\ttotal: 6.07s\tremaining: 3.17s\n",
      "657:\tlearn: 0.0194227\ttotal: 6.07s\tremaining: 3.16s\n",
      "658:\tlearn: 0.0193996\ttotal: 6.08s\tremaining: 3.15s\n",
      "659:\tlearn: 0.0193458\ttotal: 6.09s\tremaining: 3.14s\n",
      "660:\tlearn: 0.0193029\ttotal: 6.11s\tremaining: 3.13s\n",
      "661:\tlearn: 0.0192714\ttotal: 6.12s\tremaining: 3.12s\n",
      "662:\tlearn: 0.0192245\ttotal: 6.13s\tremaining: 3.12s\n",
      "663:\tlearn: 0.0192045\ttotal: 6.14s\tremaining: 3.11s\n",
      "664:\tlearn: 0.0191654\ttotal: 6.15s\tremaining: 3.1s\n",
      "665:\tlearn: 0.0191116\ttotal: 6.16s\tremaining: 3.09s\n",
      "666:\tlearn: 0.0190632\ttotal: 6.17s\tremaining: 3.08s\n",
      "667:\tlearn: 0.0190241\ttotal: 6.18s\tremaining: 3.07s\n",
      "668:\tlearn: 0.0190033\ttotal: 6.18s\tremaining: 3.06s\n",
      "669:\tlearn: 0.0189592\ttotal: 6.19s\tremaining: 3.05s\n",
      "670:\tlearn: 0.0189177\ttotal: 6.2s\tremaining: 3.04s\n",
      "671:\tlearn: 0.0189050\ttotal: 6.21s\tremaining: 3.03s\n",
      "672:\tlearn: 0.0188830\ttotal: 6.22s\tremaining: 3.02s\n",
      "673:\tlearn: 0.0188575\ttotal: 6.22s\tremaining: 3.01s\n",
      "674:\tlearn: 0.0188189\ttotal: 6.23s\tremaining: 3s\n",
      "675:\tlearn: 0.0187849\ttotal: 6.24s\tremaining: 2.99s\n",
      "676:\tlearn: 0.0187409\ttotal: 6.25s\tremaining: 2.98s\n",
      "677:\tlearn: 0.0187160\ttotal: 6.25s\tremaining: 2.97s\n",
      "678:\tlearn: 0.0187004\ttotal: 6.26s\tremaining: 2.96s\n",
      "679:\tlearn: 0.0186669\ttotal: 6.27s\tremaining: 2.95s\n",
      "680:\tlearn: 0.0186453\ttotal: 6.28s\tremaining: 2.94s\n",
      "681:\tlearn: 0.0186216\ttotal: 6.28s\tremaining: 2.93s\n",
      "682:\tlearn: 0.0186042\ttotal: 6.29s\tremaining: 2.92s\n",
      "683:\tlearn: 0.0185734\ttotal: 6.31s\tremaining: 2.91s\n",
      "684:\tlearn: 0.0185508\ttotal: 6.31s\tremaining: 2.9s\n",
      "685:\tlearn: 0.0185218\ttotal: 6.32s\tremaining: 2.89s\n",
      "686:\tlearn: 0.0185023\ttotal: 6.33s\tremaining: 2.88s\n",
      "687:\tlearn: 0.0184548\ttotal: 6.34s\tremaining: 2.88s\n",
      "688:\tlearn: 0.0184197\ttotal: 6.35s\tremaining: 2.87s\n",
      "689:\tlearn: 0.0183951\ttotal: 6.36s\tremaining: 2.86s\n",
      "690:\tlearn: 0.0183568\ttotal: 6.37s\tremaining: 2.85s\n",
      "691:\tlearn: 0.0183422\ttotal: 6.38s\tremaining: 2.84s\n",
      "692:\tlearn: 0.0183059\ttotal: 6.38s\tremaining: 2.83s\n",
      "693:\tlearn: 0.0182779\ttotal: 6.39s\tremaining: 2.82s\n",
      "694:\tlearn: 0.0182651\ttotal: 6.4s\tremaining: 2.81s\n",
      "695:\tlearn: 0.0182221\ttotal: 6.41s\tremaining: 2.8s\n",
      "696:\tlearn: 0.0181775\ttotal: 6.41s\tremaining: 2.79s\n",
      "697:\tlearn: 0.0181505\ttotal: 6.42s\tremaining: 2.78s\n",
      "698:\tlearn: 0.0181325\ttotal: 6.42s\tremaining: 2.77s\n",
      "699:\tlearn: 0.0181121\ttotal: 6.43s\tremaining: 2.76s\n",
      "700:\tlearn: 0.0180875\ttotal: 6.44s\tremaining: 2.75s\n",
      "701:\tlearn: 0.0180688\ttotal: 6.45s\tremaining: 2.74s\n",
      "702:\tlearn: 0.0180448\ttotal: 6.46s\tremaining: 2.73s\n",
      "703:\tlearn: 0.0180226\ttotal: 6.47s\tremaining: 2.72s\n",
      "704:\tlearn: 0.0180126\ttotal: 6.47s\tremaining: 2.71s\n",
      "705:\tlearn: 0.0179754\ttotal: 6.48s\tremaining: 2.7s\n",
      "706:\tlearn: 0.0179383\ttotal: 6.49s\tremaining: 2.69s\n",
      "707:\tlearn: 0.0179032\ttotal: 6.5s\tremaining: 2.68s\n",
      "708:\tlearn: 0.0178668\ttotal: 6.5s\tremaining: 2.67s\n",
      "709:\tlearn: 0.0178205\ttotal: 6.51s\tremaining: 2.66s\n",
      "710:\tlearn: 0.0178015\ttotal: 6.52s\tremaining: 2.65s\n",
      "711:\tlearn: 0.0177587\ttotal: 6.54s\tremaining: 2.64s\n",
      "712:\tlearn: 0.0177227\ttotal: 6.54s\tremaining: 2.63s\n",
      "713:\tlearn: 0.0177004\ttotal: 6.55s\tremaining: 2.62s\n",
      "714:\tlearn: 0.0176612\ttotal: 6.57s\tremaining: 2.62s\n",
      "715:\tlearn: 0.0176323\ttotal: 6.58s\tremaining: 2.61s\n",
      "716:\tlearn: 0.0176170\ttotal: 6.58s\tremaining: 2.6s\n",
      "717:\tlearn: 0.0175652\ttotal: 6.59s\tremaining: 2.59s\n",
      "718:\tlearn: 0.0175322\ttotal: 6.6s\tremaining: 2.58s\n",
      "719:\tlearn: 0.0175095\ttotal: 6.61s\tremaining: 2.57s\n",
      "720:\tlearn: 0.0174883\ttotal: 6.62s\tremaining: 2.56s\n",
      "721:\tlearn: 0.0174626\ttotal: 6.63s\tremaining: 2.55s\n",
      "722:\tlearn: 0.0174397\ttotal: 6.64s\tremaining: 2.54s\n",
      "723:\tlearn: 0.0174307\ttotal: 6.65s\tremaining: 2.53s\n",
      "724:\tlearn: 0.0174030\ttotal: 6.65s\tremaining: 2.52s\n",
      "725:\tlearn: 0.0173709\ttotal: 6.66s\tremaining: 2.51s\n",
      "726:\tlearn: 0.0173524\ttotal: 6.67s\tremaining: 2.5s\n",
      "727:\tlearn: 0.0173248\ttotal: 6.67s\tremaining: 2.49s\n",
      "728:\tlearn: 0.0173110\ttotal: 6.68s\tremaining: 2.48s\n",
      "729:\tlearn: 0.0172764\ttotal: 6.69s\tremaining: 2.47s\n",
      "730:\tlearn: 0.0172471\ttotal: 6.69s\tremaining: 2.46s\n",
      "731:\tlearn: 0.0172098\ttotal: 6.7s\tremaining: 2.45s\n",
      "732:\tlearn: 0.0171768\ttotal: 6.71s\tremaining: 2.44s\n",
      "733:\tlearn: 0.0171380\ttotal: 6.72s\tremaining: 2.43s\n",
      "734:\tlearn: 0.0171114\ttotal: 6.73s\tremaining: 2.42s\n",
      "735:\tlearn: 0.0170706\ttotal: 6.73s\tremaining: 2.42s\n",
      "736:\tlearn: 0.0170306\ttotal: 6.74s\tremaining: 2.4s\n",
      "737:\tlearn: 0.0170110\ttotal: 6.75s\tremaining: 2.4s\n",
      "738:\tlearn: 0.0169734\ttotal: 6.76s\tremaining: 2.39s\n",
      "739:\tlearn: 0.0169386\ttotal: 6.76s\tremaining: 2.38s\n",
      "740:\tlearn: 0.0169090\ttotal: 6.77s\tremaining: 2.37s\n",
      "741:\tlearn: 0.0168952\ttotal: 6.78s\tremaining: 2.36s\n",
      "742:\tlearn: 0.0168786\ttotal: 6.79s\tremaining: 2.35s\n",
      "743:\tlearn: 0.0168645\ttotal: 6.8s\tremaining: 2.34s\n",
      "744:\tlearn: 0.0168339\ttotal: 6.81s\tremaining: 2.33s\n",
      "745:\tlearn: 0.0168141\ttotal: 6.82s\tremaining: 2.32s\n",
      "746:\tlearn: 0.0167896\ttotal: 6.83s\tremaining: 2.31s\n",
      "747:\tlearn: 0.0167483\ttotal: 6.84s\tremaining: 2.3s\n",
      "748:\tlearn: 0.0167303\ttotal: 6.85s\tremaining: 2.29s\n",
      "749:\tlearn: 0.0167056\ttotal: 6.85s\tremaining: 2.28s\n",
      "750:\tlearn: 0.0166836\ttotal: 6.86s\tremaining: 2.27s\n",
      "751:\tlearn: 0.0166656\ttotal: 6.87s\tremaining: 2.27s\n",
      "752:\tlearn: 0.0166488\ttotal: 6.88s\tremaining: 2.26s\n",
      "753:\tlearn: 0.0166083\ttotal: 6.88s\tremaining: 2.25s\n",
      "754:\tlearn: 0.0165821\ttotal: 6.9s\tremaining: 2.24s\n",
      "755:\tlearn: 0.0165642\ttotal: 6.91s\tremaining: 2.23s\n",
      "756:\tlearn: 0.0165378\ttotal: 6.92s\tremaining: 2.22s\n",
      "757:\tlearn: 0.0165166\ttotal: 6.93s\tremaining: 2.21s\n",
      "758:\tlearn: 0.0164819\ttotal: 6.94s\tremaining: 2.2s\n",
      "759:\tlearn: 0.0164619\ttotal: 6.95s\tremaining: 2.19s\n",
      "760:\tlearn: 0.0164310\ttotal: 6.95s\tremaining: 2.18s\n",
      "761:\tlearn: 0.0164076\ttotal: 6.96s\tremaining: 2.17s\n",
      "762:\tlearn: 0.0163845\ttotal: 6.97s\tremaining: 2.16s\n",
      "763:\tlearn: 0.0163545\ttotal: 6.98s\tremaining: 2.15s\n",
      "764:\tlearn: 0.0163020\ttotal: 6.99s\tremaining: 2.15s\n",
      "765:\tlearn: 0.0162874\ttotal: 7s\tremaining: 2.14s\n",
      "766:\tlearn: 0.0162714\ttotal: 7.01s\tremaining: 2.13s\n",
      "767:\tlearn: 0.0162553\ttotal: 7.02s\tremaining: 2.12s\n",
      "768:\tlearn: 0.0162325\ttotal: 7.03s\tremaining: 2.11s\n",
      "769:\tlearn: 0.0162104\ttotal: 7.04s\tremaining: 2.1s\n",
      "770:\tlearn: 0.0161948\ttotal: 7.04s\tremaining: 2.09s\n",
      "771:\tlearn: 0.0161715\ttotal: 7.05s\tremaining: 2.08s\n",
      "772:\tlearn: 0.0161555\ttotal: 7.07s\tremaining: 2.08s\n",
      "773:\tlearn: 0.0161391\ttotal: 7.08s\tremaining: 2.07s\n",
      "774:\tlearn: 0.0161066\ttotal: 7.12s\tremaining: 2.07s\n",
      "775:\tlearn: 0.0160879\ttotal: 7.13s\tremaining: 2.06s\n",
      "776:\tlearn: 0.0160646\ttotal: 7.14s\tremaining: 2.05s\n",
      "777:\tlearn: 0.0160518\ttotal: 7.15s\tremaining: 2.04s\n",
      "778:\tlearn: 0.0160369\ttotal: 7.16s\tremaining: 2.03s\n",
      "779:\tlearn: 0.0160042\ttotal: 7.17s\tremaining: 2.02s\n",
      "780:\tlearn: 0.0159754\ttotal: 7.17s\tremaining: 2.01s\n",
      "781:\tlearn: 0.0159472\ttotal: 7.18s\tremaining: 2s\n",
      "782:\tlearn: 0.0159148\ttotal: 7.19s\tremaining: 1.99s\n",
      "783:\tlearn: 0.0158986\ttotal: 7.2s\tremaining: 1.98s\n",
      "784:\tlearn: 0.0158765\ttotal: 7.21s\tremaining: 1.97s\n",
      "785:\tlearn: 0.0158465\ttotal: 7.22s\tremaining: 1.97s\n",
      "786:\tlearn: 0.0158251\ttotal: 7.23s\tremaining: 1.96s\n",
      "787:\tlearn: 0.0158061\ttotal: 7.24s\tremaining: 1.95s\n",
      "788:\tlearn: 0.0157870\ttotal: 7.25s\tremaining: 1.94s\n",
      "789:\tlearn: 0.0157620\ttotal: 7.26s\tremaining: 1.93s\n",
      "790:\tlearn: 0.0157253\ttotal: 7.27s\tremaining: 1.92s\n",
      "791:\tlearn: 0.0157084\ttotal: 7.28s\tremaining: 1.91s\n",
      "792:\tlearn: 0.0156726\ttotal: 7.29s\tremaining: 1.9s\n",
      "793:\tlearn: 0.0156362\ttotal: 7.3s\tremaining: 1.9s\n",
      "794:\tlearn: 0.0156076\ttotal: 7.31s\tremaining: 1.89s\n",
      "795:\tlearn: 0.0155832\ttotal: 7.32s\tremaining: 1.88s\n",
      "796:\tlearn: 0.0155581\ttotal: 7.33s\tremaining: 1.87s\n",
      "797:\tlearn: 0.0155333\ttotal: 7.34s\tremaining: 1.86s\n",
      "798:\tlearn: 0.0155092\ttotal: 7.35s\tremaining: 1.85s\n",
      "799:\tlearn: 0.0154886\ttotal: 7.36s\tremaining: 1.84s\n",
      "800:\tlearn: 0.0154769\ttotal: 7.37s\tremaining: 1.83s\n",
      "801:\tlearn: 0.0154559\ttotal: 7.38s\tremaining: 1.82s\n",
      "802:\tlearn: 0.0154405\ttotal: 7.39s\tremaining: 1.81s\n",
      "803:\tlearn: 0.0153893\ttotal: 7.4s\tremaining: 1.8s\n",
      "804:\tlearn: 0.0153753\ttotal: 7.42s\tremaining: 1.8s\n",
      "805:\tlearn: 0.0153398\ttotal: 7.43s\tremaining: 1.79s\n",
      "806:\tlearn: 0.0153212\ttotal: 7.44s\tremaining: 1.78s\n",
      "807:\tlearn: 0.0152968\ttotal: 7.45s\tremaining: 1.77s\n",
      "808:\tlearn: 0.0152851\ttotal: 7.46s\tremaining: 1.76s\n",
      "809:\tlearn: 0.0152555\ttotal: 7.47s\tremaining: 1.75s\n",
      "810:\tlearn: 0.0152283\ttotal: 7.47s\tremaining: 1.74s\n",
      "811:\tlearn: 0.0152106\ttotal: 7.48s\tremaining: 1.73s\n",
      "812:\tlearn: 0.0151939\ttotal: 7.49s\tremaining: 1.72s\n",
      "813:\tlearn: 0.0151757\ttotal: 7.5s\tremaining: 1.71s\n",
      "814:\tlearn: 0.0151657\ttotal: 7.51s\tremaining: 1.71s\n",
      "815:\tlearn: 0.0151479\ttotal: 7.52s\tremaining: 1.7s\n",
      "816:\tlearn: 0.0151385\ttotal: 7.53s\tremaining: 1.69s\n",
      "817:\tlearn: 0.0151258\ttotal: 7.54s\tremaining: 1.68s\n",
      "818:\tlearn: 0.0150893\ttotal: 7.57s\tremaining: 1.67s\n",
      "819:\tlearn: 0.0150599\ttotal: 7.58s\tremaining: 1.66s\n",
      "820:\tlearn: 0.0150517\ttotal: 7.59s\tremaining: 1.66s\n",
      "821:\tlearn: 0.0150255\ttotal: 7.6s\tremaining: 1.65s\n",
      "822:\tlearn: 0.0150103\ttotal: 7.62s\tremaining: 1.64s\n",
      "823:\tlearn: 0.0149668\ttotal: 7.63s\tremaining: 1.63s\n",
      "824:\tlearn: 0.0149415\ttotal: 7.63s\tremaining: 1.62s\n",
      "825:\tlearn: 0.0149300\ttotal: 7.64s\tremaining: 1.61s\n",
      "826:\tlearn: 0.0149096\ttotal: 7.65s\tremaining: 1.6s\n",
      "827:\tlearn: 0.0148861\ttotal: 7.66s\tremaining: 1.59s\n",
      "828:\tlearn: 0.0148716\ttotal: 7.67s\tremaining: 1.58s\n",
      "829:\tlearn: 0.0148369\ttotal: 7.67s\tremaining: 1.57s\n",
      "830:\tlearn: 0.0148154\ttotal: 7.68s\tremaining: 1.56s\n",
      "831:\tlearn: 0.0147895\ttotal: 7.69s\tremaining: 1.55s\n",
      "832:\tlearn: 0.0147547\ttotal: 7.7s\tremaining: 1.54s\n",
      "833:\tlearn: 0.0147346\ttotal: 7.71s\tremaining: 1.53s\n",
      "834:\tlearn: 0.0147129\ttotal: 7.72s\tremaining: 1.52s\n",
      "835:\tlearn: 0.0146970\ttotal: 7.73s\tremaining: 1.51s\n",
      "836:\tlearn: 0.0146726\ttotal: 7.74s\tremaining: 1.51s\n",
      "837:\tlearn: 0.0146510\ttotal: 7.74s\tremaining: 1.5s\n",
      "838:\tlearn: 0.0146254\ttotal: 7.75s\tremaining: 1.49s\n",
      "839:\tlearn: 0.0146051\ttotal: 7.76s\tremaining: 1.48s\n",
      "840:\tlearn: 0.0145962\ttotal: 7.77s\tremaining: 1.47s\n",
      "841:\tlearn: 0.0145857\ttotal: 7.78s\tremaining: 1.46s\n",
      "842:\tlearn: 0.0145495\ttotal: 7.79s\tremaining: 1.45s\n",
      "843:\tlearn: 0.0145282\ttotal: 7.8s\tremaining: 1.44s\n",
      "844:\tlearn: 0.0145025\ttotal: 7.81s\tremaining: 1.43s\n",
      "845:\tlearn: 0.0144850\ttotal: 7.82s\tremaining: 1.42s\n",
      "846:\tlearn: 0.0144475\ttotal: 7.83s\tremaining: 1.41s\n",
      "847:\tlearn: 0.0144307\ttotal: 7.84s\tremaining: 1.41s\n",
      "848:\tlearn: 0.0143986\ttotal: 7.85s\tremaining: 1.4s\n",
      "849:\tlearn: 0.0143788\ttotal: 7.86s\tremaining: 1.39s\n",
      "850:\tlearn: 0.0143587\ttotal: 7.87s\tremaining: 1.38s\n",
      "851:\tlearn: 0.0143405\ttotal: 7.88s\tremaining: 1.37s\n",
      "852:\tlearn: 0.0143152\ttotal: 7.88s\tremaining: 1.36s\n",
      "853:\tlearn: 0.0142998\ttotal: 7.89s\tremaining: 1.35s\n",
      "854:\tlearn: 0.0142859\ttotal: 7.91s\tremaining: 1.34s\n",
      "855:\tlearn: 0.0142725\ttotal: 7.92s\tremaining: 1.33s\n",
      "856:\tlearn: 0.0142556\ttotal: 7.93s\tremaining: 1.32s\n",
      "857:\tlearn: 0.0142240\ttotal: 7.94s\tremaining: 1.31s\n",
      "858:\tlearn: 0.0141933\ttotal: 7.94s\tremaining: 1.3s\n",
      "859:\tlearn: 0.0141763\ttotal: 7.95s\tremaining: 1.29s\n",
      "860:\tlearn: 0.0141536\ttotal: 7.96s\tremaining: 1.28s\n",
      "861:\tlearn: 0.0141352\ttotal: 7.97s\tremaining: 1.27s\n",
      "862:\tlearn: 0.0141173\ttotal: 7.97s\tremaining: 1.27s\n",
      "863:\tlearn: 0.0140981\ttotal: 7.98s\tremaining: 1.26s\n",
      "864:\tlearn: 0.0140811\ttotal: 7.99s\tremaining: 1.25s\n",
      "865:\tlearn: 0.0140605\ttotal: 8s\tremaining: 1.24s\n",
      "866:\tlearn: 0.0140416\ttotal: 8.01s\tremaining: 1.23s\n",
      "867:\tlearn: 0.0140204\ttotal: 8.01s\tremaining: 1.22s\n",
      "868:\tlearn: 0.0139984\ttotal: 8.02s\tremaining: 1.21s\n",
      "869:\tlearn: 0.0139759\ttotal: 8.03s\tremaining: 1.2s\n",
      "870:\tlearn: 0.0139481\ttotal: 8.04s\tremaining: 1.19s\n",
      "871:\tlearn: 0.0139236\ttotal: 8.05s\tremaining: 1.18s\n",
      "872:\tlearn: 0.0139120\ttotal: 8.06s\tremaining: 1.17s\n",
      "873:\tlearn: 0.0138991\ttotal: 8.07s\tremaining: 1.16s\n",
      "874:\tlearn: 0.0138730\ttotal: 8.09s\tremaining: 1.16s\n",
      "875:\tlearn: 0.0138583\ttotal: 8.1s\tremaining: 1.15s\n",
      "876:\tlearn: 0.0138499\ttotal: 8.11s\tremaining: 1.14s\n",
      "877:\tlearn: 0.0138358\ttotal: 8.11s\tremaining: 1.13s\n",
      "878:\tlearn: 0.0138161\ttotal: 8.12s\tremaining: 1.12s\n",
      "879:\tlearn: 0.0137873\ttotal: 8.13s\tremaining: 1.11s\n",
      "880:\tlearn: 0.0137681\ttotal: 8.13s\tremaining: 1.1s\n",
      "881:\tlearn: 0.0137580\ttotal: 8.14s\tremaining: 1.09s\n",
      "882:\tlearn: 0.0137428\ttotal: 8.15s\tremaining: 1.08s\n",
      "883:\tlearn: 0.0137199\ttotal: 8.16s\tremaining: 1.07s\n",
      "884:\tlearn: 0.0136925\ttotal: 8.17s\tremaining: 1.06s\n",
      "885:\tlearn: 0.0136719\ttotal: 8.19s\tremaining: 1.05s\n",
      "886:\tlearn: 0.0136641\ttotal: 8.2s\tremaining: 1.04s\n",
      "887:\tlearn: 0.0136509\ttotal: 8.21s\tremaining: 1.03s\n",
      "888:\tlearn: 0.0136242\ttotal: 8.21s\tremaining: 1.02s\n",
      "889:\tlearn: 0.0136034\ttotal: 8.22s\tremaining: 1.02s\n",
      "890:\tlearn: 0.0135812\ttotal: 8.23s\tremaining: 1.01s\n",
      "891:\tlearn: 0.0135721\ttotal: 8.24s\tremaining: 997ms\n",
      "892:\tlearn: 0.0135466\ttotal: 8.24s\tremaining: 988ms\n",
      "893:\tlearn: 0.0135170\ttotal: 8.25s\tremaining: 979ms\n",
      "894:\tlearn: 0.0134831\ttotal: 8.26s\tremaining: 969ms\n",
      "895:\tlearn: 0.0134603\ttotal: 8.27s\tremaining: 960ms\n",
      "896:\tlearn: 0.0134370\ttotal: 8.28s\tremaining: 951ms\n",
      "897:\tlearn: 0.0134278\ttotal: 8.29s\tremaining: 942ms\n",
      "898:\tlearn: 0.0134167\ttotal: 8.3s\tremaining: 932ms\n",
      "899:\tlearn: 0.0134117\ttotal: 8.31s\tremaining: 923ms\n",
      "900:\tlearn: 0.0134011\ttotal: 8.31s\tremaining: 914ms\n",
      "901:\tlearn: 0.0133912\ttotal: 8.33s\tremaining: 905ms\n",
      "902:\tlearn: 0.0133617\ttotal: 8.34s\tremaining: 896ms\n",
      "903:\tlearn: 0.0133428\ttotal: 8.34s\tremaining: 886ms\n",
      "904:\tlearn: 0.0133328\ttotal: 8.35s\tremaining: 877ms\n",
      "905:\tlearn: 0.0133190\ttotal: 8.36s\tremaining: 867ms\n",
      "906:\tlearn: 0.0132975\ttotal: 8.37s\tremaining: 858ms\n",
      "907:\tlearn: 0.0132823\ttotal: 8.38s\tremaining: 849ms\n",
      "908:\tlearn: 0.0132743\ttotal: 8.39s\tremaining: 840ms\n",
      "909:\tlearn: 0.0132635\ttotal: 8.4s\tremaining: 831ms\n",
      "910:\tlearn: 0.0132415\ttotal: 8.4s\tremaining: 821ms\n",
      "911:\tlearn: 0.0132259\ttotal: 8.41s\tremaining: 812ms\n",
      "912:\tlearn: 0.0132174\ttotal: 8.42s\tremaining: 802ms\n",
      "913:\tlearn: 0.0132024\ttotal: 8.42s\tremaining: 793ms\n",
      "914:\tlearn: 0.0131922\ttotal: 8.43s\tremaining: 783ms\n",
      "915:\tlearn: 0.0131836\ttotal: 8.44s\tremaining: 774ms\n",
      "916:\tlearn: 0.0131620\ttotal: 8.45s\tremaining: 765ms\n",
      "917:\tlearn: 0.0131295\ttotal: 8.45s\tremaining: 755ms\n",
      "918:\tlearn: 0.0131171\ttotal: 8.46s\tremaining: 746ms\n",
      "919:\tlearn: 0.0130876\ttotal: 8.47s\tremaining: 737ms\n",
      "920:\tlearn: 0.0130735\ttotal: 8.48s\tremaining: 727ms\n",
      "921:\tlearn: 0.0130591\ttotal: 8.49s\tremaining: 718ms\n",
      "922:\tlearn: 0.0130487\ttotal: 8.49s\tremaining: 709ms\n",
      "923:\tlearn: 0.0130306\ttotal: 8.5s\tremaining: 699ms\n",
      "924:\tlearn: 0.0130245\ttotal: 8.51s\tremaining: 690ms\n",
      "925:\tlearn: 0.0130087\ttotal: 8.52s\tremaining: 681ms\n",
      "926:\tlearn: 0.0129850\ttotal: 8.54s\tremaining: 672ms\n",
      "927:\tlearn: 0.0129702\ttotal: 8.54s\tremaining: 663ms\n",
      "928:\tlearn: 0.0129579\ttotal: 8.55s\tremaining: 653ms\n",
      "929:\tlearn: 0.0129439\ttotal: 8.55s\tremaining: 644ms\n",
      "930:\tlearn: 0.0129132\ttotal: 8.56s\tremaining: 635ms\n",
      "931:\tlearn: 0.0128951\ttotal: 8.57s\tremaining: 625ms\n",
      "932:\tlearn: 0.0128820\ttotal: 8.57s\tremaining: 616ms\n",
      "933:\tlearn: 0.0128751\ttotal: 8.58s\tremaining: 607ms\n",
      "934:\tlearn: 0.0128470\ttotal: 8.6s\tremaining: 598ms\n",
      "935:\tlearn: 0.0128288\ttotal: 8.61s\tremaining: 589ms\n",
      "936:\tlearn: 0.0128020\ttotal: 8.62s\tremaining: 580ms\n",
      "937:\tlearn: 0.0127846\ttotal: 8.63s\tremaining: 571ms\n",
      "938:\tlearn: 0.0127622\ttotal: 8.64s\tremaining: 562ms\n",
      "939:\tlearn: 0.0127484\ttotal: 8.65s\tremaining: 552ms\n",
      "940:\tlearn: 0.0127376\ttotal: 8.66s\tremaining: 543ms\n",
      "941:\tlearn: 0.0127208\ttotal: 8.67s\tremaining: 534ms\n",
      "942:\tlearn: 0.0127029\ttotal: 8.68s\tremaining: 525ms\n",
      "943:\tlearn: 0.0126802\ttotal: 8.69s\tremaining: 516ms\n",
      "944:\tlearn: 0.0126598\ttotal: 8.7s\tremaining: 506ms\n",
      "945:\tlearn: 0.0126346\ttotal: 8.71s\tremaining: 497ms\n",
      "946:\tlearn: 0.0126155\ttotal: 8.72s\tremaining: 488ms\n",
      "947:\tlearn: 0.0126033\ttotal: 8.73s\tremaining: 479ms\n",
      "948:\tlearn: 0.0125950\ttotal: 8.74s\tremaining: 470ms\n",
      "949:\tlearn: 0.0125730\ttotal: 8.76s\tremaining: 461ms\n",
      "950:\tlearn: 0.0125591\ttotal: 8.77s\tremaining: 452ms\n",
      "951:\tlearn: 0.0125415\ttotal: 8.78s\tremaining: 443ms\n",
      "952:\tlearn: 0.0125292\ttotal: 8.79s\tremaining: 434ms\n",
      "953:\tlearn: 0.0125143\ttotal: 8.8s\tremaining: 424ms\n",
      "954:\tlearn: 0.0125011\ttotal: 8.81s\tremaining: 415ms\n",
      "955:\tlearn: 0.0124932\ttotal: 8.82s\tremaining: 406ms\n",
      "956:\tlearn: 0.0124851\ttotal: 8.84s\tremaining: 397ms\n",
      "957:\tlearn: 0.0124582\ttotal: 8.84s\tremaining: 388ms\n",
      "958:\tlearn: 0.0124390\ttotal: 8.85s\tremaining: 378ms\n",
      "959:\tlearn: 0.0124276\ttotal: 8.86s\tremaining: 369ms\n",
      "960:\tlearn: 0.0124028\ttotal: 8.87s\tremaining: 360ms\n",
      "961:\tlearn: 0.0123851\ttotal: 8.88s\tremaining: 351ms\n",
      "962:\tlearn: 0.0123719\ttotal: 8.88s\tremaining: 341ms\n",
      "963:\tlearn: 0.0123579\ttotal: 8.9s\tremaining: 332ms\n",
      "964:\tlearn: 0.0123278\ttotal: 8.9s\tremaining: 323ms\n",
      "965:\tlearn: 0.0123144\ttotal: 8.91s\tremaining: 314ms\n",
      "966:\tlearn: 0.0123028\ttotal: 8.92s\tremaining: 304ms\n",
      "967:\tlearn: 0.0122875\ttotal: 8.93s\tremaining: 295ms\n",
      "968:\tlearn: 0.0122602\ttotal: 8.94s\tremaining: 286ms\n",
      "969:\tlearn: 0.0122495\ttotal: 8.95s\tremaining: 277ms\n",
      "970:\tlearn: 0.0122412\ttotal: 8.95s\tremaining: 267ms\n",
      "971:\tlearn: 0.0122176\ttotal: 8.96s\tremaining: 258ms\n",
      "972:\tlearn: 0.0121990\ttotal: 8.97s\tremaining: 249ms\n",
      "973:\tlearn: 0.0121818\ttotal: 8.98s\tremaining: 240ms\n",
      "974:\tlearn: 0.0121658\ttotal: 8.98s\tremaining: 230ms\n",
      "975:\tlearn: 0.0121532\ttotal: 8.99s\tremaining: 221ms\n",
      "976:\tlearn: 0.0121438\ttotal: 9s\tremaining: 212ms\n",
      "977:\tlearn: 0.0121242\ttotal: 9.01s\tremaining: 203ms\n",
      "978:\tlearn: 0.0121108\ttotal: 9.02s\tremaining: 194ms\n",
      "979:\tlearn: 0.0120991\ttotal: 9.03s\tremaining: 184ms\n",
      "980:\tlearn: 0.0120803\ttotal: 9.04s\tremaining: 175ms\n",
      "981:\tlearn: 0.0120696\ttotal: 9.05s\tremaining: 166ms\n",
      "982:\tlearn: 0.0120587\ttotal: 9.07s\tremaining: 157ms\n",
      "983:\tlearn: 0.0120475\ttotal: 9.08s\tremaining: 148ms\n",
      "984:\tlearn: 0.0120382\ttotal: 9.09s\tremaining: 138ms\n",
      "985:\tlearn: 0.0120095\ttotal: 9.1s\tremaining: 129ms\n",
      "986:\tlearn: 0.0120015\ttotal: 9.11s\tremaining: 120ms\n",
      "987:\tlearn: 0.0119941\ttotal: 9.12s\tremaining: 111ms\n",
      "988:\tlearn: 0.0119815\ttotal: 9.13s\tremaining: 102ms\n",
      "989:\tlearn: 0.0119711\ttotal: 9.14s\tremaining: 92.3ms\n",
      "990:\tlearn: 0.0119575\ttotal: 9.15s\tremaining: 83.1ms\n",
      "991:\tlearn: 0.0119444\ttotal: 9.16s\tremaining: 73.8ms\n",
      "992:\tlearn: 0.0119317\ttotal: 9.17s\tremaining: 64.7ms\n",
      "993:\tlearn: 0.0119160\ttotal: 9.19s\tremaining: 55.5ms\n",
      "994:\tlearn: 0.0118953\ttotal: 9.2s\tremaining: 46.2ms\n",
      "995:\tlearn: 0.0118751\ttotal: 9.21s\tremaining: 37ms\n",
      "996:\tlearn: 0.0118651\ttotal: 9.22s\tremaining: 27.7ms\n",
      "997:\tlearn: 0.0118601\ttotal: 9.23s\tremaining: 18.5ms\n",
      "998:\tlearn: 0.0118422\ttotal: 9.24s\tremaining: 9.25ms\n",
      "999:\tlearn: 0.0118230\ttotal: 9.25s\tremaining: 0us\n"
     ]
    }
   ],
   "source": [
    "from catboost import CatBoostClassifier\n",
    "\n",
    "@time_for('CatBoosting GPU', 'predict')\n",
    "def fit_cat_gpu():\n",
    "    return CatBoostClassifier(\n",
    "        task_type='GPU', devices='0',\n",
    "        random_state=random_state,\n",
    "    ).fit(X_train, y_train)\n",
    "\n",
    "cat_gpu_model = fit_cat_gpu()"
   ]
  },
  {
   "cell_type": "code",
   "execution_count": 44,
   "metadata": {},
   "outputs": [],
   "source": [
    "cat_gpu_y_train = cat_gpu_model.predict(X_train)"
   ]
  },
  {
   "cell_type": "code",
   "execution_count": 80,
   "metadata": {},
   "outputs": [
    {
     "name": "stdout",
     "output_type": "stream",
     "text": [
      "F1-мера для тренировочных данных с помощью CatBoostClassifier на GPU: 1.0\n"
     ]
    },
    {
     "data": {
      "application/vnd.plotly.v1+json": {
       "config": {
        "plotlyServerURL": "https://plot.ly"
       },
       "data": [
        {
         "coloraxis": "coloraxis",
         "hovertemplate": "x: %{x}<br>y: %{y}<br>color: %{z}<extra></extra>",
         "name": "0",
         "texttemplate": "%{z}",
         "type": "heatmap",
         "xaxis": "x",
         "yaxis": "y",
         "z": [
          [
           582,
           0,
           0
          ],
          [
           0,
           190,
           0
          ],
          [
           0,
           0,
           228
          ]
         ]
        }
       ],
       "layout": {
        "coloraxis": {
         "colorscale": [
          [
           0,
           "#0d0887"
          ],
          [
           0.1111111111111111,
           "#46039f"
          ],
          [
           0.2222222222222222,
           "#7201a8"
          ],
          [
           0.3333333333333333,
           "#9c179e"
          ],
          [
           0.4444444444444444,
           "#bd3786"
          ],
          [
           0.5555555555555556,
           "#d8576b"
          ],
          [
           0.6666666666666666,
           "#ed7953"
          ],
          [
           0.7777777777777778,
           "#fb9f3a"
          ],
          [
           0.8888888888888888,
           "#fdca26"
          ],
          [
           1,
           "#f0f921"
          ]
         ]
        },
        "margin": {
         "t": 60
        },
        "template": {
         "data": {
          "bar": [
           {
            "error_x": {
             "color": "#f2f5fa"
            },
            "error_y": {
             "color": "#f2f5fa"
            },
            "marker": {
             "line": {
              "color": "rgb(17,17,17)",
              "width": 0.5
             },
             "pattern": {
              "fillmode": "overlay",
              "size": 10,
              "solidity": 0.2
             }
            },
            "type": "bar"
           }
          ],
          "barpolar": [
           {
            "marker": {
             "line": {
              "color": "rgb(17,17,17)",
              "width": 0.5
             },
             "pattern": {
              "fillmode": "overlay",
              "size": 10,
              "solidity": 0.2
             }
            },
            "type": "barpolar"
           }
          ],
          "carpet": [
           {
            "aaxis": {
             "endlinecolor": "#A2B1C6",
             "gridcolor": "#506784",
             "linecolor": "#506784",
             "minorgridcolor": "#506784",
             "startlinecolor": "#A2B1C6"
            },
            "baxis": {
             "endlinecolor": "#A2B1C6",
             "gridcolor": "#506784",
             "linecolor": "#506784",
             "minorgridcolor": "#506784",
             "startlinecolor": "#A2B1C6"
            },
            "type": "carpet"
           }
          ],
          "choropleth": [
           {
            "colorbar": {
             "outlinewidth": 0,
             "ticks": ""
            },
            "type": "choropleth"
           }
          ],
          "contour": [
           {
            "colorbar": {
             "outlinewidth": 0,
             "ticks": ""
            },
            "colorscale": [
             [
              0,
              "#0d0887"
             ],
             [
              0.1111111111111111,
              "#46039f"
             ],
             [
              0.2222222222222222,
              "#7201a8"
             ],
             [
              0.3333333333333333,
              "#9c179e"
             ],
             [
              0.4444444444444444,
              "#bd3786"
             ],
             [
              0.5555555555555556,
              "#d8576b"
             ],
             [
              0.6666666666666666,
              "#ed7953"
             ],
             [
              0.7777777777777778,
              "#fb9f3a"
             ],
             [
              0.8888888888888888,
              "#fdca26"
             ],
             [
              1,
              "#f0f921"
             ]
            ],
            "type": "contour"
           }
          ],
          "contourcarpet": [
           {
            "colorbar": {
             "outlinewidth": 0,
             "ticks": ""
            },
            "type": "contourcarpet"
           }
          ],
          "heatmap": [
           {
            "colorbar": {
             "outlinewidth": 0,
             "ticks": ""
            },
            "colorscale": [
             [
              0,
              "#0d0887"
             ],
             [
              0.1111111111111111,
              "#46039f"
             ],
             [
              0.2222222222222222,
              "#7201a8"
             ],
             [
              0.3333333333333333,
              "#9c179e"
             ],
             [
              0.4444444444444444,
              "#bd3786"
             ],
             [
              0.5555555555555556,
              "#d8576b"
             ],
             [
              0.6666666666666666,
              "#ed7953"
             ],
             [
              0.7777777777777778,
              "#fb9f3a"
             ],
             [
              0.8888888888888888,
              "#fdca26"
             ],
             [
              1,
              "#f0f921"
             ]
            ],
            "type": "heatmap"
           }
          ],
          "heatmapgl": [
           {
            "colorbar": {
             "outlinewidth": 0,
             "ticks": ""
            },
            "colorscale": [
             [
              0,
              "#0d0887"
             ],
             [
              0.1111111111111111,
              "#46039f"
             ],
             [
              0.2222222222222222,
              "#7201a8"
             ],
             [
              0.3333333333333333,
              "#9c179e"
             ],
             [
              0.4444444444444444,
              "#bd3786"
             ],
             [
              0.5555555555555556,
              "#d8576b"
             ],
             [
              0.6666666666666666,
              "#ed7953"
             ],
             [
              0.7777777777777778,
              "#fb9f3a"
             ],
             [
              0.8888888888888888,
              "#fdca26"
             ],
             [
              1,
              "#f0f921"
             ]
            ],
            "type": "heatmapgl"
           }
          ],
          "histogram": [
           {
            "marker": {
             "pattern": {
              "fillmode": "overlay",
              "size": 10,
              "solidity": 0.2
             }
            },
            "type": "histogram"
           }
          ],
          "histogram2d": [
           {
            "colorbar": {
             "outlinewidth": 0,
             "ticks": ""
            },
            "colorscale": [
             [
              0,
              "#0d0887"
             ],
             [
              0.1111111111111111,
              "#46039f"
             ],
             [
              0.2222222222222222,
              "#7201a8"
             ],
             [
              0.3333333333333333,
              "#9c179e"
             ],
             [
              0.4444444444444444,
              "#bd3786"
             ],
             [
              0.5555555555555556,
              "#d8576b"
             ],
             [
              0.6666666666666666,
              "#ed7953"
             ],
             [
              0.7777777777777778,
              "#fb9f3a"
             ],
             [
              0.8888888888888888,
              "#fdca26"
             ],
             [
              1,
              "#f0f921"
             ]
            ],
            "type": "histogram2d"
           }
          ],
          "histogram2dcontour": [
           {
            "colorbar": {
             "outlinewidth": 0,
             "ticks": ""
            },
            "colorscale": [
             [
              0,
              "#0d0887"
             ],
             [
              0.1111111111111111,
              "#46039f"
             ],
             [
              0.2222222222222222,
              "#7201a8"
             ],
             [
              0.3333333333333333,
              "#9c179e"
             ],
             [
              0.4444444444444444,
              "#bd3786"
             ],
             [
              0.5555555555555556,
              "#d8576b"
             ],
             [
              0.6666666666666666,
              "#ed7953"
             ],
             [
              0.7777777777777778,
              "#fb9f3a"
             ],
             [
              0.8888888888888888,
              "#fdca26"
             ],
             [
              1,
              "#f0f921"
             ]
            ],
            "type": "histogram2dcontour"
           }
          ],
          "mesh3d": [
           {
            "colorbar": {
             "outlinewidth": 0,
             "ticks": ""
            },
            "type": "mesh3d"
           }
          ],
          "parcoords": [
           {
            "line": {
             "colorbar": {
              "outlinewidth": 0,
              "ticks": ""
             }
            },
            "type": "parcoords"
           }
          ],
          "pie": [
           {
            "automargin": true,
            "type": "pie"
           }
          ],
          "scatter": [
           {
            "marker": {
             "line": {
              "color": "#283442"
             }
            },
            "type": "scatter"
           }
          ],
          "scatter3d": [
           {
            "line": {
             "colorbar": {
              "outlinewidth": 0,
              "ticks": ""
             }
            },
            "marker": {
             "colorbar": {
              "outlinewidth": 0,
              "ticks": ""
             }
            },
            "type": "scatter3d"
           }
          ],
          "scattercarpet": [
           {
            "marker": {
             "colorbar": {
              "outlinewidth": 0,
              "ticks": ""
             }
            },
            "type": "scattercarpet"
           }
          ],
          "scattergeo": [
           {
            "marker": {
             "colorbar": {
              "outlinewidth": 0,
              "ticks": ""
             }
            },
            "type": "scattergeo"
           }
          ],
          "scattergl": [
           {
            "marker": {
             "line": {
              "color": "#283442"
             }
            },
            "type": "scattergl"
           }
          ],
          "scattermapbox": [
           {
            "marker": {
             "colorbar": {
              "outlinewidth": 0,
              "ticks": ""
             }
            },
            "type": "scattermapbox"
           }
          ],
          "scatterpolar": [
           {
            "marker": {
             "colorbar": {
              "outlinewidth": 0,
              "ticks": ""
             }
            },
            "type": "scatterpolar"
           }
          ],
          "scatterpolargl": [
           {
            "marker": {
             "colorbar": {
              "outlinewidth": 0,
              "ticks": ""
             }
            },
            "type": "scatterpolargl"
           }
          ],
          "scatterternary": [
           {
            "marker": {
             "colorbar": {
              "outlinewidth": 0,
              "ticks": ""
             }
            },
            "type": "scatterternary"
           }
          ],
          "surface": [
           {
            "colorbar": {
             "outlinewidth": 0,
             "ticks": ""
            },
            "colorscale": [
             [
              0,
              "#0d0887"
             ],
             [
              0.1111111111111111,
              "#46039f"
             ],
             [
              0.2222222222222222,
              "#7201a8"
             ],
             [
              0.3333333333333333,
              "#9c179e"
             ],
             [
              0.4444444444444444,
              "#bd3786"
             ],
             [
              0.5555555555555556,
              "#d8576b"
             ],
             [
              0.6666666666666666,
              "#ed7953"
             ],
             [
              0.7777777777777778,
              "#fb9f3a"
             ],
             [
              0.8888888888888888,
              "#fdca26"
             ],
             [
              1,
              "#f0f921"
             ]
            ],
            "type": "surface"
           }
          ],
          "table": [
           {
            "cells": {
             "fill": {
              "color": "#506784"
             },
             "line": {
              "color": "rgb(17,17,17)"
             }
            },
            "header": {
             "fill": {
              "color": "#2a3f5f"
             },
             "line": {
              "color": "rgb(17,17,17)"
             }
            },
            "type": "table"
           }
          ]
         },
         "layout": {
          "annotationdefaults": {
           "arrowcolor": "#f2f5fa",
           "arrowhead": 0,
           "arrowwidth": 1
          },
          "autotypenumbers": "strict",
          "coloraxis": {
           "colorbar": {
            "outlinewidth": 0,
            "ticks": ""
           }
          },
          "colorscale": {
           "diverging": [
            [
             0,
             "#8e0152"
            ],
            [
             0.1,
             "#c51b7d"
            ],
            [
             0.2,
             "#de77ae"
            ],
            [
             0.3,
             "#f1b6da"
            ],
            [
             0.4,
             "#fde0ef"
            ],
            [
             0.5,
             "#f7f7f7"
            ],
            [
             0.6,
             "#e6f5d0"
            ],
            [
             0.7,
             "#b8e186"
            ],
            [
             0.8,
             "#7fbc41"
            ],
            [
             0.9,
             "#4d9221"
            ],
            [
             1,
             "#276419"
            ]
           ],
           "sequential": [
            [
             0,
             "#0d0887"
            ],
            [
             0.1111111111111111,
             "#46039f"
            ],
            [
             0.2222222222222222,
             "#7201a8"
            ],
            [
             0.3333333333333333,
             "#9c179e"
            ],
            [
             0.4444444444444444,
             "#bd3786"
            ],
            [
             0.5555555555555556,
             "#d8576b"
            ],
            [
             0.6666666666666666,
             "#ed7953"
            ],
            [
             0.7777777777777778,
             "#fb9f3a"
            ],
            [
             0.8888888888888888,
             "#fdca26"
            ],
            [
             1,
             "#f0f921"
            ]
           ],
           "sequentialminus": [
            [
             0,
             "#0d0887"
            ],
            [
             0.1111111111111111,
             "#46039f"
            ],
            [
             0.2222222222222222,
             "#7201a8"
            ],
            [
             0.3333333333333333,
             "#9c179e"
            ],
            [
             0.4444444444444444,
             "#bd3786"
            ],
            [
             0.5555555555555556,
             "#d8576b"
            ],
            [
             0.6666666666666666,
             "#ed7953"
            ],
            [
             0.7777777777777778,
             "#fb9f3a"
            ],
            [
             0.8888888888888888,
             "#fdca26"
            ],
            [
             1,
             "#f0f921"
            ]
           ]
          },
          "colorway": [
           "#636efa",
           "#EF553B",
           "#00cc96",
           "#ab63fa",
           "#FFA15A",
           "#19d3f3",
           "#FF6692",
           "#B6E880",
           "#FF97FF",
           "#FECB52"
          ],
          "font": {
           "color": "#f2f5fa"
          },
          "geo": {
           "bgcolor": "rgb(17,17,17)",
           "lakecolor": "rgb(17,17,17)",
           "landcolor": "rgb(17,17,17)",
           "showlakes": true,
           "showland": true,
           "subunitcolor": "#506784"
          },
          "hoverlabel": {
           "align": "left"
          },
          "hovermode": "closest",
          "mapbox": {
           "style": "dark"
          },
          "paper_bgcolor": "rgb(17,17,17)",
          "plot_bgcolor": "rgb(17,17,17)",
          "polar": {
           "angularaxis": {
            "gridcolor": "#506784",
            "linecolor": "#506784",
            "ticks": ""
           },
           "bgcolor": "rgb(17,17,17)",
           "radialaxis": {
            "gridcolor": "#506784",
            "linecolor": "#506784",
            "ticks": ""
           }
          },
          "scene": {
           "xaxis": {
            "backgroundcolor": "rgb(17,17,17)",
            "gridcolor": "#506784",
            "gridwidth": 2,
            "linecolor": "#506784",
            "showbackground": true,
            "ticks": "",
            "zerolinecolor": "#C8D4E3"
           },
           "yaxis": {
            "backgroundcolor": "rgb(17,17,17)",
            "gridcolor": "#506784",
            "gridwidth": 2,
            "linecolor": "#506784",
            "showbackground": true,
            "ticks": "",
            "zerolinecolor": "#C8D4E3"
           },
           "zaxis": {
            "backgroundcolor": "rgb(17,17,17)",
            "gridcolor": "#506784",
            "gridwidth": 2,
            "linecolor": "#506784",
            "showbackground": true,
            "ticks": "",
            "zerolinecolor": "#C8D4E3"
           }
          },
          "shapedefaults": {
           "line": {
            "color": "#f2f5fa"
           }
          },
          "sliderdefaults": {
           "bgcolor": "#C8D4E3",
           "bordercolor": "rgb(17,17,17)",
           "borderwidth": 1,
           "tickwidth": 0
          },
          "ternary": {
           "aaxis": {
            "gridcolor": "#506784",
            "linecolor": "#506784",
            "ticks": ""
           },
           "baxis": {
            "gridcolor": "#506784",
            "linecolor": "#506784",
            "ticks": ""
           },
           "bgcolor": "rgb(17,17,17)",
           "caxis": {
            "gridcolor": "#506784",
            "linecolor": "#506784",
            "ticks": ""
           }
          },
          "title": {
           "x": 0.05
          },
          "updatemenudefaults": {
           "bgcolor": "#506784",
           "borderwidth": 0
          },
          "xaxis": {
           "automargin": true,
           "gridcolor": "#283442",
           "linecolor": "#506784",
           "ticks": "",
           "title": {
            "standoff": 15
           },
           "zerolinecolor": "#283442",
           "zerolinewidth": 2
          },
          "yaxis": {
           "automargin": true,
           "gridcolor": "#283442",
           "linecolor": "#506784",
           "ticks": "",
           "title": {
            "standoff": 15
           },
           "zerolinecolor": "#283442",
           "zerolinewidth": 2
          }
         }
        },
        "xaxis": {
         "anchor": "y",
         "constrain": "domain",
         "domain": [
          0,
          1
         ],
         "scaleanchor": "y",
         "title": {
          "text": "Target"
         }
        },
        "yaxis": {
         "anchor": "x",
         "autorange": "reversed",
         "constrain": "domain",
         "domain": [
          0,
          1
         ],
         "title": {
          "text": "Prediction"
         }
        }
       }
      },
      "text/html": [
       "<div>                            <div id=\"0447a8e5-d5b4-4d38-9a31-7e0d853e7a9c\" class=\"plotly-graph-div\" style=\"height:525px; width:100%;\"></div>            <script type=\"text/javascript\">                require([\"plotly\"], function(Plotly) {                    window.PLOTLYENV=window.PLOTLYENV || {};                                    if (document.getElementById(\"0447a8e5-d5b4-4d38-9a31-7e0d853e7a9c\")) {                    Plotly.newPlot(                        \"0447a8e5-d5b4-4d38-9a31-7e0d853e7a9c\",                        [{\"coloraxis\":\"coloraxis\",\"name\":\"0\",\"texttemplate\":\"%{z}\",\"z\":[[582,0,0],[0,190,0],[0,0,228]],\"type\":\"heatmap\",\"xaxis\":\"x\",\"yaxis\":\"y\",\"hovertemplate\":\"x: %{x}<br>y: %{y}<br>color: %{z}<extra></extra>\"}],                        {\"template\":{\"data\":{\"histogram2dcontour\":[{\"type\":\"histogram2dcontour\",\"colorbar\":{\"outlinewidth\":0,\"ticks\":\"\"},\"colorscale\":[[0.0,\"#0d0887\"],[0.1111111111111111,\"#46039f\"],[0.2222222222222222,\"#7201a8\"],[0.3333333333333333,\"#9c179e\"],[0.4444444444444444,\"#bd3786\"],[0.5555555555555556,\"#d8576b\"],[0.6666666666666666,\"#ed7953\"],[0.7777777777777778,\"#fb9f3a\"],[0.8888888888888888,\"#fdca26\"],[1.0,\"#f0f921\"]]}],\"choropleth\":[{\"type\":\"choropleth\",\"colorbar\":{\"outlinewidth\":0,\"ticks\":\"\"}}],\"histogram2d\":[{\"type\":\"histogram2d\",\"colorbar\":{\"outlinewidth\":0,\"ticks\":\"\"},\"colorscale\":[[0.0,\"#0d0887\"],[0.1111111111111111,\"#46039f\"],[0.2222222222222222,\"#7201a8\"],[0.3333333333333333,\"#9c179e\"],[0.4444444444444444,\"#bd3786\"],[0.5555555555555556,\"#d8576b\"],[0.6666666666666666,\"#ed7953\"],[0.7777777777777778,\"#fb9f3a\"],[0.8888888888888888,\"#fdca26\"],[1.0,\"#f0f921\"]]}],\"heatmap\":[{\"type\":\"heatmap\",\"colorbar\":{\"outlinewidth\":0,\"ticks\":\"\"},\"colorscale\":[[0.0,\"#0d0887\"],[0.1111111111111111,\"#46039f\"],[0.2222222222222222,\"#7201a8\"],[0.3333333333333333,\"#9c179e\"],[0.4444444444444444,\"#bd3786\"],[0.5555555555555556,\"#d8576b\"],[0.6666666666666666,\"#ed7953\"],[0.7777777777777778,\"#fb9f3a\"],[0.8888888888888888,\"#fdca26\"],[1.0,\"#f0f921\"]]}],\"heatmapgl\":[{\"type\":\"heatmapgl\",\"colorbar\":{\"outlinewidth\":0,\"ticks\":\"\"},\"colorscale\":[[0.0,\"#0d0887\"],[0.1111111111111111,\"#46039f\"],[0.2222222222222222,\"#7201a8\"],[0.3333333333333333,\"#9c179e\"],[0.4444444444444444,\"#bd3786\"],[0.5555555555555556,\"#d8576b\"],[0.6666666666666666,\"#ed7953\"],[0.7777777777777778,\"#fb9f3a\"],[0.8888888888888888,\"#fdca26\"],[1.0,\"#f0f921\"]]}],\"contourcarpet\":[{\"type\":\"contourcarpet\",\"colorbar\":{\"outlinewidth\":0,\"ticks\":\"\"}}],\"contour\":[{\"type\":\"contour\",\"colorbar\":{\"outlinewidth\":0,\"ticks\":\"\"},\"colorscale\":[[0.0,\"#0d0887\"],[0.1111111111111111,\"#46039f\"],[0.2222222222222222,\"#7201a8\"],[0.3333333333333333,\"#9c179e\"],[0.4444444444444444,\"#bd3786\"],[0.5555555555555556,\"#d8576b\"],[0.6666666666666666,\"#ed7953\"],[0.7777777777777778,\"#fb9f3a\"],[0.8888888888888888,\"#fdca26\"],[1.0,\"#f0f921\"]]}],\"surface\":[{\"type\":\"surface\",\"colorbar\":{\"outlinewidth\":0,\"ticks\":\"\"},\"colorscale\":[[0.0,\"#0d0887\"],[0.1111111111111111,\"#46039f\"],[0.2222222222222222,\"#7201a8\"],[0.3333333333333333,\"#9c179e\"],[0.4444444444444444,\"#bd3786\"],[0.5555555555555556,\"#d8576b\"],[0.6666666666666666,\"#ed7953\"],[0.7777777777777778,\"#fb9f3a\"],[0.8888888888888888,\"#fdca26\"],[1.0,\"#f0f921\"]]}],\"mesh3d\":[{\"type\":\"mesh3d\",\"colorbar\":{\"outlinewidth\":0,\"ticks\":\"\"}}],\"scatter\":[{\"marker\":{\"line\":{\"color\":\"#283442\"}},\"type\":\"scatter\"}],\"parcoords\":[{\"type\":\"parcoords\",\"line\":{\"colorbar\":{\"outlinewidth\":0,\"ticks\":\"\"}}}],\"scatterpolargl\":[{\"type\":\"scatterpolargl\",\"marker\":{\"colorbar\":{\"outlinewidth\":0,\"ticks\":\"\"}}}],\"bar\":[{\"error_x\":{\"color\":\"#f2f5fa\"},\"error_y\":{\"color\":\"#f2f5fa\"},\"marker\":{\"line\":{\"color\":\"rgb(17,17,17)\",\"width\":0.5},\"pattern\":{\"fillmode\":\"overlay\",\"size\":10,\"solidity\":0.2}},\"type\":\"bar\"}],\"scattergeo\":[{\"type\":\"scattergeo\",\"marker\":{\"colorbar\":{\"outlinewidth\":0,\"ticks\":\"\"}}}],\"scatterpolar\":[{\"type\":\"scatterpolar\",\"marker\":{\"colorbar\":{\"outlinewidth\":0,\"ticks\":\"\"}}}],\"histogram\":[{\"marker\":{\"pattern\":{\"fillmode\":\"overlay\",\"size\":10,\"solidity\":0.2}},\"type\":\"histogram\"}],\"scattergl\":[{\"marker\":{\"line\":{\"color\":\"#283442\"}},\"type\":\"scattergl\"}],\"scatter3d\":[{\"type\":\"scatter3d\",\"line\":{\"colorbar\":{\"outlinewidth\":0,\"ticks\":\"\"}},\"marker\":{\"colorbar\":{\"outlinewidth\":0,\"ticks\":\"\"}}}],\"scattermapbox\":[{\"type\":\"scattermapbox\",\"marker\":{\"colorbar\":{\"outlinewidth\":0,\"ticks\":\"\"}}}],\"scatterternary\":[{\"type\":\"scatterternary\",\"marker\":{\"colorbar\":{\"outlinewidth\":0,\"ticks\":\"\"}}}],\"scattercarpet\":[{\"type\":\"scattercarpet\",\"marker\":{\"colorbar\":{\"outlinewidth\":0,\"ticks\":\"\"}}}],\"carpet\":[{\"aaxis\":{\"endlinecolor\":\"#A2B1C6\",\"gridcolor\":\"#506784\",\"linecolor\":\"#506784\",\"minorgridcolor\":\"#506784\",\"startlinecolor\":\"#A2B1C6\"},\"baxis\":{\"endlinecolor\":\"#A2B1C6\",\"gridcolor\":\"#506784\",\"linecolor\":\"#506784\",\"minorgridcolor\":\"#506784\",\"startlinecolor\":\"#A2B1C6\"},\"type\":\"carpet\"}],\"table\":[{\"cells\":{\"fill\":{\"color\":\"#506784\"},\"line\":{\"color\":\"rgb(17,17,17)\"}},\"header\":{\"fill\":{\"color\":\"#2a3f5f\"},\"line\":{\"color\":\"rgb(17,17,17)\"}},\"type\":\"table\"}],\"barpolar\":[{\"marker\":{\"line\":{\"color\":\"rgb(17,17,17)\",\"width\":0.5},\"pattern\":{\"fillmode\":\"overlay\",\"size\":10,\"solidity\":0.2}},\"type\":\"barpolar\"}],\"pie\":[{\"automargin\":true,\"type\":\"pie\"}]},\"layout\":{\"autotypenumbers\":\"strict\",\"colorway\":[\"#636efa\",\"#EF553B\",\"#00cc96\",\"#ab63fa\",\"#FFA15A\",\"#19d3f3\",\"#FF6692\",\"#B6E880\",\"#FF97FF\",\"#FECB52\"],\"font\":{\"color\":\"#f2f5fa\"},\"hovermode\":\"closest\",\"hoverlabel\":{\"align\":\"left\"},\"paper_bgcolor\":\"rgb(17,17,17)\",\"plot_bgcolor\":\"rgb(17,17,17)\",\"polar\":{\"bgcolor\":\"rgb(17,17,17)\",\"angularaxis\":{\"gridcolor\":\"#506784\",\"linecolor\":\"#506784\",\"ticks\":\"\"},\"radialaxis\":{\"gridcolor\":\"#506784\",\"linecolor\":\"#506784\",\"ticks\":\"\"}},\"ternary\":{\"bgcolor\":\"rgb(17,17,17)\",\"aaxis\":{\"gridcolor\":\"#506784\",\"linecolor\":\"#506784\",\"ticks\":\"\"},\"baxis\":{\"gridcolor\":\"#506784\",\"linecolor\":\"#506784\",\"ticks\":\"\"},\"caxis\":{\"gridcolor\":\"#506784\",\"linecolor\":\"#506784\",\"ticks\":\"\"}},\"coloraxis\":{\"colorbar\":{\"outlinewidth\":0,\"ticks\":\"\"}},\"colorscale\":{\"sequential\":[[0.0,\"#0d0887\"],[0.1111111111111111,\"#46039f\"],[0.2222222222222222,\"#7201a8\"],[0.3333333333333333,\"#9c179e\"],[0.4444444444444444,\"#bd3786\"],[0.5555555555555556,\"#d8576b\"],[0.6666666666666666,\"#ed7953\"],[0.7777777777777778,\"#fb9f3a\"],[0.8888888888888888,\"#fdca26\"],[1.0,\"#f0f921\"]],\"sequentialminus\":[[0.0,\"#0d0887\"],[0.1111111111111111,\"#46039f\"],[0.2222222222222222,\"#7201a8\"],[0.3333333333333333,\"#9c179e\"],[0.4444444444444444,\"#bd3786\"],[0.5555555555555556,\"#d8576b\"],[0.6666666666666666,\"#ed7953\"],[0.7777777777777778,\"#fb9f3a\"],[0.8888888888888888,\"#fdca26\"],[1.0,\"#f0f921\"]],\"diverging\":[[0,\"#8e0152\"],[0.1,\"#c51b7d\"],[0.2,\"#de77ae\"],[0.3,\"#f1b6da\"],[0.4,\"#fde0ef\"],[0.5,\"#f7f7f7\"],[0.6,\"#e6f5d0\"],[0.7,\"#b8e186\"],[0.8,\"#7fbc41\"],[0.9,\"#4d9221\"],[1,\"#276419\"]]},\"xaxis\":{\"gridcolor\":\"#283442\",\"linecolor\":\"#506784\",\"ticks\":\"\",\"title\":{\"standoff\":15},\"zerolinecolor\":\"#283442\",\"automargin\":true,\"zerolinewidth\":2},\"yaxis\":{\"gridcolor\":\"#283442\",\"linecolor\":\"#506784\",\"ticks\":\"\",\"title\":{\"standoff\":15},\"zerolinecolor\":\"#283442\",\"automargin\":true,\"zerolinewidth\":2},\"scene\":{\"xaxis\":{\"backgroundcolor\":\"rgb(17,17,17)\",\"gridcolor\":\"#506784\",\"linecolor\":\"#506784\",\"showbackground\":true,\"ticks\":\"\",\"zerolinecolor\":\"#C8D4E3\",\"gridwidth\":2},\"yaxis\":{\"backgroundcolor\":\"rgb(17,17,17)\",\"gridcolor\":\"#506784\",\"linecolor\":\"#506784\",\"showbackground\":true,\"ticks\":\"\",\"zerolinecolor\":\"#C8D4E3\",\"gridwidth\":2},\"zaxis\":{\"backgroundcolor\":\"rgb(17,17,17)\",\"gridcolor\":\"#506784\",\"linecolor\":\"#506784\",\"showbackground\":true,\"ticks\":\"\",\"zerolinecolor\":\"#C8D4E3\",\"gridwidth\":2}},\"shapedefaults\":{\"line\":{\"color\":\"#f2f5fa\"}},\"annotationdefaults\":{\"arrowcolor\":\"#f2f5fa\",\"arrowhead\":0,\"arrowwidth\":1},\"geo\":{\"bgcolor\":\"rgb(17,17,17)\",\"landcolor\":\"rgb(17,17,17)\",\"subunitcolor\":\"#506784\",\"showland\":true,\"showlakes\":true,\"lakecolor\":\"rgb(17,17,17)\"},\"title\":{\"x\":0.05},\"updatemenudefaults\":{\"bgcolor\":\"#506784\",\"borderwidth\":0},\"sliderdefaults\":{\"bgcolor\":\"#C8D4E3\",\"borderwidth\":1,\"bordercolor\":\"rgb(17,17,17)\",\"tickwidth\":0},\"mapbox\":{\"style\":\"dark\"}}},\"xaxis\":{\"anchor\":\"y\",\"domain\":[0.0,1.0],\"scaleanchor\":\"y\",\"constrain\":\"domain\",\"title\":{\"text\":\"Target\"}},\"yaxis\":{\"anchor\":\"x\",\"domain\":[0.0,1.0],\"autorange\":\"reversed\",\"constrain\":\"domain\",\"title\":{\"text\":\"Prediction\"}},\"coloraxis\":{\"colorscale\":[[0.0,\"#0d0887\"],[0.1111111111111111,\"#46039f\"],[0.2222222222222222,\"#7201a8\"],[0.3333333333333333,\"#9c179e\"],[0.4444444444444444,\"#bd3786\"],[0.5555555555555556,\"#d8576b\"],[0.6666666666666666,\"#ed7953\"],[0.7777777777777778,\"#fb9f3a\"],[0.8888888888888888,\"#fdca26\"],[1.0,\"#f0f921\"]]},\"margin\":{\"t\":60}},                        {\"responsive\": true}                    ).then(function(){\n",
       "                            \n",
       "var gd = document.getElementById('0447a8e5-d5b4-4d38-9a31-7e0d853e7a9c');\n",
       "var x = new MutationObserver(function (mutations, observer) {{\n",
       "        var display = window.getComputedStyle(gd).display;\n",
       "        if (!display || display === 'none') {{\n",
       "            console.log([gd, 'removed!']);\n",
       "            Plotly.purge(gd);\n",
       "            observer.disconnect();\n",
       "        }}\n",
       "}});\n",
       "\n",
       "// Listen for the removal of the full notebook cells\n",
       "var notebookContainer = gd.closest('#notebook-container');\n",
       "if (notebookContainer) {{\n",
       "    x.observe(notebookContainer, {childList: true});\n",
       "}}\n",
       "\n",
       "// Listen for the clearing of the current output cell\n",
       "var outputEl = gd.closest('.output');\n",
       "if (outputEl) {{\n",
       "    x.observe(outputEl, {childList: true});\n",
       "}}\n",
       "\n",
       "                        })                };                });            </script>        </div>"
      ]
     },
     "metadata": {},
     "output_type": "display_data"
    }
   ],
   "source": [
    "@score_for('CatBoosting GPU', 'train')\n",
    "@time_for('CatBoosting GPU', 'train')\n",
    "def train_cat_gpu():\n",
    "    return f1_score(cat_gpu_y_train, y_train, average='macro')\n",
    "\n",
    "print(\n",
    "    \"F1-мера для тренировочных данных с помощью \"\n",
    "    \"CatBoostClassifier на GPU:\", train_cat_gpu(),\n",
    ")\n",
    "draw_conf_matrix(y_train, cat_gpu_y_train)"
   ]
  },
  {
   "cell_type": "code",
   "execution_count": 47,
   "metadata": {},
   "outputs": [],
   "source": [
    "cat_gpu_y_test = cat_gpu_model.predict(X_test)"
   ]
  },
  {
   "cell_type": "code",
   "execution_count": 81,
   "metadata": {},
   "outputs": [
    {
     "name": "stdout",
     "output_type": "stream",
     "text": [
      "F1-мера для тестовых данных с помощью CatBoostClassifier на GPU: 0.9604606522486456\n"
     ]
    },
    {
     "data": {
      "application/vnd.plotly.v1+json": {
       "config": {
        "plotlyServerURL": "https://plot.ly"
       },
       "data": [
        {
         "coloraxis": "coloraxis",
         "hovertemplate": "x: %{x}<br>y: %{y}<br>color: %{z}<extra></extra>",
         "name": "0",
         "texttemplate": "%{z}",
         "type": "heatmap",
         "xaxis": "x",
         "yaxis": "y",
         "z": [
          [
           57446,
           891,
           526
          ],
          [
           1938,
           16830,
           3
          ],
          [
           13,
           0,
           21353
          ]
         ]
        }
       ],
       "layout": {
        "coloraxis": {
         "colorscale": [
          [
           0,
           "#0d0887"
          ],
          [
           0.1111111111111111,
           "#46039f"
          ],
          [
           0.2222222222222222,
           "#7201a8"
          ],
          [
           0.3333333333333333,
           "#9c179e"
          ],
          [
           0.4444444444444444,
           "#bd3786"
          ],
          [
           0.5555555555555556,
           "#d8576b"
          ],
          [
           0.6666666666666666,
           "#ed7953"
          ],
          [
           0.7777777777777778,
           "#fb9f3a"
          ],
          [
           0.8888888888888888,
           "#fdca26"
          ],
          [
           1,
           "#f0f921"
          ]
         ]
        },
        "margin": {
         "t": 60
        },
        "template": {
         "data": {
          "bar": [
           {
            "error_x": {
             "color": "#f2f5fa"
            },
            "error_y": {
             "color": "#f2f5fa"
            },
            "marker": {
             "line": {
              "color": "rgb(17,17,17)",
              "width": 0.5
             },
             "pattern": {
              "fillmode": "overlay",
              "size": 10,
              "solidity": 0.2
             }
            },
            "type": "bar"
           }
          ],
          "barpolar": [
           {
            "marker": {
             "line": {
              "color": "rgb(17,17,17)",
              "width": 0.5
             },
             "pattern": {
              "fillmode": "overlay",
              "size": 10,
              "solidity": 0.2
             }
            },
            "type": "barpolar"
           }
          ],
          "carpet": [
           {
            "aaxis": {
             "endlinecolor": "#A2B1C6",
             "gridcolor": "#506784",
             "linecolor": "#506784",
             "minorgridcolor": "#506784",
             "startlinecolor": "#A2B1C6"
            },
            "baxis": {
             "endlinecolor": "#A2B1C6",
             "gridcolor": "#506784",
             "linecolor": "#506784",
             "minorgridcolor": "#506784",
             "startlinecolor": "#A2B1C6"
            },
            "type": "carpet"
           }
          ],
          "choropleth": [
           {
            "colorbar": {
             "outlinewidth": 0,
             "ticks": ""
            },
            "type": "choropleth"
           }
          ],
          "contour": [
           {
            "colorbar": {
             "outlinewidth": 0,
             "ticks": ""
            },
            "colorscale": [
             [
              0,
              "#0d0887"
             ],
             [
              0.1111111111111111,
              "#46039f"
             ],
             [
              0.2222222222222222,
              "#7201a8"
             ],
             [
              0.3333333333333333,
              "#9c179e"
             ],
             [
              0.4444444444444444,
              "#bd3786"
             ],
             [
              0.5555555555555556,
              "#d8576b"
             ],
             [
              0.6666666666666666,
              "#ed7953"
             ],
             [
              0.7777777777777778,
              "#fb9f3a"
             ],
             [
              0.8888888888888888,
              "#fdca26"
             ],
             [
              1,
              "#f0f921"
             ]
            ],
            "type": "contour"
           }
          ],
          "contourcarpet": [
           {
            "colorbar": {
             "outlinewidth": 0,
             "ticks": ""
            },
            "type": "contourcarpet"
           }
          ],
          "heatmap": [
           {
            "colorbar": {
             "outlinewidth": 0,
             "ticks": ""
            },
            "colorscale": [
             [
              0,
              "#0d0887"
             ],
             [
              0.1111111111111111,
              "#46039f"
             ],
             [
              0.2222222222222222,
              "#7201a8"
             ],
             [
              0.3333333333333333,
              "#9c179e"
             ],
             [
              0.4444444444444444,
              "#bd3786"
             ],
             [
              0.5555555555555556,
              "#d8576b"
             ],
             [
              0.6666666666666666,
              "#ed7953"
             ],
             [
              0.7777777777777778,
              "#fb9f3a"
             ],
             [
              0.8888888888888888,
              "#fdca26"
             ],
             [
              1,
              "#f0f921"
             ]
            ],
            "type": "heatmap"
           }
          ],
          "heatmapgl": [
           {
            "colorbar": {
             "outlinewidth": 0,
             "ticks": ""
            },
            "colorscale": [
             [
              0,
              "#0d0887"
             ],
             [
              0.1111111111111111,
              "#46039f"
             ],
             [
              0.2222222222222222,
              "#7201a8"
             ],
             [
              0.3333333333333333,
              "#9c179e"
             ],
             [
              0.4444444444444444,
              "#bd3786"
             ],
             [
              0.5555555555555556,
              "#d8576b"
             ],
             [
              0.6666666666666666,
              "#ed7953"
             ],
             [
              0.7777777777777778,
              "#fb9f3a"
             ],
             [
              0.8888888888888888,
              "#fdca26"
             ],
             [
              1,
              "#f0f921"
             ]
            ],
            "type": "heatmapgl"
           }
          ],
          "histogram": [
           {
            "marker": {
             "pattern": {
              "fillmode": "overlay",
              "size": 10,
              "solidity": 0.2
             }
            },
            "type": "histogram"
           }
          ],
          "histogram2d": [
           {
            "colorbar": {
             "outlinewidth": 0,
             "ticks": ""
            },
            "colorscale": [
             [
              0,
              "#0d0887"
             ],
             [
              0.1111111111111111,
              "#46039f"
             ],
             [
              0.2222222222222222,
              "#7201a8"
             ],
             [
              0.3333333333333333,
              "#9c179e"
             ],
             [
              0.4444444444444444,
              "#bd3786"
             ],
             [
              0.5555555555555556,
              "#d8576b"
             ],
             [
              0.6666666666666666,
              "#ed7953"
             ],
             [
              0.7777777777777778,
              "#fb9f3a"
             ],
             [
              0.8888888888888888,
              "#fdca26"
             ],
             [
              1,
              "#f0f921"
             ]
            ],
            "type": "histogram2d"
           }
          ],
          "histogram2dcontour": [
           {
            "colorbar": {
             "outlinewidth": 0,
             "ticks": ""
            },
            "colorscale": [
             [
              0,
              "#0d0887"
             ],
             [
              0.1111111111111111,
              "#46039f"
             ],
             [
              0.2222222222222222,
              "#7201a8"
             ],
             [
              0.3333333333333333,
              "#9c179e"
             ],
             [
              0.4444444444444444,
              "#bd3786"
             ],
             [
              0.5555555555555556,
              "#d8576b"
             ],
             [
              0.6666666666666666,
              "#ed7953"
             ],
             [
              0.7777777777777778,
              "#fb9f3a"
             ],
             [
              0.8888888888888888,
              "#fdca26"
             ],
             [
              1,
              "#f0f921"
             ]
            ],
            "type": "histogram2dcontour"
           }
          ],
          "mesh3d": [
           {
            "colorbar": {
             "outlinewidth": 0,
             "ticks": ""
            },
            "type": "mesh3d"
           }
          ],
          "parcoords": [
           {
            "line": {
             "colorbar": {
              "outlinewidth": 0,
              "ticks": ""
             }
            },
            "type": "parcoords"
           }
          ],
          "pie": [
           {
            "automargin": true,
            "type": "pie"
           }
          ],
          "scatter": [
           {
            "marker": {
             "line": {
              "color": "#283442"
             }
            },
            "type": "scatter"
           }
          ],
          "scatter3d": [
           {
            "line": {
             "colorbar": {
              "outlinewidth": 0,
              "ticks": ""
             }
            },
            "marker": {
             "colorbar": {
              "outlinewidth": 0,
              "ticks": ""
             }
            },
            "type": "scatter3d"
           }
          ],
          "scattercarpet": [
           {
            "marker": {
             "colorbar": {
              "outlinewidth": 0,
              "ticks": ""
             }
            },
            "type": "scattercarpet"
           }
          ],
          "scattergeo": [
           {
            "marker": {
             "colorbar": {
              "outlinewidth": 0,
              "ticks": ""
             }
            },
            "type": "scattergeo"
           }
          ],
          "scattergl": [
           {
            "marker": {
             "line": {
              "color": "#283442"
             }
            },
            "type": "scattergl"
           }
          ],
          "scattermapbox": [
           {
            "marker": {
             "colorbar": {
              "outlinewidth": 0,
              "ticks": ""
             }
            },
            "type": "scattermapbox"
           }
          ],
          "scatterpolar": [
           {
            "marker": {
             "colorbar": {
              "outlinewidth": 0,
              "ticks": ""
             }
            },
            "type": "scatterpolar"
           }
          ],
          "scatterpolargl": [
           {
            "marker": {
             "colorbar": {
              "outlinewidth": 0,
              "ticks": ""
             }
            },
            "type": "scatterpolargl"
           }
          ],
          "scatterternary": [
           {
            "marker": {
             "colorbar": {
              "outlinewidth": 0,
              "ticks": ""
             }
            },
            "type": "scatterternary"
           }
          ],
          "surface": [
           {
            "colorbar": {
             "outlinewidth": 0,
             "ticks": ""
            },
            "colorscale": [
             [
              0,
              "#0d0887"
             ],
             [
              0.1111111111111111,
              "#46039f"
             ],
             [
              0.2222222222222222,
              "#7201a8"
             ],
             [
              0.3333333333333333,
              "#9c179e"
             ],
             [
              0.4444444444444444,
              "#bd3786"
             ],
             [
              0.5555555555555556,
              "#d8576b"
             ],
             [
              0.6666666666666666,
              "#ed7953"
             ],
             [
              0.7777777777777778,
              "#fb9f3a"
             ],
             [
              0.8888888888888888,
              "#fdca26"
             ],
             [
              1,
              "#f0f921"
             ]
            ],
            "type": "surface"
           }
          ],
          "table": [
           {
            "cells": {
             "fill": {
              "color": "#506784"
             },
             "line": {
              "color": "rgb(17,17,17)"
             }
            },
            "header": {
             "fill": {
              "color": "#2a3f5f"
             },
             "line": {
              "color": "rgb(17,17,17)"
             }
            },
            "type": "table"
           }
          ]
         },
         "layout": {
          "annotationdefaults": {
           "arrowcolor": "#f2f5fa",
           "arrowhead": 0,
           "arrowwidth": 1
          },
          "autotypenumbers": "strict",
          "coloraxis": {
           "colorbar": {
            "outlinewidth": 0,
            "ticks": ""
           }
          },
          "colorscale": {
           "diverging": [
            [
             0,
             "#8e0152"
            ],
            [
             0.1,
             "#c51b7d"
            ],
            [
             0.2,
             "#de77ae"
            ],
            [
             0.3,
             "#f1b6da"
            ],
            [
             0.4,
             "#fde0ef"
            ],
            [
             0.5,
             "#f7f7f7"
            ],
            [
             0.6,
             "#e6f5d0"
            ],
            [
             0.7,
             "#b8e186"
            ],
            [
             0.8,
             "#7fbc41"
            ],
            [
             0.9,
             "#4d9221"
            ],
            [
             1,
             "#276419"
            ]
           ],
           "sequential": [
            [
             0,
             "#0d0887"
            ],
            [
             0.1111111111111111,
             "#46039f"
            ],
            [
             0.2222222222222222,
             "#7201a8"
            ],
            [
             0.3333333333333333,
             "#9c179e"
            ],
            [
             0.4444444444444444,
             "#bd3786"
            ],
            [
             0.5555555555555556,
             "#d8576b"
            ],
            [
             0.6666666666666666,
             "#ed7953"
            ],
            [
             0.7777777777777778,
             "#fb9f3a"
            ],
            [
             0.8888888888888888,
             "#fdca26"
            ],
            [
             1,
             "#f0f921"
            ]
           ],
           "sequentialminus": [
            [
             0,
             "#0d0887"
            ],
            [
             0.1111111111111111,
             "#46039f"
            ],
            [
             0.2222222222222222,
             "#7201a8"
            ],
            [
             0.3333333333333333,
             "#9c179e"
            ],
            [
             0.4444444444444444,
             "#bd3786"
            ],
            [
             0.5555555555555556,
             "#d8576b"
            ],
            [
             0.6666666666666666,
             "#ed7953"
            ],
            [
             0.7777777777777778,
             "#fb9f3a"
            ],
            [
             0.8888888888888888,
             "#fdca26"
            ],
            [
             1,
             "#f0f921"
            ]
           ]
          },
          "colorway": [
           "#636efa",
           "#EF553B",
           "#00cc96",
           "#ab63fa",
           "#FFA15A",
           "#19d3f3",
           "#FF6692",
           "#B6E880",
           "#FF97FF",
           "#FECB52"
          ],
          "font": {
           "color": "#f2f5fa"
          },
          "geo": {
           "bgcolor": "rgb(17,17,17)",
           "lakecolor": "rgb(17,17,17)",
           "landcolor": "rgb(17,17,17)",
           "showlakes": true,
           "showland": true,
           "subunitcolor": "#506784"
          },
          "hoverlabel": {
           "align": "left"
          },
          "hovermode": "closest",
          "mapbox": {
           "style": "dark"
          },
          "paper_bgcolor": "rgb(17,17,17)",
          "plot_bgcolor": "rgb(17,17,17)",
          "polar": {
           "angularaxis": {
            "gridcolor": "#506784",
            "linecolor": "#506784",
            "ticks": ""
           },
           "bgcolor": "rgb(17,17,17)",
           "radialaxis": {
            "gridcolor": "#506784",
            "linecolor": "#506784",
            "ticks": ""
           }
          },
          "scene": {
           "xaxis": {
            "backgroundcolor": "rgb(17,17,17)",
            "gridcolor": "#506784",
            "gridwidth": 2,
            "linecolor": "#506784",
            "showbackground": true,
            "ticks": "",
            "zerolinecolor": "#C8D4E3"
           },
           "yaxis": {
            "backgroundcolor": "rgb(17,17,17)",
            "gridcolor": "#506784",
            "gridwidth": 2,
            "linecolor": "#506784",
            "showbackground": true,
            "ticks": "",
            "zerolinecolor": "#C8D4E3"
           },
           "zaxis": {
            "backgroundcolor": "rgb(17,17,17)",
            "gridcolor": "#506784",
            "gridwidth": 2,
            "linecolor": "#506784",
            "showbackground": true,
            "ticks": "",
            "zerolinecolor": "#C8D4E3"
           }
          },
          "shapedefaults": {
           "line": {
            "color": "#f2f5fa"
           }
          },
          "sliderdefaults": {
           "bgcolor": "#C8D4E3",
           "bordercolor": "rgb(17,17,17)",
           "borderwidth": 1,
           "tickwidth": 0
          },
          "ternary": {
           "aaxis": {
            "gridcolor": "#506784",
            "linecolor": "#506784",
            "ticks": ""
           },
           "baxis": {
            "gridcolor": "#506784",
            "linecolor": "#506784",
            "ticks": ""
           },
           "bgcolor": "rgb(17,17,17)",
           "caxis": {
            "gridcolor": "#506784",
            "linecolor": "#506784",
            "ticks": ""
           }
          },
          "title": {
           "x": 0.05
          },
          "updatemenudefaults": {
           "bgcolor": "#506784",
           "borderwidth": 0
          },
          "xaxis": {
           "automargin": true,
           "gridcolor": "#283442",
           "linecolor": "#506784",
           "ticks": "",
           "title": {
            "standoff": 15
           },
           "zerolinecolor": "#283442",
           "zerolinewidth": 2
          },
          "yaxis": {
           "automargin": true,
           "gridcolor": "#283442",
           "linecolor": "#506784",
           "ticks": "",
           "title": {
            "standoff": 15
           },
           "zerolinecolor": "#283442",
           "zerolinewidth": 2
          }
         }
        },
        "xaxis": {
         "anchor": "y",
         "constrain": "domain",
         "domain": [
          0,
          1
         ],
         "scaleanchor": "y",
         "title": {
          "text": "Target"
         }
        },
        "yaxis": {
         "anchor": "x",
         "autorange": "reversed",
         "constrain": "domain",
         "domain": [
          0,
          1
         ],
         "title": {
          "text": "Prediction"
         }
        }
       }
      },
      "text/html": [
       "<div>                            <div id=\"718160f7-4f28-4924-ad92-1badbb868170\" class=\"plotly-graph-div\" style=\"height:525px; width:100%;\"></div>            <script type=\"text/javascript\">                require([\"plotly\"], function(Plotly) {                    window.PLOTLYENV=window.PLOTLYENV || {};                                    if (document.getElementById(\"718160f7-4f28-4924-ad92-1badbb868170\")) {                    Plotly.newPlot(                        \"718160f7-4f28-4924-ad92-1badbb868170\",                        [{\"coloraxis\":\"coloraxis\",\"name\":\"0\",\"texttemplate\":\"%{z}\",\"z\":[[57446,891,526],[1938,16830,3],[13,0,21353]],\"type\":\"heatmap\",\"xaxis\":\"x\",\"yaxis\":\"y\",\"hovertemplate\":\"x: %{x}<br>y: %{y}<br>color: %{z}<extra></extra>\"}],                        {\"template\":{\"data\":{\"histogram2dcontour\":[{\"type\":\"histogram2dcontour\",\"colorbar\":{\"outlinewidth\":0,\"ticks\":\"\"},\"colorscale\":[[0.0,\"#0d0887\"],[0.1111111111111111,\"#46039f\"],[0.2222222222222222,\"#7201a8\"],[0.3333333333333333,\"#9c179e\"],[0.4444444444444444,\"#bd3786\"],[0.5555555555555556,\"#d8576b\"],[0.6666666666666666,\"#ed7953\"],[0.7777777777777778,\"#fb9f3a\"],[0.8888888888888888,\"#fdca26\"],[1.0,\"#f0f921\"]]}],\"choropleth\":[{\"type\":\"choropleth\",\"colorbar\":{\"outlinewidth\":0,\"ticks\":\"\"}}],\"histogram2d\":[{\"type\":\"histogram2d\",\"colorbar\":{\"outlinewidth\":0,\"ticks\":\"\"},\"colorscale\":[[0.0,\"#0d0887\"],[0.1111111111111111,\"#46039f\"],[0.2222222222222222,\"#7201a8\"],[0.3333333333333333,\"#9c179e\"],[0.4444444444444444,\"#bd3786\"],[0.5555555555555556,\"#d8576b\"],[0.6666666666666666,\"#ed7953\"],[0.7777777777777778,\"#fb9f3a\"],[0.8888888888888888,\"#fdca26\"],[1.0,\"#f0f921\"]]}],\"heatmap\":[{\"type\":\"heatmap\",\"colorbar\":{\"outlinewidth\":0,\"ticks\":\"\"},\"colorscale\":[[0.0,\"#0d0887\"],[0.1111111111111111,\"#46039f\"],[0.2222222222222222,\"#7201a8\"],[0.3333333333333333,\"#9c179e\"],[0.4444444444444444,\"#bd3786\"],[0.5555555555555556,\"#d8576b\"],[0.6666666666666666,\"#ed7953\"],[0.7777777777777778,\"#fb9f3a\"],[0.8888888888888888,\"#fdca26\"],[1.0,\"#f0f921\"]]}],\"heatmapgl\":[{\"type\":\"heatmapgl\",\"colorbar\":{\"outlinewidth\":0,\"ticks\":\"\"},\"colorscale\":[[0.0,\"#0d0887\"],[0.1111111111111111,\"#46039f\"],[0.2222222222222222,\"#7201a8\"],[0.3333333333333333,\"#9c179e\"],[0.4444444444444444,\"#bd3786\"],[0.5555555555555556,\"#d8576b\"],[0.6666666666666666,\"#ed7953\"],[0.7777777777777778,\"#fb9f3a\"],[0.8888888888888888,\"#fdca26\"],[1.0,\"#f0f921\"]]}],\"contourcarpet\":[{\"type\":\"contourcarpet\",\"colorbar\":{\"outlinewidth\":0,\"ticks\":\"\"}}],\"contour\":[{\"type\":\"contour\",\"colorbar\":{\"outlinewidth\":0,\"ticks\":\"\"},\"colorscale\":[[0.0,\"#0d0887\"],[0.1111111111111111,\"#46039f\"],[0.2222222222222222,\"#7201a8\"],[0.3333333333333333,\"#9c179e\"],[0.4444444444444444,\"#bd3786\"],[0.5555555555555556,\"#d8576b\"],[0.6666666666666666,\"#ed7953\"],[0.7777777777777778,\"#fb9f3a\"],[0.8888888888888888,\"#fdca26\"],[1.0,\"#f0f921\"]]}],\"surface\":[{\"type\":\"surface\",\"colorbar\":{\"outlinewidth\":0,\"ticks\":\"\"},\"colorscale\":[[0.0,\"#0d0887\"],[0.1111111111111111,\"#46039f\"],[0.2222222222222222,\"#7201a8\"],[0.3333333333333333,\"#9c179e\"],[0.4444444444444444,\"#bd3786\"],[0.5555555555555556,\"#d8576b\"],[0.6666666666666666,\"#ed7953\"],[0.7777777777777778,\"#fb9f3a\"],[0.8888888888888888,\"#fdca26\"],[1.0,\"#f0f921\"]]}],\"mesh3d\":[{\"type\":\"mesh3d\",\"colorbar\":{\"outlinewidth\":0,\"ticks\":\"\"}}],\"scatter\":[{\"marker\":{\"line\":{\"color\":\"#283442\"}},\"type\":\"scatter\"}],\"parcoords\":[{\"type\":\"parcoords\",\"line\":{\"colorbar\":{\"outlinewidth\":0,\"ticks\":\"\"}}}],\"scatterpolargl\":[{\"type\":\"scatterpolargl\",\"marker\":{\"colorbar\":{\"outlinewidth\":0,\"ticks\":\"\"}}}],\"bar\":[{\"error_x\":{\"color\":\"#f2f5fa\"},\"error_y\":{\"color\":\"#f2f5fa\"},\"marker\":{\"line\":{\"color\":\"rgb(17,17,17)\",\"width\":0.5},\"pattern\":{\"fillmode\":\"overlay\",\"size\":10,\"solidity\":0.2}},\"type\":\"bar\"}],\"scattergeo\":[{\"type\":\"scattergeo\",\"marker\":{\"colorbar\":{\"outlinewidth\":0,\"ticks\":\"\"}}}],\"scatterpolar\":[{\"type\":\"scatterpolar\",\"marker\":{\"colorbar\":{\"outlinewidth\":0,\"ticks\":\"\"}}}],\"histogram\":[{\"marker\":{\"pattern\":{\"fillmode\":\"overlay\",\"size\":10,\"solidity\":0.2}},\"type\":\"histogram\"}],\"scattergl\":[{\"marker\":{\"line\":{\"color\":\"#283442\"}},\"type\":\"scattergl\"}],\"scatter3d\":[{\"type\":\"scatter3d\",\"line\":{\"colorbar\":{\"outlinewidth\":0,\"ticks\":\"\"}},\"marker\":{\"colorbar\":{\"outlinewidth\":0,\"ticks\":\"\"}}}],\"scattermapbox\":[{\"type\":\"scattermapbox\",\"marker\":{\"colorbar\":{\"outlinewidth\":0,\"ticks\":\"\"}}}],\"scatterternary\":[{\"type\":\"scatterternary\",\"marker\":{\"colorbar\":{\"outlinewidth\":0,\"ticks\":\"\"}}}],\"scattercarpet\":[{\"type\":\"scattercarpet\",\"marker\":{\"colorbar\":{\"outlinewidth\":0,\"ticks\":\"\"}}}],\"carpet\":[{\"aaxis\":{\"endlinecolor\":\"#A2B1C6\",\"gridcolor\":\"#506784\",\"linecolor\":\"#506784\",\"minorgridcolor\":\"#506784\",\"startlinecolor\":\"#A2B1C6\"},\"baxis\":{\"endlinecolor\":\"#A2B1C6\",\"gridcolor\":\"#506784\",\"linecolor\":\"#506784\",\"minorgridcolor\":\"#506784\",\"startlinecolor\":\"#A2B1C6\"},\"type\":\"carpet\"}],\"table\":[{\"cells\":{\"fill\":{\"color\":\"#506784\"},\"line\":{\"color\":\"rgb(17,17,17)\"}},\"header\":{\"fill\":{\"color\":\"#2a3f5f\"},\"line\":{\"color\":\"rgb(17,17,17)\"}},\"type\":\"table\"}],\"barpolar\":[{\"marker\":{\"line\":{\"color\":\"rgb(17,17,17)\",\"width\":0.5},\"pattern\":{\"fillmode\":\"overlay\",\"size\":10,\"solidity\":0.2}},\"type\":\"barpolar\"}],\"pie\":[{\"automargin\":true,\"type\":\"pie\"}]},\"layout\":{\"autotypenumbers\":\"strict\",\"colorway\":[\"#636efa\",\"#EF553B\",\"#00cc96\",\"#ab63fa\",\"#FFA15A\",\"#19d3f3\",\"#FF6692\",\"#B6E880\",\"#FF97FF\",\"#FECB52\"],\"font\":{\"color\":\"#f2f5fa\"},\"hovermode\":\"closest\",\"hoverlabel\":{\"align\":\"left\"},\"paper_bgcolor\":\"rgb(17,17,17)\",\"plot_bgcolor\":\"rgb(17,17,17)\",\"polar\":{\"bgcolor\":\"rgb(17,17,17)\",\"angularaxis\":{\"gridcolor\":\"#506784\",\"linecolor\":\"#506784\",\"ticks\":\"\"},\"radialaxis\":{\"gridcolor\":\"#506784\",\"linecolor\":\"#506784\",\"ticks\":\"\"}},\"ternary\":{\"bgcolor\":\"rgb(17,17,17)\",\"aaxis\":{\"gridcolor\":\"#506784\",\"linecolor\":\"#506784\",\"ticks\":\"\"},\"baxis\":{\"gridcolor\":\"#506784\",\"linecolor\":\"#506784\",\"ticks\":\"\"},\"caxis\":{\"gridcolor\":\"#506784\",\"linecolor\":\"#506784\",\"ticks\":\"\"}},\"coloraxis\":{\"colorbar\":{\"outlinewidth\":0,\"ticks\":\"\"}},\"colorscale\":{\"sequential\":[[0.0,\"#0d0887\"],[0.1111111111111111,\"#46039f\"],[0.2222222222222222,\"#7201a8\"],[0.3333333333333333,\"#9c179e\"],[0.4444444444444444,\"#bd3786\"],[0.5555555555555556,\"#d8576b\"],[0.6666666666666666,\"#ed7953\"],[0.7777777777777778,\"#fb9f3a\"],[0.8888888888888888,\"#fdca26\"],[1.0,\"#f0f921\"]],\"sequentialminus\":[[0.0,\"#0d0887\"],[0.1111111111111111,\"#46039f\"],[0.2222222222222222,\"#7201a8\"],[0.3333333333333333,\"#9c179e\"],[0.4444444444444444,\"#bd3786\"],[0.5555555555555556,\"#d8576b\"],[0.6666666666666666,\"#ed7953\"],[0.7777777777777778,\"#fb9f3a\"],[0.8888888888888888,\"#fdca26\"],[1.0,\"#f0f921\"]],\"diverging\":[[0,\"#8e0152\"],[0.1,\"#c51b7d\"],[0.2,\"#de77ae\"],[0.3,\"#f1b6da\"],[0.4,\"#fde0ef\"],[0.5,\"#f7f7f7\"],[0.6,\"#e6f5d0\"],[0.7,\"#b8e186\"],[0.8,\"#7fbc41\"],[0.9,\"#4d9221\"],[1,\"#276419\"]]},\"xaxis\":{\"gridcolor\":\"#283442\",\"linecolor\":\"#506784\",\"ticks\":\"\",\"title\":{\"standoff\":15},\"zerolinecolor\":\"#283442\",\"automargin\":true,\"zerolinewidth\":2},\"yaxis\":{\"gridcolor\":\"#283442\",\"linecolor\":\"#506784\",\"ticks\":\"\",\"title\":{\"standoff\":15},\"zerolinecolor\":\"#283442\",\"automargin\":true,\"zerolinewidth\":2},\"scene\":{\"xaxis\":{\"backgroundcolor\":\"rgb(17,17,17)\",\"gridcolor\":\"#506784\",\"linecolor\":\"#506784\",\"showbackground\":true,\"ticks\":\"\",\"zerolinecolor\":\"#C8D4E3\",\"gridwidth\":2},\"yaxis\":{\"backgroundcolor\":\"rgb(17,17,17)\",\"gridcolor\":\"#506784\",\"linecolor\":\"#506784\",\"showbackground\":true,\"ticks\":\"\",\"zerolinecolor\":\"#C8D4E3\",\"gridwidth\":2},\"zaxis\":{\"backgroundcolor\":\"rgb(17,17,17)\",\"gridcolor\":\"#506784\",\"linecolor\":\"#506784\",\"showbackground\":true,\"ticks\":\"\",\"zerolinecolor\":\"#C8D4E3\",\"gridwidth\":2}},\"shapedefaults\":{\"line\":{\"color\":\"#f2f5fa\"}},\"annotationdefaults\":{\"arrowcolor\":\"#f2f5fa\",\"arrowhead\":0,\"arrowwidth\":1},\"geo\":{\"bgcolor\":\"rgb(17,17,17)\",\"landcolor\":\"rgb(17,17,17)\",\"subunitcolor\":\"#506784\",\"showland\":true,\"showlakes\":true,\"lakecolor\":\"rgb(17,17,17)\"},\"title\":{\"x\":0.05},\"updatemenudefaults\":{\"bgcolor\":\"#506784\",\"borderwidth\":0},\"sliderdefaults\":{\"bgcolor\":\"#C8D4E3\",\"borderwidth\":1,\"bordercolor\":\"rgb(17,17,17)\",\"tickwidth\":0},\"mapbox\":{\"style\":\"dark\"}}},\"xaxis\":{\"anchor\":\"y\",\"domain\":[0.0,1.0],\"scaleanchor\":\"y\",\"constrain\":\"domain\",\"title\":{\"text\":\"Target\"}},\"yaxis\":{\"anchor\":\"x\",\"domain\":[0.0,1.0],\"autorange\":\"reversed\",\"constrain\":\"domain\",\"title\":{\"text\":\"Prediction\"}},\"coloraxis\":{\"colorscale\":[[0.0,\"#0d0887\"],[0.1111111111111111,\"#46039f\"],[0.2222222222222222,\"#7201a8\"],[0.3333333333333333,\"#9c179e\"],[0.4444444444444444,\"#bd3786\"],[0.5555555555555556,\"#d8576b\"],[0.6666666666666666,\"#ed7953\"],[0.7777777777777778,\"#fb9f3a\"],[0.8888888888888888,\"#fdca26\"],[1.0,\"#f0f921\"]]},\"margin\":{\"t\":60}},                        {\"responsive\": true}                    ).then(function(){\n",
       "                            \n",
       "var gd = document.getElementById('718160f7-4f28-4924-ad92-1badbb868170');\n",
       "var x = new MutationObserver(function (mutations, observer) {{\n",
       "        var display = window.getComputedStyle(gd).display;\n",
       "        if (!display || display === 'none') {{\n",
       "            console.log([gd, 'removed!']);\n",
       "            Plotly.purge(gd);\n",
       "            observer.disconnect();\n",
       "        }}\n",
       "}});\n",
       "\n",
       "// Listen for the removal of the full notebook cells\n",
       "var notebookContainer = gd.closest('#notebook-container');\n",
       "if (notebookContainer) {{\n",
       "    x.observe(notebookContainer, {childList: true});\n",
       "}}\n",
       "\n",
       "// Listen for the clearing of the current output cell\n",
       "var outputEl = gd.closest('.output');\n",
       "if (outputEl) {{\n",
       "    x.observe(outputEl, {childList: true});\n",
       "}}\n",
       "\n",
       "                        })                };                });            </script>        </div>"
      ]
     },
     "metadata": {},
     "output_type": "display_data"
    }
   ],
   "source": [
    "@score_for('CatBoosting GPU', 'test')\n",
    "@time_for('CatBoosting GPU', 'test')\n",
    "def test_cat_gpu():\n",
    "    return f1_score(cat_gpu_y_test, y_test, average='macro')\n",
    "\n",
    "print(\n",
    "    \"F1-мера для тестовых данных с помощью \"\n",
    "    \"CatBoostClassifier на GPU:\", test_cat_gpu(),\n",
    ")\n",
    "draw_conf_matrix(y_test, cat_gpu_y_test)"
   ]
  },
  {
   "cell_type": "markdown",
   "metadata": {},
   "source": [
    "### Gradient Boosting"
   ]
  },
  {
   "cell_type": "code",
   "execution_count": 51,
   "metadata": {},
   "outputs": [],
   "source": [
    "from sklearn.ensemble import GradientBoostingClassifier\n",
    "\n",
    "@time_for('Gradient Boosting', 'predict')\n",
    "def fit_gradient():\n",
    "    return GradientBoostingClassifier(\n",
    "        random_state=random_state,\n",
    "    ).fit(X_train, y_train)\n",
    "\n",
    "gradient_model = fit_gradient()"
   ]
  },
  {
   "cell_type": "code",
   "execution_count": 52,
   "metadata": {},
   "outputs": [],
   "source": [
    "gradient_y_train = gradient_model.predict(X_train)"
   ]
  },
  {
   "cell_type": "code",
   "execution_count": 82,
   "metadata": {},
   "outputs": [
    {
     "name": "stdout",
     "output_type": "stream",
     "text": [
      "F1-мера для тренировочных данных с помощью GradientBoostingClassifier: 0.9988384942853769\n"
     ]
    },
    {
     "data": {
      "application/vnd.plotly.v1+json": {
       "config": {
        "plotlyServerURL": "https://plot.ly"
       },
       "data": [
        {
         "coloraxis": "coloraxis",
         "hovertemplate": "x: %{x}<br>y: %{y}<br>color: %{z}<extra></extra>",
         "name": "0",
         "texttemplate": "%{z}",
         "type": "heatmap",
         "xaxis": "x",
         "yaxis": "y",
         "z": [
          [
           581,
           1,
           0
          ],
          [
           0,
           190,
           0
          ],
          [
           0,
           0,
           228
          ]
         ]
        }
       ],
       "layout": {
        "coloraxis": {
         "colorscale": [
          [
           0,
           "#0d0887"
          ],
          [
           0.1111111111111111,
           "#46039f"
          ],
          [
           0.2222222222222222,
           "#7201a8"
          ],
          [
           0.3333333333333333,
           "#9c179e"
          ],
          [
           0.4444444444444444,
           "#bd3786"
          ],
          [
           0.5555555555555556,
           "#d8576b"
          ],
          [
           0.6666666666666666,
           "#ed7953"
          ],
          [
           0.7777777777777778,
           "#fb9f3a"
          ],
          [
           0.8888888888888888,
           "#fdca26"
          ],
          [
           1,
           "#f0f921"
          ]
         ]
        },
        "margin": {
         "t": 60
        },
        "template": {
         "data": {
          "bar": [
           {
            "error_x": {
             "color": "#f2f5fa"
            },
            "error_y": {
             "color": "#f2f5fa"
            },
            "marker": {
             "line": {
              "color": "rgb(17,17,17)",
              "width": 0.5
             },
             "pattern": {
              "fillmode": "overlay",
              "size": 10,
              "solidity": 0.2
             }
            },
            "type": "bar"
           }
          ],
          "barpolar": [
           {
            "marker": {
             "line": {
              "color": "rgb(17,17,17)",
              "width": 0.5
             },
             "pattern": {
              "fillmode": "overlay",
              "size": 10,
              "solidity": 0.2
             }
            },
            "type": "barpolar"
           }
          ],
          "carpet": [
           {
            "aaxis": {
             "endlinecolor": "#A2B1C6",
             "gridcolor": "#506784",
             "linecolor": "#506784",
             "minorgridcolor": "#506784",
             "startlinecolor": "#A2B1C6"
            },
            "baxis": {
             "endlinecolor": "#A2B1C6",
             "gridcolor": "#506784",
             "linecolor": "#506784",
             "minorgridcolor": "#506784",
             "startlinecolor": "#A2B1C6"
            },
            "type": "carpet"
           }
          ],
          "choropleth": [
           {
            "colorbar": {
             "outlinewidth": 0,
             "ticks": ""
            },
            "type": "choropleth"
           }
          ],
          "contour": [
           {
            "colorbar": {
             "outlinewidth": 0,
             "ticks": ""
            },
            "colorscale": [
             [
              0,
              "#0d0887"
             ],
             [
              0.1111111111111111,
              "#46039f"
             ],
             [
              0.2222222222222222,
              "#7201a8"
             ],
             [
              0.3333333333333333,
              "#9c179e"
             ],
             [
              0.4444444444444444,
              "#bd3786"
             ],
             [
              0.5555555555555556,
              "#d8576b"
             ],
             [
              0.6666666666666666,
              "#ed7953"
             ],
             [
              0.7777777777777778,
              "#fb9f3a"
             ],
             [
              0.8888888888888888,
              "#fdca26"
             ],
             [
              1,
              "#f0f921"
             ]
            ],
            "type": "contour"
           }
          ],
          "contourcarpet": [
           {
            "colorbar": {
             "outlinewidth": 0,
             "ticks": ""
            },
            "type": "contourcarpet"
           }
          ],
          "heatmap": [
           {
            "colorbar": {
             "outlinewidth": 0,
             "ticks": ""
            },
            "colorscale": [
             [
              0,
              "#0d0887"
             ],
             [
              0.1111111111111111,
              "#46039f"
             ],
             [
              0.2222222222222222,
              "#7201a8"
             ],
             [
              0.3333333333333333,
              "#9c179e"
             ],
             [
              0.4444444444444444,
              "#bd3786"
             ],
             [
              0.5555555555555556,
              "#d8576b"
             ],
             [
              0.6666666666666666,
              "#ed7953"
             ],
             [
              0.7777777777777778,
              "#fb9f3a"
             ],
             [
              0.8888888888888888,
              "#fdca26"
             ],
             [
              1,
              "#f0f921"
             ]
            ],
            "type": "heatmap"
           }
          ],
          "heatmapgl": [
           {
            "colorbar": {
             "outlinewidth": 0,
             "ticks": ""
            },
            "colorscale": [
             [
              0,
              "#0d0887"
             ],
             [
              0.1111111111111111,
              "#46039f"
             ],
             [
              0.2222222222222222,
              "#7201a8"
             ],
             [
              0.3333333333333333,
              "#9c179e"
             ],
             [
              0.4444444444444444,
              "#bd3786"
             ],
             [
              0.5555555555555556,
              "#d8576b"
             ],
             [
              0.6666666666666666,
              "#ed7953"
             ],
             [
              0.7777777777777778,
              "#fb9f3a"
             ],
             [
              0.8888888888888888,
              "#fdca26"
             ],
             [
              1,
              "#f0f921"
             ]
            ],
            "type": "heatmapgl"
           }
          ],
          "histogram": [
           {
            "marker": {
             "pattern": {
              "fillmode": "overlay",
              "size": 10,
              "solidity": 0.2
             }
            },
            "type": "histogram"
           }
          ],
          "histogram2d": [
           {
            "colorbar": {
             "outlinewidth": 0,
             "ticks": ""
            },
            "colorscale": [
             [
              0,
              "#0d0887"
             ],
             [
              0.1111111111111111,
              "#46039f"
             ],
             [
              0.2222222222222222,
              "#7201a8"
             ],
             [
              0.3333333333333333,
              "#9c179e"
             ],
             [
              0.4444444444444444,
              "#bd3786"
             ],
             [
              0.5555555555555556,
              "#d8576b"
             ],
             [
              0.6666666666666666,
              "#ed7953"
             ],
             [
              0.7777777777777778,
              "#fb9f3a"
             ],
             [
              0.8888888888888888,
              "#fdca26"
             ],
             [
              1,
              "#f0f921"
             ]
            ],
            "type": "histogram2d"
           }
          ],
          "histogram2dcontour": [
           {
            "colorbar": {
             "outlinewidth": 0,
             "ticks": ""
            },
            "colorscale": [
             [
              0,
              "#0d0887"
             ],
             [
              0.1111111111111111,
              "#46039f"
             ],
             [
              0.2222222222222222,
              "#7201a8"
             ],
             [
              0.3333333333333333,
              "#9c179e"
             ],
             [
              0.4444444444444444,
              "#bd3786"
             ],
             [
              0.5555555555555556,
              "#d8576b"
             ],
             [
              0.6666666666666666,
              "#ed7953"
             ],
             [
              0.7777777777777778,
              "#fb9f3a"
             ],
             [
              0.8888888888888888,
              "#fdca26"
             ],
             [
              1,
              "#f0f921"
             ]
            ],
            "type": "histogram2dcontour"
           }
          ],
          "mesh3d": [
           {
            "colorbar": {
             "outlinewidth": 0,
             "ticks": ""
            },
            "type": "mesh3d"
           }
          ],
          "parcoords": [
           {
            "line": {
             "colorbar": {
              "outlinewidth": 0,
              "ticks": ""
             }
            },
            "type": "parcoords"
           }
          ],
          "pie": [
           {
            "automargin": true,
            "type": "pie"
           }
          ],
          "scatter": [
           {
            "marker": {
             "line": {
              "color": "#283442"
             }
            },
            "type": "scatter"
           }
          ],
          "scatter3d": [
           {
            "line": {
             "colorbar": {
              "outlinewidth": 0,
              "ticks": ""
             }
            },
            "marker": {
             "colorbar": {
              "outlinewidth": 0,
              "ticks": ""
             }
            },
            "type": "scatter3d"
           }
          ],
          "scattercarpet": [
           {
            "marker": {
             "colorbar": {
              "outlinewidth": 0,
              "ticks": ""
             }
            },
            "type": "scattercarpet"
           }
          ],
          "scattergeo": [
           {
            "marker": {
             "colorbar": {
              "outlinewidth": 0,
              "ticks": ""
             }
            },
            "type": "scattergeo"
           }
          ],
          "scattergl": [
           {
            "marker": {
             "line": {
              "color": "#283442"
             }
            },
            "type": "scattergl"
           }
          ],
          "scattermapbox": [
           {
            "marker": {
             "colorbar": {
              "outlinewidth": 0,
              "ticks": ""
             }
            },
            "type": "scattermapbox"
           }
          ],
          "scatterpolar": [
           {
            "marker": {
             "colorbar": {
              "outlinewidth": 0,
              "ticks": ""
             }
            },
            "type": "scatterpolar"
           }
          ],
          "scatterpolargl": [
           {
            "marker": {
             "colorbar": {
              "outlinewidth": 0,
              "ticks": ""
             }
            },
            "type": "scatterpolargl"
           }
          ],
          "scatterternary": [
           {
            "marker": {
             "colorbar": {
              "outlinewidth": 0,
              "ticks": ""
             }
            },
            "type": "scatterternary"
           }
          ],
          "surface": [
           {
            "colorbar": {
             "outlinewidth": 0,
             "ticks": ""
            },
            "colorscale": [
             [
              0,
              "#0d0887"
             ],
             [
              0.1111111111111111,
              "#46039f"
             ],
             [
              0.2222222222222222,
              "#7201a8"
             ],
             [
              0.3333333333333333,
              "#9c179e"
             ],
             [
              0.4444444444444444,
              "#bd3786"
             ],
             [
              0.5555555555555556,
              "#d8576b"
             ],
             [
              0.6666666666666666,
              "#ed7953"
             ],
             [
              0.7777777777777778,
              "#fb9f3a"
             ],
             [
              0.8888888888888888,
              "#fdca26"
             ],
             [
              1,
              "#f0f921"
             ]
            ],
            "type": "surface"
           }
          ],
          "table": [
           {
            "cells": {
             "fill": {
              "color": "#506784"
             },
             "line": {
              "color": "rgb(17,17,17)"
             }
            },
            "header": {
             "fill": {
              "color": "#2a3f5f"
             },
             "line": {
              "color": "rgb(17,17,17)"
             }
            },
            "type": "table"
           }
          ]
         },
         "layout": {
          "annotationdefaults": {
           "arrowcolor": "#f2f5fa",
           "arrowhead": 0,
           "arrowwidth": 1
          },
          "autotypenumbers": "strict",
          "coloraxis": {
           "colorbar": {
            "outlinewidth": 0,
            "ticks": ""
           }
          },
          "colorscale": {
           "diverging": [
            [
             0,
             "#8e0152"
            ],
            [
             0.1,
             "#c51b7d"
            ],
            [
             0.2,
             "#de77ae"
            ],
            [
             0.3,
             "#f1b6da"
            ],
            [
             0.4,
             "#fde0ef"
            ],
            [
             0.5,
             "#f7f7f7"
            ],
            [
             0.6,
             "#e6f5d0"
            ],
            [
             0.7,
             "#b8e186"
            ],
            [
             0.8,
             "#7fbc41"
            ],
            [
             0.9,
             "#4d9221"
            ],
            [
             1,
             "#276419"
            ]
           ],
           "sequential": [
            [
             0,
             "#0d0887"
            ],
            [
             0.1111111111111111,
             "#46039f"
            ],
            [
             0.2222222222222222,
             "#7201a8"
            ],
            [
             0.3333333333333333,
             "#9c179e"
            ],
            [
             0.4444444444444444,
             "#bd3786"
            ],
            [
             0.5555555555555556,
             "#d8576b"
            ],
            [
             0.6666666666666666,
             "#ed7953"
            ],
            [
             0.7777777777777778,
             "#fb9f3a"
            ],
            [
             0.8888888888888888,
             "#fdca26"
            ],
            [
             1,
             "#f0f921"
            ]
           ],
           "sequentialminus": [
            [
             0,
             "#0d0887"
            ],
            [
             0.1111111111111111,
             "#46039f"
            ],
            [
             0.2222222222222222,
             "#7201a8"
            ],
            [
             0.3333333333333333,
             "#9c179e"
            ],
            [
             0.4444444444444444,
             "#bd3786"
            ],
            [
             0.5555555555555556,
             "#d8576b"
            ],
            [
             0.6666666666666666,
             "#ed7953"
            ],
            [
             0.7777777777777778,
             "#fb9f3a"
            ],
            [
             0.8888888888888888,
             "#fdca26"
            ],
            [
             1,
             "#f0f921"
            ]
           ]
          },
          "colorway": [
           "#636efa",
           "#EF553B",
           "#00cc96",
           "#ab63fa",
           "#FFA15A",
           "#19d3f3",
           "#FF6692",
           "#B6E880",
           "#FF97FF",
           "#FECB52"
          ],
          "font": {
           "color": "#f2f5fa"
          },
          "geo": {
           "bgcolor": "rgb(17,17,17)",
           "lakecolor": "rgb(17,17,17)",
           "landcolor": "rgb(17,17,17)",
           "showlakes": true,
           "showland": true,
           "subunitcolor": "#506784"
          },
          "hoverlabel": {
           "align": "left"
          },
          "hovermode": "closest",
          "mapbox": {
           "style": "dark"
          },
          "paper_bgcolor": "rgb(17,17,17)",
          "plot_bgcolor": "rgb(17,17,17)",
          "polar": {
           "angularaxis": {
            "gridcolor": "#506784",
            "linecolor": "#506784",
            "ticks": ""
           },
           "bgcolor": "rgb(17,17,17)",
           "radialaxis": {
            "gridcolor": "#506784",
            "linecolor": "#506784",
            "ticks": ""
           }
          },
          "scene": {
           "xaxis": {
            "backgroundcolor": "rgb(17,17,17)",
            "gridcolor": "#506784",
            "gridwidth": 2,
            "linecolor": "#506784",
            "showbackground": true,
            "ticks": "",
            "zerolinecolor": "#C8D4E3"
           },
           "yaxis": {
            "backgroundcolor": "rgb(17,17,17)",
            "gridcolor": "#506784",
            "gridwidth": 2,
            "linecolor": "#506784",
            "showbackground": true,
            "ticks": "",
            "zerolinecolor": "#C8D4E3"
           },
           "zaxis": {
            "backgroundcolor": "rgb(17,17,17)",
            "gridcolor": "#506784",
            "gridwidth": 2,
            "linecolor": "#506784",
            "showbackground": true,
            "ticks": "",
            "zerolinecolor": "#C8D4E3"
           }
          },
          "shapedefaults": {
           "line": {
            "color": "#f2f5fa"
           }
          },
          "sliderdefaults": {
           "bgcolor": "#C8D4E3",
           "bordercolor": "rgb(17,17,17)",
           "borderwidth": 1,
           "tickwidth": 0
          },
          "ternary": {
           "aaxis": {
            "gridcolor": "#506784",
            "linecolor": "#506784",
            "ticks": ""
           },
           "baxis": {
            "gridcolor": "#506784",
            "linecolor": "#506784",
            "ticks": ""
           },
           "bgcolor": "rgb(17,17,17)",
           "caxis": {
            "gridcolor": "#506784",
            "linecolor": "#506784",
            "ticks": ""
           }
          },
          "title": {
           "x": 0.05
          },
          "updatemenudefaults": {
           "bgcolor": "#506784",
           "borderwidth": 0
          },
          "xaxis": {
           "automargin": true,
           "gridcolor": "#283442",
           "linecolor": "#506784",
           "ticks": "",
           "title": {
            "standoff": 15
           },
           "zerolinecolor": "#283442",
           "zerolinewidth": 2
          },
          "yaxis": {
           "automargin": true,
           "gridcolor": "#283442",
           "linecolor": "#506784",
           "ticks": "",
           "title": {
            "standoff": 15
           },
           "zerolinecolor": "#283442",
           "zerolinewidth": 2
          }
         }
        },
        "xaxis": {
         "anchor": "y",
         "constrain": "domain",
         "domain": [
          0,
          1
         ],
         "scaleanchor": "y",
         "title": {
          "text": "Target"
         }
        },
        "yaxis": {
         "anchor": "x",
         "autorange": "reversed",
         "constrain": "domain",
         "domain": [
          0,
          1
         ],
         "title": {
          "text": "Prediction"
         }
        }
       }
      },
      "text/html": [
       "<div>                            <div id=\"38bd35cf-833a-48cb-9a9a-c230aa98438a\" class=\"plotly-graph-div\" style=\"height:525px; width:100%;\"></div>            <script type=\"text/javascript\">                require([\"plotly\"], function(Plotly) {                    window.PLOTLYENV=window.PLOTLYENV || {};                                    if (document.getElementById(\"38bd35cf-833a-48cb-9a9a-c230aa98438a\")) {                    Plotly.newPlot(                        \"38bd35cf-833a-48cb-9a9a-c230aa98438a\",                        [{\"coloraxis\":\"coloraxis\",\"name\":\"0\",\"texttemplate\":\"%{z}\",\"z\":[[581,1,0],[0,190,0],[0,0,228]],\"type\":\"heatmap\",\"xaxis\":\"x\",\"yaxis\":\"y\",\"hovertemplate\":\"x: %{x}<br>y: %{y}<br>color: %{z}<extra></extra>\"}],                        {\"template\":{\"data\":{\"histogram2dcontour\":[{\"type\":\"histogram2dcontour\",\"colorbar\":{\"outlinewidth\":0,\"ticks\":\"\"},\"colorscale\":[[0.0,\"#0d0887\"],[0.1111111111111111,\"#46039f\"],[0.2222222222222222,\"#7201a8\"],[0.3333333333333333,\"#9c179e\"],[0.4444444444444444,\"#bd3786\"],[0.5555555555555556,\"#d8576b\"],[0.6666666666666666,\"#ed7953\"],[0.7777777777777778,\"#fb9f3a\"],[0.8888888888888888,\"#fdca26\"],[1.0,\"#f0f921\"]]}],\"choropleth\":[{\"type\":\"choropleth\",\"colorbar\":{\"outlinewidth\":0,\"ticks\":\"\"}}],\"histogram2d\":[{\"type\":\"histogram2d\",\"colorbar\":{\"outlinewidth\":0,\"ticks\":\"\"},\"colorscale\":[[0.0,\"#0d0887\"],[0.1111111111111111,\"#46039f\"],[0.2222222222222222,\"#7201a8\"],[0.3333333333333333,\"#9c179e\"],[0.4444444444444444,\"#bd3786\"],[0.5555555555555556,\"#d8576b\"],[0.6666666666666666,\"#ed7953\"],[0.7777777777777778,\"#fb9f3a\"],[0.8888888888888888,\"#fdca26\"],[1.0,\"#f0f921\"]]}],\"heatmap\":[{\"type\":\"heatmap\",\"colorbar\":{\"outlinewidth\":0,\"ticks\":\"\"},\"colorscale\":[[0.0,\"#0d0887\"],[0.1111111111111111,\"#46039f\"],[0.2222222222222222,\"#7201a8\"],[0.3333333333333333,\"#9c179e\"],[0.4444444444444444,\"#bd3786\"],[0.5555555555555556,\"#d8576b\"],[0.6666666666666666,\"#ed7953\"],[0.7777777777777778,\"#fb9f3a\"],[0.8888888888888888,\"#fdca26\"],[1.0,\"#f0f921\"]]}],\"heatmapgl\":[{\"type\":\"heatmapgl\",\"colorbar\":{\"outlinewidth\":0,\"ticks\":\"\"},\"colorscale\":[[0.0,\"#0d0887\"],[0.1111111111111111,\"#46039f\"],[0.2222222222222222,\"#7201a8\"],[0.3333333333333333,\"#9c179e\"],[0.4444444444444444,\"#bd3786\"],[0.5555555555555556,\"#d8576b\"],[0.6666666666666666,\"#ed7953\"],[0.7777777777777778,\"#fb9f3a\"],[0.8888888888888888,\"#fdca26\"],[1.0,\"#f0f921\"]]}],\"contourcarpet\":[{\"type\":\"contourcarpet\",\"colorbar\":{\"outlinewidth\":0,\"ticks\":\"\"}}],\"contour\":[{\"type\":\"contour\",\"colorbar\":{\"outlinewidth\":0,\"ticks\":\"\"},\"colorscale\":[[0.0,\"#0d0887\"],[0.1111111111111111,\"#46039f\"],[0.2222222222222222,\"#7201a8\"],[0.3333333333333333,\"#9c179e\"],[0.4444444444444444,\"#bd3786\"],[0.5555555555555556,\"#d8576b\"],[0.6666666666666666,\"#ed7953\"],[0.7777777777777778,\"#fb9f3a\"],[0.8888888888888888,\"#fdca26\"],[1.0,\"#f0f921\"]]}],\"surface\":[{\"type\":\"surface\",\"colorbar\":{\"outlinewidth\":0,\"ticks\":\"\"},\"colorscale\":[[0.0,\"#0d0887\"],[0.1111111111111111,\"#46039f\"],[0.2222222222222222,\"#7201a8\"],[0.3333333333333333,\"#9c179e\"],[0.4444444444444444,\"#bd3786\"],[0.5555555555555556,\"#d8576b\"],[0.6666666666666666,\"#ed7953\"],[0.7777777777777778,\"#fb9f3a\"],[0.8888888888888888,\"#fdca26\"],[1.0,\"#f0f921\"]]}],\"mesh3d\":[{\"type\":\"mesh3d\",\"colorbar\":{\"outlinewidth\":0,\"ticks\":\"\"}}],\"scatter\":[{\"marker\":{\"line\":{\"color\":\"#283442\"}},\"type\":\"scatter\"}],\"parcoords\":[{\"type\":\"parcoords\",\"line\":{\"colorbar\":{\"outlinewidth\":0,\"ticks\":\"\"}}}],\"scatterpolargl\":[{\"type\":\"scatterpolargl\",\"marker\":{\"colorbar\":{\"outlinewidth\":0,\"ticks\":\"\"}}}],\"bar\":[{\"error_x\":{\"color\":\"#f2f5fa\"},\"error_y\":{\"color\":\"#f2f5fa\"},\"marker\":{\"line\":{\"color\":\"rgb(17,17,17)\",\"width\":0.5},\"pattern\":{\"fillmode\":\"overlay\",\"size\":10,\"solidity\":0.2}},\"type\":\"bar\"}],\"scattergeo\":[{\"type\":\"scattergeo\",\"marker\":{\"colorbar\":{\"outlinewidth\":0,\"ticks\":\"\"}}}],\"scatterpolar\":[{\"type\":\"scatterpolar\",\"marker\":{\"colorbar\":{\"outlinewidth\":0,\"ticks\":\"\"}}}],\"histogram\":[{\"marker\":{\"pattern\":{\"fillmode\":\"overlay\",\"size\":10,\"solidity\":0.2}},\"type\":\"histogram\"}],\"scattergl\":[{\"marker\":{\"line\":{\"color\":\"#283442\"}},\"type\":\"scattergl\"}],\"scatter3d\":[{\"type\":\"scatter3d\",\"line\":{\"colorbar\":{\"outlinewidth\":0,\"ticks\":\"\"}},\"marker\":{\"colorbar\":{\"outlinewidth\":0,\"ticks\":\"\"}}}],\"scattermapbox\":[{\"type\":\"scattermapbox\",\"marker\":{\"colorbar\":{\"outlinewidth\":0,\"ticks\":\"\"}}}],\"scatterternary\":[{\"type\":\"scatterternary\",\"marker\":{\"colorbar\":{\"outlinewidth\":0,\"ticks\":\"\"}}}],\"scattercarpet\":[{\"type\":\"scattercarpet\",\"marker\":{\"colorbar\":{\"outlinewidth\":0,\"ticks\":\"\"}}}],\"carpet\":[{\"aaxis\":{\"endlinecolor\":\"#A2B1C6\",\"gridcolor\":\"#506784\",\"linecolor\":\"#506784\",\"minorgridcolor\":\"#506784\",\"startlinecolor\":\"#A2B1C6\"},\"baxis\":{\"endlinecolor\":\"#A2B1C6\",\"gridcolor\":\"#506784\",\"linecolor\":\"#506784\",\"minorgridcolor\":\"#506784\",\"startlinecolor\":\"#A2B1C6\"},\"type\":\"carpet\"}],\"table\":[{\"cells\":{\"fill\":{\"color\":\"#506784\"},\"line\":{\"color\":\"rgb(17,17,17)\"}},\"header\":{\"fill\":{\"color\":\"#2a3f5f\"},\"line\":{\"color\":\"rgb(17,17,17)\"}},\"type\":\"table\"}],\"barpolar\":[{\"marker\":{\"line\":{\"color\":\"rgb(17,17,17)\",\"width\":0.5},\"pattern\":{\"fillmode\":\"overlay\",\"size\":10,\"solidity\":0.2}},\"type\":\"barpolar\"}],\"pie\":[{\"automargin\":true,\"type\":\"pie\"}]},\"layout\":{\"autotypenumbers\":\"strict\",\"colorway\":[\"#636efa\",\"#EF553B\",\"#00cc96\",\"#ab63fa\",\"#FFA15A\",\"#19d3f3\",\"#FF6692\",\"#B6E880\",\"#FF97FF\",\"#FECB52\"],\"font\":{\"color\":\"#f2f5fa\"},\"hovermode\":\"closest\",\"hoverlabel\":{\"align\":\"left\"},\"paper_bgcolor\":\"rgb(17,17,17)\",\"plot_bgcolor\":\"rgb(17,17,17)\",\"polar\":{\"bgcolor\":\"rgb(17,17,17)\",\"angularaxis\":{\"gridcolor\":\"#506784\",\"linecolor\":\"#506784\",\"ticks\":\"\"},\"radialaxis\":{\"gridcolor\":\"#506784\",\"linecolor\":\"#506784\",\"ticks\":\"\"}},\"ternary\":{\"bgcolor\":\"rgb(17,17,17)\",\"aaxis\":{\"gridcolor\":\"#506784\",\"linecolor\":\"#506784\",\"ticks\":\"\"},\"baxis\":{\"gridcolor\":\"#506784\",\"linecolor\":\"#506784\",\"ticks\":\"\"},\"caxis\":{\"gridcolor\":\"#506784\",\"linecolor\":\"#506784\",\"ticks\":\"\"}},\"coloraxis\":{\"colorbar\":{\"outlinewidth\":0,\"ticks\":\"\"}},\"colorscale\":{\"sequential\":[[0.0,\"#0d0887\"],[0.1111111111111111,\"#46039f\"],[0.2222222222222222,\"#7201a8\"],[0.3333333333333333,\"#9c179e\"],[0.4444444444444444,\"#bd3786\"],[0.5555555555555556,\"#d8576b\"],[0.6666666666666666,\"#ed7953\"],[0.7777777777777778,\"#fb9f3a\"],[0.8888888888888888,\"#fdca26\"],[1.0,\"#f0f921\"]],\"sequentialminus\":[[0.0,\"#0d0887\"],[0.1111111111111111,\"#46039f\"],[0.2222222222222222,\"#7201a8\"],[0.3333333333333333,\"#9c179e\"],[0.4444444444444444,\"#bd3786\"],[0.5555555555555556,\"#d8576b\"],[0.6666666666666666,\"#ed7953\"],[0.7777777777777778,\"#fb9f3a\"],[0.8888888888888888,\"#fdca26\"],[1.0,\"#f0f921\"]],\"diverging\":[[0,\"#8e0152\"],[0.1,\"#c51b7d\"],[0.2,\"#de77ae\"],[0.3,\"#f1b6da\"],[0.4,\"#fde0ef\"],[0.5,\"#f7f7f7\"],[0.6,\"#e6f5d0\"],[0.7,\"#b8e186\"],[0.8,\"#7fbc41\"],[0.9,\"#4d9221\"],[1,\"#276419\"]]},\"xaxis\":{\"gridcolor\":\"#283442\",\"linecolor\":\"#506784\",\"ticks\":\"\",\"title\":{\"standoff\":15},\"zerolinecolor\":\"#283442\",\"automargin\":true,\"zerolinewidth\":2},\"yaxis\":{\"gridcolor\":\"#283442\",\"linecolor\":\"#506784\",\"ticks\":\"\",\"title\":{\"standoff\":15},\"zerolinecolor\":\"#283442\",\"automargin\":true,\"zerolinewidth\":2},\"scene\":{\"xaxis\":{\"backgroundcolor\":\"rgb(17,17,17)\",\"gridcolor\":\"#506784\",\"linecolor\":\"#506784\",\"showbackground\":true,\"ticks\":\"\",\"zerolinecolor\":\"#C8D4E3\",\"gridwidth\":2},\"yaxis\":{\"backgroundcolor\":\"rgb(17,17,17)\",\"gridcolor\":\"#506784\",\"linecolor\":\"#506784\",\"showbackground\":true,\"ticks\":\"\",\"zerolinecolor\":\"#C8D4E3\",\"gridwidth\":2},\"zaxis\":{\"backgroundcolor\":\"rgb(17,17,17)\",\"gridcolor\":\"#506784\",\"linecolor\":\"#506784\",\"showbackground\":true,\"ticks\":\"\",\"zerolinecolor\":\"#C8D4E3\",\"gridwidth\":2}},\"shapedefaults\":{\"line\":{\"color\":\"#f2f5fa\"}},\"annotationdefaults\":{\"arrowcolor\":\"#f2f5fa\",\"arrowhead\":0,\"arrowwidth\":1},\"geo\":{\"bgcolor\":\"rgb(17,17,17)\",\"landcolor\":\"rgb(17,17,17)\",\"subunitcolor\":\"#506784\",\"showland\":true,\"showlakes\":true,\"lakecolor\":\"rgb(17,17,17)\"},\"title\":{\"x\":0.05},\"updatemenudefaults\":{\"bgcolor\":\"#506784\",\"borderwidth\":0},\"sliderdefaults\":{\"bgcolor\":\"#C8D4E3\",\"borderwidth\":1,\"bordercolor\":\"rgb(17,17,17)\",\"tickwidth\":0},\"mapbox\":{\"style\":\"dark\"}}},\"xaxis\":{\"anchor\":\"y\",\"domain\":[0.0,1.0],\"scaleanchor\":\"y\",\"constrain\":\"domain\",\"title\":{\"text\":\"Target\"}},\"yaxis\":{\"anchor\":\"x\",\"domain\":[0.0,1.0],\"autorange\":\"reversed\",\"constrain\":\"domain\",\"title\":{\"text\":\"Prediction\"}},\"coloraxis\":{\"colorscale\":[[0.0,\"#0d0887\"],[0.1111111111111111,\"#46039f\"],[0.2222222222222222,\"#7201a8\"],[0.3333333333333333,\"#9c179e\"],[0.4444444444444444,\"#bd3786\"],[0.5555555555555556,\"#d8576b\"],[0.6666666666666666,\"#ed7953\"],[0.7777777777777778,\"#fb9f3a\"],[0.8888888888888888,\"#fdca26\"],[1.0,\"#f0f921\"]]},\"margin\":{\"t\":60}},                        {\"responsive\": true}                    ).then(function(){\n",
       "                            \n",
       "var gd = document.getElementById('38bd35cf-833a-48cb-9a9a-c230aa98438a');\n",
       "var x = new MutationObserver(function (mutations, observer) {{\n",
       "        var display = window.getComputedStyle(gd).display;\n",
       "        if (!display || display === 'none') {{\n",
       "            console.log([gd, 'removed!']);\n",
       "            Plotly.purge(gd);\n",
       "            observer.disconnect();\n",
       "        }}\n",
       "}});\n",
       "\n",
       "// Listen for the removal of the full notebook cells\n",
       "var notebookContainer = gd.closest('#notebook-container');\n",
       "if (notebookContainer) {{\n",
       "    x.observe(notebookContainer, {childList: true});\n",
       "}}\n",
       "\n",
       "// Listen for the clearing of the current output cell\n",
       "var outputEl = gd.closest('.output');\n",
       "if (outputEl) {{\n",
       "    x.observe(outputEl, {childList: true});\n",
       "}}\n",
       "\n",
       "                        })                };                });            </script>        </div>"
      ]
     },
     "metadata": {},
     "output_type": "display_data"
    }
   ],
   "source": [
    "@score_for('Gradient Boosting', 'train')\n",
    "@time_for('Gradient Boosting', 'train')\n",
    "def train_gradient():\n",
    "    return f1_score(gradient_y_train, y_train, average='macro')\n",
    "\n",
    "print(\n",
    "    \"F1-мера для тренировочных данных с помощью \"\n",
    "    \"GradientBoostingClassifier:\", train_gradient(),\n",
    ")\n",
    "draw_conf_matrix(y_train, gradient_y_train)"
   ]
  },
  {
   "cell_type": "code",
   "execution_count": 54,
   "metadata": {},
   "outputs": [],
   "source": [
    "gradient_y_test = gradient_model.predict(X_test)"
   ]
  },
  {
   "cell_type": "code",
   "execution_count": 83,
   "metadata": {},
   "outputs": [
    {
     "name": "stdout",
     "output_type": "stream",
     "text": [
      "F1-мера для тестовых данных с помощью GradientBoostingClassifier: 0.960838685258659\n"
     ]
    },
    {
     "data": {
      "application/vnd.plotly.v1+json": {
       "config": {
        "plotlyServerURL": "https://plot.ly"
       },
       "data": [
        {
         "coloraxis": "coloraxis",
         "hovertemplate": "x: %{x}<br>y: %{y}<br>color: %{z}<extra></extra>",
         "name": "0",
         "texttemplate": "%{z}",
         "type": "heatmap",
         "xaxis": "x",
         "yaxis": "y",
         "z": [
          [
           57920,
           787,
           156
          ],
          [
           2186,
           16582,
           3
          ],
          [
           162,
           0,
           21204
          ]
         ]
        }
       ],
       "layout": {
        "coloraxis": {
         "colorscale": [
          [
           0,
           "#0d0887"
          ],
          [
           0.1111111111111111,
           "#46039f"
          ],
          [
           0.2222222222222222,
           "#7201a8"
          ],
          [
           0.3333333333333333,
           "#9c179e"
          ],
          [
           0.4444444444444444,
           "#bd3786"
          ],
          [
           0.5555555555555556,
           "#d8576b"
          ],
          [
           0.6666666666666666,
           "#ed7953"
          ],
          [
           0.7777777777777778,
           "#fb9f3a"
          ],
          [
           0.8888888888888888,
           "#fdca26"
          ],
          [
           1,
           "#f0f921"
          ]
         ]
        },
        "margin": {
         "t": 60
        },
        "template": {
         "data": {
          "bar": [
           {
            "error_x": {
             "color": "#f2f5fa"
            },
            "error_y": {
             "color": "#f2f5fa"
            },
            "marker": {
             "line": {
              "color": "rgb(17,17,17)",
              "width": 0.5
             },
             "pattern": {
              "fillmode": "overlay",
              "size": 10,
              "solidity": 0.2
             }
            },
            "type": "bar"
           }
          ],
          "barpolar": [
           {
            "marker": {
             "line": {
              "color": "rgb(17,17,17)",
              "width": 0.5
             },
             "pattern": {
              "fillmode": "overlay",
              "size": 10,
              "solidity": 0.2
             }
            },
            "type": "barpolar"
           }
          ],
          "carpet": [
           {
            "aaxis": {
             "endlinecolor": "#A2B1C6",
             "gridcolor": "#506784",
             "linecolor": "#506784",
             "minorgridcolor": "#506784",
             "startlinecolor": "#A2B1C6"
            },
            "baxis": {
             "endlinecolor": "#A2B1C6",
             "gridcolor": "#506784",
             "linecolor": "#506784",
             "minorgridcolor": "#506784",
             "startlinecolor": "#A2B1C6"
            },
            "type": "carpet"
           }
          ],
          "choropleth": [
           {
            "colorbar": {
             "outlinewidth": 0,
             "ticks": ""
            },
            "type": "choropleth"
           }
          ],
          "contour": [
           {
            "colorbar": {
             "outlinewidth": 0,
             "ticks": ""
            },
            "colorscale": [
             [
              0,
              "#0d0887"
             ],
             [
              0.1111111111111111,
              "#46039f"
             ],
             [
              0.2222222222222222,
              "#7201a8"
             ],
             [
              0.3333333333333333,
              "#9c179e"
             ],
             [
              0.4444444444444444,
              "#bd3786"
             ],
             [
              0.5555555555555556,
              "#d8576b"
             ],
             [
              0.6666666666666666,
              "#ed7953"
             ],
             [
              0.7777777777777778,
              "#fb9f3a"
             ],
             [
              0.8888888888888888,
              "#fdca26"
             ],
             [
              1,
              "#f0f921"
             ]
            ],
            "type": "contour"
           }
          ],
          "contourcarpet": [
           {
            "colorbar": {
             "outlinewidth": 0,
             "ticks": ""
            },
            "type": "contourcarpet"
           }
          ],
          "heatmap": [
           {
            "colorbar": {
             "outlinewidth": 0,
             "ticks": ""
            },
            "colorscale": [
             [
              0,
              "#0d0887"
             ],
             [
              0.1111111111111111,
              "#46039f"
             ],
             [
              0.2222222222222222,
              "#7201a8"
             ],
             [
              0.3333333333333333,
              "#9c179e"
             ],
             [
              0.4444444444444444,
              "#bd3786"
             ],
             [
              0.5555555555555556,
              "#d8576b"
             ],
             [
              0.6666666666666666,
              "#ed7953"
             ],
             [
              0.7777777777777778,
              "#fb9f3a"
             ],
             [
              0.8888888888888888,
              "#fdca26"
             ],
             [
              1,
              "#f0f921"
             ]
            ],
            "type": "heatmap"
           }
          ],
          "heatmapgl": [
           {
            "colorbar": {
             "outlinewidth": 0,
             "ticks": ""
            },
            "colorscale": [
             [
              0,
              "#0d0887"
             ],
             [
              0.1111111111111111,
              "#46039f"
             ],
             [
              0.2222222222222222,
              "#7201a8"
             ],
             [
              0.3333333333333333,
              "#9c179e"
             ],
             [
              0.4444444444444444,
              "#bd3786"
             ],
             [
              0.5555555555555556,
              "#d8576b"
             ],
             [
              0.6666666666666666,
              "#ed7953"
             ],
             [
              0.7777777777777778,
              "#fb9f3a"
             ],
             [
              0.8888888888888888,
              "#fdca26"
             ],
             [
              1,
              "#f0f921"
             ]
            ],
            "type": "heatmapgl"
           }
          ],
          "histogram": [
           {
            "marker": {
             "pattern": {
              "fillmode": "overlay",
              "size": 10,
              "solidity": 0.2
             }
            },
            "type": "histogram"
           }
          ],
          "histogram2d": [
           {
            "colorbar": {
             "outlinewidth": 0,
             "ticks": ""
            },
            "colorscale": [
             [
              0,
              "#0d0887"
             ],
             [
              0.1111111111111111,
              "#46039f"
             ],
             [
              0.2222222222222222,
              "#7201a8"
             ],
             [
              0.3333333333333333,
              "#9c179e"
             ],
             [
              0.4444444444444444,
              "#bd3786"
             ],
             [
              0.5555555555555556,
              "#d8576b"
             ],
             [
              0.6666666666666666,
              "#ed7953"
             ],
             [
              0.7777777777777778,
              "#fb9f3a"
             ],
             [
              0.8888888888888888,
              "#fdca26"
             ],
             [
              1,
              "#f0f921"
             ]
            ],
            "type": "histogram2d"
           }
          ],
          "histogram2dcontour": [
           {
            "colorbar": {
             "outlinewidth": 0,
             "ticks": ""
            },
            "colorscale": [
             [
              0,
              "#0d0887"
             ],
             [
              0.1111111111111111,
              "#46039f"
             ],
             [
              0.2222222222222222,
              "#7201a8"
             ],
             [
              0.3333333333333333,
              "#9c179e"
             ],
             [
              0.4444444444444444,
              "#bd3786"
             ],
             [
              0.5555555555555556,
              "#d8576b"
             ],
             [
              0.6666666666666666,
              "#ed7953"
             ],
             [
              0.7777777777777778,
              "#fb9f3a"
             ],
             [
              0.8888888888888888,
              "#fdca26"
             ],
             [
              1,
              "#f0f921"
             ]
            ],
            "type": "histogram2dcontour"
           }
          ],
          "mesh3d": [
           {
            "colorbar": {
             "outlinewidth": 0,
             "ticks": ""
            },
            "type": "mesh3d"
           }
          ],
          "parcoords": [
           {
            "line": {
             "colorbar": {
              "outlinewidth": 0,
              "ticks": ""
             }
            },
            "type": "parcoords"
           }
          ],
          "pie": [
           {
            "automargin": true,
            "type": "pie"
           }
          ],
          "scatter": [
           {
            "marker": {
             "line": {
              "color": "#283442"
             }
            },
            "type": "scatter"
           }
          ],
          "scatter3d": [
           {
            "line": {
             "colorbar": {
              "outlinewidth": 0,
              "ticks": ""
             }
            },
            "marker": {
             "colorbar": {
              "outlinewidth": 0,
              "ticks": ""
             }
            },
            "type": "scatter3d"
           }
          ],
          "scattercarpet": [
           {
            "marker": {
             "colorbar": {
              "outlinewidth": 0,
              "ticks": ""
             }
            },
            "type": "scattercarpet"
           }
          ],
          "scattergeo": [
           {
            "marker": {
             "colorbar": {
              "outlinewidth": 0,
              "ticks": ""
             }
            },
            "type": "scattergeo"
           }
          ],
          "scattergl": [
           {
            "marker": {
             "line": {
              "color": "#283442"
             }
            },
            "type": "scattergl"
           }
          ],
          "scattermapbox": [
           {
            "marker": {
             "colorbar": {
              "outlinewidth": 0,
              "ticks": ""
             }
            },
            "type": "scattermapbox"
           }
          ],
          "scatterpolar": [
           {
            "marker": {
             "colorbar": {
              "outlinewidth": 0,
              "ticks": ""
             }
            },
            "type": "scatterpolar"
           }
          ],
          "scatterpolargl": [
           {
            "marker": {
             "colorbar": {
              "outlinewidth": 0,
              "ticks": ""
             }
            },
            "type": "scatterpolargl"
           }
          ],
          "scatterternary": [
           {
            "marker": {
             "colorbar": {
              "outlinewidth": 0,
              "ticks": ""
             }
            },
            "type": "scatterternary"
           }
          ],
          "surface": [
           {
            "colorbar": {
             "outlinewidth": 0,
             "ticks": ""
            },
            "colorscale": [
             [
              0,
              "#0d0887"
             ],
             [
              0.1111111111111111,
              "#46039f"
             ],
             [
              0.2222222222222222,
              "#7201a8"
             ],
             [
              0.3333333333333333,
              "#9c179e"
             ],
             [
              0.4444444444444444,
              "#bd3786"
             ],
             [
              0.5555555555555556,
              "#d8576b"
             ],
             [
              0.6666666666666666,
              "#ed7953"
             ],
             [
              0.7777777777777778,
              "#fb9f3a"
             ],
             [
              0.8888888888888888,
              "#fdca26"
             ],
             [
              1,
              "#f0f921"
             ]
            ],
            "type": "surface"
           }
          ],
          "table": [
           {
            "cells": {
             "fill": {
              "color": "#506784"
             },
             "line": {
              "color": "rgb(17,17,17)"
             }
            },
            "header": {
             "fill": {
              "color": "#2a3f5f"
             },
             "line": {
              "color": "rgb(17,17,17)"
             }
            },
            "type": "table"
           }
          ]
         },
         "layout": {
          "annotationdefaults": {
           "arrowcolor": "#f2f5fa",
           "arrowhead": 0,
           "arrowwidth": 1
          },
          "autotypenumbers": "strict",
          "coloraxis": {
           "colorbar": {
            "outlinewidth": 0,
            "ticks": ""
           }
          },
          "colorscale": {
           "diverging": [
            [
             0,
             "#8e0152"
            ],
            [
             0.1,
             "#c51b7d"
            ],
            [
             0.2,
             "#de77ae"
            ],
            [
             0.3,
             "#f1b6da"
            ],
            [
             0.4,
             "#fde0ef"
            ],
            [
             0.5,
             "#f7f7f7"
            ],
            [
             0.6,
             "#e6f5d0"
            ],
            [
             0.7,
             "#b8e186"
            ],
            [
             0.8,
             "#7fbc41"
            ],
            [
             0.9,
             "#4d9221"
            ],
            [
             1,
             "#276419"
            ]
           ],
           "sequential": [
            [
             0,
             "#0d0887"
            ],
            [
             0.1111111111111111,
             "#46039f"
            ],
            [
             0.2222222222222222,
             "#7201a8"
            ],
            [
             0.3333333333333333,
             "#9c179e"
            ],
            [
             0.4444444444444444,
             "#bd3786"
            ],
            [
             0.5555555555555556,
             "#d8576b"
            ],
            [
             0.6666666666666666,
             "#ed7953"
            ],
            [
             0.7777777777777778,
             "#fb9f3a"
            ],
            [
             0.8888888888888888,
             "#fdca26"
            ],
            [
             1,
             "#f0f921"
            ]
           ],
           "sequentialminus": [
            [
             0,
             "#0d0887"
            ],
            [
             0.1111111111111111,
             "#46039f"
            ],
            [
             0.2222222222222222,
             "#7201a8"
            ],
            [
             0.3333333333333333,
             "#9c179e"
            ],
            [
             0.4444444444444444,
             "#bd3786"
            ],
            [
             0.5555555555555556,
             "#d8576b"
            ],
            [
             0.6666666666666666,
             "#ed7953"
            ],
            [
             0.7777777777777778,
             "#fb9f3a"
            ],
            [
             0.8888888888888888,
             "#fdca26"
            ],
            [
             1,
             "#f0f921"
            ]
           ]
          },
          "colorway": [
           "#636efa",
           "#EF553B",
           "#00cc96",
           "#ab63fa",
           "#FFA15A",
           "#19d3f3",
           "#FF6692",
           "#B6E880",
           "#FF97FF",
           "#FECB52"
          ],
          "font": {
           "color": "#f2f5fa"
          },
          "geo": {
           "bgcolor": "rgb(17,17,17)",
           "lakecolor": "rgb(17,17,17)",
           "landcolor": "rgb(17,17,17)",
           "showlakes": true,
           "showland": true,
           "subunitcolor": "#506784"
          },
          "hoverlabel": {
           "align": "left"
          },
          "hovermode": "closest",
          "mapbox": {
           "style": "dark"
          },
          "paper_bgcolor": "rgb(17,17,17)",
          "plot_bgcolor": "rgb(17,17,17)",
          "polar": {
           "angularaxis": {
            "gridcolor": "#506784",
            "linecolor": "#506784",
            "ticks": ""
           },
           "bgcolor": "rgb(17,17,17)",
           "radialaxis": {
            "gridcolor": "#506784",
            "linecolor": "#506784",
            "ticks": ""
           }
          },
          "scene": {
           "xaxis": {
            "backgroundcolor": "rgb(17,17,17)",
            "gridcolor": "#506784",
            "gridwidth": 2,
            "linecolor": "#506784",
            "showbackground": true,
            "ticks": "",
            "zerolinecolor": "#C8D4E3"
           },
           "yaxis": {
            "backgroundcolor": "rgb(17,17,17)",
            "gridcolor": "#506784",
            "gridwidth": 2,
            "linecolor": "#506784",
            "showbackground": true,
            "ticks": "",
            "zerolinecolor": "#C8D4E3"
           },
           "zaxis": {
            "backgroundcolor": "rgb(17,17,17)",
            "gridcolor": "#506784",
            "gridwidth": 2,
            "linecolor": "#506784",
            "showbackground": true,
            "ticks": "",
            "zerolinecolor": "#C8D4E3"
           }
          },
          "shapedefaults": {
           "line": {
            "color": "#f2f5fa"
           }
          },
          "sliderdefaults": {
           "bgcolor": "#C8D4E3",
           "bordercolor": "rgb(17,17,17)",
           "borderwidth": 1,
           "tickwidth": 0
          },
          "ternary": {
           "aaxis": {
            "gridcolor": "#506784",
            "linecolor": "#506784",
            "ticks": ""
           },
           "baxis": {
            "gridcolor": "#506784",
            "linecolor": "#506784",
            "ticks": ""
           },
           "bgcolor": "rgb(17,17,17)",
           "caxis": {
            "gridcolor": "#506784",
            "linecolor": "#506784",
            "ticks": ""
           }
          },
          "title": {
           "x": 0.05
          },
          "updatemenudefaults": {
           "bgcolor": "#506784",
           "borderwidth": 0
          },
          "xaxis": {
           "automargin": true,
           "gridcolor": "#283442",
           "linecolor": "#506784",
           "ticks": "",
           "title": {
            "standoff": 15
           },
           "zerolinecolor": "#283442",
           "zerolinewidth": 2
          },
          "yaxis": {
           "automargin": true,
           "gridcolor": "#283442",
           "linecolor": "#506784",
           "ticks": "",
           "title": {
            "standoff": 15
           },
           "zerolinecolor": "#283442",
           "zerolinewidth": 2
          }
         }
        },
        "xaxis": {
         "anchor": "y",
         "constrain": "domain",
         "domain": [
          0,
          1
         ],
         "scaleanchor": "y",
         "title": {
          "text": "Target"
         }
        },
        "yaxis": {
         "anchor": "x",
         "autorange": "reversed",
         "constrain": "domain",
         "domain": [
          0,
          1
         ],
         "title": {
          "text": "Prediction"
         }
        }
       }
      },
      "text/html": [
       "<div>                            <div id=\"9fa1cb87-6454-404c-884e-c0f9f46b4862\" class=\"plotly-graph-div\" style=\"height:525px; width:100%;\"></div>            <script type=\"text/javascript\">                require([\"plotly\"], function(Plotly) {                    window.PLOTLYENV=window.PLOTLYENV || {};                                    if (document.getElementById(\"9fa1cb87-6454-404c-884e-c0f9f46b4862\")) {                    Plotly.newPlot(                        \"9fa1cb87-6454-404c-884e-c0f9f46b4862\",                        [{\"coloraxis\":\"coloraxis\",\"name\":\"0\",\"texttemplate\":\"%{z}\",\"z\":[[57920,787,156],[2186,16582,3],[162,0,21204]],\"type\":\"heatmap\",\"xaxis\":\"x\",\"yaxis\":\"y\",\"hovertemplate\":\"x: %{x}<br>y: %{y}<br>color: %{z}<extra></extra>\"}],                        {\"template\":{\"data\":{\"histogram2dcontour\":[{\"type\":\"histogram2dcontour\",\"colorbar\":{\"outlinewidth\":0,\"ticks\":\"\"},\"colorscale\":[[0.0,\"#0d0887\"],[0.1111111111111111,\"#46039f\"],[0.2222222222222222,\"#7201a8\"],[0.3333333333333333,\"#9c179e\"],[0.4444444444444444,\"#bd3786\"],[0.5555555555555556,\"#d8576b\"],[0.6666666666666666,\"#ed7953\"],[0.7777777777777778,\"#fb9f3a\"],[0.8888888888888888,\"#fdca26\"],[1.0,\"#f0f921\"]]}],\"choropleth\":[{\"type\":\"choropleth\",\"colorbar\":{\"outlinewidth\":0,\"ticks\":\"\"}}],\"histogram2d\":[{\"type\":\"histogram2d\",\"colorbar\":{\"outlinewidth\":0,\"ticks\":\"\"},\"colorscale\":[[0.0,\"#0d0887\"],[0.1111111111111111,\"#46039f\"],[0.2222222222222222,\"#7201a8\"],[0.3333333333333333,\"#9c179e\"],[0.4444444444444444,\"#bd3786\"],[0.5555555555555556,\"#d8576b\"],[0.6666666666666666,\"#ed7953\"],[0.7777777777777778,\"#fb9f3a\"],[0.8888888888888888,\"#fdca26\"],[1.0,\"#f0f921\"]]}],\"heatmap\":[{\"type\":\"heatmap\",\"colorbar\":{\"outlinewidth\":0,\"ticks\":\"\"},\"colorscale\":[[0.0,\"#0d0887\"],[0.1111111111111111,\"#46039f\"],[0.2222222222222222,\"#7201a8\"],[0.3333333333333333,\"#9c179e\"],[0.4444444444444444,\"#bd3786\"],[0.5555555555555556,\"#d8576b\"],[0.6666666666666666,\"#ed7953\"],[0.7777777777777778,\"#fb9f3a\"],[0.8888888888888888,\"#fdca26\"],[1.0,\"#f0f921\"]]}],\"heatmapgl\":[{\"type\":\"heatmapgl\",\"colorbar\":{\"outlinewidth\":0,\"ticks\":\"\"},\"colorscale\":[[0.0,\"#0d0887\"],[0.1111111111111111,\"#46039f\"],[0.2222222222222222,\"#7201a8\"],[0.3333333333333333,\"#9c179e\"],[0.4444444444444444,\"#bd3786\"],[0.5555555555555556,\"#d8576b\"],[0.6666666666666666,\"#ed7953\"],[0.7777777777777778,\"#fb9f3a\"],[0.8888888888888888,\"#fdca26\"],[1.0,\"#f0f921\"]]}],\"contourcarpet\":[{\"type\":\"contourcarpet\",\"colorbar\":{\"outlinewidth\":0,\"ticks\":\"\"}}],\"contour\":[{\"type\":\"contour\",\"colorbar\":{\"outlinewidth\":0,\"ticks\":\"\"},\"colorscale\":[[0.0,\"#0d0887\"],[0.1111111111111111,\"#46039f\"],[0.2222222222222222,\"#7201a8\"],[0.3333333333333333,\"#9c179e\"],[0.4444444444444444,\"#bd3786\"],[0.5555555555555556,\"#d8576b\"],[0.6666666666666666,\"#ed7953\"],[0.7777777777777778,\"#fb9f3a\"],[0.8888888888888888,\"#fdca26\"],[1.0,\"#f0f921\"]]}],\"surface\":[{\"type\":\"surface\",\"colorbar\":{\"outlinewidth\":0,\"ticks\":\"\"},\"colorscale\":[[0.0,\"#0d0887\"],[0.1111111111111111,\"#46039f\"],[0.2222222222222222,\"#7201a8\"],[0.3333333333333333,\"#9c179e\"],[0.4444444444444444,\"#bd3786\"],[0.5555555555555556,\"#d8576b\"],[0.6666666666666666,\"#ed7953\"],[0.7777777777777778,\"#fb9f3a\"],[0.8888888888888888,\"#fdca26\"],[1.0,\"#f0f921\"]]}],\"mesh3d\":[{\"type\":\"mesh3d\",\"colorbar\":{\"outlinewidth\":0,\"ticks\":\"\"}}],\"scatter\":[{\"marker\":{\"line\":{\"color\":\"#283442\"}},\"type\":\"scatter\"}],\"parcoords\":[{\"type\":\"parcoords\",\"line\":{\"colorbar\":{\"outlinewidth\":0,\"ticks\":\"\"}}}],\"scatterpolargl\":[{\"type\":\"scatterpolargl\",\"marker\":{\"colorbar\":{\"outlinewidth\":0,\"ticks\":\"\"}}}],\"bar\":[{\"error_x\":{\"color\":\"#f2f5fa\"},\"error_y\":{\"color\":\"#f2f5fa\"},\"marker\":{\"line\":{\"color\":\"rgb(17,17,17)\",\"width\":0.5},\"pattern\":{\"fillmode\":\"overlay\",\"size\":10,\"solidity\":0.2}},\"type\":\"bar\"}],\"scattergeo\":[{\"type\":\"scattergeo\",\"marker\":{\"colorbar\":{\"outlinewidth\":0,\"ticks\":\"\"}}}],\"scatterpolar\":[{\"type\":\"scatterpolar\",\"marker\":{\"colorbar\":{\"outlinewidth\":0,\"ticks\":\"\"}}}],\"histogram\":[{\"marker\":{\"pattern\":{\"fillmode\":\"overlay\",\"size\":10,\"solidity\":0.2}},\"type\":\"histogram\"}],\"scattergl\":[{\"marker\":{\"line\":{\"color\":\"#283442\"}},\"type\":\"scattergl\"}],\"scatter3d\":[{\"type\":\"scatter3d\",\"line\":{\"colorbar\":{\"outlinewidth\":0,\"ticks\":\"\"}},\"marker\":{\"colorbar\":{\"outlinewidth\":0,\"ticks\":\"\"}}}],\"scattermapbox\":[{\"type\":\"scattermapbox\",\"marker\":{\"colorbar\":{\"outlinewidth\":0,\"ticks\":\"\"}}}],\"scatterternary\":[{\"type\":\"scatterternary\",\"marker\":{\"colorbar\":{\"outlinewidth\":0,\"ticks\":\"\"}}}],\"scattercarpet\":[{\"type\":\"scattercarpet\",\"marker\":{\"colorbar\":{\"outlinewidth\":0,\"ticks\":\"\"}}}],\"carpet\":[{\"aaxis\":{\"endlinecolor\":\"#A2B1C6\",\"gridcolor\":\"#506784\",\"linecolor\":\"#506784\",\"minorgridcolor\":\"#506784\",\"startlinecolor\":\"#A2B1C6\"},\"baxis\":{\"endlinecolor\":\"#A2B1C6\",\"gridcolor\":\"#506784\",\"linecolor\":\"#506784\",\"minorgridcolor\":\"#506784\",\"startlinecolor\":\"#A2B1C6\"},\"type\":\"carpet\"}],\"table\":[{\"cells\":{\"fill\":{\"color\":\"#506784\"},\"line\":{\"color\":\"rgb(17,17,17)\"}},\"header\":{\"fill\":{\"color\":\"#2a3f5f\"},\"line\":{\"color\":\"rgb(17,17,17)\"}},\"type\":\"table\"}],\"barpolar\":[{\"marker\":{\"line\":{\"color\":\"rgb(17,17,17)\",\"width\":0.5},\"pattern\":{\"fillmode\":\"overlay\",\"size\":10,\"solidity\":0.2}},\"type\":\"barpolar\"}],\"pie\":[{\"automargin\":true,\"type\":\"pie\"}]},\"layout\":{\"autotypenumbers\":\"strict\",\"colorway\":[\"#636efa\",\"#EF553B\",\"#00cc96\",\"#ab63fa\",\"#FFA15A\",\"#19d3f3\",\"#FF6692\",\"#B6E880\",\"#FF97FF\",\"#FECB52\"],\"font\":{\"color\":\"#f2f5fa\"},\"hovermode\":\"closest\",\"hoverlabel\":{\"align\":\"left\"},\"paper_bgcolor\":\"rgb(17,17,17)\",\"plot_bgcolor\":\"rgb(17,17,17)\",\"polar\":{\"bgcolor\":\"rgb(17,17,17)\",\"angularaxis\":{\"gridcolor\":\"#506784\",\"linecolor\":\"#506784\",\"ticks\":\"\"},\"radialaxis\":{\"gridcolor\":\"#506784\",\"linecolor\":\"#506784\",\"ticks\":\"\"}},\"ternary\":{\"bgcolor\":\"rgb(17,17,17)\",\"aaxis\":{\"gridcolor\":\"#506784\",\"linecolor\":\"#506784\",\"ticks\":\"\"},\"baxis\":{\"gridcolor\":\"#506784\",\"linecolor\":\"#506784\",\"ticks\":\"\"},\"caxis\":{\"gridcolor\":\"#506784\",\"linecolor\":\"#506784\",\"ticks\":\"\"}},\"coloraxis\":{\"colorbar\":{\"outlinewidth\":0,\"ticks\":\"\"}},\"colorscale\":{\"sequential\":[[0.0,\"#0d0887\"],[0.1111111111111111,\"#46039f\"],[0.2222222222222222,\"#7201a8\"],[0.3333333333333333,\"#9c179e\"],[0.4444444444444444,\"#bd3786\"],[0.5555555555555556,\"#d8576b\"],[0.6666666666666666,\"#ed7953\"],[0.7777777777777778,\"#fb9f3a\"],[0.8888888888888888,\"#fdca26\"],[1.0,\"#f0f921\"]],\"sequentialminus\":[[0.0,\"#0d0887\"],[0.1111111111111111,\"#46039f\"],[0.2222222222222222,\"#7201a8\"],[0.3333333333333333,\"#9c179e\"],[0.4444444444444444,\"#bd3786\"],[0.5555555555555556,\"#d8576b\"],[0.6666666666666666,\"#ed7953\"],[0.7777777777777778,\"#fb9f3a\"],[0.8888888888888888,\"#fdca26\"],[1.0,\"#f0f921\"]],\"diverging\":[[0,\"#8e0152\"],[0.1,\"#c51b7d\"],[0.2,\"#de77ae\"],[0.3,\"#f1b6da\"],[0.4,\"#fde0ef\"],[0.5,\"#f7f7f7\"],[0.6,\"#e6f5d0\"],[0.7,\"#b8e186\"],[0.8,\"#7fbc41\"],[0.9,\"#4d9221\"],[1,\"#276419\"]]},\"xaxis\":{\"gridcolor\":\"#283442\",\"linecolor\":\"#506784\",\"ticks\":\"\",\"title\":{\"standoff\":15},\"zerolinecolor\":\"#283442\",\"automargin\":true,\"zerolinewidth\":2},\"yaxis\":{\"gridcolor\":\"#283442\",\"linecolor\":\"#506784\",\"ticks\":\"\",\"title\":{\"standoff\":15},\"zerolinecolor\":\"#283442\",\"automargin\":true,\"zerolinewidth\":2},\"scene\":{\"xaxis\":{\"backgroundcolor\":\"rgb(17,17,17)\",\"gridcolor\":\"#506784\",\"linecolor\":\"#506784\",\"showbackground\":true,\"ticks\":\"\",\"zerolinecolor\":\"#C8D4E3\",\"gridwidth\":2},\"yaxis\":{\"backgroundcolor\":\"rgb(17,17,17)\",\"gridcolor\":\"#506784\",\"linecolor\":\"#506784\",\"showbackground\":true,\"ticks\":\"\",\"zerolinecolor\":\"#C8D4E3\",\"gridwidth\":2},\"zaxis\":{\"backgroundcolor\":\"rgb(17,17,17)\",\"gridcolor\":\"#506784\",\"linecolor\":\"#506784\",\"showbackground\":true,\"ticks\":\"\",\"zerolinecolor\":\"#C8D4E3\",\"gridwidth\":2}},\"shapedefaults\":{\"line\":{\"color\":\"#f2f5fa\"}},\"annotationdefaults\":{\"arrowcolor\":\"#f2f5fa\",\"arrowhead\":0,\"arrowwidth\":1},\"geo\":{\"bgcolor\":\"rgb(17,17,17)\",\"landcolor\":\"rgb(17,17,17)\",\"subunitcolor\":\"#506784\",\"showland\":true,\"showlakes\":true,\"lakecolor\":\"rgb(17,17,17)\"},\"title\":{\"x\":0.05},\"updatemenudefaults\":{\"bgcolor\":\"#506784\",\"borderwidth\":0},\"sliderdefaults\":{\"bgcolor\":\"#C8D4E3\",\"borderwidth\":1,\"bordercolor\":\"rgb(17,17,17)\",\"tickwidth\":0},\"mapbox\":{\"style\":\"dark\"}}},\"xaxis\":{\"anchor\":\"y\",\"domain\":[0.0,1.0],\"scaleanchor\":\"y\",\"constrain\":\"domain\",\"title\":{\"text\":\"Target\"}},\"yaxis\":{\"anchor\":\"x\",\"domain\":[0.0,1.0],\"autorange\":\"reversed\",\"constrain\":\"domain\",\"title\":{\"text\":\"Prediction\"}},\"coloraxis\":{\"colorscale\":[[0.0,\"#0d0887\"],[0.1111111111111111,\"#46039f\"],[0.2222222222222222,\"#7201a8\"],[0.3333333333333333,\"#9c179e\"],[0.4444444444444444,\"#bd3786\"],[0.5555555555555556,\"#d8576b\"],[0.6666666666666666,\"#ed7953\"],[0.7777777777777778,\"#fb9f3a\"],[0.8888888888888888,\"#fdca26\"],[1.0,\"#f0f921\"]]},\"margin\":{\"t\":60}},                        {\"responsive\": true}                    ).then(function(){\n",
       "                            \n",
       "var gd = document.getElementById('9fa1cb87-6454-404c-884e-c0f9f46b4862');\n",
       "var x = new MutationObserver(function (mutations, observer) {{\n",
       "        var display = window.getComputedStyle(gd).display;\n",
       "        if (!display || display === 'none') {{\n",
       "            console.log([gd, 'removed!']);\n",
       "            Plotly.purge(gd);\n",
       "            observer.disconnect();\n",
       "        }}\n",
       "}});\n",
       "\n",
       "// Listen for the removal of the full notebook cells\n",
       "var notebookContainer = gd.closest('#notebook-container');\n",
       "if (notebookContainer) {{\n",
       "    x.observe(notebookContainer, {childList: true});\n",
       "}}\n",
       "\n",
       "// Listen for the clearing of the current output cell\n",
       "var outputEl = gd.closest('.output');\n",
       "if (outputEl) {{\n",
       "    x.observe(outputEl, {childList: true});\n",
       "}}\n",
       "\n",
       "                        })                };                });            </script>        </div>"
      ]
     },
     "metadata": {},
     "output_type": "display_data"
    }
   ],
   "source": [
    "@score_for('Gradient Boosting', 'test')\n",
    "@time_for('Gradient Boosting', 'test')\n",
    "def test_gradient():\n",
    "    return f1_score(gradient_y_test, y_test, average='macro')\n",
    "\n",
    "print(\n",
    "    \"F1-мера для тестовых данных с помощью \"\n",
    "    \"GradientBoostingClassifier:\", test_gradient(),\n",
    ")\n",
    "draw_conf_matrix(y_test, gradient_y_test)"
   ]
  },
  {
   "cell_type": "markdown",
   "metadata": {},
   "source": [
    "### Hist Gradient Boosting"
   ]
  },
  {
   "cell_type": "code",
   "execution_count": 56,
   "metadata": {},
   "outputs": [],
   "source": [
    "from sklearn.ensemble import HistGradientBoostingClassifier\n",
    "\n",
    "@time_for('Hist Gradient Boosting', 'predict')\n",
    "def fit_hist_grad():\n",
    "    return HistGradientBoostingClassifier(\n",
    "        random_state=random_state,\n",
    "    ).fit(X_train, y_train)\n",
    "\n",
    "hist_grad_model = fit_hist_grad()"
   ]
  },
  {
   "cell_type": "code",
   "execution_count": 57,
   "metadata": {},
   "outputs": [],
   "source": [
    "hist_grad_y_train = hist_grad_model.predict(X_train)"
   ]
  },
  {
   "cell_type": "code",
   "execution_count": 84,
   "metadata": {},
   "outputs": [
    {
     "name": "stdout",
     "output_type": "stream",
     "text": [
      "F1-мера для тренировочных данных с помощью HistGradientBoostingClassifier: 1.0\n"
     ]
    },
    {
     "data": {
      "application/vnd.plotly.v1+json": {
       "config": {
        "plotlyServerURL": "https://plot.ly"
       },
       "data": [
        {
         "coloraxis": "coloraxis",
         "hovertemplate": "x: %{x}<br>y: %{y}<br>color: %{z}<extra></extra>",
         "name": "0",
         "texttemplate": "%{z}",
         "type": "heatmap",
         "xaxis": "x",
         "yaxis": "y",
         "z": [
          [
           582,
           0,
           0
          ],
          [
           0,
           190,
           0
          ],
          [
           0,
           0,
           228
          ]
         ]
        }
       ],
       "layout": {
        "coloraxis": {
         "colorscale": [
          [
           0,
           "#0d0887"
          ],
          [
           0.1111111111111111,
           "#46039f"
          ],
          [
           0.2222222222222222,
           "#7201a8"
          ],
          [
           0.3333333333333333,
           "#9c179e"
          ],
          [
           0.4444444444444444,
           "#bd3786"
          ],
          [
           0.5555555555555556,
           "#d8576b"
          ],
          [
           0.6666666666666666,
           "#ed7953"
          ],
          [
           0.7777777777777778,
           "#fb9f3a"
          ],
          [
           0.8888888888888888,
           "#fdca26"
          ],
          [
           1,
           "#f0f921"
          ]
         ]
        },
        "margin": {
         "t": 60
        },
        "template": {
         "data": {
          "bar": [
           {
            "error_x": {
             "color": "#f2f5fa"
            },
            "error_y": {
             "color": "#f2f5fa"
            },
            "marker": {
             "line": {
              "color": "rgb(17,17,17)",
              "width": 0.5
             },
             "pattern": {
              "fillmode": "overlay",
              "size": 10,
              "solidity": 0.2
             }
            },
            "type": "bar"
           }
          ],
          "barpolar": [
           {
            "marker": {
             "line": {
              "color": "rgb(17,17,17)",
              "width": 0.5
             },
             "pattern": {
              "fillmode": "overlay",
              "size": 10,
              "solidity": 0.2
             }
            },
            "type": "barpolar"
           }
          ],
          "carpet": [
           {
            "aaxis": {
             "endlinecolor": "#A2B1C6",
             "gridcolor": "#506784",
             "linecolor": "#506784",
             "minorgridcolor": "#506784",
             "startlinecolor": "#A2B1C6"
            },
            "baxis": {
             "endlinecolor": "#A2B1C6",
             "gridcolor": "#506784",
             "linecolor": "#506784",
             "minorgridcolor": "#506784",
             "startlinecolor": "#A2B1C6"
            },
            "type": "carpet"
           }
          ],
          "choropleth": [
           {
            "colorbar": {
             "outlinewidth": 0,
             "ticks": ""
            },
            "type": "choropleth"
           }
          ],
          "contour": [
           {
            "colorbar": {
             "outlinewidth": 0,
             "ticks": ""
            },
            "colorscale": [
             [
              0,
              "#0d0887"
             ],
             [
              0.1111111111111111,
              "#46039f"
             ],
             [
              0.2222222222222222,
              "#7201a8"
             ],
             [
              0.3333333333333333,
              "#9c179e"
             ],
             [
              0.4444444444444444,
              "#bd3786"
             ],
             [
              0.5555555555555556,
              "#d8576b"
             ],
             [
              0.6666666666666666,
              "#ed7953"
             ],
             [
              0.7777777777777778,
              "#fb9f3a"
             ],
             [
              0.8888888888888888,
              "#fdca26"
             ],
             [
              1,
              "#f0f921"
             ]
            ],
            "type": "contour"
           }
          ],
          "contourcarpet": [
           {
            "colorbar": {
             "outlinewidth": 0,
             "ticks": ""
            },
            "type": "contourcarpet"
           }
          ],
          "heatmap": [
           {
            "colorbar": {
             "outlinewidth": 0,
             "ticks": ""
            },
            "colorscale": [
             [
              0,
              "#0d0887"
             ],
             [
              0.1111111111111111,
              "#46039f"
             ],
             [
              0.2222222222222222,
              "#7201a8"
             ],
             [
              0.3333333333333333,
              "#9c179e"
             ],
             [
              0.4444444444444444,
              "#bd3786"
             ],
             [
              0.5555555555555556,
              "#d8576b"
             ],
             [
              0.6666666666666666,
              "#ed7953"
             ],
             [
              0.7777777777777778,
              "#fb9f3a"
             ],
             [
              0.8888888888888888,
              "#fdca26"
             ],
             [
              1,
              "#f0f921"
             ]
            ],
            "type": "heatmap"
           }
          ],
          "heatmapgl": [
           {
            "colorbar": {
             "outlinewidth": 0,
             "ticks": ""
            },
            "colorscale": [
             [
              0,
              "#0d0887"
             ],
             [
              0.1111111111111111,
              "#46039f"
             ],
             [
              0.2222222222222222,
              "#7201a8"
             ],
             [
              0.3333333333333333,
              "#9c179e"
             ],
             [
              0.4444444444444444,
              "#bd3786"
             ],
             [
              0.5555555555555556,
              "#d8576b"
             ],
             [
              0.6666666666666666,
              "#ed7953"
             ],
             [
              0.7777777777777778,
              "#fb9f3a"
             ],
             [
              0.8888888888888888,
              "#fdca26"
             ],
             [
              1,
              "#f0f921"
             ]
            ],
            "type": "heatmapgl"
           }
          ],
          "histogram": [
           {
            "marker": {
             "pattern": {
              "fillmode": "overlay",
              "size": 10,
              "solidity": 0.2
             }
            },
            "type": "histogram"
           }
          ],
          "histogram2d": [
           {
            "colorbar": {
             "outlinewidth": 0,
             "ticks": ""
            },
            "colorscale": [
             [
              0,
              "#0d0887"
             ],
             [
              0.1111111111111111,
              "#46039f"
             ],
             [
              0.2222222222222222,
              "#7201a8"
             ],
             [
              0.3333333333333333,
              "#9c179e"
             ],
             [
              0.4444444444444444,
              "#bd3786"
             ],
             [
              0.5555555555555556,
              "#d8576b"
             ],
             [
              0.6666666666666666,
              "#ed7953"
             ],
             [
              0.7777777777777778,
              "#fb9f3a"
             ],
             [
              0.8888888888888888,
              "#fdca26"
             ],
             [
              1,
              "#f0f921"
             ]
            ],
            "type": "histogram2d"
           }
          ],
          "histogram2dcontour": [
           {
            "colorbar": {
             "outlinewidth": 0,
             "ticks": ""
            },
            "colorscale": [
             [
              0,
              "#0d0887"
             ],
             [
              0.1111111111111111,
              "#46039f"
             ],
             [
              0.2222222222222222,
              "#7201a8"
             ],
             [
              0.3333333333333333,
              "#9c179e"
             ],
             [
              0.4444444444444444,
              "#bd3786"
             ],
             [
              0.5555555555555556,
              "#d8576b"
             ],
             [
              0.6666666666666666,
              "#ed7953"
             ],
             [
              0.7777777777777778,
              "#fb9f3a"
             ],
             [
              0.8888888888888888,
              "#fdca26"
             ],
             [
              1,
              "#f0f921"
             ]
            ],
            "type": "histogram2dcontour"
           }
          ],
          "mesh3d": [
           {
            "colorbar": {
             "outlinewidth": 0,
             "ticks": ""
            },
            "type": "mesh3d"
           }
          ],
          "parcoords": [
           {
            "line": {
             "colorbar": {
              "outlinewidth": 0,
              "ticks": ""
             }
            },
            "type": "parcoords"
           }
          ],
          "pie": [
           {
            "automargin": true,
            "type": "pie"
           }
          ],
          "scatter": [
           {
            "marker": {
             "line": {
              "color": "#283442"
             }
            },
            "type": "scatter"
           }
          ],
          "scatter3d": [
           {
            "line": {
             "colorbar": {
              "outlinewidth": 0,
              "ticks": ""
             }
            },
            "marker": {
             "colorbar": {
              "outlinewidth": 0,
              "ticks": ""
             }
            },
            "type": "scatter3d"
           }
          ],
          "scattercarpet": [
           {
            "marker": {
             "colorbar": {
              "outlinewidth": 0,
              "ticks": ""
             }
            },
            "type": "scattercarpet"
           }
          ],
          "scattergeo": [
           {
            "marker": {
             "colorbar": {
              "outlinewidth": 0,
              "ticks": ""
             }
            },
            "type": "scattergeo"
           }
          ],
          "scattergl": [
           {
            "marker": {
             "line": {
              "color": "#283442"
             }
            },
            "type": "scattergl"
           }
          ],
          "scattermapbox": [
           {
            "marker": {
             "colorbar": {
              "outlinewidth": 0,
              "ticks": ""
             }
            },
            "type": "scattermapbox"
           }
          ],
          "scatterpolar": [
           {
            "marker": {
             "colorbar": {
              "outlinewidth": 0,
              "ticks": ""
             }
            },
            "type": "scatterpolar"
           }
          ],
          "scatterpolargl": [
           {
            "marker": {
             "colorbar": {
              "outlinewidth": 0,
              "ticks": ""
             }
            },
            "type": "scatterpolargl"
           }
          ],
          "scatterternary": [
           {
            "marker": {
             "colorbar": {
              "outlinewidth": 0,
              "ticks": ""
             }
            },
            "type": "scatterternary"
           }
          ],
          "surface": [
           {
            "colorbar": {
             "outlinewidth": 0,
             "ticks": ""
            },
            "colorscale": [
             [
              0,
              "#0d0887"
             ],
             [
              0.1111111111111111,
              "#46039f"
             ],
             [
              0.2222222222222222,
              "#7201a8"
             ],
             [
              0.3333333333333333,
              "#9c179e"
             ],
             [
              0.4444444444444444,
              "#bd3786"
             ],
             [
              0.5555555555555556,
              "#d8576b"
             ],
             [
              0.6666666666666666,
              "#ed7953"
             ],
             [
              0.7777777777777778,
              "#fb9f3a"
             ],
             [
              0.8888888888888888,
              "#fdca26"
             ],
             [
              1,
              "#f0f921"
             ]
            ],
            "type": "surface"
           }
          ],
          "table": [
           {
            "cells": {
             "fill": {
              "color": "#506784"
             },
             "line": {
              "color": "rgb(17,17,17)"
             }
            },
            "header": {
             "fill": {
              "color": "#2a3f5f"
             },
             "line": {
              "color": "rgb(17,17,17)"
             }
            },
            "type": "table"
           }
          ]
         },
         "layout": {
          "annotationdefaults": {
           "arrowcolor": "#f2f5fa",
           "arrowhead": 0,
           "arrowwidth": 1
          },
          "autotypenumbers": "strict",
          "coloraxis": {
           "colorbar": {
            "outlinewidth": 0,
            "ticks": ""
           }
          },
          "colorscale": {
           "diverging": [
            [
             0,
             "#8e0152"
            ],
            [
             0.1,
             "#c51b7d"
            ],
            [
             0.2,
             "#de77ae"
            ],
            [
             0.3,
             "#f1b6da"
            ],
            [
             0.4,
             "#fde0ef"
            ],
            [
             0.5,
             "#f7f7f7"
            ],
            [
             0.6,
             "#e6f5d0"
            ],
            [
             0.7,
             "#b8e186"
            ],
            [
             0.8,
             "#7fbc41"
            ],
            [
             0.9,
             "#4d9221"
            ],
            [
             1,
             "#276419"
            ]
           ],
           "sequential": [
            [
             0,
             "#0d0887"
            ],
            [
             0.1111111111111111,
             "#46039f"
            ],
            [
             0.2222222222222222,
             "#7201a8"
            ],
            [
             0.3333333333333333,
             "#9c179e"
            ],
            [
             0.4444444444444444,
             "#bd3786"
            ],
            [
             0.5555555555555556,
             "#d8576b"
            ],
            [
             0.6666666666666666,
             "#ed7953"
            ],
            [
             0.7777777777777778,
             "#fb9f3a"
            ],
            [
             0.8888888888888888,
             "#fdca26"
            ],
            [
             1,
             "#f0f921"
            ]
           ],
           "sequentialminus": [
            [
             0,
             "#0d0887"
            ],
            [
             0.1111111111111111,
             "#46039f"
            ],
            [
             0.2222222222222222,
             "#7201a8"
            ],
            [
             0.3333333333333333,
             "#9c179e"
            ],
            [
             0.4444444444444444,
             "#bd3786"
            ],
            [
             0.5555555555555556,
             "#d8576b"
            ],
            [
             0.6666666666666666,
             "#ed7953"
            ],
            [
             0.7777777777777778,
             "#fb9f3a"
            ],
            [
             0.8888888888888888,
             "#fdca26"
            ],
            [
             1,
             "#f0f921"
            ]
           ]
          },
          "colorway": [
           "#636efa",
           "#EF553B",
           "#00cc96",
           "#ab63fa",
           "#FFA15A",
           "#19d3f3",
           "#FF6692",
           "#B6E880",
           "#FF97FF",
           "#FECB52"
          ],
          "font": {
           "color": "#f2f5fa"
          },
          "geo": {
           "bgcolor": "rgb(17,17,17)",
           "lakecolor": "rgb(17,17,17)",
           "landcolor": "rgb(17,17,17)",
           "showlakes": true,
           "showland": true,
           "subunitcolor": "#506784"
          },
          "hoverlabel": {
           "align": "left"
          },
          "hovermode": "closest",
          "mapbox": {
           "style": "dark"
          },
          "paper_bgcolor": "rgb(17,17,17)",
          "plot_bgcolor": "rgb(17,17,17)",
          "polar": {
           "angularaxis": {
            "gridcolor": "#506784",
            "linecolor": "#506784",
            "ticks": ""
           },
           "bgcolor": "rgb(17,17,17)",
           "radialaxis": {
            "gridcolor": "#506784",
            "linecolor": "#506784",
            "ticks": ""
           }
          },
          "scene": {
           "xaxis": {
            "backgroundcolor": "rgb(17,17,17)",
            "gridcolor": "#506784",
            "gridwidth": 2,
            "linecolor": "#506784",
            "showbackground": true,
            "ticks": "",
            "zerolinecolor": "#C8D4E3"
           },
           "yaxis": {
            "backgroundcolor": "rgb(17,17,17)",
            "gridcolor": "#506784",
            "gridwidth": 2,
            "linecolor": "#506784",
            "showbackground": true,
            "ticks": "",
            "zerolinecolor": "#C8D4E3"
           },
           "zaxis": {
            "backgroundcolor": "rgb(17,17,17)",
            "gridcolor": "#506784",
            "gridwidth": 2,
            "linecolor": "#506784",
            "showbackground": true,
            "ticks": "",
            "zerolinecolor": "#C8D4E3"
           }
          },
          "shapedefaults": {
           "line": {
            "color": "#f2f5fa"
           }
          },
          "sliderdefaults": {
           "bgcolor": "#C8D4E3",
           "bordercolor": "rgb(17,17,17)",
           "borderwidth": 1,
           "tickwidth": 0
          },
          "ternary": {
           "aaxis": {
            "gridcolor": "#506784",
            "linecolor": "#506784",
            "ticks": ""
           },
           "baxis": {
            "gridcolor": "#506784",
            "linecolor": "#506784",
            "ticks": ""
           },
           "bgcolor": "rgb(17,17,17)",
           "caxis": {
            "gridcolor": "#506784",
            "linecolor": "#506784",
            "ticks": ""
           }
          },
          "title": {
           "x": 0.05
          },
          "updatemenudefaults": {
           "bgcolor": "#506784",
           "borderwidth": 0
          },
          "xaxis": {
           "automargin": true,
           "gridcolor": "#283442",
           "linecolor": "#506784",
           "ticks": "",
           "title": {
            "standoff": 15
           },
           "zerolinecolor": "#283442",
           "zerolinewidth": 2
          },
          "yaxis": {
           "automargin": true,
           "gridcolor": "#283442",
           "linecolor": "#506784",
           "ticks": "",
           "title": {
            "standoff": 15
           },
           "zerolinecolor": "#283442",
           "zerolinewidth": 2
          }
         }
        },
        "xaxis": {
         "anchor": "y",
         "constrain": "domain",
         "domain": [
          0,
          1
         ],
         "scaleanchor": "y",
         "title": {
          "text": "Target"
         }
        },
        "yaxis": {
         "anchor": "x",
         "autorange": "reversed",
         "constrain": "domain",
         "domain": [
          0,
          1
         ],
         "title": {
          "text": "Prediction"
         }
        }
       }
      },
      "text/html": [
       "<div>                            <div id=\"4ff54c6c-d814-493b-997c-7f82b3a6ce47\" class=\"plotly-graph-div\" style=\"height:525px; width:100%;\"></div>            <script type=\"text/javascript\">                require([\"plotly\"], function(Plotly) {                    window.PLOTLYENV=window.PLOTLYENV || {};                                    if (document.getElementById(\"4ff54c6c-d814-493b-997c-7f82b3a6ce47\")) {                    Plotly.newPlot(                        \"4ff54c6c-d814-493b-997c-7f82b3a6ce47\",                        [{\"coloraxis\":\"coloraxis\",\"name\":\"0\",\"texttemplate\":\"%{z}\",\"z\":[[582,0,0],[0,190,0],[0,0,228]],\"type\":\"heatmap\",\"xaxis\":\"x\",\"yaxis\":\"y\",\"hovertemplate\":\"x: %{x}<br>y: %{y}<br>color: %{z}<extra></extra>\"}],                        {\"template\":{\"data\":{\"histogram2dcontour\":[{\"type\":\"histogram2dcontour\",\"colorbar\":{\"outlinewidth\":0,\"ticks\":\"\"},\"colorscale\":[[0.0,\"#0d0887\"],[0.1111111111111111,\"#46039f\"],[0.2222222222222222,\"#7201a8\"],[0.3333333333333333,\"#9c179e\"],[0.4444444444444444,\"#bd3786\"],[0.5555555555555556,\"#d8576b\"],[0.6666666666666666,\"#ed7953\"],[0.7777777777777778,\"#fb9f3a\"],[0.8888888888888888,\"#fdca26\"],[1.0,\"#f0f921\"]]}],\"choropleth\":[{\"type\":\"choropleth\",\"colorbar\":{\"outlinewidth\":0,\"ticks\":\"\"}}],\"histogram2d\":[{\"type\":\"histogram2d\",\"colorbar\":{\"outlinewidth\":0,\"ticks\":\"\"},\"colorscale\":[[0.0,\"#0d0887\"],[0.1111111111111111,\"#46039f\"],[0.2222222222222222,\"#7201a8\"],[0.3333333333333333,\"#9c179e\"],[0.4444444444444444,\"#bd3786\"],[0.5555555555555556,\"#d8576b\"],[0.6666666666666666,\"#ed7953\"],[0.7777777777777778,\"#fb9f3a\"],[0.8888888888888888,\"#fdca26\"],[1.0,\"#f0f921\"]]}],\"heatmap\":[{\"type\":\"heatmap\",\"colorbar\":{\"outlinewidth\":0,\"ticks\":\"\"},\"colorscale\":[[0.0,\"#0d0887\"],[0.1111111111111111,\"#46039f\"],[0.2222222222222222,\"#7201a8\"],[0.3333333333333333,\"#9c179e\"],[0.4444444444444444,\"#bd3786\"],[0.5555555555555556,\"#d8576b\"],[0.6666666666666666,\"#ed7953\"],[0.7777777777777778,\"#fb9f3a\"],[0.8888888888888888,\"#fdca26\"],[1.0,\"#f0f921\"]]}],\"heatmapgl\":[{\"type\":\"heatmapgl\",\"colorbar\":{\"outlinewidth\":0,\"ticks\":\"\"},\"colorscale\":[[0.0,\"#0d0887\"],[0.1111111111111111,\"#46039f\"],[0.2222222222222222,\"#7201a8\"],[0.3333333333333333,\"#9c179e\"],[0.4444444444444444,\"#bd3786\"],[0.5555555555555556,\"#d8576b\"],[0.6666666666666666,\"#ed7953\"],[0.7777777777777778,\"#fb9f3a\"],[0.8888888888888888,\"#fdca26\"],[1.0,\"#f0f921\"]]}],\"contourcarpet\":[{\"type\":\"contourcarpet\",\"colorbar\":{\"outlinewidth\":0,\"ticks\":\"\"}}],\"contour\":[{\"type\":\"contour\",\"colorbar\":{\"outlinewidth\":0,\"ticks\":\"\"},\"colorscale\":[[0.0,\"#0d0887\"],[0.1111111111111111,\"#46039f\"],[0.2222222222222222,\"#7201a8\"],[0.3333333333333333,\"#9c179e\"],[0.4444444444444444,\"#bd3786\"],[0.5555555555555556,\"#d8576b\"],[0.6666666666666666,\"#ed7953\"],[0.7777777777777778,\"#fb9f3a\"],[0.8888888888888888,\"#fdca26\"],[1.0,\"#f0f921\"]]}],\"surface\":[{\"type\":\"surface\",\"colorbar\":{\"outlinewidth\":0,\"ticks\":\"\"},\"colorscale\":[[0.0,\"#0d0887\"],[0.1111111111111111,\"#46039f\"],[0.2222222222222222,\"#7201a8\"],[0.3333333333333333,\"#9c179e\"],[0.4444444444444444,\"#bd3786\"],[0.5555555555555556,\"#d8576b\"],[0.6666666666666666,\"#ed7953\"],[0.7777777777777778,\"#fb9f3a\"],[0.8888888888888888,\"#fdca26\"],[1.0,\"#f0f921\"]]}],\"mesh3d\":[{\"type\":\"mesh3d\",\"colorbar\":{\"outlinewidth\":0,\"ticks\":\"\"}}],\"scatter\":[{\"marker\":{\"line\":{\"color\":\"#283442\"}},\"type\":\"scatter\"}],\"parcoords\":[{\"type\":\"parcoords\",\"line\":{\"colorbar\":{\"outlinewidth\":0,\"ticks\":\"\"}}}],\"scatterpolargl\":[{\"type\":\"scatterpolargl\",\"marker\":{\"colorbar\":{\"outlinewidth\":0,\"ticks\":\"\"}}}],\"bar\":[{\"error_x\":{\"color\":\"#f2f5fa\"},\"error_y\":{\"color\":\"#f2f5fa\"},\"marker\":{\"line\":{\"color\":\"rgb(17,17,17)\",\"width\":0.5},\"pattern\":{\"fillmode\":\"overlay\",\"size\":10,\"solidity\":0.2}},\"type\":\"bar\"}],\"scattergeo\":[{\"type\":\"scattergeo\",\"marker\":{\"colorbar\":{\"outlinewidth\":0,\"ticks\":\"\"}}}],\"scatterpolar\":[{\"type\":\"scatterpolar\",\"marker\":{\"colorbar\":{\"outlinewidth\":0,\"ticks\":\"\"}}}],\"histogram\":[{\"marker\":{\"pattern\":{\"fillmode\":\"overlay\",\"size\":10,\"solidity\":0.2}},\"type\":\"histogram\"}],\"scattergl\":[{\"marker\":{\"line\":{\"color\":\"#283442\"}},\"type\":\"scattergl\"}],\"scatter3d\":[{\"type\":\"scatter3d\",\"line\":{\"colorbar\":{\"outlinewidth\":0,\"ticks\":\"\"}},\"marker\":{\"colorbar\":{\"outlinewidth\":0,\"ticks\":\"\"}}}],\"scattermapbox\":[{\"type\":\"scattermapbox\",\"marker\":{\"colorbar\":{\"outlinewidth\":0,\"ticks\":\"\"}}}],\"scatterternary\":[{\"type\":\"scatterternary\",\"marker\":{\"colorbar\":{\"outlinewidth\":0,\"ticks\":\"\"}}}],\"scattercarpet\":[{\"type\":\"scattercarpet\",\"marker\":{\"colorbar\":{\"outlinewidth\":0,\"ticks\":\"\"}}}],\"carpet\":[{\"aaxis\":{\"endlinecolor\":\"#A2B1C6\",\"gridcolor\":\"#506784\",\"linecolor\":\"#506784\",\"minorgridcolor\":\"#506784\",\"startlinecolor\":\"#A2B1C6\"},\"baxis\":{\"endlinecolor\":\"#A2B1C6\",\"gridcolor\":\"#506784\",\"linecolor\":\"#506784\",\"minorgridcolor\":\"#506784\",\"startlinecolor\":\"#A2B1C6\"},\"type\":\"carpet\"}],\"table\":[{\"cells\":{\"fill\":{\"color\":\"#506784\"},\"line\":{\"color\":\"rgb(17,17,17)\"}},\"header\":{\"fill\":{\"color\":\"#2a3f5f\"},\"line\":{\"color\":\"rgb(17,17,17)\"}},\"type\":\"table\"}],\"barpolar\":[{\"marker\":{\"line\":{\"color\":\"rgb(17,17,17)\",\"width\":0.5},\"pattern\":{\"fillmode\":\"overlay\",\"size\":10,\"solidity\":0.2}},\"type\":\"barpolar\"}],\"pie\":[{\"automargin\":true,\"type\":\"pie\"}]},\"layout\":{\"autotypenumbers\":\"strict\",\"colorway\":[\"#636efa\",\"#EF553B\",\"#00cc96\",\"#ab63fa\",\"#FFA15A\",\"#19d3f3\",\"#FF6692\",\"#B6E880\",\"#FF97FF\",\"#FECB52\"],\"font\":{\"color\":\"#f2f5fa\"},\"hovermode\":\"closest\",\"hoverlabel\":{\"align\":\"left\"},\"paper_bgcolor\":\"rgb(17,17,17)\",\"plot_bgcolor\":\"rgb(17,17,17)\",\"polar\":{\"bgcolor\":\"rgb(17,17,17)\",\"angularaxis\":{\"gridcolor\":\"#506784\",\"linecolor\":\"#506784\",\"ticks\":\"\"},\"radialaxis\":{\"gridcolor\":\"#506784\",\"linecolor\":\"#506784\",\"ticks\":\"\"}},\"ternary\":{\"bgcolor\":\"rgb(17,17,17)\",\"aaxis\":{\"gridcolor\":\"#506784\",\"linecolor\":\"#506784\",\"ticks\":\"\"},\"baxis\":{\"gridcolor\":\"#506784\",\"linecolor\":\"#506784\",\"ticks\":\"\"},\"caxis\":{\"gridcolor\":\"#506784\",\"linecolor\":\"#506784\",\"ticks\":\"\"}},\"coloraxis\":{\"colorbar\":{\"outlinewidth\":0,\"ticks\":\"\"}},\"colorscale\":{\"sequential\":[[0.0,\"#0d0887\"],[0.1111111111111111,\"#46039f\"],[0.2222222222222222,\"#7201a8\"],[0.3333333333333333,\"#9c179e\"],[0.4444444444444444,\"#bd3786\"],[0.5555555555555556,\"#d8576b\"],[0.6666666666666666,\"#ed7953\"],[0.7777777777777778,\"#fb9f3a\"],[0.8888888888888888,\"#fdca26\"],[1.0,\"#f0f921\"]],\"sequentialminus\":[[0.0,\"#0d0887\"],[0.1111111111111111,\"#46039f\"],[0.2222222222222222,\"#7201a8\"],[0.3333333333333333,\"#9c179e\"],[0.4444444444444444,\"#bd3786\"],[0.5555555555555556,\"#d8576b\"],[0.6666666666666666,\"#ed7953\"],[0.7777777777777778,\"#fb9f3a\"],[0.8888888888888888,\"#fdca26\"],[1.0,\"#f0f921\"]],\"diverging\":[[0,\"#8e0152\"],[0.1,\"#c51b7d\"],[0.2,\"#de77ae\"],[0.3,\"#f1b6da\"],[0.4,\"#fde0ef\"],[0.5,\"#f7f7f7\"],[0.6,\"#e6f5d0\"],[0.7,\"#b8e186\"],[0.8,\"#7fbc41\"],[0.9,\"#4d9221\"],[1,\"#276419\"]]},\"xaxis\":{\"gridcolor\":\"#283442\",\"linecolor\":\"#506784\",\"ticks\":\"\",\"title\":{\"standoff\":15},\"zerolinecolor\":\"#283442\",\"automargin\":true,\"zerolinewidth\":2},\"yaxis\":{\"gridcolor\":\"#283442\",\"linecolor\":\"#506784\",\"ticks\":\"\",\"title\":{\"standoff\":15},\"zerolinecolor\":\"#283442\",\"automargin\":true,\"zerolinewidth\":2},\"scene\":{\"xaxis\":{\"backgroundcolor\":\"rgb(17,17,17)\",\"gridcolor\":\"#506784\",\"linecolor\":\"#506784\",\"showbackground\":true,\"ticks\":\"\",\"zerolinecolor\":\"#C8D4E3\",\"gridwidth\":2},\"yaxis\":{\"backgroundcolor\":\"rgb(17,17,17)\",\"gridcolor\":\"#506784\",\"linecolor\":\"#506784\",\"showbackground\":true,\"ticks\":\"\",\"zerolinecolor\":\"#C8D4E3\",\"gridwidth\":2},\"zaxis\":{\"backgroundcolor\":\"rgb(17,17,17)\",\"gridcolor\":\"#506784\",\"linecolor\":\"#506784\",\"showbackground\":true,\"ticks\":\"\",\"zerolinecolor\":\"#C8D4E3\",\"gridwidth\":2}},\"shapedefaults\":{\"line\":{\"color\":\"#f2f5fa\"}},\"annotationdefaults\":{\"arrowcolor\":\"#f2f5fa\",\"arrowhead\":0,\"arrowwidth\":1},\"geo\":{\"bgcolor\":\"rgb(17,17,17)\",\"landcolor\":\"rgb(17,17,17)\",\"subunitcolor\":\"#506784\",\"showland\":true,\"showlakes\":true,\"lakecolor\":\"rgb(17,17,17)\"},\"title\":{\"x\":0.05},\"updatemenudefaults\":{\"bgcolor\":\"#506784\",\"borderwidth\":0},\"sliderdefaults\":{\"bgcolor\":\"#C8D4E3\",\"borderwidth\":1,\"bordercolor\":\"rgb(17,17,17)\",\"tickwidth\":0},\"mapbox\":{\"style\":\"dark\"}}},\"xaxis\":{\"anchor\":\"y\",\"domain\":[0.0,1.0],\"scaleanchor\":\"y\",\"constrain\":\"domain\",\"title\":{\"text\":\"Target\"}},\"yaxis\":{\"anchor\":\"x\",\"domain\":[0.0,1.0],\"autorange\":\"reversed\",\"constrain\":\"domain\",\"title\":{\"text\":\"Prediction\"}},\"coloraxis\":{\"colorscale\":[[0.0,\"#0d0887\"],[0.1111111111111111,\"#46039f\"],[0.2222222222222222,\"#7201a8\"],[0.3333333333333333,\"#9c179e\"],[0.4444444444444444,\"#bd3786\"],[0.5555555555555556,\"#d8576b\"],[0.6666666666666666,\"#ed7953\"],[0.7777777777777778,\"#fb9f3a\"],[0.8888888888888888,\"#fdca26\"],[1.0,\"#f0f921\"]]},\"margin\":{\"t\":60}},                        {\"responsive\": true}                    ).then(function(){\n",
       "                            \n",
       "var gd = document.getElementById('4ff54c6c-d814-493b-997c-7f82b3a6ce47');\n",
       "var x = new MutationObserver(function (mutations, observer) {{\n",
       "        var display = window.getComputedStyle(gd).display;\n",
       "        if (!display || display === 'none') {{\n",
       "            console.log([gd, 'removed!']);\n",
       "            Plotly.purge(gd);\n",
       "            observer.disconnect();\n",
       "        }}\n",
       "}});\n",
       "\n",
       "// Listen for the removal of the full notebook cells\n",
       "var notebookContainer = gd.closest('#notebook-container');\n",
       "if (notebookContainer) {{\n",
       "    x.observe(notebookContainer, {childList: true});\n",
       "}}\n",
       "\n",
       "// Listen for the clearing of the current output cell\n",
       "var outputEl = gd.closest('.output');\n",
       "if (outputEl) {{\n",
       "    x.observe(outputEl, {childList: true});\n",
       "}}\n",
       "\n",
       "                        })                };                });            </script>        </div>"
      ]
     },
     "metadata": {},
     "output_type": "display_data"
    }
   ],
   "source": [
    "@score_for('Hist Gradient Boosting', 'train')\n",
    "@time_for('Hist Gradient Boosting', 'train')\n",
    "def train_hist_grad():\n",
    "    return f1_score(hist_grad_y_train, y_train, average='macro')\n",
    "\n",
    "print(\n",
    "    \"F1-мера для тренировочных данных с помощью \"\n",
    "    \"HistGradientBoostingClassifier:\", train_hist_grad(),\n",
    ")\n",
    "draw_conf_matrix(y_train, hist_grad_y_train)"
   ]
  },
  {
   "cell_type": "code",
   "execution_count": 59,
   "metadata": {},
   "outputs": [],
   "source": [
    "hist_grad_y_test = hist_grad_model.predict(X_test)"
   ]
  },
  {
   "cell_type": "code",
   "execution_count": 85,
   "metadata": {},
   "outputs": [
    {
     "name": "stdout",
     "output_type": "stream",
     "text": [
      "F1-мера для тестовых данных с помощью HistGradientBoostingClassifier: 0.956678790248597\n"
     ]
    },
    {
     "data": {
      "application/vnd.plotly.v1+json": {
       "config": {
        "plotlyServerURL": "https://plot.ly"
       },
       "data": [
        {
         "coloraxis": "coloraxis",
         "hovertemplate": "x: %{x}<br>y: %{y}<br>color: %{z}<extra></extra>",
         "name": "0",
         "texttemplate": "%{z}",
         "type": "heatmap",
         "xaxis": "x",
         "yaxis": "y",
         "z": [
          [
           57347,
           1008,
           508
          ],
          [
           2112,
           16653,
           6
          ],
          [
           51,
           0,
           21315
          ]
         ]
        }
       ],
       "layout": {
        "coloraxis": {
         "colorscale": [
          [
           0,
           "#0d0887"
          ],
          [
           0.1111111111111111,
           "#46039f"
          ],
          [
           0.2222222222222222,
           "#7201a8"
          ],
          [
           0.3333333333333333,
           "#9c179e"
          ],
          [
           0.4444444444444444,
           "#bd3786"
          ],
          [
           0.5555555555555556,
           "#d8576b"
          ],
          [
           0.6666666666666666,
           "#ed7953"
          ],
          [
           0.7777777777777778,
           "#fb9f3a"
          ],
          [
           0.8888888888888888,
           "#fdca26"
          ],
          [
           1,
           "#f0f921"
          ]
         ]
        },
        "margin": {
         "t": 60
        },
        "template": {
         "data": {
          "bar": [
           {
            "error_x": {
             "color": "#f2f5fa"
            },
            "error_y": {
             "color": "#f2f5fa"
            },
            "marker": {
             "line": {
              "color": "rgb(17,17,17)",
              "width": 0.5
             },
             "pattern": {
              "fillmode": "overlay",
              "size": 10,
              "solidity": 0.2
             }
            },
            "type": "bar"
           }
          ],
          "barpolar": [
           {
            "marker": {
             "line": {
              "color": "rgb(17,17,17)",
              "width": 0.5
             },
             "pattern": {
              "fillmode": "overlay",
              "size": 10,
              "solidity": 0.2
             }
            },
            "type": "barpolar"
           }
          ],
          "carpet": [
           {
            "aaxis": {
             "endlinecolor": "#A2B1C6",
             "gridcolor": "#506784",
             "linecolor": "#506784",
             "minorgridcolor": "#506784",
             "startlinecolor": "#A2B1C6"
            },
            "baxis": {
             "endlinecolor": "#A2B1C6",
             "gridcolor": "#506784",
             "linecolor": "#506784",
             "minorgridcolor": "#506784",
             "startlinecolor": "#A2B1C6"
            },
            "type": "carpet"
           }
          ],
          "choropleth": [
           {
            "colorbar": {
             "outlinewidth": 0,
             "ticks": ""
            },
            "type": "choropleth"
           }
          ],
          "contour": [
           {
            "colorbar": {
             "outlinewidth": 0,
             "ticks": ""
            },
            "colorscale": [
             [
              0,
              "#0d0887"
             ],
             [
              0.1111111111111111,
              "#46039f"
             ],
             [
              0.2222222222222222,
              "#7201a8"
             ],
             [
              0.3333333333333333,
              "#9c179e"
             ],
             [
              0.4444444444444444,
              "#bd3786"
             ],
             [
              0.5555555555555556,
              "#d8576b"
             ],
             [
              0.6666666666666666,
              "#ed7953"
             ],
             [
              0.7777777777777778,
              "#fb9f3a"
             ],
             [
              0.8888888888888888,
              "#fdca26"
             ],
             [
              1,
              "#f0f921"
             ]
            ],
            "type": "contour"
           }
          ],
          "contourcarpet": [
           {
            "colorbar": {
             "outlinewidth": 0,
             "ticks": ""
            },
            "type": "contourcarpet"
           }
          ],
          "heatmap": [
           {
            "colorbar": {
             "outlinewidth": 0,
             "ticks": ""
            },
            "colorscale": [
             [
              0,
              "#0d0887"
             ],
             [
              0.1111111111111111,
              "#46039f"
             ],
             [
              0.2222222222222222,
              "#7201a8"
             ],
             [
              0.3333333333333333,
              "#9c179e"
             ],
             [
              0.4444444444444444,
              "#bd3786"
             ],
             [
              0.5555555555555556,
              "#d8576b"
             ],
             [
              0.6666666666666666,
              "#ed7953"
             ],
             [
              0.7777777777777778,
              "#fb9f3a"
             ],
             [
              0.8888888888888888,
              "#fdca26"
             ],
             [
              1,
              "#f0f921"
             ]
            ],
            "type": "heatmap"
           }
          ],
          "heatmapgl": [
           {
            "colorbar": {
             "outlinewidth": 0,
             "ticks": ""
            },
            "colorscale": [
             [
              0,
              "#0d0887"
             ],
             [
              0.1111111111111111,
              "#46039f"
             ],
             [
              0.2222222222222222,
              "#7201a8"
             ],
             [
              0.3333333333333333,
              "#9c179e"
             ],
             [
              0.4444444444444444,
              "#bd3786"
             ],
             [
              0.5555555555555556,
              "#d8576b"
             ],
             [
              0.6666666666666666,
              "#ed7953"
             ],
             [
              0.7777777777777778,
              "#fb9f3a"
             ],
             [
              0.8888888888888888,
              "#fdca26"
             ],
             [
              1,
              "#f0f921"
             ]
            ],
            "type": "heatmapgl"
           }
          ],
          "histogram": [
           {
            "marker": {
             "pattern": {
              "fillmode": "overlay",
              "size": 10,
              "solidity": 0.2
             }
            },
            "type": "histogram"
           }
          ],
          "histogram2d": [
           {
            "colorbar": {
             "outlinewidth": 0,
             "ticks": ""
            },
            "colorscale": [
             [
              0,
              "#0d0887"
             ],
             [
              0.1111111111111111,
              "#46039f"
             ],
             [
              0.2222222222222222,
              "#7201a8"
             ],
             [
              0.3333333333333333,
              "#9c179e"
             ],
             [
              0.4444444444444444,
              "#bd3786"
             ],
             [
              0.5555555555555556,
              "#d8576b"
             ],
             [
              0.6666666666666666,
              "#ed7953"
             ],
             [
              0.7777777777777778,
              "#fb9f3a"
             ],
             [
              0.8888888888888888,
              "#fdca26"
             ],
             [
              1,
              "#f0f921"
             ]
            ],
            "type": "histogram2d"
           }
          ],
          "histogram2dcontour": [
           {
            "colorbar": {
             "outlinewidth": 0,
             "ticks": ""
            },
            "colorscale": [
             [
              0,
              "#0d0887"
             ],
             [
              0.1111111111111111,
              "#46039f"
             ],
             [
              0.2222222222222222,
              "#7201a8"
             ],
             [
              0.3333333333333333,
              "#9c179e"
             ],
             [
              0.4444444444444444,
              "#bd3786"
             ],
             [
              0.5555555555555556,
              "#d8576b"
             ],
             [
              0.6666666666666666,
              "#ed7953"
             ],
             [
              0.7777777777777778,
              "#fb9f3a"
             ],
             [
              0.8888888888888888,
              "#fdca26"
             ],
             [
              1,
              "#f0f921"
             ]
            ],
            "type": "histogram2dcontour"
           }
          ],
          "mesh3d": [
           {
            "colorbar": {
             "outlinewidth": 0,
             "ticks": ""
            },
            "type": "mesh3d"
           }
          ],
          "parcoords": [
           {
            "line": {
             "colorbar": {
              "outlinewidth": 0,
              "ticks": ""
             }
            },
            "type": "parcoords"
           }
          ],
          "pie": [
           {
            "automargin": true,
            "type": "pie"
           }
          ],
          "scatter": [
           {
            "marker": {
             "line": {
              "color": "#283442"
             }
            },
            "type": "scatter"
           }
          ],
          "scatter3d": [
           {
            "line": {
             "colorbar": {
              "outlinewidth": 0,
              "ticks": ""
             }
            },
            "marker": {
             "colorbar": {
              "outlinewidth": 0,
              "ticks": ""
             }
            },
            "type": "scatter3d"
           }
          ],
          "scattercarpet": [
           {
            "marker": {
             "colorbar": {
              "outlinewidth": 0,
              "ticks": ""
             }
            },
            "type": "scattercarpet"
           }
          ],
          "scattergeo": [
           {
            "marker": {
             "colorbar": {
              "outlinewidth": 0,
              "ticks": ""
             }
            },
            "type": "scattergeo"
           }
          ],
          "scattergl": [
           {
            "marker": {
             "line": {
              "color": "#283442"
             }
            },
            "type": "scattergl"
           }
          ],
          "scattermapbox": [
           {
            "marker": {
             "colorbar": {
              "outlinewidth": 0,
              "ticks": ""
             }
            },
            "type": "scattermapbox"
           }
          ],
          "scatterpolar": [
           {
            "marker": {
             "colorbar": {
              "outlinewidth": 0,
              "ticks": ""
             }
            },
            "type": "scatterpolar"
           }
          ],
          "scatterpolargl": [
           {
            "marker": {
             "colorbar": {
              "outlinewidth": 0,
              "ticks": ""
             }
            },
            "type": "scatterpolargl"
           }
          ],
          "scatterternary": [
           {
            "marker": {
             "colorbar": {
              "outlinewidth": 0,
              "ticks": ""
             }
            },
            "type": "scatterternary"
           }
          ],
          "surface": [
           {
            "colorbar": {
             "outlinewidth": 0,
             "ticks": ""
            },
            "colorscale": [
             [
              0,
              "#0d0887"
             ],
             [
              0.1111111111111111,
              "#46039f"
             ],
             [
              0.2222222222222222,
              "#7201a8"
             ],
             [
              0.3333333333333333,
              "#9c179e"
             ],
             [
              0.4444444444444444,
              "#bd3786"
             ],
             [
              0.5555555555555556,
              "#d8576b"
             ],
             [
              0.6666666666666666,
              "#ed7953"
             ],
             [
              0.7777777777777778,
              "#fb9f3a"
             ],
             [
              0.8888888888888888,
              "#fdca26"
             ],
             [
              1,
              "#f0f921"
             ]
            ],
            "type": "surface"
           }
          ],
          "table": [
           {
            "cells": {
             "fill": {
              "color": "#506784"
             },
             "line": {
              "color": "rgb(17,17,17)"
             }
            },
            "header": {
             "fill": {
              "color": "#2a3f5f"
             },
             "line": {
              "color": "rgb(17,17,17)"
             }
            },
            "type": "table"
           }
          ]
         },
         "layout": {
          "annotationdefaults": {
           "arrowcolor": "#f2f5fa",
           "arrowhead": 0,
           "arrowwidth": 1
          },
          "autotypenumbers": "strict",
          "coloraxis": {
           "colorbar": {
            "outlinewidth": 0,
            "ticks": ""
           }
          },
          "colorscale": {
           "diverging": [
            [
             0,
             "#8e0152"
            ],
            [
             0.1,
             "#c51b7d"
            ],
            [
             0.2,
             "#de77ae"
            ],
            [
             0.3,
             "#f1b6da"
            ],
            [
             0.4,
             "#fde0ef"
            ],
            [
             0.5,
             "#f7f7f7"
            ],
            [
             0.6,
             "#e6f5d0"
            ],
            [
             0.7,
             "#b8e186"
            ],
            [
             0.8,
             "#7fbc41"
            ],
            [
             0.9,
             "#4d9221"
            ],
            [
             1,
             "#276419"
            ]
           ],
           "sequential": [
            [
             0,
             "#0d0887"
            ],
            [
             0.1111111111111111,
             "#46039f"
            ],
            [
             0.2222222222222222,
             "#7201a8"
            ],
            [
             0.3333333333333333,
             "#9c179e"
            ],
            [
             0.4444444444444444,
             "#bd3786"
            ],
            [
             0.5555555555555556,
             "#d8576b"
            ],
            [
             0.6666666666666666,
             "#ed7953"
            ],
            [
             0.7777777777777778,
             "#fb9f3a"
            ],
            [
             0.8888888888888888,
             "#fdca26"
            ],
            [
             1,
             "#f0f921"
            ]
           ],
           "sequentialminus": [
            [
             0,
             "#0d0887"
            ],
            [
             0.1111111111111111,
             "#46039f"
            ],
            [
             0.2222222222222222,
             "#7201a8"
            ],
            [
             0.3333333333333333,
             "#9c179e"
            ],
            [
             0.4444444444444444,
             "#bd3786"
            ],
            [
             0.5555555555555556,
             "#d8576b"
            ],
            [
             0.6666666666666666,
             "#ed7953"
            ],
            [
             0.7777777777777778,
             "#fb9f3a"
            ],
            [
             0.8888888888888888,
             "#fdca26"
            ],
            [
             1,
             "#f0f921"
            ]
           ]
          },
          "colorway": [
           "#636efa",
           "#EF553B",
           "#00cc96",
           "#ab63fa",
           "#FFA15A",
           "#19d3f3",
           "#FF6692",
           "#B6E880",
           "#FF97FF",
           "#FECB52"
          ],
          "font": {
           "color": "#f2f5fa"
          },
          "geo": {
           "bgcolor": "rgb(17,17,17)",
           "lakecolor": "rgb(17,17,17)",
           "landcolor": "rgb(17,17,17)",
           "showlakes": true,
           "showland": true,
           "subunitcolor": "#506784"
          },
          "hoverlabel": {
           "align": "left"
          },
          "hovermode": "closest",
          "mapbox": {
           "style": "dark"
          },
          "paper_bgcolor": "rgb(17,17,17)",
          "plot_bgcolor": "rgb(17,17,17)",
          "polar": {
           "angularaxis": {
            "gridcolor": "#506784",
            "linecolor": "#506784",
            "ticks": ""
           },
           "bgcolor": "rgb(17,17,17)",
           "radialaxis": {
            "gridcolor": "#506784",
            "linecolor": "#506784",
            "ticks": ""
           }
          },
          "scene": {
           "xaxis": {
            "backgroundcolor": "rgb(17,17,17)",
            "gridcolor": "#506784",
            "gridwidth": 2,
            "linecolor": "#506784",
            "showbackground": true,
            "ticks": "",
            "zerolinecolor": "#C8D4E3"
           },
           "yaxis": {
            "backgroundcolor": "rgb(17,17,17)",
            "gridcolor": "#506784",
            "gridwidth": 2,
            "linecolor": "#506784",
            "showbackground": true,
            "ticks": "",
            "zerolinecolor": "#C8D4E3"
           },
           "zaxis": {
            "backgroundcolor": "rgb(17,17,17)",
            "gridcolor": "#506784",
            "gridwidth": 2,
            "linecolor": "#506784",
            "showbackground": true,
            "ticks": "",
            "zerolinecolor": "#C8D4E3"
           }
          },
          "shapedefaults": {
           "line": {
            "color": "#f2f5fa"
           }
          },
          "sliderdefaults": {
           "bgcolor": "#C8D4E3",
           "bordercolor": "rgb(17,17,17)",
           "borderwidth": 1,
           "tickwidth": 0
          },
          "ternary": {
           "aaxis": {
            "gridcolor": "#506784",
            "linecolor": "#506784",
            "ticks": ""
           },
           "baxis": {
            "gridcolor": "#506784",
            "linecolor": "#506784",
            "ticks": ""
           },
           "bgcolor": "rgb(17,17,17)",
           "caxis": {
            "gridcolor": "#506784",
            "linecolor": "#506784",
            "ticks": ""
           }
          },
          "title": {
           "x": 0.05
          },
          "updatemenudefaults": {
           "bgcolor": "#506784",
           "borderwidth": 0
          },
          "xaxis": {
           "automargin": true,
           "gridcolor": "#283442",
           "linecolor": "#506784",
           "ticks": "",
           "title": {
            "standoff": 15
           },
           "zerolinecolor": "#283442",
           "zerolinewidth": 2
          },
          "yaxis": {
           "automargin": true,
           "gridcolor": "#283442",
           "linecolor": "#506784",
           "ticks": "",
           "title": {
            "standoff": 15
           },
           "zerolinecolor": "#283442",
           "zerolinewidth": 2
          }
         }
        },
        "xaxis": {
         "anchor": "y",
         "constrain": "domain",
         "domain": [
          0,
          1
         ],
         "scaleanchor": "y",
         "title": {
          "text": "Target"
         }
        },
        "yaxis": {
         "anchor": "x",
         "autorange": "reversed",
         "constrain": "domain",
         "domain": [
          0,
          1
         ],
         "title": {
          "text": "Prediction"
         }
        }
       }
      },
      "text/html": [
       "<div>                            <div id=\"bd144026-5dd5-47a8-a9c0-60f9a2b81720\" class=\"plotly-graph-div\" style=\"height:525px; width:100%;\"></div>            <script type=\"text/javascript\">                require([\"plotly\"], function(Plotly) {                    window.PLOTLYENV=window.PLOTLYENV || {};                                    if (document.getElementById(\"bd144026-5dd5-47a8-a9c0-60f9a2b81720\")) {                    Plotly.newPlot(                        \"bd144026-5dd5-47a8-a9c0-60f9a2b81720\",                        [{\"coloraxis\":\"coloraxis\",\"name\":\"0\",\"texttemplate\":\"%{z}\",\"z\":[[57347,1008,508],[2112,16653,6],[51,0,21315]],\"type\":\"heatmap\",\"xaxis\":\"x\",\"yaxis\":\"y\",\"hovertemplate\":\"x: %{x}<br>y: %{y}<br>color: %{z}<extra></extra>\"}],                        {\"template\":{\"data\":{\"histogram2dcontour\":[{\"type\":\"histogram2dcontour\",\"colorbar\":{\"outlinewidth\":0,\"ticks\":\"\"},\"colorscale\":[[0.0,\"#0d0887\"],[0.1111111111111111,\"#46039f\"],[0.2222222222222222,\"#7201a8\"],[0.3333333333333333,\"#9c179e\"],[0.4444444444444444,\"#bd3786\"],[0.5555555555555556,\"#d8576b\"],[0.6666666666666666,\"#ed7953\"],[0.7777777777777778,\"#fb9f3a\"],[0.8888888888888888,\"#fdca26\"],[1.0,\"#f0f921\"]]}],\"choropleth\":[{\"type\":\"choropleth\",\"colorbar\":{\"outlinewidth\":0,\"ticks\":\"\"}}],\"histogram2d\":[{\"type\":\"histogram2d\",\"colorbar\":{\"outlinewidth\":0,\"ticks\":\"\"},\"colorscale\":[[0.0,\"#0d0887\"],[0.1111111111111111,\"#46039f\"],[0.2222222222222222,\"#7201a8\"],[0.3333333333333333,\"#9c179e\"],[0.4444444444444444,\"#bd3786\"],[0.5555555555555556,\"#d8576b\"],[0.6666666666666666,\"#ed7953\"],[0.7777777777777778,\"#fb9f3a\"],[0.8888888888888888,\"#fdca26\"],[1.0,\"#f0f921\"]]}],\"heatmap\":[{\"type\":\"heatmap\",\"colorbar\":{\"outlinewidth\":0,\"ticks\":\"\"},\"colorscale\":[[0.0,\"#0d0887\"],[0.1111111111111111,\"#46039f\"],[0.2222222222222222,\"#7201a8\"],[0.3333333333333333,\"#9c179e\"],[0.4444444444444444,\"#bd3786\"],[0.5555555555555556,\"#d8576b\"],[0.6666666666666666,\"#ed7953\"],[0.7777777777777778,\"#fb9f3a\"],[0.8888888888888888,\"#fdca26\"],[1.0,\"#f0f921\"]]}],\"heatmapgl\":[{\"type\":\"heatmapgl\",\"colorbar\":{\"outlinewidth\":0,\"ticks\":\"\"},\"colorscale\":[[0.0,\"#0d0887\"],[0.1111111111111111,\"#46039f\"],[0.2222222222222222,\"#7201a8\"],[0.3333333333333333,\"#9c179e\"],[0.4444444444444444,\"#bd3786\"],[0.5555555555555556,\"#d8576b\"],[0.6666666666666666,\"#ed7953\"],[0.7777777777777778,\"#fb9f3a\"],[0.8888888888888888,\"#fdca26\"],[1.0,\"#f0f921\"]]}],\"contourcarpet\":[{\"type\":\"contourcarpet\",\"colorbar\":{\"outlinewidth\":0,\"ticks\":\"\"}}],\"contour\":[{\"type\":\"contour\",\"colorbar\":{\"outlinewidth\":0,\"ticks\":\"\"},\"colorscale\":[[0.0,\"#0d0887\"],[0.1111111111111111,\"#46039f\"],[0.2222222222222222,\"#7201a8\"],[0.3333333333333333,\"#9c179e\"],[0.4444444444444444,\"#bd3786\"],[0.5555555555555556,\"#d8576b\"],[0.6666666666666666,\"#ed7953\"],[0.7777777777777778,\"#fb9f3a\"],[0.8888888888888888,\"#fdca26\"],[1.0,\"#f0f921\"]]}],\"surface\":[{\"type\":\"surface\",\"colorbar\":{\"outlinewidth\":0,\"ticks\":\"\"},\"colorscale\":[[0.0,\"#0d0887\"],[0.1111111111111111,\"#46039f\"],[0.2222222222222222,\"#7201a8\"],[0.3333333333333333,\"#9c179e\"],[0.4444444444444444,\"#bd3786\"],[0.5555555555555556,\"#d8576b\"],[0.6666666666666666,\"#ed7953\"],[0.7777777777777778,\"#fb9f3a\"],[0.8888888888888888,\"#fdca26\"],[1.0,\"#f0f921\"]]}],\"mesh3d\":[{\"type\":\"mesh3d\",\"colorbar\":{\"outlinewidth\":0,\"ticks\":\"\"}}],\"scatter\":[{\"marker\":{\"line\":{\"color\":\"#283442\"}},\"type\":\"scatter\"}],\"parcoords\":[{\"type\":\"parcoords\",\"line\":{\"colorbar\":{\"outlinewidth\":0,\"ticks\":\"\"}}}],\"scatterpolargl\":[{\"type\":\"scatterpolargl\",\"marker\":{\"colorbar\":{\"outlinewidth\":0,\"ticks\":\"\"}}}],\"bar\":[{\"error_x\":{\"color\":\"#f2f5fa\"},\"error_y\":{\"color\":\"#f2f5fa\"},\"marker\":{\"line\":{\"color\":\"rgb(17,17,17)\",\"width\":0.5},\"pattern\":{\"fillmode\":\"overlay\",\"size\":10,\"solidity\":0.2}},\"type\":\"bar\"}],\"scattergeo\":[{\"type\":\"scattergeo\",\"marker\":{\"colorbar\":{\"outlinewidth\":0,\"ticks\":\"\"}}}],\"scatterpolar\":[{\"type\":\"scatterpolar\",\"marker\":{\"colorbar\":{\"outlinewidth\":0,\"ticks\":\"\"}}}],\"histogram\":[{\"marker\":{\"pattern\":{\"fillmode\":\"overlay\",\"size\":10,\"solidity\":0.2}},\"type\":\"histogram\"}],\"scattergl\":[{\"marker\":{\"line\":{\"color\":\"#283442\"}},\"type\":\"scattergl\"}],\"scatter3d\":[{\"type\":\"scatter3d\",\"line\":{\"colorbar\":{\"outlinewidth\":0,\"ticks\":\"\"}},\"marker\":{\"colorbar\":{\"outlinewidth\":0,\"ticks\":\"\"}}}],\"scattermapbox\":[{\"type\":\"scattermapbox\",\"marker\":{\"colorbar\":{\"outlinewidth\":0,\"ticks\":\"\"}}}],\"scatterternary\":[{\"type\":\"scatterternary\",\"marker\":{\"colorbar\":{\"outlinewidth\":0,\"ticks\":\"\"}}}],\"scattercarpet\":[{\"type\":\"scattercarpet\",\"marker\":{\"colorbar\":{\"outlinewidth\":0,\"ticks\":\"\"}}}],\"carpet\":[{\"aaxis\":{\"endlinecolor\":\"#A2B1C6\",\"gridcolor\":\"#506784\",\"linecolor\":\"#506784\",\"minorgridcolor\":\"#506784\",\"startlinecolor\":\"#A2B1C6\"},\"baxis\":{\"endlinecolor\":\"#A2B1C6\",\"gridcolor\":\"#506784\",\"linecolor\":\"#506784\",\"minorgridcolor\":\"#506784\",\"startlinecolor\":\"#A2B1C6\"},\"type\":\"carpet\"}],\"table\":[{\"cells\":{\"fill\":{\"color\":\"#506784\"},\"line\":{\"color\":\"rgb(17,17,17)\"}},\"header\":{\"fill\":{\"color\":\"#2a3f5f\"},\"line\":{\"color\":\"rgb(17,17,17)\"}},\"type\":\"table\"}],\"barpolar\":[{\"marker\":{\"line\":{\"color\":\"rgb(17,17,17)\",\"width\":0.5},\"pattern\":{\"fillmode\":\"overlay\",\"size\":10,\"solidity\":0.2}},\"type\":\"barpolar\"}],\"pie\":[{\"automargin\":true,\"type\":\"pie\"}]},\"layout\":{\"autotypenumbers\":\"strict\",\"colorway\":[\"#636efa\",\"#EF553B\",\"#00cc96\",\"#ab63fa\",\"#FFA15A\",\"#19d3f3\",\"#FF6692\",\"#B6E880\",\"#FF97FF\",\"#FECB52\"],\"font\":{\"color\":\"#f2f5fa\"},\"hovermode\":\"closest\",\"hoverlabel\":{\"align\":\"left\"},\"paper_bgcolor\":\"rgb(17,17,17)\",\"plot_bgcolor\":\"rgb(17,17,17)\",\"polar\":{\"bgcolor\":\"rgb(17,17,17)\",\"angularaxis\":{\"gridcolor\":\"#506784\",\"linecolor\":\"#506784\",\"ticks\":\"\"},\"radialaxis\":{\"gridcolor\":\"#506784\",\"linecolor\":\"#506784\",\"ticks\":\"\"}},\"ternary\":{\"bgcolor\":\"rgb(17,17,17)\",\"aaxis\":{\"gridcolor\":\"#506784\",\"linecolor\":\"#506784\",\"ticks\":\"\"},\"baxis\":{\"gridcolor\":\"#506784\",\"linecolor\":\"#506784\",\"ticks\":\"\"},\"caxis\":{\"gridcolor\":\"#506784\",\"linecolor\":\"#506784\",\"ticks\":\"\"}},\"coloraxis\":{\"colorbar\":{\"outlinewidth\":0,\"ticks\":\"\"}},\"colorscale\":{\"sequential\":[[0.0,\"#0d0887\"],[0.1111111111111111,\"#46039f\"],[0.2222222222222222,\"#7201a8\"],[0.3333333333333333,\"#9c179e\"],[0.4444444444444444,\"#bd3786\"],[0.5555555555555556,\"#d8576b\"],[0.6666666666666666,\"#ed7953\"],[0.7777777777777778,\"#fb9f3a\"],[0.8888888888888888,\"#fdca26\"],[1.0,\"#f0f921\"]],\"sequentialminus\":[[0.0,\"#0d0887\"],[0.1111111111111111,\"#46039f\"],[0.2222222222222222,\"#7201a8\"],[0.3333333333333333,\"#9c179e\"],[0.4444444444444444,\"#bd3786\"],[0.5555555555555556,\"#d8576b\"],[0.6666666666666666,\"#ed7953\"],[0.7777777777777778,\"#fb9f3a\"],[0.8888888888888888,\"#fdca26\"],[1.0,\"#f0f921\"]],\"diverging\":[[0,\"#8e0152\"],[0.1,\"#c51b7d\"],[0.2,\"#de77ae\"],[0.3,\"#f1b6da\"],[0.4,\"#fde0ef\"],[0.5,\"#f7f7f7\"],[0.6,\"#e6f5d0\"],[0.7,\"#b8e186\"],[0.8,\"#7fbc41\"],[0.9,\"#4d9221\"],[1,\"#276419\"]]},\"xaxis\":{\"gridcolor\":\"#283442\",\"linecolor\":\"#506784\",\"ticks\":\"\",\"title\":{\"standoff\":15},\"zerolinecolor\":\"#283442\",\"automargin\":true,\"zerolinewidth\":2},\"yaxis\":{\"gridcolor\":\"#283442\",\"linecolor\":\"#506784\",\"ticks\":\"\",\"title\":{\"standoff\":15},\"zerolinecolor\":\"#283442\",\"automargin\":true,\"zerolinewidth\":2},\"scene\":{\"xaxis\":{\"backgroundcolor\":\"rgb(17,17,17)\",\"gridcolor\":\"#506784\",\"linecolor\":\"#506784\",\"showbackground\":true,\"ticks\":\"\",\"zerolinecolor\":\"#C8D4E3\",\"gridwidth\":2},\"yaxis\":{\"backgroundcolor\":\"rgb(17,17,17)\",\"gridcolor\":\"#506784\",\"linecolor\":\"#506784\",\"showbackground\":true,\"ticks\":\"\",\"zerolinecolor\":\"#C8D4E3\",\"gridwidth\":2},\"zaxis\":{\"backgroundcolor\":\"rgb(17,17,17)\",\"gridcolor\":\"#506784\",\"linecolor\":\"#506784\",\"showbackground\":true,\"ticks\":\"\",\"zerolinecolor\":\"#C8D4E3\",\"gridwidth\":2}},\"shapedefaults\":{\"line\":{\"color\":\"#f2f5fa\"}},\"annotationdefaults\":{\"arrowcolor\":\"#f2f5fa\",\"arrowhead\":0,\"arrowwidth\":1},\"geo\":{\"bgcolor\":\"rgb(17,17,17)\",\"landcolor\":\"rgb(17,17,17)\",\"subunitcolor\":\"#506784\",\"showland\":true,\"showlakes\":true,\"lakecolor\":\"rgb(17,17,17)\"},\"title\":{\"x\":0.05},\"updatemenudefaults\":{\"bgcolor\":\"#506784\",\"borderwidth\":0},\"sliderdefaults\":{\"bgcolor\":\"#C8D4E3\",\"borderwidth\":1,\"bordercolor\":\"rgb(17,17,17)\",\"tickwidth\":0},\"mapbox\":{\"style\":\"dark\"}}},\"xaxis\":{\"anchor\":\"y\",\"domain\":[0.0,1.0],\"scaleanchor\":\"y\",\"constrain\":\"domain\",\"title\":{\"text\":\"Target\"}},\"yaxis\":{\"anchor\":\"x\",\"domain\":[0.0,1.0],\"autorange\":\"reversed\",\"constrain\":\"domain\",\"title\":{\"text\":\"Prediction\"}},\"coloraxis\":{\"colorscale\":[[0.0,\"#0d0887\"],[0.1111111111111111,\"#46039f\"],[0.2222222222222222,\"#7201a8\"],[0.3333333333333333,\"#9c179e\"],[0.4444444444444444,\"#bd3786\"],[0.5555555555555556,\"#d8576b\"],[0.6666666666666666,\"#ed7953\"],[0.7777777777777778,\"#fb9f3a\"],[0.8888888888888888,\"#fdca26\"],[1.0,\"#f0f921\"]]},\"margin\":{\"t\":60}},                        {\"responsive\": true}                    ).then(function(){\n",
       "                            \n",
       "var gd = document.getElementById('bd144026-5dd5-47a8-a9c0-60f9a2b81720');\n",
       "var x = new MutationObserver(function (mutations, observer) {{\n",
       "        var display = window.getComputedStyle(gd).display;\n",
       "        if (!display || display === 'none') {{\n",
       "            console.log([gd, 'removed!']);\n",
       "            Plotly.purge(gd);\n",
       "            observer.disconnect();\n",
       "        }}\n",
       "}});\n",
       "\n",
       "// Listen for the removal of the full notebook cells\n",
       "var notebookContainer = gd.closest('#notebook-container');\n",
       "if (notebookContainer) {{\n",
       "    x.observe(notebookContainer, {childList: true});\n",
       "}}\n",
       "\n",
       "// Listen for the clearing of the current output cell\n",
       "var outputEl = gd.closest('.output');\n",
       "if (outputEl) {{\n",
       "    x.observe(outputEl, {childList: true});\n",
       "}}\n",
       "\n",
       "                        })                };                });            </script>        </div>"
      ]
     },
     "metadata": {},
     "output_type": "display_data"
    }
   ],
   "source": [
    "@score_for('Hist Gradient Boosting', 'test')\n",
    "@time_for('Hist Gradient Boosting', 'test')\n",
    "def test_hist_grad():\n",
    "    return f1_score(hist_grad_y_test, y_test, average='macro')\n",
    "\n",
    "print(\n",
    "    \"F1-мера для тестовых данных с помощью \"\n",
    "    \"HistGradientBoostingClassifier:\", test_hist_grad(),\n",
    ")\n",
    "draw_conf_matrix(y_test, hist_grad_y_test)"
   ]
  },
  {
   "cell_type": "markdown",
   "metadata": {},
   "source": [
    "### XG Boosting\n",
    "\n",
    "С использованием CPU\n"
   ]
  },
  {
   "cell_type": "code",
   "execution_count": 61,
   "metadata": {},
   "outputs": [],
   "source": [
    "from xgboost import XGBClassifier\n",
    "\n",
    "@time_for('XGBoosting CPU', 'predict')\n",
    "def fit_xgb_cpu():\n",
    "    return XGBClassifier(\n",
    "        random_state=random_state,\n",
    "    ).fit(X_train, y_train)\n",
    "\n",
    "xgb_cpu_model = fit_xgb_cpu()"
   ]
  },
  {
   "cell_type": "code",
   "execution_count": 62,
   "metadata": {},
   "outputs": [],
   "source": [
    "xgb_cpu_y_train = xgb_cpu_model.predict(X_train)"
   ]
  },
  {
   "cell_type": "code",
   "execution_count": 86,
   "metadata": {},
   "outputs": [
    {
     "name": "stdout",
     "output_type": "stream",
     "text": [
      "F1-мера для тренировочных данных с помощью XGBClassifier на CPU: 1.0\n"
     ]
    },
    {
     "data": {
      "application/vnd.plotly.v1+json": {
       "config": {
        "plotlyServerURL": "https://plot.ly"
       },
       "data": [
        {
         "coloraxis": "coloraxis",
         "hovertemplate": "x: %{x}<br>y: %{y}<br>color: %{z}<extra></extra>",
         "name": "0",
         "texttemplate": "%{z}",
         "type": "heatmap",
         "xaxis": "x",
         "yaxis": "y",
         "z": [
          [
           582,
           0,
           0
          ],
          [
           0,
           190,
           0
          ],
          [
           0,
           0,
           228
          ]
         ]
        }
       ],
       "layout": {
        "coloraxis": {
         "colorscale": [
          [
           0,
           "#0d0887"
          ],
          [
           0.1111111111111111,
           "#46039f"
          ],
          [
           0.2222222222222222,
           "#7201a8"
          ],
          [
           0.3333333333333333,
           "#9c179e"
          ],
          [
           0.4444444444444444,
           "#bd3786"
          ],
          [
           0.5555555555555556,
           "#d8576b"
          ],
          [
           0.6666666666666666,
           "#ed7953"
          ],
          [
           0.7777777777777778,
           "#fb9f3a"
          ],
          [
           0.8888888888888888,
           "#fdca26"
          ],
          [
           1,
           "#f0f921"
          ]
         ]
        },
        "margin": {
         "t": 60
        },
        "template": {
         "data": {
          "bar": [
           {
            "error_x": {
             "color": "#f2f5fa"
            },
            "error_y": {
             "color": "#f2f5fa"
            },
            "marker": {
             "line": {
              "color": "rgb(17,17,17)",
              "width": 0.5
             },
             "pattern": {
              "fillmode": "overlay",
              "size": 10,
              "solidity": 0.2
             }
            },
            "type": "bar"
           }
          ],
          "barpolar": [
           {
            "marker": {
             "line": {
              "color": "rgb(17,17,17)",
              "width": 0.5
             },
             "pattern": {
              "fillmode": "overlay",
              "size": 10,
              "solidity": 0.2
             }
            },
            "type": "barpolar"
           }
          ],
          "carpet": [
           {
            "aaxis": {
             "endlinecolor": "#A2B1C6",
             "gridcolor": "#506784",
             "linecolor": "#506784",
             "minorgridcolor": "#506784",
             "startlinecolor": "#A2B1C6"
            },
            "baxis": {
             "endlinecolor": "#A2B1C6",
             "gridcolor": "#506784",
             "linecolor": "#506784",
             "minorgridcolor": "#506784",
             "startlinecolor": "#A2B1C6"
            },
            "type": "carpet"
           }
          ],
          "choropleth": [
           {
            "colorbar": {
             "outlinewidth": 0,
             "ticks": ""
            },
            "type": "choropleth"
           }
          ],
          "contour": [
           {
            "colorbar": {
             "outlinewidth": 0,
             "ticks": ""
            },
            "colorscale": [
             [
              0,
              "#0d0887"
             ],
             [
              0.1111111111111111,
              "#46039f"
             ],
             [
              0.2222222222222222,
              "#7201a8"
             ],
             [
              0.3333333333333333,
              "#9c179e"
             ],
             [
              0.4444444444444444,
              "#bd3786"
             ],
             [
              0.5555555555555556,
              "#d8576b"
             ],
             [
              0.6666666666666666,
              "#ed7953"
             ],
             [
              0.7777777777777778,
              "#fb9f3a"
             ],
             [
              0.8888888888888888,
              "#fdca26"
             ],
             [
              1,
              "#f0f921"
             ]
            ],
            "type": "contour"
           }
          ],
          "contourcarpet": [
           {
            "colorbar": {
             "outlinewidth": 0,
             "ticks": ""
            },
            "type": "contourcarpet"
           }
          ],
          "heatmap": [
           {
            "colorbar": {
             "outlinewidth": 0,
             "ticks": ""
            },
            "colorscale": [
             [
              0,
              "#0d0887"
             ],
             [
              0.1111111111111111,
              "#46039f"
             ],
             [
              0.2222222222222222,
              "#7201a8"
             ],
             [
              0.3333333333333333,
              "#9c179e"
             ],
             [
              0.4444444444444444,
              "#bd3786"
             ],
             [
              0.5555555555555556,
              "#d8576b"
             ],
             [
              0.6666666666666666,
              "#ed7953"
             ],
             [
              0.7777777777777778,
              "#fb9f3a"
             ],
             [
              0.8888888888888888,
              "#fdca26"
             ],
             [
              1,
              "#f0f921"
             ]
            ],
            "type": "heatmap"
           }
          ],
          "heatmapgl": [
           {
            "colorbar": {
             "outlinewidth": 0,
             "ticks": ""
            },
            "colorscale": [
             [
              0,
              "#0d0887"
             ],
             [
              0.1111111111111111,
              "#46039f"
             ],
             [
              0.2222222222222222,
              "#7201a8"
             ],
             [
              0.3333333333333333,
              "#9c179e"
             ],
             [
              0.4444444444444444,
              "#bd3786"
             ],
             [
              0.5555555555555556,
              "#d8576b"
             ],
             [
              0.6666666666666666,
              "#ed7953"
             ],
             [
              0.7777777777777778,
              "#fb9f3a"
             ],
             [
              0.8888888888888888,
              "#fdca26"
             ],
             [
              1,
              "#f0f921"
             ]
            ],
            "type": "heatmapgl"
           }
          ],
          "histogram": [
           {
            "marker": {
             "pattern": {
              "fillmode": "overlay",
              "size": 10,
              "solidity": 0.2
             }
            },
            "type": "histogram"
           }
          ],
          "histogram2d": [
           {
            "colorbar": {
             "outlinewidth": 0,
             "ticks": ""
            },
            "colorscale": [
             [
              0,
              "#0d0887"
             ],
             [
              0.1111111111111111,
              "#46039f"
             ],
             [
              0.2222222222222222,
              "#7201a8"
             ],
             [
              0.3333333333333333,
              "#9c179e"
             ],
             [
              0.4444444444444444,
              "#bd3786"
             ],
             [
              0.5555555555555556,
              "#d8576b"
             ],
             [
              0.6666666666666666,
              "#ed7953"
             ],
             [
              0.7777777777777778,
              "#fb9f3a"
             ],
             [
              0.8888888888888888,
              "#fdca26"
             ],
             [
              1,
              "#f0f921"
             ]
            ],
            "type": "histogram2d"
           }
          ],
          "histogram2dcontour": [
           {
            "colorbar": {
             "outlinewidth": 0,
             "ticks": ""
            },
            "colorscale": [
             [
              0,
              "#0d0887"
             ],
             [
              0.1111111111111111,
              "#46039f"
             ],
             [
              0.2222222222222222,
              "#7201a8"
             ],
             [
              0.3333333333333333,
              "#9c179e"
             ],
             [
              0.4444444444444444,
              "#bd3786"
             ],
             [
              0.5555555555555556,
              "#d8576b"
             ],
             [
              0.6666666666666666,
              "#ed7953"
             ],
             [
              0.7777777777777778,
              "#fb9f3a"
             ],
             [
              0.8888888888888888,
              "#fdca26"
             ],
             [
              1,
              "#f0f921"
             ]
            ],
            "type": "histogram2dcontour"
           }
          ],
          "mesh3d": [
           {
            "colorbar": {
             "outlinewidth": 0,
             "ticks": ""
            },
            "type": "mesh3d"
           }
          ],
          "parcoords": [
           {
            "line": {
             "colorbar": {
              "outlinewidth": 0,
              "ticks": ""
             }
            },
            "type": "parcoords"
           }
          ],
          "pie": [
           {
            "automargin": true,
            "type": "pie"
           }
          ],
          "scatter": [
           {
            "marker": {
             "line": {
              "color": "#283442"
             }
            },
            "type": "scatter"
           }
          ],
          "scatter3d": [
           {
            "line": {
             "colorbar": {
              "outlinewidth": 0,
              "ticks": ""
             }
            },
            "marker": {
             "colorbar": {
              "outlinewidth": 0,
              "ticks": ""
             }
            },
            "type": "scatter3d"
           }
          ],
          "scattercarpet": [
           {
            "marker": {
             "colorbar": {
              "outlinewidth": 0,
              "ticks": ""
             }
            },
            "type": "scattercarpet"
           }
          ],
          "scattergeo": [
           {
            "marker": {
             "colorbar": {
              "outlinewidth": 0,
              "ticks": ""
             }
            },
            "type": "scattergeo"
           }
          ],
          "scattergl": [
           {
            "marker": {
             "line": {
              "color": "#283442"
             }
            },
            "type": "scattergl"
           }
          ],
          "scattermapbox": [
           {
            "marker": {
             "colorbar": {
              "outlinewidth": 0,
              "ticks": ""
             }
            },
            "type": "scattermapbox"
           }
          ],
          "scatterpolar": [
           {
            "marker": {
             "colorbar": {
              "outlinewidth": 0,
              "ticks": ""
             }
            },
            "type": "scatterpolar"
           }
          ],
          "scatterpolargl": [
           {
            "marker": {
             "colorbar": {
              "outlinewidth": 0,
              "ticks": ""
             }
            },
            "type": "scatterpolargl"
           }
          ],
          "scatterternary": [
           {
            "marker": {
             "colorbar": {
              "outlinewidth": 0,
              "ticks": ""
             }
            },
            "type": "scatterternary"
           }
          ],
          "surface": [
           {
            "colorbar": {
             "outlinewidth": 0,
             "ticks": ""
            },
            "colorscale": [
             [
              0,
              "#0d0887"
             ],
             [
              0.1111111111111111,
              "#46039f"
             ],
             [
              0.2222222222222222,
              "#7201a8"
             ],
             [
              0.3333333333333333,
              "#9c179e"
             ],
             [
              0.4444444444444444,
              "#bd3786"
             ],
             [
              0.5555555555555556,
              "#d8576b"
             ],
             [
              0.6666666666666666,
              "#ed7953"
             ],
             [
              0.7777777777777778,
              "#fb9f3a"
             ],
             [
              0.8888888888888888,
              "#fdca26"
             ],
             [
              1,
              "#f0f921"
             ]
            ],
            "type": "surface"
           }
          ],
          "table": [
           {
            "cells": {
             "fill": {
              "color": "#506784"
             },
             "line": {
              "color": "rgb(17,17,17)"
             }
            },
            "header": {
             "fill": {
              "color": "#2a3f5f"
             },
             "line": {
              "color": "rgb(17,17,17)"
             }
            },
            "type": "table"
           }
          ]
         },
         "layout": {
          "annotationdefaults": {
           "arrowcolor": "#f2f5fa",
           "arrowhead": 0,
           "arrowwidth": 1
          },
          "autotypenumbers": "strict",
          "coloraxis": {
           "colorbar": {
            "outlinewidth": 0,
            "ticks": ""
           }
          },
          "colorscale": {
           "diverging": [
            [
             0,
             "#8e0152"
            ],
            [
             0.1,
             "#c51b7d"
            ],
            [
             0.2,
             "#de77ae"
            ],
            [
             0.3,
             "#f1b6da"
            ],
            [
             0.4,
             "#fde0ef"
            ],
            [
             0.5,
             "#f7f7f7"
            ],
            [
             0.6,
             "#e6f5d0"
            ],
            [
             0.7,
             "#b8e186"
            ],
            [
             0.8,
             "#7fbc41"
            ],
            [
             0.9,
             "#4d9221"
            ],
            [
             1,
             "#276419"
            ]
           ],
           "sequential": [
            [
             0,
             "#0d0887"
            ],
            [
             0.1111111111111111,
             "#46039f"
            ],
            [
             0.2222222222222222,
             "#7201a8"
            ],
            [
             0.3333333333333333,
             "#9c179e"
            ],
            [
             0.4444444444444444,
             "#bd3786"
            ],
            [
             0.5555555555555556,
             "#d8576b"
            ],
            [
             0.6666666666666666,
             "#ed7953"
            ],
            [
             0.7777777777777778,
             "#fb9f3a"
            ],
            [
             0.8888888888888888,
             "#fdca26"
            ],
            [
             1,
             "#f0f921"
            ]
           ],
           "sequentialminus": [
            [
             0,
             "#0d0887"
            ],
            [
             0.1111111111111111,
             "#46039f"
            ],
            [
             0.2222222222222222,
             "#7201a8"
            ],
            [
             0.3333333333333333,
             "#9c179e"
            ],
            [
             0.4444444444444444,
             "#bd3786"
            ],
            [
             0.5555555555555556,
             "#d8576b"
            ],
            [
             0.6666666666666666,
             "#ed7953"
            ],
            [
             0.7777777777777778,
             "#fb9f3a"
            ],
            [
             0.8888888888888888,
             "#fdca26"
            ],
            [
             1,
             "#f0f921"
            ]
           ]
          },
          "colorway": [
           "#636efa",
           "#EF553B",
           "#00cc96",
           "#ab63fa",
           "#FFA15A",
           "#19d3f3",
           "#FF6692",
           "#B6E880",
           "#FF97FF",
           "#FECB52"
          ],
          "font": {
           "color": "#f2f5fa"
          },
          "geo": {
           "bgcolor": "rgb(17,17,17)",
           "lakecolor": "rgb(17,17,17)",
           "landcolor": "rgb(17,17,17)",
           "showlakes": true,
           "showland": true,
           "subunitcolor": "#506784"
          },
          "hoverlabel": {
           "align": "left"
          },
          "hovermode": "closest",
          "mapbox": {
           "style": "dark"
          },
          "paper_bgcolor": "rgb(17,17,17)",
          "plot_bgcolor": "rgb(17,17,17)",
          "polar": {
           "angularaxis": {
            "gridcolor": "#506784",
            "linecolor": "#506784",
            "ticks": ""
           },
           "bgcolor": "rgb(17,17,17)",
           "radialaxis": {
            "gridcolor": "#506784",
            "linecolor": "#506784",
            "ticks": ""
           }
          },
          "scene": {
           "xaxis": {
            "backgroundcolor": "rgb(17,17,17)",
            "gridcolor": "#506784",
            "gridwidth": 2,
            "linecolor": "#506784",
            "showbackground": true,
            "ticks": "",
            "zerolinecolor": "#C8D4E3"
           },
           "yaxis": {
            "backgroundcolor": "rgb(17,17,17)",
            "gridcolor": "#506784",
            "gridwidth": 2,
            "linecolor": "#506784",
            "showbackground": true,
            "ticks": "",
            "zerolinecolor": "#C8D4E3"
           },
           "zaxis": {
            "backgroundcolor": "rgb(17,17,17)",
            "gridcolor": "#506784",
            "gridwidth": 2,
            "linecolor": "#506784",
            "showbackground": true,
            "ticks": "",
            "zerolinecolor": "#C8D4E3"
           }
          },
          "shapedefaults": {
           "line": {
            "color": "#f2f5fa"
           }
          },
          "sliderdefaults": {
           "bgcolor": "#C8D4E3",
           "bordercolor": "rgb(17,17,17)",
           "borderwidth": 1,
           "tickwidth": 0
          },
          "ternary": {
           "aaxis": {
            "gridcolor": "#506784",
            "linecolor": "#506784",
            "ticks": ""
           },
           "baxis": {
            "gridcolor": "#506784",
            "linecolor": "#506784",
            "ticks": ""
           },
           "bgcolor": "rgb(17,17,17)",
           "caxis": {
            "gridcolor": "#506784",
            "linecolor": "#506784",
            "ticks": ""
           }
          },
          "title": {
           "x": 0.05
          },
          "updatemenudefaults": {
           "bgcolor": "#506784",
           "borderwidth": 0
          },
          "xaxis": {
           "automargin": true,
           "gridcolor": "#283442",
           "linecolor": "#506784",
           "ticks": "",
           "title": {
            "standoff": 15
           },
           "zerolinecolor": "#283442",
           "zerolinewidth": 2
          },
          "yaxis": {
           "automargin": true,
           "gridcolor": "#283442",
           "linecolor": "#506784",
           "ticks": "",
           "title": {
            "standoff": 15
           },
           "zerolinecolor": "#283442",
           "zerolinewidth": 2
          }
         }
        },
        "xaxis": {
         "anchor": "y",
         "constrain": "domain",
         "domain": [
          0,
          1
         ],
         "scaleanchor": "y",
         "title": {
          "text": "Target"
         }
        },
        "yaxis": {
         "anchor": "x",
         "autorange": "reversed",
         "constrain": "domain",
         "domain": [
          0,
          1
         ],
         "title": {
          "text": "Prediction"
         }
        }
       }
      },
      "text/html": [
       "<div>                            <div id=\"20383d86-5d7a-420e-a820-b8096a3a7c97\" class=\"plotly-graph-div\" style=\"height:525px; width:100%;\"></div>            <script type=\"text/javascript\">                require([\"plotly\"], function(Plotly) {                    window.PLOTLYENV=window.PLOTLYENV || {};                                    if (document.getElementById(\"20383d86-5d7a-420e-a820-b8096a3a7c97\")) {                    Plotly.newPlot(                        \"20383d86-5d7a-420e-a820-b8096a3a7c97\",                        [{\"coloraxis\":\"coloraxis\",\"name\":\"0\",\"texttemplate\":\"%{z}\",\"z\":[[582,0,0],[0,190,0],[0,0,228]],\"type\":\"heatmap\",\"xaxis\":\"x\",\"yaxis\":\"y\",\"hovertemplate\":\"x: %{x}<br>y: %{y}<br>color: %{z}<extra></extra>\"}],                        {\"template\":{\"data\":{\"histogram2dcontour\":[{\"type\":\"histogram2dcontour\",\"colorbar\":{\"outlinewidth\":0,\"ticks\":\"\"},\"colorscale\":[[0.0,\"#0d0887\"],[0.1111111111111111,\"#46039f\"],[0.2222222222222222,\"#7201a8\"],[0.3333333333333333,\"#9c179e\"],[0.4444444444444444,\"#bd3786\"],[0.5555555555555556,\"#d8576b\"],[0.6666666666666666,\"#ed7953\"],[0.7777777777777778,\"#fb9f3a\"],[0.8888888888888888,\"#fdca26\"],[1.0,\"#f0f921\"]]}],\"choropleth\":[{\"type\":\"choropleth\",\"colorbar\":{\"outlinewidth\":0,\"ticks\":\"\"}}],\"histogram2d\":[{\"type\":\"histogram2d\",\"colorbar\":{\"outlinewidth\":0,\"ticks\":\"\"},\"colorscale\":[[0.0,\"#0d0887\"],[0.1111111111111111,\"#46039f\"],[0.2222222222222222,\"#7201a8\"],[0.3333333333333333,\"#9c179e\"],[0.4444444444444444,\"#bd3786\"],[0.5555555555555556,\"#d8576b\"],[0.6666666666666666,\"#ed7953\"],[0.7777777777777778,\"#fb9f3a\"],[0.8888888888888888,\"#fdca26\"],[1.0,\"#f0f921\"]]}],\"heatmap\":[{\"type\":\"heatmap\",\"colorbar\":{\"outlinewidth\":0,\"ticks\":\"\"},\"colorscale\":[[0.0,\"#0d0887\"],[0.1111111111111111,\"#46039f\"],[0.2222222222222222,\"#7201a8\"],[0.3333333333333333,\"#9c179e\"],[0.4444444444444444,\"#bd3786\"],[0.5555555555555556,\"#d8576b\"],[0.6666666666666666,\"#ed7953\"],[0.7777777777777778,\"#fb9f3a\"],[0.8888888888888888,\"#fdca26\"],[1.0,\"#f0f921\"]]}],\"heatmapgl\":[{\"type\":\"heatmapgl\",\"colorbar\":{\"outlinewidth\":0,\"ticks\":\"\"},\"colorscale\":[[0.0,\"#0d0887\"],[0.1111111111111111,\"#46039f\"],[0.2222222222222222,\"#7201a8\"],[0.3333333333333333,\"#9c179e\"],[0.4444444444444444,\"#bd3786\"],[0.5555555555555556,\"#d8576b\"],[0.6666666666666666,\"#ed7953\"],[0.7777777777777778,\"#fb9f3a\"],[0.8888888888888888,\"#fdca26\"],[1.0,\"#f0f921\"]]}],\"contourcarpet\":[{\"type\":\"contourcarpet\",\"colorbar\":{\"outlinewidth\":0,\"ticks\":\"\"}}],\"contour\":[{\"type\":\"contour\",\"colorbar\":{\"outlinewidth\":0,\"ticks\":\"\"},\"colorscale\":[[0.0,\"#0d0887\"],[0.1111111111111111,\"#46039f\"],[0.2222222222222222,\"#7201a8\"],[0.3333333333333333,\"#9c179e\"],[0.4444444444444444,\"#bd3786\"],[0.5555555555555556,\"#d8576b\"],[0.6666666666666666,\"#ed7953\"],[0.7777777777777778,\"#fb9f3a\"],[0.8888888888888888,\"#fdca26\"],[1.0,\"#f0f921\"]]}],\"surface\":[{\"type\":\"surface\",\"colorbar\":{\"outlinewidth\":0,\"ticks\":\"\"},\"colorscale\":[[0.0,\"#0d0887\"],[0.1111111111111111,\"#46039f\"],[0.2222222222222222,\"#7201a8\"],[0.3333333333333333,\"#9c179e\"],[0.4444444444444444,\"#bd3786\"],[0.5555555555555556,\"#d8576b\"],[0.6666666666666666,\"#ed7953\"],[0.7777777777777778,\"#fb9f3a\"],[0.8888888888888888,\"#fdca26\"],[1.0,\"#f0f921\"]]}],\"mesh3d\":[{\"type\":\"mesh3d\",\"colorbar\":{\"outlinewidth\":0,\"ticks\":\"\"}}],\"scatter\":[{\"marker\":{\"line\":{\"color\":\"#283442\"}},\"type\":\"scatter\"}],\"parcoords\":[{\"type\":\"parcoords\",\"line\":{\"colorbar\":{\"outlinewidth\":0,\"ticks\":\"\"}}}],\"scatterpolargl\":[{\"type\":\"scatterpolargl\",\"marker\":{\"colorbar\":{\"outlinewidth\":0,\"ticks\":\"\"}}}],\"bar\":[{\"error_x\":{\"color\":\"#f2f5fa\"},\"error_y\":{\"color\":\"#f2f5fa\"},\"marker\":{\"line\":{\"color\":\"rgb(17,17,17)\",\"width\":0.5},\"pattern\":{\"fillmode\":\"overlay\",\"size\":10,\"solidity\":0.2}},\"type\":\"bar\"}],\"scattergeo\":[{\"type\":\"scattergeo\",\"marker\":{\"colorbar\":{\"outlinewidth\":0,\"ticks\":\"\"}}}],\"scatterpolar\":[{\"type\":\"scatterpolar\",\"marker\":{\"colorbar\":{\"outlinewidth\":0,\"ticks\":\"\"}}}],\"histogram\":[{\"marker\":{\"pattern\":{\"fillmode\":\"overlay\",\"size\":10,\"solidity\":0.2}},\"type\":\"histogram\"}],\"scattergl\":[{\"marker\":{\"line\":{\"color\":\"#283442\"}},\"type\":\"scattergl\"}],\"scatter3d\":[{\"type\":\"scatter3d\",\"line\":{\"colorbar\":{\"outlinewidth\":0,\"ticks\":\"\"}},\"marker\":{\"colorbar\":{\"outlinewidth\":0,\"ticks\":\"\"}}}],\"scattermapbox\":[{\"type\":\"scattermapbox\",\"marker\":{\"colorbar\":{\"outlinewidth\":0,\"ticks\":\"\"}}}],\"scatterternary\":[{\"type\":\"scatterternary\",\"marker\":{\"colorbar\":{\"outlinewidth\":0,\"ticks\":\"\"}}}],\"scattercarpet\":[{\"type\":\"scattercarpet\",\"marker\":{\"colorbar\":{\"outlinewidth\":0,\"ticks\":\"\"}}}],\"carpet\":[{\"aaxis\":{\"endlinecolor\":\"#A2B1C6\",\"gridcolor\":\"#506784\",\"linecolor\":\"#506784\",\"minorgridcolor\":\"#506784\",\"startlinecolor\":\"#A2B1C6\"},\"baxis\":{\"endlinecolor\":\"#A2B1C6\",\"gridcolor\":\"#506784\",\"linecolor\":\"#506784\",\"minorgridcolor\":\"#506784\",\"startlinecolor\":\"#A2B1C6\"},\"type\":\"carpet\"}],\"table\":[{\"cells\":{\"fill\":{\"color\":\"#506784\"},\"line\":{\"color\":\"rgb(17,17,17)\"}},\"header\":{\"fill\":{\"color\":\"#2a3f5f\"},\"line\":{\"color\":\"rgb(17,17,17)\"}},\"type\":\"table\"}],\"barpolar\":[{\"marker\":{\"line\":{\"color\":\"rgb(17,17,17)\",\"width\":0.5},\"pattern\":{\"fillmode\":\"overlay\",\"size\":10,\"solidity\":0.2}},\"type\":\"barpolar\"}],\"pie\":[{\"automargin\":true,\"type\":\"pie\"}]},\"layout\":{\"autotypenumbers\":\"strict\",\"colorway\":[\"#636efa\",\"#EF553B\",\"#00cc96\",\"#ab63fa\",\"#FFA15A\",\"#19d3f3\",\"#FF6692\",\"#B6E880\",\"#FF97FF\",\"#FECB52\"],\"font\":{\"color\":\"#f2f5fa\"},\"hovermode\":\"closest\",\"hoverlabel\":{\"align\":\"left\"},\"paper_bgcolor\":\"rgb(17,17,17)\",\"plot_bgcolor\":\"rgb(17,17,17)\",\"polar\":{\"bgcolor\":\"rgb(17,17,17)\",\"angularaxis\":{\"gridcolor\":\"#506784\",\"linecolor\":\"#506784\",\"ticks\":\"\"},\"radialaxis\":{\"gridcolor\":\"#506784\",\"linecolor\":\"#506784\",\"ticks\":\"\"}},\"ternary\":{\"bgcolor\":\"rgb(17,17,17)\",\"aaxis\":{\"gridcolor\":\"#506784\",\"linecolor\":\"#506784\",\"ticks\":\"\"},\"baxis\":{\"gridcolor\":\"#506784\",\"linecolor\":\"#506784\",\"ticks\":\"\"},\"caxis\":{\"gridcolor\":\"#506784\",\"linecolor\":\"#506784\",\"ticks\":\"\"}},\"coloraxis\":{\"colorbar\":{\"outlinewidth\":0,\"ticks\":\"\"}},\"colorscale\":{\"sequential\":[[0.0,\"#0d0887\"],[0.1111111111111111,\"#46039f\"],[0.2222222222222222,\"#7201a8\"],[0.3333333333333333,\"#9c179e\"],[0.4444444444444444,\"#bd3786\"],[0.5555555555555556,\"#d8576b\"],[0.6666666666666666,\"#ed7953\"],[0.7777777777777778,\"#fb9f3a\"],[0.8888888888888888,\"#fdca26\"],[1.0,\"#f0f921\"]],\"sequentialminus\":[[0.0,\"#0d0887\"],[0.1111111111111111,\"#46039f\"],[0.2222222222222222,\"#7201a8\"],[0.3333333333333333,\"#9c179e\"],[0.4444444444444444,\"#bd3786\"],[0.5555555555555556,\"#d8576b\"],[0.6666666666666666,\"#ed7953\"],[0.7777777777777778,\"#fb9f3a\"],[0.8888888888888888,\"#fdca26\"],[1.0,\"#f0f921\"]],\"diverging\":[[0,\"#8e0152\"],[0.1,\"#c51b7d\"],[0.2,\"#de77ae\"],[0.3,\"#f1b6da\"],[0.4,\"#fde0ef\"],[0.5,\"#f7f7f7\"],[0.6,\"#e6f5d0\"],[0.7,\"#b8e186\"],[0.8,\"#7fbc41\"],[0.9,\"#4d9221\"],[1,\"#276419\"]]},\"xaxis\":{\"gridcolor\":\"#283442\",\"linecolor\":\"#506784\",\"ticks\":\"\",\"title\":{\"standoff\":15},\"zerolinecolor\":\"#283442\",\"automargin\":true,\"zerolinewidth\":2},\"yaxis\":{\"gridcolor\":\"#283442\",\"linecolor\":\"#506784\",\"ticks\":\"\",\"title\":{\"standoff\":15},\"zerolinecolor\":\"#283442\",\"automargin\":true,\"zerolinewidth\":2},\"scene\":{\"xaxis\":{\"backgroundcolor\":\"rgb(17,17,17)\",\"gridcolor\":\"#506784\",\"linecolor\":\"#506784\",\"showbackground\":true,\"ticks\":\"\",\"zerolinecolor\":\"#C8D4E3\",\"gridwidth\":2},\"yaxis\":{\"backgroundcolor\":\"rgb(17,17,17)\",\"gridcolor\":\"#506784\",\"linecolor\":\"#506784\",\"showbackground\":true,\"ticks\":\"\",\"zerolinecolor\":\"#C8D4E3\",\"gridwidth\":2},\"zaxis\":{\"backgroundcolor\":\"rgb(17,17,17)\",\"gridcolor\":\"#506784\",\"linecolor\":\"#506784\",\"showbackground\":true,\"ticks\":\"\",\"zerolinecolor\":\"#C8D4E3\",\"gridwidth\":2}},\"shapedefaults\":{\"line\":{\"color\":\"#f2f5fa\"}},\"annotationdefaults\":{\"arrowcolor\":\"#f2f5fa\",\"arrowhead\":0,\"arrowwidth\":1},\"geo\":{\"bgcolor\":\"rgb(17,17,17)\",\"landcolor\":\"rgb(17,17,17)\",\"subunitcolor\":\"#506784\",\"showland\":true,\"showlakes\":true,\"lakecolor\":\"rgb(17,17,17)\"},\"title\":{\"x\":0.05},\"updatemenudefaults\":{\"bgcolor\":\"#506784\",\"borderwidth\":0},\"sliderdefaults\":{\"bgcolor\":\"#C8D4E3\",\"borderwidth\":1,\"bordercolor\":\"rgb(17,17,17)\",\"tickwidth\":0},\"mapbox\":{\"style\":\"dark\"}}},\"xaxis\":{\"anchor\":\"y\",\"domain\":[0.0,1.0],\"scaleanchor\":\"y\",\"constrain\":\"domain\",\"title\":{\"text\":\"Target\"}},\"yaxis\":{\"anchor\":\"x\",\"domain\":[0.0,1.0],\"autorange\":\"reversed\",\"constrain\":\"domain\",\"title\":{\"text\":\"Prediction\"}},\"coloraxis\":{\"colorscale\":[[0.0,\"#0d0887\"],[0.1111111111111111,\"#46039f\"],[0.2222222222222222,\"#7201a8\"],[0.3333333333333333,\"#9c179e\"],[0.4444444444444444,\"#bd3786\"],[0.5555555555555556,\"#d8576b\"],[0.6666666666666666,\"#ed7953\"],[0.7777777777777778,\"#fb9f3a\"],[0.8888888888888888,\"#fdca26\"],[1.0,\"#f0f921\"]]},\"margin\":{\"t\":60}},                        {\"responsive\": true}                    ).then(function(){\n",
       "                            \n",
       "var gd = document.getElementById('20383d86-5d7a-420e-a820-b8096a3a7c97');\n",
       "var x = new MutationObserver(function (mutations, observer) {{\n",
       "        var display = window.getComputedStyle(gd).display;\n",
       "        if (!display || display === 'none') {{\n",
       "            console.log([gd, 'removed!']);\n",
       "            Plotly.purge(gd);\n",
       "            observer.disconnect();\n",
       "        }}\n",
       "}});\n",
       "\n",
       "// Listen for the removal of the full notebook cells\n",
       "var notebookContainer = gd.closest('#notebook-container');\n",
       "if (notebookContainer) {{\n",
       "    x.observe(notebookContainer, {childList: true});\n",
       "}}\n",
       "\n",
       "// Listen for the clearing of the current output cell\n",
       "var outputEl = gd.closest('.output');\n",
       "if (outputEl) {{\n",
       "    x.observe(outputEl, {childList: true});\n",
       "}}\n",
       "\n",
       "                        })                };                });            </script>        </div>"
      ]
     },
     "metadata": {},
     "output_type": "display_data"
    }
   ],
   "source": [
    "@score_for('XGBoosting CPU', 'train')\n",
    "@time_for('XGBoosting CPU', 'train')\n",
    "def train_xgb_cpu():\n",
    "    return f1_score(xgb_cpu_y_train, y_train, average='macro')\n",
    "\n",
    "print(\n",
    "    \"F1-мера для тренировочных данных с помощью \"\n",
    "    \"XGBClassifier на CPU:\", train_xgb_cpu(),\n",
    ")\n",
    "draw_conf_matrix(y_train, xgb_cpu_y_train)"
   ]
  },
  {
   "cell_type": "code",
   "execution_count": 64,
   "metadata": {},
   "outputs": [],
   "source": [
    "xgb_cpu_y_test = xgb_cpu_model.predict(X_test)"
   ]
  },
  {
   "cell_type": "code",
   "execution_count": 87,
   "metadata": {},
   "outputs": [
    {
     "name": "stdout",
     "output_type": "stream",
     "text": [
      "F1-мера для тренировочных данных с помощью XGBClassifier на CPU: 0.9594437472100448\n"
     ]
    },
    {
     "data": {
      "application/vnd.plotly.v1+json": {
       "config": {
        "plotlyServerURL": "https://plot.ly"
       },
       "data": [
        {
         "coloraxis": "coloraxis",
         "hovertemplate": "x: %{x}<br>y: %{y}<br>color: %{z}<extra></extra>",
         "name": "0",
         "texttemplate": "%{z}",
         "type": "heatmap",
         "xaxis": "x",
         "yaxis": "y",
         "z": [
          [
           57291,
           1110,
           462
          ],
          [
           1865,
           16903,
           3
          ],
          [
           26,
           0,
           21340
          ]
         ]
        }
       ],
       "layout": {
        "coloraxis": {
         "colorscale": [
          [
           0,
           "#0d0887"
          ],
          [
           0.1111111111111111,
           "#46039f"
          ],
          [
           0.2222222222222222,
           "#7201a8"
          ],
          [
           0.3333333333333333,
           "#9c179e"
          ],
          [
           0.4444444444444444,
           "#bd3786"
          ],
          [
           0.5555555555555556,
           "#d8576b"
          ],
          [
           0.6666666666666666,
           "#ed7953"
          ],
          [
           0.7777777777777778,
           "#fb9f3a"
          ],
          [
           0.8888888888888888,
           "#fdca26"
          ],
          [
           1,
           "#f0f921"
          ]
         ]
        },
        "margin": {
         "t": 60
        },
        "template": {
         "data": {
          "bar": [
           {
            "error_x": {
             "color": "#f2f5fa"
            },
            "error_y": {
             "color": "#f2f5fa"
            },
            "marker": {
             "line": {
              "color": "rgb(17,17,17)",
              "width": 0.5
             },
             "pattern": {
              "fillmode": "overlay",
              "size": 10,
              "solidity": 0.2
             }
            },
            "type": "bar"
           }
          ],
          "barpolar": [
           {
            "marker": {
             "line": {
              "color": "rgb(17,17,17)",
              "width": 0.5
             },
             "pattern": {
              "fillmode": "overlay",
              "size": 10,
              "solidity": 0.2
             }
            },
            "type": "barpolar"
           }
          ],
          "carpet": [
           {
            "aaxis": {
             "endlinecolor": "#A2B1C6",
             "gridcolor": "#506784",
             "linecolor": "#506784",
             "minorgridcolor": "#506784",
             "startlinecolor": "#A2B1C6"
            },
            "baxis": {
             "endlinecolor": "#A2B1C6",
             "gridcolor": "#506784",
             "linecolor": "#506784",
             "minorgridcolor": "#506784",
             "startlinecolor": "#A2B1C6"
            },
            "type": "carpet"
           }
          ],
          "choropleth": [
           {
            "colorbar": {
             "outlinewidth": 0,
             "ticks": ""
            },
            "type": "choropleth"
           }
          ],
          "contour": [
           {
            "colorbar": {
             "outlinewidth": 0,
             "ticks": ""
            },
            "colorscale": [
             [
              0,
              "#0d0887"
             ],
             [
              0.1111111111111111,
              "#46039f"
             ],
             [
              0.2222222222222222,
              "#7201a8"
             ],
             [
              0.3333333333333333,
              "#9c179e"
             ],
             [
              0.4444444444444444,
              "#bd3786"
             ],
             [
              0.5555555555555556,
              "#d8576b"
             ],
             [
              0.6666666666666666,
              "#ed7953"
             ],
             [
              0.7777777777777778,
              "#fb9f3a"
             ],
             [
              0.8888888888888888,
              "#fdca26"
             ],
             [
              1,
              "#f0f921"
             ]
            ],
            "type": "contour"
           }
          ],
          "contourcarpet": [
           {
            "colorbar": {
             "outlinewidth": 0,
             "ticks": ""
            },
            "type": "contourcarpet"
           }
          ],
          "heatmap": [
           {
            "colorbar": {
             "outlinewidth": 0,
             "ticks": ""
            },
            "colorscale": [
             [
              0,
              "#0d0887"
             ],
             [
              0.1111111111111111,
              "#46039f"
             ],
             [
              0.2222222222222222,
              "#7201a8"
             ],
             [
              0.3333333333333333,
              "#9c179e"
             ],
             [
              0.4444444444444444,
              "#bd3786"
             ],
             [
              0.5555555555555556,
              "#d8576b"
             ],
             [
              0.6666666666666666,
              "#ed7953"
             ],
             [
              0.7777777777777778,
              "#fb9f3a"
             ],
             [
              0.8888888888888888,
              "#fdca26"
             ],
             [
              1,
              "#f0f921"
             ]
            ],
            "type": "heatmap"
           }
          ],
          "heatmapgl": [
           {
            "colorbar": {
             "outlinewidth": 0,
             "ticks": ""
            },
            "colorscale": [
             [
              0,
              "#0d0887"
             ],
             [
              0.1111111111111111,
              "#46039f"
             ],
             [
              0.2222222222222222,
              "#7201a8"
             ],
             [
              0.3333333333333333,
              "#9c179e"
             ],
             [
              0.4444444444444444,
              "#bd3786"
             ],
             [
              0.5555555555555556,
              "#d8576b"
             ],
             [
              0.6666666666666666,
              "#ed7953"
             ],
             [
              0.7777777777777778,
              "#fb9f3a"
             ],
             [
              0.8888888888888888,
              "#fdca26"
             ],
             [
              1,
              "#f0f921"
             ]
            ],
            "type": "heatmapgl"
           }
          ],
          "histogram": [
           {
            "marker": {
             "pattern": {
              "fillmode": "overlay",
              "size": 10,
              "solidity": 0.2
             }
            },
            "type": "histogram"
           }
          ],
          "histogram2d": [
           {
            "colorbar": {
             "outlinewidth": 0,
             "ticks": ""
            },
            "colorscale": [
             [
              0,
              "#0d0887"
             ],
             [
              0.1111111111111111,
              "#46039f"
             ],
             [
              0.2222222222222222,
              "#7201a8"
             ],
             [
              0.3333333333333333,
              "#9c179e"
             ],
             [
              0.4444444444444444,
              "#bd3786"
             ],
             [
              0.5555555555555556,
              "#d8576b"
             ],
             [
              0.6666666666666666,
              "#ed7953"
             ],
             [
              0.7777777777777778,
              "#fb9f3a"
             ],
             [
              0.8888888888888888,
              "#fdca26"
             ],
             [
              1,
              "#f0f921"
             ]
            ],
            "type": "histogram2d"
           }
          ],
          "histogram2dcontour": [
           {
            "colorbar": {
             "outlinewidth": 0,
             "ticks": ""
            },
            "colorscale": [
             [
              0,
              "#0d0887"
             ],
             [
              0.1111111111111111,
              "#46039f"
             ],
             [
              0.2222222222222222,
              "#7201a8"
             ],
             [
              0.3333333333333333,
              "#9c179e"
             ],
             [
              0.4444444444444444,
              "#bd3786"
             ],
             [
              0.5555555555555556,
              "#d8576b"
             ],
             [
              0.6666666666666666,
              "#ed7953"
             ],
             [
              0.7777777777777778,
              "#fb9f3a"
             ],
             [
              0.8888888888888888,
              "#fdca26"
             ],
             [
              1,
              "#f0f921"
             ]
            ],
            "type": "histogram2dcontour"
           }
          ],
          "mesh3d": [
           {
            "colorbar": {
             "outlinewidth": 0,
             "ticks": ""
            },
            "type": "mesh3d"
           }
          ],
          "parcoords": [
           {
            "line": {
             "colorbar": {
              "outlinewidth": 0,
              "ticks": ""
             }
            },
            "type": "parcoords"
           }
          ],
          "pie": [
           {
            "automargin": true,
            "type": "pie"
           }
          ],
          "scatter": [
           {
            "marker": {
             "line": {
              "color": "#283442"
             }
            },
            "type": "scatter"
           }
          ],
          "scatter3d": [
           {
            "line": {
             "colorbar": {
              "outlinewidth": 0,
              "ticks": ""
             }
            },
            "marker": {
             "colorbar": {
              "outlinewidth": 0,
              "ticks": ""
             }
            },
            "type": "scatter3d"
           }
          ],
          "scattercarpet": [
           {
            "marker": {
             "colorbar": {
              "outlinewidth": 0,
              "ticks": ""
             }
            },
            "type": "scattercarpet"
           }
          ],
          "scattergeo": [
           {
            "marker": {
             "colorbar": {
              "outlinewidth": 0,
              "ticks": ""
             }
            },
            "type": "scattergeo"
           }
          ],
          "scattergl": [
           {
            "marker": {
             "line": {
              "color": "#283442"
             }
            },
            "type": "scattergl"
           }
          ],
          "scattermapbox": [
           {
            "marker": {
             "colorbar": {
              "outlinewidth": 0,
              "ticks": ""
             }
            },
            "type": "scattermapbox"
           }
          ],
          "scatterpolar": [
           {
            "marker": {
             "colorbar": {
              "outlinewidth": 0,
              "ticks": ""
             }
            },
            "type": "scatterpolar"
           }
          ],
          "scatterpolargl": [
           {
            "marker": {
             "colorbar": {
              "outlinewidth": 0,
              "ticks": ""
             }
            },
            "type": "scatterpolargl"
           }
          ],
          "scatterternary": [
           {
            "marker": {
             "colorbar": {
              "outlinewidth": 0,
              "ticks": ""
             }
            },
            "type": "scatterternary"
           }
          ],
          "surface": [
           {
            "colorbar": {
             "outlinewidth": 0,
             "ticks": ""
            },
            "colorscale": [
             [
              0,
              "#0d0887"
             ],
             [
              0.1111111111111111,
              "#46039f"
             ],
             [
              0.2222222222222222,
              "#7201a8"
             ],
             [
              0.3333333333333333,
              "#9c179e"
             ],
             [
              0.4444444444444444,
              "#bd3786"
             ],
             [
              0.5555555555555556,
              "#d8576b"
             ],
             [
              0.6666666666666666,
              "#ed7953"
             ],
             [
              0.7777777777777778,
              "#fb9f3a"
             ],
             [
              0.8888888888888888,
              "#fdca26"
             ],
             [
              1,
              "#f0f921"
             ]
            ],
            "type": "surface"
           }
          ],
          "table": [
           {
            "cells": {
             "fill": {
              "color": "#506784"
             },
             "line": {
              "color": "rgb(17,17,17)"
             }
            },
            "header": {
             "fill": {
              "color": "#2a3f5f"
             },
             "line": {
              "color": "rgb(17,17,17)"
             }
            },
            "type": "table"
           }
          ]
         },
         "layout": {
          "annotationdefaults": {
           "arrowcolor": "#f2f5fa",
           "arrowhead": 0,
           "arrowwidth": 1
          },
          "autotypenumbers": "strict",
          "coloraxis": {
           "colorbar": {
            "outlinewidth": 0,
            "ticks": ""
           }
          },
          "colorscale": {
           "diverging": [
            [
             0,
             "#8e0152"
            ],
            [
             0.1,
             "#c51b7d"
            ],
            [
             0.2,
             "#de77ae"
            ],
            [
             0.3,
             "#f1b6da"
            ],
            [
             0.4,
             "#fde0ef"
            ],
            [
             0.5,
             "#f7f7f7"
            ],
            [
             0.6,
             "#e6f5d0"
            ],
            [
             0.7,
             "#b8e186"
            ],
            [
             0.8,
             "#7fbc41"
            ],
            [
             0.9,
             "#4d9221"
            ],
            [
             1,
             "#276419"
            ]
           ],
           "sequential": [
            [
             0,
             "#0d0887"
            ],
            [
             0.1111111111111111,
             "#46039f"
            ],
            [
             0.2222222222222222,
             "#7201a8"
            ],
            [
             0.3333333333333333,
             "#9c179e"
            ],
            [
             0.4444444444444444,
             "#bd3786"
            ],
            [
             0.5555555555555556,
             "#d8576b"
            ],
            [
             0.6666666666666666,
             "#ed7953"
            ],
            [
             0.7777777777777778,
             "#fb9f3a"
            ],
            [
             0.8888888888888888,
             "#fdca26"
            ],
            [
             1,
             "#f0f921"
            ]
           ],
           "sequentialminus": [
            [
             0,
             "#0d0887"
            ],
            [
             0.1111111111111111,
             "#46039f"
            ],
            [
             0.2222222222222222,
             "#7201a8"
            ],
            [
             0.3333333333333333,
             "#9c179e"
            ],
            [
             0.4444444444444444,
             "#bd3786"
            ],
            [
             0.5555555555555556,
             "#d8576b"
            ],
            [
             0.6666666666666666,
             "#ed7953"
            ],
            [
             0.7777777777777778,
             "#fb9f3a"
            ],
            [
             0.8888888888888888,
             "#fdca26"
            ],
            [
             1,
             "#f0f921"
            ]
           ]
          },
          "colorway": [
           "#636efa",
           "#EF553B",
           "#00cc96",
           "#ab63fa",
           "#FFA15A",
           "#19d3f3",
           "#FF6692",
           "#B6E880",
           "#FF97FF",
           "#FECB52"
          ],
          "font": {
           "color": "#f2f5fa"
          },
          "geo": {
           "bgcolor": "rgb(17,17,17)",
           "lakecolor": "rgb(17,17,17)",
           "landcolor": "rgb(17,17,17)",
           "showlakes": true,
           "showland": true,
           "subunitcolor": "#506784"
          },
          "hoverlabel": {
           "align": "left"
          },
          "hovermode": "closest",
          "mapbox": {
           "style": "dark"
          },
          "paper_bgcolor": "rgb(17,17,17)",
          "plot_bgcolor": "rgb(17,17,17)",
          "polar": {
           "angularaxis": {
            "gridcolor": "#506784",
            "linecolor": "#506784",
            "ticks": ""
           },
           "bgcolor": "rgb(17,17,17)",
           "radialaxis": {
            "gridcolor": "#506784",
            "linecolor": "#506784",
            "ticks": ""
           }
          },
          "scene": {
           "xaxis": {
            "backgroundcolor": "rgb(17,17,17)",
            "gridcolor": "#506784",
            "gridwidth": 2,
            "linecolor": "#506784",
            "showbackground": true,
            "ticks": "",
            "zerolinecolor": "#C8D4E3"
           },
           "yaxis": {
            "backgroundcolor": "rgb(17,17,17)",
            "gridcolor": "#506784",
            "gridwidth": 2,
            "linecolor": "#506784",
            "showbackground": true,
            "ticks": "",
            "zerolinecolor": "#C8D4E3"
           },
           "zaxis": {
            "backgroundcolor": "rgb(17,17,17)",
            "gridcolor": "#506784",
            "gridwidth": 2,
            "linecolor": "#506784",
            "showbackground": true,
            "ticks": "",
            "zerolinecolor": "#C8D4E3"
           }
          },
          "shapedefaults": {
           "line": {
            "color": "#f2f5fa"
           }
          },
          "sliderdefaults": {
           "bgcolor": "#C8D4E3",
           "bordercolor": "rgb(17,17,17)",
           "borderwidth": 1,
           "tickwidth": 0
          },
          "ternary": {
           "aaxis": {
            "gridcolor": "#506784",
            "linecolor": "#506784",
            "ticks": ""
           },
           "baxis": {
            "gridcolor": "#506784",
            "linecolor": "#506784",
            "ticks": ""
           },
           "bgcolor": "rgb(17,17,17)",
           "caxis": {
            "gridcolor": "#506784",
            "linecolor": "#506784",
            "ticks": ""
           }
          },
          "title": {
           "x": 0.05
          },
          "updatemenudefaults": {
           "bgcolor": "#506784",
           "borderwidth": 0
          },
          "xaxis": {
           "automargin": true,
           "gridcolor": "#283442",
           "linecolor": "#506784",
           "ticks": "",
           "title": {
            "standoff": 15
           },
           "zerolinecolor": "#283442",
           "zerolinewidth": 2
          },
          "yaxis": {
           "automargin": true,
           "gridcolor": "#283442",
           "linecolor": "#506784",
           "ticks": "",
           "title": {
            "standoff": 15
           },
           "zerolinecolor": "#283442",
           "zerolinewidth": 2
          }
         }
        },
        "xaxis": {
         "anchor": "y",
         "constrain": "domain",
         "domain": [
          0,
          1
         ],
         "scaleanchor": "y",
         "title": {
          "text": "Target"
         }
        },
        "yaxis": {
         "anchor": "x",
         "autorange": "reversed",
         "constrain": "domain",
         "domain": [
          0,
          1
         ],
         "title": {
          "text": "Prediction"
         }
        }
       }
      },
      "text/html": [
       "<div>                            <div id=\"6873bea2-2ade-45ca-8beb-a0cfe4544f75\" class=\"plotly-graph-div\" style=\"height:525px; width:100%;\"></div>            <script type=\"text/javascript\">                require([\"plotly\"], function(Plotly) {                    window.PLOTLYENV=window.PLOTLYENV || {};                                    if (document.getElementById(\"6873bea2-2ade-45ca-8beb-a0cfe4544f75\")) {                    Plotly.newPlot(                        \"6873bea2-2ade-45ca-8beb-a0cfe4544f75\",                        [{\"coloraxis\":\"coloraxis\",\"name\":\"0\",\"texttemplate\":\"%{z}\",\"z\":[[57291,1110,462],[1865,16903,3],[26,0,21340]],\"type\":\"heatmap\",\"xaxis\":\"x\",\"yaxis\":\"y\",\"hovertemplate\":\"x: %{x}<br>y: %{y}<br>color: %{z}<extra></extra>\"}],                        {\"template\":{\"data\":{\"histogram2dcontour\":[{\"type\":\"histogram2dcontour\",\"colorbar\":{\"outlinewidth\":0,\"ticks\":\"\"},\"colorscale\":[[0.0,\"#0d0887\"],[0.1111111111111111,\"#46039f\"],[0.2222222222222222,\"#7201a8\"],[0.3333333333333333,\"#9c179e\"],[0.4444444444444444,\"#bd3786\"],[0.5555555555555556,\"#d8576b\"],[0.6666666666666666,\"#ed7953\"],[0.7777777777777778,\"#fb9f3a\"],[0.8888888888888888,\"#fdca26\"],[1.0,\"#f0f921\"]]}],\"choropleth\":[{\"type\":\"choropleth\",\"colorbar\":{\"outlinewidth\":0,\"ticks\":\"\"}}],\"histogram2d\":[{\"type\":\"histogram2d\",\"colorbar\":{\"outlinewidth\":0,\"ticks\":\"\"},\"colorscale\":[[0.0,\"#0d0887\"],[0.1111111111111111,\"#46039f\"],[0.2222222222222222,\"#7201a8\"],[0.3333333333333333,\"#9c179e\"],[0.4444444444444444,\"#bd3786\"],[0.5555555555555556,\"#d8576b\"],[0.6666666666666666,\"#ed7953\"],[0.7777777777777778,\"#fb9f3a\"],[0.8888888888888888,\"#fdca26\"],[1.0,\"#f0f921\"]]}],\"heatmap\":[{\"type\":\"heatmap\",\"colorbar\":{\"outlinewidth\":0,\"ticks\":\"\"},\"colorscale\":[[0.0,\"#0d0887\"],[0.1111111111111111,\"#46039f\"],[0.2222222222222222,\"#7201a8\"],[0.3333333333333333,\"#9c179e\"],[0.4444444444444444,\"#bd3786\"],[0.5555555555555556,\"#d8576b\"],[0.6666666666666666,\"#ed7953\"],[0.7777777777777778,\"#fb9f3a\"],[0.8888888888888888,\"#fdca26\"],[1.0,\"#f0f921\"]]}],\"heatmapgl\":[{\"type\":\"heatmapgl\",\"colorbar\":{\"outlinewidth\":0,\"ticks\":\"\"},\"colorscale\":[[0.0,\"#0d0887\"],[0.1111111111111111,\"#46039f\"],[0.2222222222222222,\"#7201a8\"],[0.3333333333333333,\"#9c179e\"],[0.4444444444444444,\"#bd3786\"],[0.5555555555555556,\"#d8576b\"],[0.6666666666666666,\"#ed7953\"],[0.7777777777777778,\"#fb9f3a\"],[0.8888888888888888,\"#fdca26\"],[1.0,\"#f0f921\"]]}],\"contourcarpet\":[{\"type\":\"contourcarpet\",\"colorbar\":{\"outlinewidth\":0,\"ticks\":\"\"}}],\"contour\":[{\"type\":\"contour\",\"colorbar\":{\"outlinewidth\":0,\"ticks\":\"\"},\"colorscale\":[[0.0,\"#0d0887\"],[0.1111111111111111,\"#46039f\"],[0.2222222222222222,\"#7201a8\"],[0.3333333333333333,\"#9c179e\"],[0.4444444444444444,\"#bd3786\"],[0.5555555555555556,\"#d8576b\"],[0.6666666666666666,\"#ed7953\"],[0.7777777777777778,\"#fb9f3a\"],[0.8888888888888888,\"#fdca26\"],[1.0,\"#f0f921\"]]}],\"surface\":[{\"type\":\"surface\",\"colorbar\":{\"outlinewidth\":0,\"ticks\":\"\"},\"colorscale\":[[0.0,\"#0d0887\"],[0.1111111111111111,\"#46039f\"],[0.2222222222222222,\"#7201a8\"],[0.3333333333333333,\"#9c179e\"],[0.4444444444444444,\"#bd3786\"],[0.5555555555555556,\"#d8576b\"],[0.6666666666666666,\"#ed7953\"],[0.7777777777777778,\"#fb9f3a\"],[0.8888888888888888,\"#fdca26\"],[1.0,\"#f0f921\"]]}],\"mesh3d\":[{\"type\":\"mesh3d\",\"colorbar\":{\"outlinewidth\":0,\"ticks\":\"\"}}],\"scatter\":[{\"marker\":{\"line\":{\"color\":\"#283442\"}},\"type\":\"scatter\"}],\"parcoords\":[{\"type\":\"parcoords\",\"line\":{\"colorbar\":{\"outlinewidth\":0,\"ticks\":\"\"}}}],\"scatterpolargl\":[{\"type\":\"scatterpolargl\",\"marker\":{\"colorbar\":{\"outlinewidth\":0,\"ticks\":\"\"}}}],\"bar\":[{\"error_x\":{\"color\":\"#f2f5fa\"},\"error_y\":{\"color\":\"#f2f5fa\"},\"marker\":{\"line\":{\"color\":\"rgb(17,17,17)\",\"width\":0.5},\"pattern\":{\"fillmode\":\"overlay\",\"size\":10,\"solidity\":0.2}},\"type\":\"bar\"}],\"scattergeo\":[{\"type\":\"scattergeo\",\"marker\":{\"colorbar\":{\"outlinewidth\":0,\"ticks\":\"\"}}}],\"scatterpolar\":[{\"type\":\"scatterpolar\",\"marker\":{\"colorbar\":{\"outlinewidth\":0,\"ticks\":\"\"}}}],\"histogram\":[{\"marker\":{\"pattern\":{\"fillmode\":\"overlay\",\"size\":10,\"solidity\":0.2}},\"type\":\"histogram\"}],\"scattergl\":[{\"marker\":{\"line\":{\"color\":\"#283442\"}},\"type\":\"scattergl\"}],\"scatter3d\":[{\"type\":\"scatter3d\",\"line\":{\"colorbar\":{\"outlinewidth\":0,\"ticks\":\"\"}},\"marker\":{\"colorbar\":{\"outlinewidth\":0,\"ticks\":\"\"}}}],\"scattermapbox\":[{\"type\":\"scattermapbox\",\"marker\":{\"colorbar\":{\"outlinewidth\":0,\"ticks\":\"\"}}}],\"scatterternary\":[{\"type\":\"scatterternary\",\"marker\":{\"colorbar\":{\"outlinewidth\":0,\"ticks\":\"\"}}}],\"scattercarpet\":[{\"type\":\"scattercarpet\",\"marker\":{\"colorbar\":{\"outlinewidth\":0,\"ticks\":\"\"}}}],\"carpet\":[{\"aaxis\":{\"endlinecolor\":\"#A2B1C6\",\"gridcolor\":\"#506784\",\"linecolor\":\"#506784\",\"minorgridcolor\":\"#506784\",\"startlinecolor\":\"#A2B1C6\"},\"baxis\":{\"endlinecolor\":\"#A2B1C6\",\"gridcolor\":\"#506784\",\"linecolor\":\"#506784\",\"minorgridcolor\":\"#506784\",\"startlinecolor\":\"#A2B1C6\"},\"type\":\"carpet\"}],\"table\":[{\"cells\":{\"fill\":{\"color\":\"#506784\"},\"line\":{\"color\":\"rgb(17,17,17)\"}},\"header\":{\"fill\":{\"color\":\"#2a3f5f\"},\"line\":{\"color\":\"rgb(17,17,17)\"}},\"type\":\"table\"}],\"barpolar\":[{\"marker\":{\"line\":{\"color\":\"rgb(17,17,17)\",\"width\":0.5},\"pattern\":{\"fillmode\":\"overlay\",\"size\":10,\"solidity\":0.2}},\"type\":\"barpolar\"}],\"pie\":[{\"automargin\":true,\"type\":\"pie\"}]},\"layout\":{\"autotypenumbers\":\"strict\",\"colorway\":[\"#636efa\",\"#EF553B\",\"#00cc96\",\"#ab63fa\",\"#FFA15A\",\"#19d3f3\",\"#FF6692\",\"#B6E880\",\"#FF97FF\",\"#FECB52\"],\"font\":{\"color\":\"#f2f5fa\"},\"hovermode\":\"closest\",\"hoverlabel\":{\"align\":\"left\"},\"paper_bgcolor\":\"rgb(17,17,17)\",\"plot_bgcolor\":\"rgb(17,17,17)\",\"polar\":{\"bgcolor\":\"rgb(17,17,17)\",\"angularaxis\":{\"gridcolor\":\"#506784\",\"linecolor\":\"#506784\",\"ticks\":\"\"},\"radialaxis\":{\"gridcolor\":\"#506784\",\"linecolor\":\"#506784\",\"ticks\":\"\"}},\"ternary\":{\"bgcolor\":\"rgb(17,17,17)\",\"aaxis\":{\"gridcolor\":\"#506784\",\"linecolor\":\"#506784\",\"ticks\":\"\"},\"baxis\":{\"gridcolor\":\"#506784\",\"linecolor\":\"#506784\",\"ticks\":\"\"},\"caxis\":{\"gridcolor\":\"#506784\",\"linecolor\":\"#506784\",\"ticks\":\"\"}},\"coloraxis\":{\"colorbar\":{\"outlinewidth\":0,\"ticks\":\"\"}},\"colorscale\":{\"sequential\":[[0.0,\"#0d0887\"],[0.1111111111111111,\"#46039f\"],[0.2222222222222222,\"#7201a8\"],[0.3333333333333333,\"#9c179e\"],[0.4444444444444444,\"#bd3786\"],[0.5555555555555556,\"#d8576b\"],[0.6666666666666666,\"#ed7953\"],[0.7777777777777778,\"#fb9f3a\"],[0.8888888888888888,\"#fdca26\"],[1.0,\"#f0f921\"]],\"sequentialminus\":[[0.0,\"#0d0887\"],[0.1111111111111111,\"#46039f\"],[0.2222222222222222,\"#7201a8\"],[0.3333333333333333,\"#9c179e\"],[0.4444444444444444,\"#bd3786\"],[0.5555555555555556,\"#d8576b\"],[0.6666666666666666,\"#ed7953\"],[0.7777777777777778,\"#fb9f3a\"],[0.8888888888888888,\"#fdca26\"],[1.0,\"#f0f921\"]],\"diverging\":[[0,\"#8e0152\"],[0.1,\"#c51b7d\"],[0.2,\"#de77ae\"],[0.3,\"#f1b6da\"],[0.4,\"#fde0ef\"],[0.5,\"#f7f7f7\"],[0.6,\"#e6f5d0\"],[0.7,\"#b8e186\"],[0.8,\"#7fbc41\"],[0.9,\"#4d9221\"],[1,\"#276419\"]]},\"xaxis\":{\"gridcolor\":\"#283442\",\"linecolor\":\"#506784\",\"ticks\":\"\",\"title\":{\"standoff\":15},\"zerolinecolor\":\"#283442\",\"automargin\":true,\"zerolinewidth\":2},\"yaxis\":{\"gridcolor\":\"#283442\",\"linecolor\":\"#506784\",\"ticks\":\"\",\"title\":{\"standoff\":15},\"zerolinecolor\":\"#283442\",\"automargin\":true,\"zerolinewidth\":2},\"scene\":{\"xaxis\":{\"backgroundcolor\":\"rgb(17,17,17)\",\"gridcolor\":\"#506784\",\"linecolor\":\"#506784\",\"showbackground\":true,\"ticks\":\"\",\"zerolinecolor\":\"#C8D4E3\",\"gridwidth\":2},\"yaxis\":{\"backgroundcolor\":\"rgb(17,17,17)\",\"gridcolor\":\"#506784\",\"linecolor\":\"#506784\",\"showbackground\":true,\"ticks\":\"\",\"zerolinecolor\":\"#C8D4E3\",\"gridwidth\":2},\"zaxis\":{\"backgroundcolor\":\"rgb(17,17,17)\",\"gridcolor\":\"#506784\",\"linecolor\":\"#506784\",\"showbackground\":true,\"ticks\":\"\",\"zerolinecolor\":\"#C8D4E3\",\"gridwidth\":2}},\"shapedefaults\":{\"line\":{\"color\":\"#f2f5fa\"}},\"annotationdefaults\":{\"arrowcolor\":\"#f2f5fa\",\"arrowhead\":0,\"arrowwidth\":1},\"geo\":{\"bgcolor\":\"rgb(17,17,17)\",\"landcolor\":\"rgb(17,17,17)\",\"subunitcolor\":\"#506784\",\"showland\":true,\"showlakes\":true,\"lakecolor\":\"rgb(17,17,17)\"},\"title\":{\"x\":0.05},\"updatemenudefaults\":{\"bgcolor\":\"#506784\",\"borderwidth\":0},\"sliderdefaults\":{\"bgcolor\":\"#C8D4E3\",\"borderwidth\":1,\"bordercolor\":\"rgb(17,17,17)\",\"tickwidth\":0},\"mapbox\":{\"style\":\"dark\"}}},\"xaxis\":{\"anchor\":\"y\",\"domain\":[0.0,1.0],\"scaleanchor\":\"y\",\"constrain\":\"domain\",\"title\":{\"text\":\"Target\"}},\"yaxis\":{\"anchor\":\"x\",\"domain\":[0.0,1.0],\"autorange\":\"reversed\",\"constrain\":\"domain\",\"title\":{\"text\":\"Prediction\"}},\"coloraxis\":{\"colorscale\":[[0.0,\"#0d0887\"],[0.1111111111111111,\"#46039f\"],[0.2222222222222222,\"#7201a8\"],[0.3333333333333333,\"#9c179e\"],[0.4444444444444444,\"#bd3786\"],[0.5555555555555556,\"#d8576b\"],[0.6666666666666666,\"#ed7953\"],[0.7777777777777778,\"#fb9f3a\"],[0.8888888888888888,\"#fdca26\"],[1.0,\"#f0f921\"]]},\"margin\":{\"t\":60}},                        {\"responsive\": true}                    ).then(function(){\n",
       "                            \n",
       "var gd = document.getElementById('6873bea2-2ade-45ca-8beb-a0cfe4544f75');\n",
       "var x = new MutationObserver(function (mutations, observer) {{\n",
       "        var display = window.getComputedStyle(gd).display;\n",
       "        if (!display || display === 'none') {{\n",
       "            console.log([gd, 'removed!']);\n",
       "            Plotly.purge(gd);\n",
       "            observer.disconnect();\n",
       "        }}\n",
       "}});\n",
       "\n",
       "// Listen for the removal of the full notebook cells\n",
       "var notebookContainer = gd.closest('#notebook-container');\n",
       "if (notebookContainer) {{\n",
       "    x.observe(notebookContainer, {childList: true});\n",
       "}}\n",
       "\n",
       "// Listen for the clearing of the current output cell\n",
       "var outputEl = gd.closest('.output');\n",
       "if (outputEl) {{\n",
       "    x.observe(outputEl, {childList: true});\n",
       "}}\n",
       "\n",
       "                        })                };                });            </script>        </div>"
      ]
     },
     "metadata": {},
     "output_type": "display_data"
    }
   ],
   "source": [
    "@score_for('XGBoosting CPU', 'test')\n",
    "@time_for('XGBoosting CPU', 'test')\n",
    "def test_xgb_cpu():\n",
    "    return f1_score(xgb_cpu_y_test, y_test, average='macro')\n",
    "\n",
    "print(\n",
    "    \"F1-мера для тренировочных данных с помощью \"\n",
    "    \"XGBClassifier на CPU:\", test_xgb_cpu(),\n",
    ")\n",
    "draw_conf_matrix(y_test, xgb_cpu_y_test)"
   ]
  },
  {
   "cell_type": "markdown",
   "metadata": {},
   "source": [
    "### XG Boosting\n",
    "\n",
    "С использованием GPU\n"
   ]
  },
  {
   "cell_type": "code",
   "execution_count": 66,
   "metadata": {},
   "outputs": [],
   "source": [
    "from xgboost import XGBClassifier\n",
    "\n",
    "@time_for('XGBoosting GPU', 'predict')\n",
    "def fit_xgb_gpu():\n",
    "    return XGBClassifier(\n",
    "        tree_method='gpu_hist', gpu_id=0,\n",
    "        random_state=random_state,\n",
    "    ).fit(X_train, y_train)\n",
    "\n",
    "xgb_gpu_model = fit_xgb_gpu()"
   ]
  },
  {
   "cell_type": "code",
   "execution_count": 67,
   "metadata": {},
   "outputs": [],
   "source": [
    "xgb_gpu_y_train = xgb_gpu_model.predict(X_train)"
   ]
  },
  {
   "cell_type": "code",
   "execution_count": 88,
   "metadata": {},
   "outputs": [
    {
     "name": "stdout",
     "output_type": "stream",
     "text": [
      "F1-мера для тренировочных данных с помощью XGBClassifier на GPU: 1.0\n"
     ]
    },
    {
     "data": {
      "application/vnd.plotly.v1+json": {
       "config": {
        "plotlyServerURL": "https://plot.ly"
       },
       "data": [
        {
         "coloraxis": "coloraxis",
         "hovertemplate": "x: %{x}<br>y: %{y}<br>color: %{z}<extra></extra>",
         "name": "0",
         "texttemplate": "%{z}",
         "type": "heatmap",
         "xaxis": "x",
         "yaxis": "y",
         "z": [
          [
           582,
           0,
           0
          ],
          [
           0,
           190,
           0
          ],
          [
           0,
           0,
           228
          ]
         ]
        }
       ],
       "layout": {
        "coloraxis": {
         "colorscale": [
          [
           0,
           "#0d0887"
          ],
          [
           0.1111111111111111,
           "#46039f"
          ],
          [
           0.2222222222222222,
           "#7201a8"
          ],
          [
           0.3333333333333333,
           "#9c179e"
          ],
          [
           0.4444444444444444,
           "#bd3786"
          ],
          [
           0.5555555555555556,
           "#d8576b"
          ],
          [
           0.6666666666666666,
           "#ed7953"
          ],
          [
           0.7777777777777778,
           "#fb9f3a"
          ],
          [
           0.8888888888888888,
           "#fdca26"
          ],
          [
           1,
           "#f0f921"
          ]
         ]
        },
        "margin": {
         "t": 60
        },
        "template": {
         "data": {
          "bar": [
           {
            "error_x": {
             "color": "#f2f5fa"
            },
            "error_y": {
             "color": "#f2f5fa"
            },
            "marker": {
             "line": {
              "color": "rgb(17,17,17)",
              "width": 0.5
             },
             "pattern": {
              "fillmode": "overlay",
              "size": 10,
              "solidity": 0.2
             }
            },
            "type": "bar"
           }
          ],
          "barpolar": [
           {
            "marker": {
             "line": {
              "color": "rgb(17,17,17)",
              "width": 0.5
             },
             "pattern": {
              "fillmode": "overlay",
              "size": 10,
              "solidity": 0.2
             }
            },
            "type": "barpolar"
           }
          ],
          "carpet": [
           {
            "aaxis": {
             "endlinecolor": "#A2B1C6",
             "gridcolor": "#506784",
             "linecolor": "#506784",
             "minorgridcolor": "#506784",
             "startlinecolor": "#A2B1C6"
            },
            "baxis": {
             "endlinecolor": "#A2B1C6",
             "gridcolor": "#506784",
             "linecolor": "#506784",
             "minorgridcolor": "#506784",
             "startlinecolor": "#A2B1C6"
            },
            "type": "carpet"
           }
          ],
          "choropleth": [
           {
            "colorbar": {
             "outlinewidth": 0,
             "ticks": ""
            },
            "type": "choropleth"
           }
          ],
          "contour": [
           {
            "colorbar": {
             "outlinewidth": 0,
             "ticks": ""
            },
            "colorscale": [
             [
              0,
              "#0d0887"
             ],
             [
              0.1111111111111111,
              "#46039f"
             ],
             [
              0.2222222222222222,
              "#7201a8"
             ],
             [
              0.3333333333333333,
              "#9c179e"
             ],
             [
              0.4444444444444444,
              "#bd3786"
             ],
             [
              0.5555555555555556,
              "#d8576b"
             ],
             [
              0.6666666666666666,
              "#ed7953"
             ],
             [
              0.7777777777777778,
              "#fb9f3a"
             ],
             [
              0.8888888888888888,
              "#fdca26"
             ],
             [
              1,
              "#f0f921"
             ]
            ],
            "type": "contour"
           }
          ],
          "contourcarpet": [
           {
            "colorbar": {
             "outlinewidth": 0,
             "ticks": ""
            },
            "type": "contourcarpet"
           }
          ],
          "heatmap": [
           {
            "colorbar": {
             "outlinewidth": 0,
             "ticks": ""
            },
            "colorscale": [
             [
              0,
              "#0d0887"
             ],
             [
              0.1111111111111111,
              "#46039f"
             ],
             [
              0.2222222222222222,
              "#7201a8"
             ],
             [
              0.3333333333333333,
              "#9c179e"
             ],
             [
              0.4444444444444444,
              "#bd3786"
             ],
             [
              0.5555555555555556,
              "#d8576b"
             ],
             [
              0.6666666666666666,
              "#ed7953"
             ],
             [
              0.7777777777777778,
              "#fb9f3a"
             ],
             [
              0.8888888888888888,
              "#fdca26"
             ],
             [
              1,
              "#f0f921"
             ]
            ],
            "type": "heatmap"
           }
          ],
          "heatmapgl": [
           {
            "colorbar": {
             "outlinewidth": 0,
             "ticks": ""
            },
            "colorscale": [
             [
              0,
              "#0d0887"
             ],
             [
              0.1111111111111111,
              "#46039f"
             ],
             [
              0.2222222222222222,
              "#7201a8"
             ],
             [
              0.3333333333333333,
              "#9c179e"
             ],
             [
              0.4444444444444444,
              "#bd3786"
             ],
             [
              0.5555555555555556,
              "#d8576b"
             ],
             [
              0.6666666666666666,
              "#ed7953"
             ],
             [
              0.7777777777777778,
              "#fb9f3a"
             ],
             [
              0.8888888888888888,
              "#fdca26"
             ],
             [
              1,
              "#f0f921"
             ]
            ],
            "type": "heatmapgl"
           }
          ],
          "histogram": [
           {
            "marker": {
             "pattern": {
              "fillmode": "overlay",
              "size": 10,
              "solidity": 0.2
             }
            },
            "type": "histogram"
           }
          ],
          "histogram2d": [
           {
            "colorbar": {
             "outlinewidth": 0,
             "ticks": ""
            },
            "colorscale": [
             [
              0,
              "#0d0887"
             ],
             [
              0.1111111111111111,
              "#46039f"
             ],
             [
              0.2222222222222222,
              "#7201a8"
             ],
             [
              0.3333333333333333,
              "#9c179e"
             ],
             [
              0.4444444444444444,
              "#bd3786"
             ],
             [
              0.5555555555555556,
              "#d8576b"
             ],
             [
              0.6666666666666666,
              "#ed7953"
             ],
             [
              0.7777777777777778,
              "#fb9f3a"
             ],
             [
              0.8888888888888888,
              "#fdca26"
             ],
             [
              1,
              "#f0f921"
             ]
            ],
            "type": "histogram2d"
           }
          ],
          "histogram2dcontour": [
           {
            "colorbar": {
             "outlinewidth": 0,
             "ticks": ""
            },
            "colorscale": [
             [
              0,
              "#0d0887"
             ],
             [
              0.1111111111111111,
              "#46039f"
             ],
             [
              0.2222222222222222,
              "#7201a8"
             ],
             [
              0.3333333333333333,
              "#9c179e"
             ],
             [
              0.4444444444444444,
              "#bd3786"
             ],
             [
              0.5555555555555556,
              "#d8576b"
             ],
             [
              0.6666666666666666,
              "#ed7953"
             ],
             [
              0.7777777777777778,
              "#fb9f3a"
             ],
             [
              0.8888888888888888,
              "#fdca26"
             ],
             [
              1,
              "#f0f921"
             ]
            ],
            "type": "histogram2dcontour"
           }
          ],
          "mesh3d": [
           {
            "colorbar": {
             "outlinewidth": 0,
             "ticks": ""
            },
            "type": "mesh3d"
           }
          ],
          "parcoords": [
           {
            "line": {
             "colorbar": {
              "outlinewidth": 0,
              "ticks": ""
             }
            },
            "type": "parcoords"
           }
          ],
          "pie": [
           {
            "automargin": true,
            "type": "pie"
           }
          ],
          "scatter": [
           {
            "marker": {
             "line": {
              "color": "#283442"
             }
            },
            "type": "scatter"
           }
          ],
          "scatter3d": [
           {
            "line": {
             "colorbar": {
              "outlinewidth": 0,
              "ticks": ""
             }
            },
            "marker": {
             "colorbar": {
              "outlinewidth": 0,
              "ticks": ""
             }
            },
            "type": "scatter3d"
           }
          ],
          "scattercarpet": [
           {
            "marker": {
             "colorbar": {
              "outlinewidth": 0,
              "ticks": ""
             }
            },
            "type": "scattercarpet"
           }
          ],
          "scattergeo": [
           {
            "marker": {
             "colorbar": {
              "outlinewidth": 0,
              "ticks": ""
             }
            },
            "type": "scattergeo"
           }
          ],
          "scattergl": [
           {
            "marker": {
             "line": {
              "color": "#283442"
             }
            },
            "type": "scattergl"
           }
          ],
          "scattermapbox": [
           {
            "marker": {
             "colorbar": {
              "outlinewidth": 0,
              "ticks": ""
             }
            },
            "type": "scattermapbox"
           }
          ],
          "scatterpolar": [
           {
            "marker": {
             "colorbar": {
              "outlinewidth": 0,
              "ticks": ""
             }
            },
            "type": "scatterpolar"
           }
          ],
          "scatterpolargl": [
           {
            "marker": {
             "colorbar": {
              "outlinewidth": 0,
              "ticks": ""
             }
            },
            "type": "scatterpolargl"
           }
          ],
          "scatterternary": [
           {
            "marker": {
             "colorbar": {
              "outlinewidth": 0,
              "ticks": ""
             }
            },
            "type": "scatterternary"
           }
          ],
          "surface": [
           {
            "colorbar": {
             "outlinewidth": 0,
             "ticks": ""
            },
            "colorscale": [
             [
              0,
              "#0d0887"
             ],
             [
              0.1111111111111111,
              "#46039f"
             ],
             [
              0.2222222222222222,
              "#7201a8"
             ],
             [
              0.3333333333333333,
              "#9c179e"
             ],
             [
              0.4444444444444444,
              "#bd3786"
             ],
             [
              0.5555555555555556,
              "#d8576b"
             ],
             [
              0.6666666666666666,
              "#ed7953"
             ],
             [
              0.7777777777777778,
              "#fb9f3a"
             ],
             [
              0.8888888888888888,
              "#fdca26"
             ],
             [
              1,
              "#f0f921"
             ]
            ],
            "type": "surface"
           }
          ],
          "table": [
           {
            "cells": {
             "fill": {
              "color": "#506784"
             },
             "line": {
              "color": "rgb(17,17,17)"
             }
            },
            "header": {
             "fill": {
              "color": "#2a3f5f"
             },
             "line": {
              "color": "rgb(17,17,17)"
             }
            },
            "type": "table"
           }
          ]
         },
         "layout": {
          "annotationdefaults": {
           "arrowcolor": "#f2f5fa",
           "arrowhead": 0,
           "arrowwidth": 1
          },
          "autotypenumbers": "strict",
          "coloraxis": {
           "colorbar": {
            "outlinewidth": 0,
            "ticks": ""
           }
          },
          "colorscale": {
           "diverging": [
            [
             0,
             "#8e0152"
            ],
            [
             0.1,
             "#c51b7d"
            ],
            [
             0.2,
             "#de77ae"
            ],
            [
             0.3,
             "#f1b6da"
            ],
            [
             0.4,
             "#fde0ef"
            ],
            [
             0.5,
             "#f7f7f7"
            ],
            [
             0.6,
             "#e6f5d0"
            ],
            [
             0.7,
             "#b8e186"
            ],
            [
             0.8,
             "#7fbc41"
            ],
            [
             0.9,
             "#4d9221"
            ],
            [
             1,
             "#276419"
            ]
           ],
           "sequential": [
            [
             0,
             "#0d0887"
            ],
            [
             0.1111111111111111,
             "#46039f"
            ],
            [
             0.2222222222222222,
             "#7201a8"
            ],
            [
             0.3333333333333333,
             "#9c179e"
            ],
            [
             0.4444444444444444,
             "#bd3786"
            ],
            [
             0.5555555555555556,
             "#d8576b"
            ],
            [
             0.6666666666666666,
             "#ed7953"
            ],
            [
             0.7777777777777778,
             "#fb9f3a"
            ],
            [
             0.8888888888888888,
             "#fdca26"
            ],
            [
             1,
             "#f0f921"
            ]
           ],
           "sequentialminus": [
            [
             0,
             "#0d0887"
            ],
            [
             0.1111111111111111,
             "#46039f"
            ],
            [
             0.2222222222222222,
             "#7201a8"
            ],
            [
             0.3333333333333333,
             "#9c179e"
            ],
            [
             0.4444444444444444,
             "#bd3786"
            ],
            [
             0.5555555555555556,
             "#d8576b"
            ],
            [
             0.6666666666666666,
             "#ed7953"
            ],
            [
             0.7777777777777778,
             "#fb9f3a"
            ],
            [
             0.8888888888888888,
             "#fdca26"
            ],
            [
             1,
             "#f0f921"
            ]
           ]
          },
          "colorway": [
           "#636efa",
           "#EF553B",
           "#00cc96",
           "#ab63fa",
           "#FFA15A",
           "#19d3f3",
           "#FF6692",
           "#B6E880",
           "#FF97FF",
           "#FECB52"
          ],
          "font": {
           "color": "#f2f5fa"
          },
          "geo": {
           "bgcolor": "rgb(17,17,17)",
           "lakecolor": "rgb(17,17,17)",
           "landcolor": "rgb(17,17,17)",
           "showlakes": true,
           "showland": true,
           "subunitcolor": "#506784"
          },
          "hoverlabel": {
           "align": "left"
          },
          "hovermode": "closest",
          "mapbox": {
           "style": "dark"
          },
          "paper_bgcolor": "rgb(17,17,17)",
          "plot_bgcolor": "rgb(17,17,17)",
          "polar": {
           "angularaxis": {
            "gridcolor": "#506784",
            "linecolor": "#506784",
            "ticks": ""
           },
           "bgcolor": "rgb(17,17,17)",
           "radialaxis": {
            "gridcolor": "#506784",
            "linecolor": "#506784",
            "ticks": ""
           }
          },
          "scene": {
           "xaxis": {
            "backgroundcolor": "rgb(17,17,17)",
            "gridcolor": "#506784",
            "gridwidth": 2,
            "linecolor": "#506784",
            "showbackground": true,
            "ticks": "",
            "zerolinecolor": "#C8D4E3"
           },
           "yaxis": {
            "backgroundcolor": "rgb(17,17,17)",
            "gridcolor": "#506784",
            "gridwidth": 2,
            "linecolor": "#506784",
            "showbackground": true,
            "ticks": "",
            "zerolinecolor": "#C8D4E3"
           },
           "zaxis": {
            "backgroundcolor": "rgb(17,17,17)",
            "gridcolor": "#506784",
            "gridwidth": 2,
            "linecolor": "#506784",
            "showbackground": true,
            "ticks": "",
            "zerolinecolor": "#C8D4E3"
           }
          },
          "shapedefaults": {
           "line": {
            "color": "#f2f5fa"
           }
          },
          "sliderdefaults": {
           "bgcolor": "#C8D4E3",
           "bordercolor": "rgb(17,17,17)",
           "borderwidth": 1,
           "tickwidth": 0
          },
          "ternary": {
           "aaxis": {
            "gridcolor": "#506784",
            "linecolor": "#506784",
            "ticks": ""
           },
           "baxis": {
            "gridcolor": "#506784",
            "linecolor": "#506784",
            "ticks": ""
           },
           "bgcolor": "rgb(17,17,17)",
           "caxis": {
            "gridcolor": "#506784",
            "linecolor": "#506784",
            "ticks": ""
           }
          },
          "title": {
           "x": 0.05
          },
          "updatemenudefaults": {
           "bgcolor": "#506784",
           "borderwidth": 0
          },
          "xaxis": {
           "automargin": true,
           "gridcolor": "#283442",
           "linecolor": "#506784",
           "ticks": "",
           "title": {
            "standoff": 15
           },
           "zerolinecolor": "#283442",
           "zerolinewidth": 2
          },
          "yaxis": {
           "automargin": true,
           "gridcolor": "#283442",
           "linecolor": "#506784",
           "ticks": "",
           "title": {
            "standoff": 15
           },
           "zerolinecolor": "#283442",
           "zerolinewidth": 2
          }
         }
        },
        "xaxis": {
         "anchor": "y",
         "constrain": "domain",
         "domain": [
          0,
          1
         ],
         "scaleanchor": "y",
         "title": {
          "text": "Target"
         }
        },
        "yaxis": {
         "anchor": "x",
         "autorange": "reversed",
         "constrain": "domain",
         "domain": [
          0,
          1
         ],
         "title": {
          "text": "Prediction"
         }
        }
       }
      },
      "text/html": [
       "<div>                            <div id=\"6b676272-eb62-4f5e-b279-8906476abef9\" class=\"plotly-graph-div\" style=\"height:525px; width:100%;\"></div>            <script type=\"text/javascript\">                require([\"plotly\"], function(Plotly) {                    window.PLOTLYENV=window.PLOTLYENV || {};                                    if (document.getElementById(\"6b676272-eb62-4f5e-b279-8906476abef9\")) {                    Plotly.newPlot(                        \"6b676272-eb62-4f5e-b279-8906476abef9\",                        [{\"coloraxis\":\"coloraxis\",\"name\":\"0\",\"texttemplate\":\"%{z}\",\"z\":[[582,0,0],[0,190,0],[0,0,228]],\"type\":\"heatmap\",\"xaxis\":\"x\",\"yaxis\":\"y\",\"hovertemplate\":\"x: %{x}<br>y: %{y}<br>color: %{z}<extra></extra>\"}],                        {\"template\":{\"data\":{\"histogram2dcontour\":[{\"type\":\"histogram2dcontour\",\"colorbar\":{\"outlinewidth\":0,\"ticks\":\"\"},\"colorscale\":[[0.0,\"#0d0887\"],[0.1111111111111111,\"#46039f\"],[0.2222222222222222,\"#7201a8\"],[0.3333333333333333,\"#9c179e\"],[0.4444444444444444,\"#bd3786\"],[0.5555555555555556,\"#d8576b\"],[0.6666666666666666,\"#ed7953\"],[0.7777777777777778,\"#fb9f3a\"],[0.8888888888888888,\"#fdca26\"],[1.0,\"#f0f921\"]]}],\"choropleth\":[{\"type\":\"choropleth\",\"colorbar\":{\"outlinewidth\":0,\"ticks\":\"\"}}],\"histogram2d\":[{\"type\":\"histogram2d\",\"colorbar\":{\"outlinewidth\":0,\"ticks\":\"\"},\"colorscale\":[[0.0,\"#0d0887\"],[0.1111111111111111,\"#46039f\"],[0.2222222222222222,\"#7201a8\"],[0.3333333333333333,\"#9c179e\"],[0.4444444444444444,\"#bd3786\"],[0.5555555555555556,\"#d8576b\"],[0.6666666666666666,\"#ed7953\"],[0.7777777777777778,\"#fb9f3a\"],[0.8888888888888888,\"#fdca26\"],[1.0,\"#f0f921\"]]}],\"heatmap\":[{\"type\":\"heatmap\",\"colorbar\":{\"outlinewidth\":0,\"ticks\":\"\"},\"colorscale\":[[0.0,\"#0d0887\"],[0.1111111111111111,\"#46039f\"],[0.2222222222222222,\"#7201a8\"],[0.3333333333333333,\"#9c179e\"],[0.4444444444444444,\"#bd3786\"],[0.5555555555555556,\"#d8576b\"],[0.6666666666666666,\"#ed7953\"],[0.7777777777777778,\"#fb9f3a\"],[0.8888888888888888,\"#fdca26\"],[1.0,\"#f0f921\"]]}],\"heatmapgl\":[{\"type\":\"heatmapgl\",\"colorbar\":{\"outlinewidth\":0,\"ticks\":\"\"},\"colorscale\":[[0.0,\"#0d0887\"],[0.1111111111111111,\"#46039f\"],[0.2222222222222222,\"#7201a8\"],[0.3333333333333333,\"#9c179e\"],[0.4444444444444444,\"#bd3786\"],[0.5555555555555556,\"#d8576b\"],[0.6666666666666666,\"#ed7953\"],[0.7777777777777778,\"#fb9f3a\"],[0.8888888888888888,\"#fdca26\"],[1.0,\"#f0f921\"]]}],\"contourcarpet\":[{\"type\":\"contourcarpet\",\"colorbar\":{\"outlinewidth\":0,\"ticks\":\"\"}}],\"contour\":[{\"type\":\"contour\",\"colorbar\":{\"outlinewidth\":0,\"ticks\":\"\"},\"colorscale\":[[0.0,\"#0d0887\"],[0.1111111111111111,\"#46039f\"],[0.2222222222222222,\"#7201a8\"],[0.3333333333333333,\"#9c179e\"],[0.4444444444444444,\"#bd3786\"],[0.5555555555555556,\"#d8576b\"],[0.6666666666666666,\"#ed7953\"],[0.7777777777777778,\"#fb9f3a\"],[0.8888888888888888,\"#fdca26\"],[1.0,\"#f0f921\"]]}],\"surface\":[{\"type\":\"surface\",\"colorbar\":{\"outlinewidth\":0,\"ticks\":\"\"},\"colorscale\":[[0.0,\"#0d0887\"],[0.1111111111111111,\"#46039f\"],[0.2222222222222222,\"#7201a8\"],[0.3333333333333333,\"#9c179e\"],[0.4444444444444444,\"#bd3786\"],[0.5555555555555556,\"#d8576b\"],[0.6666666666666666,\"#ed7953\"],[0.7777777777777778,\"#fb9f3a\"],[0.8888888888888888,\"#fdca26\"],[1.0,\"#f0f921\"]]}],\"mesh3d\":[{\"type\":\"mesh3d\",\"colorbar\":{\"outlinewidth\":0,\"ticks\":\"\"}}],\"scatter\":[{\"marker\":{\"line\":{\"color\":\"#283442\"}},\"type\":\"scatter\"}],\"parcoords\":[{\"type\":\"parcoords\",\"line\":{\"colorbar\":{\"outlinewidth\":0,\"ticks\":\"\"}}}],\"scatterpolargl\":[{\"type\":\"scatterpolargl\",\"marker\":{\"colorbar\":{\"outlinewidth\":0,\"ticks\":\"\"}}}],\"bar\":[{\"error_x\":{\"color\":\"#f2f5fa\"},\"error_y\":{\"color\":\"#f2f5fa\"},\"marker\":{\"line\":{\"color\":\"rgb(17,17,17)\",\"width\":0.5},\"pattern\":{\"fillmode\":\"overlay\",\"size\":10,\"solidity\":0.2}},\"type\":\"bar\"}],\"scattergeo\":[{\"type\":\"scattergeo\",\"marker\":{\"colorbar\":{\"outlinewidth\":0,\"ticks\":\"\"}}}],\"scatterpolar\":[{\"type\":\"scatterpolar\",\"marker\":{\"colorbar\":{\"outlinewidth\":0,\"ticks\":\"\"}}}],\"histogram\":[{\"marker\":{\"pattern\":{\"fillmode\":\"overlay\",\"size\":10,\"solidity\":0.2}},\"type\":\"histogram\"}],\"scattergl\":[{\"marker\":{\"line\":{\"color\":\"#283442\"}},\"type\":\"scattergl\"}],\"scatter3d\":[{\"type\":\"scatter3d\",\"line\":{\"colorbar\":{\"outlinewidth\":0,\"ticks\":\"\"}},\"marker\":{\"colorbar\":{\"outlinewidth\":0,\"ticks\":\"\"}}}],\"scattermapbox\":[{\"type\":\"scattermapbox\",\"marker\":{\"colorbar\":{\"outlinewidth\":0,\"ticks\":\"\"}}}],\"scatterternary\":[{\"type\":\"scatterternary\",\"marker\":{\"colorbar\":{\"outlinewidth\":0,\"ticks\":\"\"}}}],\"scattercarpet\":[{\"type\":\"scattercarpet\",\"marker\":{\"colorbar\":{\"outlinewidth\":0,\"ticks\":\"\"}}}],\"carpet\":[{\"aaxis\":{\"endlinecolor\":\"#A2B1C6\",\"gridcolor\":\"#506784\",\"linecolor\":\"#506784\",\"minorgridcolor\":\"#506784\",\"startlinecolor\":\"#A2B1C6\"},\"baxis\":{\"endlinecolor\":\"#A2B1C6\",\"gridcolor\":\"#506784\",\"linecolor\":\"#506784\",\"minorgridcolor\":\"#506784\",\"startlinecolor\":\"#A2B1C6\"},\"type\":\"carpet\"}],\"table\":[{\"cells\":{\"fill\":{\"color\":\"#506784\"},\"line\":{\"color\":\"rgb(17,17,17)\"}},\"header\":{\"fill\":{\"color\":\"#2a3f5f\"},\"line\":{\"color\":\"rgb(17,17,17)\"}},\"type\":\"table\"}],\"barpolar\":[{\"marker\":{\"line\":{\"color\":\"rgb(17,17,17)\",\"width\":0.5},\"pattern\":{\"fillmode\":\"overlay\",\"size\":10,\"solidity\":0.2}},\"type\":\"barpolar\"}],\"pie\":[{\"automargin\":true,\"type\":\"pie\"}]},\"layout\":{\"autotypenumbers\":\"strict\",\"colorway\":[\"#636efa\",\"#EF553B\",\"#00cc96\",\"#ab63fa\",\"#FFA15A\",\"#19d3f3\",\"#FF6692\",\"#B6E880\",\"#FF97FF\",\"#FECB52\"],\"font\":{\"color\":\"#f2f5fa\"},\"hovermode\":\"closest\",\"hoverlabel\":{\"align\":\"left\"},\"paper_bgcolor\":\"rgb(17,17,17)\",\"plot_bgcolor\":\"rgb(17,17,17)\",\"polar\":{\"bgcolor\":\"rgb(17,17,17)\",\"angularaxis\":{\"gridcolor\":\"#506784\",\"linecolor\":\"#506784\",\"ticks\":\"\"},\"radialaxis\":{\"gridcolor\":\"#506784\",\"linecolor\":\"#506784\",\"ticks\":\"\"}},\"ternary\":{\"bgcolor\":\"rgb(17,17,17)\",\"aaxis\":{\"gridcolor\":\"#506784\",\"linecolor\":\"#506784\",\"ticks\":\"\"},\"baxis\":{\"gridcolor\":\"#506784\",\"linecolor\":\"#506784\",\"ticks\":\"\"},\"caxis\":{\"gridcolor\":\"#506784\",\"linecolor\":\"#506784\",\"ticks\":\"\"}},\"coloraxis\":{\"colorbar\":{\"outlinewidth\":0,\"ticks\":\"\"}},\"colorscale\":{\"sequential\":[[0.0,\"#0d0887\"],[0.1111111111111111,\"#46039f\"],[0.2222222222222222,\"#7201a8\"],[0.3333333333333333,\"#9c179e\"],[0.4444444444444444,\"#bd3786\"],[0.5555555555555556,\"#d8576b\"],[0.6666666666666666,\"#ed7953\"],[0.7777777777777778,\"#fb9f3a\"],[0.8888888888888888,\"#fdca26\"],[1.0,\"#f0f921\"]],\"sequentialminus\":[[0.0,\"#0d0887\"],[0.1111111111111111,\"#46039f\"],[0.2222222222222222,\"#7201a8\"],[0.3333333333333333,\"#9c179e\"],[0.4444444444444444,\"#bd3786\"],[0.5555555555555556,\"#d8576b\"],[0.6666666666666666,\"#ed7953\"],[0.7777777777777778,\"#fb9f3a\"],[0.8888888888888888,\"#fdca26\"],[1.0,\"#f0f921\"]],\"diverging\":[[0,\"#8e0152\"],[0.1,\"#c51b7d\"],[0.2,\"#de77ae\"],[0.3,\"#f1b6da\"],[0.4,\"#fde0ef\"],[0.5,\"#f7f7f7\"],[0.6,\"#e6f5d0\"],[0.7,\"#b8e186\"],[0.8,\"#7fbc41\"],[0.9,\"#4d9221\"],[1,\"#276419\"]]},\"xaxis\":{\"gridcolor\":\"#283442\",\"linecolor\":\"#506784\",\"ticks\":\"\",\"title\":{\"standoff\":15},\"zerolinecolor\":\"#283442\",\"automargin\":true,\"zerolinewidth\":2},\"yaxis\":{\"gridcolor\":\"#283442\",\"linecolor\":\"#506784\",\"ticks\":\"\",\"title\":{\"standoff\":15},\"zerolinecolor\":\"#283442\",\"automargin\":true,\"zerolinewidth\":2},\"scene\":{\"xaxis\":{\"backgroundcolor\":\"rgb(17,17,17)\",\"gridcolor\":\"#506784\",\"linecolor\":\"#506784\",\"showbackground\":true,\"ticks\":\"\",\"zerolinecolor\":\"#C8D4E3\",\"gridwidth\":2},\"yaxis\":{\"backgroundcolor\":\"rgb(17,17,17)\",\"gridcolor\":\"#506784\",\"linecolor\":\"#506784\",\"showbackground\":true,\"ticks\":\"\",\"zerolinecolor\":\"#C8D4E3\",\"gridwidth\":2},\"zaxis\":{\"backgroundcolor\":\"rgb(17,17,17)\",\"gridcolor\":\"#506784\",\"linecolor\":\"#506784\",\"showbackground\":true,\"ticks\":\"\",\"zerolinecolor\":\"#C8D4E3\",\"gridwidth\":2}},\"shapedefaults\":{\"line\":{\"color\":\"#f2f5fa\"}},\"annotationdefaults\":{\"arrowcolor\":\"#f2f5fa\",\"arrowhead\":0,\"arrowwidth\":1},\"geo\":{\"bgcolor\":\"rgb(17,17,17)\",\"landcolor\":\"rgb(17,17,17)\",\"subunitcolor\":\"#506784\",\"showland\":true,\"showlakes\":true,\"lakecolor\":\"rgb(17,17,17)\"},\"title\":{\"x\":0.05},\"updatemenudefaults\":{\"bgcolor\":\"#506784\",\"borderwidth\":0},\"sliderdefaults\":{\"bgcolor\":\"#C8D4E3\",\"borderwidth\":1,\"bordercolor\":\"rgb(17,17,17)\",\"tickwidth\":0},\"mapbox\":{\"style\":\"dark\"}}},\"xaxis\":{\"anchor\":\"y\",\"domain\":[0.0,1.0],\"scaleanchor\":\"y\",\"constrain\":\"domain\",\"title\":{\"text\":\"Target\"}},\"yaxis\":{\"anchor\":\"x\",\"domain\":[0.0,1.0],\"autorange\":\"reversed\",\"constrain\":\"domain\",\"title\":{\"text\":\"Prediction\"}},\"coloraxis\":{\"colorscale\":[[0.0,\"#0d0887\"],[0.1111111111111111,\"#46039f\"],[0.2222222222222222,\"#7201a8\"],[0.3333333333333333,\"#9c179e\"],[0.4444444444444444,\"#bd3786\"],[0.5555555555555556,\"#d8576b\"],[0.6666666666666666,\"#ed7953\"],[0.7777777777777778,\"#fb9f3a\"],[0.8888888888888888,\"#fdca26\"],[1.0,\"#f0f921\"]]},\"margin\":{\"t\":60}},                        {\"responsive\": true}                    ).then(function(){\n",
       "                            \n",
       "var gd = document.getElementById('6b676272-eb62-4f5e-b279-8906476abef9');\n",
       "var x = new MutationObserver(function (mutations, observer) {{\n",
       "        var display = window.getComputedStyle(gd).display;\n",
       "        if (!display || display === 'none') {{\n",
       "            console.log([gd, 'removed!']);\n",
       "            Plotly.purge(gd);\n",
       "            observer.disconnect();\n",
       "        }}\n",
       "}});\n",
       "\n",
       "// Listen for the removal of the full notebook cells\n",
       "var notebookContainer = gd.closest('#notebook-container');\n",
       "if (notebookContainer) {{\n",
       "    x.observe(notebookContainer, {childList: true});\n",
       "}}\n",
       "\n",
       "// Listen for the clearing of the current output cell\n",
       "var outputEl = gd.closest('.output');\n",
       "if (outputEl) {{\n",
       "    x.observe(outputEl, {childList: true});\n",
       "}}\n",
       "\n",
       "                        })                };                });            </script>        </div>"
      ]
     },
     "metadata": {},
     "output_type": "display_data"
    }
   ],
   "source": [
    "@score_for('XGBoosting GPU', 'train')\n",
    "@time_for('XGBoosting GPU', 'train')\n",
    "def train_xgb_gpu():\n",
    "    return f1_score(xgb_gpu_y_train, y_train, average='macro')\n",
    "\n",
    "print(\n",
    "    \"F1-мера для тренировочных данных с помощью \"\n",
    "    \"XGBClassifier на GPU:\", train_xgb_gpu(),\n",
    ")\n",
    "draw_conf_matrix(y_train, xgb_gpu_y_train)"
   ]
  },
  {
   "cell_type": "code",
   "execution_count": 69,
   "metadata": {},
   "outputs": [],
   "source": [
    "xgb_gpu_y_test = xgb_gpu_model.predict(X_test)"
   ]
  },
  {
   "cell_type": "code",
   "execution_count": 89,
   "metadata": {},
   "outputs": [
    {
     "name": "stdout",
     "output_type": "stream",
     "text": [
      "F1-мера для тренировочных данных с помощью XGBClassifier на GPU: 0.9581598414426468\n"
     ]
    },
    {
     "data": {
      "application/vnd.plotly.v1+json": {
       "config": {
        "plotlyServerURL": "https://plot.ly"
       },
       "data": [
        {
         "coloraxis": "coloraxis",
         "hovertemplate": "x: %{x}<br>y: %{y}<br>color: %{z}<extra></extra>",
         "name": "0",
         "texttemplate": "%{z}",
         "type": "heatmap",
         "xaxis": "x",
         "yaxis": "y",
         "z": [
          [
           57267,
           1055,
           541
          ],
          [
           1924,
           16842,
           5
          ],
          [
           54,
           0,
           21312
          ]
         ]
        }
       ],
       "layout": {
        "coloraxis": {
         "colorscale": [
          [
           0,
           "#0d0887"
          ],
          [
           0.1111111111111111,
           "#46039f"
          ],
          [
           0.2222222222222222,
           "#7201a8"
          ],
          [
           0.3333333333333333,
           "#9c179e"
          ],
          [
           0.4444444444444444,
           "#bd3786"
          ],
          [
           0.5555555555555556,
           "#d8576b"
          ],
          [
           0.6666666666666666,
           "#ed7953"
          ],
          [
           0.7777777777777778,
           "#fb9f3a"
          ],
          [
           0.8888888888888888,
           "#fdca26"
          ],
          [
           1,
           "#f0f921"
          ]
         ]
        },
        "margin": {
         "t": 60
        },
        "template": {
         "data": {
          "bar": [
           {
            "error_x": {
             "color": "#f2f5fa"
            },
            "error_y": {
             "color": "#f2f5fa"
            },
            "marker": {
             "line": {
              "color": "rgb(17,17,17)",
              "width": 0.5
             },
             "pattern": {
              "fillmode": "overlay",
              "size": 10,
              "solidity": 0.2
             }
            },
            "type": "bar"
           }
          ],
          "barpolar": [
           {
            "marker": {
             "line": {
              "color": "rgb(17,17,17)",
              "width": 0.5
             },
             "pattern": {
              "fillmode": "overlay",
              "size": 10,
              "solidity": 0.2
             }
            },
            "type": "barpolar"
           }
          ],
          "carpet": [
           {
            "aaxis": {
             "endlinecolor": "#A2B1C6",
             "gridcolor": "#506784",
             "linecolor": "#506784",
             "minorgridcolor": "#506784",
             "startlinecolor": "#A2B1C6"
            },
            "baxis": {
             "endlinecolor": "#A2B1C6",
             "gridcolor": "#506784",
             "linecolor": "#506784",
             "minorgridcolor": "#506784",
             "startlinecolor": "#A2B1C6"
            },
            "type": "carpet"
           }
          ],
          "choropleth": [
           {
            "colorbar": {
             "outlinewidth": 0,
             "ticks": ""
            },
            "type": "choropleth"
           }
          ],
          "contour": [
           {
            "colorbar": {
             "outlinewidth": 0,
             "ticks": ""
            },
            "colorscale": [
             [
              0,
              "#0d0887"
             ],
             [
              0.1111111111111111,
              "#46039f"
             ],
             [
              0.2222222222222222,
              "#7201a8"
             ],
             [
              0.3333333333333333,
              "#9c179e"
             ],
             [
              0.4444444444444444,
              "#bd3786"
             ],
             [
              0.5555555555555556,
              "#d8576b"
             ],
             [
              0.6666666666666666,
              "#ed7953"
             ],
             [
              0.7777777777777778,
              "#fb9f3a"
             ],
             [
              0.8888888888888888,
              "#fdca26"
             ],
             [
              1,
              "#f0f921"
             ]
            ],
            "type": "contour"
           }
          ],
          "contourcarpet": [
           {
            "colorbar": {
             "outlinewidth": 0,
             "ticks": ""
            },
            "type": "contourcarpet"
           }
          ],
          "heatmap": [
           {
            "colorbar": {
             "outlinewidth": 0,
             "ticks": ""
            },
            "colorscale": [
             [
              0,
              "#0d0887"
             ],
             [
              0.1111111111111111,
              "#46039f"
             ],
             [
              0.2222222222222222,
              "#7201a8"
             ],
             [
              0.3333333333333333,
              "#9c179e"
             ],
             [
              0.4444444444444444,
              "#bd3786"
             ],
             [
              0.5555555555555556,
              "#d8576b"
             ],
             [
              0.6666666666666666,
              "#ed7953"
             ],
             [
              0.7777777777777778,
              "#fb9f3a"
             ],
             [
              0.8888888888888888,
              "#fdca26"
             ],
             [
              1,
              "#f0f921"
             ]
            ],
            "type": "heatmap"
           }
          ],
          "heatmapgl": [
           {
            "colorbar": {
             "outlinewidth": 0,
             "ticks": ""
            },
            "colorscale": [
             [
              0,
              "#0d0887"
             ],
             [
              0.1111111111111111,
              "#46039f"
             ],
             [
              0.2222222222222222,
              "#7201a8"
             ],
             [
              0.3333333333333333,
              "#9c179e"
             ],
             [
              0.4444444444444444,
              "#bd3786"
             ],
             [
              0.5555555555555556,
              "#d8576b"
             ],
             [
              0.6666666666666666,
              "#ed7953"
             ],
             [
              0.7777777777777778,
              "#fb9f3a"
             ],
             [
              0.8888888888888888,
              "#fdca26"
             ],
             [
              1,
              "#f0f921"
             ]
            ],
            "type": "heatmapgl"
           }
          ],
          "histogram": [
           {
            "marker": {
             "pattern": {
              "fillmode": "overlay",
              "size": 10,
              "solidity": 0.2
             }
            },
            "type": "histogram"
           }
          ],
          "histogram2d": [
           {
            "colorbar": {
             "outlinewidth": 0,
             "ticks": ""
            },
            "colorscale": [
             [
              0,
              "#0d0887"
             ],
             [
              0.1111111111111111,
              "#46039f"
             ],
             [
              0.2222222222222222,
              "#7201a8"
             ],
             [
              0.3333333333333333,
              "#9c179e"
             ],
             [
              0.4444444444444444,
              "#bd3786"
             ],
             [
              0.5555555555555556,
              "#d8576b"
             ],
             [
              0.6666666666666666,
              "#ed7953"
             ],
             [
              0.7777777777777778,
              "#fb9f3a"
             ],
             [
              0.8888888888888888,
              "#fdca26"
             ],
             [
              1,
              "#f0f921"
             ]
            ],
            "type": "histogram2d"
           }
          ],
          "histogram2dcontour": [
           {
            "colorbar": {
             "outlinewidth": 0,
             "ticks": ""
            },
            "colorscale": [
             [
              0,
              "#0d0887"
             ],
             [
              0.1111111111111111,
              "#46039f"
             ],
             [
              0.2222222222222222,
              "#7201a8"
             ],
             [
              0.3333333333333333,
              "#9c179e"
             ],
             [
              0.4444444444444444,
              "#bd3786"
             ],
             [
              0.5555555555555556,
              "#d8576b"
             ],
             [
              0.6666666666666666,
              "#ed7953"
             ],
             [
              0.7777777777777778,
              "#fb9f3a"
             ],
             [
              0.8888888888888888,
              "#fdca26"
             ],
             [
              1,
              "#f0f921"
             ]
            ],
            "type": "histogram2dcontour"
           }
          ],
          "mesh3d": [
           {
            "colorbar": {
             "outlinewidth": 0,
             "ticks": ""
            },
            "type": "mesh3d"
           }
          ],
          "parcoords": [
           {
            "line": {
             "colorbar": {
              "outlinewidth": 0,
              "ticks": ""
             }
            },
            "type": "parcoords"
           }
          ],
          "pie": [
           {
            "automargin": true,
            "type": "pie"
           }
          ],
          "scatter": [
           {
            "marker": {
             "line": {
              "color": "#283442"
             }
            },
            "type": "scatter"
           }
          ],
          "scatter3d": [
           {
            "line": {
             "colorbar": {
              "outlinewidth": 0,
              "ticks": ""
             }
            },
            "marker": {
             "colorbar": {
              "outlinewidth": 0,
              "ticks": ""
             }
            },
            "type": "scatter3d"
           }
          ],
          "scattercarpet": [
           {
            "marker": {
             "colorbar": {
              "outlinewidth": 0,
              "ticks": ""
             }
            },
            "type": "scattercarpet"
           }
          ],
          "scattergeo": [
           {
            "marker": {
             "colorbar": {
              "outlinewidth": 0,
              "ticks": ""
             }
            },
            "type": "scattergeo"
           }
          ],
          "scattergl": [
           {
            "marker": {
             "line": {
              "color": "#283442"
             }
            },
            "type": "scattergl"
           }
          ],
          "scattermapbox": [
           {
            "marker": {
             "colorbar": {
              "outlinewidth": 0,
              "ticks": ""
             }
            },
            "type": "scattermapbox"
           }
          ],
          "scatterpolar": [
           {
            "marker": {
             "colorbar": {
              "outlinewidth": 0,
              "ticks": ""
             }
            },
            "type": "scatterpolar"
           }
          ],
          "scatterpolargl": [
           {
            "marker": {
             "colorbar": {
              "outlinewidth": 0,
              "ticks": ""
             }
            },
            "type": "scatterpolargl"
           }
          ],
          "scatterternary": [
           {
            "marker": {
             "colorbar": {
              "outlinewidth": 0,
              "ticks": ""
             }
            },
            "type": "scatterternary"
           }
          ],
          "surface": [
           {
            "colorbar": {
             "outlinewidth": 0,
             "ticks": ""
            },
            "colorscale": [
             [
              0,
              "#0d0887"
             ],
             [
              0.1111111111111111,
              "#46039f"
             ],
             [
              0.2222222222222222,
              "#7201a8"
             ],
             [
              0.3333333333333333,
              "#9c179e"
             ],
             [
              0.4444444444444444,
              "#bd3786"
             ],
             [
              0.5555555555555556,
              "#d8576b"
             ],
             [
              0.6666666666666666,
              "#ed7953"
             ],
             [
              0.7777777777777778,
              "#fb9f3a"
             ],
             [
              0.8888888888888888,
              "#fdca26"
             ],
             [
              1,
              "#f0f921"
             ]
            ],
            "type": "surface"
           }
          ],
          "table": [
           {
            "cells": {
             "fill": {
              "color": "#506784"
             },
             "line": {
              "color": "rgb(17,17,17)"
             }
            },
            "header": {
             "fill": {
              "color": "#2a3f5f"
             },
             "line": {
              "color": "rgb(17,17,17)"
             }
            },
            "type": "table"
           }
          ]
         },
         "layout": {
          "annotationdefaults": {
           "arrowcolor": "#f2f5fa",
           "arrowhead": 0,
           "arrowwidth": 1
          },
          "autotypenumbers": "strict",
          "coloraxis": {
           "colorbar": {
            "outlinewidth": 0,
            "ticks": ""
           }
          },
          "colorscale": {
           "diverging": [
            [
             0,
             "#8e0152"
            ],
            [
             0.1,
             "#c51b7d"
            ],
            [
             0.2,
             "#de77ae"
            ],
            [
             0.3,
             "#f1b6da"
            ],
            [
             0.4,
             "#fde0ef"
            ],
            [
             0.5,
             "#f7f7f7"
            ],
            [
             0.6,
             "#e6f5d0"
            ],
            [
             0.7,
             "#b8e186"
            ],
            [
             0.8,
             "#7fbc41"
            ],
            [
             0.9,
             "#4d9221"
            ],
            [
             1,
             "#276419"
            ]
           ],
           "sequential": [
            [
             0,
             "#0d0887"
            ],
            [
             0.1111111111111111,
             "#46039f"
            ],
            [
             0.2222222222222222,
             "#7201a8"
            ],
            [
             0.3333333333333333,
             "#9c179e"
            ],
            [
             0.4444444444444444,
             "#bd3786"
            ],
            [
             0.5555555555555556,
             "#d8576b"
            ],
            [
             0.6666666666666666,
             "#ed7953"
            ],
            [
             0.7777777777777778,
             "#fb9f3a"
            ],
            [
             0.8888888888888888,
             "#fdca26"
            ],
            [
             1,
             "#f0f921"
            ]
           ],
           "sequentialminus": [
            [
             0,
             "#0d0887"
            ],
            [
             0.1111111111111111,
             "#46039f"
            ],
            [
             0.2222222222222222,
             "#7201a8"
            ],
            [
             0.3333333333333333,
             "#9c179e"
            ],
            [
             0.4444444444444444,
             "#bd3786"
            ],
            [
             0.5555555555555556,
             "#d8576b"
            ],
            [
             0.6666666666666666,
             "#ed7953"
            ],
            [
             0.7777777777777778,
             "#fb9f3a"
            ],
            [
             0.8888888888888888,
             "#fdca26"
            ],
            [
             1,
             "#f0f921"
            ]
           ]
          },
          "colorway": [
           "#636efa",
           "#EF553B",
           "#00cc96",
           "#ab63fa",
           "#FFA15A",
           "#19d3f3",
           "#FF6692",
           "#B6E880",
           "#FF97FF",
           "#FECB52"
          ],
          "font": {
           "color": "#f2f5fa"
          },
          "geo": {
           "bgcolor": "rgb(17,17,17)",
           "lakecolor": "rgb(17,17,17)",
           "landcolor": "rgb(17,17,17)",
           "showlakes": true,
           "showland": true,
           "subunitcolor": "#506784"
          },
          "hoverlabel": {
           "align": "left"
          },
          "hovermode": "closest",
          "mapbox": {
           "style": "dark"
          },
          "paper_bgcolor": "rgb(17,17,17)",
          "plot_bgcolor": "rgb(17,17,17)",
          "polar": {
           "angularaxis": {
            "gridcolor": "#506784",
            "linecolor": "#506784",
            "ticks": ""
           },
           "bgcolor": "rgb(17,17,17)",
           "radialaxis": {
            "gridcolor": "#506784",
            "linecolor": "#506784",
            "ticks": ""
           }
          },
          "scene": {
           "xaxis": {
            "backgroundcolor": "rgb(17,17,17)",
            "gridcolor": "#506784",
            "gridwidth": 2,
            "linecolor": "#506784",
            "showbackground": true,
            "ticks": "",
            "zerolinecolor": "#C8D4E3"
           },
           "yaxis": {
            "backgroundcolor": "rgb(17,17,17)",
            "gridcolor": "#506784",
            "gridwidth": 2,
            "linecolor": "#506784",
            "showbackground": true,
            "ticks": "",
            "zerolinecolor": "#C8D4E3"
           },
           "zaxis": {
            "backgroundcolor": "rgb(17,17,17)",
            "gridcolor": "#506784",
            "gridwidth": 2,
            "linecolor": "#506784",
            "showbackground": true,
            "ticks": "",
            "zerolinecolor": "#C8D4E3"
           }
          },
          "shapedefaults": {
           "line": {
            "color": "#f2f5fa"
           }
          },
          "sliderdefaults": {
           "bgcolor": "#C8D4E3",
           "bordercolor": "rgb(17,17,17)",
           "borderwidth": 1,
           "tickwidth": 0
          },
          "ternary": {
           "aaxis": {
            "gridcolor": "#506784",
            "linecolor": "#506784",
            "ticks": ""
           },
           "baxis": {
            "gridcolor": "#506784",
            "linecolor": "#506784",
            "ticks": ""
           },
           "bgcolor": "rgb(17,17,17)",
           "caxis": {
            "gridcolor": "#506784",
            "linecolor": "#506784",
            "ticks": ""
           }
          },
          "title": {
           "x": 0.05
          },
          "updatemenudefaults": {
           "bgcolor": "#506784",
           "borderwidth": 0
          },
          "xaxis": {
           "automargin": true,
           "gridcolor": "#283442",
           "linecolor": "#506784",
           "ticks": "",
           "title": {
            "standoff": 15
           },
           "zerolinecolor": "#283442",
           "zerolinewidth": 2
          },
          "yaxis": {
           "automargin": true,
           "gridcolor": "#283442",
           "linecolor": "#506784",
           "ticks": "",
           "title": {
            "standoff": 15
           },
           "zerolinecolor": "#283442",
           "zerolinewidth": 2
          }
         }
        },
        "xaxis": {
         "anchor": "y",
         "constrain": "domain",
         "domain": [
          0,
          1
         ],
         "scaleanchor": "y",
         "title": {
          "text": "Target"
         }
        },
        "yaxis": {
         "anchor": "x",
         "autorange": "reversed",
         "constrain": "domain",
         "domain": [
          0,
          1
         ],
         "title": {
          "text": "Prediction"
         }
        }
       }
      },
      "text/html": [
       "<div>                            <div id=\"198ed6a1-e224-4c67-8ace-d5d8928d1bfc\" class=\"plotly-graph-div\" style=\"height:525px; width:100%;\"></div>            <script type=\"text/javascript\">                require([\"plotly\"], function(Plotly) {                    window.PLOTLYENV=window.PLOTLYENV || {};                                    if (document.getElementById(\"198ed6a1-e224-4c67-8ace-d5d8928d1bfc\")) {                    Plotly.newPlot(                        \"198ed6a1-e224-4c67-8ace-d5d8928d1bfc\",                        [{\"coloraxis\":\"coloraxis\",\"name\":\"0\",\"texttemplate\":\"%{z}\",\"z\":[[57267,1055,541],[1924,16842,5],[54,0,21312]],\"type\":\"heatmap\",\"xaxis\":\"x\",\"yaxis\":\"y\",\"hovertemplate\":\"x: %{x}<br>y: %{y}<br>color: %{z}<extra></extra>\"}],                        {\"template\":{\"data\":{\"histogram2dcontour\":[{\"type\":\"histogram2dcontour\",\"colorbar\":{\"outlinewidth\":0,\"ticks\":\"\"},\"colorscale\":[[0.0,\"#0d0887\"],[0.1111111111111111,\"#46039f\"],[0.2222222222222222,\"#7201a8\"],[0.3333333333333333,\"#9c179e\"],[0.4444444444444444,\"#bd3786\"],[0.5555555555555556,\"#d8576b\"],[0.6666666666666666,\"#ed7953\"],[0.7777777777777778,\"#fb9f3a\"],[0.8888888888888888,\"#fdca26\"],[1.0,\"#f0f921\"]]}],\"choropleth\":[{\"type\":\"choropleth\",\"colorbar\":{\"outlinewidth\":0,\"ticks\":\"\"}}],\"histogram2d\":[{\"type\":\"histogram2d\",\"colorbar\":{\"outlinewidth\":0,\"ticks\":\"\"},\"colorscale\":[[0.0,\"#0d0887\"],[0.1111111111111111,\"#46039f\"],[0.2222222222222222,\"#7201a8\"],[0.3333333333333333,\"#9c179e\"],[0.4444444444444444,\"#bd3786\"],[0.5555555555555556,\"#d8576b\"],[0.6666666666666666,\"#ed7953\"],[0.7777777777777778,\"#fb9f3a\"],[0.8888888888888888,\"#fdca26\"],[1.0,\"#f0f921\"]]}],\"heatmap\":[{\"type\":\"heatmap\",\"colorbar\":{\"outlinewidth\":0,\"ticks\":\"\"},\"colorscale\":[[0.0,\"#0d0887\"],[0.1111111111111111,\"#46039f\"],[0.2222222222222222,\"#7201a8\"],[0.3333333333333333,\"#9c179e\"],[0.4444444444444444,\"#bd3786\"],[0.5555555555555556,\"#d8576b\"],[0.6666666666666666,\"#ed7953\"],[0.7777777777777778,\"#fb9f3a\"],[0.8888888888888888,\"#fdca26\"],[1.0,\"#f0f921\"]]}],\"heatmapgl\":[{\"type\":\"heatmapgl\",\"colorbar\":{\"outlinewidth\":0,\"ticks\":\"\"},\"colorscale\":[[0.0,\"#0d0887\"],[0.1111111111111111,\"#46039f\"],[0.2222222222222222,\"#7201a8\"],[0.3333333333333333,\"#9c179e\"],[0.4444444444444444,\"#bd3786\"],[0.5555555555555556,\"#d8576b\"],[0.6666666666666666,\"#ed7953\"],[0.7777777777777778,\"#fb9f3a\"],[0.8888888888888888,\"#fdca26\"],[1.0,\"#f0f921\"]]}],\"contourcarpet\":[{\"type\":\"contourcarpet\",\"colorbar\":{\"outlinewidth\":0,\"ticks\":\"\"}}],\"contour\":[{\"type\":\"contour\",\"colorbar\":{\"outlinewidth\":0,\"ticks\":\"\"},\"colorscale\":[[0.0,\"#0d0887\"],[0.1111111111111111,\"#46039f\"],[0.2222222222222222,\"#7201a8\"],[0.3333333333333333,\"#9c179e\"],[0.4444444444444444,\"#bd3786\"],[0.5555555555555556,\"#d8576b\"],[0.6666666666666666,\"#ed7953\"],[0.7777777777777778,\"#fb9f3a\"],[0.8888888888888888,\"#fdca26\"],[1.0,\"#f0f921\"]]}],\"surface\":[{\"type\":\"surface\",\"colorbar\":{\"outlinewidth\":0,\"ticks\":\"\"},\"colorscale\":[[0.0,\"#0d0887\"],[0.1111111111111111,\"#46039f\"],[0.2222222222222222,\"#7201a8\"],[0.3333333333333333,\"#9c179e\"],[0.4444444444444444,\"#bd3786\"],[0.5555555555555556,\"#d8576b\"],[0.6666666666666666,\"#ed7953\"],[0.7777777777777778,\"#fb9f3a\"],[0.8888888888888888,\"#fdca26\"],[1.0,\"#f0f921\"]]}],\"mesh3d\":[{\"type\":\"mesh3d\",\"colorbar\":{\"outlinewidth\":0,\"ticks\":\"\"}}],\"scatter\":[{\"marker\":{\"line\":{\"color\":\"#283442\"}},\"type\":\"scatter\"}],\"parcoords\":[{\"type\":\"parcoords\",\"line\":{\"colorbar\":{\"outlinewidth\":0,\"ticks\":\"\"}}}],\"scatterpolargl\":[{\"type\":\"scatterpolargl\",\"marker\":{\"colorbar\":{\"outlinewidth\":0,\"ticks\":\"\"}}}],\"bar\":[{\"error_x\":{\"color\":\"#f2f5fa\"},\"error_y\":{\"color\":\"#f2f5fa\"},\"marker\":{\"line\":{\"color\":\"rgb(17,17,17)\",\"width\":0.5},\"pattern\":{\"fillmode\":\"overlay\",\"size\":10,\"solidity\":0.2}},\"type\":\"bar\"}],\"scattergeo\":[{\"type\":\"scattergeo\",\"marker\":{\"colorbar\":{\"outlinewidth\":0,\"ticks\":\"\"}}}],\"scatterpolar\":[{\"type\":\"scatterpolar\",\"marker\":{\"colorbar\":{\"outlinewidth\":0,\"ticks\":\"\"}}}],\"histogram\":[{\"marker\":{\"pattern\":{\"fillmode\":\"overlay\",\"size\":10,\"solidity\":0.2}},\"type\":\"histogram\"}],\"scattergl\":[{\"marker\":{\"line\":{\"color\":\"#283442\"}},\"type\":\"scattergl\"}],\"scatter3d\":[{\"type\":\"scatter3d\",\"line\":{\"colorbar\":{\"outlinewidth\":0,\"ticks\":\"\"}},\"marker\":{\"colorbar\":{\"outlinewidth\":0,\"ticks\":\"\"}}}],\"scattermapbox\":[{\"type\":\"scattermapbox\",\"marker\":{\"colorbar\":{\"outlinewidth\":0,\"ticks\":\"\"}}}],\"scatterternary\":[{\"type\":\"scatterternary\",\"marker\":{\"colorbar\":{\"outlinewidth\":0,\"ticks\":\"\"}}}],\"scattercarpet\":[{\"type\":\"scattercarpet\",\"marker\":{\"colorbar\":{\"outlinewidth\":0,\"ticks\":\"\"}}}],\"carpet\":[{\"aaxis\":{\"endlinecolor\":\"#A2B1C6\",\"gridcolor\":\"#506784\",\"linecolor\":\"#506784\",\"minorgridcolor\":\"#506784\",\"startlinecolor\":\"#A2B1C6\"},\"baxis\":{\"endlinecolor\":\"#A2B1C6\",\"gridcolor\":\"#506784\",\"linecolor\":\"#506784\",\"minorgridcolor\":\"#506784\",\"startlinecolor\":\"#A2B1C6\"},\"type\":\"carpet\"}],\"table\":[{\"cells\":{\"fill\":{\"color\":\"#506784\"},\"line\":{\"color\":\"rgb(17,17,17)\"}},\"header\":{\"fill\":{\"color\":\"#2a3f5f\"},\"line\":{\"color\":\"rgb(17,17,17)\"}},\"type\":\"table\"}],\"barpolar\":[{\"marker\":{\"line\":{\"color\":\"rgb(17,17,17)\",\"width\":0.5},\"pattern\":{\"fillmode\":\"overlay\",\"size\":10,\"solidity\":0.2}},\"type\":\"barpolar\"}],\"pie\":[{\"automargin\":true,\"type\":\"pie\"}]},\"layout\":{\"autotypenumbers\":\"strict\",\"colorway\":[\"#636efa\",\"#EF553B\",\"#00cc96\",\"#ab63fa\",\"#FFA15A\",\"#19d3f3\",\"#FF6692\",\"#B6E880\",\"#FF97FF\",\"#FECB52\"],\"font\":{\"color\":\"#f2f5fa\"},\"hovermode\":\"closest\",\"hoverlabel\":{\"align\":\"left\"},\"paper_bgcolor\":\"rgb(17,17,17)\",\"plot_bgcolor\":\"rgb(17,17,17)\",\"polar\":{\"bgcolor\":\"rgb(17,17,17)\",\"angularaxis\":{\"gridcolor\":\"#506784\",\"linecolor\":\"#506784\",\"ticks\":\"\"},\"radialaxis\":{\"gridcolor\":\"#506784\",\"linecolor\":\"#506784\",\"ticks\":\"\"}},\"ternary\":{\"bgcolor\":\"rgb(17,17,17)\",\"aaxis\":{\"gridcolor\":\"#506784\",\"linecolor\":\"#506784\",\"ticks\":\"\"},\"baxis\":{\"gridcolor\":\"#506784\",\"linecolor\":\"#506784\",\"ticks\":\"\"},\"caxis\":{\"gridcolor\":\"#506784\",\"linecolor\":\"#506784\",\"ticks\":\"\"}},\"coloraxis\":{\"colorbar\":{\"outlinewidth\":0,\"ticks\":\"\"}},\"colorscale\":{\"sequential\":[[0.0,\"#0d0887\"],[0.1111111111111111,\"#46039f\"],[0.2222222222222222,\"#7201a8\"],[0.3333333333333333,\"#9c179e\"],[0.4444444444444444,\"#bd3786\"],[0.5555555555555556,\"#d8576b\"],[0.6666666666666666,\"#ed7953\"],[0.7777777777777778,\"#fb9f3a\"],[0.8888888888888888,\"#fdca26\"],[1.0,\"#f0f921\"]],\"sequentialminus\":[[0.0,\"#0d0887\"],[0.1111111111111111,\"#46039f\"],[0.2222222222222222,\"#7201a8\"],[0.3333333333333333,\"#9c179e\"],[0.4444444444444444,\"#bd3786\"],[0.5555555555555556,\"#d8576b\"],[0.6666666666666666,\"#ed7953\"],[0.7777777777777778,\"#fb9f3a\"],[0.8888888888888888,\"#fdca26\"],[1.0,\"#f0f921\"]],\"diverging\":[[0,\"#8e0152\"],[0.1,\"#c51b7d\"],[0.2,\"#de77ae\"],[0.3,\"#f1b6da\"],[0.4,\"#fde0ef\"],[0.5,\"#f7f7f7\"],[0.6,\"#e6f5d0\"],[0.7,\"#b8e186\"],[0.8,\"#7fbc41\"],[0.9,\"#4d9221\"],[1,\"#276419\"]]},\"xaxis\":{\"gridcolor\":\"#283442\",\"linecolor\":\"#506784\",\"ticks\":\"\",\"title\":{\"standoff\":15},\"zerolinecolor\":\"#283442\",\"automargin\":true,\"zerolinewidth\":2},\"yaxis\":{\"gridcolor\":\"#283442\",\"linecolor\":\"#506784\",\"ticks\":\"\",\"title\":{\"standoff\":15},\"zerolinecolor\":\"#283442\",\"automargin\":true,\"zerolinewidth\":2},\"scene\":{\"xaxis\":{\"backgroundcolor\":\"rgb(17,17,17)\",\"gridcolor\":\"#506784\",\"linecolor\":\"#506784\",\"showbackground\":true,\"ticks\":\"\",\"zerolinecolor\":\"#C8D4E3\",\"gridwidth\":2},\"yaxis\":{\"backgroundcolor\":\"rgb(17,17,17)\",\"gridcolor\":\"#506784\",\"linecolor\":\"#506784\",\"showbackground\":true,\"ticks\":\"\",\"zerolinecolor\":\"#C8D4E3\",\"gridwidth\":2},\"zaxis\":{\"backgroundcolor\":\"rgb(17,17,17)\",\"gridcolor\":\"#506784\",\"linecolor\":\"#506784\",\"showbackground\":true,\"ticks\":\"\",\"zerolinecolor\":\"#C8D4E3\",\"gridwidth\":2}},\"shapedefaults\":{\"line\":{\"color\":\"#f2f5fa\"}},\"annotationdefaults\":{\"arrowcolor\":\"#f2f5fa\",\"arrowhead\":0,\"arrowwidth\":1},\"geo\":{\"bgcolor\":\"rgb(17,17,17)\",\"landcolor\":\"rgb(17,17,17)\",\"subunitcolor\":\"#506784\",\"showland\":true,\"showlakes\":true,\"lakecolor\":\"rgb(17,17,17)\"},\"title\":{\"x\":0.05},\"updatemenudefaults\":{\"bgcolor\":\"#506784\",\"borderwidth\":0},\"sliderdefaults\":{\"bgcolor\":\"#C8D4E3\",\"borderwidth\":1,\"bordercolor\":\"rgb(17,17,17)\",\"tickwidth\":0},\"mapbox\":{\"style\":\"dark\"}}},\"xaxis\":{\"anchor\":\"y\",\"domain\":[0.0,1.0],\"scaleanchor\":\"y\",\"constrain\":\"domain\",\"title\":{\"text\":\"Target\"}},\"yaxis\":{\"anchor\":\"x\",\"domain\":[0.0,1.0],\"autorange\":\"reversed\",\"constrain\":\"domain\",\"title\":{\"text\":\"Prediction\"}},\"coloraxis\":{\"colorscale\":[[0.0,\"#0d0887\"],[0.1111111111111111,\"#46039f\"],[0.2222222222222222,\"#7201a8\"],[0.3333333333333333,\"#9c179e\"],[0.4444444444444444,\"#bd3786\"],[0.5555555555555556,\"#d8576b\"],[0.6666666666666666,\"#ed7953\"],[0.7777777777777778,\"#fb9f3a\"],[0.8888888888888888,\"#fdca26\"],[1.0,\"#f0f921\"]]},\"margin\":{\"t\":60}},                        {\"responsive\": true}                    ).then(function(){\n",
       "                            \n",
       "var gd = document.getElementById('198ed6a1-e224-4c67-8ace-d5d8928d1bfc');\n",
       "var x = new MutationObserver(function (mutations, observer) {{\n",
       "        var display = window.getComputedStyle(gd).display;\n",
       "        if (!display || display === 'none') {{\n",
       "            console.log([gd, 'removed!']);\n",
       "            Plotly.purge(gd);\n",
       "            observer.disconnect();\n",
       "        }}\n",
       "}});\n",
       "\n",
       "// Listen for the removal of the full notebook cells\n",
       "var notebookContainer = gd.closest('#notebook-container');\n",
       "if (notebookContainer) {{\n",
       "    x.observe(notebookContainer, {childList: true});\n",
       "}}\n",
       "\n",
       "// Listen for the clearing of the current output cell\n",
       "var outputEl = gd.closest('.output');\n",
       "if (outputEl) {{\n",
       "    x.observe(outputEl, {childList: true});\n",
       "}}\n",
       "\n",
       "                        })                };                });            </script>        </div>"
      ]
     },
     "metadata": {},
     "output_type": "display_data"
    }
   ],
   "source": [
    "@score_for('XGBoosting GPU', 'test')\n",
    "@time_for('XGBoosting GPU', 'test')\n",
    "def test_xgb_gpu():\n",
    "    return f1_score(xgb_gpu_y_test, y_test, average='macro')\n",
    "\n",
    "print(\n",
    "    \"F1-мера для тренировочных данных с помощью \"\n",
    "    \"XGBClassifier на GPU:\", test_xgb_gpu(),\n",
    ")\n",
    "draw_conf_matrix(y_test, xgb_gpu_y_test)"
   ]
  },
  {
   "cell_type": "markdown",
   "metadata": {},
   "source": [
    "## Задание 4\n",
    "\n",
    "Сравнить результаты работы алгоритмов (время работы и качество моделей).\n",
    "Сделать выводы.\n"
   ]
  },
  {
   "cell_type": "code",
   "execution_count": 90,
   "metadata": {},
   "outputs": [
    {
     "data": {
      "text/html": [
       "<div>\n",
       "<style scoped>\n",
       "    .dataframe tbody tr th:only-of-type {\n",
       "        vertical-align: middle;\n",
       "    }\n",
       "\n",
       "    .dataframe tbody tr th {\n",
       "        vertical-align: top;\n",
       "    }\n",
       "\n",
       "    .dataframe thead th {\n",
       "        text-align: right;\n",
       "    }\n",
       "</style>\n",
       "<table border=\"1\" class=\"dataframe\">\n",
       "  <thead>\n",
       "    <tr style=\"text-align: right;\">\n",
       "      <th></th>\n",
       "      <th>Метод</th>\n",
       "      <th>Время</th>\n",
       "      <th>Счет</th>\n",
       "    </tr>\n",
       "    <tr>\n",
       "      <th>Тип анс. обучения</th>\n",
       "      <th></th>\n",
       "      <th></th>\n",
       "      <th></th>\n",
       "    </tr>\n",
       "  </thead>\n",
       "  <tbody>\n",
       "    <tr>\n",
       "      <th>DecisionTree</th>\n",
       "      <td>predict</td>\n",
       "      <td>7.366282</td>\n",
       "      <td>—</td>\n",
       "    </tr>\n",
       "    <tr>\n",
       "      <th>DecisionTree</th>\n",
       "      <td>train</td>\n",
       "      <td>0.001177</td>\n",
       "      <td>0.967628</td>\n",
       "    </tr>\n",
       "    <tr>\n",
       "      <th>DecisionTree</th>\n",
       "      <td>test</td>\n",
       "      <td>0.037815</td>\n",
       "      <td>0.933213</td>\n",
       "    </tr>\n",
       "    <tr>\n",
       "      <th>Bagging</th>\n",
       "      <td>predict</td>\n",
       "      <td>29.935607</td>\n",
       "      <td>—</td>\n",
       "    </tr>\n",
       "    <tr>\n",
       "      <th>Bagging</th>\n",
       "      <td>train</td>\n",
       "      <td>0.001767</td>\n",
       "      <td>0.997673</td>\n",
       "    </tr>\n",
       "    <tr>\n",
       "      <th>Bagging</th>\n",
       "      <td>test</td>\n",
       "      <td>0.048112</td>\n",
       "      <td>0.961671</td>\n",
       "    </tr>\n",
       "    <tr>\n",
       "      <th>Random Forest</th>\n",
       "      <td>predict</td>\n",
       "      <td>179.286113</td>\n",
       "      <td>—</td>\n",
       "    </tr>\n",
       "    <tr>\n",
       "      <th>Random Forest</th>\n",
       "      <td>train</td>\n",
       "      <td>0.001453</td>\n",
       "      <td>1.0</td>\n",
       "    </tr>\n",
       "    <tr>\n",
       "      <th>Random Forest</th>\n",
       "      <td>test</td>\n",
       "      <td>0.0384</td>\n",
       "      <td>0.957593</td>\n",
       "    </tr>\n",
       "    <tr>\n",
       "      <th>CatBoosting CPU</th>\n",
       "      <td>predict</td>\n",
       "      <td>8.388958</td>\n",
       "      <td>—</td>\n",
       "    </tr>\n",
       "    <tr>\n",
       "      <th>CatBoosting CPU</th>\n",
       "      <td>train</td>\n",
       "      <td>0.002325</td>\n",
       "      <td>1.0</td>\n",
       "    </tr>\n",
       "    <tr>\n",
       "      <th>CatBoosting CPU</th>\n",
       "      <td>test</td>\n",
       "      <td>0.037867</td>\n",
       "      <td>0.961009</td>\n",
       "    </tr>\n",
       "    <tr>\n",
       "      <th>CatBoosting GPU</th>\n",
       "      <td>predict</td>\n",
       "      <td>12.971273</td>\n",
       "      <td>—</td>\n",
       "    </tr>\n",
       "    <tr>\n",
       "      <th>CatBoosting GPU</th>\n",
       "      <td>train</td>\n",
       "      <td>0.001333</td>\n",
       "      <td>1.0</td>\n",
       "    </tr>\n",
       "    <tr>\n",
       "      <th>CatBoosting GPU</th>\n",
       "      <td>test</td>\n",
       "      <td>0.038721</td>\n",
       "      <td>0.960461</td>\n",
       "    </tr>\n",
       "    <tr>\n",
       "      <th>Gradient Boosting</th>\n",
       "      <td>predict</td>\n",
       "      <td>1.2529</td>\n",
       "      <td>—</td>\n",
       "    </tr>\n",
       "    <tr>\n",
       "      <th>Gradient Boosting</th>\n",
       "      <td>train</td>\n",
       "      <td>0.001411</td>\n",
       "      <td>0.998838</td>\n",
       "    </tr>\n",
       "    <tr>\n",
       "      <th>Gradient Boosting</th>\n",
       "      <td>test</td>\n",
       "      <td>0.038036</td>\n",
       "      <td>0.960839</td>\n",
       "    </tr>\n",
       "    <tr>\n",
       "      <th>Hist Gradient Boosting</th>\n",
       "      <td>predict</td>\n",
       "      <td>20.3281</td>\n",
       "      <td>—</td>\n",
       "    </tr>\n",
       "    <tr>\n",
       "      <th>Hist Gradient Boosting</th>\n",
       "      <td>train</td>\n",
       "      <td>0.001765</td>\n",
       "      <td>1.0</td>\n",
       "    </tr>\n",
       "    <tr>\n",
       "      <th>Hist Gradient Boosting</th>\n",
       "      <td>test</td>\n",
       "      <td>0.039406</td>\n",
       "      <td>0.956679</td>\n",
       "    </tr>\n",
       "    <tr>\n",
       "      <th>XGBoosting CPU</th>\n",
       "      <td>predict</td>\n",
       "      <td>0.327757</td>\n",
       "      <td>—</td>\n",
       "    </tr>\n",
       "    <tr>\n",
       "      <th>XGBoosting CPU</th>\n",
       "      <td>train</td>\n",
       "      <td>0.00192</td>\n",
       "      <td>1.0</td>\n",
       "    </tr>\n",
       "    <tr>\n",
       "      <th>XGBoosting CPU</th>\n",
       "      <td>test</td>\n",
       "      <td>0.037832</td>\n",
       "      <td>0.959444</td>\n",
       "    </tr>\n",
       "    <tr>\n",
       "      <th>XGBoosting GPU</th>\n",
       "      <td>predict</td>\n",
       "      <td>3.526422</td>\n",
       "      <td>—</td>\n",
       "    </tr>\n",
       "    <tr>\n",
       "      <th>XGBoosting GPU</th>\n",
       "      <td>train</td>\n",
       "      <td>0.001701</td>\n",
       "      <td>1.0</td>\n",
       "    </tr>\n",
       "    <tr>\n",
       "      <th>XGBoosting GPU</th>\n",
       "      <td>test</td>\n",
       "      <td>0.037974</td>\n",
       "      <td>0.95816</td>\n",
       "    </tr>\n",
       "  </tbody>\n",
       "</table>\n",
       "</div>"
      ],
      "text/plain": [
       "                          Метод       Время      Счет\n",
       "Тип анс. обучения                                    \n",
       "DecisionTree            predict    7.366282         —\n",
       "DecisionTree              train    0.001177  0.967628\n",
       "DecisionTree               test    0.037815  0.933213\n",
       "Bagging                 predict   29.935607         —\n",
       "Bagging                   train    0.001767  0.997673\n",
       "Bagging                    test    0.048112  0.961671\n",
       "Random Forest           predict  179.286113         —\n",
       "Random Forest             train    0.001453       1.0\n",
       "Random Forest              test      0.0384  0.957593\n",
       "CatBoosting CPU         predict    8.388958         —\n",
       "CatBoosting CPU           train    0.002325       1.0\n",
       "CatBoosting CPU            test    0.037867  0.961009\n",
       "CatBoosting GPU         predict   12.971273         —\n",
       "CatBoosting GPU           train    0.001333       1.0\n",
       "CatBoosting GPU            test    0.038721  0.960461\n",
       "Gradient Boosting       predict      1.2529         —\n",
       "Gradient Boosting         train    0.001411  0.998838\n",
       "Gradient Boosting          test    0.038036  0.960839\n",
       "Hist Gradient Boosting  predict     20.3281         —\n",
       "Hist Gradient Boosting    train    0.001765       1.0\n",
       "Hist Gradient Boosting     test    0.039406  0.956679\n",
       "XGBoosting CPU          predict    0.327757         —\n",
       "XGBoosting CPU            train     0.00192       1.0\n",
       "XGBoosting CPU             test    0.037832  0.959444\n",
       "XGBoosting GPU          predict    3.526422         —\n",
       "XGBoosting GPU            train    0.001701       1.0\n",
       "XGBoosting GPU             test    0.037974   0.95816"
      ]
     },
     "execution_count": 90,
     "metadata": {},
     "output_type": "execute_result"
    }
   ],
   "source": [
    "results"
   ]
  }
 ],
 "metadata": {
  "kernelspec": {
   "display_name": "Python 3 (ipykernel)",
   "language": "python",
   "name": "python3"
  },
  "language_info": {
   "codemirror_mode": {
    "name": "ipython",
    "version": 3
   },
   "file_extension": ".py",
   "mimetype": "text/x-python",
   "name": "python",
   "nbconvert_exporter": "python",
   "pygments_lexer": "ipython3",
   "version": "3.10.8"
  }
 },
 "nbformat": 4,
 "nbformat_minor": 1
}
